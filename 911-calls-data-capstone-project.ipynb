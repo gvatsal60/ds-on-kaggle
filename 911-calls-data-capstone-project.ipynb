{
 "cells": [
  {
   "cell_type": "markdown",
   "id": "3147dda7",
   "metadata": {
    "papermill": {
     "duration": 0.009846,
     "end_time": "2025-06-07T13:55:48.161830",
     "exception": false,
     "start_time": "2025-06-07T13:55:48.151984",
     "status": "completed"
    },
    "tags": []
   },
   "source": [
    "# 911 Calls Capstone Project"
   ]
  },
  {
   "cell_type": "markdown",
   "id": "2f8152d3",
   "metadata": {
    "papermill": {
     "duration": 0.008161,
     "end_time": "2025-06-07T13:55:48.178951",
     "exception": false,
     "start_time": "2025-06-07T13:55:48.170790",
     "status": "completed"
    },
    "tags": []
   },
   "source": [
    "For this capstone project we will be analyzing some 911 call data from [Kaggle](https://www.kaggle.com/mchirico/montcoalert). The data contains the following fields:\n",
    "\n",
    "* lat : String variable, Latitude\n",
    "* lng: String variable, Longitude\n",
    "* desc: String variable, Description of the Emergency Call\n",
    "* zip: String variable, Zipcode\n",
    "* title: String variable, Title\n",
    "* timeStamp: String variable, YYYY-MM-DD HH:MM:SS\n",
    "* twp: String variable, Township\n",
    "* addr: String variable, Address\n",
    "* e: String variable, Dummy variable (always 1)\n",
    "\n",
    "Just go along with this notebook and try to complete the instructions or answer the questions in bold using your Python and Data Science skills!"
   ]
  },
  {
   "cell_type": "markdown",
   "id": "ff03ac60",
   "metadata": {
    "papermill": {
     "duration": 0.008104,
     "end_time": "2025-06-07T13:55:48.195821",
     "exception": false,
     "start_time": "2025-06-07T13:55:48.187717",
     "status": "completed"
    },
    "tags": []
   },
   "source": [
    "## Data and Setup"
   ]
  },
  {
   "cell_type": "markdown",
   "id": "d59853e4",
   "metadata": {
    "papermill": {
     "duration": 0.008073,
     "end_time": "2025-06-07T13:55:48.212233",
     "exception": false,
     "start_time": "2025-06-07T13:55:48.204160",
     "status": "completed"
    },
    "tags": []
   },
   "source": [
    "____\n",
    "** Import numpy and pandas **"
   ]
  },
  {
   "cell_type": "code",
   "execution_count": 1,
   "id": "6ae43e18",
   "metadata": {
    "execution": {
     "iopub.execute_input": "2025-06-07T13:55:48.231861Z",
     "iopub.status.busy": "2025-06-07T13:55:48.231521Z",
     "iopub.status.idle": "2025-06-07T13:55:50.175516Z",
     "shell.execute_reply": "2025-06-07T13:55:50.174533Z"
    },
    "papermill": {
     "duration": 1.95578,
     "end_time": "2025-06-07T13:55:50.177671",
     "exception": false,
     "start_time": "2025-06-07T13:55:48.221891",
     "status": "completed"
    },
    "tags": []
   },
   "outputs": [],
   "source": [
    "import numpy as np\n",
    "import pandas as pd"
   ]
  },
  {
   "cell_type": "markdown",
   "id": "0e3ba16c",
   "metadata": {
    "papermill": {
     "duration": 0.008314,
     "end_time": "2025-06-07T13:55:50.194647",
     "exception": false,
     "start_time": "2025-06-07T13:55:50.186333",
     "status": "completed"
    },
    "tags": []
   },
   "source": [
    "** Import visualization libraries and set %matplotlib inline. **"
   ]
  },
  {
   "cell_type": "code",
   "execution_count": 2,
   "id": "a17a5287",
   "metadata": {
    "collapsed": false,
    "execution": {
     "iopub.execute_input": "2025-06-07T13:55:50.213598Z",
     "iopub.status.busy": "2025-06-07T13:55:50.213077Z",
     "iopub.status.idle": "2025-06-07T13:55:52.249960Z",
     "shell.execute_reply": "2025-06-07T13:55:52.248940Z"
    },
    "jupyter": {
     "outputs_hidden": false
    },
    "papermill": {
     "duration": 2.048458,
     "end_time": "2025-06-07T13:55:52.251939",
     "exception": false,
     "start_time": "2025-06-07T13:55:50.203481",
     "status": "completed"
    },
    "tags": []
   },
   "outputs": [],
   "source": [
    "import matplotlib.pyplot as plt\n",
    "import seaborn as sns\n",
    "sns.set_style('whitegrid')\n",
    "%matplotlib inline"
   ]
  },
  {
   "cell_type": "markdown",
   "id": "6ffc113c",
   "metadata": {
    "papermill": {
     "duration": 0.009051,
     "end_time": "2025-06-07T13:55:52.269634",
     "exception": false,
     "start_time": "2025-06-07T13:55:52.260583",
     "status": "completed"
    },
    "tags": []
   },
   "source": [
    "** Read in the csv file as a dataframe called df **"
   ]
  },
  {
   "cell_type": "code",
   "execution_count": 3,
   "id": "73beef72",
   "metadata": {
    "execution": {
     "iopub.execute_input": "2025-06-07T13:55:52.287282Z",
     "iopub.status.busy": "2025-06-07T13:55:52.286825Z",
     "iopub.status.idle": "2025-06-07T13:55:52.990212Z",
     "shell.execute_reply": "2025-06-07T13:55:52.989111Z"
    },
    "papermill": {
     "duration": 0.714353,
     "end_time": "2025-06-07T13:55:52.992151",
     "exception": false,
     "start_time": "2025-06-07T13:55:52.277798",
     "status": "completed"
    },
    "tags": []
   },
   "outputs": [],
   "source": [
    "csv_path='/kaggle/input/911-calls-data/911.csv'\n",
    "df = pd.read_csv(csv_path)"
   ]
  },
  {
   "cell_type": "markdown",
   "id": "a279d5da",
   "metadata": {
    "papermill": {
     "duration": 0.007736,
     "end_time": "2025-06-07T13:55:53.008101",
     "exception": false,
     "start_time": "2025-06-07T13:55:53.000365",
     "status": "completed"
    },
    "tags": []
   },
   "source": [
    "** Check the info() of the df **"
   ]
  },
  {
   "cell_type": "code",
   "execution_count": 4,
   "id": "48d3b670",
   "metadata": {
    "collapsed": false,
    "execution": {
     "iopub.execute_input": "2025-06-07T13:55:53.025882Z",
     "iopub.status.busy": "2025-06-07T13:55:53.025481Z",
     "iopub.status.idle": "2025-06-07T13:55:53.086230Z",
     "shell.execute_reply": "2025-06-07T13:55:53.084926Z"
    },
    "jupyter": {
     "outputs_hidden": false
    },
    "papermill": {
     "duration": 0.072239,
     "end_time": "2025-06-07T13:55:53.088391",
     "exception": false,
     "start_time": "2025-06-07T13:55:53.016152",
     "status": "completed"
    },
    "tags": []
   },
   "outputs": [
    {
     "name": "stdout",
     "output_type": "stream",
     "text": [
      "<class 'pandas.core.frame.DataFrame'>\n",
      "RangeIndex: 99492 entries, 0 to 99491\n",
      "Data columns (total 9 columns):\n",
      " #   Column     Non-Null Count  Dtype  \n",
      "---  ------     --------------  -----  \n",
      " 0   lat        99492 non-null  float64\n",
      " 1   lng        99492 non-null  float64\n",
      " 2   desc       99492 non-null  object \n",
      " 3   zip        86637 non-null  float64\n",
      " 4   title      99492 non-null  object \n",
      " 5   timeStamp  99492 non-null  object \n",
      " 6   twp        99449 non-null  object \n",
      " 7   addr       98973 non-null  object \n",
      " 8   e          99492 non-null  int64  \n",
      "dtypes: float64(3), int64(1), object(5)\n",
      "memory usage: 6.8+ MB\n"
     ]
    }
   ],
   "source": [
    "df.info()"
   ]
  },
  {
   "cell_type": "markdown",
   "id": "5a28b18b",
   "metadata": {
    "collapsed": false,
    "jupyter": {
     "outputs_hidden": false
    },
    "papermill": {
     "duration": 0.008175,
     "end_time": "2025-06-07T13:55:53.106221",
     "exception": false,
     "start_time": "2025-06-07T13:55:53.098046",
     "status": "completed"
    },
    "tags": []
   },
   "source": [
    "** Check the head of df **"
   ]
  },
  {
   "cell_type": "code",
   "execution_count": 5,
   "id": "58765bf7",
   "metadata": {
    "collapsed": false,
    "execution": {
     "iopub.execute_input": "2025-06-07T13:55:53.125029Z",
     "iopub.status.busy": "2025-06-07T13:55:53.124702Z",
     "iopub.status.idle": "2025-06-07T13:55:53.150877Z",
     "shell.execute_reply": "2025-06-07T13:55:53.149815Z"
    },
    "jupyter": {
     "outputs_hidden": false
    },
    "papermill": {
     "duration": 0.037764,
     "end_time": "2025-06-07T13:55:53.152641",
     "exception": false,
     "start_time": "2025-06-07T13:55:53.114877",
     "status": "completed"
    },
    "tags": []
   },
   "outputs": [
    {
     "data": {
      "text/html": [
       "<div>\n",
       "<style scoped>\n",
       "    .dataframe tbody tr th:only-of-type {\n",
       "        vertical-align: middle;\n",
       "    }\n",
       "\n",
       "    .dataframe tbody tr th {\n",
       "        vertical-align: top;\n",
       "    }\n",
       "\n",
       "    .dataframe thead th {\n",
       "        text-align: right;\n",
       "    }\n",
       "</style>\n",
       "<table border=\"1\" class=\"dataframe\">\n",
       "  <thead>\n",
       "    <tr style=\"text-align: right;\">\n",
       "      <th></th>\n",
       "      <th>lat</th>\n",
       "      <th>lng</th>\n",
       "      <th>desc</th>\n",
       "      <th>zip</th>\n",
       "      <th>title</th>\n",
       "      <th>timeStamp</th>\n",
       "      <th>twp</th>\n",
       "      <th>addr</th>\n",
       "      <th>e</th>\n",
       "    </tr>\n",
       "  </thead>\n",
       "  <tbody>\n",
       "    <tr>\n",
       "      <th>0</th>\n",
       "      <td>40.297876</td>\n",
       "      <td>-75.581294</td>\n",
       "      <td>REINDEER CT &amp; DEAD END;  NEW HANOVER; Station ...</td>\n",
       "      <td>19525.0</td>\n",
       "      <td>EMS: BACK PAINS/INJURY</td>\n",
       "      <td>2015-12-10 17:40:00</td>\n",
       "      <td>NEW HANOVER</td>\n",
       "      <td>REINDEER CT &amp; DEAD END</td>\n",
       "      <td>1</td>\n",
       "    </tr>\n",
       "    <tr>\n",
       "      <th>1</th>\n",
       "      <td>40.258061</td>\n",
       "      <td>-75.264680</td>\n",
       "      <td>BRIAR PATH &amp; WHITEMARSH LN;  HATFIELD TOWNSHIP...</td>\n",
       "      <td>19446.0</td>\n",
       "      <td>EMS: DIABETIC EMERGENCY</td>\n",
       "      <td>2015-12-10 17:40:00</td>\n",
       "      <td>HATFIELD TOWNSHIP</td>\n",
       "      <td>BRIAR PATH &amp; WHITEMARSH LN</td>\n",
       "      <td>1</td>\n",
       "    </tr>\n",
       "    <tr>\n",
       "      <th>2</th>\n",
       "      <td>40.121182</td>\n",
       "      <td>-75.351975</td>\n",
       "      <td>HAWS AVE; NORRISTOWN; 2015-12-10 @ 14:39:21-St...</td>\n",
       "      <td>19401.0</td>\n",
       "      <td>Fire: GAS-ODOR/LEAK</td>\n",
       "      <td>2015-12-10 17:40:00</td>\n",
       "      <td>NORRISTOWN</td>\n",
       "      <td>HAWS AVE</td>\n",
       "      <td>1</td>\n",
       "    </tr>\n",
       "  </tbody>\n",
       "</table>\n",
       "</div>"
      ],
      "text/plain": [
       "         lat        lng                                               desc  \\\n",
       "0  40.297876 -75.581294  REINDEER CT & DEAD END;  NEW HANOVER; Station ...   \n",
       "1  40.258061 -75.264680  BRIAR PATH & WHITEMARSH LN;  HATFIELD TOWNSHIP...   \n",
       "2  40.121182 -75.351975  HAWS AVE; NORRISTOWN; 2015-12-10 @ 14:39:21-St...   \n",
       "\n",
       "       zip                    title            timeStamp                twp  \\\n",
       "0  19525.0   EMS: BACK PAINS/INJURY  2015-12-10 17:40:00        NEW HANOVER   \n",
       "1  19446.0  EMS: DIABETIC EMERGENCY  2015-12-10 17:40:00  HATFIELD TOWNSHIP   \n",
       "2  19401.0      Fire: GAS-ODOR/LEAK  2015-12-10 17:40:00         NORRISTOWN   \n",
       "\n",
       "                         addr  e  \n",
       "0      REINDEER CT & DEAD END  1  \n",
       "1  BRIAR PATH & WHITEMARSH LN  1  \n",
       "2                    HAWS AVE  1  "
      ]
     },
     "execution_count": 5,
     "metadata": {},
     "output_type": "execute_result"
    }
   ],
   "source": [
    "df.head(3)"
   ]
  },
  {
   "cell_type": "markdown",
   "id": "88446846",
   "metadata": {
    "papermill": {
     "duration": 0.009138,
     "end_time": "2025-06-07T13:55:53.171025",
     "exception": false,
     "start_time": "2025-06-07T13:55:53.161887",
     "status": "completed"
    },
    "tags": []
   },
   "source": [
    "## Basic Questions"
   ]
  },
  {
   "cell_type": "markdown",
   "id": "33936427",
   "metadata": {
    "papermill": {
     "duration": 0.008215,
     "end_time": "2025-06-07T13:55:53.188027",
     "exception": false,
     "start_time": "2025-06-07T13:55:53.179812",
     "status": "completed"
    },
    "tags": []
   },
   "source": [
    "** What are the top 5 zipcodes for 911 calls? **"
   ]
  },
  {
   "cell_type": "code",
   "execution_count": 6,
   "id": "28eb50f5",
   "metadata": {
    "collapsed": false,
    "execution": {
     "iopub.execute_input": "2025-06-07T13:55:53.206554Z",
     "iopub.status.busy": "2025-06-07T13:55:53.206188Z",
     "iopub.status.idle": "2025-06-07T13:55:53.217183Z",
     "shell.execute_reply": "2025-06-07T13:55:53.216193Z"
    },
    "jupyter": {
     "outputs_hidden": false
    },
    "papermill": {
     "duration": 0.022163,
     "end_time": "2025-06-07T13:55:53.218823",
     "exception": false,
     "start_time": "2025-06-07T13:55:53.196660",
     "status": "completed"
    },
    "tags": []
   },
   "outputs": [
    {
     "data": {
      "text/plain": [
       "zip\n",
       "19401.0    6979\n",
       "19464.0    6643\n",
       "19403.0    4854\n",
       "19446.0    4748\n",
       "19406.0    3174\n",
       "Name: count, dtype: int64"
      ]
     },
     "execution_count": 6,
     "metadata": {},
     "output_type": "execute_result"
    }
   ],
   "source": [
    "df['zip'].value_counts().head(5)"
   ]
  },
  {
   "cell_type": "markdown",
   "id": "41495c68",
   "metadata": {
    "papermill": {
     "duration": 0.075397,
     "end_time": "2025-06-07T13:55:53.304110",
     "exception": false,
     "start_time": "2025-06-07T13:55:53.228713",
     "status": "completed"
    },
    "tags": []
   },
   "source": [
    "** What are the top 5 townships (twp) for 911 calls? **"
   ]
  },
  {
   "cell_type": "code",
   "execution_count": 7,
   "id": "152ab5e5",
   "metadata": {
    "collapsed": false,
    "execution": {
     "iopub.execute_input": "2025-06-07T13:55:53.323346Z",
     "iopub.status.busy": "2025-06-07T13:55:53.322902Z",
     "iopub.status.idle": "2025-06-07T13:55:53.338276Z",
     "shell.execute_reply": "2025-06-07T13:55:53.337167Z"
    },
    "jupyter": {
     "outputs_hidden": false
    },
    "papermill": {
     "duration": 0.027073,
     "end_time": "2025-06-07T13:55:53.339976",
     "exception": false,
     "start_time": "2025-06-07T13:55:53.312903",
     "status": "completed"
    },
    "tags": []
   },
   "outputs": [
    {
     "data": {
      "text/plain": [
       "twp\n",
       "LOWER MERION    8443\n",
       "ABINGTON        5977\n",
       "NORRISTOWN      5890\n",
       "UPPER MERION    5227\n",
       "CHELTENHAM      4575\n",
       "Name: count, dtype: int64"
      ]
     },
     "execution_count": 7,
     "metadata": {},
     "output_type": "execute_result"
    }
   ],
   "source": [
    "df['twp'].value_counts().head(5)"
   ]
  },
  {
   "cell_type": "markdown",
   "id": "1c1d2e4c",
   "metadata": {
    "papermill": {
     "duration": 0.009135,
     "end_time": "2025-06-07T13:55:53.358677",
     "exception": false,
     "start_time": "2025-06-07T13:55:53.349542",
     "status": "completed"
    },
    "tags": []
   },
   "source": [
    "** Take a look at the 'title' column, how many unique title codes are there? **"
   ]
  },
  {
   "cell_type": "code",
   "execution_count": 8,
   "id": "eb98abed",
   "metadata": {
    "collapsed": false,
    "execution": {
     "iopub.execute_input": "2025-06-07T13:55:53.379417Z",
     "iopub.status.busy": "2025-06-07T13:55:53.379037Z",
     "iopub.status.idle": "2025-06-07T13:55:53.392524Z",
     "shell.execute_reply": "2025-06-07T13:55:53.391609Z"
    },
    "jupyter": {
     "outputs_hidden": false
    },
    "papermill": {
     "duration": 0.026268,
     "end_time": "2025-06-07T13:55:53.394151",
     "exception": false,
     "start_time": "2025-06-07T13:55:53.367883",
     "status": "completed"
    },
    "tags": []
   },
   "outputs": [
    {
     "data": {
      "text/plain": [
       "110"
      ]
     },
     "execution_count": 8,
     "metadata": {},
     "output_type": "execute_result"
    }
   ],
   "source": [
    "df['title'].nunique()"
   ]
  },
  {
   "cell_type": "markdown",
   "id": "fc149348",
   "metadata": {
    "papermill": {
     "duration": 0.008471,
     "end_time": "2025-06-07T13:55:53.411736",
     "exception": false,
     "start_time": "2025-06-07T13:55:53.403265",
     "status": "completed"
    },
    "tags": []
   },
   "source": [
    "## Creating new features"
   ]
  },
  {
   "cell_type": "markdown",
   "id": "bc78932c",
   "metadata": {
    "papermill": {
     "duration": 0.008542,
     "end_time": "2025-06-07T13:55:53.428980",
     "exception": false,
     "start_time": "2025-06-07T13:55:53.420438",
     "status": "completed"
    },
    "tags": []
   },
   "source": [
    "** In the titles column there are \"Reasons/Departments\" specified before the title code. These are EMS, Fire, and Traffic. Use .apply() with a custom lambda expression to create a new column called \"Reason\" that contains this string value.** \n",
    "\n",
    "**For example, if the title column value is EMS: BACK PAINS/INJURY , the Reason column value would be EMS. **"
   ]
  },
  {
   "cell_type": "code",
   "execution_count": 9,
   "id": "0acfdaa2",
   "metadata": {
    "execution": {
     "iopub.execute_input": "2025-06-07T13:55:53.447417Z",
     "iopub.status.busy": "2025-06-07T13:55:53.447093Z",
     "iopub.status.idle": "2025-06-07T13:55:53.487752Z",
     "shell.execute_reply": "2025-06-07T13:55:53.486034Z"
    },
    "papermill": {
     "duration": 0.051979,
     "end_time": "2025-06-07T13:55:53.489583",
     "exception": false,
     "start_time": "2025-06-07T13:55:53.437604",
     "status": "completed"
    },
    "tags": []
   },
   "outputs": [
    {
     "name": "stdout",
     "output_type": "stream",
     "text": [
      "<class 'pandas.core.frame.DataFrame'>\n",
      "RangeIndex: 99492 entries, 0 to 99491\n",
      "Data columns (total 9 columns):\n",
      " #   Column     Non-Null Count  Dtype  \n",
      "---  ------     --------------  -----  \n",
      " 0   lat        99492 non-null  float64\n",
      " 1   lng        99492 non-null  float64\n",
      " 2   desc       99492 non-null  object \n",
      " 3   zip        86637 non-null  float64\n",
      " 4   title      99492 non-null  object \n",
      " 5   timeStamp  99492 non-null  object \n",
      " 6   twp        99449 non-null  object \n",
      " 7   addr       98973 non-null  object \n",
      " 8   e          99492 non-null  int64  \n",
      "dtypes: float64(3), int64(1), object(5)\n",
      "memory usage: 6.8+ MB\n"
     ]
    }
   ],
   "source": [
    "df.head(1)\n",
    "df.info()\n",
    "# new_df = df.apply()"
   ]
  },
  {
   "cell_type": "markdown",
   "id": "02715bea",
   "metadata": {
    "papermill": {
     "duration": 0.009042,
     "end_time": "2025-06-07T13:55:53.508318",
     "exception": false,
     "start_time": "2025-06-07T13:55:53.499276",
     "status": "completed"
    },
    "tags": []
   },
   "source": [
    "** What is the most common Reason for a 911 call based off of this new column? **"
   ]
  },
  {
   "cell_type": "code",
   "execution_count": null,
   "id": "6b98f70e",
   "metadata": {
    "collapsed": false,
    "jupyter": {
     "outputs_hidden": false
    },
    "papermill": {
     "duration": 0.009173,
     "end_time": "2025-06-07T13:55:53.529030",
     "exception": false,
     "start_time": "2025-06-07T13:55:53.519857",
     "status": "completed"
    },
    "tags": []
   },
   "outputs": [],
   "source": []
  },
  {
   "cell_type": "markdown",
   "id": "d263d28c",
   "metadata": {
    "papermill": {
     "duration": 0.008863,
     "end_time": "2025-06-07T13:55:53.547084",
     "exception": false,
     "start_time": "2025-06-07T13:55:53.538221",
     "status": "completed"
    },
    "tags": []
   },
   "source": [
    "** Now use seaborn to create a countplot of 911 calls by Reason. **"
   ]
  },
  {
   "cell_type": "code",
   "execution_count": null,
   "id": "c624a640",
   "metadata": {
    "collapsed": false,
    "jupyter": {
     "outputs_hidden": false
    },
    "papermill": {
     "duration": 0.008801,
     "end_time": "2025-06-07T13:55:53.565214",
     "exception": false,
     "start_time": "2025-06-07T13:55:53.556413",
     "status": "completed"
    },
    "tags": []
   },
   "outputs": [],
   "source": []
  },
  {
   "cell_type": "markdown",
   "id": "c9af5c72",
   "metadata": {
    "papermill": {
     "duration": 0.00905,
     "end_time": "2025-06-07T13:55:53.583372",
     "exception": false,
     "start_time": "2025-06-07T13:55:53.574322",
     "status": "completed"
    },
    "tags": []
   },
   "source": [
    "___\n",
    "** Now let us begin to focus on time information. What is the data type of the objects in the timeStamp column? **"
   ]
  },
  {
   "cell_type": "code",
   "execution_count": null,
   "id": "70d742ed",
   "metadata": {
    "collapsed": false,
    "jupyter": {
     "outputs_hidden": false
    },
    "papermill": {
     "duration": 0.008999,
     "end_time": "2025-06-07T13:55:53.601610",
     "exception": false,
     "start_time": "2025-06-07T13:55:53.592611",
     "status": "completed"
    },
    "tags": []
   },
   "outputs": [],
   "source": []
  },
  {
   "cell_type": "markdown",
   "id": "4f319de2",
   "metadata": {
    "papermill": {
     "duration": 0.009055,
     "end_time": "2025-06-07T13:55:53.620765",
     "exception": false,
     "start_time": "2025-06-07T13:55:53.611710",
     "status": "completed"
    },
    "tags": []
   },
   "source": [
    "** You should have seen that these timestamps are still strings. Use [pd.to_datetime](http://pandas.pydata.org/pandas-docs/stable/generated/pandas.to_datetime.html) to convert the column from strings to DateTime objects. **"
   ]
  },
  {
   "cell_type": "code",
   "execution_count": null,
   "id": "263e48f4",
   "metadata": {
    "collapsed": true,
    "jupyter": {
     "outputs_hidden": true
    },
    "papermill": {
     "duration": 0.009128,
     "end_time": "2025-06-07T13:55:53.639292",
     "exception": false,
     "start_time": "2025-06-07T13:55:53.630164",
     "status": "completed"
    },
    "tags": []
   },
   "outputs": [],
   "source": []
  },
  {
   "cell_type": "markdown",
   "id": "cf2acf9e",
   "metadata": {
    "papermill": {
     "duration": 0.009892,
     "end_time": "2025-06-07T13:55:53.659831",
     "exception": false,
     "start_time": "2025-06-07T13:55:53.649939",
     "status": "completed"
    },
    "tags": []
   },
   "source": [
    "** You can now grab specific attributes from a Datetime object by calling them. For example:**\n",
    "\n",
    "    time = df['timeStamp'].iloc[0]\n",
    "    time.hour\n",
    "\n",
    "**You can use Jupyter's tab method to explore the various attributes you can call. Now that the timestamp column are actually DateTime objects, use .apply() to create 3 new columns called Hour, Month, and Day of Week. You will create these columns based off of the timeStamp column, reference the solutions if you get stuck on this step.**"
   ]
  },
  {
   "cell_type": "code",
   "execution_count": null,
   "id": "e33b46af",
   "metadata": {
    "collapsed": false,
    "jupyter": {
     "outputs_hidden": false
    },
    "papermill": {
     "duration": 0.009371,
     "end_time": "2025-06-07T13:55:53.678833",
     "exception": false,
     "start_time": "2025-06-07T13:55:53.669462",
     "status": "completed"
    },
    "tags": []
   },
   "outputs": [],
   "source": []
  },
  {
   "cell_type": "markdown",
   "id": "7870fecf",
   "metadata": {
    "collapsed": false,
    "jupyter": {
     "outputs_hidden": false
    },
    "papermill": {
     "duration": 0.010107,
     "end_time": "2025-06-07T13:55:53.698746",
     "exception": false,
     "start_time": "2025-06-07T13:55:53.688639",
     "status": "completed"
    },
    "tags": []
   },
   "source": [
    "** Notice how the Day of Week is an integer 0-6. Use the .map() with this dictionary to map the actual string names to the day of the week: **\n",
    "\n",
    "    dmap = {0:'Mon',1:'Tue',2:'Wed',3:'Thu',4:'Fri',5:'Sat',6:'Sun'}"
   ]
  },
  {
   "cell_type": "code",
   "execution_count": null,
   "id": "d6d5b614",
   "metadata": {
    "collapsed": false,
    "jupyter": {
     "outputs_hidden": false
    },
    "papermill": {
     "duration": 0.008965,
     "end_time": "2025-06-07T13:55:53.716886",
     "exception": false,
     "start_time": "2025-06-07T13:55:53.707921",
     "status": "completed"
    },
    "tags": []
   },
   "outputs": [],
   "source": []
  },
  {
   "cell_type": "code",
   "execution_count": null,
   "id": "359b0a85",
   "metadata": {
    "collapsed": false,
    "jupyter": {
     "outputs_hidden": false
    },
    "papermill": {
     "duration": 0.00887,
     "end_time": "2025-06-07T13:55:53.734841",
     "exception": false,
     "start_time": "2025-06-07T13:55:53.725971",
     "status": "completed"
    },
    "tags": []
   },
   "outputs": [],
   "source": []
  },
  {
   "cell_type": "markdown",
   "id": "1ca9c410",
   "metadata": {
    "collapsed": false,
    "jupyter": {
     "outputs_hidden": false
    },
    "papermill": {
     "duration": 0.00879,
     "end_time": "2025-06-07T13:55:53.752699",
     "exception": false,
     "start_time": "2025-06-07T13:55:53.743909",
     "status": "completed"
    },
    "tags": []
   },
   "source": [
    "** Now use seaborn to create a countplot of the Day of Week column with the hue based off of the Reason column. **"
   ]
  },
  {
   "cell_type": "code",
   "execution_count": null,
   "id": "c1091808",
   "metadata": {
    "collapsed": false,
    "jupyter": {
     "outputs_hidden": false
    },
    "papermill": {
     "duration": 0.008835,
     "end_time": "2025-06-07T13:55:53.770711",
     "exception": false,
     "start_time": "2025-06-07T13:55:53.761876",
     "status": "completed"
    },
    "tags": []
   },
   "outputs": [],
   "source": []
  },
  {
   "cell_type": "markdown",
   "id": "9e93be1b",
   "metadata": {
    "papermill": {
     "duration": 0.008811,
     "end_time": "2025-06-07T13:55:53.788748",
     "exception": false,
     "start_time": "2025-06-07T13:55:53.779937",
     "status": "completed"
    },
    "tags": []
   },
   "source": [
    "**Now do the same for Month:**"
   ]
  },
  {
   "cell_type": "code",
   "execution_count": null,
   "id": "e80ba483",
   "metadata": {
    "collapsed": false,
    "jupyter": {
     "outputs_hidden": false
    },
    "papermill": {
     "duration": 0.009059,
     "end_time": "2025-06-07T13:55:53.807131",
     "exception": false,
     "start_time": "2025-06-07T13:55:53.798072",
     "status": "completed"
    },
    "tags": []
   },
   "outputs": [],
   "source": []
  },
  {
   "cell_type": "markdown",
   "id": "2b32964a",
   "metadata": {
    "papermill": {
     "duration": 0.008907,
     "end_time": "2025-06-07T13:55:53.825339",
     "exception": false,
     "start_time": "2025-06-07T13:55:53.816432",
     "status": "completed"
    },
    "tags": []
   },
   "source": [
    "**Did you notice something strange about the Plot?**\n",
    "\n",
    "_____\n",
    "\n",
    "** You should have noticed it was missing some Months, let's see if we can maybe fill in this information by plotting the information in another way, possibly a simple line plot that fills in the missing months, in order to do this, we'll need to do some work with pandas... **"
   ]
  },
  {
   "cell_type": "markdown",
   "id": "e640027d",
   "metadata": {
    "papermill": {
     "duration": 0.008778,
     "end_time": "2025-06-07T13:55:53.843390",
     "exception": false,
     "start_time": "2025-06-07T13:55:53.834612",
     "status": "completed"
    },
    "tags": []
   },
   "source": [
    "** Now create a gropuby object called byMonth, where you group the DataFrame by the month column and use the count() method for aggregation. Use the head() method on this returned DataFrame. **"
   ]
  },
  {
   "cell_type": "code",
   "execution_count": null,
   "id": "cd4e1da7",
   "metadata": {
    "collapsed": false,
    "jupyter": {
     "outputs_hidden": false
    },
    "papermill": {
     "duration": 0.008775,
     "end_time": "2025-06-07T13:55:53.862074",
     "exception": false,
     "start_time": "2025-06-07T13:55:53.853299",
     "status": "completed"
    },
    "tags": []
   },
   "outputs": [],
   "source": []
  },
  {
   "cell_type": "markdown",
   "id": "3d36b60c",
   "metadata": {
    "papermill": {
     "duration": 0.008827,
     "end_time": "2025-06-07T13:55:53.879972",
     "exception": false,
     "start_time": "2025-06-07T13:55:53.871145",
     "status": "completed"
    },
    "tags": []
   },
   "source": [
    "** Now create a simple plot off of the dataframe indicating the count of calls per month. **"
   ]
  },
  {
   "cell_type": "code",
   "execution_count": null,
   "id": "715cf73f",
   "metadata": {
    "collapsed": false,
    "jupyter": {
     "outputs_hidden": false
    },
    "papermill": {
     "duration": 0.008944,
     "end_time": "2025-06-07T13:55:53.898609",
     "exception": false,
     "start_time": "2025-06-07T13:55:53.889665",
     "status": "completed"
    },
    "tags": []
   },
   "outputs": [],
   "source": []
  },
  {
   "cell_type": "markdown",
   "id": "647a3410",
   "metadata": {
    "papermill": {
     "duration": 0.008856,
     "end_time": "2025-06-07T13:55:53.916619",
     "exception": false,
     "start_time": "2025-06-07T13:55:53.907763",
     "status": "completed"
    },
    "tags": []
   },
   "source": [
    "** Now see if you can use seaborn's lmplot() to create a linear fit on the number of calls per month. Keep in mind you may need to reset the index to a column. **"
   ]
  },
  {
   "cell_type": "code",
   "execution_count": null,
   "id": "7251561c",
   "metadata": {
    "collapsed": false,
    "jupyter": {
     "outputs_hidden": false
    },
    "papermill": {
     "duration": 0.008794,
     "end_time": "2025-06-07T13:55:53.934636",
     "exception": false,
     "start_time": "2025-06-07T13:55:53.925842",
     "status": "completed"
    },
    "tags": []
   },
   "outputs": [],
   "source": []
  },
  {
   "cell_type": "markdown",
   "id": "2bc4e905",
   "metadata": {
    "papermill": {
     "duration": 0.00878,
     "end_time": "2025-06-07T13:55:53.952603",
     "exception": false,
     "start_time": "2025-06-07T13:55:53.943823",
     "status": "completed"
    },
    "tags": []
   },
   "source": [
    "**Create a new column called 'Date' that contains the date from the timeStamp column. You'll need to use apply along with the .date() method. ** "
   ]
  },
  {
   "cell_type": "code",
   "execution_count": null,
   "id": "42588a50",
   "metadata": {
    "collapsed": true,
    "jupyter": {
     "outputs_hidden": true
    },
    "papermill": {
     "duration": 0.010175,
     "end_time": "2025-06-07T13:55:53.972762",
     "exception": false,
     "start_time": "2025-06-07T13:55:53.962587",
     "status": "completed"
    },
    "tags": []
   },
   "outputs": [],
   "source": []
  },
  {
   "cell_type": "markdown",
   "id": "c2af9ddd",
   "metadata": {
    "papermill": {
     "duration": 0.008779,
     "end_time": "2025-06-07T13:55:53.991065",
     "exception": false,
     "start_time": "2025-06-07T13:55:53.982286",
     "status": "completed"
    },
    "tags": []
   },
   "source": [
    "** Now groupby this Date column with the count() aggregate and create a plot of counts of 911 calls.**"
   ]
  },
  {
   "cell_type": "code",
   "execution_count": null,
   "id": "513261da",
   "metadata": {
    "collapsed": false,
    "jupyter": {
     "outputs_hidden": false
    },
    "papermill": {
     "duration": 0.008899,
     "end_time": "2025-06-07T13:55:54.009225",
     "exception": false,
     "start_time": "2025-06-07T13:55:54.000326",
     "status": "completed"
    },
    "tags": []
   },
   "outputs": [],
   "source": []
  },
  {
   "cell_type": "markdown",
   "id": "bbfbefb5",
   "metadata": {
    "papermill": {
     "duration": 0.008901,
     "end_time": "2025-06-07T13:55:54.027297",
     "exception": false,
     "start_time": "2025-06-07T13:55:54.018396",
     "status": "completed"
    },
    "tags": []
   },
   "source": [
    "** Now recreate this plot but create 3 separate plots with each plot representing a Reason for the 911 call**"
   ]
  },
  {
   "cell_type": "code",
   "execution_count": null,
   "id": "8fa83d24",
   "metadata": {
    "collapsed": false,
    "jupyter": {
     "outputs_hidden": false
    },
    "papermill": {
     "duration": 0.009172,
     "end_time": "2025-06-07T13:55:54.045694",
     "exception": false,
     "start_time": "2025-06-07T13:55:54.036522",
     "status": "completed"
    },
    "tags": []
   },
   "outputs": [],
   "source": []
  },
  {
   "cell_type": "code",
   "execution_count": null,
   "id": "56690ee2",
   "metadata": {
    "collapsed": false,
    "jupyter": {
     "outputs_hidden": false
    },
    "papermill": {
     "duration": 0.009727,
     "end_time": "2025-06-07T13:55:54.065288",
     "exception": false,
     "start_time": "2025-06-07T13:55:54.055561",
     "status": "completed"
    },
    "tags": []
   },
   "outputs": [],
   "source": []
  },
  {
   "cell_type": "code",
   "execution_count": null,
   "id": "cf08647e",
   "metadata": {
    "collapsed": false,
    "jupyter": {
     "outputs_hidden": false
    },
    "papermill": {
     "duration": 0.009474,
     "end_time": "2025-06-07T13:55:54.084119",
     "exception": false,
     "start_time": "2025-06-07T13:55:54.074645",
     "status": "completed"
    },
    "tags": []
   },
   "outputs": [],
   "source": []
  },
  {
   "cell_type": "markdown",
   "id": "8b4613ae",
   "metadata": {
    "collapsed": false,
    "jupyter": {
     "outputs_hidden": false
    },
    "papermill": {
     "duration": 0.009018,
     "end_time": "2025-06-07T13:55:54.103567",
     "exception": false,
     "start_time": "2025-06-07T13:55:54.094549",
     "status": "completed"
    },
    "tags": []
   },
   "source": [
    "____\n",
    "** Now let's move on to creating  heatmaps with seaborn and our data. We'll first need to restructure the dataframe so that the columns become the Hours and the Index becomes the Day of the Week. There are lots of ways to do this, but I would recommend trying to combine groupby with an [unstack](http://pandas.pydata.org/pandas-docs/stable/generated/pandas.DataFrame.unstack.html) method. Reference the solutions if you get stuck on this!**"
   ]
  },
  {
   "cell_type": "code",
   "execution_count": null,
   "id": "fdb94c1f",
   "metadata": {
    "collapsed": false,
    "jupyter": {
     "outputs_hidden": false
    },
    "papermill": {
     "duration": 0.008688,
     "end_time": "2025-06-07T13:55:54.122005",
     "exception": false,
     "start_time": "2025-06-07T13:55:54.113317",
     "status": "completed"
    },
    "tags": []
   },
   "outputs": [],
   "source": []
  },
  {
   "cell_type": "markdown",
   "id": "c98cd997",
   "metadata": {
    "collapsed": false,
    "jupyter": {
     "outputs_hidden": false
    },
    "papermill": {
     "duration": 0.008721,
     "end_time": "2025-06-07T13:55:54.139564",
     "exception": false,
     "start_time": "2025-06-07T13:55:54.130843",
     "status": "completed"
    },
    "tags": []
   },
   "source": [
    "** Now create a HeatMap using this new DataFrame. **"
   ]
  },
  {
   "cell_type": "code",
   "execution_count": null,
   "id": "a9f7d5a2",
   "metadata": {
    "collapsed": false,
    "jupyter": {
     "outputs_hidden": false
    },
    "papermill": {
     "duration": 0.008441,
     "end_time": "2025-06-07T13:55:54.156846",
     "exception": false,
     "start_time": "2025-06-07T13:55:54.148405",
     "status": "completed"
    },
    "tags": []
   },
   "outputs": [],
   "source": []
  },
  {
   "cell_type": "markdown",
   "id": "32e597d5",
   "metadata": {
    "collapsed": false,
    "jupyter": {
     "outputs_hidden": false
    },
    "papermill": {
     "duration": 0.009021,
     "end_time": "2025-06-07T13:55:54.174646",
     "exception": false,
     "start_time": "2025-06-07T13:55:54.165625",
     "status": "completed"
    },
    "tags": []
   },
   "source": [
    "** Now create a clustermap using this DataFrame. **"
   ]
  },
  {
   "cell_type": "code",
   "execution_count": null,
   "id": "86bc6db1",
   "metadata": {
    "collapsed": false,
    "jupyter": {
     "outputs_hidden": false
    },
    "papermill": {
     "duration": 0.008382,
     "end_time": "2025-06-07T13:55:54.191720",
     "exception": false,
     "start_time": "2025-06-07T13:55:54.183338",
     "status": "completed"
    },
    "tags": []
   },
   "outputs": [],
   "source": []
  },
  {
   "cell_type": "markdown",
   "id": "c18ec599",
   "metadata": {
    "papermill": {
     "duration": 0.008382,
     "end_time": "2025-06-07T13:55:54.208940",
     "exception": false,
     "start_time": "2025-06-07T13:55:54.200558",
     "status": "completed"
    },
    "tags": []
   },
   "source": [
    "** Now repeat these same plots and operations, for a DataFrame that shows the Month as the column. **"
   ]
  },
  {
   "cell_type": "code",
   "execution_count": null,
   "id": "46362fe7",
   "metadata": {
    "collapsed": false,
    "jupyter": {
     "outputs_hidden": false
    },
    "papermill": {
     "duration": 0.00842,
     "end_time": "2025-06-07T13:55:54.226096",
     "exception": false,
     "start_time": "2025-06-07T13:55:54.217676",
     "status": "completed"
    },
    "tags": []
   },
   "outputs": [],
   "source": []
  },
  {
   "cell_type": "code",
   "execution_count": null,
   "id": "c444d95b",
   "metadata": {
    "collapsed": false,
    "jupyter": {
     "outputs_hidden": false
    },
    "papermill": {
     "duration": 0.008585,
     "end_time": "2025-06-07T13:55:54.243547",
     "exception": false,
     "start_time": "2025-06-07T13:55:54.234962",
     "status": "completed"
    },
    "tags": []
   },
   "outputs": [],
   "source": []
  },
  {
   "cell_type": "code",
   "execution_count": null,
   "id": "66cdf17f",
   "metadata": {
    "collapsed": false,
    "jupyter": {
     "outputs_hidden": false
    },
    "papermill": {
     "duration": 0.008426,
     "end_time": "2025-06-07T13:55:54.260794",
     "exception": false,
     "start_time": "2025-06-07T13:55:54.252368",
     "status": "completed"
    },
    "tags": []
   },
   "outputs": [],
   "source": []
  },
  {
   "cell_type": "markdown",
   "id": "b56ee046",
   "metadata": {
    "collapsed": true,
    "jupyter": {
     "outputs_hidden": true
    },
    "papermill": {
     "duration": 0.00841,
     "end_time": "2025-06-07T13:55:54.278144",
     "exception": false,
     "start_time": "2025-06-07T13:55:54.269734",
     "status": "completed"
    },
    "tags": []
   },
   "source": [
    "**Continue exploring the Data however you see fit!**\n",
    "# Great Job!"
   ]
  }
 ],
 "metadata": {
  "kaggle": {
   "accelerator": "none",
   "dataSources": [
    {
     "datasetId": 7609225,
     "sourceId": 12087604,
     "sourceType": "datasetVersion"
    }
   ],
   "dockerImageVersionId": 31040,
   "isGpuEnabled": false,
   "isInternetEnabled": true,
   "language": "python",
   "sourceType": "notebook"
  },
  "kernelspec": {
   "display_name": "Python 3",
   "language": "python",
   "name": "python3"
  },
  "language_info": {
   "codemirror_mode": {
    "name": "ipython",
    "version": 3
   },
   "file_extension": ".py",
   "mimetype": "text/x-python",
   "name": "python",
   "nbconvert_exporter": "python",
   "pygments_lexer": "ipython3",
   "version": "3.11.11"
  },
  "papermill": {
   "default_parameters": {},
   "duration": 12.140879,
   "end_time": "2025-06-07T13:55:55.211065",
   "environment_variables": {},
   "exception": null,
   "input_path": "__notebook__.ipynb",
   "output_path": "__notebook__.ipynb",
   "parameters": {},
   "start_time": "2025-06-07T13:55:43.070186",
   "version": "2.6.0"
  }
 },
 "nbformat": 4,
 "nbformat_minor": 5
}
