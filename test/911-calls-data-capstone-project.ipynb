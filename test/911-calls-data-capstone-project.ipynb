{
 "cells": [
  {
   "cell_type": "markdown",
   "id": "e6f43a4e",
   "metadata": {
    "papermill": {
     "duration": 0.009467,
     "end_time": "2025-06-07T14:01:56.198823",
     "exception": false,
     "start_time": "2025-06-07T14:01:56.189356",
     "status": "completed"
    },
    "tags": []
   },
   "source": [
    "# 911 Calls Capstone Project"
   ]
  },
  {
   "cell_type": "markdown",
   "id": "1fddaff3",
   "metadata": {
    "papermill": {
     "duration": 0.007971,
     "end_time": "2025-06-07T14:01:56.215896",
     "exception": false,
     "start_time": "2025-06-07T14:01:56.207925",
     "status": "completed"
    },
    "tags": []
   },
   "source": [
    "For this capstone project we will be analyzing some 911 call data from [Kaggle](https://www.kaggle.com/mchirico/montcoalert). The data contains the following fields:\n",
    "\n",
    "* lat : String variable, Latitude\n",
    "* lng: String variable, Longitude\n",
    "* desc: String variable, Description of the Emergency Call\n",
    "* zip: String variable, Zipcode\n",
    "* title: String variable, Title\n",
    "* timeStamp: String variable, YYYY-MM-DD HH:MM:SS\n",
    "* twp: String variable, Township\n",
    "* addr: String variable, Address\n",
    "* e: String variable, Dummy variable (always 1)\n",
    "\n",
    "Just go along with this notebook and try to complete the instructions or answer the questions in bold using your Python and Data Science skills!"
   ]
  },
  {
   "cell_type": "markdown",
   "id": "1d1a1267",
   "metadata": {
    "papermill": {
     "duration": 0.00801,
     "end_time": "2025-06-07T14:01:56.232173",
     "exception": false,
     "start_time": "2025-06-07T14:01:56.224163",
     "status": "completed"
    },
    "tags": []
   },
   "source": [
    "## Data and Setup"
   ]
  },
  {
   "cell_type": "markdown",
   "id": "480eb576",
   "metadata": {
    "papermill": {
     "duration": 0.007947,
     "end_time": "2025-06-07T14:01:56.248242",
     "exception": false,
     "start_time": "2025-06-07T14:01:56.240295",
     "status": "completed"
    },
    "tags": []
   },
   "source": [
    "____\n",
    "** Import numpy and pandas **"
   ]
  },
  {
   "cell_type": "code",
   "execution_count": 1,
   "id": "9fadfdd9",
   "metadata": {
    "execution": {
     "iopub.execute_input": "2025-06-07T14:01:56.267375Z",
     "iopub.status.busy": "2025-06-07T14:01:56.266975Z",
     "iopub.status.idle": "2025-06-07T14:01:58.452757Z",
     "shell.execute_reply": "2025-06-07T14:01:58.451537Z"
    },
    "papermill": {
     "duration": 2.197355,
     "end_time": "2025-06-07T14:01:58.454929",
     "exception": false,
     "start_time": "2025-06-07T14:01:56.257574",
     "status": "completed"
    },
    "tags": []
   },
   "outputs": [],
   "source": [
    "import numpy as np\n",
    "import pandas as pd"
   ]
  },
  {
   "cell_type": "markdown",
   "id": "4eb9d4b0",
   "metadata": {
    "papermill": {
     "duration": 0.007757,
     "end_time": "2025-06-07T14:01:58.471240",
     "exception": false,
     "start_time": "2025-06-07T14:01:58.463483",
     "status": "completed"
    },
    "tags": []
   },
   "source": [
    "** Import visualization libraries and set %matplotlib inline. **"
   ]
  },
  {
   "cell_type": "code",
   "execution_count": 2,
   "id": "41aba29e",
   "metadata": {
    "collapsed": false,
    "execution": {
     "iopub.execute_input": "2025-06-07T14:01:58.489902Z",
     "iopub.status.busy": "2025-06-07T14:01:58.488917Z",
     "iopub.status.idle": "2025-06-07T14:02:00.599892Z",
     "shell.execute_reply": "2025-06-07T14:02:00.598850Z"
    },
    "jupyter": {
     "outputs_hidden": false
    },
    "papermill": {
     "duration": 2.122553,
     "end_time": "2025-06-07T14:02:00.601972",
     "exception": false,
     "start_time": "2025-06-07T14:01:58.479419",
     "status": "completed"
    },
    "tags": []
   },
   "outputs": [],
   "source": [
    "import matplotlib.pyplot as plt\n",
    "import seaborn as sns\n",
    "sns.set_style('whitegrid')\n",
    "%matplotlib inline"
   ]
  },
  {
   "cell_type": "markdown",
   "id": "78758473",
   "metadata": {
    "papermill": {
     "duration": 0.007999,
     "end_time": "2025-06-07T14:02:00.618587",
     "exception": false,
     "start_time": "2025-06-07T14:02:00.610588",
     "status": "completed"
    },
    "tags": []
   },
   "source": [
    "** Read in the csv file as a dataframe called df **"
   ]
  },
  {
   "cell_type": "code",
   "execution_count": 3,
   "id": "886a0156",
   "metadata": {
    "execution": {
     "iopub.execute_input": "2025-06-07T14:02:00.637724Z",
     "iopub.status.busy": "2025-06-07T14:02:00.636320Z",
     "iopub.status.idle": "2025-06-07T14:02:01.261392Z",
     "shell.execute_reply": "2025-06-07T14:02:01.260206Z"
    },
    "papermill": {
     "duration": 0.63653,
     "end_time": "2025-06-07T14:02:01.263539",
     "exception": false,
     "start_time": "2025-06-07T14:02:00.627009",
     "status": "completed"
    },
    "tags": []
   },
   "outputs": [],
   "source": [
    "csv_path='/kaggle/input/911-calls-data/911.csv'\n",
    "df = pd.read_csv(csv_path)"
   ]
  },
  {
   "cell_type": "markdown",
   "id": "5da32715",
   "metadata": {
    "papermill": {
     "duration": 0.00913,
     "end_time": "2025-06-07T14:02:01.281593",
     "exception": false,
     "start_time": "2025-06-07T14:02:01.272463",
     "status": "completed"
    },
    "tags": []
   },
   "source": [
    "** Check the info() of the df **"
   ]
  },
  {
   "cell_type": "code",
   "execution_count": 4,
   "id": "6ea6d12d",
   "metadata": {
    "collapsed": false,
    "execution": {
     "iopub.execute_input": "2025-06-07T14:02:01.300286Z",
     "iopub.status.busy": "2025-06-07T14:02:01.299935Z",
     "iopub.status.idle": "2025-06-07T14:02:01.366943Z",
     "shell.execute_reply": "2025-06-07T14:02:01.365047Z"
    },
    "jupyter": {
     "outputs_hidden": false
    },
    "papermill": {
     "duration": 0.078451,
     "end_time": "2025-06-07T14:02:01.369043",
     "exception": false,
     "start_time": "2025-06-07T14:02:01.290592",
     "status": "completed"
    },
    "tags": []
   },
   "outputs": [
    {
     "name": "stdout",
     "output_type": "stream",
     "text": [
      "<class 'pandas.core.frame.DataFrame'>\n",
      "RangeIndex: 99492 entries, 0 to 99491\n",
      "Data columns (total 9 columns):\n",
      " #   Column     Non-Null Count  Dtype  \n",
      "---  ------     --------------  -----  \n",
      " 0   lat        99492 non-null  float64\n",
      " 1   lng        99492 non-null  float64\n",
      " 2   desc       99492 non-null  object \n",
      " 3   zip        86637 non-null  float64\n",
      " 4   title      99492 non-null  object \n",
      " 5   timeStamp  99492 non-null  object \n",
      " 6   twp        99449 non-null  object \n",
      " 7   addr       98973 non-null  object \n",
      " 8   e          99492 non-null  int64  \n",
      "dtypes: float64(3), int64(1), object(5)\n",
      "memory usage: 6.8+ MB\n"
     ]
    }
   ],
   "source": [
    "df.info()"
   ]
  },
  {
   "cell_type": "markdown",
   "id": "1cf06d93",
   "metadata": {
    "collapsed": false,
    "jupyter": {
     "outputs_hidden": false
    },
    "papermill": {
     "duration": 0.008678,
     "end_time": "2025-06-07T14:02:01.386773",
     "exception": false,
     "start_time": "2025-06-07T14:02:01.378095",
     "status": "completed"
    },
    "tags": []
   },
   "source": [
    "** Check the head of df **"
   ]
  },
  {
   "cell_type": "code",
   "execution_count": 5,
   "id": "d33357e8",
   "metadata": {
    "collapsed": false,
    "execution": {
     "iopub.execute_input": "2025-06-07T14:02:01.409640Z",
     "iopub.status.busy": "2025-06-07T14:02:01.409263Z",
     "iopub.status.idle": "2025-06-07T14:02:01.437732Z",
     "shell.execute_reply": "2025-06-07T14:02:01.436613Z"
    },
    "jupyter": {
     "outputs_hidden": false
    },
    "papermill": {
     "duration": 0.043335,
     "end_time": "2025-06-07T14:02:01.439707",
     "exception": false,
     "start_time": "2025-06-07T14:02:01.396372",
     "status": "completed"
    },
    "tags": []
   },
   "outputs": [
    {
     "data": {
      "text/html": [
       "<div>\n",
       "<style scoped>\n",
       "    .dataframe tbody tr th:only-of-type {\n",
       "        vertical-align: middle;\n",
       "    }\n",
       "\n",
       "    .dataframe tbody tr th {\n",
       "        vertical-align: top;\n",
       "    }\n",
       "\n",
       "    .dataframe thead th {\n",
       "        text-align: right;\n",
       "    }\n",
       "</style>\n",
       "<table border=\"1\" class=\"dataframe\">\n",
       "  <thead>\n",
       "    <tr style=\"text-align: right;\">\n",
       "      <th></th>\n",
       "      <th>lat</th>\n",
       "      <th>lng</th>\n",
       "      <th>desc</th>\n",
       "      <th>zip</th>\n",
       "      <th>title</th>\n",
       "      <th>timeStamp</th>\n",
       "      <th>twp</th>\n",
       "      <th>addr</th>\n",
       "      <th>e</th>\n",
       "    </tr>\n",
       "  </thead>\n",
       "  <tbody>\n",
       "    <tr>\n",
       "      <th>0</th>\n",
       "      <td>40.297876</td>\n",
       "      <td>-75.581294</td>\n",
       "      <td>REINDEER CT &amp; DEAD END;  NEW HANOVER; Station ...</td>\n",
       "      <td>19525.0</td>\n",
       "      <td>EMS: BACK PAINS/INJURY</td>\n",
       "      <td>2015-12-10 17:40:00</td>\n",
       "      <td>NEW HANOVER</td>\n",
       "      <td>REINDEER CT &amp; DEAD END</td>\n",
       "      <td>1</td>\n",
       "    </tr>\n",
       "    <tr>\n",
       "      <th>1</th>\n",
       "      <td>40.258061</td>\n",
       "      <td>-75.264680</td>\n",
       "      <td>BRIAR PATH &amp; WHITEMARSH LN;  HATFIELD TOWNSHIP...</td>\n",
       "      <td>19446.0</td>\n",
       "      <td>EMS: DIABETIC EMERGENCY</td>\n",
       "      <td>2015-12-10 17:40:00</td>\n",
       "      <td>HATFIELD TOWNSHIP</td>\n",
       "      <td>BRIAR PATH &amp; WHITEMARSH LN</td>\n",
       "      <td>1</td>\n",
       "    </tr>\n",
       "    <tr>\n",
       "      <th>2</th>\n",
       "      <td>40.121182</td>\n",
       "      <td>-75.351975</td>\n",
       "      <td>HAWS AVE; NORRISTOWN; 2015-12-10 @ 14:39:21-St...</td>\n",
       "      <td>19401.0</td>\n",
       "      <td>Fire: GAS-ODOR/LEAK</td>\n",
       "      <td>2015-12-10 17:40:00</td>\n",
       "      <td>NORRISTOWN</td>\n",
       "      <td>HAWS AVE</td>\n",
       "      <td>1</td>\n",
       "    </tr>\n",
       "  </tbody>\n",
       "</table>\n",
       "</div>"
      ],
      "text/plain": [
       "         lat        lng                                               desc  \\\n",
       "0  40.297876 -75.581294  REINDEER CT & DEAD END;  NEW HANOVER; Station ...   \n",
       "1  40.258061 -75.264680  BRIAR PATH & WHITEMARSH LN;  HATFIELD TOWNSHIP...   \n",
       "2  40.121182 -75.351975  HAWS AVE; NORRISTOWN; 2015-12-10 @ 14:39:21-St...   \n",
       "\n",
       "       zip                    title            timeStamp                twp  \\\n",
       "0  19525.0   EMS: BACK PAINS/INJURY  2015-12-10 17:40:00        NEW HANOVER   \n",
       "1  19446.0  EMS: DIABETIC EMERGENCY  2015-12-10 17:40:00  HATFIELD TOWNSHIP   \n",
       "2  19401.0      Fire: GAS-ODOR/LEAK  2015-12-10 17:40:00         NORRISTOWN   \n",
       "\n",
       "                         addr  e  \n",
       "0      REINDEER CT & DEAD END  1  \n",
       "1  BRIAR PATH & WHITEMARSH LN  1  \n",
       "2                    HAWS AVE  1  "
      ]
     },
     "execution_count": 5,
     "metadata": {},
     "output_type": "execute_result"
    }
   ],
   "source": [
    "df.head(3)"
   ]
  },
  {
   "cell_type": "markdown",
   "id": "5cb49ff9",
   "metadata": {
    "papermill": {
     "duration": 0.008399,
     "end_time": "2025-06-07T14:02:01.457093",
     "exception": false,
     "start_time": "2025-06-07T14:02:01.448694",
     "status": "completed"
    },
    "tags": []
   },
   "source": [
    "## Basic Questions"
   ]
  },
  {
   "cell_type": "markdown",
   "id": "5f3768fb",
   "metadata": {
    "papermill": {
     "duration": 0.008568,
     "end_time": "2025-06-07T14:02:01.477111",
     "exception": false,
     "start_time": "2025-06-07T14:02:01.468543",
     "status": "completed"
    },
    "tags": []
   },
   "source": [
    "** What are the top 5 zipcodes for 911 calls? **"
   ]
  },
  {
   "cell_type": "code",
   "execution_count": 6,
   "id": "7ecb3176",
   "metadata": {
    "collapsed": false,
    "execution": {
     "iopub.execute_input": "2025-06-07T14:02:01.495849Z",
     "iopub.status.busy": "2025-06-07T14:02:01.495476Z",
     "iopub.status.idle": "2025-06-07T14:02:01.507117Z",
     "shell.execute_reply": "2025-06-07T14:02:01.506127Z"
    },
    "jupyter": {
     "outputs_hidden": false
    },
    "papermill": {
     "duration": 0.023068,
     "end_time": "2025-06-07T14:02:01.509009",
     "exception": false,
     "start_time": "2025-06-07T14:02:01.485941",
     "status": "completed"
    },
    "tags": []
   },
   "outputs": [
    {
     "data": {
      "text/plain": [
       "zip\n",
       "19401.0    6979\n",
       "19464.0    6643\n",
       "19403.0    4854\n",
       "19446.0    4748\n",
       "19406.0    3174\n",
       "Name: count, dtype: int64"
      ]
     },
     "execution_count": 6,
     "metadata": {},
     "output_type": "execute_result"
    }
   ],
   "source": [
    "df['zip'].value_counts().head(5)"
   ]
  },
  {
   "cell_type": "markdown",
   "id": "b664ba55",
   "metadata": {
    "papermill": {
     "duration": 0.078662,
     "end_time": "2025-06-07T14:02:01.596574",
     "exception": false,
     "start_time": "2025-06-07T14:02:01.517912",
     "status": "completed"
    },
    "tags": []
   },
   "source": [
    "** What are the top 5 townships (twp) for 911 calls? **"
   ]
  },
  {
   "cell_type": "code",
   "execution_count": 7,
   "id": "6769a938",
   "metadata": {
    "collapsed": false,
    "execution": {
     "iopub.execute_input": "2025-06-07T14:02:01.615305Z",
     "iopub.status.busy": "2025-06-07T14:02:01.614911Z",
     "iopub.status.idle": "2025-06-07T14:02:01.629784Z",
     "shell.execute_reply": "2025-06-07T14:02:01.628884Z"
    },
    "jupyter": {
     "outputs_hidden": false
    },
    "papermill": {
     "duration": 0.025997,
     "end_time": "2025-06-07T14:02:01.631408",
     "exception": false,
     "start_time": "2025-06-07T14:02:01.605411",
     "status": "completed"
    },
    "tags": []
   },
   "outputs": [
    {
     "data": {
      "text/plain": [
       "twp\n",
       "LOWER MERION    8443\n",
       "ABINGTON        5977\n",
       "NORRISTOWN      5890\n",
       "UPPER MERION    5227\n",
       "CHELTENHAM      4575\n",
       "Name: count, dtype: int64"
      ]
     },
     "execution_count": 7,
     "metadata": {},
     "output_type": "execute_result"
    }
   ],
   "source": [
    "df['twp'].value_counts().head(5)"
   ]
  },
  {
   "cell_type": "markdown",
   "id": "345c96f4",
   "metadata": {
    "papermill": {
     "duration": 0.008717,
     "end_time": "2025-06-07T14:02:01.649137",
     "exception": false,
     "start_time": "2025-06-07T14:02:01.640420",
     "status": "completed"
    },
    "tags": []
   },
   "source": [
    "** Take a look at the 'title' column, how many unique title codes are there? **"
   ]
  },
  {
   "cell_type": "code",
   "execution_count": 8,
   "id": "034119d3",
   "metadata": {
    "collapsed": false,
    "execution": {
     "iopub.execute_input": "2025-06-07T14:02:01.668534Z",
     "iopub.status.busy": "2025-06-07T14:02:01.668188Z",
     "iopub.status.idle": "2025-06-07T14:02:01.681562Z",
     "shell.execute_reply": "2025-06-07T14:02:01.680620Z"
    },
    "jupyter": {
     "outputs_hidden": false
    },
    "papermill": {
     "duration": 0.025203,
     "end_time": "2025-06-07T14:02:01.683289",
     "exception": false,
     "start_time": "2025-06-07T14:02:01.658086",
     "status": "completed"
    },
    "tags": []
   },
   "outputs": [
    {
     "data": {
      "text/plain": [
       "110"
      ]
     },
     "execution_count": 8,
     "metadata": {},
     "output_type": "execute_result"
    }
   ],
   "source": [
    "df['title'].nunique()"
   ]
  },
  {
   "cell_type": "markdown",
   "id": "1d9798c7",
   "metadata": {
    "papermill": {
     "duration": 0.009099,
     "end_time": "2025-06-07T14:02:01.701258",
     "exception": false,
     "start_time": "2025-06-07T14:02:01.692159",
     "status": "completed"
    },
    "tags": []
   },
   "source": [
    "## Creating new features"
   ]
  },
  {
   "cell_type": "markdown",
   "id": "12d745c8",
   "metadata": {
    "papermill": {
     "duration": 0.009789,
     "end_time": "2025-06-07T14:02:01.721064",
     "exception": false,
     "start_time": "2025-06-07T14:02:01.711275",
     "status": "completed"
    },
    "tags": []
   },
   "source": [
    "** In the titles column there are \"Reasons/Departments\" specified before the title code. These are EMS, Fire, and Traffic. Use .apply() with a custom lambda expression to create a new column called \"Reason\" that contains this string value.** \n",
    "\n",
    "**For example, if the title column value is EMS: BACK PAINS/INJURY , the Reason column value would be EMS. **"
   ]
  },
  {
   "cell_type": "code",
   "execution_count": 9,
   "id": "abb21c5e",
   "metadata": {
    "execution": {
     "iopub.execute_input": "2025-06-07T14:02:01.741929Z",
     "iopub.status.busy": "2025-06-07T14:02:01.741557Z",
     "iopub.status.idle": "2025-06-07T14:02:01.782183Z",
     "shell.execute_reply": "2025-06-07T14:02:01.781007Z"
    },
    "papermill": {
     "duration": 0.053612,
     "end_time": "2025-06-07T14:02:01.783935",
     "exception": false,
     "start_time": "2025-06-07T14:02:01.730323",
     "status": "completed"
    },
    "tags": []
   },
   "outputs": [
    {
     "name": "stdout",
     "output_type": "stream",
     "text": [
      "<class 'pandas.core.frame.DataFrame'>\n",
      "RangeIndex: 99492 entries, 0 to 99491\n",
      "Data columns (total 9 columns):\n",
      " #   Column     Non-Null Count  Dtype  \n",
      "---  ------     --------------  -----  \n",
      " 0   lat        99492 non-null  float64\n",
      " 1   lng        99492 non-null  float64\n",
      " 2   desc       99492 non-null  object \n",
      " 3   zip        86637 non-null  float64\n",
      " 4   title      99492 non-null  object \n",
      " 5   timeStamp  99492 non-null  object \n",
      " 6   twp        99449 non-null  object \n",
      " 7   addr       98973 non-null  object \n",
      " 8   e          99492 non-null  int64  \n",
      "dtypes: float64(3), int64(1), object(5)\n",
      "memory usage: 6.8+ MB\n"
     ]
    }
   ],
   "source": [
    "df.head(1)\n",
    "df.info()\n",
    "# new_df = df.apply()"
   ]
  },
  {
   "cell_type": "markdown",
   "id": "29c0729c",
   "metadata": {
    "papermill": {
     "duration": 0.009276,
     "end_time": "2025-06-07T14:02:01.802351",
     "exception": false,
     "start_time": "2025-06-07T14:02:01.793075",
     "status": "completed"
    },
    "tags": []
   },
   "source": [
    "** What is the most common Reason for a 911 call based off of this new column? **"
   ]
  },
  {
   "cell_type": "code",
   "execution_count": null,
   "id": "06c89d0c",
   "metadata": {
    "collapsed": false,
    "jupyter": {
     "outputs_hidden": false
    },
    "papermill": {
     "duration": 0.008682,
     "end_time": "2025-06-07T14:02:01.820010",
     "exception": false,
     "start_time": "2025-06-07T14:02:01.811328",
     "status": "completed"
    },
    "tags": []
   },
   "outputs": [],
   "source": []
  },
  {
   "cell_type": "markdown",
   "id": "119c4019",
   "metadata": {
    "papermill": {
     "duration": 0.008684,
     "end_time": "2025-06-07T14:02:01.837631",
     "exception": false,
     "start_time": "2025-06-07T14:02:01.828947",
     "status": "completed"
    },
    "tags": []
   },
   "source": [
    "** Now use seaborn to create a countplot of 911 calls by Reason. **"
   ]
  },
  {
   "cell_type": "code",
   "execution_count": null,
   "id": "26c55551",
   "metadata": {
    "collapsed": false,
    "jupyter": {
     "outputs_hidden": false
    },
    "papermill": {
     "duration": 0.009902,
     "end_time": "2025-06-07T14:02:01.856599",
     "exception": false,
     "start_time": "2025-06-07T14:02:01.846697",
     "status": "completed"
    },
    "tags": []
   },
   "outputs": [],
   "source": []
  },
  {
   "cell_type": "markdown",
   "id": "50b2912c",
   "metadata": {
    "papermill": {
     "duration": 0.010217,
     "end_time": "2025-06-07T14:02:01.875991",
     "exception": false,
     "start_time": "2025-06-07T14:02:01.865774",
     "status": "completed"
    },
    "tags": []
   },
   "source": [
    "___\n",
    "** Now let us begin to focus on time information. What is the data type of the objects in the timeStamp column? **"
   ]
  },
  {
   "cell_type": "code",
   "execution_count": null,
   "id": "a8ed34e2",
   "metadata": {
    "collapsed": false,
    "jupyter": {
     "outputs_hidden": false
    },
    "papermill": {
     "duration": 0.0095,
     "end_time": "2025-06-07T14:02:01.894735",
     "exception": false,
     "start_time": "2025-06-07T14:02:01.885235",
     "status": "completed"
    },
    "tags": []
   },
   "outputs": [],
   "source": []
  },
  {
   "cell_type": "markdown",
   "id": "51a01b1d",
   "metadata": {
    "papermill": {
     "duration": 0.010878,
     "end_time": "2025-06-07T14:02:01.916636",
     "exception": false,
     "start_time": "2025-06-07T14:02:01.905758",
     "status": "completed"
    },
    "tags": []
   },
   "source": [
    "** You should have seen that these timestamps are still strings. Use [pd.to_datetime](http://pandas.pydata.org/pandas-docs/stable/generated/pandas.to_datetime.html) to convert the column from strings to DateTime objects. **"
   ]
  },
  {
   "cell_type": "code",
   "execution_count": null,
   "id": "2afea83c",
   "metadata": {
    "collapsed": true,
    "jupyter": {
     "outputs_hidden": true
    },
    "papermill": {
     "duration": 0.009939,
     "end_time": "2025-06-07T14:02:01.936960",
     "exception": false,
     "start_time": "2025-06-07T14:02:01.927021",
     "status": "completed"
    },
    "tags": []
   },
   "outputs": [],
   "source": []
  },
  {
   "cell_type": "markdown",
   "id": "7402ec55",
   "metadata": {
    "papermill": {
     "duration": 0.009312,
     "end_time": "2025-06-07T14:02:01.957366",
     "exception": false,
     "start_time": "2025-06-07T14:02:01.948054",
     "status": "completed"
    },
    "tags": []
   },
   "source": [
    "** You can now grab specific attributes from a Datetime object by calling them. For example:**\n",
    "\n",
    "    time = df['timeStamp'].iloc[0]\n",
    "    time.hour\n",
    "\n",
    "**You can use Jupyter's tab method to explore the various attributes you can call. Now that the timestamp column are actually DateTime objects, use .apply() to create 3 new columns called Hour, Month, and Day of Week. You will create these columns based off of the timeStamp column, reference the solutions if you get stuck on this step.**"
   ]
  },
  {
   "cell_type": "code",
   "execution_count": null,
   "id": "604c4b78",
   "metadata": {
    "collapsed": false,
    "jupyter": {
     "outputs_hidden": false
    },
    "papermill": {
     "duration": 0.008724,
     "end_time": "2025-06-07T14:02:01.976800",
     "exception": false,
     "start_time": "2025-06-07T14:02:01.968076",
     "status": "completed"
    },
    "tags": []
   },
   "outputs": [],
   "source": []
  },
  {
   "cell_type": "markdown",
   "id": "229a4d93",
   "metadata": {
    "collapsed": false,
    "jupyter": {
     "outputs_hidden": false
    },
    "papermill": {
     "duration": 0.008828,
     "end_time": "2025-06-07T14:02:01.994840",
     "exception": false,
     "start_time": "2025-06-07T14:02:01.986012",
     "status": "completed"
    },
    "tags": []
   },
   "source": [
    "** Notice how the Day of Week is an integer 0-6. Use the .map() with this dictionary to map the actual string names to the day of the week: **\n",
    "\n",
    "    dmap = {0:'Mon',1:'Tue',2:'Wed',3:'Thu',4:'Fri',5:'Sat',6:'Sun'}"
   ]
  },
  {
   "cell_type": "code",
   "execution_count": null,
   "id": "ff2bc61f",
   "metadata": {
    "collapsed": false,
    "jupyter": {
     "outputs_hidden": false
    },
    "papermill": {
     "duration": 0.009573,
     "end_time": "2025-06-07T14:02:02.013773",
     "exception": false,
     "start_time": "2025-06-07T14:02:02.004200",
     "status": "completed"
    },
    "tags": []
   },
   "outputs": [],
   "source": []
  },
  {
   "cell_type": "code",
   "execution_count": null,
   "id": "4564a85d",
   "metadata": {
    "collapsed": false,
    "jupyter": {
     "outputs_hidden": false
    },
    "papermill": {
     "duration": 0.008745,
     "end_time": "2025-06-07T14:02:02.031644",
     "exception": false,
     "start_time": "2025-06-07T14:02:02.022899",
     "status": "completed"
    },
    "tags": []
   },
   "outputs": [],
   "source": []
  },
  {
   "cell_type": "markdown",
   "id": "4584828f",
   "metadata": {
    "collapsed": false,
    "jupyter": {
     "outputs_hidden": false
    },
    "papermill": {
     "duration": 0.009134,
     "end_time": "2025-06-07T14:02:02.049854",
     "exception": false,
     "start_time": "2025-06-07T14:02:02.040720",
     "status": "completed"
    },
    "tags": []
   },
   "source": [
    "** Now use seaborn to create a countplot of the Day of Week column with the hue based off of the Reason column. **"
   ]
  },
  {
   "cell_type": "code",
   "execution_count": null,
   "id": "16764da2",
   "metadata": {
    "collapsed": false,
    "jupyter": {
     "outputs_hidden": false
    },
    "papermill": {
     "duration": 0.008833,
     "end_time": "2025-06-07T14:02:02.067922",
     "exception": false,
     "start_time": "2025-06-07T14:02:02.059089",
     "status": "completed"
    },
    "tags": []
   },
   "outputs": [],
   "source": []
  },
  {
   "cell_type": "markdown",
   "id": "8074981f",
   "metadata": {
    "papermill": {
     "duration": 0.008891,
     "end_time": "2025-06-07T14:02:02.085798",
     "exception": false,
     "start_time": "2025-06-07T14:02:02.076907",
     "status": "completed"
    },
    "tags": []
   },
   "source": [
    "**Now do the same for Month:**"
   ]
  },
  {
   "cell_type": "code",
   "execution_count": null,
   "id": "5ef6dd5f",
   "metadata": {
    "collapsed": false,
    "jupyter": {
     "outputs_hidden": false
    },
    "papermill": {
     "duration": 0.008992,
     "end_time": "2025-06-07T14:02:02.103719",
     "exception": false,
     "start_time": "2025-06-07T14:02:02.094727",
     "status": "completed"
    },
    "tags": []
   },
   "outputs": [],
   "source": []
  },
  {
   "cell_type": "markdown",
   "id": "2a56ab35",
   "metadata": {
    "papermill": {
     "duration": 0.00936,
     "end_time": "2025-06-07T14:02:02.122288",
     "exception": false,
     "start_time": "2025-06-07T14:02:02.112928",
     "status": "completed"
    },
    "tags": []
   },
   "source": [
    "**Did you notice something strange about the Plot?**\n",
    "\n",
    "_____\n",
    "\n",
    "** You should have noticed it was missing some Months, let's see if we can maybe fill in this information by plotting the information in another way, possibly a simple line plot that fills in the missing months, in order to do this, we'll need to do some work with pandas... **"
   ]
  },
  {
   "cell_type": "markdown",
   "id": "45edfa6a",
   "metadata": {
    "papermill": {
     "duration": 0.0093,
     "end_time": "2025-06-07T14:02:02.142403",
     "exception": false,
     "start_time": "2025-06-07T14:02:02.133103",
     "status": "completed"
    },
    "tags": []
   },
   "source": [
    "** Now create a gropuby object called byMonth, where you group the DataFrame by the month column and use the count() method for aggregation. Use the head() method on this returned DataFrame. **"
   ]
  },
  {
   "cell_type": "code",
   "execution_count": null,
   "id": "7c05fc3b",
   "metadata": {
    "collapsed": false,
    "jupyter": {
     "outputs_hidden": false
    },
    "papermill": {
     "duration": 0.008795,
     "end_time": "2025-06-07T14:02:02.160214",
     "exception": false,
     "start_time": "2025-06-07T14:02:02.151419",
     "status": "completed"
    },
    "tags": []
   },
   "outputs": [],
   "source": []
  },
  {
   "cell_type": "markdown",
   "id": "490c2496",
   "metadata": {
    "papermill": {
     "duration": 0.009195,
     "end_time": "2025-06-07T14:02:02.178849",
     "exception": false,
     "start_time": "2025-06-07T14:02:02.169654",
     "status": "completed"
    },
    "tags": []
   },
   "source": [
    "** Now create a simple plot off of the dataframe indicating the count of calls per month. **"
   ]
  },
  {
   "cell_type": "code",
   "execution_count": null,
   "id": "bea8cc66",
   "metadata": {
    "collapsed": false,
    "jupyter": {
     "outputs_hidden": false
    },
    "papermill": {
     "duration": 0.008763,
     "end_time": "2025-06-07T14:02:02.197435",
     "exception": false,
     "start_time": "2025-06-07T14:02:02.188672",
     "status": "completed"
    },
    "tags": []
   },
   "outputs": [],
   "source": []
  },
  {
   "cell_type": "markdown",
   "id": "3c999612",
   "metadata": {
    "papermill": {
     "duration": 0.008537,
     "end_time": "2025-06-07T14:02:02.214984",
     "exception": false,
     "start_time": "2025-06-07T14:02:02.206447",
     "status": "completed"
    },
    "tags": []
   },
   "source": [
    "** Now see if you can use seaborn's lmplot() to create a linear fit on the number of calls per month. Keep in mind you may need to reset the index to a column. **"
   ]
  },
  {
   "cell_type": "code",
   "execution_count": null,
   "id": "4702a204",
   "metadata": {
    "collapsed": false,
    "jupyter": {
     "outputs_hidden": false
    },
    "papermill": {
     "duration": 0.008706,
     "end_time": "2025-06-07T14:02:02.232665",
     "exception": false,
     "start_time": "2025-06-07T14:02:02.223959",
     "status": "completed"
    },
    "tags": []
   },
   "outputs": [],
   "source": []
  },
  {
   "cell_type": "markdown",
   "id": "bd7550eb",
   "metadata": {
    "papermill": {
     "duration": 0.008611,
     "end_time": "2025-06-07T14:02:02.250281",
     "exception": false,
     "start_time": "2025-06-07T14:02:02.241670",
     "status": "completed"
    },
    "tags": []
   },
   "source": [
    "**Create a new column called 'Date' that contains the date from the timeStamp column. You'll need to use apply along with the .date() method. ** "
   ]
  },
  {
   "cell_type": "code",
   "execution_count": null,
   "id": "4985f25e",
   "metadata": {
    "collapsed": true,
    "jupyter": {
     "outputs_hidden": true
    },
    "papermill": {
     "duration": 0.008689,
     "end_time": "2025-06-07T14:02:02.267890",
     "exception": false,
     "start_time": "2025-06-07T14:02:02.259201",
     "status": "completed"
    },
    "tags": []
   },
   "outputs": [],
   "source": []
  },
  {
   "cell_type": "markdown",
   "id": "f432fd04",
   "metadata": {
    "papermill": {
     "duration": 0.00875,
     "end_time": "2025-06-07T14:02:02.285555",
     "exception": false,
     "start_time": "2025-06-07T14:02:02.276805",
     "status": "completed"
    },
    "tags": []
   },
   "source": [
    "** Now groupby this Date column with the count() aggregate and create a plot of counts of 911 calls.**"
   ]
  },
  {
   "cell_type": "code",
   "execution_count": null,
   "id": "21937e39",
   "metadata": {
    "collapsed": false,
    "jupyter": {
     "outputs_hidden": false
    },
    "papermill": {
     "duration": 0.008727,
     "end_time": "2025-06-07T14:02:02.303184",
     "exception": false,
     "start_time": "2025-06-07T14:02:02.294457",
     "status": "completed"
    },
    "tags": []
   },
   "outputs": [],
   "source": []
  },
  {
   "cell_type": "markdown",
   "id": "b5089ebd",
   "metadata": {
    "papermill": {
     "duration": 0.008601,
     "end_time": "2025-06-07T14:02:02.320648",
     "exception": false,
     "start_time": "2025-06-07T14:02:02.312047",
     "status": "completed"
    },
    "tags": []
   },
   "source": [
    "** Now recreate this plot but create 3 separate plots with each plot representing a Reason for the 911 call**"
   ]
  },
  {
   "cell_type": "code",
   "execution_count": null,
   "id": "10439293",
   "metadata": {
    "collapsed": false,
    "jupyter": {
     "outputs_hidden": false
    },
    "papermill": {
     "duration": 0.009363,
     "end_time": "2025-06-07T14:02:02.339656",
     "exception": false,
     "start_time": "2025-06-07T14:02:02.330293",
     "status": "completed"
    },
    "tags": []
   },
   "outputs": [],
   "source": []
  },
  {
   "cell_type": "code",
   "execution_count": null,
   "id": "a9c9c745",
   "metadata": {
    "collapsed": false,
    "jupyter": {
     "outputs_hidden": false
    },
    "papermill": {
     "duration": 0.009126,
     "end_time": "2025-06-07T14:02:02.357814",
     "exception": false,
     "start_time": "2025-06-07T14:02:02.348688",
     "status": "completed"
    },
    "tags": []
   },
   "outputs": [],
   "source": []
  },
  {
   "cell_type": "code",
   "execution_count": null,
   "id": "23d1feab",
   "metadata": {
    "collapsed": false,
    "jupyter": {
     "outputs_hidden": false
    },
    "papermill": {
     "duration": 0.008619,
     "end_time": "2025-06-07T14:02:02.375424",
     "exception": false,
     "start_time": "2025-06-07T14:02:02.366805",
     "status": "completed"
    },
    "tags": []
   },
   "outputs": [],
   "source": []
  },
  {
   "cell_type": "markdown",
   "id": "42348151",
   "metadata": {
    "collapsed": false,
    "jupyter": {
     "outputs_hidden": false
    },
    "papermill": {
     "duration": 0.009197,
     "end_time": "2025-06-07T14:02:02.393626",
     "exception": false,
     "start_time": "2025-06-07T14:02:02.384429",
     "status": "completed"
    },
    "tags": []
   },
   "source": [
    "____\n",
    "** Now let's move on to creating  heatmaps with seaborn and our data. We'll first need to restructure the dataframe so that the columns become the Hours and the Index becomes the Day of the Week. There are lots of ways to do this, but I would recommend trying to combine groupby with an [unstack](http://pandas.pydata.org/pandas-docs/stable/generated/pandas.DataFrame.unstack.html) method. Reference the solutions if you get stuck on this!**"
   ]
  },
  {
   "cell_type": "code",
   "execution_count": null,
   "id": "afcdb921",
   "metadata": {
    "collapsed": false,
    "jupyter": {
     "outputs_hidden": false
    },
    "papermill": {
     "duration": 0.008587,
     "end_time": "2025-06-07T14:02:02.411156",
     "exception": false,
     "start_time": "2025-06-07T14:02:02.402569",
     "status": "completed"
    },
    "tags": []
   },
   "outputs": [],
   "source": []
  },
  {
   "cell_type": "markdown",
   "id": "54efb4d2",
   "metadata": {
    "collapsed": false,
    "jupyter": {
     "outputs_hidden": false
    },
    "papermill": {
     "duration": 0.008704,
     "end_time": "2025-06-07T14:02:02.428972",
     "exception": false,
     "start_time": "2025-06-07T14:02:02.420268",
     "status": "completed"
    },
    "tags": []
   },
   "source": [
    "** Now create a HeatMap using this new DataFrame. **"
   ]
  },
  {
   "cell_type": "code",
   "execution_count": null,
   "id": "f63df561",
   "metadata": {
    "collapsed": false,
    "jupyter": {
     "outputs_hidden": false
    },
    "papermill": {
     "duration": 0.00936,
     "end_time": "2025-06-07T14:02:02.447263",
     "exception": false,
     "start_time": "2025-06-07T14:02:02.437903",
     "status": "completed"
    },
    "tags": []
   },
   "outputs": [],
   "source": []
  },
  {
   "cell_type": "markdown",
   "id": "abc0139e",
   "metadata": {
    "collapsed": false,
    "jupyter": {
     "outputs_hidden": false
    },
    "papermill": {
     "duration": 0.010355,
     "end_time": "2025-06-07T14:02:02.466908",
     "exception": false,
     "start_time": "2025-06-07T14:02:02.456553",
     "status": "completed"
    },
    "tags": []
   },
   "source": [
    "** Now create a clustermap using this DataFrame. **"
   ]
  },
  {
   "cell_type": "code",
   "execution_count": null,
   "id": "6acebdd8",
   "metadata": {
    "collapsed": false,
    "jupyter": {
     "outputs_hidden": false
    },
    "papermill": {
     "duration": 0.009269,
     "end_time": "2025-06-07T14:02:02.485892",
     "exception": false,
     "start_time": "2025-06-07T14:02:02.476623",
     "status": "completed"
    },
    "tags": []
   },
   "outputs": [],
   "source": []
  },
  {
   "cell_type": "markdown",
   "id": "687526a7",
   "metadata": {
    "papermill": {
     "duration": 0.008742,
     "end_time": "2025-06-07T14:02:02.503731",
     "exception": false,
     "start_time": "2025-06-07T14:02:02.494989",
     "status": "completed"
    },
    "tags": []
   },
   "source": [
    "** Now repeat these same plots and operations, for a DataFrame that shows the Month as the column. **"
   ]
  },
  {
   "cell_type": "code",
   "execution_count": null,
   "id": "982922ac",
   "metadata": {
    "collapsed": false,
    "jupyter": {
     "outputs_hidden": false
    },
    "papermill": {
     "duration": 0.008811,
     "end_time": "2025-06-07T14:02:02.521594",
     "exception": false,
     "start_time": "2025-06-07T14:02:02.512783",
     "status": "completed"
    },
    "tags": []
   },
   "outputs": [],
   "source": []
  },
  {
   "cell_type": "code",
   "execution_count": null,
   "id": "55241a23",
   "metadata": {
    "collapsed": false,
    "jupyter": {
     "outputs_hidden": false
    },
    "papermill": {
     "duration": 0.00953,
     "end_time": "2025-06-07T14:02:02.540242",
     "exception": false,
     "start_time": "2025-06-07T14:02:02.530712",
     "status": "completed"
    },
    "tags": []
   },
   "outputs": [],
   "source": []
  },
  {
   "cell_type": "code",
   "execution_count": null,
   "id": "76b91b0b",
   "metadata": {
    "collapsed": false,
    "jupyter": {
     "outputs_hidden": false
    },
    "papermill": {
     "duration": 0.008652,
     "end_time": "2025-06-07T14:02:02.557841",
     "exception": false,
     "start_time": "2025-06-07T14:02:02.549189",
     "status": "completed"
    },
    "tags": []
   },
   "outputs": [],
   "source": []
  },
  {
   "cell_type": "markdown",
   "id": "8bc245b0",
   "metadata": {
    "collapsed": true,
    "jupyter": {
     "outputs_hidden": true
    },
    "papermill": {
     "duration": 0.008778,
     "end_time": "2025-06-07T14:02:02.575831",
     "exception": false,
     "start_time": "2025-06-07T14:02:02.567053",
     "status": "completed"
    },
    "tags": []
   },
   "source": [
    "**Continue exploring the Data however you see fit!**\n",
    "# Great Job!"
   ]
  }
 ],
 "metadata": {
  "kaggle": {
   "accelerator": "none",
   "dataSources": [
    {
     "datasetId": 7609225,
     "sourceId": 12087604,
     "sourceType": "datasetVersion"
    }
   ],
   "dockerImageVersionId": 31040,
   "isGpuEnabled": false,
   "isInternetEnabled": true,
   "language": "python",
   "sourceType": "notebook"
  },
  "kernelspec": {
   "display_name": "Python 3",
   "language": "python",
   "name": "python3"
  },
  "language_info": {
   "codemirror_mode": {
    "name": "ipython",
    "version": 3
   },
   "file_extension": ".py",
   "mimetype": "text/x-python",
   "name": "python",
   "nbconvert_exporter": "python",
   "pygments_lexer": "ipython3",
   "version": "3.11.11"
  },
  "papermill": {
   "default_parameters": {},
   "duration": 12.423285,
   "end_time": "2025-06-07T14:02:03.306240",
   "environment_variables": {},
   "exception": null,
   "input_path": "__notebook__.ipynb",
   "output_path": "__notebook__.ipynb",
   "parameters": {},
   "start_time": "2025-06-07T14:01:50.882955",
   "version": "2.6.0"
  }
 },
 "nbformat": 4,
 "nbformat_minor": 5
}
