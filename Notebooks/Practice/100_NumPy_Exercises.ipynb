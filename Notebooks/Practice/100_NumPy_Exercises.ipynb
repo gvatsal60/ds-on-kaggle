{
 "cells": [
  {
   "cell_type": "markdown",
   "id": "50449b03",
   "metadata": {
    "papermill": {
     "duration": 0.022833,
     "end_time": "2025-06-25T12:29:46.309164",
     "exception": false,
     "start_time": "2025-06-25T12:29:46.286331",
     "status": "completed"
    },
    "tags": []
   },
   "source": [
    "# 🎯 100 NumPy Exercises\n",
    "\n",
    "Welcome to **100 NumPy Exercises** — a curated collection of problems designed to sharpen your skills in NumPy, whether you're a beginner or a seasoned data wrangler.\n",
    "\n",
    "---\n",
    "\n",
    "📌 **About This Collection**\n",
    "\n",
    "This set of exercises has been gathered from:\n",
    "- The **NumPy mailing list**\n",
    "- **Stack Overflow** discussions\n",
    "- The **official NumPy documentation**\n",
    "\n",
    "The primary goal is to serve as:\n",
    "- 📚 A quick reference for both new and experienced users  \n",
    "- 🎓 A practical toolkit for educators and learners\n",
    "\n",
    "---\n",
    "\n",
    "💬 **Suggestions or Corrections?**\n",
    "\n",
    "If you find an error or have a better solution, feel free to contribute!  \n",
    "➡️ Open an issue here: [numpy-100 GitHub Issues](https://github.com/rougier/numpy-100/issues)\n",
    "\n",
    "---\n",
    "\n",
    "📄 **Credits and Licensing**\n",
    "\n",
    "Includes code and ideas derived from work by [Nicolas P. Rougier](https://github.com/rougier), \n",
    "used in accordance with the terms of the original [license](https://github.com/rougier/numpy-100/blob/master/LICENSE.txt).\n",
    "\n",
    "---\n",
    "\n",
    "🧠 **Ready to dive in?**  \n",
    "Let’s explore the power of NumPy — one exercise at a time!\n"
   ]
  },
  {
   "cell_type": "markdown",
   "id": "c5d39456",
   "metadata": {
    "papermill": {
     "duration": 0.020317,
     "end_time": "2025-06-25T12:29:46.349311",
     "exception": false,
     "start_time": "2025-06-25T12:29:46.328994",
     "status": "completed"
    },
    "tags": []
   },
   "source": [
    "#### 1. Import the numpy package under the name `np` (★☆☆)"
   ]
  },
  {
   "cell_type": "code",
   "execution_count": 1,
   "id": "6c9caaf0",
   "metadata": {
    "execution": {
     "iopub.execute_input": "2025-06-25T12:29:46.389134Z",
     "iopub.status.busy": "2025-06-25T12:29:46.388842Z",
     "iopub.status.idle": "2025-06-25T12:29:46.395980Z",
     "shell.execute_reply": "2025-06-25T12:29:46.395124Z"
    },
    "papermill": {
     "duration": 0.02893,
     "end_time": "2025-06-25T12:29:46.397665",
     "exception": false,
     "start_time": "2025-06-25T12:29:46.368735",
     "status": "completed"
    },
    "tags": []
   },
   "outputs": [],
   "source": [
    "import numpy as np"
   ]
  },
  {
   "cell_type": "markdown",
   "id": "d6594694",
   "metadata": {
    "papermill": {
     "duration": 0.018905,
     "end_time": "2025-06-25T12:29:46.436186",
     "exception": false,
     "start_time": "2025-06-25T12:29:46.417281",
     "status": "completed"
    },
    "tags": []
   },
   "source": [
    "#### 2. Print the numpy version and the configuration (★☆☆)"
   ]
  },
  {
   "cell_type": "code",
   "execution_count": 2,
   "id": "c3d1cf41",
   "metadata": {
    "execution": {
     "iopub.execute_input": "2025-06-25T12:29:46.537568Z",
     "iopub.status.busy": "2025-06-25T12:29:46.537267Z",
     "iopub.status.idle": "2025-06-25T12:29:46.542848Z",
     "shell.execute_reply": "2025-06-25T12:29:46.542029Z"
    },
    "papermill": {
     "duration": 0.08844,
     "end_time": "2025-06-25T12:29:46.544220",
     "exception": false,
     "start_time": "2025-06-25T12:29:46.455780",
     "status": "completed"
    },
    "tags": []
   },
   "outputs": [
    {
     "name": "stdout",
     "output_type": "stream",
     "text": [
      "★ NumPy Version: 1.26.4\n",
      "☆ NumPy Configuration:\n",
      "blas_armpl_info:\n",
      "  NOT AVAILABLE\n",
      "blas_mkl_info:\n",
      "    libraries = ['mkl_rt', 'pthread']\n",
      "    library_dirs = ['/home/sat_bot/base/conda-bld/numpy_and_dev_1715296241721/_h_env_placehold_placehold_placehold_placehold_placehold_placehold_placehold_placehold_placehold_placehold_placehold_placehold_placehold_placehold_placehold_placehold_placehold_placehold_placehold_p/lib']\n",
      "    define_macros = [('SCIPY_MKL_H', None), ('HAVE_CBLAS', None)]\n",
      "    include_dirs = ['/home/sat_bot/base/conda-bld/numpy_and_dev_1715296241721/_h_env_placehold_placehold_placehold_placehold_placehold_placehold_placehold_placehold_placehold_placehold_placehold_placehold_placehold_placehold_placehold_placehold_placehold_placehold_placehold_p/include']\n",
      "blas_opt_info:\n",
      "    libraries = ['mkl_rt', 'pthread']\n",
      "    library_dirs = ['/home/sat_bot/base/conda-bld/numpy_and_dev_1715296241721/_h_env_placehold_placehold_placehold_placehold_placehold_placehold_placehold_placehold_placehold_placehold_placehold_placehold_placehold_placehold_placehold_placehold_placehold_placehold_placehold_p/lib']\n",
      "    define_macros = [('SCIPY_MKL_H', None), ('HAVE_CBLAS', None)]\n",
      "    include_dirs = ['/home/sat_bot/base/conda-bld/numpy_and_dev_1715296241721/_h_env_placehold_placehold_placehold_placehold_placehold_placehold_placehold_placehold_placehold_placehold_placehold_placehold_placehold_placehold_placehold_placehold_placehold_placehold_placehold_p/include']\n",
      "lapack_armpl_info:\n",
      "  NOT AVAILABLE\n",
      "lapack_mkl_info:\n",
      "    libraries = ['mkl_rt', 'pthread']\n",
      "    library_dirs = ['/home/sat_bot/base/conda-bld/numpy_and_dev_1715296241721/_h_env_placehold_placehold_placehold_placehold_placehold_placehold_placehold_placehold_placehold_placehold_placehold_placehold_placehold_placehold_placehold_placehold_placehold_placehold_placehold_p/lib']\n",
      "    define_macros = [('SCIPY_MKL_H', None), ('HAVE_CBLAS', None)]\n",
      "    include_dirs = ['/home/sat_bot/base/conda-bld/numpy_and_dev_1715296241721/_h_env_placehold_placehold_placehold_placehold_placehold_placehold_placehold_placehold_placehold_placehold_placehold_placehold_placehold_placehold_placehold_placehold_placehold_placehold_placehold_p/include']\n",
      "lapack_opt_info:\n",
      "    libraries = ['mkl_rt', 'pthread']\n",
      "    library_dirs = ['/home/sat_bot/base/conda-bld/numpy_and_dev_1715296241721/_h_env_placehold_placehold_placehold_placehold_placehold_placehold_placehold_placehold_placehold_placehold_placehold_placehold_placehold_placehold_placehold_placehold_placehold_placehold_placehold_p/lib']\n",
      "    define_macros = [('SCIPY_MKL_H', None), ('HAVE_CBLAS', None)]\n",
      "    include_dirs = ['/home/sat_bot/base/conda-bld/numpy_and_dev_1715296241721/_h_env_placehold_placehold_placehold_placehold_placehold_placehold_placehold_placehold_placehold_placehold_placehold_placehold_placehold_placehold_placehold_placehold_placehold_placehold_placehold_p/include']\n",
      "Supported SIMD extensions in this NumPy install:\n",
      "    baseline = SSE,SSE2,SSE3\n",
      "    found = SSSE3,SSE41,POPCNT,SSE42,AVX,F16C,FMA3,AVX2\n",
      "    not found = AVX512F,AVX512CD,AVX512_KNL,AVX512_KNM,AVX512_SKX,AVX512_CLX,AVX512_CNL,AVX512_ICL,AVX512_SPR\n"
     ]
    }
   ],
   "source": [
    "print(\"★ NumPy Version:\", np.__version__)\n",
    "print(\"☆ NumPy Configuration:\")\n",
    "np.show_config()"
   ]
  },
  {
   "cell_type": "markdown",
   "id": "a42b63a9",
   "metadata": {
    "papermill": {
     "duration": 0.019411,
     "end_time": "2025-06-25T12:29:46.583373",
     "exception": false,
     "start_time": "2025-06-25T12:29:46.563962",
     "status": "completed"
    },
    "tags": []
   },
   "source": [
    "#### 3. Create a null vector of size 10 (★☆☆)"
   ]
  },
  {
   "cell_type": "code",
   "execution_count": 3,
   "id": "753c56a1",
   "metadata": {
    "execution": {
     "iopub.execute_input": "2025-06-25T12:29:46.625019Z",
     "iopub.status.busy": "2025-06-25T12:29:46.624380Z",
     "iopub.status.idle": "2025-06-25T12:29:46.630728Z",
     "shell.execute_reply": "2025-06-25T12:29:46.630078Z"
    },
    "papermill": {
     "duration": 0.028656,
     "end_time": "2025-06-25T12:29:46.631876",
     "exception": false,
     "start_time": "2025-06-25T12:29:46.603220",
     "status": "completed"
    },
    "tags": []
   },
   "outputs": [
    {
     "data": {
      "text/plain": [
       "array([0., 0., 0., 0., 0., 0., 0., 0., 0., 0.])"
      ]
     },
     "execution_count": 3,
     "metadata": {},
     "output_type": "execute_result"
    }
   ],
   "source": [
    "null_vec = np.zeros(10)\n",
    "null_vec"
   ]
  },
  {
   "cell_type": "markdown",
   "id": "d2538809",
   "metadata": {
    "papermill": {
     "duration": 0.019281,
     "end_time": "2025-06-25T12:29:46.670682",
     "exception": false,
     "start_time": "2025-06-25T12:29:46.651401",
     "status": "completed"
    },
    "tags": []
   },
   "source": [
    "#### 4. How to find the memory size of any array (★☆☆)"
   ]
  },
  {
   "cell_type": "code",
   "execution_count": 4,
   "id": "6f9fed9a",
   "metadata": {
    "execution": {
     "iopub.execute_input": "2025-06-25T12:29:46.711333Z",
     "iopub.status.busy": "2025-06-25T12:29:46.710989Z",
     "iopub.status.idle": "2025-06-25T12:29:46.716112Z",
     "shell.execute_reply": "2025-06-25T12:29:46.715216Z"
    },
    "papermill": {
     "duration": 0.027357,
     "end_time": "2025-06-25T12:29:46.717502",
     "exception": false,
     "start_time": "2025-06-25T12:29:46.690145",
     "status": "completed"
    },
    "tags": []
   },
   "outputs": [
    {
     "name": "stdout",
     "output_type": "stream",
     "text": [
      "Null Vector Size: 10\n",
      "Null Vector ItemSize: 8\n"
     ]
    }
   ],
   "source": [
    "print(\"Null Vector Size:\", null_vec.size)\n",
    "print(\"Null Vector ItemSize:\", null_vec.itemsize)"
   ]
  },
  {
   "cell_type": "markdown",
   "id": "8635d78a",
   "metadata": {
    "papermill": {
     "duration": 0.019444,
     "end_time": "2025-06-25T12:29:46.756750",
     "exception": false,
     "start_time": "2025-06-25T12:29:46.737306",
     "status": "completed"
    },
    "tags": []
   },
   "source": [
    "#### 5. How to get the documentation of the numpy add function from the command line? (★☆☆)"
   ]
  },
  {
   "cell_type": "code",
   "execution_count": 5,
   "id": "40179c89",
   "metadata": {
    "execution": {
     "iopub.execute_input": "2025-06-25T12:29:46.797795Z",
     "iopub.status.busy": "2025-06-25T12:29:46.797478Z",
     "iopub.status.idle": "2025-06-25T12:29:46.802266Z",
     "shell.execute_reply": "2025-06-25T12:29:46.801280Z"
    },
    "papermill": {
     "duration": 0.026525,
     "end_time": "2025-06-25T12:29:46.803642",
     "exception": false,
     "start_time": "2025-06-25T12:29:46.777117",
     "status": "completed"
    },
    "tags": []
   },
   "outputs": [
    {
     "name": "stdout",
     "output_type": "stream",
     "text": [
      "add(x1, x2, /, out=None, *, where=True, casting='same_kind', order='K', dtype=None, subok=True[, signature, extobj])\n",
      "\n",
      "Add arguments element-wise.\n",
      "\n",
      "Parameters\n",
      "----------\n",
      "x1, x2 : array_like\n",
      "    The arrays to be added.\n",
      "    If ``x1.shape != x2.shape``, they must be broadcastable to a common\n",
      "    shape (which becomes the shape of the output).\n",
      "out : ndarray, None, or tuple of ndarray and None, optional\n",
      "    A location into which the result is stored. If provided, it must have\n",
      "    a shape that the inputs broadcast to. If not provided or None,\n",
      "    a freshly-allocated array is returned. A tuple (possible only as a\n",
      "    keyword argument) must have length equal to the number of outputs.\n",
      "where : array_like, optional\n",
      "    This condition is broadcast over the input. At locations where the\n",
      "    condition is True, the `out` array will be set to the ufunc result.\n",
      "    Elsewhere, the `out` array will retain its original value.\n",
      "    Note that if an uninitialized `out` array is created via the default\n",
      "    ``out=None``, locations within it where the condition is False will\n",
      "    remain uninitialized.\n",
      "**kwargs\n",
      "    For other keyword-only arguments, see the\n",
      "    :ref:`ufunc docs <ufuncs.kwargs>`.\n",
      "\n",
      "Returns\n",
      "-------\n",
      "add : ndarray or scalar\n",
      "    The sum of `x1` and `x2`, element-wise.\n",
      "    This is a scalar if both `x1` and `x2` are scalars.\n",
      "\n",
      "Notes\n",
      "-----\n",
      "Equivalent to `x1` + `x2` in terms of array broadcasting.\n",
      "\n",
      "Examples\n",
      "--------\n",
      ">>> np.add(1.0, 4.0)\n",
      "5.0\n",
      ">>> x1 = np.arange(9.0).reshape((3, 3))\n",
      ">>> x2 = np.arange(3.0)\n",
      ">>> np.add(x1, x2)\n",
      "array([[  0.,   2.,   4.],\n",
      "       [  3.,   5.,   7.],\n",
      "       [  6.,   8.,  10.]])\n",
      "\n",
      "The ``+`` operator can be used as a shorthand for ``np.add`` on ndarrays.\n",
      "\n",
      ">>> x1 = np.arange(9.0).reshape((3, 3))\n",
      ">>> x2 = np.arange(3.0)\n",
      ">>> x1 + x2\n",
      "array([[ 0.,  2.,  4.],\n",
      "       [ 3.,  5.,  7.],\n",
      "       [ 6.,  8., 10.]])\n"
     ]
    }
   ],
   "source": [
    "# np.add?\n",
    "# print(np.info('add'))\n",
    "print(np.add.__doc__)"
   ]
  },
  {
   "cell_type": "markdown",
   "id": "69afd211",
   "metadata": {
    "papermill": {
     "duration": 0.019565,
     "end_time": "2025-06-25T12:29:46.842943",
     "exception": false,
     "start_time": "2025-06-25T12:29:46.823378",
     "status": "completed"
    },
    "tags": []
   },
   "source": [
    "#### 6. Create a null vector of size 10 but the fifth value which is 1 (★☆☆)"
   ]
  },
  {
   "cell_type": "code",
   "execution_count": 6,
   "id": "d11c591f",
   "metadata": {
    "execution": {
     "iopub.execute_input": "2025-06-25T12:29:46.884063Z",
     "iopub.status.busy": "2025-06-25T12:29:46.883165Z",
     "iopub.status.idle": "2025-06-25T12:29:46.889262Z",
     "shell.execute_reply": "2025-06-25T12:29:46.888433Z"
    },
    "papermill": {
     "duration": 0.027938,
     "end_time": "2025-06-25T12:29:46.890632",
     "exception": false,
     "start_time": "2025-06-25T12:29:46.862694",
     "status": "completed"
    },
    "tags": []
   },
   "outputs": [
    {
     "data": {
      "text/plain": [
       "array([0., 0., 0., 0., 1., 0., 0., 0., 0., 0.])"
      ]
     },
     "execution_count": 6,
     "metadata": {},
     "output_type": "execute_result"
    }
   ],
   "source": [
    "f_null_vec = np.zeros(10)\n",
    "f_null_vec[4] = 1\n",
    "\n",
    "f_null_vec"
   ]
  },
  {
   "cell_type": "markdown",
   "id": "9fa5c840",
   "metadata": {
    "papermill": {
     "duration": 0.019508,
     "end_time": "2025-06-25T12:29:46.930264",
     "exception": false,
     "start_time": "2025-06-25T12:29:46.910756",
     "status": "completed"
    },
    "tags": []
   },
   "source": [
    "#### 7. Create a vector with values ranging from 10 to 49 (★☆☆)"
   ]
  },
  {
   "cell_type": "code",
   "execution_count": 7,
   "id": "a8f29810",
   "metadata": {
    "execution": {
     "iopub.execute_input": "2025-06-25T12:29:46.970925Z",
     "iopub.status.busy": "2025-06-25T12:29:46.970629Z",
     "iopub.status.idle": "2025-06-25T12:29:46.978017Z",
     "shell.execute_reply": "2025-06-25T12:29:46.977292Z"
    },
    "papermill": {
     "duration": 0.029674,
     "end_time": "2025-06-25T12:29:46.979554",
     "exception": false,
     "start_time": "2025-06-25T12:29:46.949880",
     "status": "completed"
    },
    "tags": []
   },
   "outputs": [
    {
     "data": {
      "text/plain": [
       "array([10, 11, 12, 13, 14, 15, 16, 17, 18, 19, 20, 21, 22, 23, 24, 25, 26,\n",
       "       27, 28, 29, 30, 31, 32, 33, 34, 35, 36, 37, 38, 39, 40, 41, 42, 43,\n",
       "       44, 45, 46, 47, 48])"
      ]
     },
     "execution_count": 7,
     "metadata": {},
     "output_type": "execute_result"
    }
   ],
   "source": [
    "vecr = np.arange(10, 49)\n",
    "\n",
    "vecr"
   ]
  },
  {
   "cell_type": "markdown",
   "id": "786ece43",
   "metadata": {
    "papermill": {
     "duration": 0.019493,
     "end_time": "2025-06-25T12:29:47.019361",
     "exception": false,
     "start_time": "2025-06-25T12:29:46.999868",
     "status": "completed"
    },
    "tags": []
   },
   "source": [
    "#### 8. Reverse a vector (first element becomes last) (★☆☆)"
   ]
  },
  {
   "cell_type": "code",
   "execution_count": 8,
   "id": "f83602b9",
   "metadata": {
    "execution": {
     "iopub.execute_input": "2025-06-25T12:29:47.060115Z",
     "iopub.status.busy": "2025-06-25T12:29:47.059832Z",
     "iopub.status.idle": "2025-06-25T12:29:47.065402Z",
     "shell.execute_reply": "2025-06-25T12:29:47.064605Z"
    },
    "papermill": {
     "duration": 0.027593,
     "end_time": "2025-06-25T12:29:47.066695",
     "exception": false,
     "start_time": "2025-06-25T12:29:47.039102",
     "status": "completed"
    },
    "tags": []
   },
   "outputs": [
    {
     "data": {
      "text/plain": [
       "array([48, 47, 46, 45, 44, 43, 42, 41, 40, 39, 38, 37, 36, 35, 34, 33, 32,\n",
       "       31, 30, 29, 28, 27, 26, 25, 24, 23, 22, 21, 20, 19, 18, 17, 16, 15,\n",
       "       14, 13, 12, 11, 10])"
      ]
     },
     "execution_count": 8,
     "metadata": {},
     "output_type": "execute_result"
    }
   ],
   "source": [
    "vecr[::-1]"
   ]
  },
  {
   "cell_type": "markdown",
   "id": "9116b57a",
   "metadata": {
    "papermill": {
     "duration": 0.019538,
     "end_time": "2025-06-25T12:29:47.106457",
     "exception": false,
     "start_time": "2025-06-25T12:29:47.086919",
     "status": "completed"
    },
    "tags": []
   },
   "source": [
    "#### 9. Create a 3x3 matrix with values ranging from 0 to 8 (★☆☆)"
   ]
  },
  {
   "cell_type": "code",
   "execution_count": null,
   "id": "2abcc39d",
   "metadata": {
    "papermill": {
     "duration": 0.019457,
     "end_time": "2025-06-25T12:29:47.145756",
     "exception": false,
     "start_time": "2025-06-25T12:29:47.126299",
     "status": "completed"
    },
    "tags": []
   },
   "outputs": [],
   "source": []
  },
  {
   "cell_type": "markdown",
   "id": "b86c5a57",
   "metadata": {
    "papermill": {
     "duration": 0.019337,
     "end_time": "2025-06-25T12:29:47.185116",
     "exception": false,
     "start_time": "2025-06-25T12:29:47.165779",
     "status": "completed"
    },
    "tags": []
   },
   "source": [
    "#### 10. Find indices of non-zero elements from [1,2,0,0,4,0] (★☆☆)"
   ]
  },
  {
   "cell_type": "code",
   "execution_count": null,
   "id": "7d051088",
   "metadata": {
    "papermill": {
     "duration": 0.019516,
     "end_time": "2025-06-25T12:29:47.224538",
     "exception": false,
     "start_time": "2025-06-25T12:29:47.205022",
     "status": "completed"
    },
    "tags": []
   },
   "outputs": [],
   "source": []
  },
  {
   "cell_type": "markdown",
   "id": "2133a98c",
   "metadata": {
    "papermill": {
     "duration": 0.019464,
     "end_time": "2025-06-25T12:29:47.263809",
     "exception": false,
     "start_time": "2025-06-25T12:29:47.244345",
     "status": "completed"
    },
    "tags": []
   },
   "source": [
    "#### 11. Create a 3x3 identity matrix (★☆☆)"
   ]
  },
  {
   "cell_type": "code",
   "execution_count": null,
   "id": "2dfe32f1",
   "metadata": {
    "papermill": {
     "duration": 0.019446,
     "end_time": "2025-06-25T12:29:47.302973",
     "exception": false,
     "start_time": "2025-06-25T12:29:47.283527",
     "status": "completed"
    },
    "tags": []
   },
   "outputs": [],
   "source": []
  },
  {
   "cell_type": "markdown",
   "id": "48d3b6a2",
   "metadata": {
    "papermill": {
     "duration": 0.022073,
     "end_time": "2025-06-25T12:29:47.344857",
     "exception": false,
     "start_time": "2025-06-25T12:29:47.322784",
     "status": "completed"
    },
    "tags": []
   },
   "source": [
    "#### 12. Create a 3x3x3 array with random values (★☆☆)"
   ]
  },
  {
   "cell_type": "code",
   "execution_count": null,
   "id": "7dd6ee34",
   "metadata": {
    "papermill": {
     "duration": 0.02009,
     "end_time": "2025-06-25T12:29:47.385135",
     "exception": false,
     "start_time": "2025-06-25T12:29:47.365045",
     "status": "completed"
    },
    "tags": []
   },
   "outputs": [],
   "source": []
  },
  {
   "cell_type": "markdown",
   "id": "dccd712e",
   "metadata": {
    "papermill": {
     "duration": 0.019508,
     "end_time": "2025-06-25T12:29:47.424491",
     "exception": false,
     "start_time": "2025-06-25T12:29:47.404983",
     "status": "completed"
    },
    "tags": []
   },
   "source": [
    "#### 13. Create a 10x10 array with random values and find the minimum and maximum values (★☆☆)"
   ]
  },
  {
   "cell_type": "code",
   "execution_count": null,
   "id": "8b061f1a",
   "metadata": {
    "papermill": {
     "duration": 0.019548,
     "end_time": "2025-06-25T12:29:47.463868",
     "exception": false,
     "start_time": "2025-06-25T12:29:47.444320",
     "status": "completed"
    },
    "tags": []
   },
   "outputs": [],
   "source": []
  },
  {
   "cell_type": "markdown",
   "id": "45b8d648",
   "metadata": {
    "papermill": {
     "duration": 0.019442,
     "end_time": "2025-06-25T12:29:47.503044",
     "exception": false,
     "start_time": "2025-06-25T12:29:47.483602",
     "status": "completed"
    },
    "tags": []
   },
   "source": [
    "#### 14. Create a random vector of size 30 and find the mean value (★☆☆)"
   ]
  },
  {
   "cell_type": "code",
   "execution_count": null,
   "id": "e1c96986",
   "metadata": {
    "papermill": {
     "duration": 0.019494,
     "end_time": "2025-06-25T12:29:47.542407",
     "exception": false,
     "start_time": "2025-06-25T12:29:47.522913",
     "status": "completed"
    },
    "tags": []
   },
   "outputs": [],
   "source": []
  },
  {
   "cell_type": "markdown",
   "id": "a758a522",
   "metadata": {
    "papermill": {
     "duration": 0.020497,
     "end_time": "2025-06-25T12:29:47.582706",
     "exception": false,
     "start_time": "2025-06-25T12:29:47.562209",
     "status": "completed"
    },
    "tags": []
   },
   "source": [
    "#### 15. Create a 2d array with 1 on the border and 0 inside (★☆☆)"
   ]
  },
  {
   "cell_type": "code",
   "execution_count": null,
   "id": "fee94df1",
   "metadata": {
    "papermill": {
     "duration": 0.019463,
     "end_time": "2025-06-25T12:29:47.622170",
     "exception": false,
     "start_time": "2025-06-25T12:29:47.602707",
     "status": "completed"
    },
    "tags": []
   },
   "outputs": [],
   "source": []
  },
  {
   "cell_type": "markdown",
   "id": "12b1249e",
   "metadata": {
    "papermill": {
     "duration": 0.019616,
     "end_time": "2025-06-25T12:29:47.662328",
     "exception": false,
     "start_time": "2025-06-25T12:29:47.642712",
     "status": "completed"
    },
    "tags": []
   },
   "source": [
    "#### 16. How to add a border (filled with 0's) around an existing array? (★☆☆)"
   ]
  },
  {
   "cell_type": "code",
   "execution_count": null,
   "id": "4db1481c",
   "metadata": {
    "papermill": {
     "duration": 0.019888,
     "end_time": "2025-06-25T12:29:47.702049",
     "exception": false,
     "start_time": "2025-06-25T12:29:47.682161",
     "status": "completed"
    },
    "tags": []
   },
   "outputs": [],
   "source": []
  },
  {
   "cell_type": "markdown",
   "id": "18ed0e3a",
   "metadata": {
    "papermill": {
     "duration": 0.0197,
     "end_time": "2025-06-25T12:29:47.741659",
     "exception": false,
     "start_time": "2025-06-25T12:29:47.721959",
     "status": "completed"
    },
    "tags": []
   },
   "source": [
    "#### 17. What is the result of the following expression? (★☆☆)\n",
    "```python\n",
    "0 * np.nan\n",
    "np.nan == np.nan\n",
    "np.inf > np.nan\n",
    "np.nan - np.nan\n",
    "np.nan in set([np.nan])\n",
    "0.3 == 3 * 0.1\n",
    "```"
   ]
  },
  {
   "cell_type": "code",
   "execution_count": null,
   "id": "7dd05a71",
   "metadata": {
    "papermill": {
     "duration": 0.020021,
     "end_time": "2025-06-25T12:29:47.781321",
     "exception": false,
     "start_time": "2025-06-25T12:29:47.761300",
     "status": "completed"
    },
    "tags": []
   },
   "outputs": [],
   "source": []
  },
  {
   "cell_type": "markdown",
   "id": "2beed2a7",
   "metadata": {
    "papermill": {
     "duration": 0.019656,
     "end_time": "2025-06-25T12:29:47.820906",
     "exception": false,
     "start_time": "2025-06-25T12:29:47.801250",
     "status": "completed"
    },
    "tags": []
   },
   "source": [
    "#### 18. Create a 5x5 matrix with values 1,2,3,4 just below the diagonal (★☆☆)"
   ]
  },
  {
   "cell_type": "code",
   "execution_count": null,
   "id": "ea6cfe19",
   "metadata": {
    "papermill": {
     "duration": 0.019549,
     "end_time": "2025-06-25T12:29:47.860407",
     "exception": false,
     "start_time": "2025-06-25T12:29:47.840858",
     "status": "completed"
    },
    "tags": []
   },
   "outputs": [],
   "source": []
  },
  {
   "cell_type": "markdown",
   "id": "7913728e",
   "metadata": {
    "papermill": {
     "duration": 0.019576,
     "end_time": "2025-06-25T12:29:47.899959",
     "exception": false,
     "start_time": "2025-06-25T12:29:47.880383",
     "status": "completed"
    },
    "tags": []
   },
   "source": [
    "#### 19. Create a 8x8 matrix and fill it with a checkerboard pattern (★☆☆)"
   ]
  },
  {
   "cell_type": "code",
   "execution_count": null,
   "id": "86bda0f4",
   "metadata": {
    "papermill": {
     "duration": 0.020196,
     "end_time": "2025-06-25T12:29:47.939926",
     "exception": false,
     "start_time": "2025-06-25T12:29:47.919730",
     "status": "completed"
    },
    "tags": []
   },
   "outputs": [],
   "source": []
  },
  {
   "cell_type": "markdown",
   "id": "ea2646ce",
   "metadata": {
    "papermill": {
     "duration": 0.019678,
     "end_time": "2025-06-25T12:29:47.979623",
     "exception": false,
     "start_time": "2025-06-25T12:29:47.959945",
     "status": "completed"
    },
    "tags": []
   },
   "source": [
    "#### 20. Consider a (6,7,8) shape array, what is the index (x,y,z) of the 100th element? (★☆☆)"
   ]
  },
  {
   "cell_type": "code",
   "execution_count": null,
   "id": "b94662fe",
   "metadata": {
    "papermill": {
     "duration": 0.019618,
     "end_time": "2025-06-25T12:29:48.019250",
     "exception": false,
     "start_time": "2025-06-25T12:29:47.999632",
     "status": "completed"
    },
    "tags": []
   },
   "outputs": [],
   "source": []
  },
  {
   "cell_type": "markdown",
   "id": "690d211b",
   "metadata": {
    "papermill": {
     "duration": 0.019742,
     "end_time": "2025-06-25T12:29:48.059007",
     "exception": false,
     "start_time": "2025-06-25T12:29:48.039265",
     "status": "completed"
    },
    "tags": []
   },
   "source": [
    "#### 21. Create a checkerboard 8x8 matrix using the tile function (★☆☆)"
   ]
  },
  {
   "cell_type": "code",
   "execution_count": null,
   "id": "afdb9754",
   "metadata": {
    "papermill": {
     "duration": 0.019476,
     "end_time": "2025-06-25T12:29:48.098726",
     "exception": false,
     "start_time": "2025-06-25T12:29:48.079250",
     "status": "completed"
    },
    "tags": []
   },
   "outputs": [],
   "source": []
  },
  {
   "cell_type": "markdown",
   "id": "2d3d0cd7",
   "metadata": {
    "papermill": {
     "duration": 0.019667,
     "end_time": "2025-06-25T12:29:48.138377",
     "exception": false,
     "start_time": "2025-06-25T12:29:48.118710",
     "status": "completed"
    },
    "tags": []
   },
   "source": [
    "#### 22. Normalize a 5x5 random matrix (★☆☆)"
   ]
  },
  {
   "cell_type": "code",
   "execution_count": null,
   "id": "7743f188",
   "metadata": {
    "papermill": {
     "duration": 0.019467,
     "end_time": "2025-06-25T12:29:48.177894",
     "exception": false,
     "start_time": "2025-06-25T12:29:48.158427",
     "status": "completed"
    },
    "tags": []
   },
   "outputs": [],
   "source": []
  },
  {
   "cell_type": "markdown",
   "id": "4eeee1b4",
   "metadata": {
    "papermill": {
     "duration": 0.019569,
     "end_time": "2025-06-25T12:29:48.217368",
     "exception": false,
     "start_time": "2025-06-25T12:29:48.197799",
     "status": "completed"
    },
    "tags": []
   },
   "source": [
    "#### 23. Create a custom dtype that describes a color as four unsigned bytes (RGBA) (★☆☆)"
   ]
  },
  {
   "cell_type": "code",
   "execution_count": null,
   "id": "bc2bdd0f",
   "metadata": {
    "papermill": {
     "duration": 0.019669,
     "end_time": "2025-06-25T12:29:48.256821",
     "exception": false,
     "start_time": "2025-06-25T12:29:48.237152",
     "status": "completed"
    },
    "tags": []
   },
   "outputs": [],
   "source": []
  },
  {
   "cell_type": "markdown",
   "id": "a25b718d",
   "metadata": {
    "papermill": {
     "duration": 0.019596,
     "end_time": "2025-06-25T12:29:48.296203",
     "exception": false,
     "start_time": "2025-06-25T12:29:48.276607",
     "status": "completed"
    },
    "tags": []
   },
   "source": [
    "#### 24. Multiply a 5x3 matrix by a 3x2 matrix (real matrix product) (★☆☆)"
   ]
  },
  {
   "cell_type": "code",
   "execution_count": null,
   "id": "2804e4ed",
   "metadata": {
    "papermill": {
     "duration": 0.019932,
     "end_time": "2025-06-25T12:29:48.337037",
     "exception": false,
     "start_time": "2025-06-25T12:29:48.317105",
     "status": "completed"
    },
    "tags": []
   },
   "outputs": [],
   "source": []
  },
  {
   "cell_type": "markdown",
   "id": "fe270d4d",
   "metadata": {
    "papermill": {
     "duration": 0.019515,
     "end_time": "2025-06-25T12:29:48.377776",
     "exception": false,
     "start_time": "2025-06-25T12:29:48.358261",
     "status": "completed"
    },
    "tags": []
   },
   "source": [
    "#### 25. Given a 1D array, negate all elements which are between 3 and 8, in place. (★☆☆)"
   ]
  },
  {
   "cell_type": "code",
   "execution_count": null,
   "id": "ccf26c4e",
   "metadata": {
    "papermill": {
     "duration": 0.019662,
     "end_time": "2025-06-25T12:29:48.417384",
     "exception": false,
     "start_time": "2025-06-25T12:29:48.397722",
     "status": "completed"
    },
    "tags": []
   },
   "outputs": [],
   "source": []
  },
  {
   "cell_type": "markdown",
   "id": "8345dfb7",
   "metadata": {
    "papermill": {
     "duration": 0.019639,
     "end_time": "2025-06-25T12:29:48.457033",
     "exception": false,
     "start_time": "2025-06-25T12:29:48.437394",
     "status": "completed"
    },
    "tags": []
   },
   "source": [
    "#### 26. What is the output of the following script? (★☆☆)\n",
    "```python\n",
    "# Author: Jake VanderPlas\n",
    "\n",
    "print(sum(range(5),-1))\n",
    "from numpy import *\n",
    "print(sum(range(5),-1))\n",
    "```"
   ]
  },
  {
   "cell_type": "code",
   "execution_count": null,
   "id": "20757293",
   "metadata": {
    "papermill": {
     "duration": 0.019694,
     "end_time": "2025-06-25T12:29:48.496670",
     "exception": false,
     "start_time": "2025-06-25T12:29:48.476976",
     "status": "completed"
    },
    "tags": []
   },
   "outputs": [],
   "source": []
  },
  {
   "cell_type": "markdown",
   "id": "1a923ef7",
   "metadata": {
    "papermill": {
     "duration": 0.020397,
     "end_time": "2025-06-25T12:29:48.537134",
     "exception": false,
     "start_time": "2025-06-25T12:29:48.516737",
     "status": "completed"
    },
    "tags": []
   },
   "source": [
    "#### 27. Consider an integer vector Z, which of these expressions are legal? (★☆☆)\n",
    "```python\n",
    "Z**Z\n",
    "2 << Z >> 2\n",
    "Z <- Z\n",
    "1j*Z\n",
    "Z/1/1\n",
    "Z<Z>Z\n",
    "```"
   ]
  },
  {
   "cell_type": "code",
   "execution_count": null,
   "id": "5417b030",
   "metadata": {
    "papermill": {
     "duration": 0.01987,
     "end_time": "2025-06-25T12:29:48.577840",
     "exception": false,
     "start_time": "2025-06-25T12:29:48.557970",
     "status": "completed"
    },
    "tags": []
   },
   "outputs": [],
   "source": []
  },
  {
   "cell_type": "markdown",
   "id": "87155c1e",
   "metadata": {
    "papermill": {
     "duration": 0.020204,
     "end_time": "2025-06-25T12:29:48.618126",
     "exception": false,
     "start_time": "2025-06-25T12:29:48.597922",
     "status": "completed"
    },
    "tags": []
   },
   "source": [
    "#### 28. What are the result of the following expressions? (★☆☆)\n",
    "```python\n",
    "np.array(0) / np.array(0)\n",
    "np.array(0) // np.array(0)\n",
    "np.array([np.nan]).astype(int).astype(float)\n",
    "```"
   ]
  },
  {
   "cell_type": "code",
   "execution_count": null,
   "id": "e7adf51c",
   "metadata": {
    "papermill": {
     "duration": 0.019781,
     "end_time": "2025-06-25T12:29:48.657852",
     "exception": false,
     "start_time": "2025-06-25T12:29:48.638071",
     "status": "completed"
    },
    "tags": []
   },
   "outputs": [],
   "source": []
  },
  {
   "cell_type": "markdown",
   "id": "d534a7a6",
   "metadata": {
    "papermill": {
     "duration": 0.020174,
     "end_time": "2025-06-25T12:29:48.698502",
     "exception": false,
     "start_time": "2025-06-25T12:29:48.678328",
     "status": "completed"
    },
    "tags": []
   },
   "source": [
    "#### 29. How to round away from zero a float array ? (★☆☆)"
   ]
  },
  {
   "cell_type": "code",
   "execution_count": null,
   "id": "d172aa80",
   "metadata": {
    "papermill": {
     "duration": 0.02071,
     "end_time": "2025-06-25T12:29:48.739541",
     "exception": false,
     "start_time": "2025-06-25T12:29:48.718831",
     "status": "completed"
    },
    "tags": []
   },
   "outputs": [],
   "source": []
  },
  {
   "cell_type": "markdown",
   "id": "a695adc1",
   "metadata": {
    "papermill": {
     "duration": 0.019447,
     "end_time": "2025-06-25T12:29:48.779043",
     "exception": false,
     "start_time": "2025-06-25T12:29:48.759596",
     "status": "completed"
    },
    "tags": []
   },
   "source": [
    "#### 30. How to find common values between two arrays? (★☆☆)"
   ]
  },
  {
   "cell_type": "code",
   "execution_count": null,
   "id": "88a5842d",
   "metadata": {
    "papermill": {
     "duration": 0.019676,
     "end_time": "2025-06-25T12:29:48.819447",
     "exception": false,
     "start_time": "2025-06-25T12:29:48.799771",
     "status": "completed"
    },
    "tags": []
   },
   "outputs": [],
   "source": []
  },
  {
   "cell_type": "markdown",
   "id": "96ab041e",
   "metadata": {
    "papermill": {
     "duration": 0.019602,
     "end_time": "2025-06-25T12:29:48.859021",
     "exception": false,
     "start_time": "2025-06-25T12:29:48.839419",
     "status": "completed"
    },
    "tags": []
   },
   "source": [
    "#### 31. How to ignore all numpy warnings (not recommended)? (★☆☆)"
   ]
  },
  {
   "cell_type": "code",
   "execution_count": null,
   "id": "487525ea",
   "metadata": {
    "papermill": {
     "duration": 0.019514,
     "end_time": "2025-06-25T12:29:48.898277",
     "exception": false,
     "start_time": "2025-06-25T12:29:48.878763",
     "status": "completed"
    },
    "tags": []
   },
   "outputs": [],
   "source": []
  },
  {
   "cell_type": "markdown",
   "id": "6373098d",
   "metadata": {
    "papermill": {
     "duration": 0.019998,
     "end_time": "2025-06-25T12:29:48.937917",
     "exception": false,
     "start_time": "2025-06-25T12:29:48.917919",
     "status": "completed"
    },
    "tags": []
   },
   "source": [
    "#### 32. Is the following expressions true? (★☆☆)\n",
    "```python\n",
    "np.sqrt(-1) == np.emath.sqrt(-1)\n",
    "```"
   ]
  },
  {
   "cell_type": "code",
   "execution_count": null,
   "id": "cfd3d3ac",
   "metadata": {
    "papermill": {
     "duration": 0.01959,
     "end_time": "2025-06-25T12:29:48.977493",
     "exception": false,
     "start_time": "2025-06-25T12:29:48.957903",
     "status": "completed"
    },
    "tags": []
   },
   "outputs": [],
   "source": []
  },
  {
   "cell_type": "markdown",
   "id": "65e413ba",
   "metadata": {
    "papermill": {
     "duration": 0.019452,
     "end_time": "2025-06-25T12:29:49.017014",
     "exception": false,
     "start_time": "2025-06-25T12:29:48.997562",
     "status": "completed"
    },
    "tags": []
   },
   "source": [
    "#### 33. How to get the dates of yesterday, today and tomorrow? (★☆☆)"
   ]
  },
  {
   "cell_type": "code",
   "execution_count": null,
   "id": "765be387",
   "metadata": {
    "papermill": {
     "duration": 0.019761,
     "end_time": "2025-06-25T12:29:49.056564",
     "exception": false,
     "start_time": "2025-06-25T12:29:49.036803",
     "status": "completed"
    },
    "tags": []
   },
   "outputs": [],
   "source": []
  },
  {
   "cell_type": "markdown",
   "id": "3955d062",
   "metadata": {
    "papermill": {
     "duration": 0.019579,
     "end_time": "2025-06-25T12:29:49.096199",
     "exception": false,
     "start_time": "2025-06-25T12:29:49.076620",
     "status": "completed"
    },
    "tags": []
   },
   "source": [
    "#### 34. How to get all the dates corresponding to the month of July 2016? (★★☆)"
   ]
  },
  {
   "cell_type": "code",
   "execution_count": null,
   "id": "2bdc1f7d",
   "metadata": {
    "papermill": {
     "duration": 0.019571,
     "end_time": "2025-06-25T12:29:49.135766",
     "exception": false,
     "start_time": "2025-06-25T12:29:49.116195",
     "status": "completed"
    },
    "tags": []
   },
   "outputs": [],
   "source": []
  },
  {
   "cell_type": "markdown",
   "id": "200e08a6",
   "metadata": {
    "papermill": {
     "duration": 0.02073,
     "end_time": "2025-06-25T12:29:49.176519",
     "exception": false,
     "start_time": "2025-06-25T12:29:49.155789",
     "status": "completed"
    },
    "tags": []
   },
   "source": [
    "#### 35. How to compute ((A+B)*(-A/2)) in place (without copy)? (★★☆)"
   ]
  },
  {
   "cell_type": "code",
   "execution_count": null,
   "id": "b2b7be5f",
   "metadata": {
    "papermill": {
     "duration": 0.019483,
     "end_time": "2025-06-25T12:29:49.215882",
     "exception": false,
     "start_time": "2025-06-25T12:29:49.196399",
     "status": "completed"
    },
    "tags": []
   },
   "outputs": [],
   "source": []
  },
  {
   "cell_type": "markdown",
   "id": "8960f1f2",
   "metadata": {
    "papermill": {
     "duration": 0.019622,
     "end_time": "2025-06-25T12:29:49.255364",
     "exception": false,
     "start_time": "2025-06-25T12:29:49.235742",
     "status": "completed"
    },
    "tags": []
   },
   "source": [
    "#### 36. Extract the integer part of a random array of positive numbers using 4 different methods (★★☆)"
   ]
  },
  {
   "cell_type": "code",
   "execution_count": null,
   "id": "0b487b02",
   "metadata": {
    "papermill": {
     "duration": 0.019527,
     "end_time": "2025-06-25T12:29:49.294705",
     "exception": false,
     "start_time": "2025-06-25T12:29:49.275178",
     "status": "completed"
    },
    "tags": []
   },
   "outputs": [],
   "source": []
  },
  {
   "cell_type": "markdown",
   "id": "a4d2935c",
   "metadata": {
    "papermill": {
     "duration": 0.025993,
     "end_time": "2025-06-25T12:29:49.341484",
     "exception": false,
     "start_time": "2025-06-25T12:29:49.315491",
     "status": "completed"
    },
    "tags": []
   },
   "source": [
    "#### 37. Create a 5x5 matrix with row values ranging from 0 to 4 (★★☆)"
   ]
  },
  {
   "cell_type": "code",
   "execution_count": null,
   "id": "d69101ce",
   "metadata": {
    "papermill": {
     "duration": 0.022094,
     "end_time": "2025-06-25T12:29:49.392826",
     "exception": false,
     "start_time": "2025-06-25T12:29:49.370732",
     "status": "completed"
    },
    "tags": []
   },
   "outputs": [],
   "source": []
  },
  {
   "cell_type": "markdown",
   "id": "9ef00619",
   "metadata": {
    "papermill": {
     "duration": 0.019788,
     "end_time": "2025-06-25T12:29:49.432855",
     "exception": false,
     "start_time": "2025-06-25T12:29:49.413067",
     "status": "completed"
    },
    "tags": []
   },
   "source": [
    "#### 38. Consider a generator function that generates 10 integers and use it to build an array (★☆☆)"
   ]
  },
  {
   "cell_type": "code",
   "execution_count": null,
   "id": "12d37709",
   "metadata": {
    "papermill": {
     "duration": 0.024845,
     "end_time": "2025-06-25T12:29:49.477895",
     "exception": false,
     "start_time": "2025-06-25T12:29:49.453050",
     "status": "completed"
    },
    "tags": []
   },
   "outputs": [],
   "source": []
  },
  {
   "cell_type": "markdown",
   "id": "11e5db90",
   "metadata": {
    "papermill": {
     "duration": 0.031097,
     "end_time": "2025-06-25T12:29:49.532863",
     "exception": false,
     "start_time": "2025-06-25T12:29:49.501766",
     "status": "completed"
    },
    "tags": []
   },
   "source": [
    "#### 39. Create a vector of size 10 with values ranging from 0 to 1, both excluded (★★☆)"
   ]
  },
  {
   "cell_type": "code",
   "execution_count": null,
   "id": "8aff7c8f",
   "metadata": {
    "papermill": {
     "duration": 0.022745,
     "end_time": "2025-06-25T12:29:49.588391",
     "exception": false,
     "start_time": "2025-06-25T12:29:49.565646",
     "status": "completed"
    },
    "tags": []
   },
   "outputs": [],
   "source": []
  },
  {
   "cell_type": "markdown",
   "id": "701112b7",
   "metadata": {
    "papermill": {
     "duration": 0.019509,
     "end_time": "2025-06-25T12:29:49.627765",
     "exception": false,
     "start_time": "2025-06-25T12:29:49.608256",
     "status": "completed"
    },
    "tags": []
   },
   "source": [
    "#### 40. Create a random vector of size 10 and sort it (★★☆)"
   ]
  },
  {
   "cell_type": "code",
   "execution_count": null,
   "id": "f93c6662",
   "metadata": {
    "papermill": {
     "duration": 0.025934,
     "end_time": "2025-06-25T12:29:49.673781",
     "exception": false,
     "start_time": "2025-06-25T12:29:49.647847",
     "status": "completed"
    },
    "tags": []
   },
   "outputs": [],
   "source": []
  },
  {
   "cell_type": "markdown",
   "id": "504eb89a",
   "metadata": {
    "papermill": {
     "duration": 0.021616,
     "end_time": "2025-06-25T12:29:49.718102",
     "exception": false,
     "start_time": "2025-06-25T12:29:49.696486",
     "status": "completed"
    },
    "tags": []
   },
   "source": [
    "#### 41. How to sum a small array faster than np.sum? (★★☆)"
   ]
  },
  {
   "cell_type": "code",
   "execution_count": null,
   "id": "97d0f3b4",
   "metadata": {
    "papermill": {
     "duration": 0.019528,
     "end_time": "2025-06-25T12:29:49.757726",
     "exception": false,
     "start_time": "2025-06-25T12:29:49.738198",
     "status": "completed"
    },
    "tags": []
   },
   "outputs": [],
   "source": []
  },
  {
   "cell_type": "markdown",
   "id": "8bab7de1",
   "metadata": {
    "papermill": {
     "duration": 0.020049,
     "end_time": "2025-06-25T12:29:49.797689",
     "exception": false,
     "start_time": "2025-06-25T12:29:49.777640",
     "status": "completed"
    },
    "tags": []
   },
   "source": [
    "#### 42. Consider two random arrays A and B, check if they are equal (★★☆)"
   ]
  },
  {
   "cell_type": "code",
   "execution_count": null,
   "id": "ddf5a080",
   "metadata": {
    "papermill": {
     "duration": 0.019981,
     "end_time": "2025-06-25T12:29:49.839345",
     "exception": false,
     "start_time": "2025-06-25T12:29:49.819364",
     "status": "completed"
    },
    "tags": []
   },
   "outputs": [],
   "source": []
  },
  {
   "cell_type": "markdown",
   "id": "b8366e70",
   "metadata": {
    "papermill": {
     "duration": 0.019858,
     "end_time": "2025-06-25T12:29:49.879684",
     "exception": false,
     "start_time": "2025-06-25T12:29:49.859826",
     "status": "completed"
    },
    "tags": []
   },
   "source": [
    "#### 43. Make an array immutable (read-only) (★★☆)"
   ]
  },
  {
   "cell_type": "code",
   "execution_count": null,
   "id": "e23cbd7f",
   "metadata": {
    "papermill": {
     "duration": 0.019696,
     "end_time": "2025-06-25T12:29:49.919584",
     "exception": false,
     "start_time": "2025-06-25T12:29:49.899888",
     "status": "completed"
    },
    "tags": []
   },
   "outputs": [],
   "source": []
  },
  {
   "cell_type": "markdown",
   "id": "00d442d9",
   "metadata": {
    "papermill": {
     "duration": 0.019691,
     "end_time": "2025-06-25T12:29:49.959320",
     "exception": false,
     "start_time": "2025-06-25T12:29:49.939629",
     "status": "completed"
    },
    "tags": []
   },
   "source": [
    "#### 44. Consider a random 10x2 matrix representing cartesian coordinates, convert them to polar coordinates (★★☆)"
   ]
  },
  {
   "cell_type": "code",
   "execution_count": null,
   "id": "04fc0193",
   "metadata": {
    "papermill": {
     "duration": 0.019655,
     "end_time": "2025-06-25T12:29:49.998971",
     "exception": false,
     "start_time": "2025-06-25T12:29:49.979316",
     "status": "completed"
    },
    "tags": []
   },
   "outputs": [],
   "source": []
  },
  {
   "cell_type": "markdown",
   "id": "a37e5f38",
   "metadata": {
    "papermill": {
     "duration": 0.020121,
     "end_time": "2025-06-25T12:29:50.039285",
     "exception": false,
     "start_time": "2025-06-25T12:29:50.019164",
     "status": "completed"
    },
    "tags": []
   },
   "source": [
    "#### 45. Create random vector of size 10 and replace the maximum value by 0 (★★☆)"
   ]
  },
  {
   "cell_type": "code",
   "execution_count": null,
   "id": "4477cc52",
   "metadata": {
    "papermill": {
     "duration": 0.020103,
     "end_time": "2025-06-25T12:29:50.079697",
     "exception": false,
     "start_time": "2025-06-25T12:29:50.059594",
     "status": "completed"
    },
    "tags": []
   },
   "outputs": [],
   "source": []
  },
  {
   "cell_type": "markdown",
   "id": "c5cd0deb",
   "metadata": {
    "papermill": {
     "duration": 0.020877,
     "end_time": "2025-06-25T12:29:50.121437",
     "exception": false,
     "start_time": "2025-06-25T12:29:50.100560",
     "status": "completed"
    },
    "tags": []
   },
   "source": [
    "#### 46. Create a structured array with `x` and `y` coordinates covering the [0,1]x[0,1] area (★★☆)"
   ]
  },
  {
   "cell_type": "code",
   "execution_count": null,
   "id": "b517ac35",
   "metadata": {
    "papermill": {
     "duration": 0.020574,
     "end_time": "2025-06-25T12:29:50.162426",
     "exception": false,
     "start_time": "2025-06-25T12:29:50.141852",
     "status": "completed"
    },
    "tags": []
   },
   "outputs": [],
   "source": []
  },
  {
   "cell_type": "markdown",
   "id": "81d24521",
   "metadata": {
    "papermill": {
     "duration": 0.019634,
     "end_time": "2025-06-25T12:29:50.202320",
     "exception": false,
     "start_time": "2025-06-25T12:29:50.182686",
     "status": "completed"
    },
    "tags": []
   },
   "source": [
    "#### 47. Given two arrays, X and Y, construct the Cauchy matrix C (Cij =1/(xi - yj)) (★★☆)"
   ]
  },
  {
   "cell_type": "code",
   "execution_count": null,
   "id": "acff1a97",
   "metadata": {
    "papermill": {
     "duration": 0.019852,
     "end_time": "2025-06-25T12:29:50.242178",
     "exception": false,
     "start_time": "2025-06-25T12:29:50.222326",
     "status": "completed"
    },
    "tags": []
   },
   "outputs": [],
   "source": []
  },
  {
   "cell_type": "markdown",
   "id": "e41b3f9e",
   "metadata": {
    "papermill": {
     "duration": 0.019771,
     "end_time": "2025-06-25T12:29:50.282072",
     "exception": false,
     "start_time": "2025-06-25T12:29:50.262301",
     "status": "completed"
    },
    "tags": []
   },
   "source": [
    "#### 48. Print the minimum and maximum representable values for each numpy scalar type (★★☆)"
   ]
  },
  {
   "cell_type": "code",
   "execution_count": null,
   "id": "830248f3",
   "metadata": {
    "papermill": {
     "duration": 0.019734,
     "end_time": "2025-06-25T12:29:50.322536",
     "exception": false,
     "start_time": "2025-06-25T12:29:50.302802",
     "status": "completed"
    },
    "tags": []
   },
   "outputs": [],
   "source": []
  },
  {
   "cell_type": "markdown",
   "id": "29cfc23f",
   "metadata": {
    "papermill": {
     "duration": 0.021008,
     "end_time": "2025-06-25T12:29:50.364716",
     "exception": false,
     "start_time": "2025-06-25T12:29:50.343708",
     "status": "completed"
    },
    "tags": []
   },
   "source": [
    "#### 49. How to print all the values of an array? (★★☆)"
   ]
  },
  {
   "cell_type": "code",
   "execution_count": null,
   "id": "c81806c4",
   "metadata": {
    "papermill": {
     "duration": 0.019591,
     "end_time": "2025-06-25T12:29:50.404541",
     "exception": false,
     "start_time": "2025-06-25T12:29:50.384950",
     "status": "completed"
    },
    "tags": []
   },
   "outputs": [],
   "source": []
  },
  {
   "cell_type": "markdown",
   "id": "3092c4b6",
   "metadata": {
    "papermill": {
     "duration": 0.019778,
     "end_time": "2025-06-25T12:29:50.444327",
     "exception": false,
     "start_time": "2025-06-25T12:29:50.424549",
     "status": "completed"
    },
    "tags": []
   },
   "source": [
    "#### 50. How to find the closest value (to a given scalar) in a vector? (★★☆)"
   ]
  },
  {
   "cell_type": "code",
   "execution_count": null,
   "id": "722f2db3",
   "metadata": {
    "papermill": {
     "duration": 0.01972,
     "end_time": "2025-06-25T12:29:50.484080",
     "exception": false,
     "start_time": "2025-06-25T12:29:50.464360",
     "status": "completed"
    },
    "tags": []
   },
   "outputs": [],
   "source": []
  },
  {
   "cell_type": "markdown",
   "id": "0facab30",
   "metadata": {
    "papermill": {
     "duration": 0.019809,
     "end_time": "2025-06-25T12:29:50.524620",
     "exception": false,
     "start_time": "2025-06-25T12:29:50.504811",
     "status": "completed"
    },
    "tags": []
   },
   "source": [
    "#### 51. Create a structured array representing a position (x,y) and a color (r,g,b) (★★☆)"
   ]
  },
  {
   "cell_type": "code",
   "execution_count": null,
   "id": "360c1883",
   "metadata": {
    "papermill": {
     "duration": 0.020202,
     "end_time": "2025-06-25T12:29:50.564946",
     "exception": false,
     "start_time": "2025-06-25T12:29:50.544744",
     "status": "completed"
    },
    "tags": []
   },
   "outputs": [],
   "source": []
  },
  {
   "cell_type": "markdown",
   "id": "17932ab6",
   "metadata": {
    "papermill": {
     "duration": 0.019776,
     "end_time": "2025-06-25T12:29:50.605102",
     "exception": false,
     "start_time": "2025-06-25T12:29:50.585326",
     "status": "completed"
    },
    "tags": []
   },
   "source": [
    "#### 52. Consider a random vector with shape (100,2) representing coordinates, find point by point distances (★★☆)"
   ]
  },
  {
   "cell_type": "code",
   "execution_count": null,
   "id": "c61fb4b8",
   "metadata": {
    "papermill": {
     "duration": 0.019674,
     "end_time": "2025-06-25T12:29:50.645196",
     "exception": false,
     "start_time": "2025-06-25T12:29:50.625522",
     "status": "completed"
    },
    "tags": []
   },
   "outputs": [],
   "source": []
  },
  {
   "cell_type": "markdown",
   "id": "82b2bf4a",
   "metadata": {
    "papermill": {
     "duration": 0.019744,
     "end_time": "2025-06-25T12:29:50.684875",
     "exception": false,
     "start_time": "2025-06-25T12:29:50.665131",
     "status": "completed"
    },
    "tags": []
   },
   "source": [
    "#### 53. How to convert a float (32 bits) array into an integer (32 bits) array in place?"
   ]
  },
  {
   "cell_type": "code",
   "execution_count": null,
   "id": "e5f13e89",
   "metadata": {
    "papermill": {
     "duration": 0.019881,
     "end_time": "2025-06-25T12:29:50.725310",
     "exception": false,
     "start_time": "2025-06-25T12:29:50.705429",
     "status": "completed"
    },
    "tags": []
   },
   "outputs": [],
   "source": []
  },
  {
   "cell_type": "markdown",
   "id": "b5727062",
   "metadata": {
    "papermill": {
     "duration": 0.019772,
     "end_time": "2025-06-25T12:29:50.765364",
     "exception": false,
     "start_time": "2025-06-25T12:29:50.745592",
     "status": "completed"
    },
    "tags": []
   },
   "source": [
    "#### 54. How to read the following file? (★★☆)\n",
    "```\n",
    "1, 2, 3, 4, 5\n",
    "6,  ,  , 7, 8\n",
    " ,  , 9,10,11\n",
    "```"
   ]
  },
  {
   "cell_type": "code",
   "execution_count": null,
   "id": "a05d1482",
   "metadata": {
    "papermill": {
     "duration": 0.020691,
     "end_time": "2025-06-25T12:29:50.806806",
     "exception": false,
     "start_time": "2025-06-25T12:29:50.786115",
     "status": "completed"
    },
    "tags": []
   },
   "outputs": [],
   "source": []
  },
  {
   "cell_type": "markdown",
   "id": "86008139",
   "metadata": {
    "papermill": {
     "duration": 0.019902,
     "end_time": "2025-06-25T12:29:50.847335",
     "exception": false,
     "start_time": "2025-06-25T12:29:50.827433",
     "status": "completed"
    },
    "tags": []
   },
   "source": [
    "#### 55. What is the equivalent of enumerate for numpy arrays? (★★☆)"
   ]
  },
  {
   "cell_type": "code",
   "execution_count": null,
   "id": "1268b969",
   "metadata": {
    "papermill": {
     "duration": 0.019828,
     "end_time": "2025-06-25T12:29:50.887390",
     "exception": false,
     "start_time": "2025-06-25T12:29:50.867562",
     "status": "completed"
    },
    "tags": []
   },
   "outputs": [],
   "source": []
  },
  {
   "cell_type": "markdown",
   "id": "500f1c51",
   "metadata": {
    "papermill": {
     "duration": 0.019629,
     "end_time": "2025-06-25T12:29:50.927073",
     "exception": false,
     "start_time": "2025-06-25T12:29:50.907444",
     "status": "completed"
    },
    "tags": []
   },
   "source": [
    "#### 56. Generate a generic 2D Gaussian-like array (★★☆)"
   ]
  },
  {
   "cell_type": "code",
   "execution_count": null,
   "id": "c1a5d749",
   "metadata": {
    "papermill": {
     "duration": 0.019704,
     "end_time": "2025-06-25T12:29:50.966752",
     "exception": false,
     "start_time": "2025-06-25T12:29:50.947048",
     "status": "completed"
    },
    "tags": []
   },
   "outputs": [],
   "source": []
  },
  {
   "cell_type": "markdown",
   "id": "3d260e25",
   "metadata": {
    "papermill": {
     "duration": 0.019867,
     "end_time": "2025-06-25T12:29:51.006555",
     "exception": false,
     "start_time": "2025-06-25T12:29:50.986688",
     "status": "completed"
    },
    "tags": []
   },
   "source": [
    "#### 57. How to randomly place p elements in a 2D array? (★★☆)"
   ]
  },
  {
   "cell_type": "code",
   "execution_count": null,
   "id": "54231b7c",
   "metadata": {
    "papermill": {
     "duration": 0.019483,
     "end_time": "2025-06-25T12:29:51.046175",
     "exception": false,
     "start_time": "2025-06-25T12:29:51.026692",
     "status": "completed"
    },
    "tags": []
   },
   "outputs": [],
   "source": []
  },
  {
   "cell_type": "markdown",
   "id": "40560413",
   "metadata": {
    "papermill": {
     "duration": 0.019838,
     "end_time": "2025-06-25T12:29:51.086318",
     "exception": false,
     "start_time": "2025-06-25T12:29:51.066480",
     "status": "completed"
    },
    "tags": []
   },
   "source": [
    "#### 58. Subtract the mean of each row of a matrix (★★☆)"
   ]
  },
  {
   "cell_type": "code",
   "execution_count": null,
   "id": "c2334316",
   "metadata": {
    "papermill": {
     "duration": 0.019767,
     "end_time": "2025-06-25T12:29:51.126069",
     "exception": false,
     "start_time": "2025-06-25T12:29:51.106302",
     "status": "completed"
    },
    "tags": []
   },
   "outputs": [],
   "source": []
  },
  {
   "cell_type": "markdown",
   "id": "b65a697f",
   "metadata": {
    "papermill": {
     "duration": 0.019814,
     "end_time": "2025-06-25T12:29:51.165848",
     "exception": false,
     "start_time": "2025-06-25T12:29:51.146034",
     "status": "completed"
    },
    "tags": []
   },
   "source": [
    "#### 59. How to sort an array by the nth column? (★★☆)"
   ]
  },
  {
   "cell_type": "code",
   "execution_count": null,
   "id": "ac357a6f",
   "metadata": {
    "papermill": {
     "duration": 0.020177,
     "end_time": "2025-06-25T12:29:51.206478",
     "exception": false,
     "start_time": "2025-06-25T12:29:51.186301",
     "status": "completed"
    },
    "tags": []
   },
   "outputs": [],
   "source": []
  },
  {
   "cell_type": "markdown",
   "id": "1fda3042",
   "metadata": {
    "papermill": {
     "duration": 0.019934,
     "end_time": "2025-06-25T12:29:51.247370",
     "exception": false,
     "start_time": "2025-06-25T12:29:51.227436",
     "status": "completed"
    },
    "tags": []
   },
   "source": [
    "#### 60. How to tell if a given 2D array has null columns? (★★☆)"
   ]
  },
  {
   "cell_type": "code",
   "execution_count": null,
   "id": "a83c287b",
   "metadata": {
    "papermill": {
     "duration": 0.019772,
     "end_time": "2025-06-25T12:29:51.287575",
     "exception": false,
     "start_time": "2025-06-25T12:29:51.267803",
     "status": "completed"
    },
    "tags": []
   },
   "outputs": [],
   "source": []
  },
  {
   "cell_type": "markdown",
   "id": "d35e359c",
   "metadata": {
    "papermill": {
     "duration": 0.020801,
     "end_time": "2025-06-25T12:29:51.328427",
     "exception": false,
     "start_time": "2025-06-25T12:29:51.307626",
     "status": "completed"
    },
    "tags": []
   },
   "source": [
    "#### 61. Find the nearest value from a given value in an array (★★☆)"
   ]
  },
  {
   "cell_type": "code",
   "execution_count": null,
   "id": "e5180e23",
   "metadata": {
    "papermill": {
     "duration": 0.022327,
     "end_time": "2025-06-25T12:29:51.373513",
     "exception": false,
     "start_time": "2025-06-25T12:29:51.351186",
     "status": "completed"
    },
    "tags": []
   },
   "outputs": [],
   "source": []
  },
  {
   "cell_type": "markdown",
   "id": "ab65f7e3",
   "metadata": {
    "papermill": {
     "duration": 0.019827,
     "end_time": "2025-06-25T12:29:51.413853",
     "exception": false,
     "start_time": "2025-06-25T12:29:51.394026",
     "status": "completed"
    },
    "tags": []
   },
   "source": [
    "#### 62. Considering two arrays with shape (1,3) and (3,1), how to compute their sum using an iterator? (★★☆)"
   ]
  },
  {
   "cell_type": "code",
   "execution_count": null,
   "id": "5e0d4d23",
   "metadata": {
    "papermill": {
     "duration": 0.019945,
     "end_time": "2025-06-25T12:29:51.453975",
     "exception": false,
     "start_time": "2025-06-25T12:29:51.434030",
     "status": "completed"
    },
    "tags": []
   },
   "outputs": [],
   "source": []
  },
  {
   "cell_type": "markdown",
   "id": "94250367",
   "metadata": {
    "papermill": {
     "duration": 0.019598,
     "end_time": "2025-06-25T12:29:51.493499",
     "exception": false,
     "start_time": "2025-06-25T12:29:51.473901",
     "status": "completed"
    },
    "tags": []
   },
   "source": [
    "#### 63. Create an array class that has a name attribute (★★☆)"
   ]
  },
  {
   "cell_type": "code",
   "execution_count": null,
   "id": "6d28e064",
   "metadata": {
    "papermill": {
     "duration": 0.019639,
     "end_time": "2025-06-25T12:29:51.533274",
     "exception": false,
     "start_time": "2025-06-25T12:29:51.513635",
     "status": "completed"
    },
    "tags": []
   },
   "outputs": [],
   "source": []
  },
  {
   "cell_type": "markdown",
   "id": "8f7746b6",
   "metadata": {
    "papermill": {
     "duration": 0.019852,
     "end_time": "2025-06-25T12:29:51.573057",
     "exception": false,
     "start_time": "2025-06-25T12:29:51.553205",
     "status": "completed"
    },
    "tags": []
   },
   "source": [
    "#### 64. Consider a given vector, how to add 1 to each element indexed by a second vector (be careful with repeated indices)? (★★★)"
   ]
  },
  {
   "cell_type": "code",
   "execution_count": null,
   "id": "006e64df",
   "metadata": {
    "papermill": {
     "duration": 0.019804,
     "end_time": "2025-06-25T12:29:51.613134",
     "exception": false,
     "start_time": "2025-06-25T12:29:51.593330",
     "status": "completed"
    },
    "tags": []
   },
   "outputs": [],
   "source": []
  },
  {
   "cell_type": "markdown",
   "id": "9cc86aa9",
   "metadata": {
    "papermill": {
     "duration": 0.019853,
     "end_time": "2025-06-25T12:29:51.653314",
     "exception": false,
     "start_time": "2025-06-25T12:29:51.633461",
     "status": "completed"
    },
    "tags": []
   },
   "source": [
    "#### 65. How to accumulate elements of a vector (X) to an array (F) based on an index list (I)? (★★★)"
   ]
  },
  {
   "cell_type": "code",
   "execution_count": null,
   "id": "f7e7e19c",
   "metadata": {
    "papermill": {
     "duration": 0.01986,
     "end_time": "2025-06-25T12:29:51.693565",
     "exception": false,
     "start_time": "2025-06-25T12:29:51.673705",
     "status": "completed"
    },
    "tags": []
   },
   "outputs": [],
   "source": []
  },
  {
   "cell_type": "markdown",
   "id": "e970593e",
   "metadata": {
    "papermill": {
     "duration": 0.019788,
     "end_time": "2025-06-25T12:29:51.733427",
     "exception": false,
     "start_time": "2025-06-25T12:29:51.713639",
     "status": "completed"
    },
    "tags": []
   },
   "source": [
    "#### 66. Considering a (w,h,3) image of (dtype=ubyte), compute the number of unique colors (★★☆)"
   ]
  },
  {
   "cell_type": "code",
   "execution_count": null,
   "id": "2ed166be",
   "metadata": {
    "papermill": {
     "duration": 0.019883,
     "end_time": "2025-06-25T12:29:51.773270",
     "exception": false,
     "start_time": "2025-06-25T12:29:51.753387",
     "status": "completed"
    },
    "tags": []
   },
   "outputs": [],
   "source": []
  },
  {
   "cell_type": "markdown",
   "id": "0a93e690",
   "metadata": {
    "papermill": {
     "duration": 0.020452,
     "end_time": "2025-06-25T12:29:51.813702",
     "exception": false,
     "start_time": "2025-06-25T12:29:51.793250",
     "status": "completed"
    },
    "tags": []
   },
   "source": [
    "#### 67. Considering a four dimensions array, how to get sum over the last two axis at once? (★★★)"
   ]
  },
  {
   "cell_type": "code",
   "execution_count": null,
   "id": "538d6751",
   "metadata": {
    "papermill": {
     "duration": 0.019872,
     "end_time": "2025-06-25T12:29:51.853839",
     "exception": false,
     "start_time": "2025-06-25T12:29:51.833967",
     "status": "completed"
    },
    "tags": []
   },
   "outputs": [],
   "source": []
  },
  {
   "cell_type": "markdown",
   "id": "5bbd2c2b",
   "metadata": {
    "papermill": {
     "duration": 0.019955,
     "end_time": "2025-06-25T12:29:51.893893",
     "exception": false,
     "start_time": "2025-06-25T12:29:51.873938",
     "status": "completed"
    },
    "tags": []
   },
   "source": [
    "#### 68. Considering a one-dimensional vector D, how to compute means of subsets of D using a vector S of same size describing subset  indices? (★★★)"
   ]
  },
  {
   "cell_type": "code",
   "execution_count": null,
   "id": "60423e09",
   "metadata": {
    "papermill": {
     "duration": 0.019825,
     "end_time": "2025-06-25T12:29:51.934018",
     "exception": false,
     "start_time": "2025-06-25T12:29:51.914193",
     "status": "completed"
    },
    "tags": []
   },
   "outputs": [],
   "source": []
  },
  {
   "cell_type": "markdown",
   "id": "b72743aa",
   "metadata": {
    "papermill": {
     "duration": 0.019842,
     "end_time": "2025-06-25T12:29:51.973952",
     "exception": false,
     "start_time": "2025-06-25T12:29:51.954110",
     "status": "completed"
    },
    "tags": []
   },
   "source": [
    "#### 69. How to get the diagonal of a dot product? (★★★)"
   ]
  },
  {
   "cell_type": "code",
   "execution_count": null,
   "id": "11177278",
   "metadata": {
    "papermill": {
     "duration": 0.019875,
     "end_time": "2025-06-25T12:29:52.014057",
     "exception": false,
     "start_time": "2025-06-25T12:29:51.994182",
     "status": "completed"
    },
    "tags": []
   },
   "outputs": [],
   "source": []
  },
  {
   "cell_type": "markdown",
   "id": "a57ac743",
   "metadata": {
    "papermill": {
     "duration": 0.019953,
     "end_time": "2025-06-25T12:29:52.054275",
     "exception": false,
     "start_time": "2025-06-25T12:29:52.034322",
     "status": "completed"
    },
    "tags": []
   },
   "source": [
    "#### 70. Consider the vector [1, 2, 3, 4, 5], how to build a new vector with 3 consecutive zeros interleaved between each value? (★★★)"
   ]
  },
  {
   "cell_type": "code",
   "execution_count": null,
   "id": "c4cf8b1a",
   "metadata": {
    "papermill": {
     "duration": 0.019997,
     "end_time": "2025-06-25T12:29:52.094331",
     "exception": false,
     "start_time": "2025-06-25T12:29:52.074334",
     "status": "completed"
    },
    "tags": []
   },
   "outputs": [],
   "source": []
  },
  {
   "cell_type": "markdown",
   "id": "bbc4e430",
   "metadata": {
    "papermill": {
     "duration": 0.020272,
     "end_time": "2025-06-25T12:29:52.135320",
     "exception": false,
     "start_time": "2025-06-25T12:29:52.115048",
     "status": "completed"
    },
    "tags": []
   },
   "source": [
    "#### 71. Consider an array of dimension (5,5,3), how to multiply it by an array with dimensions (5,5)? (★★★)"
   ]
  },
  {
   "cell_type": "code",
   "execution_count": null,
   "id": "2931733b",
   "metadata": {
    "papermill": {
     "duration": 0.020095,
     "end_time": "2025-06-25T12:29:52.175962",
     "exception": false,
     "start_time": "2025-06-25T12:29:52.155867",
     "status": "completed"
    },
    "tags": []
   },
   "outputs": [],
   "source": []
  },
  {
   "cell_type": "markdown",
   "id": "6f284e03",
   "metadata": {
    "papermill": {
     "duration": 0.019958,
     "end_time": "2025-06-25T12:29:52.216320",
     "exception": false,
     "start_time": "2025-06-25T12:29:52.196362",
     "status": "completed"
    },
    "tags": []
   },
   "source": [
    "#### 72. How to swap two rows of an array? (★★★)"
   ]
  },
  {
   "cell_type": "code",
   "execution_count": null,
   "id": "3102f34f",
   "metadata": {
    "papermill": {
     "duration": 0.019911,
     "end_time": "2025-06-25T12:29:52.256375",
     "exception": false,
     "start_time": "2025-06-25T12:29:52.236464",
     "status": "completed"
    },
    "tags": []
   },
   "outputs": [],
   "source": []
  },
  {
   "cell_type": "markdown",
   "id": "42cd5321",
   "metadata": {
    "papermill": {
     "duration": 0.019736,
     "end_time": "2025-06-25T12:29:52.296161",
     "exception": false,
     "start_time": "2025-06-25T12:29:52.276425",
     "status": "completed"
    },
    "tags": []
   },
   "source": [
    "#### 73. Consider a set of 10 triplets describing 10 triangles (with shared vertices), find the set of unique line segments composing all the  triangles (★★★)"
   ]
  },
  {
   "cell_type": "code",
   "execution_count": null,
   "id": "ede51697",
   "metadata": {
    "papermill": {
     "duration": 0.019778,
     "end_time": "2025-06-25T12:29:52.335981",
     "exception": false,
     "start_time": "2025-06-25T12:29:52.316203",
     "status": "completed"
    },
    "tags": []
   },
   "outputs": [],
   "source": []
  },
  {
   "cell_type": "markdown",
   "id": "d6c34a3c",
   "metadata": {
    "papermill": {
     "duration": 0.019579,
     "end_time": "2025-06-25T12:29:52.377046",
     "exception": false,
     "start_time": "2025-06-25T12:29:52.357467",
     "status": "completed"
    },
    "tags": []
   },
   "source": [
    "#### 74. Given a sorted array C that corresponds to a bincount, how to produce an array A such that np.bincount(A) == C? (★★★)"
   ]
  },
  {
   "cell_type": "code",
   "execution_count": null,
   "id": "4a5630da",
   "metadata": {
    "papermill": {
     "duration": 0.019687,
     "end_time": "2025-06-25T12:29:52.416765",
     "exception": false,
     "start_time": "2025-06-25T12:29:52.397078",
     "status": "completed"
    },
    "tags": []
   },
   "outputs": [],
   "source": []
  },
  {
   "cell_type": "markdown",
   "id": "c458f77e",
   "metadata": {
    "papermill": {
     "duration": 0.019912,
     "end_time": "2025-06-25T12:29:52.456867",
     "exception": false,
     "start_time": "2025-06-25T12:29:52.436955",
     "status": "completed"
    },
    "tags": []
   },
   "source": [
    "#### 75. How to compute averages using a sliding window over an array? (★★★)"
   ]
  },
  {
   "cell_type": "code",
   "execution_count": null,
   "id": "a263027b",
   "metadata": {
    "papermill": {
     "duration": 0.020203,
     "end_time": "2025-06-25T12:29:52.497150",
     "exception": false,
     "start_time": "2025-06-25T12:29:52.476947",
     "status": "completed"
    },
    "tags": []
   },
   "outputs": [],
   "source": []
  },
  {
   "cell_type": "markdown",
   "id": "7160c6ad",
   "metadata": {
    "papermill": {
     "duration": 0.019707,
     "end_time": "2025-06-25T12:29:52.536835",
     "exception": false,
     "start_time": "2025-06-25T12:29:52.517128",
     "status": "completed"
    },
    "tags": []
   },
   "source": [
    "#### 76. Consider a one-dimensional array Z, build a two-dimensional array whose first row is (Z[0],Z[1],Z[2]) and each subsequent row is  shifted by 1 (last row should be (Z[-3],Z[-2],Z[-1]) (★★★)"
   ]
  },
  {
   "cell_type": "code",
   "execution_count": null,
   "id": "f9f1faea",
   "metadata": {
    "papermill": {
     "duration": 0.019782,
     "end_time": "2025-06-25T12:29:52.576688",
     "exception": false,
     "start_time": "2025-06-25T12:29:52.556906",
     "status": "completed"
    },
    "tags": []
   },
   "outputs": [],
   "source": []
  },
  {
   "cell_type": "markdown",
   "id": "44dbee5a",
   "metadata": {
    "papermill": {
     "duration": 0.019871,
     "end_time": "2025-06-25T12:29:52.616724",
     "exception": false,
     "start_time": "2025-06-25T12:29:52.596853",
     "status": "completed"
    },
    "tags": []
   },
   "source": [
    "#### 77. How to negate a boolean, or to change the sign of a float inplace? (★★★)"
   ]
  },
  {
   "cell_type": "code",
   "execution_count": null,
   "id": "5f2ee1b9",
   "metadata": {
    "papermill": {
     "duration": 0.019897,
     "end_time": "2025-06-25T12:29:52.656688",
     "exception": false,
     "start_time": "2025-06-25T12:29:52.636791",
     "status": "completed"
    },
    "tags": []
   },
   "outputs": [],
   "source": []
  },
  {
   "cell_type": "markdown",
   "id": "a22e9eb1",
   "metadata": {
    "papermill": {
     "duration": 0.020327,
     "end_time": "2025-06-25T12:29:52.697409",
     "exception": false,
     "start_time": "2025-06-25T12:29:52.677082",
     "status": "completed"
    },
    "tags": []
   },
   "source": [
    "#### 78. Consider 2 sets of points P0,P1 describing lines (2d) and a point p, how to compute distance from p to each line i (P0[i],P1[i])? (★★★)"
   ]
  },
  {
   "cell_type": "code",
   "execution_count": null,
   "id": "69989708",
   "metadata": {
    "papermill": {
     "duration": 0.020858,
     "end_time": "2025-06-25T12:29:52.738678",
     "exception": false,
     "start_time": "2025-06-25T12:29:52.717820",
     "status": "completed"
    },
    "tags": []
   },
   "outputs": [],
   "source": []
  },
  {
   "cell_type": "markdown",
   "id": "7ade9dd9",
   "metadata": {
    "papermill": {
     "duration": 0.020068,
     "end_time": "2025-06-25T12:29:52.779073",
     "exception": false,
     "start_time": "2025-06-25T12:29:52.759005",
     "status": "completed"
    },
    "tags": []
   },
   "source": [
    "#### 79. Consider 2 sets of points P0,P1 describing lines (2d) and a set of points P, how to compute distance from each point j (P[j]) to each line i (P0[i],P1[i])? (★★★)"
   ]
  },
  {
   "cell_type": "code",
   "execution_count": null,
   "id": "76195f94",
   "metadata": {
    "papermill": {
     "duration": 0.020624,
     "end_time": "2025-06-25T12:29:52.819995",
     "exception": false,
     "start_time": "2025-06-25T12:29:52.799371",
     "status": "completed"
    },
    "tags": []
   },
   "outputs": [],
   "source": []
  },
  {
   "cell_type": "markdown",
   "id": "1c070e8a",
   "metadata": {
    "papermill": {
     "duration": 0.019922,
     "end_time": "2025-06-25T12:29:52.860182",
     "exception": false,
     "start_time": "2025-06-25T12:29:52.840260",
     "status": "completed"
    },
    "tags": []
   },
   "source": [
    "#### 80. Consider an arbitrary array, write a function that extracts a subpart with a fixed shape and centered on a given element (pad with a `fill` value when necessary) (★★★)"
   ]
  },
  {
   "cell_type": "code",
   "execution_count": null,
   "id": "b3459766",
   "metadata": {
    "papermill": {
     "duration": 0.019802,
     "end_time": "2025-06-25T12:29:52.900205",
     "exception": false,
     "start_time": "2025-06-25T12:29:52.880403",
     "status": "completed"
    },
    "tags": []
   },
   "outputs": [],
   "source": []
  },
  {
   "cell_type": "markdown",
   "id": "83ddc43e",
   "metadata": {
    "papermill": {
     "duration": 0.019934,
     "end_time": "2025-06-25T12:29:52.940281",
     "exception": false,
     "start_time": "2025-06-25T12:29:52.920347",
     "status": "completed"
    },
    "tags": []
   },
   "source": [
    "#### 81. Consider an array Z = [1,2,3,4,5,6,7,8,9,10,11,12,13,14], how to generate an array R = [[1,2,3,4], [2,3,4,5], [3,4,5,6], ..., [11,12,13,14]]? (★★★)"
   ]
  },
  {
   "cell_type": "code",
   "execution_count": null,
   "id": "b188841f",
   "metadata": {
    "papermill": {
     "duration": 0.020528,
     "end_time": "2025-06-25T12:29:52.981046",
     "exception": false,
     "start_time": "2025-06-25T12:29:52.960518",
     "status": "completed"
    },
    "tags": []
   },
   "outputs": [],
   "source": []
  },
  {
   "cell_type": "markdown",
   "id": "e5ec2ae3",
   "metadata": {
    "papermill": {
     "duration": 0.020213,
     "end_time": "2025-06-25T12:29:53.021645",
     "exception": false,
     "start_time": "2025-06-25T12:29:53.001432",
     "status": "completed"
    },
    "tags": []
   },
   "source": [
    "#### 82. Compute a matrix rank (★★★)"
   ]
  },
  {
   "cell_type": "code",
   "execution_count": null,
   "id": "12f5f391",
   "metadata": {
    "papermill": {
     "duration": 0.020088,
     "end_time": "2025-06-25T12:29:53.061857",
     "exception": false,
     "start_time": "2025-06-25T12:29:53.041769",
     "status": "completed"
    },
    "tags": []
   },
   "outputs": [],
   "source": []
  },
  {
   "cell_type": "markdown",
   "id": "d67fc7dd",
   "metadata": {
    "papermill": {
     "duration": 0.019859,
     "end_time": "2025-06-25T12:29:53.101966",
     "exception": false,
     "start_time": "2025-06-25T12:29:53.082107",
     "status": "completed"
    },
    "tags": []
   },
   "source": [
    "#### 83. How to find the most frequent value in an array?"
   ]
  },
  {
   "cell_type": "code",
   "execution_count": null,
   "id": "49c12aff",
   "metadata": {
    "papermill": {
     "duration": 0.019948,
     "end_time": "2025-06-25T12:29:53.142120",
     "exception": false,
     "start_time": "2025-06-25T12:29:53.122172",
     "status": "completed"
    },
    "tags": []
   },
   "outputs": [],
   "source": []
  },
  {
   "cell_type": "markdown",
   "id": "0c77b0ef",
   "metadata": {
    "papermill": {
     "duration": 0.020007,
     "end_time": "2025-06-25T12:29:53.183678",
     "exception": false,
     "start_time": "2025-06-25T12:29:53.163671",
     "status": "completed"
    },
    "tags": []
   },
   "source": [
    "#### 84. Extract all the contiguous 3x3 blocks from a random 10x10 matrix (★★★)"
   ]
  },
  {
   "cell_type": "code",
   "execution_count": null,
   "id": "2799d3f0",
   "metadata": {
    "papermill": {
     "duration": 0.019956,
     "end_time": "2025-06-25T12:29:53.223758",
     "exception": false,
     "start_time": "2025-06-25T12:29:53.203802",
     "status": "completed"
    },
    "tags": []
   },
   "outputs": [],
   "source": []
  },
  {
   "cell_type": "markdown",
   "id": "b75391cc",
   "metadata": {
    "papermill": {
     "duration": 0.020082,
     "end_time": "2025-06-25T12:29:53.264454",
     "exception": false,
     "start_time": "2025-06-25T12:29:53.244372",
     "status": "completed"
    },
    "tags": []
   },
   "source": [
    "#### 85. Create a 2D array subclass such that Z[i,j] == Z[j,i] (★★★)"
   ]
  },
  {
   "cell_type": "code",
   "execution_count": null,
   "id": "e6c6d968",
   "metadata": {
    "papermill": {
     "duration": 0.021036,
     "end_time": "2025-06-25T12:29:53.306728",
     "exception": false,
     "start_time": "2025-06-25T12:29:53.285692",
     "status": "completed"
    },
    "tags": []
   },
   "outputs": [],
   "source": []
  },
  {
   "cell_type": "markdown",
   "id": "aa741d81",
   "metadata": {
    "papermill": {
     "duration": 0.02002,
     "end_time": "2025-06-25T12:29:53.347183",
     "exception": false,
     "start_time": "2025-06-25T12:29:53.327163",
     "status": "completed"
    },
    "tags": []
   },
   "source": [
    "#### 86. Consider a set of p matrices with shape (n,n) and a set of p vectors with shape (n,1). How to compute the sum of of the p matrix products at once? (result has shape (n,1)) (★★★)"
   ]
  },
  {
   "cell_type": "code",
   "execution_count": null,
   "id": "0103958c",
   "metadata": {
    "papermill": {
     "duration": 0.020424,
     "end_time": "2025-06-25T12:29:53.389572",
     "exception": false,
     "start_time": "2025-06-25T12:29:53.369148",
     "status": "completed"
    },
    "tags": []
   },
   "outputs": [],
   "source": []
  },
  {
   "cell_type": "markdown",
   "id": "07d3a250",
   "metadata": {
    "papermill": {
     "duration": 0.019941,
     "end_time": "2025-06-25T12:29:53.429880",
     "exception": false,
     "start_time": "2025-06-25T12:29:53.409939",
     "status": "completed"
    },
    "tags": []
   },
   "source": [
    "#### 87. Consider a 16x16 array, how to get the block-sum (block size is 4x4)? (★★★)"
   ]
  },
  {
   "cell_type": "code",
   "execution_count": null,
   "id": "6727c5f4",
   "metadata": {
    "papermill": {
     "duration": 0.019677,
     "end_time": "2025-06-25T12:29:53.469894",
     "exception": false,
     "start_time": "2025-06-25T12:29:53.450217",
     "status": "completed"
    },
    "tags": []
   },
   "outputs": [],
   "source": []
  },
  {
   "cell_type": "markdown",
   "id": "3e9f1bca",
   "metadata": {
    "papermill": {
     "duration": 0.019841,
     "end_time": "2025-06-25T12:29:53.509853",
     "exception": false,
     "start_time": "2025-06-25T12:29:53.490012",
     "status": "completed"
    },
    "tags": []
   },
   "source": [
    "#### 88. How to implement the Game of Life using numpy arrays? (★★★)"
   ]
  },
  {
   "cell_type": "code",
   "execution_count": null,
   "id": "be9fae75",
   "metadata": {
    "papermill": {
     "duration": 0.019957,
     "end_time": "2025-06-25T12:29:53.549878",
     "exception": false,
     "start_time": "2025-06-25T12:29:53.529921",
     "status": "completed"
    },
    "tags": []
   },
   "outputs": [],
   "source": []
  },
  {
   "cell_type": "markdown",
   "id": "5e7b9fb4",
   "metadata": {
    "papermill": {
     "duration": 0.019852,
     "end_time": "2025-06-25T12:29:53.589918",
     "exception": false,
     "start_time": "2025-06-25T12:29:53.570066",
     "status": "completed"
    },
    "tags": []
   },
   "source": [
    "#### 89. How to get the n largest values of an array (★★★)"
   ]
  },
  {
   "cell_type": "code",
   "execution_count": null,
   "id": "35f8e25b",
   "metadata": {
    "papermill": {
     "duration": 0.019972,
     "end_time": "2025-06-25T12:29:53.630007",
     "exception": false,
     "start_time": "2025-06-25T12:29:53.610035",
     "status": "completed"
    },
    "tags": []
   },
   "outputs": [],
   "source": []
  },
  {
   "cell_type": "markdown",
   "id": "21535873",
   "metadata": {
    "papermill": {
     "duration": 0.020036,
     "end_time": "2025-06-25T12:29:53.670103",
     "exception": false,
     "start_time": "2025-06-25T12:29:53.650067",
     "status": "completed"
    },
    "tags": []
   },
   "source": [
    "#### 90. Given an arbitrary number of vectors, build the cartesian product (every combination of every item) (★★★)"
   ]
  },
  {
   "cell_type": "code",
   "execution_count": null,
   "id": "8d8ad106",
   "metadata": {
    "papermill": {
     "duration": 0.019872,
     "end_time": "2025-06-25T12:29:53.710251",
     "exception": false,
     "start_time": "2025-06-25T12:29:53.690379",
     "status": "completed"
    },
    "tags": []
   },
   "outputs": [],
   "source": []
  },
  {
   "cell_type": "markdown",
   "id": "4fbf3fdd",
   "metadata": {
    "papermill": {
     "duration": 0.019791,
     "end_time": "2025-06-25T12:29:53.750328",
     "exception": false,
     "start_time": "2025-06-25T12:29:53.730537",
     "status": "completed"
    },
    "tags": []
   },
   "source": [
    "#### 91. How to create a record array from a regular array? (★★★)"
   ]
  },
  {
   "cell_type": "code",
   "execution_count": null,
   "id": "cf72a8c5",
   "metadata": {
    "papermill": {
     "duration": 0.019604,
     "end_time": "2025-06-25T12:29:53.790200",
     "exception": false,
     "start_time": "2025-06-25T12:29:53.770596",
     "status": "completed"
    },
    "tags": []
   },
   "outputs": [],
   "source": []
  },
  {
   "cell_type": "markdown",
   "id": "153044be",
   "metadata": {
    "papermill": {
     "duration": 0.020093,
     "end_time": "2025-06-25T12:29:53.830338",
     "exception": false,
     "start_time": "2025-06-25T12:29:53.810245",
     "status": "completed"
    },
    "tags": []
   },
   "source": [
    "#### 92. Consider a large vector Z, compute Z to the power of 3 using 3 different methods (★★★)"
   ]
  },
  {
   "cell_type": "code",
   "execution_count": null,
   "id": "b42e1af1",
   "metadata": {
    "papermill": {
     "duration": 0.020128,
     "end_time": "2025-06-25T12:29:53.871190",
     "exception": false,
     "start_time": "2025-06-25T12:29:53.851062",
     "status": "completed"
    },
    "tags": []
   },
   "outputs": [],
   "source": []
  },
  {
   "cell_type": "markdown",
   "id": "484cf5f7",
   "metadata": {
    "papermill": {
     "duration": 0.02055,
     "end_time": "2025-06-25T12:29:53.912128",
     "exception": false,
     "start_time": "2025-06-25T12:29:53.891578",
     "status": "completed"
    },
    "tags": []
   },
   "source": [
    "#### 93. Consider two arrays A and B of shape (8,3) and (2,2). How to find rows of A that contain elements of each row of B regardless of the order of the elements in B? (★★★)"
   ]
  },
  {
   "cell_type": "code",
   "execution_count": null,
   "id": "a1dbb657",
   "metadata": {
    "papermill": {
     "duration": 0.020132,
     "end_time": "2025-06-25T12:29:53.953101",
     "exception": false,
     "start_time": "2025-06-25T12:29:53.932969",
     "status": "completed"
    },
    "tags": []
   },
   "outputs": [],
   "source": []
  },
  {
   "cell_type": "markdown",
   "id": "cfb22fd6",
   "metadata": {
    "papermill": {
     "duration": 0.01969,
     "end_time": "2025-06-25T12:29:53.992977",
     "exception": false,
     "start_time": "2025-06-25T12:29:53.973287",
     "status": "completed"
    },
    "tags": []
   },
   "source": [
    "#### 94. Considering a 10x3 matrix, extract rows with unequal values (e.g. [2,2,3]) (★★★)"
   ]
  },
  {
   "cell_type": "code",
   "execution_count": null,
   "id": "784a106f",
   "metadata": {
    "papermill": {
     "duration": 0.019793,
     "end_time": "2025-06-25T12:29:54.032991",
     "exception": false,
     "start_time": "2025-06-25T12:29:54.013198",
     "status": "completed"
    },
    "tags": []
   },
   "outputs": [],
   "source": []
  },
  {
   "cell_type": "markdown",
   "id": "877f994b",
   "metadata": {
    "papermill": {
     "duration": 0.019942,
     "end_time": "2025-06-25T12:29:54.073095",
     "exception": false,
     "start_time": "2025-06-25T12:29:54.053153",
     "status": "completed"
    },
    "tags": []
   },
   "source": [
    "#### 95. Convert a vector of ints into a matrix binary representation (★★★)"
   ]
  },
  {
   "cell_type": "code",
   "execution_count": null,
   "id": "22261a6a",
   "metadata": {
    "papermill": {
     "duration": 0.01963,
     "end_time": "2025-06-25T12:29:54.112943",
     "exception": false,
     "start_time": "2025-06-25T12:29:54.093313",
     "status": "completed"
    },
    "tags": []
   },
   "outputs": [],
   "source": []
  },
  {
   "cell_type": "markdown",
   "id": "b10dc932",
   "metadata": {
    "papermill": {
     "duration": 0.020052,
     "end_time": "2025-06-25T12:29:54.153353",
     "exception": false,
     "start_time": "2025-06-25T12:29:54.133301",
     "status": "completed"
    },
    "tags": []
   },
   "source": [
    "#### 96. Given a two dimensional array, how to extract unique rows? (★★★)"
   ]
  },
  {
   "cell_type": "code",
   "execution_count": null,
   "id": "c86e4639",
   "metadata": {
    "papermill": {
     "duration": 0.021494,
     "end_time": "2025-06-25T12:29:54.195131",
     "exception": false,
     "start_time": "2025-06-25T12:29:54.173637",
     "status": "completed"
    },
    "tags": []
   },
   "outputs": [],
   "source": []
  },
  {
   "cell_type": "markdown",
   "id": "a0673b57",
   "metadata": {
    "papermill": {
     "duration": 0.01993,
     "end_time": "2025-06-25T12:29:54.236702",
     "exception": false,
     "start_time": "2025-06-25T12:29:54.216772",
     "status": "completed"
    },
    "tags": []
   },
   "source": [
    "#### 97. Considering 2 vectors A & B, write the einsum equivalent of inner, outer, sum, and mul function (★★★)"
   ]
  },
  {
   "cell_type": "code",
   "execution_count": null,
   "id": "cc8d08b1",
   "metadata": {
    "papermill": {
     "duration": 0.019639,
     "end_time": "2025-06-25T12:29:54.276545",
     "exception": false,
     "start_time": "2025-06-25T12:29:54.256906",
     "status": "completed"
    },
    "tags": []
   },
   "outputs": [],
   "source": []
  },
  {
   "cell_type": "markdown",
   "id": "470ad98b",
   "metadata": {
    "papermill": {
     "duration": 0.019719,
     "end_time": "2025-06-25T12:29:54.316249",
     "exception": false,
     "start_time": "2025-06-25T12:29:54.296530",
     "status": "completed"
    },
    "tags": []
   },
   "source": [
    "#### 98. Considering a path described by two vectors (X,Y), how to sample it using equidistant samples (★★★)?"
   ]
  },
  {
   "cell_type": "code",
   "execution_count": null,
   "id": "ebf00322",
   "metadata": {
    "papermill": {
     "duration": 0.020922,
     "end_time": "2025-06-25T12:29:54.357897",
     "exception": false,
     "start_time": "2025-06-25T12:29:54.336975",
     "status": "completed"
    },
    "tags": []
   },
   "outputs": [],
   "source": []
  },
  {
   "cell_type": "markdown",
   "id": "fd0a4e19",
   "metadata": {
    "papermill": {
     "duration": 0.019713,
     "end_time": "2025-06-25T12:29:54.397906",
     "exception": false,
     "start_time": "2025-06-25T12:29:54.378193",
     "status": "completed"
    },
    "tags": []
   },
   "source": [
    "#### 99. Given an integer n and a 2D array X, select from X the rows which can be interpreted as draws from a multinomial distribution with n degrees, i.e., the rows which only contain integers and which sum to n. (★★★)"
   ]
  },
  {
   "cell_type": "code",
   "execution_count": null,
   "id": "a4ee6ace",
   "metadata": {
    "papermill": {
     "duration": 0.019915,
     "end_time": "2025-06-25T12:29:54.437847",
     "exception": false,
     "start_time": "2025-06-25T12:29:54.417932",
     "status": "completed"
    },
    "tags": []
   },
   "outputs": [],
   "source": []
  },
  {
   "cell_type": "markdown",
   "id": "27a513f6",
   "metadata": {
    "papermill": {
     "duration": 0.019691,
     "end_time": "2025-06-25T12:29:54.477614",
     "exception": false,
     "start_time": "2025-06-25T12:29:54.457923",
     "status": "completed"
    },
    "tags": []
   },
   "source": [
    "#### 100. Compute bootstrapped 95% confidence intervals for the mean of a 1D array X (i.e., resample the elements of an array with replacement N times, compute the mean of each sample, and then compute percentiles over the means). (★★★)"
   ]
  },
  {
   "cell_type": "code",
   "execution_count": null,
   "id": "55ce7c03",
   "metadata": {
    "papermill": {
     "duration": 0.019822,
     "end_time": "2025-06-25T12:29:54.517388",
     "exception": false,
     "start_time": "2025-06-25T12:29:54.497566",
     "status": "completed"
    },
    "tags": []
   },
   "outputs": [],
   "source": []
  }
 ],
 "metadata": {
  "kaggle": {
   "accelerator": "none",
   "dataSources": [],
   "dockerImageVersionId": 31040,
   "isGpuEnabled": false,
   "isInternetEnabled": true,
   "language": "python",
   "sourceType": "notebook"
  },
  "kernelspec": {
   "display_name": "Python 3",
   "language": "python",
   "name": "python3"
  },
  "language_info": {
   "codemirror_mode": {
    "name": "ipython",
    "version": 3
   },
   "file_extension": ".py",
   "mimetype": "text/x-python",
   "name": "python",
   "nbconvert_exporter": "python",
   "pygments_lexer": "ipython3",
   "version": "3.11.11"
  },
  "papermill": {
   "default_parameters": {},
   "duration": 13.187277,
   "end_time": "2025-06-25T12:29:54.855472",
   "environment_variables": {},
   "exception": null,
   "input_path": "__notebook__.ipynb",
   "output_path": "__notebook__.ipynb",
   "parameters": {},
   "start_time": "2025-06-25T12:29:41.668195",
   "version": "2.6.0"
  }
 },
 "nbformat": 4,
 "nbformat_minor": 5
}
