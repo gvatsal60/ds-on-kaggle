{
 "cells": [
  {
   "cell_type": "markdown",
   "id": "915c5c4d",
   "metadata": {
    "papermill": {
     "duration": 0.022566,
     "end_time": "2025-06-25T12:12:13.242735",
     "exception": false,
     "start_time": "2025-06-25T12:12:13.220169",
     "status": "completed"
    },
    "tags": []
   },
   "source": [
    "# 🎯 100 NumPy Exercises\n",
    "\n",
    "Welcome to **100 NumPy Exercises** — a curated collection of problems designed to sharpen your skills in NumPy, whether you're a beginner or a seasoned data wrangler.\n",
    "\n",
    "---\n",
    "\n",
    "📌 **About This Collection**\n",
    "\n",
    "This set of exercises has been gathered from:\n",
    "- The **NumPy mailing list**\n",
    "- **Stack Overflow** discussions\n",
    "- The **official NumPy documentation**\n",
    "\n",
    "The primary goal is to serve as:\n",
    "- 📚 A quick reference for both new and experienced users  \n",
    "- 🎓 A practical toolkit for educators and learners\n",
    "\n",
    "---\n",
    "\n",
    "💬 **Suggestions or Corrections?**\n",
    "\n",
    "If you find an error or have a better solution, feel free to contribute!  \n",
    "➡️ Open an issue here: [numpy-100 GitHub Issues](https://github.com/rougier/numpy-100/issues)\n",
    "\n",
    "---\n",
    "\n",
    "📄 **Credits and Licensing**\n",
    "\n",
    "Includes code and ideas derived from work by [Nicolas P. Rougier](https://github.com/rougier), \n",
    "used in accordance with the terms of the original [license](https://github.com/rougier/numpy-100/blob/master/LICENSE.txt).\n",
    "\n",
    "---\n",
    "\n",
    "🧠 **Ready to dive in?**  \n",
    "Let’s explore the power of NumPy — one exercise at a time!\n"
   ]
  },
  {
   "cell_type": "markdown",
   "id": "48332b3d",
   "metadata": {
    "papermill": {
     "duration": 0.019081,
     "end_time": "2025-06-25T12:12:13.281950",
     "exception": false,
     "start_time": "2025-06-25T12:12:13.262869",
     "status": "completed"
    },
    "tags": []
   },
   "source": [
    "#### 1. Import the numpy package under the name `np` (★☆☆)"
   ]
  },
  {
   "cell_type": "code",
   "execution_count": 1,
   "id": "1ada3563",
   "metadata": {
    "execution": {
     "iopub.execute_input": "2025-06-25T12:12:13.321578Z",
     "iopub.status.busy": "2025-06-25T12:12:13.321280Z",
     "iopub.status.idle": "2025-06-25T12:12:13.328517Z",
     "shell.execute_reply": "2025-06-25T12:12:13.327715Z"
    },
    "papermill": {
     "duration": 0.028823,
     "end_time": "2025-06-25T12:12:13.329999",
     "exception": false,
     "start_time": "2025-06-25T12:12:13.301176",
     "status": "completed"
    },
    "tags": []
   },
   "outputs": [],
   "source": [
    "import numpy as np"
   ]
  },
  {
   "cell_type": "markdown",
   "id": "e466623d",
   "metadata": {
    "papermill": {
     "duration": 0.01885,
     "end_time": "2025-06-25T12:12:13.368394",
     "exception": false,
     "start_time": "2025-06-25T12:12:13.349544",
     "status": "completed"
    },
    "tags": []
   },
   "source": [
    "#### 2. Print the numpy version and the configuration (★☆☆)"
   ]
  },
  {
   "cell_type": "code",
   "execution_count": 2,
   "id": "f0dc8b52",
   "metadata": {
    "execution": {
     "iopub.execute_input": "2025-06-25T12:12:13.470227Z",
     "iopub.status.busy": "2025-06-25T12:12:13.469956Z",
     "iopub.status.idle": "2025-06-25T12:12:13.475562Z",
     "shell.execute_reply": "2025-06-25T12:12:13.474467Z"
    },
    "papermill": {
     "duration": 0.089337,
     "end_time": "2025-06-25T12:12:13.476975",
     "exception": false,
     "start_time": "2025-06-25T12:12:13.387638",
     "status": "completed"
    },
    "tags": []
   },
   "outputs": [
    {
     "name": "stdout",
     "output_type": "stream",
     "text": [
      "★ NumPy Version: 1.26.4\n",
      "☆ NumPy Configuration:\n",
      "blas_armpl_info:\n",
      "  NOT AVAILABLE\n",
      "blas_mkl_info:\n",
      "    libraries = ['mkl_rt', 'pthread']\n",
      "    library_dirs = ['/home/sat_bot/base/conda-bld/numpy_and_dev_1715296241721/_h_env_placehold_placehold_placehold_placehold_placehold_placehold_placehold_placehold_placehold_placehold_placehold_placehold_placehold_placehold_placehold_placehold_placehold_placehold_placehold_p/lib']\n",
      "    define_macros = [('SCIPY_MKL_H', None), ('HAVE_CBLAS', None)]\n",
      "    include_dirs = ['/home/sat_bot/base/conda-bld/numpy_and_dev_1715296241721/_h_env_placehold_placehold_placehold_placehold_placehold_placehold_placehold_placehold_placehold_placehold_placehold_placehold_placehold_placehold_placehold_placehold_placehold_placehold_placehold_p/include']\n",
      "blas_opt_info:\n",
      "    libraries = ['mkl_rt', 'pthread']\n",
      "    library_dirs = ['/home/sat_bot/base/conda-bld/numpy_and_dev_1715296241721/_h_env_placehold_placehold_placehold_placehold_placehold_placehold_placehold_placehold_placehold_placehold_placehold_placehold_placehold_placehold_placehold_placehold_placehold_placehold_placehold_p/lib']\n",
      "    define_macros = [('SCIPY_MKL_H', None), ('HAVE_CBLAS', None)]\n",
      "    include_dirs = ['/home/sat_bot/base/conda-bld/numpy_and_dev_1715296241721/_h_env_placehold_placehold_placehold_placehold_placehold_placehold_placehold_placehold_placehold_placehold_placehold_placehold_placehold_placehold_placehold_placehold_placehold_placehold_placehold_p/include']\n",
      "lapack_armpl_info:\n",
      "  NOT AVAILABLE\n",
      "lapack_mkl_info:\n",
      "    libraries = ['mkl_rt', 'pthread']\n",
      "    library_dirs = ['/home/sat_bot/base/conda-bld/numpy_and_dev_1715296241721/_h_env_placehold_placehold_placehold_placehold_placehold_placehold_placehold_placehold_placehold_placehold_placehold_placehold_placehold_placehold_placehold_placehold_placehold_placehold_placehold_p/lib']\n",
      "    define_macros = [('SCIPY_MKL_H', None), ('HAVE_CBLAS', None)]\n",
      "    include_dirs = ['/home/sat_bot/base/conda-bld/numpy_and_dev_1715296241721/_h_env_placehold_placehold_placehold_placehold_placehold_placehold_placehold_placehold_placehold_placehold_placehold_placehold_placehold_placehold_placehold_placehold_placehold_placehold_placehold_p/include']\n",
      "lapack_opt_info:\n",
      "    libraries = ['mkl_rt', 'pthread']\n",
      "    library_dirs = ['/home/sat_bot/base/conda-bld/numpy_and_dev_1715296241721/_h_env_placehold_placehold_placehold_placehold_placehold_placehold_placehold_placehold_placehold_placehold_placehold_placehold_placehold_placehold_placehold_placehold_placehold_placehold_placehold_p/lib']\n",
      "    define_macros = [('SCIPY_MKL_H', None), ('HAVE_CBLAS', None)]\n",
      "    include_dirs = ['/home/sat_bot/base/conda-bld/numpy_and_dev_1715296241721/_h_env_placehold_placehold_placehold_placehold_placehold_placehold_placehold_placehold_placehold_placehold_placehold_placehold_placehold_placehold_placehold_placehold_placehold_placehold_placehold_p/include']\n",
      "Supported SIMD extensions in this NumPy install:\n",
      "    baseline = SSE,SSE2,SSE3\n",
      "    found = SSSE3,SSE41,POPCNT,SSE42,AVX,F16C,FMA3,AVX2\n",
      "    not found = AVX512F,AVX512CD,AVX512_KNL,AVX512_KNM,AVX512_SKX,AVX512_CLX,AVX512_CNL,AVX512_ICL,AVX512_SPR\n"
     ]
    }
   ],
   "source": [
    "print(\"★ NumPy Version:\", np.__version__)\n",
    "print(\"☆ NumPy Configuration:\")\n",
    "np.show_config()"
   ]
  },
  {
   "cell_type": "markdown",
   "id": "9ac4b5ef",
   "metadata": {
    "papermill": {
     "duration": 0.019337,
     "end_time": "2025-06-25T12:12:13.516320",
     "exception": false,
     "start_time": "2025-06-25T12:12:13.496983",
     "status": "completed"
    },
    "tags": []
   },
   "source": [
    "#### 3. Create a null vector of size 10 (★☆☆)"
   ]
  },
  {
   "cell_type": "code",
   "execution_count": 3,
   "id": "96eb42dd",
   "metadata": {
    "execution": {
     "iopub.execute_input": "2025-06-25T12:12:13.557161Z",
     "iopub.status.busy": "2025-06-25T12:12:13.556856Z",
     "iopub.status.idle": "2025-06-25T12:12:13.563384Z",
     "shell.execute_reply": "2025-06-25T12:12:13.562540Z"
    },
    "papermill": {
     "duration": 0.029127,
     "end_time": "2025-06-25T12:12:13.564757",
     "exception": false,
     "start_time": "2025-06-25T12:12:13.535630",
     "status": "completed"
    },
    "tags": []
   },
   "outputs": [
    {
     "data": {
      "text/plain": [
       "array([0., 0., 0., 0., 0., 0., 0., 0., 0., 0.])"
      ]
     },
     "execution_count": 3,
     "metadata": {},
     "output_type": "execute_result"
    }
   ],
   "source": [
    "null_vec = np.zeros(10)\n",
    "null_vec"
   ]
  },
  {
   "cell_type": "markdown",
   "id": "feed8397",
   "metadata": {
    "papermill": {
     "duration": 0.019818,
     "end_time": "2025-06-25T12:12:13.604252",
     "exception": false,
     "start_time": "2025-06-25T12:12:13.584434",
     "status": "completed"
    },
    "tags": []
   },
   "source": [
    "#### 4. How to find the memory size of any array (★☆☆)"
   ]
  },
  {
   "cell_type": "code",
   "execution_count": 4,
   "id": "54f56c92",
   "metadata": {
    "execution": {
     "iopub.execute_input": "2025-06-25T12:12:13.644965Z",
     "iopub.status.busy": "2025-06-25T12:12:13.644618Z",
     "iopub.status.idle": "2025-06-25T12:12:13.649491Z",
     "shell.execute_reply": "2025-06-25T12:12:13.648486Z"
    },
    "papermill": {
     "duration": 0.026839,
     "end_time": "2025-06-25T12:12:13.650863",
     "exception": false,
     "start_time": "2025-06-25T12:12:13.624024",
     "status": "completed"
    },
    "tags": []
   },
   "outputs": [
    {
     "name": "stdout",
     "output_type": "stream",
     "text": [
      "Null Vector Size: 10\n",
      "Null Vector ItemSize: 8\n"
     ]
    }
   ],
   "source": [
    "print(\"Null Vector Size:\", null_vec.size)\n",
    "print(\"Null Vector ItemSize:\", null_vec.itemsize)"
   ]
  },
  {
   "cell_type": "markdown",
   "id": "423e60f4",
   "metadata": {
    "papermill": {
     "duration": 0.020313,
     "end_time": "2025-06-25T12:12:13.691122",
     "exception": false,
     "start_time": "2025-06-25T12:12:13.670809",
     "status": "completed"
    },
    "tags": []
   },
   "source": [
    "#### 5. How to get the documentation of the numpy add function from the command line? (★☆☆)"
   ]
  },
  {
   "cell_type": "code",
   "execution_count": 5,
   "id": "0d5bc2dc",
   "metadata": {
    "execution": {
     "iopub.execute_input": "2025-06-25T12:12:13.731283Z",
     "iopub.status.busy": "2025-06-25T12:12:13.730979Z",
     "iopub.status.idle": "2025-06-25T12:12:13.736069Z",
     "shell.execute_reply": "2025-06-25T12:12:13.734968Z"
    },
    "papermill": {
     "duration": 0.027229,
     "end_time": "2025-06-25T12:12:13.737715",
     "exception": false,
     "start_time": "2025-06-25T12:12:13.710486",
     "status": "completed"
    },
    "tags": []
   },
   "outputs": [
    {
     "name": "stdout",
     "output_type": "stream",
     "text": [
      "add(x1, x2, /, out=None, *, where=True, casting='same_kind', order='K', dtype=None, subok=True[, signature, extobj])\n",
      "\n",
      "Add arguments element-wise.\n",
      "\n",
      "Parameters\n",
      "----------\n",
      "x1, x2 : array_like\n",
      "    The arrays to be added.\n",
      "    If ``x1.shape != x2.shape``, they must be broadcastable to a common\n",
      "    shape (which becomes the shape of the output).\n",
      "out : ndarray, None, or tuple of ndarray and None, optional\n",
      "    A location into which the result is stored. If provided, it must have\n",
      "    a shape that the inputs broadcast to. If not provided or None,\n",
      "    a freshly-allocated array is returned. A tuple (possible only as a\n",
      "    keyword argument) must have length equal to the number of outputs.\n",
      "where : array_like, optional\n",
      "    This condition is broadcast over the input. At locations where the\n",
      "    condition is True, the `out` array will be set to the ufunc result.\n",
      "    Elsewhere, the `out` array will retain its original value.\n",
      "    Note that if an uninitialized `out` array is created via the default\n",
      "    ``out=None``, locations within it where the condition is False will\n",
      "    remain uninitialized.\n",
      "**kwargs\n",
      "    For other keyword-only arguments, see the\n",
      "    :ref:`ufunc docs <ufuncs.kwargs>`.\n",
      "\n",
      "Returns\n",
      "-------\n",
      "add : ndarray or scalar\n",
      "    The sum of `x1` and `x2`, element-wise.\n",
      "    This is a scalar if both `x1` and `x2` are scalars.\n",
      "\n",
      "Notes\n",
      "-----\n",
      "Equivalent to `x1` + `x2` in terms of array broadcasting.\n",
      "\n",
      "Examples\n",
      "--------\n",
      ">>> np.add(1.0, 4.0)\n",
      "5.0\n",
      ">>> x1 = np.arange(9.0).reshape((3, 3))\n",
      ">>> x2 = np.arange(3.0)\n",
      ">>> np.add(x1, x2)\n",
      "array([[  0.,   2.,   4.],\n",
      "       [  3.,   5.,   7.],\n",
      "       [  6.,   8.,  10.]])\n",
      "\n",
      "The ``+`` operator can be used as a shorthand for ``np.add`` on ndarrays.\n",
      "\n",
      ">>> x1 = np.arange(9.0).reshape((3, 3))\n",
      ">>> x2 = np.arange(3.0)\n",
      ">>> x1 + x2\n",
      "array([[ 0.,  2.,  4.],\n",
      "       [ 3.,  5.,  7.],\n",
      "       [ 6.,  8., 10.]])\n"
     ]
    }
   ],
   "source": [
    "# np.add?\n",
    "# print(np.info('add'))\n",
    "print(np.add.__doc__)"
   ]
  },
  {
   "cell_type": "markdown",
   "id": "47485e2e",
   "metadata": {
    "papermill": {
     "duration": 0.019789,
     "end_time": "2025-06-25T12:12:13.777762",
     "exception": false,
     "start_time": "2025-06-25T12:12:13.757973",
     "status": "completed"
    },
    "tags": []
   },
   "source": [
    "#### 6. Create a null vector of size 10 but the fifth value which is 1 (★☆☆)"
   ]
  },
  {
   "cell_type": "code",
   "execution_count": 6,
   "id": "1fc254dd",
   "metadata": {
    "execution": {
     "iopub.execute_input": "2025-06-25T12:12:13.819252Z",
     "iopub.status.busy": "2025-06-25T12:12:13.818971Z",
     "iopub.status.idle": "2025-06-25T12:12:13.825141Z",
     "shell.execute_reply": "2025-06-25T12:12:13.824426Z"
    },
    "papermill": {
     "duration": 0.02897,
     "end_time": "2025-06-25T12:12:13.826445",
     "exception": false,
     "start_time": "2025-06-25T12:12:13.797475",
     "status": "completed"
    },
    "tags": []
   },
   "outputs": [
    {
     "data": {
      "text/plain": [
       "array([0., 0., 0., 0., 1., 0., 0., 0., 0., 0.])"
      ]
     },
     "execution_count": 6,
     "metadata": {},
     "output_type": "execute_result"
    }
   ],
   "source": [
    "f_null_vec = np.zeros(10)\n",
    "f_null_vec[4] = 1\n",
    "\n",
    "f_null_vec"
   ]
  },
  {
   "cell_type": "markdown",
   "id": "735a8c84",
   "metadata": {
    "papermill": {
     "duration": 0.019661,
     "end_time": "2025-06-25T12:12:13.866740",
     "exception": false,
     "start_time": "2025-06-25T12:12:13.847079",
     "status": "completed"
    },
    "tags": []
   },
   "source": [
    "#### 7. Create a vector with values ranging from 10 to 49 (★☆☆)"
   ]
  },
  {
   "cell_type": "code",
   "execution_count": 7,
   "id": "88bdb367",
   "metadata": {
    "execution": {
     "iopub.execute_input": "2025-06-25T12:12:13.908252Z",
     "iopub.status.busy": "2025-06-25T12:12:13.907326Z",
     "iopub.status.idle": "2025-06-25T12:12:13.914501Z",
     "shell.execute_reply": "2025-06-25T12:12:13.913737Z"
    },
    "papermill": {
     "duration": 0.029478,
     "end_time": "2025-06-25T12:12:13.915922",
     "exception": false,
     "start_time": "2025-06-25T12:12:13.886444",
     "status": "completed"
    },
    "tags": []
   },
   "outputs": [
    {
     "data": {
      "text/plain": [
       "array([10, 11, 12, 13, 14, 15, 16, 17, 18, 19, 20, 21, 22, 23, 24, 25, 26,\n",
       "       27, 28, 29, 30, 31, 32, 33, 34, 35, 36, 37, 38, 39, 40, 41, 42, 43,\n",
       "       44, 45, 46, 47, 48])"
      ]
     },
     "execution_count": 7,
     "metadata": {},
     "output_type": "execute_result"
    }
   ],
   "source": [
    "vecr = np.arange(10, 49)\n",
    "\n",
    "vecr"
   ]
  },
  {
   "cell_type": "markdown",
   "id": "1a15fa08",
   "metadata": {
    "papermill": {
     "duration": 0.019743,
     "end_time": "2025-06-25T12:12:13.955805",
     "exception": false,
     "start_time": "2025-06-25T12:12:13.936062",
     "status": "completed"
    },
    "tags": []
   },
   "source": [
    "#### 8. Reverse a vector (first element becomes last) (★☆☆)"
   ]
  },
  {
   "cell_type": "code",
   "execution_count": null,
   "id": "6293508f",
   "metadata": {
    "papermill": {
     "duration": 0.019551,
     "end_time": "2025-06-25T12:12:13.995050",
     "exception": false,
     "start_time": "2025-06-25T12:12:13.975499",
     "status": "completed"
    },
    "tags": []
   },
   "outputs": [],
   "source": []
  },
  {
   "cell_type": "markdown",
   "id": "4a2d0101",
   "metadata": {
    "papermill": {
     "duration": 0.019493,
     "end_time": "2025-06-25T12:12:14.034695",
     "exception": false,
     "start_time": "2025-06-25T12:12:14.015202",
     "status": "completed"
    },
    "tags": []
   },
   "source": [
    "#### 9. Create a 3x3 matrix with values ranging from 0 to 8 (★☆☆)"
   ]
  },
  {
   "cell_type": "code",
   "execution_count": null,
   "id": "7f52db87",
   "metadata": {
    "papermill": {
     "duration": 0.019574,
     "end_time": "2025-06-25T12:12:14.073962",
     "exception": false,
     "start_time": "2025-06-25T12:12:14.054388",
     "status": "completed"
    },
    "tags": []
   },
   "outputs": [],
   "source": []
  },
  {
   "cell_type": "markdown",
   "id": "e836eb14",
   "metadata": {
    "papermill": {
     "duration": 0.019705,
     "end_time": "2025-06-25T12:12:14.113622",
     "exception": false,
     "start_time": "2025-06-25T12:12:14.093917",
     "status": "completed"
    },
    "tags": []
   },
   "source": [
    "#### 10. Find indices of non-zero elements from [1,2,0,0,4,0] (★☆☆)"
   ]
  },
  {
   "cell_type": "code",
   "execution_count": null,
   "id": "4ebd6c53",
   "metadata": {
    "papermill": {
     "duration": 0.01974,
     "end_time": "2025-06-25T12:12:14.153333",
     "exception": false,
     "start_time": "2025-06-25T12:12:14.133593",
     "status": "completed"
    },
    "tags": []
   },
   "outputs": [],
   "source": []
  },
  {
   "cell_type": "markdown",
   "id": "5bcbe237",
   "metadata": {
    "papermill": {
     "duration": 0.021011,
     "end_time": "2025-06-25T12:12:14.194245",
     "exception": false,
     "start_time": "2025-06-25T12:12:14.173234",
     "status": "completed"
    },
    "tags": []
   },
   "source": [
    "#### 11. Create a 3x3 identity matrix (★☆☆)"
   ]
  },
  {
   "cell_type": "code",
   "execution_count": null,
   "id": "7c5ae158",
   "metadata": {
    "papermill": {
     "duration": 0.019873,
     "end_time": "2025-06-25T12:12:14.234242",
     "exception": false,
     "start_time": "2025-06-25T12:12:14.214369",
     "status": "completed"
    },
    "tags": []
   },
   "outputs": [],
   "source": []
  },
  {
   "cell_type": "markdown",
   "id": "182acf73",
   "metadata": {
    "papermill": {
     "duration": 0.019441,
     "end_time": "2025-06-25T12:12:14.273494",
     "exception": false,
     "start_time": "2025-06-25T12:12:14.254053",
     "status": "completed"
    },
    "tags": []
   },
   "source": [
    "#### 12. Create a 3x3x3 array with random values (★☆☆)"
   ]
  },
  {
   "cell_type": "code",
   "execution_count": null,
   "id": "a9a5a741",
   "metadata": {
    "papermill": {
     "duration": 0.0196,
     "end_time": "2025-06-25T12:12:14.313036",
     "exception": false,
     "start_time": "2025-06-25T12:12:14.293436",
     "status": "completed"
    },
    "tags": []
   },
   "outputs": [],
   "source": []
  },
  {
   "cell_type": "markdown",
   "id": "ed7d1be4",
   "metadata": {
    "papermill": {
     "duration": 0.01952,
     "end_time": "2025-06-25T12:12:14.352270",
     "exception": false,
     "start_time": "2025-06-25T12:12:14.332750",
     "status": "completed"
    },
    "tags": []
   },
   "source": [
    "#### 13. Create a 10x10 array with random values and find the minimum and maximum values (★☆☆)"
   ]
  },
  {
   "cell_type": "code",
   "execution_count": null,
   "id": "fb1a2ad2",
   "metadata": {
    "papermill": {
     "duration": 0.019555,
     "end_time": "2025-06-25T12:12:14.391846",
     "exception": false,
     "start_time": "2025-06-25T12:12:14.372291",
     "status": "completed"
    },
    "tags": []
   },
   "outputs": [],
   "source": []
  },
  {
   "cell_type": "markdown",
   "id": "705e668c",
   "metadata": {
    "papermill": {
     "duration": 0.01963,
     "end_time": "2025-06-25T12:12:14.431468",
     "exception": false,
     "start_time": "2025-06-25T12:12:14.411838",
     "status": "completed"
    },
    "tags": []
   },
   "source": [
    "#### 14. Create a random vector of size 30 and find the mean value (★☆☆)"
   ]
  },
  {
   "cell_type": "code",
   "execution_count": null,
   "id": "55e50bfe",
   "metadata": {
    "papermill": {
     "duration": 0.019586,
     "end_time": "2025-06-25T12:12:14.470680",
     "exception": false,
     "start_time": "2025-06-25T12:12:14.451094",
     "status": "completed"
    },
    "tags": []
   },
   "outputs": [],
   "source": []
  },
  {
   "cell_type": "markdown",
   "id": "77372d1b",
   "metadata": {
    "papermill": {
     "duration": 0.0195,
     "end_time": "2025-06-25T12:12:14.510940",
     "exception": false,
     "start_time": "2025-06-25T12:12:14.491440",
     "status": "completed"
    },
    "tags": []
   },
   "source": [
    "#### 15. Create a 2d array with 1 on the border and 0 inside (★☆☆)"
   ]
  },
  {
   "cell_type": "code",
   "execution_count": null,
   "id": "bb926904",
   "metadata": {
    "papermill": {
     "duration": 0.019502,
     "end_time": "2025-06-25T12:12:14.550100",
     "exception": false,
     "start_time": "2025-06-25T12:12:14.530598",
     "status": "completed"
    },
    "tags": []
   },
   "outputs": [],
   "source": []
  },
  {
   "cell_type": "markdown",
   "id": "cd24fcb2",
   "metadata": {
    "papermill": {
     "duration": 0.019491,
     "end_time": "2025-06-25T12:12:14.589527",
     "exception": false,
     "start_time": "2025-06-25T12:12:14.570036",
     "status": "completed"
    },
    "tags": []
   },
   "source": [
    "#### 16. How to add a border (filled with 0's) around an existing array? (★☆☆)"
   ]
  },
  {
   "cell_type": "code",
   "execution_count": null,
   "id": "ec5e023f",
   "metadata": {
    "papermill": {
     "duration": 0.020266,
     "end_time": "2025-06-25T12:12:14.629758",
     "exception": false,
     "start_time": "2025-06-25T12:12:14.609492",
     "status": "completed"
    },
    "tags": []
   },
   "outputs": [],
   "source": []
  },
  {
   "cell_type": "markdown",
   "id": "03622467",
   "metadata": {
    "papermill": {
     "duration": 0.019875,
     "end_time": "2025-06-25T12:12:14.669748",
     "exception": false,
     "start_time": "2025-06-25T12:12:14.649873",
     "status": "completed"
    },
    "tags": []
   },
   "source": [
    "#### 17. What is the result of the following expression? (★☆☆)\n",
    "```python\n",
    "0 * np.nan\n",
    "np.nan == np.nan\n",
    "np.inf > np.nan\n",
    "np.nan - np.nan\n",
    "np.nan in set([np.nan])\n",
    "0.3 == 3 * 0.1\n",
    "```"
   ]
  },
  {
   "cell_type": "code",
   "execution_count": null,
   "id": "6fea04d9",
   "metadata": {
    "papermill": {
     "duration": 0.019631,
     "end_time": "2025-06-25T12:12:14.709242",
     "exception": false,
     "start_time": "2025-06-25T12:12:14.689611",
     "status": "completed"
    },
    "tags": []
   },
   "outputs": [],
   "source": []
  },
  {
   "cell_type": "markdown",
   "id": "502d7523",
   "metadata": {
    "papermill": {
     "duration": 0.020687,
     "end_time": "2025-06-25T12:12:14.749809",
     "exception": false,
     "start_time": "2025-06-25T12:12:14.729122",
     "status": "completed"
    },
    "tags": []
   },
   "source": [
    "#### 18. Create a 5x5 matrix with values 1,2,3,4 just below the diagonal (★☆☆)"
   ]
  },
  {
   "cell_type": "code",
   "execution_count": null,
   "id": "d8df3e6e",
   "metadata": {
    "papermill": {
     "duration": 0.020336,
     "end_time": "2025-06-25T12:12:14.789824",
     "exception": false,
     "start_time": "2025-06-25T12:12:14.769488",
     "status": "completed"
    },
    "tags": []
   },
   "outputs": [],
   "source": []
  },
  {
   "cell_type": "markdown",
   "id": "324cfc89",
   "metadata": {
    "papermill": {
     "duration": 0.019548,
     "end_time": "2025-06-25T12:12:14.829458",
     "exception": false,
     "start_time": "2025-06-25T12:12:14.809910",
     "status": "completed"
    },
    "tags": []
   },
   "source": [
    "#### 19. Create a 8x8 matrix and fill it with a checkerboard pattern (★☆☆)"
   ]
  },
  {
   "cell_type": "code",
   "execution_count": null,
   "id": "645c96c1",
   "metadata": {
    "papermill": {
     "duration": 0.019813,
     "end_time": "2025-06-25T12:12:14.869202",
     "exception": false,
     "start_time": "2025-06-25T12:12:14.849389",
     "status": "completed"
    },
    "tags": []
   },
   "outputs": [],
   "source": []
  },
  {
   "cell_type": "markdown",
   "id": "fe5c1300",
   "metadata": {
    "papermill": {
     "duration": 0.019829,
     "end_time": "2025-06-25T12:12:14.908955",
     "exception": false,
     "start_time": "2025-06-25T12:12:14.889126",
     "status": "completed"
    },
    "tags": []
   },
   "source": [
    "#### 20. Consider a (6,7,8) shape array, what is the index (x,y,z) of the 100th element? (★☆☆)"
   ]
  },
  {
   "cell_type": "code",
   "execution_count": null,
   "id": "ead0d6c7",
   "metadata": {
    "papermill": {
     "duration": 0.01965,
     "end_time": "2025-06-25T12:12:14.948343",
     "exception": false,
     "start_time": "2025-06-25T12:12:14.928693",
     "status": "completed"
    },
    "tags": []
   },
   "outputs": [],
   "source": []
  },
  {
   "cell_type": "markdown",
   "id": "ac459fa7",
   "metadata": {
    "papermill": {
     "duration": 0.019592,
     "end_time": "2025-06-25T12:12:14.987566",
     "exception": false,
     "start_time": "2025-06-25T12:12:14.967974",
     "status": "completed"
    },
    "tags": []
   },
   "source": [
    "#### 21. Create a checkerboard 8x8 matrix using the tile function (★☆☆)"
   ]
  },
  {
   "cell_type": "code",
   "execution_count": null,
   "id": "d17921c9",
   "metadata": {
    "papermill": {
     "duration": 0.019843,
     "end_time": "2025-06-25T12:12:15.027232",
     "exception": false,
     "start_time": "2025-06-25T12:12:15.007389",
     "status": "completed"
    },
    "tags": []
   },
   "outputs": [],
   "source": []
  },
  {
   "cell_type": "markdown",
   "id": "41a05902",
   "metadata": {
    "papermill": {
     "duration": 0.019556,
     "end_time": "2025-06-25T12:12:15.066478",
     "exception": false,
     "start_time": "2025-06-25T12:12:15.046922",
     "status": "completed"
    },
    "tags": []
   },
   "source": [
    "#### 22. Normalize a 5x5 random matrix (★☆☆)"
   ]
  },
  {
   "cell_type": "code",
   "execution_count": null,
   "id": "e00b9c69",
   "metadata": {
    "papermill": {
     "duration": 0.019519,
     "end_time": "2025-06-25T12:12:15.105647",
     "exception": false,
     "start_time": "2025-06-25T12:12:15.086128",
     "status": "completed"
    },
    "tags": []
   },
   "outputs": [],
   "source": []
  },
  {
   "cell_type": "markdown",
   "id": "4d16941c",
   "metadata": {
    "papermill": {
     "duration": 0.01976,
     "end_time": "2025-06-25T12:12:15.145224",
     "exception": false,
     "start_time": "2025-06-25T12:12:15.125464",
     "status": "completed"
    },
    "tags": []
   },
   "source": [
    "#### 23. Create a custom dtype that describes a color as four unsigned bytes (RGBA) (★☆☆)"
   ]
  },
  {
   "cell_type": "code",
   "execution_count": null,
   "id": "15ed0dc0",
   "metadata": {
    "papermill": {
     "duration": 0.019571,
     "end_time": "2025-06-25T12:12:15.184932",
     "exception": false,
     "start_time": "2025-06-25T12:12:15.165361",
     "status": "completed"
    },
    "tags": []
   },
   "outputs": [],
   "source": []
  },
  {
   "cell_type": "markdown",
   "id": "617f9045",
   "metadata": {
    "papermill": {
     "duration": 0.019735,
     "end_time": "2025-06-25T12:12:15.225775",
     "exception": false,
     "start_time": "2025-06-25T12:12:15.206040",
     "status": "completed"
    },
    "tags": []
   },
   "source": [
    "#### 24. Multiply a 5x3 matrix by a 3x2 matrix (real matrix product) (★☆☆)"
   ]
  },
  {
   "cell_type": "code",
   "execution_count": null,
   "id": "33034fda",
   "metadata": {
    "papermill": {
     "duration": 0.019707,
     "end_time": "2025-06-25T12:12:15.265085",
     "exception": false,
     "start_time": "2025-06-25T12:12:15.245378",
     "status": "completed"
    },
    "tags": []
   },
   "outputs": [],
   "source": []
  },
  {
   "cell_type": "markdown",
   "id": "bd3e1225",
   "metadata": {
    "papermill": {
     "duration": 0.019635,
     "end_time": "2025-06-25T12:12:15.304595",
     "exception": false,
     "start_time": "2025-06-25T12:12:15.284960",
     "status": "completed"
    },
    "tags": []
   },
   "source": [
    "#### 25. Given a 1D array, negate all elements which are between 3 and 8, in place. (★☆☆)"
   ]
  },
  {
   "cell_type": "code",
   "execution_count": null,
   "id": "af237925",
   "metadata": {
    "papermill": {
     "duration": 0.019706,
     "end_time": "2025-06-25T12:12:15.344234",
     "exception": false,
     "start_time": "2025-06-25T12:12:15.324528",
     "status": "completed"
    },
    "tags": []
   },
   "outputs": [],
   "source": []
  },
  {
   "cell_type": "markdown",
   "id": "5ae249d9",
   "metadata": {
    "papermill": {
     "duration": 0.019789,
     "end_time": "2025-06-25T12:12:15.384044",
     "exception": false,
     "start_time": "2025-06-25T12:12:15.364255",
     "status": "completed"
    },
    "tags": []
   },
   "source": [
    "#### 26. What is the output of the following script? (★☆☆)\n",
    "```python\n",
    "# Author: Jake VanderPlas\n",
    "\n",
    "print(sum(range(5),-1))\n",
    "from numpy import *\n",
    "print(sum(range(5),-1))\n",
    "```"
   ]
  },
  {
   "cell_type": "code",
   "execution_count": null,
   "id": "b1fbc80c",
   "metadata": {
    "papermill": {
     "duration": 0.019583,
     "end_time": "2025-06-25T12:12:15.423575",
     "exception": false,
     "start_time": "2025-06-25T12:12:15.403992",
     "status": "completed"
    },
    "tags": []
   },
   "outputs": [],
   "source": []
  },
  {
   "cell_type": "markdown",
   "id": "0173a770",
   "metadata": {
    "papermill": {
     "duration": 0.020026,
     "end_time": "2025-06-25T12:12:15.463794",
     "exception": false,
     "start_time": "2025-06-25T12:12:15.443768",
     "status": "completed"
    },
    "tags": []
   },
   "source": [
    "#### 27. Consider an integer vector Z, which of these expressions are legal? (★☆☆)\n",
    "```python\n",
    "Z**Z\n",
    "2 << Z >> 2\n",
    "Z <- Z\n",
    "1j*Z\n",
    "Z/1/1\n",
    "Z<Z>Z\n",
    "```"
   ]
  },
  {
   "cell_type": "code",
   "execution_count": null,
   "id": "c1c176ee",
   "metadata": {
    "papermill": {
     "duration": 0.019591,
     "end_time": "2025-06-25T12:12:15.503345",
     "exception": false,
     "start_time": "2025-06-25T12:12:15.483754",
     "status": "completed"
    },
    "tags": []
   },
   "outputs": [],
   "source": []
  },
  {
   "cell_type": "markdown",
   "id": "8b16cd22",
   "metadata": {
    "papermill": {
     "duration": 0.019865,
     "end_time": "2025-06-25T12:12:15.543202",
     "exception": false,
     "start_time": "2025-06-25T12:12:15.523337",
     "status": "completed"
    },
    "tags": []
   },
   "source": [
    "#### 28. What are the result of the following expressions? (★☆☆)\n",
    "```python\n",
    "np.array(0) / np.array(0)\n",
    "np.array(0) // np.array(0)\n",
    "np.array([np.nan]).astype(int).astype(float)\n",
    "```"
   ]
  },
  {
   "cell_type": "code",
   "execution_count": null,
   "id": "f535b22c",
   "metadata": {
    "papermill": {
     "duration": 0.020045,
     "end_time": "2025-06-25T12:12:15.583408",
     "exception": false,
     "start_time": "2025-06-25T12:12:15.563363",
     "status": "completed"
    },
    "tags": []
   },
   "outputs": [],
   "source": []
  },
  {
   "cell_type": "markdown",
   "id": "d51fb4d7",
   "metadata": {
    "papermill": {
     "duration": 0.020211,
     "end_time": "2025-06-25T12:12:15.624085",
     "exception": false,
     "start_time": "2025-06-25T12:12:15.603874",
     "status": "completed"
    },
    "tags": []
   },
   "source": [
    "#### 29. How to round away from zero a float array ? (★☆☆)"
   ]
  },
  {
   "cell_type": "code",
   "execution_count": null,
   "id": "d9f96c36",
   "metadata": {
    "papermill": {
     "duration": 0.020478,
     "end_time": "2025-06-25T12:12:15.664918",
     "exception": false,
     "start_time": "2025-06-25T12:12:15.644440",
     "status": "completed"
    },
    "tags": []
   },
   "outputs": [],
   "source": []
  },
  {
   "cell_type": "markdown",
   "id": "17536659",
   "metadata": {
    "papermill": {
     "duration": 0.019895,
     "end_time": "2025-06-25T12:12:15.704868",
     "exception": false,
     "start_time": "2025-06-25T12:12:15.684973",
     "status": "completed"
    },
    "tags": []
   },
   "source": [
    "#### 30. How to find common values between two arrays? (★☆☆)"
   ]
  },
  {
   "cell_type": "code",
   "execution_count": null,
   "id": "920f4fc3",
   "metadata": {
    "papermill": {
     "duration": 0.019758,
     "end_time": "2025-06-25T12:12:15.744469",
     "exception": false,
     "start_time": "2025-06-25T12:12:15.724711",
     "status": "completed"
    },
    "tags": []
   },
   "outputs": [],
   "source": []
  },
  {
   "cell_type": "markdown",
   "id": "bd1cec21",
   "metadata": {
    "papermill": {
     "duration": 0.019902,
     "end_time": "2025-06-25T12:12:15.785248",
     "exception": false,
     "start_time": "2025-06-25T12:12:15.765346",
     "status": "completed"
    },
    "tags": []
   },
   "source": [
    "#### 31. How to ignore all numpy warnings (not recommended)? (★☆☆)"
   ]
  },
  {
   "cell_type": "code",
   "execution_count": null,
   "id": "6513412b",
   "metadata": {
    "papermill": {
     "duration": 0.019976,
     "end_time": "2025-06-25T12:12:15.825254",
     "exception": false,
     "start_time": "2025-06-25T12:12:15.805278",
     "status": "completed"
    },
    "tags": []
   },
   "outputs": [],
   "source": []
  },
  {
   "cell_type": "markdown",
   "id": "2c796a2f",
   "metadata": {
    "papermill": {
     "duration": 0.01994,
     "end_time": "2025-06-25T12:12:15.866199",
     "exception": false,
     "start_time": "2025-06-25T12:12:15.846259",
     "status": "completed"
    },
    "tags": []
   },
   "source": [
    "#### 32. Is the following expressions true? (★☆☆)\n",
    "```python\n",
    "np.sqrt(-1) == np.emath.sqrt(-1)\n",
    "```"
   ]
  },
  {
   "cell_type": "code",
   "execution_count": null,
   "id": "d656a2f1",
   "metadata": {
    "papermill": {
     "duration": 0.019741,
     "end_time": "2025-06-25T12:12:15.905949",
     "exception": false,
     "start_time": "2025-06-25T12:12:15.886208",
     "status": "completed"
    },
    "tags": []
   },
   "outputs": [],
   "source": []
  },
  {
   "cell_type": "markdown",
   "id": "acbb0896",
   "metadata": {
    "papermill": {
     "duration": 0.019528,
     "end_time": "2025-06-25T12:12:15.945315",
     "exception": false,
     "start_time": "2025-06-25T12:12:15.925787",
     "status": "completed"
    },
    "tags": []
   },
   "source": [
    "#### 33. How to get the dates of yesterday, today and tomorrow? (★☆☆)"
   ]
  },
  {
   "cell_type": "code",
   "execution_count": null,
   "id": "a71b4359",
   "metadata": {
    "papermill": {
     "duration": 0.019529,
     "end_time": "2025-06-25T12:12:15.984755",
     "exception": false,
     "start_time": "2025-06-25T12:12:15.965226",
     "status": "completed"
    },
    "tags": []
   },
   "outputs": [],
   "source": []
  },
  {
   "cell_type": "markdown",
   "id": "f315c68d",
   "metadata": {
    "papermill": {
     "duration": 0.023291,
     "end_time": "2025-06-25T12:12:16.028012",
     "exception": false,
     "start_time": "2025-06-25T12:12:16.004721",
     "status": "completed"
    },
    "tags": []
   },
   "source": [
    "#### 34. How to get all the dates corresponding to the month of July 2016? (★★☆)"
   ]
  },
  {
   "cell_type": "code",
   "execution_count": null,
   "id": "5f6fef21",
   "metadata": {
    "papermill": {
     "duration": 0.019816,
     "end_time": "2025-06-25T12:12:16.067871",
     "exception": false,
     "start_time": "2025-06-25T12:12:16.048055",
     "status": "completed"
    },
    "tags": []
   },
   "outputs": [],
   "source": []
  },
  {
   "cell_type": "markdown",
   "id": "d0f7cf32",
   "metadata": {
    "papermill": {
     "duration": 0.020183,
     "end_time": "2025-06-25T12:12:16.108259",
     "exception": false,
     "start_time": "2025-06-25T12:12:16.088076",
     "status": "completed"
    },
    "tags": []
   },
   "source": [
    "#### 35. How to compute ((A+B)*(-A/2)) in place (without copy)? (★★☆)"
   ]
  },
  {
   "cell_type": "code",
   "execution_count": null,
   "id": "c17c8657",
   "metadata": {
    "papermill": {
     "duration": 0.020003,
     "end_time": "2025-06-25T12:12:16.148323",
     "exception": false,
     "start_time": "2025-06-25T12:12:16.128320",
     "status": "completed"
    },
    "tags": []
   },
   "outputs": [],
   "source": []
  },
  {
   "cell_type": "markdown",
   "id": "2838a811",
   "metadata": {
    "papermill": {
     "duration": 0.019838,
     "end_time": "2025-06-25T12:12:16.188340",
     "exception": false,
     "start_time": "2025-06-25T12:12:16.168502",
     "status": "completed"
    },
    "tags": []
   },
   "source": [
    "#### 36. Extract the integer part of a random array of positive numbers using 4 different methods (★★☆)"
   ]
  },
  {
   "cell_type": "code",
   "execution_count": null,
   "id": "c97a4b18",
   "metadata": {
    "papermill": {
     "duration": 0.020208,
     "end_time": "2025-06-25T12:12:16.230116",
     "exception": false,
     "start_time": "2025-06-25T12:12:16.209908",
     "status": "completed"
    },
    "tags": []
   },
   "outputs": [],
   "source": []
  },
  {
   "cell_type": "markdown",
   "id": "f1effe7b",
   "metadata": {
    "papermill": {
     "duration": 0.019308,
     "end_time": "2025-06-25T12:12:16.269314",
     "exception": false,
     "start_time": "2025-06-25T12:12:16.250006",
     "status": "completed"
    },
    "tags": []
   },
   "source": [
    "#### 37. Create a 5x5 matrix with row values ranging from 0 to 4 (★★☆)"
   ]
  },
  {
   "cell_type": "code",
   "execution_count": null,
   "id": "198ca192",
   "metadata": {
    "papermill": {
     "duration": 0.019765,
     "end_time": "2025-06-25T12:12:16.309094",
     "exception": false,
     "start_time": "2025-06-25T12:12:16.289329",
     "status": "completed"
    },
    "tags": []
   },
   "outputs": [],
   "source": []
  },
  {
   "cell_type": "markdown",
   "id": "80bc6fd7",
   "metadata": {
    "papermill": {
     "duration": 0.01955,
     "end_time": "2025-06-25T12:12:16.348604",
     "exception": false,
     "start_time": "2025-06-25T12:12:16.329054",
     "status": "completed"
    },
    "tags": []
   },
   "source": [
    "#### 38. Consider a generator function that generates 10 integers and use it to build an array (★☆☆)"
   ]
  },
  {
   "cell_type": "code",
   "execution_count": null,
   "id": "cf73209f",
   "metadata": {
    "papermill": {
     "duration": 0.019876,
     "end_time": "2025-06-25T12:12:16.388281",
     "exception": false,
     "start_time": "2025-06-25T12:12:16.368405",
     "status": "completed"
    },
    "tags": []
   },
   "outputs": [],
   "source": []
  },
  {
   "cell_type": "markdown",
   "id": "3a414a9c",
   "metadata": {
    "papermill": {
     "duration": 0.019497,
     "end_time": "2025-06-25T12:12:16.427606",
     "exception": false,
     "start_time": "2025-06-25T12:12:16.408109",
     "status": "completed"
    },
    "tags": []
   },
   "source": [
    "#### 39. Create a vector of size 10 with values ranging from 0 to 1, both excluded (★★☆)"
   ]
  },
  {
   "cell_type": "code",
   "execution_count": null,
   "id": "e81c01f7",
   "metadata": {
    "papermill": {
     "duration": 0.019653,
     "end_time": "2025-06-25T12:12:16.467143",
     "exception": false,
     "start_time": "2025-06-25T12:12:16.447490",
     "status": "completed"
    },
    "tags": []
   },
   "outputs": [],
   "source": []
  },
  {
   "cell_type": "markdown",
   "id": "3ccdba53",
   "metadata": {
    "papermill": {
     "duration": 0.019698,
     "end_time": "2025-06-25T12:12:16.506808",
     "exception": false,
     "start_time": "2025-06-25T12:12:16.487110",
     "status": "completed"
    },
    "tags": []
   },
   "source": [
    "#### 40. Create a random vector of size 10 and sort it (★★☆)"
   ]
  },
  {
   "cell_type": "code",
   "execution_count": null,
   "id": "9e0b9efa",
   "metadata": {
    "papermill": {
     "duration": 0.019598,
     "end_time": "2025-06-25T12:12:16.546055",
     "exception": false,
     "start_time": "2025-06-25T12:12:16.526457",
     "status": "completed"
    },
    "tags": []
   },
   "outputs": [],
   "source": []
  },
  {
   "cell_type": "markdown",
   "id": "683be2f8",
   "metadata": {
    "papermill": {
     "duration": 0.019657,
     "end_time": "2025-06-25T12:12:16.585608",
     "exception": false,
     "start_time": "2025-06-25T12:12:16.565951",
     "status": "completed"
    },
    "tags": []
   },
   "source": [
    "#### 41. How to sum a small array faster than np.sum? (★★☆)"
   ]
  },
  {
   "cell_type": "code",
   "execution_count": null,
   "id": "9d2cbd10",
   "metadata": {
    "papermill": {
     "duration": 0.02048,
     "end_time": "2025-06-25T12:12:16.625962",
     "exception": false,
     "start_time": "2025-06-25T12:12:16.605482",
     "status": "completed"
    },
    "tags": []
   },
   "outputs": [],
   "source": []
  },
  {
   "cell_type": "markdown",
   "id": "6fd43a08",
   "metadata": {
    "papermill": {
     "duration": 0.019475,
     "end_time": "2025-06-25T12:12:16.665308",
     "exception": false,
     "start_time": "2025-06-25T12:12:16.645833",
     "status": "completed"
    },
    "tags": []
   },
   "source": [
    "#### 42. Consider two random arrays A and B, check if they are equal (★★☆)"
   ]
  },
  {
   "cell_type": "code",
   "execution_count": null,
   "id": "8d5c7200",
   "metadata": {
    "papermill": {
     "duration": 0.019656,
     "end_time": "2025-06-25T12:12:16.704897",
     "exception": false,
     "start_time": "2025-06-25T12:12:16.685241",
     "status": "completed"
    },
    "tags": []
   },
   "outputs": [],
   "source": []
  },
  {
   "cell_type": "markdown",
   "id": "4246088e",
   "metadata": {
    "papermill": {
     "duration": 0.020226,
     "end_time": "2025-06-25T12:12:16.744948",
     "exception": false,
     "start_time": "2025-06-25T12:12:16.724722",
     "status": "completed"
    },
    "tags": []
   },
   "source": [
    "#### 43. Make an array immutable (read-only) (★★☆)"
   ]
  },
  {
   "cell_type": "code",
   "execution_count": null,
   "id": "20f0662b",
   "metadata": {
    "papermill": {
     "duration": 0.01968,
     "end_time": "2025-06-25T12:12:16.785182",
     "exception": false,
     "start_time": "2025-06-25T12:12:16.765502",
     "status": "completed"
    },
    "tags": []
   },
   "outputs": [],
   "source": []
  },
  {
   "cell_type": "markdown",
   "id": "2d398149",
   "metadata": {
    "papermill": {
     "duration": 0.01996,
     "end_time": "2025-06-25T12:12:16.825268",
     "exception": false,
     "start_time": "2025-06-25T12:12:16.805308",
     "status": "completed"
    },
    "tags": []
   },
   "source": [
    "#### 44. Consider a random 10x2 matrix representing cartesian coordinates, convert them to polar coordinates (★★☆)"
   ]
  },
  {
   "cell_type": "code",
   "execution_count": null,
   "id": "de3e120c",
   "metadata": {
    "papermill": {
     "duration": 0.019566,
     "end_time": "2025-06-25T12:12:16.865092",
     "exception": false,
     "start_time": "2025-06-25T12:12:16.845526",
     "status": "completed"
    },
    "tags": []
   },
   "outputs": [],
   "source": []
  },
  {
   "cell_type": "markdown",
   "id": "b6398eea",
   "metadata": {
    "papermill": {
     "duration": 0.019603,
     "end_time": "2025-06-25T12:12:16.904630",
     "exception": false,
     "start_time": "2025-06-25T12:12:16.885027",
     "status": "completed"
    },
    "tags": []
   },
   "source": [
    "#### 45. Create random vector of size 10 and replace the maximum value by 0 (★★☆)"
   ]
  },
  {
   "cell_type": "code",
   "execution_count": null,
   "id": "dc91121e",
   "metadata": {
    "papermill": {
     "duration": 0.019431,
     "end_time": "2025-06-25T12:12:16.943815",
     "exception": false,
     "start_time": "2025-06-25T12:12:16.924384",
     "status": "completed"
    },
    "tags": []
   },
   "outputs": [],
   "source": []
  },
  {
   "cell_type": "markdown",
   "id": "02627ddd",
   "metadata": {
    "papermill": {
     "duration": 0.019671,
     "end_time": "2025-06-25T12:12:16.983239",
     "exception": false,
     "start_time": "2025-06-25T12:12:16.963568",
     "status": "completed"
    },
    "tags": []
   },
   "source": [
    "#### 46. Create a structured array with `x` and `y` coordinates covering the [0,1]x[0,1] area (★★☆)"
   ]
  },
  {
   "cell_type": "code",
   "execution_count": null,
   "id": "684f20ee",
   "metadata": {
    "papermill": {
     "duration": 0.019719,
     "end_time": "2025-06-25T12:12:17.022871",
     "exception": false,
     "start_time": "2025-06-25T12:12:17.003152",
     "status": "completed"
    },
    "tags": []
   },
   "outputs": [],
   "source": []
  },
  {
   "cell_type": "markdown",
   "id": "c3745bcd",
   "metadata": {
    "papermill": {
     "duration": 0.019542,
     "end_time": "2025-06-25T12:12:17.062085",
     "exception": false,
     "start_time": "2025-06-25T12:12:17.042543",
     "status": "completed"
    },
    "tags": []
   },
   "source": [
    "#### 47. Given two arrays, X and Y, construct the Cauchy matrix C (Cij =1/(xi - yj)) (★★☆)"
   ]
  },
  {
   "cell_type": "code",
   "execution_count": null,
   "id": "7e3066d8",
   "metadata": {
    "papermill": {
     "duration": 0.019568,
     "end_time": "2025-06-25T12:12:17.101320",
     "exception": false,
     "start_time": "2025-06-25T12:12:17.081752",
     "status": "completed"
    },
    "tags": []
   },
   "outputs": [],
   "source": []
  },
  {
   "cell_type": "markdown",
   "id": "fbdca44c",
   "metadata": {
    "papermill": {
     "duration": 0.019595,
     "end_time": "2025-06-25T12:12:17.141007",
     "exception": false,
     "start_time": "2025-06-25T12:12:17.121412",
     "status": "completed"
    },
    "tags": []
   },
   "source": [
    "#### 48. Print the minimum and maximum representable values for each numpy scalar type (★★☆)"
   ]
  },
  {
   "cell_type": "code",
   "execution_count": null,
   "id": "f03b43c6",
   "metadata": {
    "papermill": {
     "duration": 0.023463,
     "end_time": "2025-06-25T12:12:17.184238",
     "exception": false,
     "start_time": "2025-06-25T12:12:17.160775",
     "status": "completed"
    },
    "tags": []
   },
   "outputs": [],
   "source": []
  },
  {
   "cell_type": "markdown",
   "id": "ef298e0c",
   "metadata": {
    "papermill": {
     "duration": 0.027544,
     "end_time": "2025-06-25T12:12:17.237794",
     "exception": false,
     "start_time": "2025-06-25T12:12:17.210250",
     "status": "completed"
    },
    "tags": []
   },
   "source": [
    "#### 49. How to print all the values of an array? (★★☆)"
   ]
  },
  {
   "cell_type": "code",
   "execution_count": null,
   "id": "b5f7ac0c",
   "metadata": {
    "papermill": {
     "duration": 0.020515,
     "end_time": "2025-06-25T12:12:17.278356",
     "exception": false,
     "start_time": "2025-06-25T12:12:17.257841",
     "status": "completed"
    },
    "tags": []
   },
   "outputs": [],
   "source": []
  },
  {
   "cell_type": "markdown",
   "id": "e462b463",
   "metadata": {
    "papermill": {
     "duration": 0.031792,
     "end_time": "2025-06-25T12:12:17.335290",
     "exception": false,
     "start_time": "2025-06-25T12:12:17.303498",
     "status": "completed"
    },
    "tags": []
   },
   "source": [
    "#### 50. How to find the closest value (to a given scalar) in a vector? (★★☆)"
   ]
  },
  {
   "cell_type": "code",
   "execution_count": null,
   "id": "de4c5d54",
   "metadata": {
    "papermill": {
     "duration": 0.022353,
     "end_time": "2025-06-25T12:12:17.386417",
     "exception": false,
     "start_time": "2025-06-25T12:12:17.364064",
     "status": "completed"
    },
    "tags": []
   },
   "outputs": [],
   "source": []
  },
  {
   "cell_type": "markdown",
   "id": "2be2031a",
   "metadata": {
    "papermill": {
     "duration": 0.020126,
     "end_time": "2025-06-25T12:12:17.427379",
     "exception": false,
     "start_time": "2025-06-25T12:12:17.407253",
     "status": "completed"
    },
    "tags": []
   },
   "source": [
    "#### 51. Create a structured array representing a position (x,y) and a color (r,g,b) (★★☆)"
   ]
  },
  {
   "cell_type": "code",
   "execution_count": null,
   "id": "d92ff945",
   "metadata": {
    "papermill": {
     "duration": 0.020949,
     "end_time": "2025-06-25T12:12:17.468483",
     "exception": false,
     "start_time": "2025-06-25T12:12:17.447534",
     "status": "completed"
    },
    "tags": []
   },
   "outputs": [],
   "source": []
  },
  {
   "cell_type": "markdown",
   "id": "95631ac7",
   "metadata": {
    "papermill": {
     "duration": 0.022501,
     "end_time": "2025-06-25T12:12:17.515891",
     "exception": false,
     "start_time": "2025-06-25T12:12:17.493390",
     "status": "completed"
    },
    "tags": []
   },
   "source": [
    "#### 52. Consider a random vector with shape (100,2) representing coordinates, find point by point distances (★★☆)"
   ]
  },
  {
   "cell_type": "code",
   "execution_count": null,
   "id": "914d5eeb",
   "metadata": {
    "papermill": {
     "duration": 0.021105,
     "end_time": "2025-06-25T12:12:17.559568",
     "exception": false,
     "start_time": "2025-06-25T12:12:17.538463",
     "status": "completed"
    },
    "tags": []
   },
   "outputs": [],
   "source": []
  },
  {
   "cell_type": "markdown",
   "id": "639533dd",
   "metadata": {
    "papermill": {
     "duration": 0.020158,
     "end_time": "2025-06-25T12:12:17.600469",
     "exception": false,
     "start_time": "2025-06-25T12:12:17.580311",
     "status": "completed"
    },
    "tags": []
   },
   "source": [
    "#### 53. How to convert a float (32 bits) array into an integer (32 bits) array in place?"
   ]
  },
  {
   "cell_type": "code",
   "execution_count": null,
   "id": "8533c236",
   "metadata": {
    "papermill": {
     "duration": 0.020377,
     "end_time": "2025-06-25T12:12:17.641282",
     "exception": false,
     "start_time": "2025-06-25T12:12:17.620905",
     "status": "completed"
    },
    "tags": []
   },
   "outputs": [],
   "source": []
  },
  {
   "cell_type": "markdown",
   "id": "e6fa6f9d",
   "metadata": {
    "papermill": {
     "duration": 0.019744,
     "end_time": "2025-06-25T12:12:17.681462",
     "exception": false,
     "start_time": "2025-06-25T12:12:17.661718",
     "status": "completed"
    },
    "tags": []
   },
   "source": [
    "#### 54. How to read the following file? (★★☆)\n",
    "```\n",
    "1, 2, 3, 4, 5\n",
    "6,  ,  , 7, 8\n",
    " ,  , 9,10,11\n",
    "```"
   ]
  },
  {
   "cell_type": "code",
   "execution_count": null,
   "id": "b8e63d28",
   "metadata": {
    "papermill": {
     "duration": 0.019732,
     "end_time": "2025-06-25T12:12:17.721200",
     "exception": false,
     "start_time": "2025-06-25T12:12:17.701468",
     "status": "completed"
    },
    "tags": []
   },
   "outputs": [],
   "source": []
  },
  {
   "cell_type": "markdown",
   "id": "ca805be6",
   "metadata": {
    "papermill": {
     "duration": 0.019829,
     "end_time": "2025-06-25T12:12:17.761133",
     "exception": false,
     "start_time": "2025-06-25T12:12:17.741304",
     "status": "completed"
    },
    "tags": []
   },
   "source": [
    "#### 55. What is the equivalent of enumerate for numpy arrays? (★★☆)"
   ]
  },
  {
   "cell_type": "code",
   "execution_count": null,
   "id": "3ab7cd81",
   "metadata": {
    "papermill": {
     "duration": 0.021029,
     "end_time": "2025-06-25T12:12:17.803111",
     "exception": false,
     "start_time": "2025-06-25T12:12:17.782082",
     "status": "completed"
    },
    "tags": []
   },
   "outputs": [],
   "source": []
  },
  {
   "cell_type": "markdown",
   "id": "0ca4d0c6",
   "metadata": {
    "papermill": {
     "duration": 0.023359,
     "end_time": "2025-06-25T12:12:17.850245",
     "exception": false,
     "start_time": "2025-06-25T12:12:17.826886",
     "status": "completed"
    },
    "tags": []
   },
   "source": [
    "#### 56. Generate a generic 2D Gaussian-like array (★★☆)"
   ]
  },
  {
   "cell_type": "code",
   "execution_count": null,
   "id": "bb2a1b35",
   "metadata": {
    "papermill": {
     "duration": 0.019786,
     "end_time": "2025-06-25T12:12:17.891370",
     "exception": false,
     "start_time": "2025-06-25T12:12:17.871584",
     "status": "completed"
    },
    "tags": []
   },
   "outputs": [],
   "source": []
  },
  {
   "cell_type": "markdown",
   "id": "21e2995b",
   "metadata": {
    "papermill": {
     "duration": 0.019687,
     "end_time": "2025-06-25T12:12:17.930990",
     "exception": false,
     "start_time": "2025-06-25T12:12:17.911303",
     "status": "completed"
    },
    "tags": []
   },
   "source": [
    "#### 57. How to randomly place p elements in a 2D array? (★★☆)"
   ]
  },
  {
   "cell_type": "code",
   "execution_count": null,
   "id": "3d2b2523",
   "metadata": {
    "papermill": {
     "duration": 0.019694,
     "end_time": "2025-06-25T12:12:17.970648",
     "exception": false,
     "start_time": "2025-06-25T12:12:17.950954",
     "status": "completed"
    },
    "tags": []
   },
   "outputs": [],
   "source": []
  },
  {
   "cell_type": "markdown",
   "id": "0c4d49b9",
   "metadata": {
    "papermill": {
     "duration": 0.019779,
     "end_time": "2025-06-25T12:12:18.010225",
     "exception": false,
     "start_time": "2025-06-25T12:12:17.990446",
     "status": "completed"
    },
    "tags": []
   },
   "source": [
    "#### 58. Subtract the mean of each row of a matrix (★★☆)"
   ]
  },
  {
   "cell_type": "code",
   "execution_count": null,
   "id": "21e4b133",
   "metadata": {
    "papermill": {
     "duration": 0.019772,
     "end_time": "2025-06-25T12:12:18.049886",
     "exception": false,
     "start_time": "2025-06-25T12:12:18.030114",
     "status": "completed"
    },
    "tags": []
   },
   "outputs": [],
   "source": []
  },
  {
   "cell_type": "markdown",
   "id": "8eae4a01",
   "metadata": {
    "papermill": {
     "duration": 0.019661,
     "end_time": "2025-06-25T12:12:18.089423",
     "exception": false,
     "start_time": "2025-06-25T12:12:18.069762",
     "status": "completed"
    },
    "tags": []
   },
   "source": [
    "#### 59. How to sort an array by the nth column? (★★☆)"
   ]
  },
  {
   "cell_type": "code",
   "execution_count": null,
   "id": "568c77a6",
   "metadata": {
    "papermill": {
     "duration": 0.019732,
     "end_time": "2025-06-25T12:12:18.129548",
     "exception": false,
     "start_time": "2025-06-25T12:12:18.109816",
     "status": "completed"
    },
    "tags": []
   },
   "outputs": [],
   "source": []
  },
  {
   "cell_type": "markdown",
   "id": "2fcfcfd8",
   "metadata": {
    "papermill": {
     "duration": 0.020831,
     "end_time": "2025-06-25T12:12:18.171317",
     "exception": false,
     "start_time": "2025-06-25T12:12:18.150486",
     "status": "completed"
    },
    "tags": []
   },
   "source": [
    "#### 60. How to tell if a given 2D array has null columns? (★★☆)"
   ]
  },
  {
   "cell_type": "code",
   "execution_count": null,
   "id": "ba4df9a9",
   "metadata": {
    "papermill": {
     "duration": 0.02153,
     "end_time": "2025-06-25T12:12:18.213345",
     "exception": false,
     "start_time": "2025-06-25T12:12:18.191815",
     "status": "completed"
    },
    "tags": []
   },
   "outputs": [],
   "source": []
  },
  {
   "cell_type": "markdown",
   "id": "6e9146ed",
   "metadata": {
    "papermill": {
     "duration": 0.019944,
     "end_time": "2025-06-25T12:12:18.253996",
     "exception": false,
     "start_time": "2025-06-25T12:12:18.234052",
     "status": "completed"
    },
    "tags": []
   },
   "source": [
    "#### 61. Find the nearest value from a given value in an array (★★☆)"
   ]
  },
  {
   "cell_type": "code",
   "execution_count": null,
   "id": "1c0ba909",
   "metadata": {
    "papermill": {
     "duration": 0.019797,
     "end_time": "2025-06-25T12:12:18.293735",
     "exception": false,
     "start_time": "2025-06-25T12:12:18.273938",
     "status": "completed"
    },
    "tags": []
   },
   "outputs": [],
   "source": []
  },
  {
   "cell_type": "markdown",
   "id": "4974281a",
   "metadata": {
    "papermill": {
     "duration": 0.019636,
     "end_time": "2025-06-25T12:12:18.334523",
     "exception": false,
     "start_time": "2025-06-25T12:12:18.314887",
     "status": "completed"
    },
    "tags": []
   },
   "source": [
    "#### 62. Considering two arrays with shape (1,3) and (3,1), how to compute their sum using an iterator? (★★☆)"
   ]
  },
  {
   "cell_type": "code",
   "execution_count": null,
   "id": "c7289c28",
   "metadata": {
    "papermill": {
     "duration": 0.019831,
     "end_time": "2025-06-25T12:12:18.374631",
     "exception": false,
     "start_time": "2025-06-25T12:12:18.354800",
     "status": "completed"
    },
    "tags": []
   },
   "outputs": [],
   "source": []
  },
  {
   "cell_type": "markdown",
   "id": "203930b9",
   "metadata": {
    "papermill": {
     "duration": 0.020031,
     "end_time": "2025-06-25T12:12:18.415159",
     "exception": false,
     "start_time": "2025-06-25T12:12:18.395128",
     "status": "completed"
    },
    "tags": []
   },
   "source": [
    "#### 63. Create an array class that has a name attribute (★★☆)"
   ]
  },
  {
   "cell_type": "code",
   "execution_count": null,
   "id": "91d7101e",
   "metadata": {
    "papermill": {
     "duration": 0.02002,
     "end_time": "2025-06-25T12:12:18.455492",
     "exception": false,
     "start_time": "2025-06-25T12:12:18.435472",
     "status": "completed"
    },
    "tags": []
   },
   "outputs": [],
   "source": []
  },
  {
   "cell_type": "markdown",
   "id": "f0ab8a77",
   "metadata": {
    "papermill": {
     "duration": 0.020521,
     "end_time": "2025-06-25T12:12:18.496304",
     "exception": false,
     "start_time": "2025-06-25T12:12:18.475783",
     "status": "completed"
    },
    "tags": []
   },
   "source": [
    "#### 64. Consider a given vector, how to add 1 to each element indexed by a second vector (be careful with repeated indices)? (★★★)"
   ]
  },
  {
   "cell_type": "code",
   "execution_count": null,
   "id": "e8a0a2ee",
   "metadata": {
    "papermill": {
     "duration": 0.019897,
     "end_time": "2025-06-25T12:12:18.536375",
     "exception": false,
     "start_time": "2025-06-25T12:12:18.516478",
     "status": "completed"
    },
    "tags": []
   },
   "outputs": [],
   "source": []
  },
  {
   "cell_type": "markdown",
   "id": "63fffb8d",
   "metadata": {
    "papermill": {
     "duration": 0.020072,
     "end_time": "2025-06-25T12:12:18.576688",
     "exception": false,
     "start_time": "2025-06-25T12:12:18.556616",
     "status": "completed"
    },
    "tags": []
   },
   "source": [
    "#### 65. How to accumulate elements of a vector (X) to an array (F) based on an index list (I)? (★★★)"
   ]
  },
  {
   "cell_type": "code",
   "execution_count": null,
   "id": "2519a231",
   "metadata": {
    "papermill": {
     "duration": 0.019827,
     "end_time": "2025-06-25T12:12:18.617307",
     "exception": false,
     "start_time": "2025-06-25T12:12:18.597480",
     "status": "completed"
    },
    "tags": []
   },
   "outputs": [],
   "source": []
  },
  {
   "cell_type": "markdown",
   "id": "e3c57efa",
   "metadata": {
    "papermill": {
     "duration": 0.019779,
     "end_time": "2025-06-25T12:12:18.657121",
     "exception": false,
     "start_time": "2025-06-25T12:12:18.637342",
     "status": "completed"
    },
    "tags": []
   },
   "source": [
    "#### 66. Considering a (w,h,3) image of (dtype=ubyte), compute the number of unique colors (★★☆)"
   ]
  },
  {
   "cell_type": "code",
   "execution_count": null,
   "id": "90e70d9b",
   "metadata": {
    "papermill": {
     "duration": 0.01976,
     "end_time": "2025-06-25T12:12:18.696820",
     "exception": false,
     "start_time": "2025-06-25T12:12:18.677060",
     "status": "completed"
    },
    "tags": []
   },
   "outputs": [],
   "source": []
  },
  {
   "cell_type": "markdown",
   "id": "1924e2ae",
   "metadata": {
    "papermill": {
     "duration": 0.019596,
     "end_time": "2025-06-25T12:12:18.736440",
     "exception": false,
     "start_time": "2025-06-25T12:12:18.716844",
     "status": "completed"
    },
    "tags": []
   },
   "source": [
    "#### 67. Considering a four dimensions array, how to get sum over the last two axis at once? (★★★)"
   ]
  },
  {
   "cell_type": "code",
   "execution_count": null,
   "id": "fd15b5bc",
   "metadata": {
    "papermill": {
     "duration": 0.019756,
     "end_time": "2025-06-25T12:12:18.776152",
     "exception": false,
     "start_time": "2025-06-25T12:12:18.756396",
     "status": "completed"
    },
    "tags": []
   },
   "outputs": [],
   "source": []
  },
  {
   "cell_type": "markdown",
   "id": "a635bbda",
   "metadata": {
    "papermill": {
     "duration": 0.019921,
     "end_time": "2025-06-25T12:12:18.817101",
     "exception": false,
     "start_time": "2025-06-25T12:12:18.797180",
     "status": "completed"
    },
    "tags": []
   },
   "source": [
    "#### 68. Considering a one-dimensional vector D, how to compute means of subsets of D using a vector S of same size describing subset  indices? (★★★)"
   ]
  },
  {
   "cell_type": "code",
   "execution_count": null,
   "id": "1525d563",
   "metadata": {
    "papermill": {
     "duration": 0.019915,
     "end_time": "2025-06-25T12:12:18.857449",
     "exception": false,
     "start_time": "2025-06-25T12:12:18.837534",
     "status": "completed"
    },
    "tags": []
   },
   "outputs": [],
   "source": []
  },
  {
   "cell_type": "markdown",
   "id": "bf7ec995",
   "metadata": {
    "papermill": {
     "duration": 0.020005,
     "end_time": "2025-06-25T12:12:18.897527",
     "exception": false,
     "start_time": "2025-06-25T12:12:18.877522",
     "status": "completed"
    },
    "tags": []
   },
   "source": [
    "#### 69. How to get the diagonal of a dot product? (★★★)"
   ]
  },
  {
   "cell_type": "code",
   "execution_count": null,
   "id": "bf5eb254",
   "metadata": {
    "papermill": {
     "duration": 0.019836,
     "end_time": "2025-06-25T12:12:18.937373",
     "exception": false,
     "start_time": "2025-06-25T12:12:18.917537",
     "status": "completed"
    },
    "tags": []
   },
   "outputs": [],
   "source": []
  },
  {
   "cell_type": "markdown",
   "id": "25fba749",
   "metadata": {
    "papermill": {
     "duration": 0.019698,
     "end_time": "2025-06-25T12:12:18.977227",
     "exception": false,
     "start_time": "2025-06-25T12:12:18.957529",
     "status": "completed"
    },
    "tags": []
   },
   "source": [
    "#### 70. Consider the vector [1, 2, 3, 4, 5], how to build a new vector with 3 consecutive zeros interleaved between each value? (★★★)"
   ]
  },
  {
   "cell_type": "code",
   "execution_count": null,
   "id": "2eb72e75",
   "metadata": {
    "papermill": {
     "duration": 0.019984,
     "end_time": "2025-06-25T12:12:19.017189",
     "exception": false,
     "start_time": "2025-06-25T12:12:18.997205",
     "status": "completed"
    },
    "tags": []
   },
   "outputs": [],
   "source": []
  },
  {
   "cell_type": "markdown",
   "id": "4d47da7f",
   "metadata": {
    "papermill": {
     "duration": 0.019981,
     "end_time": "2025-06-25T12:12:19.057332",
     "exception": false,
     "start_time": "2025-06-25T12:12:19.037351",
     "status": "completed"
    },
    "tags": []
   },
   "source": [
    "#### 71. Consider an array of dimension (5,5,3), how to multiply it by an array with dimensions (5,5)? (★★★)"
   ]
  },
  {
   "cell_type": "code",
   "execution_count": null,
   "id": "f095922e",
   "metadata": {
    "papermill": {
     "duration": 0.019846,
     "end_time": "2025-06-25T12:12:19.097277",
     "exception": false,
     "start_time": "2025-06-25T12:12:19.077431",
     "status": "completed"
    },
    "tags": []
   },
   "outputs": [],
   "source": []
  },
  {
   "cell_type": "markdown",
   "id": "240cc7ff",
   "metadata": {
    "papermill": {
     "duration": 0.019914,
     "end_time": "2025-06-25T12:12:19.137414",
     "exception": false,
     "start_time": "2025-06-25T12:12:19.117500",
     "status": "completed"
    },
    "tags": []
   },
   "source": [
    "#### 72. How to swap two rows of an array? (★★★)"
   ]
  },
  {
   "cell_type": "code",
   "execution_count": null,
   "id": "b2010910",
   "metadata": {
    "papermill": {
     "duration": 0.019916,
     "end_time": "2025-06-25T12:12:19.177319",
     "exception": false,
     "start_time": "2025-06-25T12:12:19.157403",
     "status": "completed"
    },
    "tags": []
   },
   "outputs": [],
   "source": []
  },
  {
   "cell_type": "markdown",
   "id": "4f89f62c",
   "metadata": {
    "papermill": {
     "duration": 0.021138,
     "end_time": "2025-06-25T12:12:19.218429",
     "exception": false,
     "start_time": "2025-06-25T12:12:19.197291",
     "status": "completed"
    },
    "tags": []
   },
   "source": [
    "#### 73. Consider a set of 10 triplets describing 10 triangles (with shared vertices), find the set of unique line segments composing all the  triangles (★★★)"
   ]
  },
  {
   "cell_type": "code",
   "execution_count": null,
   "id": "641ef27b",
   "metadata": {
    "papermill": {
     "duration": 0.01979,
     "end_time": "2025-06-25T12:12:19.258355",
     "exception": false,
     "start_time": "2025-06-25T12:12:19.238565",
     "status": "completed"
    },
    "tags": []
   },
   "outputs": [],
   "source": []
  },
  {
   "cell_type": "markdown",
   "id": "124f930f",
   "metadata": {
    "papermill": {
     "duration": 0.019817,
     "end_time": "2025-06-25T12:12:19.297996",
     "exception": false,
     "start_time": "2025-06-25T12:12:19.278179",
     "status": "completed"
    },
    "tags": []
   },
   "source": [
    "#### 74. Given a sorted array C that corresponds to a bincount, how to produce an array A such that np.bincount(A) == C? (★★★)"
   ]
  },
  {
   "cell_type": "code",
   "execution_count": null,
   "id": "9795580b",
   "metadata": {
    "papermill": {
     "duration": 0.020204,
     "end_time": "2025-06-25T12:12:19.338139",
     "exception": false,
     "start_time": "2025-06-25T12:12:19.317935",
     "status": "completed"
    },
    "tags": []
   },
   "outputs": [],
   "source": []
  },
  {
   "cell_type": "markdown",
   "id": "3b68a5d7",
   "metadata": {
    "papermill": {
     "duration": 0.019508,
     "end_time": "2025-06-25T12:12:19.377441",
     "exception": false,
     "start_time": "2025-06-25T12:12:19.357933",
     "status": "completed"
    },
    "tags": []
   },
   "source": [
    "#### 75. How to compute averages using a sliding window over an array? (★★★)"
   ]
  },
  {
   "cell_type": "code",
   "execution_count": null,
   "id": "0a9fac62",
   "metadata": {
    "papermill": {
     "duration": 0.01977,
     "end_time": "2025-06-25T12:12:19.417027",
     "exception": false,
     "start_time": "2025-06-25T12:12:19.397257",
     "status": "completed"
    },
    "tags": []
   },
   "outputs": [],
   "source": []
  },
  {
   "cell_type": "markdown",
   "id": "091c2937",
   "metadata": {
    "papermill": {
     "duration": 0.019804,
     "end_time": "2025-06-25T12:12:19.457248",
     "exception": false,
     "start_time": "2025-06-25T12:12:19.437444",
     "status": "completed"
    },
    "tags": []
   },
   "source": [
    "#### 76. Consider a one-dimensional array Z, build a two-dimensional array whose first row is (Z[0],Z[1],Z[2]) and each subsequent row is  shifted by 1 (last row should be (Z[-3],Z[-2],Z[-1]) (★★★)"
   ]
  },
  {
   "cell_type": "code",
   "execution_count": null,
   "id": "5c00ab5f",
   "metadata": {
    "papermill": {
     "duration": 0.019798,
     "end_time": "2025-06-25T12:12:19.497072",
     "exception": false,
     "start_time": "2025-06-25T12:12:19.477274",
     "status": "completed"
    },
    "tags": []
   },
   "outputs": [],
   "source": []
  },
  {
   "cell_type": "markdown",
   "id": "eecd89db",
   "metadata": {
    "papermill": {
     "duration": 0.019652,
     "end_time": "2025-06-25T12:12:19.536897",
     "exception": false,
     "start_time": "2025-06-25T12:12:19.517245",
     "status": "completed"
    },
    "tags": []
   },
   "source": [
    "#### 77. How to negate a boolean, or to change the sign of a float inplace? (★★★)"
   ]
  },
  {
   "cell_type": "code",
   "execution_count": null,
   "id": "6de00acf",
   "metadata": {
    "papermill": {
     "duration": 0.020472,
     "end_time": "2025-06-25T12:12:19.578280",
     "exception": false,
     "start_time": "2025-06-25T12:12:19.557808",
     "status": "completed"
    },
    "tags": []
   },
   "outputs": [],
   "source": []
  },
  {
   "cell_type": "markdown",
   "id": "6bd84d33",
   "metadata": {
    "papermill": {
     "duration": 0.020268,
     "end_time": "2025-06-25T12:12:19.618566",
     "exception": false,
     "start_time": "2025-06-25T12:12:19.598298",
     "status": "completed"
    },
    "tags": []
   },
   "source": [
    "#### 78. Consider 2 sets of points P0,P1 describing lines (2d) and a point p, how to compute distance from p to each line i (P0[i],P1[i])? (★★★)"
   ]
  },
  {
   "cell_type": "code",
   "execution_count": null,
   "id": "0897d45b",
   "metadata": {
    "papermill": {
     "duration": 0.020468,
     "end_time": "2025-06-25T12:12:19.659343",
     "exception": false,
     "start_time": "2025-06-25T12:12:19.638875",
     "status": "completed"
    },
    "tags": []
   },
   "outputs": [],
   "source": []
  },
  {
   "cell_type": "markdown",
   "id": "71ce837a",
   "metadata": {
    "papermill": {
     "duration": 0.019821,
     "end_time": "2025-06-25T12:12:19.699258",
     "exception": false,
     "start_time": "2025-06-25T12:12:19.679437",
     "status": "completed"
    },
    "tags": []
   },
   "source": [
    "#### 79. Consider 2 sets of points P0,P1 describing lines (2d) and a set of points P, how to compute distance from each point j (P[j]) to each line i (P0[i],P1[i])? (★★★)"
   ]
  },
  {
   "cell_type": "code",
   "execution_count": null,
   "id": "97d5d3c3",
   "metadata": {
    "papermill": {
     "duration": 0.019715,
     "end_time": "2025-06-25T12:12:19.738928",
     "exception": false,
     "start_time": "2025-06-25T12:12:19.719213",
     "status": "completed"
    },
    "tags": []
   },
   "outputs": [],
   "source": []
  },
  {
   "cell_type": "markdown",
   "id": "3809f670",
   "metadata": {
    "papermill": {
     "duration": 0.020093,
     "end_time": "2025-06-25T12:12:19.779455",
     "exception": false,
     "start_time": "2025-06-25T12:12:19.759362",
     "status": "completed"
    },
    "tags": []
   },
   "source": [
    "#### 80. Consider an arbitrary array, write a function that extracts a subpart with a fixed shape and centered on a given element (pad with a `fill` value when necessary) (★★★)"
   ]
  },
  {
   "cell_type": "code",
   "execution_count": null,
   "id": "93bba2b6",
   "metadata": {
    "papermill": {
     "duration": 0.020231,
     "end_time": "2025-06-25T12:12:19.820442",
     "exception": false,
     "start_time": "2025-06-25T12:12:19.800211",
     "status": "completed"
    },
    "tags": []
   },
   "outputs": [],
   "source": []
  },
  {
   "cell_type": "markdown",
   "id": "86185894",
   "metadata": {
    "papermill": {
     "duration": 0.020082,
     "end_time": "2025-06-25T12:12:19.860780",
     "exception": false,
     "start_time": "2025-06-25T12:12:19.840698",
     "status": "completed"
    },
    "tags": []
   },
   "source": [
    "#### 81. Consider an array Z = [1,2,3,4,5,6,7,8,9,10,11,12,13,14], how to generate an array R = [[1,2,3,4], [2,3,4,5], [3,4,5,6], ..., [11,12,13,14]]? (★★★)"
   ]
  },
  {
   "cell_type": "code",
   "execution_count": null,
   "id": "2cee2128",
   "metadata": {
    "papermill": {
     "duration": 0.019852,
     "end_time": "2025-06-25T12:12:19.900801",
     "exception": false,
     "start_time": "2025-06-25T12:12:19.880949",
     "status": "completed"
    },
    "tags": []
   },
   "outputs": [],
   "source": []
  },
  {
   "cell_type": "markdown",
   "id": "e152d2c8",
   "metadata": {
    "papermill": {
     "duration": 0.019933,
     "end_time": "2025-06-25T12:12:19.940820",
     "exception": false,
     "start_time": "2025-06-25T12:12:19.920887",
     "status": "completed"
    },
    "tags": []
   },
   "source": [
    "#### 82. Compute a matrix rank (★★★)"
   ]
  },
  {
   "cell_type": "code",
   "execution_count": null,
   "id": "40a5a1cd",
   "metadata": {
    "papermill": {
     "duration": 0.019849,
     "end_time": "2025-06-25T12:12:19.980807",
     "exception": false,
     "start_time": "2025-06-25T12:12:19.960958",
     "status": "completed"
    },
    "tags": []
   },
   "outputs": [],
   "source": []
  },
  {
   "cell_type": "markdown",
   "id": "cf2017ae",
   "metadata": {
    "papermill": {
     "duration": 0.019694,
     "end_time": "2025-06-25T12:12:20.020461",
     "exception": false,
     "start_time": "2025-06-25T12:12:20.000767",
     "status": "completed"
    },
    "tags": []
   },
   "source": [
    "#### 83. How to find the most frequent value in an array?"
   ]
  },
  {
   "cell_type": "code",
   "execution_count": null,
   "id": "1da342a3",
   "metadata": {
    "papermill": {
     "duration": 0.020388,
     "end_time": "2025-06-25T12:12:20.060822",
     "exception": false,
     "start_time": "2025-06-25T12:12:20.040434",
     "status": "completed"
    },
    "tags": []
   },
   "outputs": [],
   "source": []
  },
  {
   "cell_type": "markdown",
   "id": "43bbded6",
   "metadata": {
    "papermill": {
     "duration": 0.020049,
     "end_time": "2025-06-25T12:12:20.101090",
     "exception": false,
     "start_time": "2025-06-25T12:12:20.081041",
     "status": "completed"
    },
    "tags": []
   },
   "source": [
    "#### 84. Extract all the contiguous 3x3 blocks from a random 10x10 matrix (★★★)"
   ]
  },
  {
   "cell_type": "code",
   "execution_count": null,
   "id": "e5967a00",
   "metadata": {
    "papermill": {
     "duration": 0.02003,
     "end_time": "2025-06-25T12:12:20.141319",
     "exception": false,
     "start_time": "2025-06-25T12:12:20.121289",
     "status": "completed"
    },
    "tags": []
   },
   "outputs": [],
   "source": []
  },
  {
   "cell_type": "markdown",
   "id": "df2872f4",
   "metadata": {
    "papermill": {
     "duration": 0.020224,
     "end_time": "2025-06-25T12:12:20.182267",
     "exception": false,
     "start_time": "2025-06-25T12:12:20.162043",
     "status": "completed"
    },
    "tags": []
   },
   "source": [
    "#### 85. Create a 2D array subclass such that Z[i,j] == Z[j,i] (★★★)"
   ]
  },
  {
   "cell_type": "code",
   "execution_count": null,
   "id": "338372c3",
   "metadata": {
    "papermill": {
     "duration": 0.021713,
     "end_time": "2025-06-25T12:12:20.224718",
     "exception": false,
     "start_time": "2025-06-25T12:12:20.203005",
     "status": "completed"
    },
    "tags": []
   },
   "outputs": [],
   "source": []
  },
  {
   "cell_type": "markdown",
   "id": "57a7b21a",
   "metadata": {
    "papermill": {
     "duration": 0.020033,
     "end_time": "2025-06-25T12:12:20.265117",
     "exception": false,
     "start_time": "2025-06-25T12:12:20.245084",
     "status": "completed"
    },
    "tags": []
   },
   "source": [
    "#### 86. Consider a set of p matrices with shape (n,n) and a set of p vectors with shape (n,1). How to compute the sum of of the p matrix products at once? (result has shape (n,1)) (★★★)"
   ]
  },
  {
   "cell_type": "code",
   "execution_count": null,
   "id": "4e85411d",
   "metadata": {
    "papermill": {
     "duration": 0.019965,
     "end_time": "2025-06-25T12:12:20.305209",
     "exception": false,
     "start_time": "2025-06-25T12:12:20.285244",
     "status": "completed"
    },
    "tags": []
   },
   "outputs": [],
   "source": []
  },
  {
   "cell_type": "markdown",
   "id": "d8690711",
   "metadata": {
    "papermill": {
     "duration": 0.019933,
     "end_time": "2025-06-25T12:12:20.345283",
     "exception": false,
     "start_time": "2025-06-25T12:12:20.325350",
     "status": "completed"
    },
    "tags": []
   },
   "source": [
    "#### 87. Consider a 16x16 array, how to get the block-sum (block size is 4x4)? (★★★)"
   ]
  },
  {
   "cell_type": "code",
   "execution_count": null,
   "id": "42005e5c",
   "metadata": {
    "papermill": {
     "duration": 0.0201,
     "end_time": "2025-06-25T12:12:20.385629",
     "exception": false,
     "start_time": "2025-06-25T12:12:20.365529",
     "status": "completed"
    },
    "tags": []
   },
   "outputs": [],
   "source": []
  },
  {
   "cell_type": "markdown",
   "id": "726f5ee1",
   "metadata": {
    "papermill": {
     "duration": 0.02006,
     "end_time": "2025-06-25T12:12:20.425886",
     "exception": false,
     "start_time": "2025-06-25T12:12:20.405826",
     "status": "completed"
    },
    "tags": []
   },
   "source": [
    "#### 88. How to implement the Game of Life using numpy arrays? (★★★)"
   ]
  },
  {
   "cell_type": "code",
   "execution_count": null,
   "id": "c60c92e1",
   "metadata": {
    "papermill": {
     "duration": 0.019875,
     "end_time": "2025-06-25T12:12:20.466004",
     "exception": false,
     "start_time": "2025-06-25T12:12:20.446129",
     "status": "completed"
    },
    "tags": []
   },
   "outputs": [],
   "source": []
  },
  {
   "cell_type": "markdown",
   "id": "fd2c7952",
   "metadata": {
    "papermill": {
     "duration": 0.019986,
     "end_time": "2025-06-25T12:12:20.506204",
     "exception": false,
     "start_time": "2025-06-25T12:12:20.486218",
     "status": "completed"
    },
    "tags": []
   },
   "source": [
    "#### 89. How to get the n largest values of an array (★★★)"
   ]
  },
  {
   "cell_type": "code",
   "execution_count": null,
   "id": "4197fedf",
   "metadata": {
    "papermill": {
     "duration": 0.019814,
     "end_time": "2025-06-25T12:12:20.546115",
     "exception": false,
     "start_time": "2025-06-25T12:12:20.526301",
     "status": "completed"
    },
    "tags": []
   },
   "outputs": [],
   "source": []
  },
  {
   "cell_type": "markdown",
   "id": "c1c35dea",
   "metadata": {
    "papermill": {
     "duration": 0.020866,
     "end_time": "2025-06-25T12:12:20.590249",
     "exception": false,
     "start_time": "2025-06-25T12:12:20.569383",
     "status": "completed"
    },
    "tags": []
   },
   "source": [
    "#### 90. Given an arbitrary number of vectors, build the cartesian product (every combination of every item) (★★★)"
   ]
  },
  {
   "cell_type": "code",
   "execution_count": null,
   "id": "4145185b",
   "metadata": {
    "papermill": {
     "duration": 0.019878,
     "end_time": "2025-06-25T12:12:20.630404",
     "exception": false,
     "start_time": "2025-06-25T12:12:20.610526",
     "status": "completed"
    },
    "tags": []
   },
   "outputs": [],
   "source": []
  },
  {
   "cell_type": "markdown",
   "id": "7d661f61",
   "metadata": {
    "papermill": {
     "duration": 0.020005,
     "end_time": "2025-06-25T12:12:20.670346",
     "exception": false,
     "start_time": "2025-06-25T12:12:20.650341",
     "status": "completed"
    },
    "tags": []
   },
   "source": [
    "#### 91. How to create a record array from a regular array? (★★★)"
   ]
  },
  {
   "cell_type": "code",
   "execution_count": null,
   "id": "8f984591",
   "metadata": {
    "papermill": {
     "duration": 0.019826,
     "end_time": "2025-06-25T12:12:20.710186",
     "exception": false,
     "start_time": "2025-06-25T12:12:20.690360",
     "status": "completed"
    },
    "tags": []
   },
   "outputs": [],
   "source": []
  },
  {
   "cell_type": "markdown",
   "id": "0b51833b",
   "metadata": {
    "papermill": {
     "duration": 0.02016,
     "end_time": "2025-06-25T12:12:20.750395",
     "exception": false,
     "start_time": "2025-06-25T12:12:20.730235",
     "status": "completed"
    },
    "tags": []
   },
   "source": [
    "#### 92. Consider a large vector Z, compute Z to the power of 3 using 3 different methods (★★★)"
   ]
  },
  {
   "cell_type": "code",
   "execution_count": null,
   "id": "52a46dab",
   "metadata": {
    "papermill": {
     "duration": 0.019635,
     "end_time": "2025-06-25T12:12:20.790322",
     "exception": false,
     "start_time": "2025-06-25T12:12:20.770687",
     "status": "completed"
    },
    "tags": []
   },
   "outputs": [],
   "source": []
  },
  {
   "cell_type": "markdown",
   "id": "7782f085",
   "metadata": {
    "papermill": {
     "duration": 0.020054,
     "end_time": "2025-06-25T12:12:20.831334",
     "exception": false,
     "start_time": "2025-06-25T12:12:20.811280",
     "status": "completed"
    },
    "tags": []
   },
   "source": [
    "#### 93. Consider two arrays A and B of shape (8,3) and (2,2). How to find rows of A that contain elements of each row of B regardless of the order of the elements in B? (★★★)"
   ]
  },
  {
   "cell_type": "code",
   "execution_count": null,
   "id": "4e33f544",
   "metadata": {
    "papermill": {
     "duration": 0.021319,
     "end_time": "2025-06-25T12:12:20.872707",
     "exception": false,
     "start_time": "2025-06-25T12:12:20.851388",
     "status": "completed"
    },
    "tags": []
   },
   "outputs": [],
   "source": []
  },
  {
   "cell_type": "markdown",
   "id": "c4e9bcd5",
   "metadata": {
    "papermill": {
     "duration": 0.020132,
     "end_time": "2025-06-25T12:12:20.913044",
     "exception": false,
     "start_time": "2025-06-25T12:12:20.892912",
     "status": "completed"
    },
    "tags": []
   },
   "source": [
    "#### 94. Considering a 10x3 matrix, extract rows with unequal values (e.g. [2,2,3]) (★★★)"
   ]
  },
  {
   "cell_type": "code",
   "execution_count": null,
   "id": "c63272ac",
   "metadata": {
    "papermill": {
     "duration": 0.019912,
     "end_time": "2025-06-25T12:12:20.953089",
     "exception": false,
     "start_time": "2025-06-25T12:12:20.933177",
     "status": "completed"
    },
    "tags": []
   },
   "outputs": [],
   "source": []
  },
  {
   "cell_type": "markdown",
   "id": "f3f128c9",
   "metadata": {
    "papermill": {
     "duration": 0.019943,
     "end_time": "2025-06-25T12:12:20.993202",
     "exception": false,
     "start_time": "2025-06-25T12:12:20.973259",
     "status": "completed"
    },
    "tags": []
   },
   "source": [
    "#### 95. Convert a vector of ints into a matrix binary representation (★★★)"
   ]
  },
  {
   "cell_type": "code",
   "execution_count": null,
   "id": "02eddc99",
   "metadata": {
    "papermill": {
     "duration": 0.020027,
     "end_time": "2025-06-25T12:12:21.033641",
     "exception": false,
     "start_time": "2025-06-25T12:12:21.013614",
     "status": "completed"
    },
    "tags": []
   },
   "outputs": [],
   "source": []
  },
  {
   "cell_type": "markdown",
   "id": "097b6190",
   "metadata": {
    "papermill": {
     "duration": 0.020496,
     "end_time": "2025-06-25T12:12:21.074878",
     "exception": false,
     "start_time": "2025-06-25T12:12:21.054382",
     "status": "completed"
    },
    "tags": []
   },
   "source": [
    "#### 96. Given a two dimensional array, how to extract unique rows? (★★★)"
   ]
  },
  {
   "cell_type": "code",
   "execution_count": null,
   "id": "df9b20c3",
   "metadata": {
    "papermill": {
     "duration": 0.020193,
     "end_time": "2025-06-25T12:12:21.115704",
     "exception": false,
     "start_time": "2025-06-25T12:12:21.095511",
     "status": "completed"
    },
    "tags": []
   },
   "outputs": [],
   "source": []
  },
  {
   "cell_type": "markdown",
   "id": "4d9a83fb",
   "metadata": {
    "papermill": {
     "duration": 0.020195,
     "end_time": "2025-06-25T12:12:21.156132",
     "exception": false,
     "start_time": "2025-06-25T12:12:21.135937",
     "status": "completed"
    },
    "tags": []
   },
   "source": [
    "#### 97. Considering 2 vectors A & B, write the einsum equivalent of inner, outer, sum, and mul function (★★★)"
   ]
  },
  {
   "cell_type": "code",
   "execution_count": null,
   "id": "96451e92",
   "metadata": {
    "papermill": {
     "duration": 0.020026,
     "end_time": "2025-06-25T12:12:21.196355",
     "exception": false,
     "start_time": "2025-06-25T12:12:21.176329",
     "status": "completed"
    },
    "tags": []
   },
   "outputs": [],
   "source": []
  },
  {
   "cell_type": "markdown",
   "id": "3b611d44",
   "metadata": {
    "papermill": {
     "duration": 0.020077,
     "end_time": "2025-06-25T12:12:21.238175",
     "exception": false,
     "start_time": "2025-06-25T12:12:21.218098",
     "status": "completed"
    },
    "tags": []
   },
   "source": [
    "#### 98. Considering a path described by two vectors (X,Y), how to sample it using equidistant samples (★★★)?"
   ]
  },
  {
   "cell_type": "code",
   "execution_count": null,
   "id": "55557a41",
   "metadata": {
    "papermill": {
     "duration": 0.019953,
     "end_time": "2025-06-25T12:12:21.278252",
     "exception": false,
     "start_time": "2025-06-25T12:12:21.258299",
     "status": "completed"
    },
    "tags": []
   },
   "outputs": [],
   "source": []
  },
  {
   "cell_type": "markdown",
   "id": "ba1711b1",
   "metadata": {
    "papermill": {
     "duration": 0.020076,
     "end_time": "2025-06-25T12:12:21.318608",
     "exception": false,
     "start_time": "2025-06-25T12:12:21.298532",
     "status": "completed"
    },
    "tags": []
   },
   "source": [
    "#### 99. Given an integer n and a 2D array X, select from X the rows which can be interpreted as draws from a multinomial distribution with n degrees, i.e., the rows which only contain integers and which sum to n. (★★★)"
   ]
  },
  {
   "cell_type": "code",
   "execution_count": null,
   "id": "aa4e6ecc",
   "metadata": {
    "papermill": {
     "duration": 0.019928,
     "end_time": "2025-06-25T12:12:21.358904",
     "exception": false,
     "start_time": "2025-06-25T12:12:21.338976",
     "status": "completed"
    },
    "tags": []
   },
   "outputs": [],
   "source": []
  },
  {
   "cell_type": "markdown",
   "id": "49e37219",
   "metadata": {
    "papermill": {
     "duration": 0.020067,
     "end_time": "2025-06-25T12:12:21.399247",
     "exception": false,
     "start_time": "2025-06-25T12:12:21.379180",
     "status": "completed"
    },
    "tags": []
   },
   "source": [
    "#### 100. Compute bootstrapped 95% confidence intervals for the mean of a 1D array X (i.e., resample the elements of an array with replacement N times, compute the mean of each sample, and then compute percentiles over the means). (★★★)"
   ]
  },
  {
   "cell_type": "code",
   "execution_count": null,
   "id": "3178edb9",
   "metadata": {
    "papermill": {
     "duration": 0.020084,
     "end_time": "2025-06-25T12:12:21.440477",
     "exception": false,
     "start_time": "2025-06-25T12:12:21.420393",
     "status": "completed"
    },
    "tags": []
   },
   "outputs": [],
   "source": []
  }
 ],
 "metadata": {
  "kaggle": {
   "accelerator": "none",
   "dataSources": [],
   "dockerImageVersionId": 31040,
   "isGpuEnabled": false,
   "isInternetEnabled": true,
   "language": "python",
   "sourceType": "notebook"
  },
  "kernelspec": {
   "display_name": "Python 3",
   "language": "python",
   "name": "python3"
  },
  "language_info": {
   "codemirror_mode": {
    "name": "ipython",
    "version": 3
   },
   "file_extension": ".py",
   "mimetype": "text/x-python",
   "name": "python",
   "nbconvert_exporter": "python",
   "pygments_lexer": "ipython3",
   "version": "3.11.11"
  },
  "papermill": {
   "default_parameters": {},
   "duration": 13.221838,
   "end_time": "2025-06-25T12:12:21.881018",
   "environment_variables": {},
   "exception": null,
   "input_path": "__notebook__.ipynb",
   "output_path": "__notebook__.ipynb",
   "parameters": {},
   "start_time": "2025-06-25T12:12:08.659180",
   "version": "2.6.0"
  }
 },
 "nbformat": 4,
 "nbformat_minor": 5
}
