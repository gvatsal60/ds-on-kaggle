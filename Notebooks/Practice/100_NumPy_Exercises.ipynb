{
 "cells": [
  {
   "cell_type": "markdown",
   "id": "4c44cf4a",
   "metadata": {
    "papermill": {
     "duration": 0.02478,
     "end_time": "2025-06-25T14:12:29.437459",
     "exception": false,
     "start_time": "2025-06-25T14:12:29.412679",
     "status": "completed"
    },
    "tags": []
   },
   "source": [
    "# 🎯 100 NumPy Exercises\n",
    "\n",
    "Welcome to **100 NumPy Exercises** — a curated collection of problems designed to sharpen your skills in NumPy, whether you're a beginner or a seasoned data wrangler.\n",
    "\n",
    "---\n",
    "\n",
    "📌 **About This Collection**\n",
    "\n",
    "This set of exercises has been gathered from:\n",
    "- The **NumPy mailing list**\n",
    "- **Stack Overflow** discussions\n",
    "- The **official NumPy documentation**\n",
    "\n",
    "The primary goal is to serve as:\n",
    "- 📚 A quick reference for both new and experienced users  \n",
    "- 🎓 A practical toolkit for educators and learners\n",
    "\n",
    "---\n",
    "\n",
    "💬 **Suggestions or Corrections?**\n",
    "\n",
    "If you find an error or have a better solution, feel free to contribute!  \n",
    "➡️ Open an issue here: [numpy-100 GitHub Issues](https://github.com/rougier/numpy-100/issues)\n",
    "\n",
    "---\n",
    "\n",
    "📄 **Credits and Licensing**\n",
    "\n",
    "Includes code and ideas derived from work by [Nicolas P. Rougier](https://github.com/rougier), \n",
    "used in accordance with the terms of the original [license](https://github.com/rougier/numpy-100/blob/master/LICENSE.txt).\n",
    "\n",
    "---\n",
    "\n",
    "🧠 **Ready to dive in?**  \n",
    "Let’s explore the power of NumPy — one exercise at a time!\n"
   ]
  },
  {
   "cell_type": "markdown",
   "id": "db30ae01",
   "metadata": {
    "papermill": {
     "duration": 0.024138,
     "end_time": "2025-06-25T14:12:29.481921",
     "exception": false,
     "start_time": "2025-06-25T14:12:29.457783",
     "status": "completed"
    },
    "tags": []
   },
   "source": [
    "#### 1. Import the numpy package under the name `np` (★☆☆)"
   ]
  },
  {
   "cell_type": "code",
   "execution_count": 1,
   "id": "defed4f6",
   "metadata": {
    "execution": {
     "iopub.execute_input": "2025-06-25T14:12:29.528161Z",
     "iopub.status.busy": "2025-06-25T14:12:29.527821Z",
     "iopub.status.idle": "2025-06-25T14:12:29.535703Z",
     "shell.execute_reply": "2025-06-25T14:12:29.534729Z"
    },
    "papermill": {
     "duration": 0.032058,
     "end_time": "2025-06-25T14:12:29.537563",
     "exception": false,
     "start_time": "2025-06-25T14:12:29.505505",
     "status": "completed"
    },
    "tags": []
   },
   "outputs": [],
   "source": [
    "import numpy as np"
   ]
  },
  {
   "cell_type": "markdown",
   "id": "f7e5ad81",
   "metadata": {
    "papermill": {
     "duration": 0.020351,
     "end_time": "2025-06-25T14:12:29.581675",
     "exception": false,
     "start_time": "2025-06-25T14:12:29.561324",
     "status": "completed"
    },
    "tags": []
   },
   "source": [
    "#### 2. Print the numpy version and the configuration (★☆☆)"
   ]
  },
  {
   "cell_type": "code",
   "execution_count": 2,
   "id": "a84d1072",
   "metadata": {
    "execution": {
     "iopub.execute_input": "2025-06-25T14:12:29.692516Z",
     "iopub.status.busy": "2025-06-25T14:12:29.692219Z",
     "iopub.status.idle": "2025-06-25T14:12:29.698209Z",
     "shell.execute_reply": "2025-06-25T14:12:29.697244Z"
    },
    "papermill": {
     "duration": 0.029739,
     "end_time": "2025-06-25T14:12:29.699754",
     "exception": false,
     "start_time": "2025-06-25T14:12:29.670015",
     "status": "completed"
    },
    "tags": []
   },
   "outputs": [
    {
     "name": "stdout",
     "output_type": "stream",
     "text": [
      "★ NumPy Version: 1.26.4\n",
      "☆ NumPy Configuration:\n",
      "blas_armpl_info:\n",
      "  NOT AVAILABLE\n",
      "blas_mkl_info:\n",
      "    libraries = ['mkl_rt', 'pthread']\n",
      "    library_dirs = ['/home/sat_bot/base/conda-bld/numpy_and_dev_1715296241721/_h_env_placehold_placehold_placehold_placehold_placehold_placehold_placehold_placehold_placehold_placehold_placehold_placehold_placehold_placehold_placehold_placehold_placehold_placehold_placehold_p/lib']\n",
      "    define_macros = [('SCIPY_MKL_H', None), ('HAVE_CBLAS', None)]\n",
      "    include_dirs = ['/home/sat_bot/base/conda-bld/numpy_and_dev_1715296241721/_h_env_placehold_placehold_placehold_placehold_placehold_placehold_placehold_placehold_placehold_placehold_placehold_placehold_placehold_placehold_placehold_placehold_placehold_placehold_placehold_p/include']\n",
      "blas_opt_info:\n",
      "    libraries = ['mkl_rt', 'pthread']\n",
      "    library_dirs = ['/home/sat_bot/base/conda-bld/numpy_and_dev_1715296241721/_h_env_placehold_placehold_placehold_placehold_placehold_placehold_placehold_placehold_placehold_placehold_placehold_placehold_placehold_placehold_placehold_placehold_placehold_placehold_placehold_p/lib']\n",
      "    define_macros = [('SCIPY_MKL_H', None), ('HAVE_CBLAS', None)]\n",
      "    include_dirs = ['/home/sat_bot/base/conda-bld/numpy_and_dev_1715296241721/_h_env_placehold_placehold_placehold_placehold_placehold_placehold_placehold_placehold_placehold_placehold_placehold_placehold_placehold_placehold_placehold_placehold_placehold_placehold_placehold_p/include']\n",
      "lapack_armpl_info:\n",
      "  NOT AVAILABLE\n",
      "lapack_mkl_info:\n",
      "    libraries = ['mkl_rt', 'pthread']\n",
      "    library_dirs = ['/home/sat_bot/base/conda-bld/numpy_and_dev_1715296241721/_h_env_placehold_placehold_placehold_placehold_placehold_placehold_placehold_placehold_placehold_placehold_placehold_placehold_placehold_placehold_placehold_placehold_placehold_placehold_placehold_p/lib']\n",
      "    define_macros = [('SCIPY_MKL_H', None), ('HAVE_CBLAS', None)]\n",
      "    include_dirs = ['/home/sat_bot/base/conda-bld/numpy_and_dev_1715296241721/_h_env_placehold_placehold_placehold_placehold_placehold_placehold_placehold_placehold_placehold_placehold_placehold_placehold_placehold_placehold_placehold_placehold_placehold_placehold_placehold_p/include']\n",
      "lapack_opt_info:\n",
      "    libraries = ['mkl_rt', 'pthread']\n",
      "    library_dirs = ['/home/sat_bot/base/conda-bld/numpy_and_dev_1715296241721/_h_env_placehold_placehold_placehold_placehold_placehold_placehold_placehold_placehold_placehold_placehold_placehold_placehold_placehold_placehold_placehold_placehold_placehold_placehold_placehold_p/lib']\n",
      "    define_macros = [('SCIPY_MKL_H', None), ('HAVE_CBLAS', None)]\n",
      "    include_dirs = ['/home/sat_bot/base/conda-bld/numpy_and_dev_1715296241721/_h_env_placehold_placehold_placehold_placehold_placehold_placehold_placehold_placehold_placehold_placehold_placehold_placehold_placehold_placehold_placehold_placehold_placehold_placehold_placehold_p/include']\n",
      "Supported SIMD extensions in this NumPy install:\n",
      "    baseline = SSE,SSE2,SSE3\n",
      "    found = SSSE3,SSE41,POPCNT,SSE42,AVX,F16C,FMA3,AVX2\n",
      "    not found = AVX512F,AVX512CD,AVX512_KNL,AVX512_KNM,AVX512_SKX,AVX512_CLX,AVX512_CNL,AVX512_ICL,AVX512_SPR\n"
     ]
    }
   ],
   "source": [
    "print(\"★ NumPy Version:\", np.__version__)\n",
    "print(\"☆ NumPy Configuration:\")\n",
    "np.show_config()"
   ]
  },
  {
   "cell_type": "markdown",
   "id": "152f308b",
   "metadata": {
    "papermill": {
     "duration": 0.022554,
     "end_time": "2025-06-25T14:12:29.742905",
     "exception": false,
     "start_time": "2025-06-25T14:12:29.720351",
     "status": "completed"
    },
    "tags": []
   },
   "source": [
    "#### 3. Create a null vector of size 10 (★☆☆)"
   ]
  },
  {
   "cell_type": "code",
   "execution_count": 3,
   "id": "6709d069",
   "metadata": {
    "execution": {
     "iopub.execute_input": "2025-06-25T14:12:29.787431Z",
     "iopub.status.busy": "2025-06-25T14:12:29.787121Z",
     "iopub.status.idle": "2025-06-25T14:12:29.793989Z",
     "shell.execute_reply": "2025-06-25T14:12:29.793087Z"
    },
    "papermill": {
     "duration": 0.030253,
     "end_time": "2025-06-25T14:12:29.795529",
     "exception": false,
     "start_time": "2025-06-25T14:12:29.765276",
     "status": "completed"
    },
    "tags": []
   },
   "outputs": [
    {
     "data": {
      "text/plain": [
       "array([3.90335772e-315, 0.00000000e+000, 8.25691926e-296, 0.00000000e+000,\n",
       "       6.00816991e-273, 0.00000000e+000, 2.96637014e-320, 9.93111473e-263,\n",
       "       1.44932313e-311, 0.00000000e+000])"
      ]
     },
     "execution_count": 3,
     "metadata": {},
     "output_type": "execute_result"
    }
   ],
   "source": [
    "null_vec = np.empty(10)\n",
    "\n",
    "null_vec"
   ]
  },
  {
   "cell_type": "markdown",
   "id": "998bec6d",
   "metadata": {
    "papermill": {
     "duration": 0.02005,
     "end_time": "2025-06-25T14:12:29.836003",
     "exception": false,
     "start_time": "2025-06-25T14:12:29.815953",
     "status": "completed"
    },
    "tags": []
   },
   "source": [
    "#### 4. How to find the memory size of any array (★☆☆)"
   ]
  },
  {
   "cell_type": "code",
   "execution_count": 4,
   "id": "d7f78880",
   "metadata": {
    "execution": {
     "iopub.execute_input": "2025-06-25T14:12:29.878768Z",
     "iopub.status.busy": "2025-06-25T14:12:29.878375Z",
     "iopub.status.idle": "2025-06-25T14:12:29.883765Z",
     "shell.execute_reply": "2025-06-25T14:12:29.882787Z"
    },
    "papermill": {
     "duration": 0.02874,
     "end_time": "2025-06-25T14:12:29.885551",
     "exception": false,
     "start_time": "2025-06-25T14:12:29.856811",
     "status": "completed"
    },
    "tags": []
   },
   "outputs": [
    {
     "name": "stdout",
     "output_type": "stream",
     "text": [
      "Null Vector Size: 10\n",
      "Null Vector ItemSize: 8\n"
     ]
    }
   ],
   "source": [
    "print(\"Null Vector Size:\", null_vec.size)\n",
    "print(\"Null Vector ItemSize:\", null_vec.itemsize)"
   ]
  },
  {
   "cell_type": "markdown",
   "id": "58e7b120",
   "metadata": {
    "papermill": {
     "duration": 0.021151,
     "end_time": "2025-06-25T14:12:29.927477",
     "exception": false,
     "start_time": "2025-06-25T14:12:29.906326",
     "status": "completed"
    },
    "tags": []
   },
   "source": [
    "#### 5. How to get the documentation of the numpy add function from the command line? (★☆☆)"
   ]
  },
  {
   "cell_type": "code",
   "execution_count": 5,
   "id": "d70dd0bb",
   "metadata": {
    "execution": {
     "iopub.execute_input": "2025-06-25T14:12:29.970155Z",
     "iopub.status.busy": "2025-06-25T14:12:29.969805Z",
     "iopub.status.idle": "2025-06-25T14:12:29.974893Z",
     "shell.execute_reply": "2025-06-25T14:12:29.973931Z"
    },
    "papermill": {
     "duration": 0.028459,
     "end_time": "2025-06-25T14:12:29.976371",
     "exception": false,
     "start_time": "2025-06-25T14:12:29.947912",
     "status": "completed"
    },
    "tags": []
   },
   "outputs": [
    {
     "name": "stdout",
     "output_type": "stream",
     "text": [
      "add(x1, x2, /, out=None, *, where=True, casting='same_kind', order='K', dtype=None, subok=True[, signature, extobj])\n",
      "\n",
      "Add arguments element-wise.\n",
      "\n",
      "Parameters\n",
      "----------\n",
      "x1, x2 : array_like\n",
      "    The arrays to be added.\n",
      "    If ``x1.shape != x2.shape``, they must be broadcastable to a common\n",
      "    shape (which becomes the shape of the output).\n",
      "out : ndarray, None, or tuple of ndarray and None, optional\n",
      "    A location into which the result is stored. If provided, it must have\n",
      "    a shape that the inputs broadcast to. If not provided or None,\n",
      "    a freshly-allocated array is returned. A tuple (possible only as a\n",
      "    keyword argument) must have length equal to the number of outputs.\n",
      "where : array_like, optional\n",
      "    This condition is broadcast over the input. At locations where the\n",
      "    condition is True, the `out` array will be set to the ufunc result.\n",
      "    Elsewhere, the `out` array will retain its original value.\n",
      "    Note that if an uninitialized `out` array is created via the default\n",
      "    ``out=None``, locations within it where the condition is False will\n",
      "    remain uninitialized.\n",
      "**kwargs\n",
      "    For other keyword-only arguments, see the\n",
      "    :ref:`ufunc docs <ufuncs.kwargs>`.\n",
      "\n",
      "Returns\n",
      "-------\n",
      "add : ndarray or scalar\n",
      "    The sum of `x1` and `x2`, element-wise.\n",
      "    This is a scalar if both `x1` and `x2` are scalars.\n",
      "\n",
      "Notes\n",
      "-----\n",
      "Equivalent to `x1` + `x2` in terms of array broadcasting.\n",
      "\n",
      "Examples\n",
      "--------\n",
      ">>> np.add(1.0, 4.0)\n",
      "5.0\n",
      ">>> x1 = np.arange(9.0).reshape((3, 3))\n",
      ">>> x2 = np.arange(3.0)\n",
      ">>> np.add(x1, x2)\n",
      "array([[  0.,   2.,   4.],\n",
      "       [  3.,   5.,   7.],\n",
      "       [  6.,   8.,  10.]])\n",
      "\n",
      "The ``+`` operator can be used as a shorthand for ``np.add`` on ndarrays.\n",
      "\n",
      ">>> x1 = np.arange(9.0).reshape((3, 3))\n",
      ">>> x2 = np.arange(3.0)\n",
      ">>> x1 + x2\n",
      "array([[ 0.,  2.,  4.],\n",
      "       [ 3.,  5.,  7.],\n",
      "       [ 6.,  8., 10.]])\n"
     ]
    }
   ],
   "source": [
    "# np.add?\n",
    "# print(np.info('add'))\n",
    "print(np.add.__doc__)"
   ]
  },
  {
   "cell_type": "markdown",
   "id": "d038a6b6",
   "metadata": {
    "papermill": {
     "duration": 0.021941,
     "end_time": "2025-06-25T14:12:30.019807",
     "exception": false,
     "start_time": "2025-06-25T14:12:29.997866",
     "status": "completed"
    },
    "tags": []
   },
   "source": [
    "#### 6. Create a null vector of size 10 but the fifth value which is 1 (★☆☆)"
   ]
  },
  {
   "cell_type": "code",
   "execution_count": 6,
   "id": "d55aeb14",
   "metadata": {
    "execution": {
     "iopub.execute_input": "2025-06-25T14:12:30.065951Z",
     "iopub.status.busy": "2025-06-25T14:12:30.065596Z",
     "iopub.status.idle": "2025-06-25T14:12:30.072127Z",
     "shell.execute_reply": "2025-06-25T14:12:30.071120Z"
    },
    "papermill": {
     "duration": 0.0308,
     "end_time": "2025-06-25T14:12:30.073867",
     "exception": false,
     "start_time": "2025-06-25T14:12:30.043067",
     "status": "completed"
    },
    "tags": []
   },
   "outputs": [
    {
     "data": {
      "text/plain": [
       "array([3.90335772e-315, 0.00000000e+000, 8.25691926e-296, 0.00000000e+000,\n",
       "       1.00000000e+000, 0.00000000e+000, 2.96637014e-320, 9.93111473e-263,\n",
       "       1.44932313e-311, 0.00000000e+000])"
      ]
     },
     "execution_count": 6,
     "metadata": {},
     "output_type": "execute_result"
    }
   ],
   "source": [
    "f_null_vec = np.empty(10)\n",
    "f_null_vec[4] = 1\n",
    "\n",
    "f_null_vec"
   ]
  },
  {
   "cell_type": "markdown",
   "id": "45deb6cd",
   "metadata": {
    "papermill": {
     "duration": 0.022305,
     "end_time": "2025-06-25T14:12:30.117262",
     "exception": false,
     "start_time": "2025-06-25T14:12:30.094957",
     "status": "completed"
    },
    "tags": []
   },
   "source": [
    "#### 7. Create a vector with values ranging from 10 to 49 (★☆☆)"
   ]
  },
  {
   "cell_type": "code",
   "execution_count": 7,
   "id": "bd44548a",
   "metadata": {
    "execution": {
     "iopub.execute_input": "2025-06-25T14:12:30.159339Z",
     "iopub.status.busy": "2025-06-25T14:12:30.159044Z",
     "iopub.status.idle": "2025-06-25T14:12:30.166437Z",
     "shell.execute_reply": "2025-06-25T14:12:30.165341Z"
    },
    "papermill": {
     "duration": 0.030179,
     "end_time": "2025-06-25T14:12:30.167930",
     "exception": false,
     "start_time": "2025-06-25T14:12:30.137751",
     "status": "completed"
    },
    "tags": []
   },
   "outputs": [
    {
     "data": {
      "text/plain": [
       "array([10, 11, 12, 13, 14, 15, 16, 17, 18, 19, 20, 21, 22, 23, 24, 25, 26,\n",
       "       27, 28, 29, 30, 31, 32, 33, 34, 35, 36, 37, 38, 39, 40, 41, 42, 43,\n",
       "       44, 45, 46, 47, 48, 49])"
      ]
     },
     "execution_count": 7,
     "metadata": {},
     "output_type": "execute_result"
    }
   ],
   "source": [
    "vecr = np.arange(10, 50)\n",
    "\n",
    "vecr"
   ]
  },
  {
   "cell_type": "markdown",
   "id": "919f7a56",
   "metadata": {
    "papermill": {
     "duration": 0.020594,
     "end_time": "2025-06-25T14:12:30.209695",
     "exception": false,
     "start_time": "2025-06-25T14:12:30.189101",
     "status": "completed"
    },
    "tags": []
   },
   "source": [
    "#### 8. Reverse a vector (first element becomes last) (★☆☆)"
   ]
  },
  {
   "cell_type": "code",
   "execution_count": 8,
   "id": "2c62bcf0",
   "metadata": {
    "execution": {
     "iopub.execute_input": "2025-06-25T14:12:30.253116Z",
     "iopub.status.busy": "2025-06-25T14:12:30.252762Z",
     "iopub.status.idle": "2025-06-25T14:12:30.258369Z",
     "shell.execute_reply": "2025-06-25T14:12:30.257572Z"
    },
    "papermill": {
     "duration": 0.028402,
     "end_time": "2025-06-25T14:12:30.259796",
     "exception": false,
     "start_time": "2025-06-25T14:12:30.231394",
     "status": "completed"
    },
    "tags": []
   },
   "outputs": [
    {
     "data": {
      "text/plain": [
       "array([49, 48, 47, 46, 45, 44, 43, 42, 41, 40, 39, 38, 37, 36, 35, 34, 33,\n",
       "       32, 31, 30, 29, 28, 27, 26, 25, 24, 23, 22, 21, 20, 19, 18, 17, 16,\n",
       "       15, 14, 13, 12, 11, 10])"
      ]
     },
     "execution_count": 8,
     "metadata": {},
     "output_type": "execute_result"
    }
   ],
   "source": [
    "vecr[::-1]"
   ]
  },
  {
   "cell_type": "markdown",
   "id": "72c3b58d",
   "metadata": {
    "papermill": {
     "duration": 0.020693,
     "end_time": "2025-06-25T14:12:30.301397",
     "exception": false,
     "start_time": "2025-06-25T14:12:30.280704",
     "status": "completed"
    },
    "tags": []
   },
   "source": [
    "#### 9. Create a 3x3 matrix with values ranging from 0 to 8 (★☆☆)"
   ]
  },
  {
   "cell_type": "code",
   "execution_count": 9,
   "id": "c59e3858",
   "metadata": {
    "execution": {
     "iopub.execute_input": "2025-06-25T14:12:30.344890Z",
     "iopub.status.busy": "2025-06-25T14:12:30.344557Z",
     "iopub.status.idle": "2025-06-25T14:12:30.350560Z",
     "shell.execute_reply": "2025-06-25T14:12:30.349601Z"
    },
    "papermill": {
     "duration": 0.029281,
     "end_time": "2025-06-25T14:12:30.352225",
     "exception": false,
     "start_time": "2025-06-25T14:12:30.322944",
     "status": "completed"
    },
    "tags": []
   },
   "outputs": [
    {
     "data": {
      "text/plain": [
       "array([[0, 1, 2],\n",
       "       [3, 4, 5],\n",
       "       [6, 7, 8]])"
      ]
     },
     "execution_count": 9,
     "metadata": {},
     "output_type": "execute_result"
    }
   ],
   "source": [
    "m3 = np.arange(9).reshape((3, 3))\n",
    "\n",
    "m3"
   ]
  },
  {
   "cell_type": "markdown",
   "id": "dc03618d",
   "metadata": {
    "papermill": {
     "duration": 0.020904,
     "end_time": "2025-06-25T14:12:30.394569",
     "exception": false,
     "start_time": "2025-06-25T14:12:30.373665",
     "status": "completed"
    },
    "tags": []
   },
   "source": [
    "#### 10. Find indices of non-zero elements from [1,2,0,0,4,0] (★☆☆)"
   ]
  },
  {
   "cell_type": "code",
   "execution_count": 10,
   "id": "5902a692",
   "metadata": {
    "execution": {
     "iopub.execute_input": "2025-06-25T14:12:30.437821Z",
     "iopub.status.busy": "2025-06-25T14:12:30.437545Z",
     "iopub.status.idle": "2025-06-25T14:12:30.443762Z",
     "shell.execute_reply": "2025-06-25T14:12:30.442829Z"
    },
    "papermill": {
     "duration": 0.030011,
     "end_time": "2025-06-25T14:12:30.445266",
     "exception": false,
     "start_time": "2025-06-25T14:12:30.415255",
     "status": "completed"
    },
    "tags": []
   },
   "outputs": [
    {
     "data": {
      "text/plain": [
       "(array([0, 1, 4]),)"
      ]
     },
     "execution_count": 10,
     "metadata": {},
     "output_type": "execute_result"
    }
   ],
   "source": [
    "rawData = [1,2,0,0,4,0]\n",
    "\n",
    "np_arr = np.array(rawData)\n",
    "\n",
    "np_arr.nonzero()"
   ]
  },
  {
   "cell_type": "markdown",
   "id": "078ef4a6",
   "metadata": {
    "papermill": {
     "duration": 0.021725,
     "end_time": "2025-06-25T14:12:30.488808",
     "exception": false,
     "start_time": "2025-06-25T14:12:30.467083",
     "status": "completed"
    },
    "tags": []
   },
   "source": [
    "#### 11. Create a 3x3 identity matrix (★☆☆)"
   ]
  },
  {
   "cell_type": "code",
   "execution_count": 11,
   "id": "d9df1678",
   "metadata": {
    "execution": {
     "iopub.execute_input": "2025-06-25T14:12:30.536761Z",
     "iopub.status.busy": "2025-06-25T14:12:30.535704Z",
     "iopub.status.idle": "2025-06-25T14:12:30.542459Z",
     "shell.execute_reply": "2025-06-25T14:12:30.541614Z"
    },
    "papermill": {
     "duration": 0.032658,
     "end_time": "2025-06-25T14:12:30.544083",
     "exception": false,
     "start_time": "2025-06-25T14:12:30.511425",
     "status": "completed"
    },
    "tags": []
   },
   "outputs": [
    {
     "data": {
      "text/plain": [
       "array([[1., 0., 0.],\n",
       "       [0., 1., 0.],\n",
       "       [0., 0., 1.]])"
      ]
     },
     "execution_count": 11,
     "metadata": {},
     "output_type": "execute_result"
    }
   ],
   "source": [
    "i_matrix = np.eye(3, 3)\n",
    "\n",
    "i_matrix"
   ]
  },
  {
   "cell_type": "markdown",
   "id": "e9f9a859",
   "metadata": {
    "papermill": {
     "duration": 0.021032,
     "end_time": "2025-06-25T14:12:30.587316",
     "exception": false,
     "start_time": "2025-06-25T14:12:30.566284",
     "status": "completed"
    },
    "tags": []
   },
   "source": [
    "#### 12. Create a 3x3x3 array with random values (★☆☆)"
   ]
  },
  {
   "cell_type": "code",
   "execution_count": 12,
   "id": "b4bf9d4e",
   "metadata": {
    "execution": {
     "iopub.execute_input": "2025-06-25T14:12:30.630807Z",
     "iopub.status.busy": "2025-06-25T14:12:30.630485Z",
     "iopub.status.idle": "2025-06-25T14:12:30.637191Z",
     "shell.execute_reply": "2025-06-25T14:12:30.636346Z"
    },
    "papermill": {
     "duration": 0.029825,
     "end_time": "2025-06-25T14:12:30.638613",
     "exception": false,
     "start_time": "2025-06-25T14:12:30.608788",
     "status": "completed"
    },
    "tags": []
   },
   "outputs": [
    {
     "data": {
      "text/plain": [
       "array([[[0.11914364, 0.19490022, 0.55031323],\n",
       "        [0.54611346, 0.523658  , 0.11583676],\n",
       "        [0.8014432 , 0.68439205, 0.07276916]],\n",
       "\n",
       "       [[0.10319033, 0.89144923, 0.36698103],\n",
       "        [0.20575455, 0.69473254, 0.5512919 ],\n",
       "        [0.29537196, 0.83464292, 0.29592918]],\n",
       "\n",
       "       [[0.71981244, 0.68100556, 0.9929968 ],\n",
       "        [0.35450459, 0.80221334, 0.08757122],\n",
       "        [0.21775228, 0.05664504, 0.14162394]]])"
      ]
     },
     "execution_count": 12,
     "metadata": {},
     "output_type": "execute_result"
    }
   ],
   "source": [
    "rd_arr = np.random.rand(3, 3, 3)\n",
    "\n",
    "rd_arr"
   ]
  },
  {
   "cell_type": "markdown",
   "id": "4e9abdfc",
   "metadata": {
    "papermill": {
     "duration": 0.023266,
     "end_time": "2025-06-25T14:12:30.685835",
     "exception": false,
     "start_time": "2025-06-25T14:12:30.662569",
     "status": "completed"
    },
    "tags": []
   },
   "source": [
    "#### 13. Create a 10x10 array with random values and find the minimum and maximum values (★☆☆)"
   ]
  },
  {
   "cell_type": "code",
   "execution_count": 13,
   "id": "74eb4879",
   "metadata": {
    "execution": {
     "iopub.execute_input": "2025-06-25T14:12:30.732708Z",
     "iopub.status.busy": "2025-06-25T14:12:30.732256Z",
     "iopub.status.idle": "2025-06-25T14:12:30.738712Z",
     "shell.execute_reply": "2025-06-25T14:12:30.737572Z"
    },
    "papermill": {
     "duration": 0.031964,
     "end_time": "2025-06-25T14:12:30.740665",
     "exception": false,
     "start_time": "2025-06-25T14:12:30.708701",
     "status": "completed"
    },
    "tags": []
   },
   "outputs": [
    {
     "name": "stdout",
     "output_type": "stream",
     "text": [
      "Min Val: 0.002189840379104524\n",
      "Max Val: 0.9883524435679657\n"
     ]
    }
   ],
   "source": [
    "rdArr = np.random.rand(10, 10)\n",
    "\n",
    "rdArr\n",
    "\n",
    "print('Min Val:', rdArr.min())\n",
    "print('Max Val:', rdArr.max())"
   ]
  },
  {
   "cell_type": "markdown",
   "id": "8a9a8a87",
   "metadata": {
    "papermill": {
     "duration": 0.020957,
     "end_time": "2025-06-25T14:12:30.783217",
     "exception": false,
     "start_time": "2025-06-25T14:12:30.762260",
     "status": "completed"
    },
    "tags": []
   },
   "source": [
    "#### 14. Create a random vector of size 30 and find the mean value (★☆☆)"
   ]
  },
  {
   "cell_type": "code",
   "execution_count": null,
   "id": "8768c31d",
   "metadata": {
    "papermill": {
     "duration": 0.022516,
     "end_time": "2025-06-25T14:12:30.828750",
     "exception": false,
     "start_time": "2025-06-25T14:12:30.806234",
     "status": "completed"
    },
    "tags": []
   },
   "outputs": [],
   "source": []
  },
  {
   "cell_type": "markdown",
   "id": "cf7594aa",
   "metadata": {
    "papermill": {
     "duration": 0.023151,
     "end_time": "2025-06-25T14:12:30.874895",
     "exception": false,
     "start_time": "2025-06-25T14:12:30.851744",
     "status": "completed"
    },
    "tags": []
   },
   "source": [
    "#### 15. Create a 2d array with 1 on the border and 0 inside (★☆☆)"
   ]
  },
  {
   "cell_type": "code",
   "execution_count": null,
   "id": "d3f7bd6e",
   "metadata": {
    "papermill": {
     "duration": 0.023618,
     "end_time": "2025-06-25T14:12:30.923773",
     "exception": false,
     "start_time": "2025-06-25T14:12:30.900155",
     "status": "completed"
    },
    "tags": []
   },
   "outputs": [],
   "source": []
  },
  {
   "cell_type": "markdown",
   "id": "e0762954",
   "metadata": {
    "papermill": {
     "duration": 0.023086,
     "end_time": "2025-06-25T14:12:30.968537",
     "exception": false,
     "start_time": "2025-06-25T14:12:30.945451",
     "status": "completed"
    },
    "tags": []
   },
   "source": [
    "#### 16. How to add a border (filled with 0's) around an existing array? (★☆☆)"
   ]
  },
  {
   "cell_type": "code",
   "execution_count": null,
   "id": "b897c25b",
   "metadata": {
    "papermill": {
     "duration": 0.024429,
     "end_time": "2025-06-25T14:12:31.015136",
     "exception": false,
     "start_time": "2025-06-25T14:12:30.990707",
     "status": "completed"
    },
    "tags": []
   },
   "outputs": [],
   "source": []
  },
  {
   "cell_type": "markdown",
   "id": "6c90bb61",
   "metadata": {
    "papermill": {
     "duration": 0.02213,
     "end_time": "2025-06-25T14:12:31.058893",
     "exception": false,
     "start_time": "2025-06-25T14:12:31.036763",
     "status": "completed"
    },
    "tags": []
   },
   "source": [
    "#### 17. What is the result of the following expression? (★☆☆)\n",
    "```python\n",
    "0 * np.nan\n",
    "np.nan == np.nan\n",
    "np.inf > np.nan\n",
    "np.nan - np.nan\n",
    "np.nan in set([np.nan])\n",
    "0.3 == 3 * 0.1\n",
    "```"
   ]
  },
  {
   "cell_type": "code",
   "execution_count": null,
   "id": "a9f5d251",
   "metadata": {
    "papermill": {
     "duration": 0.021944,
     "end_time": "2025-06-25T14:12:31.101937",
     "exception": false,
     "start_time": "2025-06-25T14:12:31.079993",
     "status": "completed"
    },
    "tags": []
   },
   "outputs": [],
   "source": []
  },
  {
   "cell_type": "markdown",
   "id": "a14aba70",
   "metadata": {
    "papermill": {
     "duration": 0.020987,
     "end_time": "2025-06-25T14:12:31.146766",
     "exception": false,
     "start_time": "2025-06-25T14:12:31.125779",
     "status": "completed"
    },
    "tags": []
   },
   "source": [
    "#### 18. Create a 5x5 matrix with values 1,2,3,4 just below the diagonal (★☆☆)"
   ]
  },
  {
   "cell_type": "code",
   "execution_count": null,
   "id": "3c24fcce",
   "metadata": {
    "papermill": {
     "duration": 0.020904,
     "end_time": "2025-06-25T14:12:31.190405",
     "exception": false,
     "start_time": "2025-06-25T14:12:31.169501",
     "status": "completed"
    },
    "tags": []
   },
   "outputs": [],
   "source": []
  },
  {
   "cell_type": "markdown",
   "id": "e39b184a",
   "metadata": {
    "papermill": {
     "duration": 0.021181,
     "end_time": "2025-06-25T14:12:31.235699",
     "exception": false,
     "start_time": "2025-06-25T14:12:31.214518",
     "status": "completed"
    },
    "tags": []
   },
   "source": [
    "#### 19. Create a 8x8 matrix and fill it with a checkerboard pattern (★☆☆)"
   ]
  },
  {
   "cell_type": "code",
   "execution_count": null,
   "id": "662087dc",
   "metadata": {
    "papermill": {
     "duration": 0.022716,
     "end_time": "2025-06-25T14:12:31.281946",
     "exception": false,
     "start_time": "2025-06-25T14:12:31.259230",
     "status": "completed"
    },
    "tags": []
   },
   "outputs": [],
   "source": []
  },
  {
   "cell_type": "markdown",
   "id": "349b2c00",
   "metadata": {
    "papermill": {
     "duration": 0.021414,
     "end_time": "2025-06-25T14:12:31.324511",
     "exception": false,
     "start_time": "2025-06-25T14:12:31.303097",
     "status": "completed"
    },
    "tags": []
   },
   "source": [
    "#### 20. Consider a (6,7,8) shape array, what is the index (x,y,z) of the 100th element? (★☆☆)"
   ]
  },
  {
   "cell_type": "code",
   "execution_count": null,
   "id": "707775cb",
   "metadata": {
    "papermill": {
     "duration": 0.024935,
     "end_time": "2025-06-25T14:12:31.372674",
     "exception": false,
     "start_time": "2025-06-25T14:12:31.347739",
     "status": "completed"
    },
    "tags": []
   },
   "outputs": [],
   "source": []
  },
  {
   "cell_type": "markdown",
   "id": "c42bac62",
   "metadata": {
    "papermill": {
     "duration": 0.022528,
     "end_time": "2025-06-25T14:12:31.418558",
     "exception": false,
     "start_time": "2025-06-25T14:12:31.396030",
     "status": "completed"
    },
    "tags": []
   },
   "source": [
    "#### 21. Create a checkerboard 8x8 matrix using the tile function (★☆☆)"
   ]
  },
  {
   "cell_type": "code",
   "execution_count": null,
   "id": "9bf1b9e5",
   "metadata": {
    "papermill": {
     "duration": 0.022138,
     "end_time": "2025-06-25T14:12:31.462891",
     "exception": false,
     "start_time": "2025-06-25T14:12:31.440753",
     "status": "completed"
    },
    "tags": []
   },
   "outputs": [],
   "source": []
  },
  {
   "cell_type": "markdown",
   "id": "b01a546f",
   "metadata": {
    "papermill": {
     "duration": 0.021744,
     "end_time": "2025-06-25T14:12:31.507750",
     "exception": false,
     "start_time": "2025-06-25T14:12:31.486006",
     "status": "completed"
    },
    "tags": []
   },
   "source": [
    "#### 22. Normalize a 5x5 random matrix (★☆☆)"
   ]
  },
  {
   "cell_type": "code",
   "execution_count": null,
   "id": "ec38b6d2",
   "metadata": {
    "papermill": {
     "duration": 0.021829,
     "end_time": "2025-06-25T14:12:31.551275",
     "exception": false,
     "start_time": "2025-06-25T14:12:31.529446",
     "status": "completed"
    },
    "tags": []
   },
   "outputs": [],
   "source": []
  },
  {
   "cell_type": "markdown",
   "id": "e0545377",
   "metadata": {
    "papermill": {
     "duration": 0.022783,
     "end_time": "2025-06-25T14:12:31.596275",
     "exception": false,
     "start_time": "2025-06-25T14:12:31.573492",
     "status": "completed"
    },
    "tags": []
   },
   "source": [
    "#### 23. Create a custom dtype that describes a color as four unsigned bytes (RGBA) (★☆☆)"
   ]
  },
  {
   "cell_type": "code",
   "execution_count": null,
   "id": "4a82f8ac",
   "metadata": {
    "papermill": {
     "duration": 0.021499,
     "end_time": "2025-06-25T14:12:31.642116",
     "exception": false,
     "start_time": "2025-06-25T14:12:31.620617",
     "status": "completed"
    },
    "tags": []
   },
   "outputs": [],
   "source": []
  },
  {
   "cell_type": "markdown",
   "id": "0ee429ee",
   "metadata": {
    "papermill": {
     "duration": 0.022585,
     "end_time": "2025-06-25T14:12:31.688758",
     "exception": false,
     "start_time": "2025-06-25T14:12:31.666173",
     "status": "completed"
    },
    "tags": []
   },
   "source": [
    "#### 24. Multiply a 5x3 matrix by a 3x2 matrix (real matrix product) (★☆☆)"
   ]
  },
  {
   "cell_type": "code",
   "execution_count": null,
   "id": "7f22e95e",
   "metadata": {
    "papermill": {
     "duration": 0.021435,
     "end_time": "2025-06-25T14:12:31.732063",
     "exception": false,
     "start_time": "2025-06-25T14:12:31.710628",
     "status": "completed"
    },
    "tags": []
   },
   "outputs": [],
   "source": []
  },
  {
   "cell_type": "markdown",
   "id": "559952fa",
   "metadata": {
    "papermill": {
     "duration": 0.021704,
     "end_time": "2025-06-25T14:12:31.776477",
     "exception": false,
     "start_time": "2025-06-25T14:12:31.754773",
     "status": "completed"
    },
    "tags": []
   },
   "source": [
    "#### 25. Given a 1D array, negate all elements which are between 3 and 8, in place. (★☆☆)"
   ]
  },
  {
   "cell_type": "code",
   "execution_count": null,
   "id": "60da5429",
   "metadata": {
    "papermill": {
     "duration": 0.022186,
     "end_time": "2025-06-25T14:12:31.820643",
     "exception": false,
     "start_time": "2025-06-25T14:12:31.798457",
     "status": "completed"
    },
    "tags": []
   },
   "outputs": [],
   "source": []
  },
  {
   "cell_type": "markdown",
   "id": "723cc8bd",
   "metadata": {
    "papermill": {
     "duration": 0.02205,
     "end_time": "2025-06-25T14:12:31.864811",
     "exception": false,
     "start_time": "2025-06-25T14:12:31.842761",
     "status": "completed"
    },
    "tags": []
   },
   "source": [
    "#### 26. What is the output of the following script? (★☆☆)\n",
    "```python\n",
    "# Author: Jake VanderPlas\n",
    "\n",
    "print(sum(range(5),-1))\n",
    "from numpy import *\n",
    "print(sum(range(5),-1))\n",
    "```"
   ]
  },
  {
   "cell_type": "code",
   "execution_count": null,
   "id": "ba23d216",
   "metadata": {
    "papermill": {
     "duration": 0.021092,
     "end_time": "2025-06-25T14:12:31.907166",
     "exception": false,
     "start_time": "2025-06-25T14:12:31.886074",
     "status": "completed"
    },
    "tags": []
   },
   "outputs": [],
   "source": []
  },
  {
   "cell_type": "markdown",
   "id": "f02045cb",
   "metadata": {
    "papermill": {
     "duration": 0.021832,
     "end_time": "2025-06-25T14:12:31.950091",
     "exception": false,
     "start_time": "2025-06-25T14:12:31.928259",
     "status": "completed"
    },
    "tags": []
   },
   "source": [
    "#### 27. Consider an integer vector Z, which of these expressions are legal? (★☆☆)\n",
    "```python\n",
    "Z**Z\n",
    "2 << Z >> 2\n",
    "Z <- Z\n",
    "1j*Z\n",
    "Z/1/1\n",
    "Z<Z>Z\n",
    "```"
   ]
  },
  {
   "cell_type": "code",
   "execution_count": null,
   "id": "938f5106",
   "metadata": {
    "papermill": {
     "duration": 0.021896,
     "end_time": "2025-06-25T14:12:31.993062",
     "exception": false,
     "start_time": "2025-06-25T14:12:31.971166",
     "status": "completed"
    },
    "tags": []
   },
   "outputs": [],
   "source": []
  },
  {
   "cell_type": "markdown",
   "id": "e554264b",
   "metadata": {
    "papermill": {
     "duration": 0.020946,
     "end_time": "2025-06-25T14:12:32.035678",
     "exception": false,
     "start_time": "2025-06-25T14:12:32.014732",
     "status": "completed"
    },
    "tags": []
   },
   "source": [
    "#### 28. What are the result of the following expressions? (★☆☆)\n",
    "```python\n",
    "np.array(0) / np.array(0)\n",
    "np.array(0) // np.array(0)\n",
    "np.array([np.nan]).astype(int).astype(float)\n",
    "```"
   ]
  },
  {
   "cell_type": "code",
   "execution_count": null,
   "id": "287d8388",
   "metadata": {
    "papermill": {
     "duration": 0.031328,
     "end_time": "2025-06-25T14:12:32.088109",
     "exception": false,
     "start_time": "2025-06-25T14:12:32.056781",
     "status": "completed"
    },
    "tags": []
   },
   "outputs": [],
   "source": []
  },
  {
   "cell_type": "markdown",
   "id": "d5100a6b",
   "metadata": {
    "papermill": {
     "duration": 0.020943,
     "end_time": "2025-06-25T14:12:32.136134",
     "exception": false,
     "start_time": "2025-06-25T14:12:32.115191",
     "status": "completed"
    },
    "tags": []
   },
   "source": [
    "#### 29. How to round away from zero a float array ? (★☆☆)"
   ]
  },
  {
   "cell_type": "code",
   "execution_count": null,
   "id": "3134a1e4",
   "metadata": {
    "papermill": {
     "duration": 0.021356,
     "end_time": "2025-06-25T14:12:32.179454",
     "exception": false,
     "start_time": "2025-06-25T14:12:32.158098",
     "status": "completed"
    },
    "tags": []
   },
   "outputs": [],
   "source": []
  },
  {
   "cell_type": "markdown",
   "id": "bed6c33b",
   "metadata": {
    "papermill": {
     "duration": 0.022108,
     "end_time": "2025-06-25T14:12:32.223572",
     "exception": false,
     "start_time": "2025-06-25T14:12:32.201464",
     "status": "completed"
    },
    "tags": []
   },
   "source": [
    "#### 30. How to find common values between two arrays? (★☆☆)"
   ]
  },
  {
   "cell_type": "code",
   "execution_count": null,
   "id": "57cb5815",
   "metadata": {
    "papermill": {
     "duration": 0.020964,
     "end_time": "2025-06-25T14:12:32.266093",
     "exception": false,
     "start_time": "2025-06-25T14:12:32.245129",
     "status": "completed"
    },
    "tags": []
   },
   "outputs": [],
   "source": []
  },
  {
   "cell_type": "markdown",
   "id": "6f3fcb88",
   "metadata": {
    "papermill": {
     "duration": 0.020805,
     "end_time": "2025-06-25T14:12:32.307891",
     "exception": false,
     "start_time": "2025-06-25T14:12:32.287086",
     "status": "completed"
    },
    "tags": []
   },
   "source": [
    "#### 31. How to ignore all numpy warnings (not recommended)? (★☆☆)"
   ]
  },
  {
   "cell_type": "code",
   "execution_count": null,
   "id": "2a974cea",
   "metadata": {
    "papermill": {
     "duration": 0.021361,
     "end_time": "2025-06-25T14:12:32.350238",
     "exception": false,
     "start_time": "2025-06-25T14:12:32.328877",
     "status": "completed"
    },
    "tags": []
   },
   "outputs": [],
   "source": []
  },
  {
   "cell_type": "markdown",
   "id": "0d496a2f",
   "metadata": {
    "papermill": {
     "duration": 0.020761,
     "end_time": "2025-06-25T14:12:32.392023",
     "exception": false,
     "start_time": "2025-06-25T14:12:32.371262",
     "status": "completed"
    },
    "tags": []
   },
   "source": [
    "#### 32. Is the following expressions true? (★☆☆)\n",
    "```python\n",
    "np.sqrt(-1) == np.emath.sqrt(-1)\n",
    "```"
   ]
  },
  {
   "cell_type": "code",
   "execution_count": null,
   "id": "556bee5e",
   "metadata": {
    "papermill": {
     "duration": 0.021151,
     "end_time": "2025-06-25T14:12:32.434941",
     "exception": false,
     "start_time": "2025-06-25T14:12:32.413790",
     "status": "completed"
    },
    "tags": []
   },
   "outputs": [],
   "source": []
  },
  {
   "cell_type": "markdown",
   "id": "8514a9f7",
   "metadata": {
    "papermill": {
     "duration": 0.021314,
     "end_time": "2025-06-25T14:12:32.477533",
     "exception": false,
     "start_time": "2025-06-25T14:12:32.456219",
     "status": "completed"
    },
    "tags": []
   },
   "source": [
    "#### 33. How to get the dates of yesterday, today and tomorrow? (★☆☆)"
   ]
  },
  {
   "cell_type": "code",
   "execution_count": null,
   "id": "409d802e",
   "metadata": {
    "papermill": {
     "duration": 0.021197,
     "end_time": "2025-06-25T14:12:32.520334",
     "exception": false,
     "start_time": "2025-06-25T14:12:32.499137",
     "status": "completed"
    },
    "tags": []
   },
   "outputs": [],
   "source": []
  },
  {
   "cell_type": "markdown",
   "id": "78086a67",
   "metadata": {
    "papermill": {
     "duration": 0.021155,
     "end_time": "2025-06-25T14:12:32.562817",
     "exception": false,
     "start_time": "2025-06-25T14:12:32.541662",
     "status": "completed"
    },
    "tags": []
   },
   "source": [
    "#### 34. How to get all the dates corresponding to the month of July 2016? (★★☆)"
   ]
  },
  {
   "cell_type": "code",
   "execution_count": null,
   "id": "152afe85",
   "metadata": {
    "papermill": {
     "duration": 0.020875,
     "end_time": "2025-06-25T14:12:32.605413",
     "exception": false,
     "start_time": "2025-06-25T14:12:32.584538",
     "status": "completed"
    },
    "tags": []
   },
   "outputs": [],
   "source": []
  },
  {
   "cell_type": "markdown",
   "id": "39efaeb1",
   "metadata": {
    "papermill": {
     "duration": 0.021218,
     "end_time": "2025-06-25T14:12:32.648887",
     "exception": false,
     "start_time": "2025-06-25T14:12:32.627669",
     "status": "completed"
    },
    "tags": []
   },
   "source": [
    "#### 35. How to compute ((A+B)*(-A/2)) in place (without copy)? (★★☆)"
   ]
  },
  {
   "cell_type": "code",
   "execution_count": null,
   "id": "b2937ea1",
   "metadata": {
    "papermill": {
     "duration": 0.02227,
     "end_time": "2025-06-25T14:12:32.695769",
     "exception": false,
     "start_time": "2025-06-25T14:12:32.673499",
     "status": "completed"
    },
    "tags": []
   },
   "outputs": [],
   "source": []
  },
  {
   "cell_type": "markdown",
   "id": "c745963f",
   "metadata": {
    "papermill": {
     "duration": 0.02158,
     "end_time": "2025-06-25T14:12:32.739935",
     "exception": false,
     "start_time": "2025-06-25T14:12:32.718355",
     "status": "completed"
    },
    "tags": []
   },
   "source": [
    "#### 36. Extract the integer part of a random array of positive numbers using 4 different methods (★★☆)"
   ]
  },
  {
   "cell_type": "code",
   "execution_count": null,
   "id": "ae6c1e42",
   "metadata": {
    "papermill": {
     "duration": 0.020632,
     "end_time": "2025-06-25T14:12:32.781510",
     "exception": false,
     "start_time": "2025-06-25T14:12:32.760878",
     "status": "completed"
    },
    "tags": []
   },
   "outputs": [],
   "source": []
  },
  {
   "cell_type": "markdown",
   "id": "61f82daa",
   "metadata": {
    "papermill": {
     "duration": 0.020745,
     "end_time": "2025-06-25T14:12:32.823371",
     "exception": false,
     "start_time": "2025-06-25T14:12:32.802626",
     "status": "completed"
    },
    "tags": []
   },
   "source": [
    "#### 37. Create a 5x5 matrix with row values ranging from 0 to 4 (★★☆)"
   ]
  },
  {
   "cell_type": "code",
   "execution_count": null,
   "id": "79b3550d",
   "metadata": {
    "papermill": {
     "duration": 0.021856,
     "end_time": "2025-06-25T14:12:32.867338",
     "exception": false,
     "start_time": "2025-06-25T14:12:32.845482",
     "status": "completed"
    },
    "tags": []
   },
   "outputs": [],
   "source": []
  },
  {
   "cell_type": "markdown",
   "id": "0fd56f5c",
   "metadata": {
    "papermill": {
     "duration": 0.020706,
     "end_time": "2025-06-25T14:12:32.908919",
     "exception": false,
     "start_time": "2025-06-25T14:12:32.888213",
     "status": "completed"
    },
    "tags": []
   },
   "source": [
    "#### 38. Consider a generator function that generates 10 integers and use it to build an array (★☆☆)"
   ]
  },
  {
   "cell_type": "code",
   "execution_count": null,
   "id": "393ca11d",
   "metadata": {
    "papermill": {
     "duration": 0.020773,
     "end_time": "2025-06-25T14:12:32.952465",
     "exception": false,
     "start_time": "2025-06-25T14:12:32.931692",
     "status": "completed"
    },
    "tags": []
   },
   "outputs": [],
   "source": []
  },
  {
   "cell_type": "markdown",
   "id": "59d1e8dd",
   "metadata": {
    "papermill": {
     "duration": 0.020842,
     "end_time": "2025-06-25T14:12:32.994484",
     "exception": false,
     "start_time": "2025-06-25T14:12:32.973642",
     "status": "completed"
    },
    "tags": []
   },
   "source": [
    "#### 39. Create a vector of size 10 with values ranging from 0 to 1, both excluded (★★☆)"
   ]
  },
  {
   "cell_type": "code",
   "execution_count": null,
   "id": "0addedb2",
   "metadata": {
    "papermill": {
     "duration": 0.020798,
     "end_time": "2025-06-25T14:12:33.036168",
     "exception": false,
     "start_time": "2025-06-25T14:12:33.015370",
     "status": "completed"
    },
    "tags": []
   },
   "outputs": [],
   "source": []
  },
  {
   "cell_type": "markdown",
   "id": "d4b459cd",
   "metadata": {
    "papermill": {
     "duration": 0.020954,
     "end_time": "2025-06-25T14:12:33.079512",
     "exception": false,
     "start_time": "2025-06-25T14:12:33.058558",
     "status": "completed"
    },
    "tags": []
   },
   "source": [
    "#### 40. Create a random vector of size 10 and sort it (★★☆)"
   ]
  },
  {
   "cell_type": "code",
   "execution_count": null,
   "id": "b04a82e7",
   "metadata": {
    "papermill": {
     "duration": 0.02287,
     "end_time": "2025-06-25T14:12:33.123808",
     "exception": false,
     "start_time": "2025-06-25T14:12:33.100938",
     "status": "completed"
    },
    "tags": []
   },
   "outputs": [],
   "source": []
  },
  {
   "cell_type": "markdown",
   "id": "46ea901c",
   "metadata": {
    "papermill": {
     "duration": 0.020981,
     "end_time": "2025-06-25T14:12:33.166426",
     "exception": false,
     "start_time": "2025-06-25T14:12:33.145445",
     "status": "completed"
    },
    "tags": []
   },
   "source": [
    "#### 41. How to sum a small array faster than np.sum? (★★☆)"
   ]
  },
  {
   "cell_type": "code",
   "execution_count": null,
   "id": "dd2a6c7a",
   "metadata": {
    "papermill": {
     "duration": 0.021798,
     "end_time": "2025-06-25T14:12:33.210171",
     "exception": false,
     "start_time": "2025-06-25T14:12:33.188373",
     "status": "completed"
    },
    "tags": []
   },
   "outputs": [],
   "source": []
  },
  {
   "cell_type": "markdown",
   "id": "36216897",
   "metadata": {
    "papermill": {
     "duration": 0.022098,
     "end_time": "2025-06-25T14:12:33.255450",
     "exception": false,
     "start_time": "2025-06-25T14:12:33.233352",
     "status": "completed"
    },
    "tags": []
   },
   "source": [
    "#### 42. Consider two random arrays A and B, check if they are equal (★★☆)"
   ]
  },
  {
   "cell_type": "code",
   "execution_count": null,
   "id": "09e0d7a2",
   "metadata": {
    "papermill": {
     "duration": 0.021255,
     "end_time": "2025-06-25T14:12:33.298521",
     "exception": false,
     "start_time": "2025-06-25T14:12:33.277266",
     "status": "completed"
    },
    "tags": []
   },
   "outputs": [],
   "source": []
  },
  {
   "cell_type": "markdown",
   "id": "b3d5d363",
   "metadata": {
    "papermill": {
     "duration": 0.021583,
     "end_time": "2025-06-25T14:12:33.341686",
     "exception": false,
     "start_time": "2025-06-25T14:12:33.320103",
     "status": "completed"
    },
    "tags": []
   },
   "source": [
    "#### 43. Make an array immutable (read-only) (★★☆)"
   ]
  },
  {
   "cell_type": "code",
   "execution_count": null,
   "id": "f6224e5f",
   "metadata": {
    "papermill": {
     "duration": 0.022687,
     "end_time": "2025-06-25T14:12:33.385602",
     "exception": false,
     "start_time": "2025-06-25T14:12:33.362915",
     "status": "completed"
    },
    "tags": []
   },
   "outputs": [],
   "source": []
  },
  {
   "cell_type": "markdown",
   "id": "1548041d",
   "metadata": {
    "papermill": {
     "duration": 0.022049,
     "end_time": "2025-06-25T14:12:33.429396",
     "exception": false,
     "start_time": "2025-06-25T14:12:33.407347",
     "status": "completed"
    },
    "tags": []
   },
   "source": [
    "#### 44. Consider a random 10x2 matrix representing cartesian coordinates, convert them to polar coordinates (★★☆)"
   ]
  },
  {
   "cell_type": "code",
   "execution_count": null,
   "id": "604f43b0",
   "metadata": {
    "papermill": {
     "duration": 0.020765,
     "end_time": "2025-06-25T14:12:33.471903",
     "exception": false,
     "start_time": "2025-06-25T14:12:33.451138",
     "status": "completed"
    },
    "tags": []
   },
   "outputs": [],
   "source": []
  },
  {
   "cell_type": "markdown",
   "id": "cf5735c7",
   "metadata": {
    "papermill": {
     "duration": 0.020687,
     "end_time": "2025-06-25T14:12:33.513564",
     "exception": false,
     "start_time": "2025-06-25T14:12:33.492877",
     "status": "completed"
    },
    "tags": []
   },
   "source": [
    "#### 45. Create random vector of size 10 and replace the maximum value by 0 (★★☆)"
   ]
  },
  {
   "cell_type": "code",
   "execution_count": null,
   "id": "53a71adb",
   "metadata": {
    "papermill": {
     "duration": 0.020803,
     "end_time": "2025-06-25T14:12:33.556746",
     "exception": false,
     "start_time": "2025-06-25T14:12:33.535943",
     "status": "completed"
    },
    "tags": []
   },
   "outputs": [],
   "source": []
  },
  {
   "cell_type": "markdown",
   "id": "6a4b51b3",
   "metadata": {
    "papermill": {
     "duration": 0.021185,
     "end_time": "2025-06-25T14:12:33.599682",
     "exception": false,
     "start_time": "2025-06-25T14:12:33.578497",
     "status": "completed"
    },
    "tags": []
   },
   "source": [
    "#### 46. Create a structured array with `x` and `y` coordinates covering the [0,1]x[0,1] area (★★☆)"
   ]
  },
  {
   "cell_type": "code",
   "execution_count": null,
   "id": "ee6fd4e9",
   "metadata": {
    "papermill": {
     "duration": 0.021591,
     "end_time": "2025-06-25T14:12:33.706372",
     "exception": false,
     "start_time": "2025-06-25T14:12:33.684781",
     "status": "completed"
    },
    "tags": []
   },
   "outputs": [],
   "source": []
  },
  {
   "cell_type": "markdown",
   "id": "6641b9b8",
   "metadata": {
    "papermill": {
     "duration": 0.020786,
     "end_time": "2025-06-25T14:12:33.748212",
     "exception": false,
     "start_time": "2025-06-25T14:12:33.727426",
     "status": "completed"
    },
    "tags": []
   },
   "source": [
    "#### 47. Given two arrays, X and Y, construct the Cauchy matrix C (Cij =1/(xi - yj)) (★★☆)"
   ]
  },
  {
   "cell_type": "code",
   "execution_count": null,
   "id": "dc8689d4",
   "metadata": {
    "papermill": {
     "duration": 0.020788,
     "end_time": "2025-06-25T14:12:33.790094",
     "exception": false,
     "start_time": "2025-06-25T14:12:33.769306",
     "status": "completed"
    },
    "tags": []
   },
   "outputs": [],
   "source": []
  },
  {
   "cell_type": "markdown",
   "id": "9791da45",
   "metadata": {
    "papermill": {
     "duration": 0.020832,
     "end_time": "2025-06-25T14:12:33.831926",
     "exception": false,
     "start_time": "2025-06-25T14:12:33.811094",
     "status": "completed"
    },
    "tags": []
   },
   "source": [
    "#### 48. Print the minimum and maximum representable values for each numpy scalar type (★★☆)"
   ]
  },
  {
   "cell_type": "code",
   "execution_count": null,
   "id": "7cb428cb",
   "metadata": {
    "papermill": {
     "duration": 0.02073,
     "end_time": "2025-06-25T14:12:33.873988",
     "exception": false,
     "start_time": "2025-06-25T14:12:33.853258",
     "status": "completed"
    },
    "tags": []
   },
   "outputs": [],
   "source": []
  },
  {
   "cell_type": "markdown",
   "id": "36df9241",
   "metadata": {
    "papermill": {
     "duration": 0.020859,
     "end_time": "2025-06-25T14:12:33.916505",
     "exception": false,
     "start_time": "2025-06-25T14:12:33.895646",
     "status": "completed"
    },
    "tags": []
   },
   "source": [
    "#### 49. How to print all the values of an array? (★★☆)"
   ]
  },
  {
   "cell_type": "code",
   "execution_count": null,
   "id": "95c7a629",
   "metadata": {
    "papermill": {
     "duration": 0.020975,
     "end_time": "2025-06-25T14:12:33.958526",
     "exception": false,
     "start_time": "2025-06-25T14:12:33.937551",
     "status": "completed"
    },
    "tags": []
   },
   "outputs": [],
   "source": []
  },
  {
   "cell_type": "markdown",
   "id": "1052ed29",
   "metadata": {
    "papermill": {
     "duration": 0.021119,
     "end_time": "2025-06-25T14:12:34.000949",
     "exception": false,
     "start_time": "2025-06-25T14:12:33.979830",
     "status": "completed"
    },
    "tags": []
   },
   "source": [
    "#### 50. How to find the closest value (to a given scalar) in a vector? (★★☆)"
   ]
  },
  {
   "cell_type": "code",
   "execution_count": null,
   "id": "a3a88aa5",
   "metadata": {
    "papermill": {
     "duration": 0.022591,
     "end_time": "2025-06-25T14:12:34.045337",
     "exception": false,
     "start_time": "2025-06-25T14:12:34.022746",
     "status": "completed"
    },
    "tags": []
   },
   "outputs": [],
   "source": []
  },
  {
   "cell_type": "markdown",
   "id": "9a25e6cf",
   "metadata": {
    "papermill": {
     "duration": 0.021275,
     "end_time": "2025-06-25T14:12:34.087803",
     "exception": false,
     "start_time": "2025-06-25T14:12:34.066528",
     "status": "completed"
    },
    "tags": []
   },
   "source": [
    "#### 51. Create a structured array representing a position (x,y) and a color (r,g,b) (★★☆)"
   ]
  },
  {
   "cell_type": "code",
   "execution_count": null,
   "id": "b257ef40",
   "metadata": {
    "papermill": {
     "duration": 0.021304,
     "end_time": "2025-06-25T14:12:34.130674",
     "exception": false,
     "start_time": "2025-06-25T14:12:34.109370",
     "status": "completed"
    },
    "tags": []
   },
   "outputs": [],
   "source": []
  },
  {
   "cell_type": "markdown",
   "id": "2022e1ca",
   "metadata": {
    "papermill": {
     "duration": 0.0213,
     "end_time": "2025-06-25T14:12:34.173912",
     "exception": false,
     "start_time": "2025-06-25T14:12:34.152612",
     "status": "completed"
    },
    "tags": []
   },
   "source": [
    "#### 52. Consider a random vector with shape (100,2) representing coordinates, find point by point distances (★★☆)"
   ]
  },
  {
   "cell_type": "code",
   "execution_count": null,
   "id": "1a7ca633",
   "metadata": {
    "papermill": {
     "duration": 0.020902,
     "end_time": "2025-06-25T14:12:34.217433",
     "exception": false,
     "start_time": "2025-06-25T14:12:34.196531",
     "status": "completed"
    },
    "tags": []
   },
   "outputs": [],
   "source": []
  },
  {
   "cell_type": "markdown",
   "id": "4d5b2f1b",
   "metadata": {
    "papermill": {
     "duration": 0.020703,
     "end_time": "2025-06-25T14:12:34.259800",
     "exception": false,
     "start_time": "2025-06-25T14:12:34.239097",
     "status": "completed"
    },
    "tags": []
   },
   "source": [
    "#### 53. How to convert a float (32 bits) array into an integer (32 bits) array in place?"
   ]
  },
  {
   "cell_type": "code",
   "execution_count": null,
   "id": "c19d1869",
   "metadata": {
    "papermill": {
     "duration": 0.021826,
     "end_time": "2025-06-25T14:12:34.303759",
     "exception": false,
     "start_time": "2025-06-25T14:12:34.281933",
     "status": "completed"
    },
    "tags": []
   },
   "outputs": [],
   "source": []
  },
  {
   "cell_type": "markdown",
   "id": "305bc2fd",
   "metadata": {
    "papermill": {
     "duration": 0.020789,
     "end_time": "2025-06-25T14:12:34.345491",
     "exception": false,
     "start_time": "2025-06-25T14:12:34.324702",
     "status": "completed"
    },
    "tags": []
   },
   "source": [
    "#### 54. How to read the following file? (★★☆)\n",
    "```\n",
    "1, 2, 3, 4, 5\n",
    "6,  ,  , 7, 8\n",
    " ,  , 9,10,11\n",
    "```"
   ]
  },
  {
   "cell_type": "code",
   "execution_count": null,
   "id": "8ce322b5",
   "metadata": {
    "papermill": {
     "duration": 0.020766,
     "end_time": "2025-06-25T14:12:34.387294",
     "exception": false,
     "start_time": "2025-06-25T14:12:34.366528",
     "status": "completed"
    },
    "tags": []
   },
   "outputs": [],
   "source": []
  },
  {
   "cell_type": "markdown",
   "id": "dbff02d0",
   "metadata": {
    "papermill": {
     "duration": 0.020808,
     "end_time": "2025-06-25T14:12:34.430754",
     "exception": false,
     "start_time": "2025-06-25T14:12:34.409946",
     "status": "completed"
    },
    "tags": []
   },
   "source": [
    "#### 55. What is the equivalent of enumerate for numpy arrays? (★★☆)"
   ]
  },
  {
   "cell_type": "code",
   "execution_count": null,
   "id": "94a58743",
   "metadata": {
    "papermill": {
     "duration": 0.022315,
     "end_time": "2025-06-25T14:12:34.474404",
     "exception": false,
     "start_time": "2025-06-25T14:12:34.452089",
     "status": "completed"
    },
    "tags": []
   },
   "outputs": [],
   "source": []
  },
  {
   "cell_type": "markdown",
   "id": "2d2a8064",
   "metadata": {
    "papermill": {
     "duration": 0.022714,
     "end_time": "2025-06-25T14:12:34.520150",
     "exception": false,
     "start_time": "2025-06-25T14:12:34.497436",
     "status": "completed"
    },
    "tags": []
   },
   "source": [
    "#### 56. Generate a generic 2D Gaussian-like array (★★☆)"
   ]
  },
  {
   "cell_type": "code",
   "execution_count": null,
   "id": "71afca92",
   "metadata": {
    "papermill": {
     "duration": 0.020789,
     "end_time": "2025-06-25T14:12:34.562052",
     "exception": false,
     "start_time": "2025-06-25T14:12:34.541263",
     "status": "completed"
    },
    "tags": []
   },
   "outputs": [],
   "source": []
  },
  {
   "cell_type": "markdown",
   "id": "990f17a3",
   "metadata": {
    "papermill": {
     "duration": 0.021723,
     "end_time": "2025-06-25T14:12:34.605735",
     "exception": false,
     "start_time": "2025-06-25T14:12:34.584012",
     "status": "completed"
    },
    "tags": []
   },
   "source": [
    "#### 57. How to randomly place p elements in a 2D array? (★★☆)"
   ]
  },
  {
   "cell_type": "code",
   "execution_count": null,
   "id": "253fbbc7",
   "metadata": {
    "papermill": {
     "duration": 0.02189,
     "end_time": "2025-06-25T14:12:34.649989",
     "exception": false,
     "start_time": "2025-06-25T14:12:34.628099",
     "status": "completed"
    },
    "tags": []
   },
   "outputs": [],
   "source": []
  },
  {
   "cell_type": "markdown",
   "id": "97147d7e",
   "metadata": {
    "papermill": {
     "duration": 0.022068,
     "end_time": "2025-06-25T14:12:34.696804",
     "exception": false,
     "start_time": "2025-06-25T14:12:34.674736",
     "status": "completed"
    },
    "tags": []
   },
   "source": [
    "#### 58. Subtract the mean of each row of a matrix (★★☆)"
   ]
  },
  {
   "cell_type": "code",
   "execution_count": null,
   "id": "07f7d3dc",
   "metadata": {
    "papermill": {
     "duration": 0.023485,
     "end_time": "2025-06-25T14:12:34.744181",
     "exception": false,
     "start_time": "2025-06-25T14:12:34.720696",
     "status": "completed"
    },
    "tags": []
   },
   "outputs": [],
   "source": []
  },
  {
   "cell_type": "markdown",
   "id": "a0d4cb56",
   "metadata": {
    "papermill": {
     "duration": 0.023263,
     "end_time": "2025-06-25T14:12:34.791790",
     "exception": false,
     "start_time": "2025-06-25T14:12:34.768527",
     "status": "completed"
    },
    "tags": []
   },
   "source": [
    "#### 59. How to sort an array by the nth column? (★★☆)"
   ]
  },
  {
   "cell_type": "code",
   "execution_count": null,
   "id": "44a63242",
   "metadata": {
    "papermill": {
     "duration": 0.023563,
     "end_time": "2025-06-25T14:12:34.836929",
     "exception": false,
     "start_time": "2025-06-25T14:12:34.813366",
     "status": "completed"
    },
    "tags": []
   },
   "outputs": [],
   "source": []
  },
  {
   "cell_type": "markdown",
   "id": "2baceb46",
   "metadata": {
    "papermill": {
     "duration": 0.026434,
     "end_time": "2025-06-25T14:12:34.889833",
     "exception": false,
     "start_time": "2025-06-25T14:12:34.863399",
     "status": "completed"
    },
    "tags": []
   },
   "source": [
    "#### 60. How to tell if a given 2D array has null columns? (★★☆)"
   ]
  },
  {
   "cell_type": "code",
   "execution_count": null,
   "id": "ac5b452d",
   "metadata": {
    "papermill": {
     "duration": 0.022714,
     "end_time": "2025-06-25T14:12:34.935475",
     "exception": false,
     "start_time": "2025-06-25T14:12:34.912761",
     "status": "completed"
    },
    "tags": []
   },
   "outputs": [],
   "source": []
  },
  {
   "cell_type": "markdown",
   "id": "36703635",
   "metadata": {
    "papermill": {
     "duration": 0.02258,
     "end_time": "2025-06-25T14:12:34.982169",
     "exception": false,
     "start_time": "2025-06-25T14:12:34.959589",
     "status": "completed"
    },
    "tags": []
   },
   "source": [
    "#### 61. Find the nearest value from a given value in an array (★★☆)"
   ]
  },
  {
   "cell_type": "code",
   "execution_count": null,
   "id": "86cadb01",
   "metadata": {
    "papermill": {
     "duration": 0.023589,
     "end_time": "2025-06-25T14:12:35.029826",
     "exception": false,
     "start_time": "2025-06-25T14:12:35.006237",
     "status": "completed"
    },
    "tags": []
   },
   "outputs": [],
   "source": []
  },
  {
   "cell_type": "markdown",
   "id": "06f153b0",
   "metadata": {
    "papermill": {
     "duration": 0.021035,
     "end_time": "2025-06-25T14:12:35.073003",
     "exception": false,
     "start_time": "2025-06-25T14:12:35.051968",
     "status": "completed"
    },
    "tags": []
   },
   "source": [
    "#### 62. Considering two arrays with shape (1,3) and (3,1), how to compute their sum using an iterator? (★★☆)"
   ]
  },
  {
   "cell_type": "code",
   "execution_count": null,
   "id": "cee1aa75",
   "metadata": {
    "papermill": {
     "duration": 0.021119,
     "end_time": "2025-06-25T14:12:35.115413",
     "exception": false,
     "start_time": "2025-06-25T14:12:35.094294",
     "status": "completed"
    },
    "tags": []
   },
   "outputs": [],
   "source": []
  },
  {
   "cell_type": "markdown",
   "id": "7ecb8122",
   "metadata": {
    "papermill": {
     "duration": 0.02154,
     "end_time": "2025-06-25T14:12:35.158889",
     "exception": false,
     "start_time": "2025-06-25T14:12:35.137349",
     "status": "completed"
    },
    "tags": []
   },
   "source": [
    "#### 63. Create an array class that has a name attribute (★★☆)"
   ]
  },
  {
   "cell_type": "code",
   "execution_count": null,
   "id": "b65b45f1",
   "metadata": {
    "papermill": {
     "duration": 0.022021,
     "end_time": "2025-06-25T14:12:35.204615",
     "exception": false,
     "start_time": "2025-06-25T14:12:35.182594",
     "status": "completed"
    },
    "tags": []
   },
   "outputs": [],
   "source": []
  },
  {
   "cell_type": "markdown",
   "id": "2be42925",
   "metadata": {
    "papermill": {
     "duration": 0.023936,
     "end_time": "2025-06-25T14:12:35.252106",
     "exception": false,
     "start_time": "2025-06-25T14:12:35.228170",
     "status": "completed"
    },
    "tags": []
   },
   "source": [
    "#### 64. Consider a given vector, how to add 1 to each element indexed by a second vector (be careful with repeated indices)? (★★★)"
   ]
  },
  {
   "cell_type": "code",
   "execution_count": null,
   "id": "08ff9c29",
   "metadata": {
    "papermill": {
     "duration": 0.021345,
     "end_time": "2025-06-25T14:12:35.296744",
     "exception": false,
     "start_time": "2025-06-25T14:12:35.275399",
     "status": "completed"
    },
    "tags": []
   },
   "outputs": [],
   "source": []
  },
  {
   "cell_type": "markdown",
   "id": "f9a6e0d4",
   "metadata": {
    "papermill": {
     "duration": 0.021353,
     "end_time": "2025-06-25T14:12:35.339561",
     "exception": false,
     "start_time": "2025-06-25T14:12:35.318208",
     "status": "completed"
    },
    "tags": []
   },
   "source": [
    "#### 65. How to accumulate elements of a vector (X) to an array (F) based on an index list (I)? (★★★)"
   ]
  },
  {
   "cell_type": "code",
   "execution_count": null,
   "id": "6ff3ddc0",
   "metadata": {
    "papermill": {
     "duration": 0.020875,
     "end_time": "2025-06-25T14:12:35.382180",
     "exception": false,
     "start_time": "2025-06-25T14:12:35.361305",
     "status": "completed"
    },
    "tags": []
   },
   "outputs": [],
   "source": []
  },
  {
   "cell_type": "markdown",
   "id": "86796505",
   "metadata": {
    "papermill": {
     "duration": 0.021418,
     "end_time": "2025-06-25T14:12:35.425288",
     "exception": false,
     "start_time": "2025-06-25T14:12:35.403870",
     "status": "completed"
    },
    "tags": []
   },
   "source": [
    "#### 66. Considering a (w,h,3) image of (dtype=ubyte), compute the number of unique colors (★★☆)"
   ]
  },
  {
   "cell_type": "code",
   "execution_count": null,
   "id": "de9f38fa",
   "metadata": {
    "papermill": {
     "duration": 0.020807,
     "end_time": "2025-06-25T14:12:35.467742",
     "exception": false,
     "start_time": "2025-06-25T14:12:35.446935",
     "status": "completed"
    },
    "tags": []
   },
   "outputs": [],
   "source": []
  },
  {
   "cell_type": "markdown",
   "id": "e5e4b092",
   "metadata": {
    "papermill": {
     "duration": 0.022719,
     "end_time": "2025-06-25T14:12:35.514284",
     "exception": false,
     "start_time": "2025-06-25T14:12:35.491565",
     "status": "completed"
    },
    "tags": []
   },
   "source": [
    "#### 67. Considering a four dimensions array, how to get sum over the last two axis at once? (★★★)"
   ]
  },
  {
   "cell_type": "code",
   "execution_count": null,
   "id": "f8561614",
   "metadata": {
    "papermill": {
     "duration": 0.023002,
     "end_time": "2025-06-25T14:12:35.562945",
     "exception": false,
     "start_time": "2025-06-25T14:12:35.539943",
     "status": "completed"
    },
    "tags": []
   },
   "outputs": [],
   "source": []
  },
  {
   "cell_type": "markdown",
   "id": "2d9f6d02",
   "metadata": {
    "papermill": {
     "duration": 0.024395,
     "end_time": "2025-06-25T14:12:35.610115",
     "exception": false,
     "start_time": "2025-06-25T14:12:35.585720",
     "status": "completed"
    },
    "tags": []
   },
   "source": [
    "#### 68. Considering a one-dimensional vector D, how to compute means of subsets of D using a vector S of same size describing subset  indices? (★★★)"
   ]
  },
  {
   "cell_type": "code",
   "execution_count": null,
   "id": "f434b852",
   "metadata": {
    "papermill": {
     "duration": 0.022437,
     "end_time": "2025-06-25T14:12:35.653999",
     "exception": false,
     "start_time": "2025-06-25T14:12:35.631562",
     "status": "completed"
    },
    "tags": []
   },
   "outputs": [],
   "source": []
  },
  {
   "cell_type": "markdown",
   "id": "0c2d5631",
   "metadata": {
    "papermill": {
     "duration": 0.021249,
     "end_time": "2025-06-25T14:12:35.699355",
     "exception": false,
     "start_time": "2025-06-25T14:12:35.678106",
     "status": "completed"
    },
    "tags": []
   },
   "source": [
    "#### 69. How to get the diagonal of a dot product? (★★★)"
   ]
  },
  {
   "cell_type": "code",
   "execution_count": null,
   "id": "5e99c7fe",
   "metadata": {
    "papermill": {
     "duration": 0.022588,
     "end_time": "2025-06-25T14:12:35.744738",
     "exception": false,
     "start_time": "2025-06-25T14:12:35.722150",
     "status": "completed"
    },
    "tags": []
   },
   "outputs": [],
   "source": []
  },
  {
   "cell_type": "markdown",
   "id": "e782589a",
   "metadata": {
    "papermill": {
     "duration": 0.022454,
     "end_time": "2025-06-25T14:12:35.789811",
     "exception": false,
     "start_time": "2025-06-25T14:12:35.767357",
     "status": "completed"
    },
    "tags": []
   },
   "source": [
    "#### 70. Consider the vector [1, 2, 3, 4, 5], how to build a new vector with 3 consecutive zeros interleaved between each value? (★★★)"
   ]
  },
  {
   "cell_type": "code",
   "execution_count": null,
   "id": "4c35c1cf",
   "metadata": {
    "papermill": {
     "duration": 0.022031,
     "end_time": "2025-06-25T14:12:35.835112",
     "exception": false,
     "start_time": "2025-06-25T14:12:35.813081",
     "status": "completed"
    },
    "tags": []
   },
   "outputs": [],
   "source": []
  },
  {
   "cell_type": "markdown",
   "id": "76de82f4",
   "metadata": {
    "papermill": {
     "duration": 0.021777,
     "end_time": "2025-06-25T14:12:35.878473",
     "exception": false,
     "start_time": "2025-06-25T14:12:35.856696",
     "status": "completed"
    },
    "tags": []
   },
   "source": [
    "#### 71. Consider an array of dimension (5,5,3), how to multiply it by an array with dimensions (5,5)? (★★★)"
   ]
  },
  {
   "cell_type": "code",
   "execution_count": null,
   "id": "796e1537",
   "metadata": {
    "papermill": {
     "duration": 0.022146,
     "end_time": "2025-06-25T14:12:35.923507",
     "exception": false,
     "start_time": "2025-06-25T14:12:35.901361",
     "status": "completed"
    },
    "tags": []
   },
   "outputs": [],
   "source": []
  },
  {
   "cell_type": "markdown",
   "id": "f880802b",
   "metadata": {
    "papermill": {
     "duration": 0.024052,
     "end_time": "2025-06-25T14:12:35.970172",
     "exception": false,
     "start_time": "2025-06-25T14:12:35.946120",
     "status": "completed"
    },
    "tags": []
   },
   "source": [
    "#### 72. How to swap two rows of an array? (★★★)"
   ]
  },
  {
   "cell_type": "code",
   "execution_count": null,
   "id": "cd0a6913",
   "metadata": {
    "papermill": {
     "duration": 0.025018,
     "end_time": "2025-06-25T14:12:36.018231",
     "exception": false,
     "start_time": "2025-06-25T14:12:35.993213",
     "status": "completed"
    },
    "tags": []
   },
   "outputs": [],
   "source": []
  },
  {
   "cell_type": "markdown",
   "id": "b1e6ff8f",
   "metadata": {
    "papermill": {
     "duration": 0.023715,
     "end_time": "2025-06-25T14:12:36.064584",
     "exception": false,
     "start_time": "2025-06-25T14:12:36.040869",
     "status": "completed"
    },
    "tags": []
   },
   "source": [
    "#### 73. Consider a set of 10 triplets describing 10 triangles (with shared vertices), find the set of unique line segments composing all the  triangles (★★★)"
   ]
  },
  {
   "cell_type": "code",
   "execution_count": null,
   "id": "2c2ca88e",
   "metadata": {
    "papermill": {
     "duration": 0.024858,
     "end_time": "2025-06-25T14:12:36.113548",
     "exception": false,
     "start_time": "2025-06-25T14:12:36.088690",
     "status": "completed"
    },
    "tags": []
   },
   "outputs": [],
   "source": []
  },
  {
   "cell_type": "markdown",
   "id": "c3c70194",
   "metadata": {
    "papermill": {
     "duration": 0.021648,
     "end_time": "2025-06-25T14:12:36.158784",
     "exception": false,
     "start_time": "2025-06-25T14:12:36.137136",
     "status": "completed"
    },
    "tags": []
   },
   "source": [
    "#### 74. Given a sorted array C that corresponds to a bincount, how to produce an array A such that np.bincount(A) == C? (★★★)"
   ]
  },
  {
   "cell_type": "code",
   "execution_count": null,
   "id": "468ba19c",
   "metadata": {
    "papermill": {
     "duration": 0.022241,
     "end_time": "2025-06-25T14:12:36.203176",
     "exception": false,
     "start_time": "2025-06-25T14:12:36.180935",
     "status": "completed"
    },
    "tags": []
   },
   "outputs": [],
   "source": []
  },
  {
   "cell_type": "markdown",
   "id": "03149ba0",
   "metadata": {
    "papermill": {
     "duration": 0.023139,
     "end_time": "2025-06-25T14:12:36.249377",
     "exception": false,
     "start_time": "2025-06-25T14:12:36.226238",
     "status": "completed"
    },
    "tags": []
   },
   "source": [
    "#### 75. How to compute averages using a sliding window over an array? (★★★)"
   ]
  },
  {
   "cell_type": "code",
   "execution_count": null,
   "id": "d3928079",
   "metadata": {
    "papermill": {
     "duration": 0.021695,
     "end_time": "2025-06-25T14:12:36.292602",
     "exception": false,
     "start_time": "2025-06-25T14:12:36.270907",
     "status": "completed"
    },
    "tags": []
   },
   "outputs": [],
   "source": []
  },
  {
   "cell_type": "markdown",
   "id": "24bb3a66",
   "metadata": {
    "papermill": {
     "duration": 0.02198,
     "end_time": "2025-06-25T14:12:36.335793",
     "exception": false,
     "start_time": "2025-06-25T14:12:36.313813",
     "status": "completed"
    },
    "tags": []
   },
   "source": [
    "#### 76. Consider a one-dimensional array Z, build a two-dimensional array whose first row is (Z[0],Z[1],Z[2]) and each subsequent row is  shifted by 1 (last row should be (Z[-3],Z[-2],Z[-1]) (★★★)"
   ]
  },
  {
   "cell_type": "code",
   "execution_count": null,
   "id": "d0e69b73",
   "metadata": {
    "papermill": {
     "duration": 0.021077,
     "end_time": "2025-06-25T14:12:36.379026",
     "exception": false,
     "start_time": "2025-06-25T14:12:36.357949",
     "status": "completed"
    },
    "tags": []
   },
   "outputs": [],
   "source": []
  },
  {
   "cell_type": "markdown",
   "id": "c88103d4",
   "metadata": {
    "papermill": {
     "duration": 0.02197,
     "end_time": "2025-06-25T14:12:36.426445",
     "exception": false,
     "start_time": "2025-06-25T14:12:36.404475",
     "status": "completed"
    },
    "tags": []
   },
   "source": [
    "#### 77. How to negate a boolean, or to change the sign of a float inplace? (★★★)"
   ]
  },
  {
   "cell_type": "code",
   "execution_count": null,
   "id": "99a33775",
   "metadata": {
    "papermill": {
     "duration": 0.022505,
     "end_time": "2025-06-25T14:12:36.472959",
     "exception": false,
     "start_time": "2025-06-25T14:12:36.450454",
     "status": "completed"
    },
    "tags": []
   },
   "outputs": [],
   "source": []
  },
  {
   "cell_type": "markdown",
   "id": "76f7b57b",
   "metadata": {
    "papermill": {
     "duration": 0.025133,
     "end_time": "2025-06-25T14:12:36.521673",
     "exception": false,
     "start_time": "2025-06-25T14:12:36.496540",
     "status": "completed"
    },
    "tags": []
   },
   "source": [
    "#### 78. Consider 2 sets of points P0,P1 describing lines (2d) and a point p, how to compute distance from p to each line i (P0[i],P1[i])? (★★★)"
   ]
  },
  {
   "cell_type": "code",
   "execution_count": null,
   "id": "dd94a25c",
   "metadata": {
    "papermill": {
     "duration": 0.021864,
     "end_time": "2025-06-25T14:12:36.565903",
     "exception": false,
     "start_time": "2025-06-25T14:12:36.544039",
     "status": "completed"
    },
    "tags": []
   },
   "outputs": [],
   "source": []
  },
  {
   "cell_type": "markdown",
   "id": "606deec5",
   "metadata": {
    "papermill": {
     "duration": 0.022913,
     "end_time": "2025-06-25T14:12:36.611738",
     "exception": false,
     "start_time": "2025-06-25T14:12:36.588825",
     "status": "completed"
    },
    "tags": []
   },
   "source": [
    "#### 79. Consider 2 sets of points P0,P1 describing lines (2d) and a set of points P, how to compute distance from each point j (P[j]) to each line i (P0[i],P1[i])? (★★★)"
   ]
  },
  {
   "cell_type": "code",
   "execution_count": null,
   "id": "8783513e",
   "metadata": {
    "papermill": {
     "duration": 0.022798,
     "end_time": "2025-06-25T14:12:36.658738",
     "exception": false,
     "start_time": "2025-06-25T14:12:36.635940",
     "status": "completed"
    },
    "tags": []
   },
   "outputs": [],
   "source": []
  },
  {
   "cell_type": "markdown",
   "id": "80a87293",
   "metadata": {
    "papermill": {
     "duration": 0.021343,
     "end_time": "2025-06-25T14:12:36.705041",
     "exception": false,
     "start_time": "2025-06-25T14:12:36.683698",
     "status": "completed"
    },
    "tags": []
   },
   "source": [
    "#### 80. Consider an arbitrary array, write a function that extracts a subpart with a fixed shape and centered on a given element (pad with a `fill` value when necessary) (★★★)"
   ]
  },
  {
   "cell_type": "code",
   "execution_count": null,
   "id": "0a4bb23e",
   "metadata": {
    "papermill": {
     "duration": 0.021246,
     "end_time": "2025-06-25T14:12:36.747971",
     "exception": false,
     "start_time": "2025-06-25T14:12:36.726725",
     "status": "completed"
    },
    "tags": []
   },
   "outputs": [],
   "source": []
  },
  {
   "cell_type": "markdown",
   "id": "f51a322e",
   "metadata": {
    "papermill": {
     "duration": 0.021527,
     "end_time": "2025-06-25T14:12:36.790874",
     "exception": false,
     "start_time": "2025-06-25T14:12:36.769347",
     "status": "completed"
    },
    "tags": []
   },
   "source": [
    "#### 81. Consider an array Z = [1,2,3,4,5,6,7,8,9,10,11,12,13,14], how to generate an array R = [[1,2,3,4], [2,3,4,5], [3,4,5,6], ..., [11,12,13,14]]? (★★★)"
   ]
  },
  {
   "cell_type": "code",
   "execution_count": null,
   "id": "363db80f",
   "metadata": {
    "papermill": {
     "duration": 0.021577,
     "end_time": "2025-06-25T14:12:36.834963",
     "exception": false,
     "start_time": "2025-06-25T14:12:36.813386",
     "status": "completed"
    },
    "tags": []
   },
   "outputs": [],
   "source": []
  },
  {
   "cell_type": "markdown",
   "id": "5ddb7f09",
   "metadata": {
    "papermill": {
     "duration": 0.021219,
     "end_time": "2025-06-25T14:12:36.878760",
     "exception": false,
     "start_time": "2025-06-25T14:12:36.857541",
     "status": "completed"
    },
    "tags": []
   },
   "source": [
    "#### 82. Compute a matrix rank (★★★)"
   ]
  },
  {
   "cell_type": "code",
   "execution_count": null,
   "id": "68682d85",
   "metadata": {
    "papermill": {
     "duration": 0.021014,
     "end_time": "2025-06-25T14:12:36.922473",
     "exception": false,
     "start_time": "2025-06-25T14:12:36.901459",
     "status": "completed"
    },
    "tags": []
   },
   "outputs": [],
   "source": []
  },
  {
   "cell_type": "markdown",
   "id": "104e5b08",
   "metadata": {
    "papermill": {
     "duration": 0.020891,
     "end_time": "2025-06-25T14:12:36.964776",
     "exception": false,
     "start_time": "2025-06-25T14:12:36.943885",
     "status": "completed"
    },
    "tags": []
   },
   "source": [
    "#### 83. How to find the most frequent value in an array?"
   ]
  },
  {
   "cell_type": "code",
   "execution_count": null,
   "id": "75950d0e",
   "metadata": {
    "papermill": {
     "duration": 0.021869,
     "end_time": "2025-06-25T14:12:37.008286",
     "exception": false,
     "start_time": "2025-06-25T14:12:36.986417",
     "status": "completed"
    },
    "tags": []
   },
   "outputs": [],
   "source": []
  },
  {
   "cell_type": "markdown",
   "id": "12b85857",
   "metadata": {
    "papermill": {
     "duration": 0.021892,
     "end_time": "2025-06-25T14:12:37.052513",
     "exception": false,
     "start_time": "2025-06-25T14:12:37.030621",
     "status": "completed"
    },
    "tags": []
   },
   "source": [
    "#### 84. Extract all the contiguous 3x3 blocks from a random 10x10 matrix (★★★)"
   ]
  },
  {
   "cell_type": "code",
   "execution_count": null,
   "id": "32117d6f",
   "metadata": {
    "papermill": {
     "duration": 0.021129,
     "end_time": "2025-06-25T14:12:37.094997",
     "exception": false,
     "start_time": "2025-06-25T14:12:37.073868",
     "status": "completed"
    },
    "tags": []
   },
   "outputs": [],
   "source": []
  },
  {
   "cell_type": "markdown",
   "id": "3809b83a",
   "metadata": {
    "papermill": {
     "duration": 0.021621,
     "end_time": "2025-06-25T14:12:37.138553",
     "exception": false,
     "start_time": "2025-06-25T14:12:37.116932",
     "status": "completed"
    },
    "tags": []
   },
   "source": [
    "#### 85. Create a 2D array subclass such that Z[i,j] == Z[j,i] (★★★)"
   ]
  },
  {
   "cell_type": "code",
   "execution_count": null,
   "id": "bbb21844",
   "metadata": {
    "papermill": {
     "duration": 0.021277,
     "end_time": "2025-06-25T14:12:37.182415",
     "exception": false,
     "start_time": "2025-06-25T14:12:37.161138",
     "status": "completed"
    },
    "tags": []
   },
   "outputs": [],
   "source": []
  },
  {
   "cell_type": "markdown",
   "id": "e9c71288",
   "metadata": {
    "papermill": {
     "duration": 0.021238,
     "end_time": "2025-06-25T14:12:37.225659",
     "exception": false,
     "start_time": "2025-06-25T14:12:37.204421",
     "status": "completed"
    },
    "tags": []
   },
   "source": [
    "#### 86. Consider a set of p matrices with shape (n,n) and a set of p vectors with shape (n,1). How to compute the sum of of the p matrix products at once? (result has shape (n,1)) (★★★)"
   ]
  },
  {
   "cell_type": "code",
   "execution_count": null,
   "id": "df7f2937",
   "metadata": {
    "papermill": {
     "duration": 0.021641,
     "end_time": "2025-06-25T14:12:37.268967",
     "exception": false,
     "start_time": "2025-06-25T14:12:37.247326",
     "status": "completed"
    },
    "tags": []
   },
   "outputs": [],
   "source": []
  },
  {
   "cell_type": "markdown",
   "id": "9fad6b66",
   "metadata": {
    "papermill": {
     "duration": 0.021,
     "end_time": "2025-06-25T14:12:37.311812",
     "exception": false,
     "start_time": "2025-06-25T14:12:37.290812",
     "status": "completed"
    },
    "tags": []
   },
   "source": [
    "#### 87. Consider a 16x16 array, how to get the block-sum (block size is 4x4)? (★★★)"
   ]
  },
  {
   "cell_type": "code",
   "execution_count": null,
   "id": "0b693b4f",
   "metadata": {
    "papermill": {
     "duration": 0.023397,
     "end_time": "2025-06-25T14:12:37.356640",
     "exception": false,
     "start_time": "2025-06-25T14:12:37.333243",
     "status": "completed"
    },
    "tags": []
   },
   "outputs": [],
   "source": []
  },
  {
   "cell_type": "markdown",
   "id": "c124f24e",
   "metadata": {
    "papermill": {
     "duration": 0.020911,
     "end_time": "2025-06-25T14:12:37.398809",
     "exception": false,
     "start_time": "2025-06-25T14:12:37.377898",
     "status": "completed"
    },
    "tags": []
   },
   "source": [
    "#### 88. How to implement the Game of Life using numpy arrays? (★★★)"
   ]
  },
  {
   "cell_type": "code",
   "execution_count": null,
   "id": "17a65af1",
   "metadata": {
    "papermill": {
     "duration": 0.022054,
     "end_time": "2025-06-25T14:12:37.442697",
     "exception": false,
     "start_time": "2025-06-25T14:12:37.420643",
     "status": "completed"
    },
    "tags": []
   },
   "outputs": [],
   "source": []
  },
  {
   "cell_type": "markdown",
   "id": "23e81015",
   "metadata": {
    "papermill": {
     "duration": 0.021806,
     "end_time": "2025-06-25T14:12:37.485819",
     "exception": false,
     "start_time": "2025-06-25T14:12:37.464013",
     "status": "completed"
    },
    "tags": []
   },
   "source": [
    "#### 89. How to get the n largest values of an array (★★★)"
   ]
  },
  {
   "cell_type": "code",
   "execution_count": null,
   "id": "2e8a3167",
   "metadata": {
    "papermill": {
     "duration": 0.023065,
     "end_time": "2025-06-25T14:12:37.531477",
     "exception": false,
     "start_time": "2025-06-25T14:12:37.508412",
     "status": "completed"
    },
    "tags": []
   },
   "outputs": [],
   "source": []
  },
  {
   "cell_type": "markdown",
   "id": "44217b55",
   "metadata": {
    "papermill": {
     "duration": 0.021668,
     "end_time": "2025-06-25T14:12:37.574723",
     "exception": false,
     "start_time": "2025-06-25T14:12:37.553055",
     "status": "completed"
    },
    "tags": []
   },
   "source": [
    "#### 90. Given an arbitrary number of vectors, build the cartesian product (every combination of every item) (★★★)"
   ]
  },
  {
   "cell_type": "code",
   "execution_count": null,
   "id": "01f32c49",
   "metadata": {
    "papermill": {
     "duration": 0.025654,
     "end_time": "2025-06-25T14:12:37.623909",
     "exception": false,
     "start_time": "2025-06-25T14:12:37.598255",
     "status": "completed"
    },
    "tags": []
   },
   "outputs": [],
   "source": []
  },
  {
   "cell_type": "markdown",
   "id": "15206d35",
   "metadata": {
    "papermill": {
     "duration": 0.02368,
     "end_time": "2025-06-25T14:12:37.670658",
     "exception": false,
     "start_time": "2025-06-25T14:12:37.646978",
     "status": "completed"
    },
    "tags": []
   },
   "source": [
    "#### 91. How to create a record array from a regular array? (★★★)"
   ]
  },
  {
   "cell_type": "code",
   "execution_count": null,
   "id": "d985f34c",
   "metadata": {
    "papermill": {
     "duration": 0.021045,
     "end_time": "2025-06-25T14:12:37.715659",
     "exception": false,
     "start_time": "2025-06-25T14:12:37.694614",
     "status": "completed"
    },
    "tags": []
   },
   "outputs": [],
   "source": []
  },
  {
   "cell_type": "markdown",
   "id": "d7cb9298",
   "metadata": {
    "papermill": {
     "duration": 0.025487,
     "end_time": "2025-06-25T14:12:37.768159",
     "exception": false,
     "start_time": "2025-06-25T14:12:37.742672",
     "status": "completed"
    },
    "tags": []
   },
   "source": [
    "#### 92. Consider a large vector Z, compute Z to the power of 3 using 3 different methods (★★★)"
   ]
  },
  {
   "cell_type": "code",
   "execution_count": null,
   "id": "1315a5bb",
   "metadata": {
    "papermill": {
     "duration": 0.02871,
     "end_time": "2025-06-25T14:12:37.830425",
     "exception": false,
     "start_time": "2025-06-25T14:12:37.801715",
     "status": "completed"
    },
    "tags": []
   },
   "outputs": [],
   "source": []
  },
  {
   "cell_type": "markdown",
   "id": "453f6687",
   "metadata": {
    "papermill": {
     "duration": 0.022823,
     "end_time": "2025-06-25T14:12:37.875443",
     "exception": false,
     "start_time": "2025-06-25T14:12:37.852620",
     "status": "completed"
    },
    "tags": []
   },
   "source": [
    "#### 93. Consider two arrays A and B of shape (8,3) and (2,2). How to find rows of A that contain elements of each row of B regardless of the order of the elements in B? (★★★)"
   ]
  },
  {
   "cell_type": "code",
   "execution_count": null,
   "id": "c541e551",
   "metadata": {
    "papermill": {
     "duration": 0.021785,
     "end_time": "2025-06-25T14:12:37.920266",
     "exception": false,
     "start_time": "2025-06-25T14:12:37.898481",
     "status": "completed"
    },
    "tags": []
   },
   "outputs": [],
   "source": []
  },
  {
   "cell_type": "markdown",
   "id": "9acb4399",
   "metadata": {
    "papermill": {
     "duration": 0.022191,
     "end_time": "2025-06-25T14:12:37.964141",
     "exception": false,
     "start_time": "2025-06-25T14:12:37.941950",
     "status": "completed"
    },
    "tags": []
   },
   "source": [
    "#### 94. Considering a 10x3 matrix, extract rows with unequal values (e.g. [2,2,3]) (★★★)"
   ]
  },
  {
   "cell_type": "code",
   "execution_count": null,
   "id": "e9a0d8d2",
   "metadata": {
    "papermill": {
     "duration": 0.021929,
     "end_time": "2025-06-25T14:12:38.007492",
     "exception": false,
     "start_time": "2025-06-25T14:12:37.985563",
     "status": "completed"
    },
    "tags": []
   },
   "outputs": [],
   "source": []
  },
  {
   "cell_type": "markdown",
   "id": "8e1d7406",
   "metadata": {
    "papermill": {
     "duration": 0.022971,
     "end_time": "2025-06-25T14:12:38.052492",
     "exception": false,
     "start_time": "2025-06-25T14:12:38.029521",
     "status": "completed"
    },
    "tags": []
   },
   "source": [
    "#### 95. Convert a vector of ints into a matrix binary representation (★★★)"
   ]
  },
  {
   "cell_type": "code",
   "execution_count": null,
   "id": "fd279c2f",
   "metadata": {
    "papermill": {
     "duration": 0.022031,
     "end_time": "2025-06-25T14:12:38.096550",
     "exception": false,
     "start_time": "2025-06-25T14:12:38.074519",
     "status": "completed"
    },
    "tags": []
   },
   "outputs": [],
   "source": []
  },
  {
   "cell_type": "markdown",
   "id": "9f778d33",
   "metadata": {
    "papermill": {
     "duration": 0.022107,
     "end_time": "2025-06-25T14:12:38.141835",
     "exception": false,
     "start_time": "2025-06-25T14:12:38.119728",
     "status": "completed"
    },
    "tags": []
   },
   "source": [
    "#### 96. Given a two dimensional array, how to extract unique rows? (★★★)"
   ]
  },
  {
   "cell_type": "code",
   "execution_count": null,
   "id": "ea44b9dd",
   "metadata": {
    "papermill": {
     "duration": 0.022077,
     "end_time": "2025-06-25T14:12:38.185199",
     "exception": false,
     "start_time": "2025-06-25T14:12:38.163122",
     "status": "completed"
    },
    "tags": []
   },
   "outputs": [],
   "source": []
  },
  {
   "cell_type": "markdown",
   "id": "97f1be05",
   "metadata": {
    "papermill": {
     "duration": 0.021903,
     "end_time": "2025-06-25T14:12:38.229535",
     "exception": false,
     "start_time": "2025-06-25T14:12:38.207632",
     "status": "completed"
    },
    "tags": []
   },
   "source": [
    "#### 97. Considering 2 vectors A & B, write the einsum equivalent of inner, outer, sum, and mul function (★★★)"
   ]
  },
  {
   "cell_type": "code",
   "execution_count": null,
   "id": "acc7b260",
   "metadata": {
    "papermill": {
     "duration": 0.022314,
     "end_time": "2025-06-25T14:12:38.274235",
     "exception": false,
     "start_time": "2025-06-25T14:12:38.251921",
     "status": "completed"
    },
    "tags": []
   },
   "outputs": [],
   "source": []
  },
  {
   "cell_type": "markdown",
   "id": "0060a92d",
   "metadata": {
    "papermill": {
     "duration": 0.021025,
     "end_time": "2025-06-25T14:12:38.317479",
     "exception": false,
     "start_time": "2025-06-25T14:12:38.296454",
     "status": "completed"
    },
    "tags": []
   },
   "source": [
    "#### 98. Considering a path described by two vectors (X,Y), how to sample it using equidistant samples (★★★)?"
   ]
  },
  {
   "cell_type": "code",
   "execution_count": null,
   "id": "aaf66416",
   "metadata": {
    "papermill": {
     "duration": 0.020805,
     "end_time": "2025-06-25T14:12:38.359615",
     "exception": false,
     "start_time": "2025-06-25T14:12:38.338810",
     "status": "completed"
    },
    "tags": []
   },
   "outputs": [],
   "source": []
  },
  {
   "cell_type": "markdown",
   "id": "6d7526d5",
   "metadata": {
    "papermill": {
     "duration": 0.020647,
     "end_time": "2025-06-25T14:12:38.401558",
     "exception": false,
     "start_time": "2025-06-25T14:12:38.380911",
     "status": "completed"
    },
    "tags": []
   },
   "source": [
    "#### 99. Given an integer n and a 2D array X, select from X the rows which can be interpreted as draws from a multinomial distribution with n degrees, i.e., the rows which only contain integers and which sum to n. (★★★)"
   ]
  },
  {
   "cell_type": "code",
   "execution_count": null,
   "id": "ba56aaa6",
   "metadata": {
    "papermill": {
     "duration": 0.022031,
     "end_time": "2025-06-25T14:12:38.444678",
     "exception": false,
     "start_time": "2025-06-25T14:12:38.422647",
     "status": "completed"
    },
    "tags": []
   },
   "outputs": [],
   "source": []
  },
  {
   "cell_type": "markdown",
   "id": "9f49d31d",
   "metadata": {
    "papermill": {
     "duration": 0.023225,
     "end_time": "2025-06-25T14:12:38.490809",
     "exception": false,
     "start_time": "2025-06-25T14:12:38.467584",
     "status": "completed"
    },
    "tags": []
   },
   "source": [
    "#### 100. Compute bootstrapped 95% confidence intervals for the mean of a 1D array X (i.e., resample the elements of an array with replacement N times, compute the mean of each sample, and then compute percentiles over the means). (★★★)"
   ]
  },
  {
   "cell_type": "code",
   "execution_count": null,
   "id": "430dfba4",
   "metadata": {
    "papermill": {
     "duration": 0.02117,
     "end_time": "2025-06-25T14:12:38.533438",
     "exception": false,
     "start_time": "2025-06-25T14:12:38.512268",
     "status": "completed"
    },
    "tags": []
   },
   "outputs": [],
   "source": []
  }
 ],
 "metadata": {
  "kaggle": {
   "accelerator": "none",
   "dataSources": [],
   "dockerImageVersionId": 31040,
   "isGpuEnabled": false,
   "isInternetEnabled": true,
   "language": "python",
   "sourceType": "notebook"
  },
  "kernelspec": {
   "display_name": "Python 3",
   "language": "python",
   "name": "python3"
  },
  "language_info": {
   "codemirror_mode": {
    "name": "ipython",
    "version": 3
   },
   "file_extension": ".py",
   "mimetype": "text/x-python",
   "name": "python",
   "nbconvert_exporter": "python",
   "pygments_lexer": "ipython3",
   "version": "3.11.11"
  },
  "papermill": {
   "default_parameters": {},
   "duration": 14.499709,
   "end_time": "2025-06-25T14:12:38.975449",
   "environment_variables": {},
   "exception": null,
   "input_path": "__notebook__.ipynb",
   "output_path": "__notebook__.ipynb",
   "parameters": {},
   "start_time": "2025-06-25T14:12:24.475740",
   "version": "2.6.0"
  }
 },
 "nbformat": 4,
 "nbformat_minor": 5
}
