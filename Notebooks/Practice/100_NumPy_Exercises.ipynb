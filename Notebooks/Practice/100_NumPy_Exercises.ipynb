{
  "cells": [
    {
      "cell_type": "markdown",
      "id": "7fb27b941602401d91542211134fc71a",
      "metadata": {},
      "source": "<a href=\"https://www.kaggle.com/code/gvatsal60/100-numpy-exercises?scriptVersionId=247333920\" target=\"_blank\"><img align=\"left\" alt=\"Kaggle\" title=\"Open in Kaggle\" src=\"https://kaggle.com/static/images/open-in-kaggle.svg\"></a>"
    },
    {
      "cell_type": "markdown",
      "id": "5675e9cb",
      "metadata": {
        "papermill": {
          "duration": 0.0238,
          "end_time": "2025-06-25T15:13:32.585178",
          "exception": false,
          "start_time": "2025-06-25T15:13:32.561378",
          "status": "completed"
        },
        "tags": []
      },
      "source": [
        "<a href=\"https://www.kaggle.com/code/gvatsal60/100-numpy-exercises?scriptVersionId=247332893\" target=\"_blank\"><img align=\"left\" alt=\"Kaggle\" title=\"Open in Kaggle\" src=\"https://kaggle.com/static/images/open-in-kaggle.svg\"></a>"
      ]
    },
    {
      "cell_type": "markdown",
      "id": "fc160e64",
      "metadata": {
        "papermill": {
          "duration": 0.019725,
          "end_time": "2025-06-25T15:13:32.625228",
          "exception": false,
          "start_time": "2025-06-25T15:13:32.605503",
          "status": "completed"
        },
        "tags": []
      },
      "source": [
        "# \ud83c\udfaf 100 NumPy Exercises\n",
        "\n",
        "Welcome to **100 NumPy Exercises** \u2014 a curated collection of problems designed to sharpen your skills in NumPy, whether you're a beginner or a seasoned data wrangler.\n",
        "\n",
        "---\n",
        "\n",
        "\ud83d\udccc **About This Collection**\n",
        "\n",
        "This set of exercises has been gathered from:\n",
        "- The **NumPy mailing list**\n",
        "- **Stack Overflow** discussions\n",
        "- The **official NumPy documentation**\n",
        "\n",
        "The primary goal is to serve as:\n",
        "- \ud83d\udcda A quick reference for both new and experienced users  \n",
        "- \ud83c\udf93 A practical toolkit for educators and learners\n",
        "\n",
        "---\n",
        "\n",
        "\ud83d\udcac **Suggestions or Corrections?**\n",
        "\n",
        "If you find an error or have a better solution, feel free to contribute!  \n",
        "\u27a1\ufe0f Open an issue here: [numpy-100 GitHub Issues](https://github.com/rougier/numpy-100/issues)\n",
        "\n",
        "---\n",
        "\n",
        "\ud83d\udcc4 **Credits and Licensing**\n",
        "\n",
        "Includes code and ideas derived from work by [Nicolas P. Rougier](https://github.com/rougier), \n",
        "used in accordance with the terms of the original [license](https://github.com/rougier/numpy-100/blob/master/LICENSE.txt).\n",
        "\n",
        "---\n",
        "\n",
        "\ud83e\udde0 **Ready to dive in?**  \n",
        "Let\u2019s explore the power of NumPy \u2014 one exercise at a time!\n"
      ]
    },
    {
      "cell_type": "markdown",
      "id": "1baa7107",
      "metadata": {
        "papermill": {
          "duration": 0.019402,
          "end_time": "2025-06-25T15:13:32.664608",
          "exception": false,
          "start_time": "2025-06-25T15:13:32.645206",
          "status": "completed"
        },
        "tags": []
      },
      "source": [
        "#### 1. Import the numpy package under the name `np` (\u2605\u2606\u2606)"
      ]
    },
    {
      "cell_type": "code",
      "execution_count": 1,
      "id": "038fdeea",
      "metadata": {
        "execution": {
          "iopub.execute_input": "2025-06-25T15:13:32.705508Z",
          "iopub.status.busy": "2025-06-25T15:13:32.70512Z",
          "iopub.status.idle": "2025-06-25T15:13:32.712607Z",
          "shell.execute_reply": "2025-06-25T15:13:32.711759Z"
        },
        "papermill": {
          "duration": 0.02979,
          "end_time": "2025-06-25T15:13:32.714194",
          "exception": false,
          "start_time": "2025-06-25T15:13:32.684404",
          "status": "completed"
        },
        "tags": []
      },
      "outputs": [],
      "source": [
        "import numpy as np"
      ]
    },
    {
      "cell_type": "markdown",
      "id": "2f0a788a",
      "metadata": {
        "papermill": {
          "duration": 0.020651,
          "end_time": "2025-06-25T15:13:32.823262",
          "exception": false,
          "start_time": "2025-06-25T15:13:32.802611",
          "status": "completed"
        },
        "tags": []
      },
      "source": [
        "#### 2. Print the numpy version and the configuration (\u2605\u2606\u2606)"
      ]
    },
    {
      "cell_type": "code",
      "execution_count": 2,
      "id": "a21adda4",
      "metadata": {
        "execution": {
          "iopub.execute_input": "2025-06-25T15:13:32.867002Z",
          "iopub.status.busy": "2025-06-25T15:13:32.866629Z",
          "iopub.status.idle": "2025-06-25T15:13:32.872484Z",
          "shell.execute_reply": "2025-06-25T15:13:32.871434Z"
        },
        "papermill": {
          "duration": 0.029821,
          "end_time": "2025-06-25T15:13:32.87411",
          "exception": false,
          "start_time": "2025-06-25T15:13:32.844289",
          "status": "completed"
        },
        "tags": []
      },
      "outputs": [
        {
          "name": "stdout",
          "output_type": "stream",
          "text": [
            "\u2605 NumPy Version: 1.26.4\n",
            "\u2606 NumPy Configuration:\n",
            "blas_armpl_info:\n",
            "  NOT AVAILABLE\n",
            "blas_mkl_info:\n",
            "    libraries = ['mkl_rt', 'pthread']\n",
            "    library_dirs = ['/home/sat_bot/base/conda-bld/numpy_and_dev_1715296241721/_h_env_placehold_placehold_placehold_placehold_placehold_placehold_placehold_placehold_placehold_placehold_placehold_placehold_placehold_placehold_placehold_placehold_placehold_placehold_placehold_p/lib']\n",
            "    define_macros = [('SCIPY_MKL_H', None), ('HAVE_CBLAS', None)]\n",
            "    include_dirs = ['/home/sat_bot/base/conda-bld/numpy_and_dev_1715296241721/_h_env_placehold_placehold_placehold_placehold_placehold_placehold_placehold_placehold_placehold_placehold_placehold_placehold_placehold_placehold_placehold_placehold_placehold_placehold_placehold_p/include']\n",
            "blas_opt_info:\n",
            "    libraries = ['mkl_rt', 'pthread']\n",
            "    library_dirs = ['/home/sat_bot/base/conda-bld/numpy_and_dev_1715296241721/_h_env_placehold_placehold_placehold_placehold_placehold_placehold_placehold_placehold_placehold_placehold_placehold_placehold_placehold_placehold_placehold_placehold_placehold_placehold_placehold_p/lib']\n",
            "    define_macros = [('SCIPY_MKL_H', None), ('HAVE_CBLAS', None)]\n",
            "    include_dirs = ['/home/sat_bot/base/conda-bld/numpy_and_dev_1715296241721/_h_env_placehold_placehold_placehold_placehold_placehold_placehold_placehold_placehold_placehold_placehold_placehold_placehold_placehold_placehold_placehold_placehold_placehold_placehold_placehold_p/include']\n",
            "lapack_armpl_info:\n",
            "  NOT AVAILABLE\n",
            "lapack_mkl_info:\n",
            "    libraries = ['mkl_rt', 'pthread']\n",
            "    library_dirs = ['/home/sat_bot/base/conda-bld/numpy_and_dev_1715296241721/_h_env_placehold_placehold_placehold_placehold_placehold_placehold_placehold_placehold_placehold_placehold_placehold_placehold_placehold_placehold_placehold_placehold_placehold_placehold_placehold_p/lib']\n",
            "    define_macros = [('SCIPY_MKL_H', None), ('HAVE_CBLAS', None)]\n",
            "    include_dirs = ['/home/sat_bot/base/conda-bld/numpy_and_dev_1715296241721/_h_env_placehold_placehold_placehold_placehold_placehold_placehold_placehold_placehold_placehold_placehold_placehold_placehold_placehold_placehold_placehold_placehold_placehold_placehold_placehold_p/include']\n",
            "lapack_opt_info:\n",
            "    libraries = ['mkl_rt', 'pthread']\n",
            "    library_dirs = ['/home/sat_bot/base/conda-bld/numpy_and_dev_1715296241721/_h_env_placehold_placehold_placehold_placehold_placehold_placehold_placehold_placehold_placehold_placehold_placehold_placehold_placehold_placehold_placehold_placehold_placehold_placehold_placehold_p/lib']\n",
            "    define_macros = [('SCIPY_MKL_H', None), ('HAVE_CBLAS', None)]\n",
            "    include_dirs = ['/home/sat_bot/base/conda-bld/numpy_and_dev_1715296241721/_h_env_placehold_placehold_placehold_placehold_placehold_placehold_placehold_placehold_placehold_placehold_placehold_placehold_placehold_placehold_placehold_placehold_placehold_placehold_placehold_p/include']\n",
            "Supported SIMD extensions in this NumPy install:\n",
            "    baseline = SSE,SSE2,SSE3\n",
            "    found = SSSE3,SSE41,POPCNT,SSE42,AVX,F16C,FMA3,AVX2\n",
            "    not found = AVX512F,AVX512CD,AVX512_KNL,AVX512_KNM,AVX512_SKX,AVX512_CLX,AVX512_CNL,AVX512_ICL,AVX512_SPR\n"
          ]
        }
      ],
      "source": [
        "print(\"\u2605 NumPy Version:\", np.__version__)\n",
        "print(\"\u2606 NumPy Configuration:\")\n",
        "np.show_config()"
      ]
    },
    {
      "cell_type": "markdown",
      "id": "1c9f906a",
      "metadata": {
        "papermill": {
          "duration": 0.020344,
          "end_time": "2025-06-25T15:13:32.915235",
          "exception": false,
          "start_time": "2025-06-25T15:13:32.894891",
          "status": "completed"
        },
        "tags": []
      },
      "source": [
        "#### 3. Create a null vector of size 10 (\u2605\u2606\u2606)"
      ]
    },
    {
      "cell_type": "code",
      "execution_count": 3,
      "id": "98a1a4ab",
      "metadata": {
        "execution": {
          "iopub.execute_input": "2025-06-25T15:13:32.959616Z",
          "iopub.status.busy": "2025-06-25T15:13:32.959285Z",
          "iopub.status.idle": "2025-06-25T15:13:32.96615Z",
          "shell.execute_reply": "2025-06-25T15:13:32.965262Z"
        },
        "papermill": {
          "duration": 0.029894,
          "end_time": "2025-06-25T15:13:32.967542",
          "exception": false,
          "start_time": "2025-06-25T15:13:32.937648",
          "status": "completed"
        },
        "tags": []
      },
      "outputs": [
        {
          "data": {
            "text/plain": [
              "array([2.95856518e-316, 0.00000000e+000, 5.57306049e-321, 3.05874381e-316,\n",
              "       8.10267659e-322, 3.05874777e-316, 5.47918801e-321, 3.05874381e-316,\n",
              "       6.57733815e-310, 3.05874935e-316])"
            ]
          },
          "execution_count": 3,
          "metadata": {},
          "output_type": "execute_result"
        }
      ],
      "source": [
        "nullVec = np.empty(10)\n",
        "\n",
        "nullVec"
      ]
    },
    {
      "cell_type": "markdown",
      "id": "d8664aae",
      "metadata": {
        "papermill": {
          "duration": 0.020223,
          "end_time": "2025-06-25T15:13:33.008464",
          "exception": false,
          "start_time": "2025-06-25T15:13:32.988241",
          "status": "completed"
        },
        "tags": []
      },
      "source": [
        "#### 4. How to find the memory size of any array (\u2605\u2606\u2606)"
      ]
    },
    {
      "cell_type": "code",
      "execution_count": 4,
      "id": "7c0c054d",
      "metadata": {
        "execution": {
          "iopub.execute_input": "2025-06-25T15:13:33.052091Z",
          "iopub.status.busy": "2025-06-25T15:13:33.05173Z",
          "iopub.status.idle": "2025-06-25T15:13:33.056998Z",
          "shell.execute_reply": "2025-06-25T15:13:33.055873Z"
        },
        "papermill": {
          "duration": 0.028844,
          "end_time": "2025-06-25T15:13:33.058548",
          "exception": false,
          "start_time": "2025-06-25T15:13:33.029704",
          "status": "completed"
        },
        "tags": []
      },
      "outputs": [
        {
          "name": "stdout",
          "output_type": "stream",
          "text": [
            "Null Vector Size: 10\n",
            "Null Vector ItemSize: 8\n"
          ]
        }
      ],
      "source": [
        "print(\"Null Vector Size:\", nullVec.size)\n",
        "print(\"Null Vector ItemSize:\", nullVec.itemsize)"
      ]
    },
    {
      "cell_type": "markdown",
      "id": "8a041613",
      "metadata": {
        "papermill": {
          "duration": 0.02001,
          "end_time": "2025-06-25T15:13:33.099616",
          "exception": false,
          "start_time": "2025-06-25T15:13:33.079606",
          "status": "completed"
        },
        "tags": []
      },
      "source": [
        "#### 5. How to get the documentation of the numpy add function from the command line? (\u2605\u2606\u2606)"
      ]
    },
    {
      "cell_type": "code",
      "execution_count": 5,
      "id": "2fc5d3a9",
      "metadata": {
        "execution": {
          "iopub.execute_input": "2025-06-25T15:13:33.142072Z",
          "iopub.status.busy": "2025-06-25T15:13:33.141678Z",
          "iopub.status.idle": "2025-06-25T15:13:33.146959Z",
          "shell.execute_reply": "2025-06-25T15:13:33.14592Z"
        },
        "papermill": {
          "duration": 0.028372,
          "end_time": "2025-06-25T15:13:33.14841",
          "exception": false,
          "start_time": "2025-06-25T15:13:33.120038",
          "status": "completed"
        },
        "tags": []
      },
      "outputs": [
        {
          "name": "stdout",
          "output_type": "stream",
          "text": [
            "add(x1, x2, /, out=None, *, where=True, casting='same_kind', order='K', dtype=None, subok=True[, signature, extobj])\n",
            "\n",
            "Add arguments element-wise.\n",
            "\n",
            "Parameters\n",
            "----------\n",
            "x1, x2 : array_like\n",
            "    The arrays to be added.\n",
            "    If ``x1.shape != x2.shape``, they must be broadcastable to a common\n",
            "    shape (which becomes the shape of the output).\n",
            "out : ndarray, None, or tuple of ndarray and None, optional\n",
            "    A location into which the result is stored. If provided, it must have\n",
            "    a shape that the inputs broadcast to. If not provided or None,\n",
            "    a freshly-allocated array is returned. A tuple (possible only as a\n",
            "    keyword argument) must have length equal to the number of outputs.\n",
            "where : array_like, optional\n",
            "    This condition is broadcast over the input. At locations where the\n",
            "    condition is True, the `out` array will be set to the ufunc result.\n",
            "    Elsewhere, the `out` array will retain its original value.\n",
            "    Note that if an uninitialized `out` array is created via the default\n",
            "    ``out=None``, locations within it where the condition is False will\n",
            "    remain uninitialized.\n",
            "**kwargs\n",
            "    For other keyword-only arguments, see the\n",
            "    :ref:`ufunc docs <ufuncs.kwargs>`.\n",
            "\n",
            "Returns\n",
            "-------\n",
            "add : ndarray or scalar\n",
            "    The sum of `x1` and `x2`, element-wise.\n",
            "    This is a scalar if both `x1` and `x2` are scalars.\n",
            "\n",
            "Notes\n",
            "-----\n",
            "Equivalent to `x1` + `x2` in terms of array broadcasting.\n",
            "\n",
            "Examples\n",
            "--------\n",
            ">>> np.add(1.0, 4.0)\n",
            "5.0\n",
            ">>> x1 = np.arange(9.0).reshape((3, 3))\n",
            ">>> x2 = np.arange(3.0)\n",
            ">>> np.add(x1, x2)\n",
            "array([[  0.,   2.,   4.],\n",
            "       [  3.,   5.,   7.],\n",
            "       [  6.,   8.,  10.]])\n",
            "\n",
            "The ``+`` operator can be used as a shorthand for ``np.add`` on ndarrays.\n",
            "\n",
            ">>> x1 = np.arange(9.0).reshape((3, 3))\n",
            ">>> x2 = np.arange(3.0)\n",
            ">>> x1 + x2\n",
            "array([[ 0.,  2.,  4.],\n",
            "       [ 3.,  5.,  7.],\n",
            "       [ 6.,  8., 10.]])\n"
          ]
        }
      ],
      "source": [
        "# np.add?\n",
        "# print(np.info('add'))\n",
        "print(np.add.__doc__)"
      ]
    },
    {
      "cell_type": "markdown",
      "id": "d30819e2",
      "metadata": {
        "papermill": {
          "duration": 0.020077,
          "end_time": "2025-06-25T15:13:33.189278",
          "exception": false,
          "start_time": "2025-06-25T15:13:33.169201",
          "status": "completed"
        },
        "tags": []
      },
      "source": [
        "#### 6. Create a null vector of size 10 but the fifth value which is 1 (\u2605\u2606\u2606)"
      ]
    },
    {
      "cell_type": "code",
      "execution_count": 6,
      "id": "5819eeae",
      "metadata": {
        "execution": {
          "iopub.execute_input": "2025-06-25T15:13:33.231735Z",
          "iopub.status.busy": "2025-06-25T15:13:33.231444Z",
          "iopub.status.idle": "2025-06-25T15:13:33.237775Z",
          "shell.execute_reply": "2025-06-25T15:13:33.236947Z"
        },
        "papermill": {
          "duration": 0.02916,
          "end_time": "2025-06-25T15:13:33.239245",
          "exception": false,
          "start_time": "2025-06-25T15:13:33.210085",
          "status": "completed"
        },
        "tags": []
      },
      "outputs": [
        {
          "data": {
            "text/plain": [
              "array([2.95856518e-316, 0.00000000e+000, 5.57306049e-321, 3.05874381e-316,\n",
              "       1.00000000e+000, 3.05874777e-316, 5.47918801e-321, 3.05874381e-316,\n",
              "       6.57733815e-310, 3.05874935e-316])"
            ]
          },
          "execution_count": 6,
          "metadata": {},
          "output_type": "execute_result"
        }
      ],
      "source": [
        "nullVec = np.empty(10)\n",
        "nullVec[4] = 1\n",
        "\n",
        "nullVec"
      ]
    },
    {
      "cell_type": "markdown",
      "id": "75f98edc",
      "metadata": {
        "papermill": {
          "duration": 0.020824,
          "end_time": "2025-06-25T15:13:33.281229",
          "exception": false,
          "start_time": "2025-06-25T15:13:33.260405",
          "status": "completed"
        },
        "tags": []
      },
      "source": [
        "#### 7. Create a vector with values ranging from 10 to 49 (\u2605\u2606\u2606)"
      ]
    },
    {
      "cell_type": "code",
      "execution_count": 7,
      "id": "5ef3fdd1",
      "metadata": {
        "execution": {
          "iopub.execute_input": "2025-06-25T15:13:33.323697Z",
          "iopub.status.busy": "2025-06-25T15:13:33.323273Z",
          "iopub.status.idle": "2025-06-25T15:13:33.330548Z",
          "shell.execute_reply": "2025-06-25T15:13:33.32984Z"
        },
        "papermill": {
          "duration": 0.030329,
          "end_time": "2025-06-25T15:13:33.332042",
          "exception": false,
          "start_time": "2025-06-25T15:13:33.301713",
          "status": "completed"
        },
        "tags": []
      },
      "outputs": [
        {
          "data": {
            "text/plain": [
              "array([10, 11, 12, 13, 14, 15, 16, 17, 18, 19, 20, 21, 22, 23, 24, 25, 26,\n",
              "       27, 28, 29, 30, 31, 32, 33, 34, 35, 36, 37, 38, 39, 40, 41, 42, 43,\n",
              "       44, 45, 46, 47, 48, 49])"
            ]
          },
          "execution_count": 7,
          "metadata": {},
          "output_type": "execute_result"
        }
      ],
      "source": [
        "rangeVec = np.arange(10, 50)\n",
        "\n",
        "rangeVec"
      ]
    },
    {
      "cell_type": "markdown",
      "id": "7c5ce4f6",
      "metadata": {
        "papermill": {
          "duration": 0.020646,
          "end_time": "2025-06-25T15:13:33.373836",
          "exception": false,
          "start_time": "2025-06-25T15:13:33.35319",
          "status": "completed"
        },
        "tags": []
      },
      "source": [
        "#### 8. Reverse a vector (first element becomes last) (\u2605\u2606\u2606)"
      ]
    },
    {
      "cell_type": "code",
      "execution_count": 8,
      "id": "93f4a428",
      "metadata": {
        "execution": {
          "iopub.execute_input": "2025-06-25T15:13:33.418693Z",
          "iopub.status.busy": "2025-06-25T15:13:33.417846Z",
          "iopub.status.idle": "2025-06-25T15:13:33.424279Z",
          "shell.execute_reply": "2025-06-25T15:13:33.423318Z"
        },
        "papermill": {
          "duration": 0.029666,
          "end_time": "2025-06-25T15:13:33.425758",
          "exception": false,
          "start_time": "2025-06-25T15:13:33.396092",
          "status": "completed"
        },
        "tags": []
      },
      "outputs": [
        {
          "data": {
            "text/plain": [
              "array([49, 48, 47, 46, 45, 44, 43, 42, 41, 40, 39, 38, 37, 36, 35, 34, 33,\n",
              "       32, 31, 30, 29, 28, 27, 26, 25, 24, 23, 22, 21, 20, 19, 18, 17, 16,\n",
              "       15, 14, 13, 12, 11, 10])"
            ]
          },
          "execution_count": 8,
          "metadata": {},
          "output_type": "execute_result"
        }
      ],
      "source": [
        "rangeVec[::-1]"
      ]
    },
    {
      "cell_type": "markdown",
      "id": "f3afda9d",
      "metadata": {
        "papermill": {
          "duration": 0.020615,
          "end_time": "2025-06-25T15:13:33.467567",
          "exception": false,
          "start_time": "2025-06-25T15:13:33.446952",
          "status": "completed"
        },
        "tags": []
      },
      "source": [
        "#### 9. Create a 3x3 matrix with values ranging from 0 to 8 (\u2605\u2606\u2606)"
      ]
    },
    {
      "cell_type": "code",
      "execution_count": 9,
      "id": "0e7723f8",
      "metadata": {
        "execution": {
          "iopub.execute_input": "2025-06-25T15:13:33.510356Z",
          "iopub.status.busy": "2025-06-25T15:13:33.510072Z",
          "iopub.status.idle": "2025-06-25T15:13:33.516424Z",
          "shell.execute_reply": "2025-06-25T15:13:33.515522Z"
        },
        "papermill": {
          "duration": 0.029806,
          "end_time": "2025-06-25T15:13:33.518161",
          "exception": false,
          "start_time": "2025-06-25T15:13:33.488355",
          "status": "completed"
        },
        "tags": []
      },
      "outputs": [
        {
          "data": {
            "text/plain": [
              "array([[0, 1, 2],\n",
              "       [3, 4, 5],\n",
              "       [6, 7, 8]])"
            ]
          },
          "execution_count": 9,
          "metadata": {},
          "output_type": "execute_result"
        }
      ],
      "source": [
        "matrix3x3 = np.arange(9).reshape((3, 3))\n",
        "\n",
        "matrix3x3"
      ]
    },
    {
      "cell_type": "markdown",
      "id": "b52f45e0",
      "metadata": {
        "papermill": {
          "duration": 0.020852,
          "end_time": "2025-06-25T15:13:33.560375",
          "exception": false,
          "start_time": "2025-06-25T15:13:33.539523",
          "status": "completed"
        },
        "tags": []
      },
      "source": [
        "#### 10. Find indices of non-zero elements from [1,2,0,0,4,0] (\u2605\u2606\u2606)"
      ]
    },
    {
      "cell_type": "code",
      "execution_count": 10,
      "id": "53be1211",
      "metadata": {
        "execution": {
          "iopub.execute_input": "2025-06-25T15:13:33.609118Z",
          "iopub.status.busy": "2025-06-25T15:13:33.60875Z",
          "iopub.status.idle": "2025-06-25T15:13:33.614987Z",
          "shell.execute_reply": "2025-06-25T15:13:33.614051Z"
        },
        "papermill": {
          "duration": 0.032364,
          "end_time": "2025-06-25T15:13:33.616445",
          "exception": false,
          "start_time": "2025-06-25T15:13:33.584081",
          "status": "completed"
        },
        "tags": []
      },
      "outputs": [
        {
          "data": {
            "text/plain": [
              "(array([0, 1, 4]),)"
            ]
          },
          "execution_count": 10,
          "metadata": {},
          "output_type": "execute_result"
        }
      ],
      "source": [
        "rawData = [1, 2, 0, 0, 4, 0]\n",
        "\n",
        "npArr = np.array(rawData)\n",
        "\n",
        "npArr.nonzero()"
      ]
    },
    {
      "cell_type": "markdown",
      "id": "8d843052",
      "metadata": {
        "papermill": {
          "duration": 0.020802,
          "end_time": "2025-06-25T15:13:33.658602",
          "exception": false,
          "start_time": "2025-06-25T15:13:33.6378",
          "status": "completed"
        },
        "tags": []
      },
      "source": [
        "#### 11. Create a 3x3 identity matrix (\u2605\u2606\u2606)"
      ]
    },
    {
      "cell_type": "code",
      "execution_count": 11,
      "id": "f98e935e",
      "metadata": {
        "execution": {
          "iopub.execute_input": "2025-06-25T15:13:33.702886Z",
          "iopub.status.busy": "2025-06-25T15:13:33.70256Z",
          "iopub.status.idle": "2025-06-25T15:13:33.70864Z",
          "shell.execute_reply": "2025-06-25T15:13:33.707796Z"
        },
        "papermill": {
          "duration": 0.030436,
          "end_time": "2025-06-25T15:13:33.710129",
          "exception": false,
          "start_time": "2025-06-25T15:13:33.679693",
          "status": "completed"
        },
        "tags": []
      },
      "outputs": [
        {
          "data": {
            "text/plain": [
              "array([[1., 0., 0.],\n",
              "       [0., 1., 0.],\n",
              "       [0., 0., 1.]])"
            ]
          },
          "execution_count": 11,
          "metadata": {},
          "output_type": "execute_result"
        }
      ],
      "source": [
        "idnMatrix = np.eye(3, 3)\n",
        "\n",
        "idnMatrix"
      ]
    },
    {
      "cell_type": "markdown",
      "id": "db77e3fd",
      "metadata": {
        "papermill": {
          "duration": 0.021049,
          "end_time": "2025-06-25T15:13:33.752667",
          "exception": false,
          "start_time": "2025-06-25T15:13:33.731618",
          "status": "completed"
        },
        "tags": []
      },
      "source": [
        "#### 12. Create a 3x3x3 array with random values (\u2605\u2606\u2606)"
      ]
    },
    {
      "cell_type": "code",
      "execution_count": 12,
      "id": "b5901572",
      "metadata": {
        "execution": {
          "iopub.execute_input": "2025-06-25T15:13:33.796207Z",
          "iopub.status.busy": "2025-06-25T15:13:33.795877Z",
          "iopub.status.idle": "2025-06-25T15:13:33.802275Z",
          "shell.execute_reply": "2025-06-25T15:13:33.801384Z"
        },
        "papermill": {
          "duration": 0.029939,
          "end_time": "2025-06-25T15:13:33.803827",
          "exception": false,
          "start_time": "2025-06-25T15:13:33.773888",
          "status": "completed"
        },
        "tags": []
      },
      "outputs": [
        {
          "data": {
            "text/plain": [
              "array([[[0.61369473, 0.25007449, 0.3894367 ],\n",
              "        [0.03490735, 0.69138519, 0.66906355],\n",
              "        [0.40633481, 0.7047928 , 0.3967123 ]],\n",
              "\n",
              "       [[0.52787461, 0.54660373, 0.06510141],\n",
              "        [0.17241803, 0.33330844, 0.22802464],\n",
              "        [0.32862543, 0.4418268 , 0.47821566]],\n",
              "\n",
              "       [[0.36910614, 0.7452241 , 0.28400222],\n",
              "        [0.89241673, 0.27071301, 0.49650409],\n",
              "        [0.3808542 , 0.64910995, 0.22491871]]])"
            ]
          },
          "execution_count": 12,
          "metadata": {},
          "output_type": "execute_result"
        }
      ],
      "source": [
        "rndmArr = np.random.rand(3, 3, 3)\n",
        "\n",
        "rndmArr"
      ]
    },
    {
      "cell_type": "markdown",
      "id": "e1518839",
      "metadata": {
        "papermill": {
          "duration": 0.021393,
          "end_time": "2025-06-25T15:13:33.848324",
          "exception": false,
          "start_time": "2025-06-25T15:13:33.826931",
          "status": "completed"
        },
        "tags": []
      },
      "source": [
        "#### 13. Create a 10x10 array with random values and find the minimum and maximum values (\u2605\u2606\u2606)"
      ]
    },
    {
      "cell_type": "code",
      "execution_count": 13,
      "id": "4f4352f3",
      "metadata": {
        "execution": {
          "iopub.execute_input": "2025-06-25T15:13:33.892953Z",
          "iopub.status.busy": "2025-06-25T15:13:33.892329Z",
          "iopub.status.idle": "2025-06-25T15:13:33.898261Z",
          "shell.execute_reply": "2025-06-25T15:13:33.897142Z"
        },
        "papermill": {
          "duration": 0.03,
          "end_time": "2025-06-25T15:13:33.899904",
          "exception": false,
          "start_time": "2025-06-25T15:13:33.869904",
          "status": "completed"
        },
        "tags": []
      },
      "outputs": [
        {
          "name": "stdout",
          "output_type": "stream",
          "text": [
            "Min Val: 0.006001538732774758\n",
            "Max Val: 0.9907063485731267\n"
          ]
        }
      ],
      "source": [
        "rndmArr = np.random.rand(10, 10)\n",
        "\n",
        "rndmArr\n",
        "\n",
        "print(\"Min Val:\", rndmArr.min())\n",
        "print(\"Max Val:\", rndmArr.max())"
      ]
    },
    {
      "cell_type": "markdown",
      "id": "6a7d74f3",
      "metadata": {
        "papermill": {
          "duration": 0.021578,
          "end_time": "2025-06-25T15:13:33.944471",
          "exception": false,
          "start_time": "2025-06-25T15:13:33.922893",
          "status": "completed"
        },
        "tags": []
      },
      "source": [
        "#### 14. Create a random vector of size 30 and find the mean value (\u2605\u2606\u2606)"
      ]
    },
    {
      "cell_type": "code",
      "execution_count": 14,
      "id": "0ec568fc",
      "metadata": {
        "execution": {
          "iopub.execute_input": "2025-06-25T15:13:33.988092Z",
          "iopub.status.busy": "2025-06-25T15:13:33.987749Z",
          "iopub.status.idle": "2025-06-25T15:13:33.993672Z",
          "shell.execute_reply": "2025-06-25T15:13:33.992699Z"
        },
        "papermill": {
          "duration": 0.029805,
          "end_time": "2025-06-25T15:13:33.995422",
          "exception": false,
          "start_time": "2025-06-25T15:13:33.965617",
          "status": "completed"
        },
        "tags": []
      },
      "outputs": [
        {
          "data": {
            "text/plain": [
              "0.47859901675672656"
            ]
          },
          "execution_count": 14,
          "metadata": {},
          "output_type": "execute_result"
        }
      ],
      "source": [
        "rndmArr = np.random.rand(30)\n",
        "\n",
        "rndmArr.mean()"
      ]
    },
    {
      "cell_type": "markdown",
      "id": "c626246c",
      "metadata": {
        "papermill": {
          "duration": 0.021037,
          "end_time": "2025-06-25T15:13:34.038303",
          "exception": false,
          "start_time": "2025-06-25T15:13:34.017266",
          "status": "completed"
        },
        "tags": []
      },
      "source": [
        "#### 15. Create a 2d array with 1 on the border and 0 inside (\u2605\u2606\u2606)"
      ]
    },
    {
      "cell_type": "code",
      "execution_count": null,
      "id": "901ca332",
      "metadata": {
        "papermill": {
          "duration": 0.021162,
          "end_time": "2025-06-25T15:13:34.080836",
          "exception": false,
          "start_time": "2025-06-25T15:13:34.059674",
          "status": "completed"
        },
        "tags": []
      },
      "outputs": [],
      "source": []
    },
    {
      "cell_type": "markdown",
      "id": "2d59c02f",
      "metadata": {
        "papermill": {
          "duration": 0.02121,
          "end_time": "2025-06-25T15:13:34.123122",
          "exception": false,
          "start_time": "2025-06-25T15:13:34.101912",
          "status": "completed"
        },
        "tags": []
      },
      "source": [
        "#### 16. How to add a border (filled with 0's) around an existing array? (\u2605\u2606\u2606)"
      ]
    },
    {
      "cell_type": "code",
      "execution_count": null,
      "id": "4f16eac6",
      "metadata": {
        "papermill": {
          "duration": 0.020713,
          "end_time": "2025-06-25T15:13:34.165156",
          "exception": false,
          "start_time": "2025-06-25T15:13:34.144443",
          "status": "completed"
        },
        "tags": []
      },
      "outputs": [],
      "source": []
    },
    {
      "cell_type": "markdown",
      "id": "b4025423",
      "metadata": {
        "papermill": {
          "duration": 0.020973,
          "end_time": "2025-06-25T15:13:34.208058",
          "exception": false,
          "start_time": "2025-06-25T15:13:34.187085",
          "status": "completed"
        },
        "tags": []
      },
      "source": [
        "#### 17. What is the result of the following expression? (\u2605\u2606\u2606)\n",
        "```python\n",
        "0 * np.nan\n",
        "np.nan == np.nan\n",
        "np.inf > np.nan\n",
        "np.nan - np.nan\n",
        "np.nan in set([np.nan])\n",
        "0.3 == 3 * 0.1\n",
        "```"
      ]
    },
    {
      "cell_type": "code",
      "execution_count": 15,
      "id": "6e31f406",
      "metadata": {
        "execution": {
          "iopub.execute_input": "2025-06-25T15:13:34.25255Z",
          "iopub.status.busy": "2025-06-25T15:13:34.252242Z",
          "iopub.status.idle": "2025-06-25T15:13:34.258335Z",
          "shell.execute_reply": "2025-06-25T15:13:34.257197Z"
        },
        "papermill": {
          "duration": 0.030213,
          "end_time": "2025-06-25T15:13:34.259866",
          "exception": false,
          "start_time": "2025-06-25T15:13:34.229653",
          "status": "completed"
        },
        "tags": []
      },
      "outputs": [
        {
          "name": "stdout",
          "output_type": "stream",
          "text": [
            "nan\n",
            "False\n",
            "False\n",
            "nan\n",
            "True\n",
            "False\n",
            "True\n"
          ]
        }
      ],
      "source": [
        "print(0 * np.nan)  # nan\n",
        "print(np.nan == np.nan)  # False\n",
        "print(np.inf > np.nan)  # False\n",
        "print(np.nan - np.nan)  # nan\n",
        "print(np.nan in set([np.nan]))  # True\n",
        "print(0.3 == 3 * 0.1)  # False\n",
        "print(0.3 == round(3 * 0.1, 1))  # True"
      ]
    },
    {
      "cell_type": "markdown",
      "id": "34d6b1d1",
      "metadata": {
        "papermill": {
          "duration": 0.021896,
          "end_time": "2025-06-25T15:13:34.303582",
          "exception": false,
          "start_time": "2025-06-25T15:13:34.281686",
          "status": "completed"
        },
        "tags": []
      },
      "source": [
        "#### 18. Create a 5x5 matrix with values 1,2,3,4 just below the diagonal (\u2605\u2606\u2606)"
      ]
    },
    {
      "cell_type": "code",
      "execution_count": null,
      "id": "fcdb9c61",
      "metadata": {
        "papermill": {
          "duration": 0.021274,
          "end_time": "2025-06-25T15:13:34.346389",
          "exception": false,
          "start_time": "2025-06-25T15:13:34.325115",
          "status": "completed"
        },
        "tags": []
      },
      "outputs": [],
      "source": []
    },
    {
      "cell_type": "markdown",
      "id": "c7da3365",
      "metadata": {
        "papermill": {
          "duration": 0.021416,
          "end_time": "2025-06-25T15:13:34.389546",
          "exception": false,
          "start_time": "2025-06-25T15:13:34.36813",
          "status": "completed"
        },
        "tags": []
      },
      "source": [
        "#### 19. Create a 8x8 matrix and fill it with a checkerboard pattern (\u2605\u2606\u2606)"
      ]
    },
    {
      "cell_type": "code",
      "execution_count": null,
      "id": "2eaea40d",
      "metadata": {
        "papermill": {
          "duration": 0.021256,
          "end_time": "2025-06-25T15:13:34.432062",
          "exception": false,
          "start_time": "2025-06-25T15:13:34.410806",
          "status": "completed"
        },
        "tags": []
      },
      "outputs": [],
      "source": []
    },
    {
      "cell_type": "markdown",
      "id": "7ab17580",
      "metadata": {
        "papermill": {
          "duration": 0.0213,
          "end_time": "2025-06-25T15:13:34.474843",
          "exception": false,
          "start_time": "2025-06-25T15:13:34.453543",
          "status": "completed"
        },
        "tags": []
      },
      "source": [
        "#### 20. Consider a (6,7,8) shape array, what is the index (x,y,z) of the 100th element? (\u2605\u2606\u2606)"
      ]
    },
    {
      "cell_type": "code",
      "execution_count": null,
      "id": "68463c24",
      "metadata": {
        "papermill": {
          "duration": 0.021434,
          "end_time": "2025-06-25T15:13:34.517483",
          "exception": false,
          "start_time": "2025-06-25T15:13:34.496049",
          "status": "completed"
        },
        "tags": []
      },
      "outputs": [],
      "source": []
    },
    {
      "cell_type": "markdown",
      "id": "e0bd21d6",
      "metadata": {
        "papermill": {
          "duration": 0.023934,
          "end_time": "2025-06-25T15:13:34.562589",
          "exception": false,
          "start_time": "2025-06-25T15:13:34.538655",
          "status": "completed"
        },
        "tags": []
      },
      "source": [
        "#### 21. Create a checkerboard 8x8 matrix using the tile function (\u2605\u2606\u2606)"
      ]
    },
    {
      "cell_type": "code",
      "execution_count": null,
      "id": "b3115ba4",
      "metadata": {
        "papermill": {
          "duration": 0.022025,
          "end_time": "2025-06-25T15:13:34.606301",
          "exception": false,
          "start_time": "2025-06-25T15:13:34.584276",
          "status": "completed"
        },
        "tags": []
      },
      "outputs": [],
      "source": []
    },
    {
      "cell_type": "markdown",
      "id": "11f79237",
      "metadata": {
        "papermill": {
          "duration": 0.021014,
          "end_time": "2025-06-25T15:13:34.648834",
          "exception": false,
          "start_time": "2025-06-25T15:13:34.62782",
          "status": "completed"
        },
        "tags": []
      },
      "source": [
        "#### 22. Normalize a 5x5 random matrix (\u2605\u2606\u2606)"
      ]
    },
    {
      "cell_type": "code",
      "execution_count": null,
      "id": "da6ccbd2",
      "metadata": {
        "papermill": {
          "duration": 0.020954,
          "end_time": "2025-06-25T15:13:34.691254",
          "exception": false,
          "start_time": "2025-06-25T15:13:34.6703",
          "status": "completed"
        },
        "tags": []
      },
      "outputs": [],
      "source": []
    },
    {
      "cell_type": "markdown",
      "id": "f5243f9f",
      "metadata": {
        "papermill": {
          "duration": 0.021519,
          "end_time": "2025-06-25T15:13:34.734201",
          "exception": false,
          "start_time": "2025-06-25T15:13:34.712682",
          "status": "completed"
        },
        "tags": []
      },
      "source": [
        "#### 23. Create a custom dtype that describes a color as four unsigned bytes (RGBA) (\u2605\u2606\u2606)"
      ]
    },
    {
      "cell_type": "code",
      "execution_count": null,
      "id": "f0278441",
      "metadata": {
        "papermill": {
          "duration": 0.021283,
          "end_time": "2025-06-25T15:13:34.777527",
          "exception": false,
          "start_time": "2025-06-25T15:13:34.756244",
          "status": "completed"
        },
        "tags": []
      },
      "outputs": [],
      "source": []
    },
    {
      "cell_type": "markdown",
      "id": "41265b7e",
      "metadata": {
        "papermill": {
          "duration": 0.022256,
          "end_time": "2025-06-25T15:13:34.82103",
          "exception": false,
          "start_time": "2025-06-25T15:13:34.798774",
          "status": "completed"
        },
        "tags": []
      },
      "source": [
        "#### 24. Multiply a 5x3 matrix by a 3x2 matrix (real matrix product) (\u2605\u2606\u2606)"
      ]
    },
    {
      "cell_type": "code",
      "execution_count": 16,
      "id": "208b763d",
      "metadata": {
        "execution": {
          "iopub.execute_input": "2025-06-25T15:13:34.865736Z",
          "iopub.status.busy": "2025-06-25T15:13:34.865075Z",
          "iopub.status.idle": "2025-06-25T15:13:34.884164Z",
          "shell.execute_reply": "2025-06-25T15:13:34.883215Z"
        },
        "papermill": {
          "duration": 0.043435,
          "end_time": "2025-06-25T15:13:34.885809",
          "exception": false,
          "start_time": "2025-06-25T15:13:34.842374",
          "status": "completed"
        },
        "tags": []
      },
      "outputs": [
        {
          "data": {
            "text/plain": [
              "array([[1.24576478, 1.2628404 ],\n",
              "       [0.90489096, 0.98710884],\n",
              "       [1.38334394, 1.21394551],\n",
              "       [0.6937083 , 0.68767636],\n",
              "       [1.60685911, 1.50505595]])"
            ]
          },
          "execution_count": 16,
          "metadata": {},
          "output_type": "execute_result"
        }
      ],
      "source": [
        "m1 = np.random.rand(5, 3)\n",
        "m2 = np.random.rand(3, 2)\n",
        "\n",
        "m1.dot(m2)"
      ]
    },
    {
      "cell_type": "markdown",
      "id": "9dff918f",
      "metadata": {
        "papermill": {
          "duration": 0.023373,
          "end_time": "2025-06-25T15:13:34.931126",
          "exception": false,
          "start_time": "2025-06-25T15:13:34.907753",
          "status": "completed"
        },
        "tags": []
      },
      "source": [
        "#### 25. Given a 1D array, negate all elements which are between 3 and 8, in place. (\u2605\u2606\u2606)"
      ]
    },
    {
      "cell_type": "code",
      "execution_count": null,
      "id": "b554f1f9",
      "metadata": {
        "papermill": {
          "duration": 0.021281,
          "end_time": "2025-06-25T15:13:34.973777",
          "exception": false,
          "start_time": "2025-06-25T15:13:34.952496",
          "status": "completed"
        },
        "tags": []
      },
      "outputs": [],
      "source": []
    },
    {
      "cell_type": "markdown",
      "id": "4187d630",
      "metadata": {
        "papermill": {
          "duration": 0.021955,
          "end_time": "2025-06-25T15:13:35.017298",
          "exception": false,
          "start_time": "2025-06-25T15:13:34.995343",
          "status": "completed"
        },
        "tags": []
      },
      "source": [
        "#### 26. What is the output of the following script? (\u2605\u2606\u2606)\n",
        "```python\n",
        "# Author: Jake VanderPlas\n",
        "\n",
        "print(sum(range(5),-1))\n",
        "from numpy import *\n",
        "print(sum(range(5),-1))\n",
        "```"
      ]
    },
    {
      "cell_type": "code",
      "execution_count": 17,
      "id": "5d921ed4",
      "metadata": {
        "execution": {
          "iopub.execute_input": "2025-06-25T15:13:35.062726Z",
          "iopub.status.busy": "2025-06-25T15:13:35.062401Z",
          "iopub.status.idle": "2025-06-25T15:13:35.068834Z",
          "shell.execute_reply": "2025-06-25T15:13:35.06793Z"
        },
        "papermill": {
          "duration": 0.030923,
          "end_time": "2025-06-25T15:13:35.070448",
          "exception": false,
          "start_time": "2025-06-25T15:13:35.039525",
          "status": "completed"
        },
        "tags": []
      },
      "outputs": [
        {
          "name": "stdout",
          "output_type": "stream",
          "text": [
            "9\n",
            "10\n"
          ]
        }
      ],
      "source": [
        "print(sum(range(5), -1))  # 9\n",
        "from numpy import sum\n",
        "\n",
        "print(sum(range(5), -1))  # 10 (axis = -1)"
      ]
    },
    {
      "cell_type": "markdown",
      "id": "4aebaf01",
      "metadata": {
        "papermill": {
          "duration": 0.021615,
          "end_time": "2025-06-25T15:13:35.11401",
          "exception": false,
          "start_time": "2025-06-25T15:13:35.092395",
          "status": "completed"
        },
        "tags": []
      },
      "source": [
        "#### 27. Consider an integer vector Z, which of these expressions are legal? (\u2605\u2606\u2606)\n",
        "```python\n",
        "Z**Z\n",
        "2 << Z >> 2\n",
        "Z <- Z\n",
        "1j*Z\n",
        "Z/1/1\n",
        "Z<Z>Z\n",
        "```"
      ]
    },
    {
      "cell_type": "code",
      "execution_count": null,
      "id": "a8d52885",
      "metadata": {
        "papermill": {
          "duration": 0.021556,
          "end_time": "2025-06-25T15:13:35.157718",
          "exception": false,
          "start_time": "2025-06-25T15:13:35.136162",
          "status": "completed"
        },
        "tags": []
      },
      "outputs": [],
      "source": []
    },
    {
      "cell_type": "markdown",
      "id": "a2d86ff0",
      "metadata": {
        "papermill": {
          "duration": 0.021935,
          "end_time": "2025-06-25T15:13:35.20153",
          "exception": false,
          "start_time": "2025-06-25T15:13:35.179595",
          "status": "completed"
        },
        "tags": []
      },
      "source": [
        "#### 28. What are the result of the following expressions? (\u2605\u2606\u2606)\n",
        "```python\n",
        "np.array(0) / np.array(0)\n",
        "np.array(0) // np.array(0)\n",
        "np.array([np.nan]).astype(int).astype(float)\n",
        "```"
      ]
    },
    {
      "cell_type": "code",
      "execution_count": 18,
      "id": "9cc072ac",
      "metadata": {
        "execution": {
          "iopub.execute_input": "2025-06-25T15:13:35.246732Z",
          "iopub.status.busy": "2025-06-25T15:13:35.245907Z",
          "iopub.status.idle": "2025-06-25T15:13:35.252103Z",
          "shell.execute_reply": "2025-06-25T15:13:35.251056Z"
        },
        "papermill": {
          "duration": 0.030445,
          "end_time": "2025-06-25T15:13:35.253769",
          "exception": false,
          "start_time": "2025-06-25T15:13:35.223324",
          "status": "completed"
        },
        "tags": []
      },
      "outputs": [
        {
          "name": "stdout",
          "output_type": "stream",
          "text": [
            "nan\n",
            "0\n",
            "[-9.22337204e+18]\n"
          ]
        },
        {
          "name": "stderr",
          "output_type": "stream",
          "text": [
            "/tmp/ipykernel_20/2670329950.py:1: RuntimeWarning: invalid value encountered in divide\n",
            "  print(np.array(0) / np.array(0))  # nan\n",
            "/tmp/ipykernel_20/2670329950.py:2: RuntimeWarning: divide by zero encountered in floor_divide\n",
            "  print(np.array(0) // np.array(0))  # 0\n",
            "/tmp/ipykernel_20/2670329950.py:3: RuntimeWarning: invalid value encountered in cast\n",
            "  print(np.array([np.nan]).astype(int).astype(float))  # [-9.22337204e+18]\n"
          ]
        }
      ],
      "source": [
        "print(np.array(0) / np.array(0))  # nan\n",
        "print(np.array(0) // np.array(0))  # 0\n",
        "print(np.array([np.nan]).astype(int).astype(float))  # [-9.22337204e+18]"
      ]
    },
    {
      "cell_type": "markdown",
      "id": "5a4fd497",
      "metadata": {
        "papermill": {
          "duration": 0.021839,
          "end_time": "2025-06-25T15:13:35.297501",
          "exception": false,
          "start_time": "2025-06-25T15:13:35.275662",
          "status": "completed"
        },
        "tags": []
      },
      "source": [
        "#### 29. How to round away from zero a float array ? (\u2605\u2606\u2606)"
      ]
    },
    {
      "cell_type": "code",
      "execution_count": null,
      "id": "df5f6410",
      "metadata": {
        "papermill": {
          "duration": 0.02172,
          "end_time": "2025-06-25T15:13:35.341173",
          "exception": false,
          "start_time": "2025-06-25T15:13:35.319453",
          "status": "completed"
        },
        "tags": []
      },
      "outputs": [],
      "source": []
    },
    {
      "cell_type": "markdown",
      "id": "45a503e2",
      "metadata": {
        "papermill": {
          "duration": 0.02135,
          "end_time": "2025-06-25T15:13:35.384384",
          "exception": false,
          "start_time": "2025-06-25T15:13:35.363034",
          "status": "completed"
        },
        "tags": []
      },
      "source": [
        "#### 30. How to find common values between two arrays? (\u2605\u2606\u2606)"
      ]
    },
    {
      "cell_type": "code",
      "execution_count": null,
      "id": "d3b55877",
      "metadata": {
        "papermill": {
          "duration": 0.021512,
          "end_time": "2025-06-25T15:13:35.427758",
          "exception": false,
          "start_time": "2025-06-25T15:13:35.406246",
          "status": "completed"
        },
        "tags": []
      },
      "outputs": [],
      "source": []
    },
    {
      "cell_type": "markdown",
      "id": "729dceed",
      "metadata": {
        "papermill": {
          "duration": 0.021794,
          "end_time": "2025-06-25T15:13:35.471316",
          "exception": false,
          "start_time": "2025-06-25T15:13:35.449522",
          "status": "completed"
        },
        "tags": []
      },
      "source": [
        "#### 31. How to ignore all numpy warnings (not recommended)? (\u2605\u2606\u2606)"
      ]
    },
    {
      "cell_type": "code",
      "execution_count": 19,
      "id": "da93faad",
      "metadata": {
        "execution": {
          "iopub.execute_input": "2025-06-25T15:13:35.515961Z",
          "iopub.status.busy": "2025-06-25T15:13:35.515651Z",
          "iopub.status.idle": "2025-06-25T15:13:35.521298Z",
          "shell.execute_reply": "2025-06-25T15:13:35.520365Z"
        },
        "papermill": {
          "duration": 0.030176,
          "end_time": "2025-06-25T15:13:35.523102",
          "exception": false,
          "start_time": "2025-06-25T15:13:35.492926",
          "status": "completed"
        },
        "tags": []
      },
      "outputs": [
        {
          "data": {
            "text/plain": [
              "{'divide': 'warn', 'over': 'warn', 'under': 'ignore', 'invalid': 'warn'}"
            ]
          },
          "execution_count": 19,
          "metadata": {},
          "output_type": "execute_result"
        }
      ],
      "source": [
        "np.seterr(all=\"ignore\")"
      ]
    },
    {
      "cell_type": "markdown",
      "id": "1921320e",
      "metadata": {
        "papermill": {
          "duration": 0.021482,
          "end_time": "2025-06-25T15:13:35.567759",
          "exception": false,
          "start_time": "2025-06-25T15:13:35.546277",
          "status": "completed"
        },
        "tags": []
      },
      "source": [
        "#### 32. Is the following expressions true? (\u2605\u2606\u2606)\n",
        "```python\n",
        "np.sqrt(-1) == np.emath.sqrt(-1)\n",
        "```"
      ]
    },
    {
      "cell_type": "code",
      "execution_count": 20,
      "id": "f8bafb78",
      "metadata": {
        "execution": {
          "iopub.execute_input": "2025-06-25T15:13:35.614927Z",
          "iopub.status.busy": "2025-06-25T15:13:35.614594Z",
          "iopub.status.idle": "2025-06-25T15:13:35.621859Z",
          "shell.execute_reply": "2025-06-25T15:13:35.621076Z"
        },
        "papermill": {
          "duration": 0.033984,
          "end_time": "2025-06-25T15:13:35.623533",
          "exception": false,
          "start_time": "2025-06-25T15:13:35.589549",
          "status": "completed"
        },
        "tags": []
      },
      "outputs": [
        {
          "data": {
            "text/plain": [
              "False"
            ]
          },
          "execution_count": 20,
          "metadata": {},
          "output_type": "execute_result"
        }
      ],
      "source": [
        "np.sqrt(-1) == np.emath.sqrt(-1)  # False"
      ]
    },
    {
      "cell_type": "markdown",
      "id": "05464edc",
      "metadata": {
        "papermill": {
          "duration": 0.02157,
          "end_time": "2025-06-25T15:13:35.667257",
          "exception": false,
          "start_time": "2025-06-25T15:13:35.645687",
          "status": "completed"
        },
        "tags": []
      },
      "source": [
        "#### 33. How to get the dates of yesterday, today and tomorrow? (\u2605\u2606\u2606)"
      ]
    },
    {
      "cell_type": "code",
      "execution_count": null,
      "id": "13d3a35c",
      "metadata": {
        "papermill": {
          "duration": 0.021643,
          "end_time": "2025-06-25T15:13:35.710834",
          "exception": false,
          "start_time": "2025-06-25T15:13:35.689191",
          "status": "completed"
        },
        "tags": []
      },
      "outputs": [],
      "source": []
    },
    {
      "cell_type": "markdown",
      "id": "975f485e",
      "metadata": {
        "papermill": {
          "duration": 0.022538,
          "end_time": "2025-06-25T15:13:35.755223",
          "exception": false,
          "start_time": "2025-06-25T15:13:35.732685",
          "status": "completed"
        },
        "tags": []
      },
      "source": [
        "#### 34. How to get all the dates corresponding to the month of July 2016? (\u2605\u2605\u2606)"
      ]
    },
    {
      "cell_type": "code",
      "execution_count": null,
      "id": "834ccf95",
      "metadata": {
        "papermill": {
          "duration": 0.023117,
          "end_time": "2025-06-25T15:13:35.801236",
          "exception": false,
          "start_time": "2025-06-25T15:13:35.778119",
          "status": "completed"
        },
        "tags": []
      },
      "outputs": [],
      "source": []
    },
    {
      "cell_type": "markdown",
      "id": "35cc47d6",
      "metadata": {
        "papermill": {
          "duration": 0.022088,
          "end_time": "2025-06-25T15:13:35.845906",
          "exception": false,
          "start_time": "2025-06-25T15:13:35.823818",
          "status": "completed"
        },
        "tags": []
      },
      "source": [
        "#### 35. How to compute ((A+B)*(-A/2)) in place (without copy)? (\u2605\u2605\u2606)"
      ]
    },
    {
      "cell_type": "code",
      "execution_count": null,
      "id": "378d7d66",
      "metadata": {
        "papermill": {
          "duration": 0.024345,
          "end_time": "2025-06-25T15:13:35.893554",
          "exception": false,
          "start_time": "2025-06-25T15:13:35.869209",
          "status": "completed"
        },
        "tags": []
      },
      "outputs": [],
      "source": []
    },
    {
      "cell_type": "markdown",
      "id": "0eba8226",
      "metadata": {
        "papermill": {
          "duration": 0.023206,
          "end_time": "2025-06-25T15:13:35.939243",
          "exception": false,
          "start_time": "2025-06-25T15:13:35.916037",
          "status": "completed"
        },
        "tags": []
      },
      "source": [
        "#### 36. Extract the integer part of a random array of positive numbers using 4 different methods (\u2605\u2605\u2606)"
      ]
    },
    {
      "cell_type": "code",
      "execution_count": null,
      "id": "e19670a9",
      "metadata": {
        "papermill": {
          "duration": 0.02202,
          "end_time": "2025-06-25T15:13:35.983445",
          "exception": false,
          "start_time": "2025-06-25T15:13:35.961425",
          "status": "completed"
        },
        "tags": []
      },
      "outputs": [],
      "source": []
    },
    {
      "cell_type": "markdown",
      "id": "35f832d5",
      "metadata": {
        "papermill": {
          "duration": 0.022429,
          "end_time": "2025-06-25T15:13:36.02809",
          "exception": false,
          "start_time": "2025-06-25T15:13:36.005661",
          "status": "completed"
        },
        "tags": []
      },
      "source": [
        "#### 37. Create a 5x5 matrix with row values ranging from 0 to 4 (\u2605\u2605\u2606)"
      ]
    },
    {
      "cell_type": "code",
      "execution_count": null,
      "id": "80dd626f",
      "metadata": {
        "papermill": {
          "duration": 0.025683,
          "end_time": "2025-06-25T15:13:36.077395",
          "exception": false,
          "start_time": "2025-06-25T15:13:36.051712",
          "status": "completed"
        },
        "tags": []
      },
      "outputs": [],
      "source": []
    },
    {
      "cell_type": "markdown",
      "id": "6b0d8a6e",
      "metadata": {
        "papermill": {
          "duration": 0.023123,
          "end_time": "2025-06-25T15:13:36.124596",
          "exception": false,
          "start_time": "2025-06-25T15:13:36.101473",
          "status": "completed"
        },
        "tags": []
      },
      "source": [
        "#### 38. Consider a generator function that generates 10 integers and use it to build an array (\u2605\u2606\u2606)"
      ]
    },
    {
      "cell_type": "code",
      "execution_count": null,
      "id": "90292441",
      "metadata": {
        "papermill": {
          "duration": 0.022485,
          "end_time": "2025-06-25T15:13:36.170765",
          "exception": false,
          "start_time": "2025-06-25T15:13:36.14828",
          "status": "completed"
        },
        "tags": []
      },
      "outputs": [],
      "source": []
    },
    {
      "cell_type": "markdown",
      "id": "4d66d561",
      "metadata": {
        "papermill": {
          "duration": 0.031245,
          "end_time": "2025-06-25T15:13:36.233837",
          "exception": false,
          "start_time": "2025-06-25T15:13:36.202592",
          "status": "completed"
        },
        "tags": []
      },
      "source": [
        "#### 39. Create a vector of size 10 with values ranging from 0 to 1, both excluded (\u2605\u2605\u2606)"
      ]
    },
    {
      "cell_type": "code",
      "execution_count": null,
      "id": "d0a0f07c",
      "metadata": {
        "papermill": {
          "duration": 0.026224,
          "end_time": "2025-06-25T15:13:36.292019",
          "exception": false,
          "start_time": "2025-06-25T15:13:36.265795",
          "status": "completed"
        },
        "tags": []
      },
      "outputs": [],
      "source": []
    },
    {
      "cell_type": "markdown",
      "id": "2d6eb73c",
      "metadata": {
        "papermill": {
          "duration": 0.024299,
          "end_time": "2025-06-25T15:13:36.339099",
          "exception": false,
          "start_time": "2025-06-25T15:13:36.3148",
          "status": "completed"
        },
        "tags": []
      },
      "source": [
        "#### 40. Create a random vector of size 10 and sort it (\u2605\u2605\u2606)"
      ]
    },
    {
      "cell_type": "code",
      "execution_count": null,
      "id": "bd6ebe5f",
      "metadata": {
        "papermill": {
          "duration": 0.032906,
          "end_time": "2025-06-25T15:13:36.397333",
          "exception": false,
          "start_time": "2025-06-25T15:13:36.364427",
          "status": "completed"
        },
        "tags": []
      },
      "outputs": [],
      "source": []
    },
    {
      "cell_type": "markdown",
      "id": "b89edda2",
      "metadata": {
        "papermill": {
          "duration": 0.022022,
          "end_time": "2025-06-25T15:13:36.444091",
          "exception": false,
          "start_time": "2025-06-25T15:13:36.422069",
          "status": "completed"
        },
        "tags": []
      },
      "source": [
        "#### 41. How to sum a small array faster than np.sum? (\u2605\u2605\u2606)"
      ]
    },
    {
      "cell_type": "code",
      "execution_count": null,
      "id": "e24036ac",
      "metadata": {
        "papermill": {
          "duration": 0.021726,
          "end_time": "2025-06-25T15:13:36.487764",
          "exception": false,
          "start_time": "2025-06-25T15:13:36.466038",
          "status": "completed"
        },
        "tags": []
      },
      "outputs": [],
      "source": []
    },
    {
      "cell_type": "markdown",
      "id": "68acd78d",
      "metadata": {
        "papermill": {
          "duration": 0.022293,
          "end_time": "2025-06-25T15:13:36.531892",
          "exception": false,
          "start_time": "2025-06-25T15:13:36.509599",
          "status": "completed"
        },
        "tags": []
      },
      "source": [
        "#### 42. Consider two random arrays A and B, check if they are equal (\u2605\u2605\u2606)"
      ]
    },
    {
      "cell_type": "code",
      "execution_count": null,
      "id": "ead7a2d7",
      "metadata": {
        "papermill": {
          "duration": 0.032496,
          "end_time": "2025-06-25T15:13:36.593178",
          "exception": false,
          "start_time": "2025-06-25T15:13:36.560682",
          "status": "completed"
        },
        "tags": []
      },
      "outputs": [],
      "source": []
    },
    {
      "cell_type": "markdown",
      "id": "4381b0c9",
      "metadata": {
        "papermill": {
          "duration": 0.022427,
          "end_time": "2025-06-25T15:13:36.638503",
          "exception": false,
          "start_time": "2025-06-25T15:13:36.616076",
          "status": "completed"
        },
        "tags": []
      },
      "source": [
        "#### 43. Make an array immutable (read-only) (\u2605\u2605\u2606)"
      ]
    },
    {
      "cell_type": "code",
      "execution_count": null,
      "id": "269e062e",
      "metadata": {
        "papermill": {
          "duration": 0.026149,
          "end_time": "2025-06-25T15:13:36.687002",
          "exception": false,
          "start_time": "2025-06-25T15:13:36.660853",
          "status": "completed"
        },
        "tags": []
      },
      "outputs": [],
      "source": []
    },
    {
      "cell_type": "markdown",
      "id": "a3e62ac4",
      "metadata": {
        "papermill": {
          "duration": 0.028794,
          "end_time": "2025-06-25T15:13:36.745149",
          "exception": false,
          "start_time": "2025-06-25T15:13:36.716355",
          "status": "completed"
        },
        "tags": []
      },
      "source": [
        "#### 44. Consider a random 10x2 matrix representing cartesian coordinates, convert them to polar coordinates (\u2605\u2605\u2606)"
      ]
    },
    {
      "cell_type": "code",
      "execution_count": null,
      "id": "95df9c6e",
      "metadata": {
        "papermill": {
          "duration": 0.022668,
          "end_time": "2025-06-25T15:13:36.790843",
          "exception": false,
          "start_time": "2025-06-25T15:13:36.768175",
          "status": "completed"
        },
        "tags": []
      },
      "outputs": [],
      "source": []
    },
    {
      "cell_type": "markdown",
      "id": "fb8584d4",
      "metadata": {
        "papermill": {
          "duration": 0.023393,
          "end_time": "2025-06-25T15:13:36.837127",
          "exception": false,
          "start_time": "2025-06-25T15:13:36.813734",
          "status": "completed"
        },
        "tags": []
      },
      "source": [
        "#### 45. Create random vector of size 10 and replace the maximum value by 0 (\u2605\u2605\u2606)"
      ]
    },
    {
      "cell_type": "code",
      "execution_count": null,
      "id": "b1180dd9",
      "metadata": {
        "papermill": {
          "duration": 0.022673,
          "end_time": "2025-06-25T15:13:36.884759",
          "exception": false,
          "start_time": "2025-06-25T15:13:36.862086",
          "status": "completed"
        },
        "tags": []
      },
      "outputs": [],
      "source": []
    },
    {
      "cell_type": "markdown",
      "id": "02cdbe3b",
      "metadata": {
        "papermill": {
          "duration": 0.023202,
          "end_time": "2025-06-25T15:13:36.930636",
          "exception": false,
          "start_time": "2025-06-25T15:13:36.907434",
          "status": "completed"
        },
        "tags": []
      },
      "source": [
        "#### 46. Create a structured array with `x` and `y` coordinates covering the [0,1]x[0,1] area (\u2605\u2605\u2606)"
      ]
    },
    {
      "cell_type": "code",
      "execution_count": null,
      "id": "7dbbf773",
      "metadata": {
        "papermill": {
          "duration": 0.022141,
          "end_time": "2025-06-25T15:13:36.975469",
          "exception": false,
          "start_time": "2025-06-25T15:13:36.953328",
          "status": "completed"
        },
        "tags": []
      },
      "outputs": [],
      "source": []
    },
    {
      "cell_type": "markdown",
      "id": "c772eb98",
      "metadata": {
        "papermill": {
          "duration": 0.022043,
          "end_time": "2025-06-25T15:13:37.019875",
          "exception": false,
          "start_time": "2025-06-25T15:13:36.997832",
          "status": "completed"
        },
        "tags": []
      },
      "source": [
        "#### 47. Given two arrays, X and Y, construct the Cauchy matrix C (Cij =1/(xi - yj)) (\u2605\u2605\u2606)"
      ]
    },
    {
      "cell_type": "code",
      "execution_count": null,
      "id": "8841e9ce",
      "metadata": {
        "papermill": {
          "duration": 0.023968,
          "end_time": "2025-06-25T15:13:37.066343",
          "exception": false,
          "start_time": "2025-06-25T15:13:37.042375",
          "status": "completed"
        },
        "tags": []
      },
      "outputs": [],
      "source": []
    },
    {
      "cell_type": "markdown",
      "id": "414e8e08",
      "metadata": {
        "papermill": {
          "duration": 0.022562,
          "end_time": "2025-06-25T15:13:37.111665",
          "exception": false,
          "start_time": "2025-06-25T15:13:37.089103",
          "status": "completed"
        },
        "tags": []
      },
      "source": [
        "#### 48. Print the minimum and maximum representable values for each numpy scalar type (\u2605\u2605\u2606)"
      ]
    },
    {
      "cell_type": "code",
      "execution_count": null,
      "id": "ba875212",
      "metadata": {
        "papermill": {
          "duration": 0.023194,
          "end_time": "2025-06-25T15:13:37.15808",
          "exception": false,
          "start_time": "2025-06-25T15:13:37.134886",
          "status": "completed"
        },
        "tags": []
      },
      "outputs": [],
      "source": []
    },
    {
      "cell_type": "markdown",
      "id": "fcc3889f",
      "metadata": {
        "papermill": {
          "duration": 0.022922,
          "end_time": "2025-06-25T15:13:37.205318",
          "exception": false,
          "start_time": "2025-06-25T15:13:37.182396",
          "status": "completed"
        },
        "tags": []
      },
      "source": [
        "#### 49. How to print all the values of an array? (\u2605\u2605\u2606)"
      ]
    },
    {
      "cell_type": "code",
      "execution_count": null,
      "id": "a70cff29",
      "metadata": {
        "papermill": {
          "duration": 0.023262,
          "end_time": "2025-06-25T15:13:37.252587",
          "exception": false,
          "start_time": "2025-06-25T15:13:37.229325",
          "status": "completed"
        },
        "tags": []
      },
      "outputs": [],
      "source": []
    },
    {
      "cell_type": "markdown",
      "id": "95fa408f",
      "metadata": {
        "papermill": {
          "duration": 0.022778,
          "end_time": "2025-06-25T15:13:37.29805",
          "exception": false,
          "start_time": "2025-06-25T15:13:37.275272",
          "status": "completed"
        },
        "tags": []
      },
      "source": [
        "#### 50. How to find the closest value (to a given scalar) in a vector? (\u2605\u2605\u2606)"
      ]
    },
    {
      "cell_type": "code",
      "execution_count": null,
      "id": "2335817d",
      "metadata": {
        "papermill": {
          "duration": 0.022422,
          "end_time": "2025-06-25T15:13:37.34409",
          "exception": false,
          "start_time": "2025-06-25T15:13:37.321668",
          "status": "completed"
        },
        "tags": []
      },
      "outputs": [],
      "source": []
    },
    {
      "cell_type": "markdown",
      "id": "4b3d20a7",
      "metadata": {
        "papermill": {
          "duration": 0.02228,
          "end_time": "2025-06-25T15:13:37.389169",
          "exception": false,
          "start_time": "2025-06-25T15:13:37.366889",
          "status": "completed"
        },
        "tags": []
      },
      "source": [
        "#### 51. Create a structured array representing a position (x,y) and a color (r,g,b) (\u2605\u2605\u2606)"
      ]
    },
    {
      "cell_type": "code",
      "execution_count": null,
      "id": "2a070d6a",
      "metadata": {
        "papermill": {
          "duration": 0.0227,
          "end_time": "2025-06-25T15:13:37.434828",
          "exception": false,
          "start_time": "2025-06-25T15:13:37.412128",
          "status": "completed"
        },
        "tags": []
      },
      "outputs": [],
      "source": []
    },
    {
      "cell_type": "markdown",
      "id": "c4cdd2b8",
      "metadata": {
        "papermill": {
          "duration": 0.022067,
          "end_time": "2025-06-25T15:13:37.479357",
          "exception": false,
          "start_time": "2025-06-25T15:13:37.45729",
          "status": "completed"
        },
        "tags": []
      },
      "source": [
        "#### 52. Consider a random vector with shape (100,2) representing coordinates, find point by point distances (\u2605\u2605\u2606)"
      ]
    },
    {
      "cell_type": "code",
      "execution_count": null,
      "id": "5668e9c6",
      "metadata": {
        "papermill": {
          "duration": 0.022197,
          "end_time": "2025-06-25T15:13:37.524246",
          "exception": false,
          "start_time": "2025-06-25T15:13:37.502049",
          "status": "completed"
        },
        "tags": []
      },
      "outputs": [],
      "source": []
    },
    {
      "cell_type": "markdown",
      "id": "bc3731df",
      "metadata": {
        "papermill": {
          "duration": 0.022803,
          "end_time": "2025-06-25T15:13:37.569616",
          "exception": false,
          "start_time": "2025-06-25T15:13:37.546813",
          "status": "completed"
        },
        "tags": []
      },
      "source": [
        "#### 53. How to convert a float (32 bits) array into an integer (32 bits) array in place?"
      ]
    },
    {
      "cell_type": "code",
      "execution_count": null,
      "id": "02f275e4",
      "metadata": {
        "papermill": {
          "duration": 0.046018,
          "end_time": "2025-06-25T15:13:37.639047",
          "exception": false,
          "start_time": "2025-06-25T15:13:37.593029",
          "status": "completed"
        },
        "tags": []
      },
      "outputs": [],
      "source": []
    },
    {
      "cell_type": "markdown",
      "id": "0f475b46",
      "metadata": {
        "papermill": {
          "duration": 0.023565,
          "end_time": "2025-06-25T15:13:37.689714",
          "exception": false,
          "start_time": "2025-06-25T15:13:37.666149",
          "status": "completed"
        },
        "tags": []
      },
      "source": [
        "#### 54. How to read the following file? (\u2605\u2605\u2606)\n",
        "```\n",
        "1, 2, 3, 4, 5\n",
        "6,  ,  , 7, 8\n",
        " ,  , 9,10,11\n",
        "```"
      ]
    },
    {
      "cell_type": "code",
      "execution_count": null,
      "id": "38d2dc99",
      "metadata": {
        "papermill": {
          "duration": 0.022644,
          "end_time": "2025-06-25T15:13:37.735766",
          "exception": false,
          "start_time": "2025-06-25T15:13:37.713122",
          "status": "completed"
        },
        "tags": []
      },
      "outputs": [],
      "source": []
    },
    {
      "cell_type": "markdown",
      "id": "89a93023",
      "metadata": {
        "papermill": {
          "duration": 0.022115,
          "end_time": "2025-06-25T15:13:37.784198",
          "exception": false,
          "start_time": "2025-06-25T15:13:37.762083",
          "status": "completed"
        },
        "tags": []
      },
      "source": [
        "#### 55. What is the equivalent of enumerate for numpy arrays? (\u2605\u2605\u2606)"
      ]
    },
    {
      "cell_type": "code",
      "execution_count": null,
      "id": "5da70f88",
      "metadata": {
        "papermill": {
          "duration": 0.021765,
          "end_time": "2025-06-25T15:13:37.828966",
          "exception": false,
          "start_time": "2025-06-25T15:13:37.807201",
          "status": "completed"
        },
        "tags": []
      },
      "outputs": [],
      "source": []
    },
    {
      "cell_type": "markdown",
      "id": "9eb1a415",
      "metadata": {
        "papermill": {
          "duration": 0.021911,
          "end_time": "2025-06-25T15:13:37.875286",
          "exception": false,
          "start_time": "2025-06-25T15:13:37.853375",
          "status": "completed"
        },
        "tags": []
      },
      "source": [
        "#### 56. Generate a generic 2D Gaussian-like array (\u2605\u2605\u2606)"
      ]
    },
    {
      "cell_type": "code",
      "execution_count": null,
      "id": "a0e92541",
      "metadata": {
        "papermill": {
          "duration": 0.021871,
          "end_time": "2025-06-25T15:13:37.919952",
          "exception": false,
          "start_time": "2025-06-25T15:13:37.898081",
          "status": "completed"
        },
        "tags": []
      },
      "outputs": [],
      "source": []
    },
    {
      "cell_type": "markdown",
      "id": "3aeb0a8b",
      "metadata": {
        "papermill": {
          "duration": 0.02186,
          "end_time": "2025-06-25T15:13:37.966219",
          "exception": false,
          "start_time": "2025-06-25T15:13:37.944359",
          "status": "completed"
        },
        "tags": []
      },
      "source": [
        "#### 57. How to randomly place p elements in a 2D array? (\u2605\u2605\u2606)"
      ]
    },
    {
      "cell_type": "code",
      "execution_count": null,
      "id": "4da1f9cf",
      "metadata": {
        "papermill": {
          "duration": 0.02238,
          "end_time": "2025-06-25T15:13:38.010625",
          "exception": false,
          "start_time": "2025-06-25T15:13:37.988245",
          "status": "completed"
        },
        "tags": []
      },
      "outputs": [],
      "source": []
    },
    {
      "cell_type": "markdown",
      "id": "fc219192",
      "metadata": {
        "papermill": {
          "duration": 0.022957,
          "end_time": "2025-06-25T15:13:38.055859",
          "exception": false,
          "start_time": "2025-06-25T15:13:38.032902",
          "status": "completed"
        },
        "tags": []
      },
      "source": [
        "#### 58. Subtract the mean of each row of a matrix (\u2605\u2605\u2606)"
      ]
    },
    {
      "cell_type": "code",
      "execution_count": null,
      "id": "24b6bc07",
      "metadata": {
        "papermill": {
          "duration": 0.021674,
          "end_time": "2025-06-25T15:13:38.099733",
          "exception": false,
          "start_time": "2025-06-25T15:13:38.078059",
          "status": "completed"
        },
        "tags": []
      },
      "outputs": [],
      "source": []
    },
    {
      "cell_type": "markdown",
      "id": "92a8ad88",
      "metadata": {
        "papermill": {
          "duration": 0.021771,
          "end_time": "2025-06-25T15:13:38.143348",
          "exception": false,
          "start_time": "2025-06-25T15:13:38.121577",
          "status": "completed"
        },
        "tags": []
      },
      "source": [
        "#### 59. How to sort an array by the nth column? (\u2605\u2605\u2606)"
      ]
    },
    {
      "cell_type": "code",
      "execution_count": null,
      "id": "dc4212f8",
      "metadata": {
        "papermill": {
          "duration": 0.02181,
          "end_time": "2025-06-25T15:13:38.187048",
          "exception": false,
          "start_time": "2025-06-25T15:13:38.165238",
          "status": "completed"
        },
        "tags": []
      },
      "outputs": [],
      "source": []
    },
    {
      "cell_type": "markdown",
      "id": "357a74c4",
      "metadata": {
        "papermill": {
          "duration": 0.02201,
          "end_time": "2025-06-25T15:13:38.231712",
          "exception": false,
          "start_time": "2025-06-25T15:13:38.209702",
          "status": "completed"
        },
        "tags": []
      },
      "source": [
        "#### 60. How to tell if a given 2D array has null columns? (\u2605\u2605\u2606)"
      ]
    },
    {
      "cell_type": "code",
      "execution_count": null,
      "id": "4e2ebab7",
      "metadata": {
        "papermill": {
          "duration": 0.021881,
          "end_time": "2025-06-25T15:13:38.275655",
          "exception": false,
          "start_time": "2025-06-25T15:13:38.253774",
          "status": "completed"
        },
        "tags": []
      },
      "outputs": [],
      "source": []
    },
    {
      "cell_type": "markdown",
      "id": "223e1c17",
      "metadata": {
        "papermill": {
          "duration": 0.022598,
          "end_time": "2025-06-25T15:13:38.320463",
          "exception": false,
          "start_time": "2025-06-25T15:13:38.297865",
          "status": "completed"
        },
        "tags": []
      },
      "source": [
        "#### 61. Find the nearest value from a given value in an array (\u2605\u2605\u2606)"
      ]
    },
    {
      "cell_type": "code",
      "execution_count": null,
      "id": "d1f88abe",
      "metadata": {
        "papermill": {
          "duration": 0.022701,
          "end_time": "2025-06-25T15:13:38.366232",
          "exception": false,
          "start_time": "2025-06-25T15:13:38.343531",
          "status": "completed"
        },
        "tags": []
      },
      "outputs": [],
      "source": []
    },
    {
      "cell_type": "markdown",
      "id": "be6460ab",
      "metadata": {
        "papermill": {
          "duration": 0.023111,
          "end_time": "2025-06-25T15:13:38.412259",
          "exception": false,
          "start_time": "2025-06-25T15:13:38.389148",
          "status": "completed"
        },
        "tags": []
      },
      "source": [
        "#### 62. Considering two arrays with shape (1,3) and (3,1), how to compute their sum using an iterator? (\u2605\u2605\u2606)"
      ]
    },
    {
      "cell_type": "code",
      "execution_count": null,
      "id": "76cc8e8b",
      "metadata": {
        "papermill": {
          "duration": 0.021975,
          "end_time": "2025-06-25T15:13:38.457133",
          "exception": false,
          "start_time": "2025-06-25T15:13:38.435158",
          "status": "completed"
        },
        "tags": []
      },
      "outputs": [],
      "source": []
    },
    {
      "cell_type": "markdown",
      "id": "8d6e0bca",
      "metadata": {
        "papermill": {
          "duration": 0.021875,
          "end_time": "2025-06-25T15:13:38.501671",
          "exception": false,
          "start_time": "2025-06-25T15:13:38.479796",
          "status": "completed"
        },
        "tags": []
      },
      "source": [
        "#### 63. Create an array class that has a name attribute (\u2605\u2605\u2606)"
      ]
    },
    {
      "cell_type": "code",
      "execution_count": null,
      "id": "8627e5a1",
      "metadata": {
        "papermill": {
          "duration": 0.021992,
          "end_time": "2025-06-25T15:13:38.54569",
          "exception": false,
          "start_time": "2025-06-25T15:13:38.523698",
          "status": "completed"
        },
        "tags": []
      },
      "outputs": [],
      "source": []
    },
    {
      "cell_type": "markdown",
      "id": "eac5df51",
      "metadata": {
        "papermill": {
          "duration": 0.02266,
          "end_time": "2025-06-25T15:13:38.591722",
          "exception": false,
          "start_time": "2025-06-25T15:13:38.569062",
          "status": "completed"
        },
        "tags": []
      },
      "source": [
        "#### 64. Consider a given vector, how to add 1 to each element indexed by a second vector (be careful with repeated indices)? (\u2605\u2605\u2605)"
      ]
    },
    {
      "cell_type": "code",
      "execution_count": null,
      "id": "aa548dca",
      "metadata": {
        "papermill": {
          "duration": 0.022656,
          "end_time": "2025-06-25T15:13:38.637407",
          "exception": false,
          "start_time": "2025-06-25T15:13:38.614751",
          "status": "completed"
        },
        "tags": []
      },
      "outputs": [],
      "source": []
    },
    {
      "cell_type": "markdown",
      "id": "103b6709",
      "metadata": {
        "papermill": {
          "duration": 0.022909,
          "end_time": "2025-06-25T15:13:38.683247",
          "exception": false,
          "start_time": "2025-06-25T15:13:38.660338",
          "status": "completed"
        },
        "tags": []
      },
      "source": [
        "#### 65. How to accumulate elements of a vector (X) to an array (F) based on an index list (I)? (\u2605\u2605\u2605)"
      ]
    },
    {
      "cell_type": "code",
      "execution_count": null,
      "id": "188bf032",
      "metadata": {
        "papermill": {
          "duration": 0.022618,
          "end_time": "2025-06-25T15:13:38.728621",
          "exception": false,
          "start_time": "2025-06-25T15:13:38.706003",
          "status": "completed"
        },
        "tags": []
      },
      "outputs": [],
      "source": []
    },
    {
      "cell_type": "markdown",
      "id": "e2614bc8",
      "metadata": {
        "papermill": {
          "duration": 0.02234,
          "end_time": "2025-06-25T15:13:38.774722",
          "exception": false,
          "start_time": "2025-06-25T15:13:38.752382",
          "status": "completed"
        },
        "tags": []
      },
      "source": [
        "#### 66. Considering a (w,h,3) image of (dtype=ubyte), compute the number of unique colors (\u2605\u2605\u2606)"
      ]
    },
    {
      "cell_type": "code",
      "execution_count": null,
      "id": "abd1f7ad",
      "metadata": {
        "papermill": {
          "duration": 0.022772,
          "end_time": "2025-06-25T15:13:38.82049",
          "exception": false,
          "start_time": "2025-06-25T15:13:38.797718",
          "status": "completed"
        },
        "tags": []
      },
      "outputs": [],
      "source": []
    },
    {
      "cell_type": "markdown",
      "id": "b6c7433e",
      "metadata": {
        "papermill": {
          "duration": 0.023586,
          "end_time": "2025-06-25T15:13:38.866925",
          "exception": false,
          "start_time": "2025-06-25T15:13:38.843339",
          "status": "completed"
        },
        "tags": []
      },
      "source": [
        "#### 67. Considering a four dimensions array, how to get sum over the last two axis at once? (\u2605\u2605\u2605)"
      ]
    },
    {
      "cell_type": "code",
      "execution_count": null,
      "id": "662c536c",
      "metadata": {
        "papermill": {
          "duration": 0.022975,
          "end_time": "2025-06-25T15:13:38.912208",
          "exception": false,
          "start_time": "2025-06-25T15:13:38.889233",
          "status": "completed"
        },
        "tags": []
      },
      "outputs": [],
      "source": []
    },
    {
      "cell_type": "markdown",
      "id": "1ad56e6c",
      "metadata": {
        "papermill": {
          "duration": 0.023352,
          "end_time": "2025-06-25T15:13:38.957604",
          "exception": false,
          "start_time": "2025-06-25T15:13:38.934252",
          "status": "completed"
        },
        "tags": []
      },
      "source": [
        "#### 68. Considering a one-dimensional vector D, how to compute means of subsets of D using a vector S of same size describing subset  indices? (\u2605\u2605\u2605)"
      ]
    },
    {
      "cell_type": "code",
      "execution_count": null,
      "id": "1357779f",
      "metadata": {
        "papermill": {
          "duration": 0.02244,
          "end_time": "2025-06-25T15:13:39.001869",
          "exception": false,
          "start_time": "2025-06-25T15:13:38.979429",
          "status": "completed"
        },
        "tags": []
      },
      "outputs": [],
      "source": []
    },
    {
      "cell_type": "markdown",
      "id": "1a4b5bea",
      "metadata": {
        "papermill": {
          "duration": 0.022125,
          "end_time": "2025-06-25T15:13:39.046852",
          "exception": false,
          "start_time": "2025-06-25T15:13:39.024727",
          "status": "completed"
        },
        "tags": []
      },
      "source": [
        "#### 69. How to get the diagonal of a dot product? (\u2605\u2605\u2605)"
      ]
    },
    {
      "cell_type": "code",
      "execution_count": null,
      "id": "5fcbd599",
      "metadata": {
        "papermill": {
          "duration": 0.021477,
          "end_time": "2025-06-25T15:13:39.09066",
          "exception": false,
          "start_time": "2025-06-25T15:13:39.069183",
          "status": "completed"
        },
        "tags": []
      },
      "outputs": [],
      "source": []
    },
    {
      "cell_type": "markdown",
      "id": "976954a1",
      "metadata": {
        "papermill": {
          "duration": 0.021712,
          "end_time": "2025-06-25T15:13:39.134673",
          "exception": false,
          "start_time": "2025-06-25T15:13:39.112961",
          "status": "completed"
        },
        "tags": []
      },
      "source": [
        "#### 70. Consider the vector [1, 2, 3, 4, 5], how to build a new vector with 3 consecutive zeros interleaved between each value? (\u2605\u2605\u2605)"
      ]
    },
    {
      "cell_type": "code",
      "execution_count": null,
      "id": "9ecf10b4",
      "metadata": {
        "papermill": {
          "duration": 0.022204,
          "end_time": "2025-06-25T15:13:39.17937",
          "exception": false,
          "start_time": "2025-06-25T15:13:39.157166",
          "status": "completed"
        },
        "tags": []
      },
      "outputs": [],
      "source": []
    },
    {
      "cell_type": "markdown",
      "id": "60225bec",
      "metadata": {
        "papermill": {
          "duration": 0.022012,
          "end_time": "2025-06-25T15:13:39.223249",
          "exception": false,
          "start_time": "2025-06-25T15:13:39.201237",
          "status": "completed"
        },
        "tags": []
      },
      "source": [
        "#### 71. Consider an array of dimension (5,5,3), how to multiply it by an array with dimensions (5,5)? (\u2605\u2605\u2605)"
      ]
    },
    {
      "cell_type": "code",
      "execution_count": null,
      "id": "242c3fae",
      "metadata": {
        "papermill": {
          "duration": 0.021825,
          "end_time": "2025-06-25T15:13:39.267145",
          "exception": false,
          "start_time": "2025-06-25T15:13:39.24532",
          "status": "completed"
        },
        "tags": []
      },
      "outputs": [],
      "source": []
    },
    {
      "cell_type": "markdown",
      "id": "e375ea0c",
      "metadata": {
        "papermill": {
          "duration": 0.021871,
          "end_time": "2025-06-25T15:13:39.311825",
          "exception": false,
          "start_time": "2025-06-25T15:13:39.289954",
          "status": "completed"
        },
        "tags": []
      },
      "source": [
        "#### 72. How to swap two rows of an array? (\u2605\u2605\u2605)"
      ]
    },
    {
      "cell_type": "code",
      "execution_count": null,
      "id": "f290ff1f",
      "metadata": {
        "papermill": {
          "duration": 0.021712,
          "end_time": "2025-06-25T15:13:39.355645",
          "exception": false,
          "start_time": "2025-06-25T15:13:39.333933",
          "status": "completed"
        },
        "tags": []
      },
      "outputs": [],
      "source": []
    },
    {
      "cell_type": "markdown",
      "id": "f16a7040",
      "metadata": {
        "papermill": {
          "duration": 0.021917,
          "end_time": "2025-06-25T15:13:39.399572",
          "exception": false,
          "start_time": "2025-06-25T15:13:39.377655",
          "status": "completed"
        },
        "tags": []
      },
      "source": [
        "#### 73. Consider a set of 10 triplets describing 10 triangles (with shared vertices), find the set of unique line segments composing all the  triangles (\u2605\u2605\u2605)"
      ]
    },
    {
      "cell_type": "code",
      "execution_count": null,
      "id": "85287d74",
      "metadata": {
        "papermill": {
          "duration": 0.089387,
          "end_time": "2025-06-25T15:13:39.511052",
          "exception": false,
          "start_time": "2025-06-25T15:13:39.421665",
          "status": "completed"
        },
        "tags": []
      },
      "outputs": [],
      "source": []
    },
    {
      "cell_type": "markdown",
      "id": "c2a69869",
      "metadata": {
        "papermill": {
          "duration": 0.021786,
          "end_time": "2025-06-25T15:13:39.555081",
          "exception": false,
          "start_time": "2025-06-25T15:13:39.533295",
          "status": "completed"
        },
        "tags": []
      },
      "source": [
        "#### 74. Given a sorted array C that corresponds to a bincount, how to produce an array A such that np.bincount(A) == C? (\u2605\u2605\u2605)"
      ]
    },
    {
      "cell_type": "code",
      "execution_count": null,
      "id": "9159de51",
      "metadata": {
        "papermill": {
          "duration": 0.023206,
          "end_time": "2025-06-25T15:13:39.60058",
          "exception": false,
          "start_time": "2025-06-25T15:13:39.577374",
          "status": "completed"
        },
        "tags": []
      },
      "outputs": [],
      "source": []
    },
    {
      "cell_type": "markdown",
      "id": "62e40bcf",
      "metadata": {
        "papermill": {
          "duration": 0.02245,
          "end_time": "2025-06-25T15:13:39.646725",
          "exception": false,
          "start_time": "2025-06-25T15:13:39.624275",
          "status": "completed"
        },
        "tags": []
      },
      "source": [
        "#### 75. How to compute averages using a sliding window over an array? (\u2605\u2605\u2605)"
      ]
    },
    {
      "cell_type": "code",
      "execution_count": null,
      "id": "77a3f562",
      "metadata": {
        "papermill": {
          "duration": 0.022024,
          "end_time": "2025-06-25T15:13:39.690887",
          "exception": false,
          "start_time": "2025-06-25T15:13:39.668863",
          "status": "completed"
        },
        "tags": []
      },
      "outputs": [],
      "source": []
    },
    {
      "cell_type": "markdown",
      "id": "ce608ebe",
      "metadata": {
        "papermill": {
          "duration": 0.021728,
          "end_time": "2025-06-25T15:13:39.734622",
          "exception": false,
          "start_time": "2025-06-25T15:13:39.712894",
          "status": "completed"
        },
        "tags": []
      },
      "source": [
        "#### 76. Consider a one-dimensional array Z, build a two-dimensional array whose first row is (Z[0],Z[1],Z[2]) and each subsequent row is  shifted by 1 (last row should be (Z[-3],Z[-2],Z[-1]) (\u2605\u2605\u2605)"
      ]
    },
    {
      "cell_type": "code",
      "execution_count": null,
      "id": "f699a4eb",
      "metadata": {
        "papermill": {
          "duration": 0.02254,
          "end_time": "2025-06-25T15:13:39.779247",
          "exception": false,
          "start_time": "2025-06-25T15:13:39.756707",
          "status": "completed"
        },
        "tags": []
      },
      "outputs": [],
      "source": []
    },
    {
      "cell_type": "markdown",
      "id": "8981393c",
      "metadata": {
        "papermill": {
          "duration": 0.022366,
          "end_time": "2025-06-25T15:13:39.823807",
          "exception": false,
          "start_time": "2025-06-25T15:13:39.801441",
          "status": "completed"
        },
        "tags": []
      },
      "source": [
        "#### 77. How to negate a boolean, or to change the sign of a float inplace? (\u2605\u2605\u2605)"
      ]
    },
    {
      "cell_type": "code",
      "execution_count": null,
      "id": "3768faf9",
      "metadata": {
        "papermill": {
          "duration": 0.022113,
          "end_time": "2025-06-25T15:13:39.86783",
          "exception": false,
          "start_time": "2025-06-25T15:13:39.845717",
          "status": "completed"
        },
        "tags": []
      },
      "outputs": [],
      "source": []
    },
    {
      "cell_type": "markdown",
      "id": "622173c8",
      "metadata": {
        "papermill": {
          "duration": 0.02254,
          "end_time": "2025-06-25T15:13:39.912942",
          "exception": false,
          "start_time": "2025-06-25T15:13:39.890402",
          "status": "completed"
        },
        "tags": []
      },
      "source": [
        "#### 78. Consider 2 sets of points P0,P1 describing lines (2d) and a point p, how to compute distance from p to each line i (P0[i],P1[i])? (\u2605\u2605\u2605)"
      ]
    },
    {
      "cell_type": "code",
      "execution_count": null,
      "id": "45e04ed3",
      "metadata": {
        "papermill": {
          "duration": 0.023377,
          "end_time": "2025-06-25T15:13:39.958307",
          "exception": false,
          "start_time": "2025-06-25T15:13:39.93493",
          "status": "completed"
        },
        "tags": []
      },
      "outputs": [],
      "source": []
    },
    {
      "cell_type": "markdown",
      "id": "041824da",
      "metadata": {
        "papermill": {
          "duration": 0.033604,
          "end_time": "2025-06-25T15:13:40.016482",
          "exception": false,
          "start_time": "2025-06-25T15:13:39.982878",
          "status": "completed"
        },
        "tags": []
      },
      "source": [
        "#### 79. Consider 2 sets of points P0,P1 describing lines (2d) and a set of points P, how to compute distance from each point j (P[j]) to each line i (P0[i],P1[i])? (\u2605\u2605\u2605)"
      ]
    },
    {
      "cell_type": "code",
      "execution_count": null,
      "id": "613148f1",
      "metadata": {
        "papermill": {
          "duration": 0.023607,
          "end_time": "2025-06-25T15:13:40.062771",
          "exception": false,
          "start_time": "2025-06-25T15:13:40.039164",
          "status": "completed"
        },
        "tags": []
      },
      "outputs": [],
      "source": []
    },
    {
      "cell_type": "markdown",
      "id": "4d72a6e2",
      "metadata": {
        "papermill": {
          "duration": 0.021833,
          "end_time": "2025-06-25T15:13:40.106833",
          "exception": false,
          "start_time": "2025-06-25T15:13:40.085",
          "status": "completed"
        },
        "tags": []
      },
      "source": [
        "#### 80. Consider an arbitrary array, write a function that extracts a subpart with a fixed shape and centered on a given element (pad with a `fill` value when necessary) (\u2605\u2605\u2605)"
      ]
    },
    {
      "cell_type": "code",
      "execution_count": null,
      "id": "e91e46c9",
      "metadata": {
        "papermill": {
          "duration": 0.022143,
          "end_time": "2025-06-25T15:13:40.150867",
          "exception": false,
          "start_time": "2025-06-25T15:13:40.128724",
          "status": "completed"
        },
        "tags": []
      },
      "outputs": [],
      "source": []
    },
    {
      "cell_type": "markdown",
      "id": "353e8f39",
      "metadata": {
        "papermill": {
          "duration": 0.022322,
          "end_time": "2025-06-25T15:13:40.19503",
          "exception": false,
          "start_time": "2025-06-25T15:13:40.172708",
          "status": "completed"
        },
        "tags": []
      },
      "source": [
        "#### 81. Consider an array Z = [1,2,3,4,5,6,7,8,9,10,11,12,13,14], how to generate an array R = [[1,2,3,4], [2,3,4,5], [3,4,5,6], ..., [11,12,13,14]]? (\u2605\u2605\u2605)"
      ]
    },
    {
      "cell_type": "code",
      "execution_count": null,
      "id": "f25d61e9",
      "metadata": {
        "papermill": {
          "duration": 0.021735,
          "end_time": "2025-06-25T15:13:40.238963",
          "exception": false,
          "start_time": "2025-06-25T15:13:40.217228",
          "status": "completed"
        },
        "tags": []
      },
      "outputs": [],
      "source": []
    },
    {
      "cell_type": "markdown",
      "id": "389bec48",
      "metadata": {
        "papermill": {
          "duration": 0.022268,
          "end_time": "2025-06-25T15:13:40.284481",
          "exception": false,
          "start_time": "2025-06-25T15:13:40.262213",
          "status": "completed"
        },
        "tags": []
      },
      "source": [
        "#### 82. Compute a matrix rank (\u2605\u2605\u2605)"
      ]
    },
    {
      "cell_type": "code",
      "execution_count": null,
      "id": "56e44925",
      "metadata": {
        "papermill": {
          "duration": 0.022688,
          "end_time": "2025-06-25T15:13:40.329544",
          "exception": false,
          "start_time": "2025-06-25T15:13:40.306856",
          "status": "completed"
        },
        "tags": []
      },
      "outputs": [],
      "source": []
    },
    {
      "cell_type": "markdown",
      "id": "a33b2048",
      "metadata": {
        "papermill": {
          "duration": 0.02204,
          "end_time": "2025-06-25T15:13:40.374375",
          "exception": false,
          "start_time": "2025-06-25T15:13:40.352335",
          "status": "completed"
        },
        "tags": []
      },
      "source": [
        "#### 83. How to find the most frequent value in an array?"
      ]
    },
    {
      "cell_type": "code",
      "execution_count": null,
      "id": "4db6c24d",
      "metadata": {
        "papermill": {
          "duration": 0.02294,
          "end_time": "2025-06-25T15:13:40.419557",
          "exception": false,
          "start_time": "2025-06-25T15:13:40.396617",
          "status": "completed"
        },
        "tags": []
      },
      "outputs": [],
      "source": []
    },
    {
      "cell_type": "markdown",
      "id": "842e0eaf",
      "metadata": {
        "papermill": {
          "duration": 0.021918,
          "end_time": "2025-06-25T15:13:40.463939",
          "exception": false,
          "start_time": "2025-06-25T15:13:40.442021",
          "status": "completed"
        },
        "tags": []
      },
      "source": [
        "#### 84. Extract all the contiguous 3x3 blocks from a random 10x10 matrix (\u2605\u2605\u2605)"
      ]
    },
    {
      "cell_type": "code",
      "execution_count": null,
      "id": "4ca368ec",
      "metadata": {
        "papermill": {
          "duration": 0.022803,
          "end_time": "2025-06-25T15:13:40.509145",
          "exception": false,
          "start_time": "2025-06-25T15:13:40.486342",
          "status": "completed"
        },
        "tags": []
      },
      "outputs": [],
      "source": []
    },
    {
      "cell_type": "markdown",
      "id": "0244929b",
      "metadata": {
        "papermill": {
          "duration": 0.021829,
          "end_time": "2025-06-25T15:13:40.553406",
          "exception": false,
          "start_time": "2025-06-25T15:13:40.531577",
          "status": "completed"
        },
        "tags": []
      },
      "source": [
        "#### 85. Create a 2D array subclass such that Z[i,j] == Z[j,i] (\u2605\u2605\u2605)"
      ]
    },
    {
      "cell_type": "code",
      "execution_count": null,
      "id": "eb1d6fb9",
      "metadata": {
        "papermill": {
          "duration": 0.022038,
          "end_time": "2025-06-25T15:13:40.598294",
          "exception": false,
          "start_time": "2025-06-25T15:13:40.576256",
          "status": "completed"
        },
        "tags": []
      },
      "outputs": [],
      "source": []
    },
    {
      "cell_type": "markdown",
      "id": "460e9647",
      "metadata": {
        "papermill": {
          "duration": 0.022077,
          "end_time": "2025-06-25T15:13:40.642889",
          "exception": false,
          "start_time": "2025-06-25T15:13:40.620812",
          "status": "completed"
        },
        "tags": []
      },
      "source": [
        "#### 86. Consider a set of p matrices with shape (n,n) and a set of p vectors with shape (n,1). How to compute the sum of of the p matrix products at once? (result has shape (n,1)) (\u2605\u2605\u2605)"
      ]
    },
    {
      "cell_type": "code",
      "execution_count": null,
      "id": "f3b7df20",
      "metadata": {
        "papermill": {
          "duration": 0.023172,
          "end_time": "2025-06-25T15:13:40.68847",
          "exception": false,
          "start_time": "2025-06-25T15:13:40.665298",
          "status": "completed"
        },
        "tags": []
      },
      "outputs": [],
      "source": []
    },
    {
      "cell_type": "markdown",
      "id": "34e7acce",
      "metadata": {
        "papermill": {
          "duration": 0.021718,
          "end_time": "2025-06-25T15:13:40.733561",
          "exception": false,
          "start_time": "2025-06-25T15:13:40.711843",
          "status": "completed"
        },
        "tags": []
      },
      "source": [
        "#### 87. Consider a 16x16 array, how to get the block-sum (block size is 4x4)? (\u2605\u2605\u2605)"
      ]
    },
    {
      "cell_type": "code",
      "execution_count": null,
      "id": "f2559260",
      "metadata": {
        "papermill": {
          "duration": 0.021677,
          "end_time": "2025-06-25T15:13:40.777896",
          "exception": false,
          "start_time": "2025-06-25T15:13:40.756219",
          "status": "completed"
        },
        "tags": []
      },
      "outputs": [],
      "source": []
    },
    {
      "cell_type": "markdown",
      "id": "b3c7f338",
      "metadata": {
        "papermill": {
          "duration": 0.021824,
          "end_time": "2025-06-25T15:13:40.821787",
          "exception": false,
          "start_time": "2025-06-25T15:13:40.799963",
          "status": "completed"
        },
        "tags": []
      },
      "source": [
        "#### 88. How to implement the Game of Life using numpy arrays? (\u2605\u2605\u2605)"
      ]
    },
    {
      "cell_type": "code",
      "execution_count": null,
      "id": "8cf8c988",
      "metadata": {
        "papermill": {
          "duration": 0.022322,
          "end_time": "2025-06-25T15:13:40.866133",
          "exception": false,
          "start_time": "2025-06-25T15:13:40.843811",
          "status": "completed"
        },
        "tags": []
      },
      "outputs": [],
      "source": []
    },
    {
      "cell_type": "markdown",
      "id": "16207e98",
      "metadata": {
        "papermill": {
          "duration": 0.023715,
          "end_time": "2025-06-25T15:13:40.921251",
          "exception": false,
          "start_time": "2025-06-25T15:13:40.897536",
          "status": "completed"
        },
        "tags": []
      },
      "source": [
        "#### 89. How to get the n largest values of an array (\u2605\u2605\u2605)"
      ]
    },
    {
      "cell_type": "code",
      "execution_count": null,
      "id": "7ff93992",
      "metadata": {
        "papermill": {
          "duration": 0.022633,
          "end_time": "2025-06-25T15:13:40.967865",
          "exception": false,
          "start_time": "2025-06-25T15:13:40.945232",
          "status": "completed"
        },
        "tags": []
      },
      "outputs": [],
      "source": []
    },
    {
      "cell_type": "markdown",
      "id": "304ab34e",
      "metadata": {
        "papermill": {
          "duration": 0.022438,
          "end_time": "2025-06-25T15:13:41.012643",
          "exception": false,
          "start_time": "2025-06-25T15:13:40.990205",
          "status": "completed"
        },
        "tags": []
      },
      "source": [
        "#### 90. Given an arbitrary number of vectors, build the cartesian product (every combination of every item) (\u2605\u2605\u2605)"
      ]
    },
    {
      "cell_type": "code",
      "execution_count": null,
      "id": "9e701e71",
      "metadata": {
        "papermill": {
          "duration": 0.035356,
          "end_time": "2025-06-25T15:13:41.075915",
          "exception": false,
          "start_time": "2025-06-25T15:13:41.040559",
          "status": "completed"
        },
        "tags": []
      },
      "outputs": [],
      "source": []
    },
    {
      "cell_type": "markdown",
      "id": "27e33a62",
      "metadata": {
        "papermill": {
          "duration": 0.026454,
          "end_time": "2025-06-25T15:13:41.13021",
          "exception": false,
          "start_time": "2025-06-25T15:13:41.103756",
          "status": "completed"
        },
        "tags": []
      },
      "source": [
        "#### 91. How to create a record array from a regular array? (\u2605\u2605\u2605)"
      ]
    },
    {
      "cell_type": "code",
      "execution_count": null,
      "id": "f4f6bfd5",
      "metadata": {
        "papermill": {
          "duration": 0.02188,
          "end_time": "2025-06-25T15:13:41.174618",
          "exception": false,
          "start_time": "2025-06-25T15:13:41.152738",
          "status": "completed"
        },
        "tags": []
      },
      "outputs": [],
      "source": []
    },
    {
      "cell_type": "markdown",
      "id": "90b5e5e7",
      "metadata": {
        "papermill": {
          "duration": 0.023134,
          "end_time": "2025-06-25T15:13:41.220737",
          "exception": false,
          "start_time": "2025-06-25T15:13:41.197603",
          "status": "completed"
        },
        "tags": []
      },
      "source": [
        "#### 92. Consider a large vector Z, compute Z to the power of 3 using 3 different methods (\u2605\u2605\u2605)"
      ]
    },
    {
      "cell_type": "code",
      "execution_count": null,
      "id": "6ddc77ed",
      "metadata": {
        "papermill": {
          "duration": 0.022391,
          "end_time": "2025-06-25T15:13:41.265777",
          "exception": false,
          "start_time": "2025-06-25T15:13:41.243386",
          "status": "completed"
        },
        "tags": []
      },
      "outputs": [],
      "source": []
    },
    {
      "cell_type": "markdown",
      "id": "858dd961",
      "metadata": {
        "papermill": {
          "duration": 0.022589,
          "end_time": "2025-06-25T15:13:41.311722",
          "exception": false,
          "start_time": "2025-06-25T15:13:41.289133",
          "status": "completed"
        },
        "tags": []
      },
      "source": [
        "#### 93. Consider two arrays A and B of shape (8,3) and (2,2). How to find rows of A that contain elements of each row of B regardless of the order of the elements in B? (\u2605\u2605\u2605)"
      ]
    },
    {
      "cell_type": "code",
      "execution_count": null,
      "id": "cb4f02da",
      "metadata": {
        "papermill": {
          "duration": 0.02266,
          "end_time": "2025-06-25T15:13:41.357676",
          "exception": false,
          "start_time": "2025-06-25T15:13:41.335016",
          "status": "completed"
        },
        "tags": []
      },
      "outputs": [],
      "source": []
    },
    {
      "cell_type": "markdown",
      "id": "1cfab635",
      "metadata": {
        "papermill": {
          "duration": 0.023012,
          "end_time": "2025-06-25T15:13:41.403817",
          "exception": false,
          "start_time": "2025-06-25T15:13:41.380805",
          "status": "completed"
        },
        "tags": []
      },
      "source": [
        "#### 94. Considering a 10x3 matrix, extract rows with unequal values (e.g. [2,2,3]) (\u2605\u2605\u2605)"
      ]
    },
    {
      "cell_type": "code",
      "execution_count": null,
      "id": "4d431215",
      "metadata": {
        "papermill": {
          "duration": 0.022451,
          "end_time": "2025-06-25T15:13:41.449377",
          "exception": false,
          "start_time": "2025-06-25T15:13:41.426926",
          "status": "completed"
        },
        "tags": []
      },
      "outputs": [],
      "source": []
    },
    {
      "cell_type": "markdown",
      "id": "6fd4df20",
      "metadata": {
        "papermill": {
          "duration": 0.023623,
          "end_time": "2025-06-25T15:13:41.495909",
          "exception": false,
          "start_time": "2025-06-25T15:13:41.472286",
          "status": "completed"
        },
        "tags": []
      },
      "source": [
        "#### 95. Convert a vector of ints into a matrix binary representation (\u2605\u2605\u2605)"
      ]
    },
    {
      "cell_type": "code",
      "execution_count": null,
      "id": "60e7d2f1",
      "metadata": {
        "papermill": {
          "duration": 0.022731,
          "end_time": "2025-06-25T15:13:41.541036",
          "exception": false,
          "start_time": "2025-06-25T15:13:41.518305",
          "status": "completed"
        },
        "tags": []
      },
      "outputs": [],
      "source": []
    },
    {
      "cell_type": "markdown",
      "id": "e9876ebb",
      "metadata": {
        "papermill": {
          "duration": 0.023215,
          "end_time": "2025-06-25T15:13:41.586777",
          "exception": false,
          "start_time": "2025-06-25T15:13:41.563562",
          "status": "completed"
        },
        "tags": []
      },
      "source": [
        "#### 96. Given a two dimensional array, how to extract unique rows? (\u2605\u2605\u2605)"
      ]
    },
    {
      "cell_type": "code",
      "execution_count": null,
      "id": "aa1511b3",
      "metadata": {
        "papermill": {
          "duration": 0.022437,
          "end_time": "2025-06-25T15:13:41.632998",
          "exception": false,
          "start_time": "2025-06-25T15:13:41.610561",
          "status": "completed"
        },
        "tags": []
      },
      "outputs": [],
      "source": []
    },
    {
      "cell_type": "markdown",
      "id": "10c30db5",
      "metadata": {
        "papermill": {
          "duration": 0.021992,
          "end_time": "2025-06-25T15:13:41.677198",
          "exception": false,
          "start_time": "2025-06-25T15:13:41.655206",
          "status": "completed"
        },
        "tags": []
      },
      "source": [
        "#### 97. Considering 2 vectors A & B, write the einsum equivalent of inner, outer, sum, and mul function (\u2605\u2605\u2605)"
      ]
    },
    {
      "cell_type": "code",
      "execution_count": null,
      "id": "5cb55b1f",
      "metadata": {
        "papermill": {
          "duration": 0.022093,
          "end_time": "2025-06-25T15:13:41.721662",
          "exception": false,
          "start_time": "2025-06-25T15:13:41.699569",
          "status": "completed"
        },
        "tags": []
      },
      "outputs": [],
      "source": []
    },
    {
      "cell_type": "markdown",
      "id": "77cb5ef7",
      "metadata": {
        "papermill": {
          "duration": 0.022143,
          "end_time": "2025-06-25T15:13:41.76654",
          "exception": false,
          "start_time": "2025-06-25T15:13:41.744397",
          "status": "completed"
        },
        "tags": []
      },
      "source": [
        "#### 98. Considering a path described by two vectors (X,Y), how to sample it using equidistant samples (\u2605\u2605\u2605)?"
      ]
    },
    {
      "cell_type": "code",
      "execution_count": null,
      "id": "d47786bb",
      "metadata": {
        "papermill": {
          "duration": 0.022071,
          "end_time": "2025-06-25T15:13:41.81092",
          "exception": false,
          "start_time": "2025-06-25T15:13:41.788849",
          "status": "completed"
        },
        "tags": []
      },
      "outputs": [],
      "source": []
    },
    {
      "cell_type": "markdown",
      "id": "a522bc9e",
      "metadata": {
        "papermill": {
          "duration": 0.022126,
          "end_time": "2025-06-25T15:13:41.855342",
          "exception": false,
          "start_time": "2025-06-25T15:13:41.833216",
          "status": "completed"
        },
        "tags": []
      },
      "source": [
        "#### 99. Given an integer n and a 2D array X, select from X the rows which can be interpreted as draws from a multinomial distribution with n degrees, i.e., the rows which only contain integers and which sum to n. (\u2605\u2605\u2605)"
      ]
    },
    {
      "cell_type": "code",
      "execution_count": null,
      "id": "ef985011",
      "metadata": {
        "papermill": {
          "duration": 0.023263,
          "end_time": "2025-06-25T15:13:41.901089",
          "exception": false,
          "start_time": "2025-06-25T15:13:41.877826",
          "status": "completed"
        },
        "tags": []
      },
      "outputs": [],
      "source": []
    },
    {
      "cell_type": "markdown",
      "id": "954edc6c",
      "metadata": {
        "papermill": {
          "duration": 0.023022,
          "end_time": "2025-06-25T15:13:41.946315",
          "exception": false,
          "start_time": "2025-06-25T15:13:41.923293",
          "status": "completed"
        },
        "tags": []
      },
      "source": [
        "#### 100. Compute bootstrapped 95% confidence intervals for the mean of a 1D array X (i.e., resample the elements of an array with replacement N times, compute the mean of each sample, and then compute percentiles over the means). (\u2605\u2605\u2605)"
      ]
    },
    {
      "cell_type": "code",
      "execution_count": null,
      "id": "584cb2ef",
      "metadata": {
        "papermill": {
          "duration": 0.022349,
          "end_time": "2025-06-25T15:13:41.991398",
          "exception": false,
          "start_time": "2025-06-25T15:13:41.969049",
          "status": "completed"
        },
        "tags": []
      },
      "outputs": [],
      "source": []
    }
  ],
  "metadata": {
    "kaggle": {
      "accelerator": "none",
      "dataSources": [],
      "isGpuEnabled": false,
      "isInternetEnabled": true,
      "language": "python",
      "sourceType": "notebook"
    },
    "kernelspec": {
      "display_name": "Python 3",
      "language": "python",
      "name": "python3"
    },
    "language_info": {
      "codemirror_mode": {
        "name": "ipython",
        "version": 3
      },
      "file_extension": ".py",
      "mimetype": "text/x-python",
      "name": "python",
      "nbconvert_exporter": "python",
      "pygments_lexer": "ipython3",
      "version": "3.11.11"
    },
    "papermill": {
      "default_parameters": {},
      "duration": 14.834692,
      "end_time": "2025-06-25T15:13:42.434085",
      "environment_variables": {},
      "exception": null,
      "input_path": "__notebook__.ipynb",
      "output_path": "__notebook__.ipynb",
      "parameters": {},
      "start_time": "2025-06-25T15:13:27.599393",
      "version": "2.6.0"
    }
  },
  "nbformat": 4,
  "nbformat_minor": 5
}
