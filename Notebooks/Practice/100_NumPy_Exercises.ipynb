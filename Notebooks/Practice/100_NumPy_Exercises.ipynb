{
  "cells": [
    {
      "cell_type": "markdown",
      "metadata": {},
      "source": "<a href=\"https://www.kaggle.com/code/gvatsal60/100-numpy-exercises?scriptVersionId=247452712\" target=\"_blank\"><img align=\"left\" alt=\"Kaggle\" title=\"Open in Kaggle\" src=\"https://kaggle.com/static/images/open-in-kaggle.svg\"></a>"
    },
    {
      "cell_type": "markdown",
      "id": "f1639dcc",
      "metadata": {
        "papermill": {
          "duration": 0.023689,
          "end_time": "2025-06-26T08:24:02.194805",
          "exception": false,
          "start_time": "2025-06-26T08:24:02.171116",
          "status": "completed"
        },
        "tags": []
      },
      "source": [
        "# \ud83c\udfaf 100 NumPy Exercises\n",
        "\n",
        "Welcome to **100 NumPy Exercises** \u2014 a curated collection of problems designed to sharpen your skills in NumPy, whether you're a beginner or a seasoned data wrangler.\n",
        "\n",
        "---\n",
        "\n",
        "\ud83d\udccc **About This Collection**\n",
        "\n",
        "This set of exercises has been gathered from:\n",
        "- The **NumPy mailing list**\n",
        "- **Stack Overflow** discussions\n",
        "- The **official NumPy documentation**\n",
        "\n",
        "The primary goal is to serve as:\n",
        "- \ud83d\udcda A quick reference for both new and experienced users  \n",
        "- \ud83c\udf93 A practical toolkit for educators and learners\n",
        "\n",
        "---\n",
        "\n",
        "\ud83d\udcac **Suggestions or Corrections?**\n",
        "\n",
        "If you find an error or have a better solution, feel free to contribute!  \n",
        "\u27a1\ufe0f Open an issue here: [numpy-100 GitHub Issues](https://github.com/rougier/numpy-100/issues)\n",
        "\n",
        "---\n",
        "\n",
        "\ud83d\udcc4 **Credits and Licensing**\n",
        "\n",
        "Includes code and ideas derived from work by [Nicolas P. Rougier](https://github.com/rougier), \n",
        "used in accordance with the terms of the original [license](https://github.com/rougier/numpy-100/blob/master/LICENSE.txt).\n",
        "\n",
        "---\n",
        "\n",
        "\ud83e\udde0 **Ready to dive in?**  \n",
        "Let\u2019s explore the power of NumPy \u2014 one exercise at a time!\n"
      ]
    },
    {
      "cell_type": "markdown",
      "id": "b18cbe38",
      "metadata": {
        "papermill": {
          "duration": 0.019548,
          "end_time": "2025-06-26T08:24:02.235163",
          "exception": false,
          "start_time": "2025-06-26T08:24:02.215615",
          "status": "completed"
        },
        "tags": []
      },
      "source": [
        "#### 1. Import the numpy package under the name `np` (\u2605\u2606\u2606)"
      ]
    },
    {
      "cell_type": "code",
      "execution_count": 1,
      "id": "8027d1b3",
      "metadata": {
        "execution": {
          "iopub.execute_input": "2025-06-26T08:24:02.277252Z",
          "iopub.status.busy": "2025-06-26T08:24:02.276368Z",
          "iopub.status.idle": "2025-06-26T08:24:02.28333Z",
          "shell.execute_reply": "2025-06-26T08:24:02.282693Z"
        },
        "papermill": {
          "duration": 0.029475,
          "end_time": "2025-06-26T08:24:02.28465",
          "exception": false,
          "start_time": "2025-06-26T08:24:02.255175",
          "status": "completed"
        },
        "tags": []
      },
      "outputs": [],
      "source": [
        "import numpy as np"
      ]
    },
    {
      "cell_type": "markdown",
      "id": "95be1991",
      "metadata": {
        "papermill": {
          "duration": 0.019333,
          "end_time": "2025-06-26T08:24:02.324013",
          "exception": false,
          "start_time": "2025-06-26T08:24:02.30468",
          "status": "completed"
        },
        "tags": []
      },
      "source": [
        "#### 2. Print the numpy version and the configuration (\u2605\u2606\u2606)"
      ]
    },
    {
      "cell_type": "code",
      "execution_count": 2,
      "id": "1029c5ef",
      "metadata": {
        "execution": {
          "iopub.execute_input": "2025-06-26T08:24:02.425108Z",
          "iopub.status.busy": "2025-06-26T08:24:02.424437Z",
          "iopub.status.idle": "2025-06-26T08:24:02.430068Z",
          "shell.execute_reply": "2025-06-26T08:24:02.429097Z"
        },
        "papermill": {
          "duration": 0.027506,
          "end_time": "2025-06-26T08:24:02.431388",
          "exception": false,
          "start_time": "2025-06-26T08:24:02.403882",
          "status": "completed"
        },
        "tags": []
      },
      "outputs": [
        {
          "name": "stdout",
          "output_type": "stream",
          "text": [
            "\u2605 NumPy Version: 1.26.4\n",
            "\u2606 NumPy Configuration:\n",
            "blas_armpl_info:\n",
            "  NOT AVAILABLE\n",
            "blas_mkl_info:\n",
            "    libraries = ['mkl_rt', 'pthread']\n",
            "    library_dirs = ['/home/sat_bot/base/conda-bld/numpy_and_dev_1715296241721/_h_env_placehold_placehold_placehold_placehold_placehold_placehold_placehold_placehold_placehold_placehold_placehold_placehold_placehold_placehold_placehold_placehold_placehold_placehold_placehold_p/lib']\n",
            "    define_macros = [('SCIPY_MKL_H', None), ('HAVE_CBLAS', None)]\n",
            "    include_dirs = ['/home/sat_bot/base/conda-bld/numpy_and_dev_1715296241721/_h_env_placehold_placehold_placehold_placehold_placehold_placehold_placehold_placehold_placehold_placehold_placehold_placehold_placehold_placehold_placehold_placehold_placehold_placehold_placehold_p/include']\n",
            "blas_opt_info:\n",
            "    libraries = ['mkl_rt', 'pthread']\n",
            "    library_dirs = ['/home/sat_bot/base/conda-bld/numpy_and_dev_1715296241721/_h_env_placehold_placehold_placehold_placehold_placehold_placehold_placehold_placehold_placehold_placehold_placehold_placehold_placehold_placehold_placehold_placehold_placehold_placehold_placehold_p/lib']\n",
            "    define_macros = [('SCIPY_MKL_H', None), ('HAVE_CBLAS', None)]\n",
            "    include_dirs = ['/home/sat_bot/base/conda-bld/numpy_and_dev_1715296241721/_h_env_placehold_placehold_placehold_placehold_placehold_placehold_placehold_placehold_placehold_placehold_placehold_placehold_placehold_placehold_placehold_placehold_placehold_placehold_placehold_p/include']\n",
            "lapack_armpl_info:\n",
            "  NOT AVAILABLE\n",
            "lapack_mkl_info:\n",
            "    libraries = ['mkl_rt', 'pthread']\n",
            "    library_dirs = ['/home/sat_bot/base/conda-bld/numpy_and_dev_1715296241721/_h_env_placehold_placehold_placehold_placehold_placehold_placehold_placehold_placehold_placehold_placehold_placehold_placehold_placehold_placehold_placehold_placehold_placehold_placehold_placehold_p/lib']\n",
            "    define_macros = [('SCIPY_MKL_H', None), ('HAVE_CBLAS', None)]\n",
            "    include_dirs = ['/home/sat_bot/base/conda-bld/numpy_and_dev_1715296241721/_h_env_placehold_placehold_placehold_placehold_placehold_placehold_placehold_placehold_placehold_placehold_placehold_placehold_placehold_placehold_placehold_placehold_placehold_placehold_placehold_p/include']\n",
            "lapack_opt_info:\n",
            "    libraries = ['mkl_rt', 'pthread']\n",
            "    library_dirs = ['/home/sat_bot/base/conda-bld/numpy_and_dev_1715296241721/_h_env_placehold_placehold_placehold_placehold_placehold_placehold_placehold_placehold_placehold_placehold_placehold_placehold_placehold_placehold_placehold_placehold_placehold_placehold_placehold_p/lib']\n",
            "    define_macros = [('SCIPY_MKL_H', None), ('HAVE_CBLAS', None)]\n",
            "    include_dirs = ['/home/sat_bot/base/conda-bld/numpy_and_dev_1715296241721/_h_env_placehold_placehold_placehold_placehold_placehold_placehold_placehold_placehold_placehold_placehold_placehold_placehold_placehold_placehold_placehold_placehold_placehold_placehold_placehold_p/include']\n",
            "Supported SIMD extensions in this NumPy install:\n",
            "    baseline = SSE,SSE2,SSE3\n",
            "    found = SSSE3,SSE41,POPCNT,SSE42,AVX,F16C,FMA3,AVX2\n",
            "    not found = AVX512F,AVX512CD,AVX512_KNL,AVX512_KNM,AVX512_SKX,AVX512_CLX,AVX512_CNL,AVX512_ICL,AVX512_SPR\n"
          ]
        }
      ],
      "source": [
        "print(\"\u2605 NumPy Version:\", np.__version__)\n",
        "print(\"\u2606 NumPy Configuration:\")\n",
        "np.show_config()"
      ]
    },
    {
      "cell_type": "markdown",
      "id": "7b5bd30b",
      "metadata": {
        "papermill": {
          "duration": 0.019739,
          "end_time": "2025-06-26T08:24:02.471182",
          "exception": false,
          "start_time": "2025-06-26T08:24:02.451443",
          "status": "completed"
        },
        "tags": []
      },
      "source": [
        "#### 3. Create a null vector of size 10 (\u2605\u2606\u2606)"
      ]
    },
    {
      "cell_type": "code",
      "execution_count": 3,
      "id": "0264390a",
      "metadata": {
        "execution": {
          "iopub.execute_input": "2025-06-26T08:24:02.511976Z",
          "iopub.status.busy": "2025-06-26T08:24:02.511648Z",
          "iopub.status.idle": "2025-06-26T08:24:02.517669Z",
          "shell.execute_reply": "2025-06-26T08:24:02.516974Z"
        },
        "papermill": {
          "duration": 0.02793,
          "end_time": "2025-06-26T08:24:02.518962",
          "exception": false,
          "start_time": "2025-06-26T08:24:02.491032",
          "status": "completed"
        },
        "tags": []
      },
      "outputs": [
        {
          "data": {
            "text/plain": [
              "array([3.1447179e-315, 0.0000000e+000, 0.0000000e+000, 0.0000000e+000,\n",
              "       0.0000000e+000, 0.0000000e+000, 0.0000000e+000, 0.0000000e+000,\n",
              "       0.0000000e+000, 0.0000000e+000])"
            ]
          },
          "execution_count": 3,
          "metadata": {},
          "output_type": "execute_result"
        }
      ],
      "source": [
        "nullVec = np.empty(10)\n",
        "\n",
        "nullVec"
      ]
    },
    {
      "cell_type": "markdown",
      "id": "6a62ab84",
      "metadata": {
        "papermill": {
          "duration": 0.019836,
          "end_time": "2025-06-26T08:24:02.558906",
          "exception": false,
          "start_time": "2025-06-26T08:24:02.53907",
          "status": "completed"
        },
        "tags": []
      },
      "source": [
        "#### 4. How to find the memory size of any array (\u2605\u2606\u2606)"
      ]
    },
    {
      "cell_type": "code",
      "execution_count": 4,
      "id": "fd9a1091",
      "metadata": {
        "execution": {
          "iopub.execute_input": "2025-06-26T08:24:02.600219Z",
          "iopub.status.busy": "2025-06-26T08:24:02.599921Z",
          "iopub.status.idle": "2025-06-26T08:24:02.60459Z",
          "shell.execute_reply": "2025-06-26T08:24:02.603655Z"
        },
        "papermill": {
          "duration": 0.027047,
          "end_time": "2025-06-26T08:24:02.605959",
          "exception": false,
          "start_time": "2025-06-26T08:24:02.578912",
          "status": "completed"
        },
        "tags": []
      },
      "outputs": [
        {
          "name": "stdout",
          "output_type": "stream",
          "text": [
            "Null Vector Size: 10\n",
            "Null Vector ItemSize: 8\n"
          ]
        }
      ],
      "source": [
        "print(\"Null Vector Size:\", nullVec.size)\n",
        "print(\"Null Vector ItemSize:\", nullVec.itemsize)"
      ]
    },
    {
      "cell_type": "markdown",
      "id": "31d0fa19",
      "metadata": {
        "papermill": {
          "duration": 0.019878,
          "end_time": "2025-06-26T08:24:02.646077",
          "exception": false,
          "start_time": "2025-06-26T08:24:02.626199",
          "status": "completed"
        },
        "tags": []
      },
      "source": [
        "#### 5. How to get the documentation of the numpy add function from the command line (\u2605\u2606\u2606)"
      ]
    },
    {
      "cell_type": "code",
      "execution_count": 5,
      "id": "80f14b02",
      "metadata": {
        "execution": {
          "iopub.execute_input": "2025-06-26T08:24:02.687528Z",
          "iopub.status.busy": "2025-06-26T08:24:02.687211Z",
          "iopub.status.idle": "2025-06-26T08:24:02.691723Z",
          "shell.execute_reply": "2025-06-26T08:24:02.690775Z"
        },
        "papermill": {
          "duration": 0.026823,
          "end_time": "2025-06-26T08:24:02.693096",
          "exception": false,
          "start_time": "2025-06-26T08:24:02.666273",
          "status": "completed"
        },
        "tags": []
      },
      "outputs": [
        {
          "name": "stdout",
          "output_type": "stream",
          "text": [
            "add(x1, x2, /, out=None, *, where=True, casting='same_kind', order='K', dtype=None, subok=True[, signature, extobj])\n",
            "\n",
            "Add arguments element-wise.\n",
            "\n",
            "Parameters\n",
            "----------\n",
            "x1, x2 : array_like\n",
            "    The arrays to be added.\n",
            "    If ``x1.shape != x2.shape``, they must be broadcastable to a common\n",
            "    shape (which becomes the shape of the output).\n",
            "out : ndarray, None, or tuple of ndarray and None, optional\n",
            "    A location into which the result is stored. If provided, it must have\n",
            "    a shape that the inputs broadcast to. If not provided or None,\n",
            "    a freshly-allocated array is returned. A tuple (possible only as a\n",
            "    keyword argument) must have length equal to the number of outputs.\n",
            "where : array_like, optional\n",
            "    This condition is broadcast over the input. At locations where the\n",
            "    condition is True, the `out` array will be set to the ufunc result.\n",
            "    Elsewhere, the `out` array will retain its original value.\n",
            "    Note that if an uninitialized `out` array is created via the default\n",
            "    ``out=None``, locations within it where the condition is False will\n",
            "    remain uninitialized.\n",
            "**kwargs\n",
            "    For other keyword-only arguments, see the\n",
            "    :ref:`ufunc docs <ufuncs.kwargs>`.\n",
            "\n",
            "Returns\n",
            "-------\n",
            "add : ndarray or scalar\n",
            "    The sum of `x1` and `x2`, element-wise.\n",
            "    This is a scalar if both `x1` and `x2` are scalars.\n",
            "\n",
            "Notes\n",
            "-----\n",
            "Equivalent to `x1` + `x2` in terms of array broadcasting.\n",
            "\n",
            "Examples\n",
            "--------\n",
            ">>> np.add(1.0, 4.0)\n",
            "5.0\n",
            ">>> x1 = np.arange(9.0).reshape((3, 3))\n",
            ">>> x2 = np.arange(3.0)\n",
            ">>> np.add(x1, x2)\n",
            "array([[  0.,   2.,   4.],\n",
            "       [  3.,   5.,   7.],\n",
            "       [  6.,   8.,  10.]])\n",
            "\n",
            "The ``+`` operator can be used as a shorthand for ``np.add`` on ndarrays.\n",
            "\n",
            ">>> x1 = np.arange(9.0).reshape((3, 3))\n",
            ">>> x2 = np.arange(3.0)\n",
            ">>> x1 + x2\n",
            "array([[ 0.,  2.,  4.],\n",
            "       [ 3.,  5.,  7.],\n",
            "       [ 6.,  8., 10.]])\n"
          ]
        }
      ],
      "source": [
        "# np.add?\n",
        "# print(np.info('add'))\n",
        "print(np.add.__doc__)"
      ]
    },
    {
      "cell_type": "markdown",
      "id": "0b40d2b7",
      "metadata": {
        "papermill": {
          "duration": 0.019721,
          "end_time": "2025-06-26T08:24:02.734679",
          "exception": false,
          "start_time": "2025-06-26T08:24:02.714958",
          "status": "completed"
        },
        "tags": []
      },
      "source": [
        "#### 6. Create a null vector of size 10 but the fifth value which is 1 (\u2605\u2606\u2606)"
      ]
    },
    {
      "cell_type": "code",
      "execution_count": 6,
      "id": "d978d32c",
      "metadata": {
        "execution": {
          "iopub.execute_input": "2025-06-26T08:24:02.77587Z",
          "iopub.status.busy": "2025-06-26T08:24:02.775548Z",
          "iopub.status.idle": "2025-06-26T08:24:02.780983Z",
          "shell.execute_reply": "2025-06-26T08:24:02.780376Z"
        },
        "papermill": {
          "duration": 0.027548,
          "end_time": "2025-06-26T08:24:02.782186",
          "exception": false,
          "start_time": "2025-06-26T08:24:02.754638",
          "status": "completed"
        },
        "tags": []
      },
      "outputs": [
        {
          "data": {
            "text/plain": [
              "array([3.1447179e-315, 0.0000000e+000, 0.0000000e+000, 0.0000000e+000,\n",
              "       1.0000000e+000, 0.0000000e+000, 0.0000000e+000, 0.0000000e+000,\n",
              "       0.0000000e+000, 0.0000000e+000])"
            ]
          },
          "execution_count": 6,
          "metadata": {},
          "output_type": "execute_result"
        }
      ],
      "source": [
        "nullVec = np.empty(10)\n",
        "nullVec[4] = 1\n",
        "\n",
        "nullVec"
      ]
    },
    {
      "cell_type": "markdown",
      "id": "3343b7eb",
      "metadata": {
        "papermill": {
          "duration": 0.020163,
          "end_time": "2025-06-26T08:24:02.823223",
          "exception": false,
          "start_time": "2025-06-26T08:24:02.80306",
          "status": "completed"
        },
        "tags": []
      },
      "source": [
        "#### 7. Create a vector with values ranging from 10 to 49 (\u2605\u2606\u2606)"
      ]
    },
    {
      "cell_type": "code",
      "execution_count": 7,
      "id": "2459d8a5",
      "metadata": {
        "execution": {
          "iopub.execute_input": "2025-06-26T08:24:02.865057Z",
          "iopub.status.busy": "2025-06-26T08:24:02.864781Z",
          "iopub.status.idle": "2025-06-26T08:24:02.871439Z",
          "shell.execute_reply": "2025-06-26T08:24:02.870717Z"
        },
        "papermill": {
          "duration": 0.029032,
          "end_time": "2025-06-26T08:24:02.872676",
          "exception": false,
          "start_time": "2025-06-26T08:24:02.843644",
          "status": "completed"
        },
        "tags": []
      },
      "outputs": [
        {
          "data": {
            "text/plain": [
              "array([10, 11, 12, 13, 14, 15, 16, 17, 18, 19, 20, 21, 22, 23, 24, 25, 26,\n",
              "       27, 28, 29, 30, 31, 32, 33, 34, 35, 36, 37, 38, 39, 40, 41, 42, 43,\n",
              "       44, 45, 46, 47, 48, 49])"
            ]
          },
          "execution_count": 7,
          "metadata": {},
          "output_type": "execute_result"
        }
      ],
      "source": [
        "rangeVec = np.arange(10, 50)\n",
        "\n",
        "rangeVec"
      ]
    },
    {
      "cell_type": "markdown",
      "id": "98c83b26",
      "metadata": {
        "papermill": {
          "duration": 0.02031,
          "end_time": "2025-06-26T08:24:02.913544",
          "exception": false,
          "start_time": "2025-06-26T08:24:02.893234",
          "status": "completed"
        },
        "tags": []
      },
      "source": [
        "#### 8. Reverse a vector (first element becomes last) (\u2605\u2606\u2606)"
      ]
    },
    {
      "cell_type": "code",
      "execution_count": 8,
      "id": "95c332f6",
      "metadata": {
        "execution": {
          "iopub.execute_input": "2025-06-26T08:24:02.956555Z",
          "iopub.status.busy": "2025-06-26T08:24:02.955782Z",
          "iopub.status.idle": "2025-06-26T08:24:02.961435Z",
          "shell.execute_reply": "2025-06-26T08:24:02.960671Z"
        },
        "papermill": {
          "duration": 0.028478,
          "end_time": "2025-06-26T08:24:02.962802",
          "exception": false,
          "start_time": "2025-06-26T08:24:02.934324",
          "status": "completed"
        },
        "tags": []
      },
      "outputs": [
        {
          "data": {
            "text/plain": [
              "array([49, 48, 47, 46, 45, 44, 43, 42, 41, 40, 39, 38, 37, 36, 35, 34, 33,\n",
              "       32, 31, 30, 29, 28, 27, 26, 25, 24, 23, 22, 21, 20, 19, 18, 17, 16,\n",
              "       15, 14, 13, 12, 11, 10])"
            ]
          },
          "execution_count": 8,
          "metadata": {},
          "output_type": "execute_result"
        }
      ],
      "source": [
        "rangeVec[::-1]"
      ]
    },
    {
      "cell_type": "markdown",
      "id": "1be74c53",
      "metadata": {
        "papermill": {
          "duration": 0.020172,
          "end_time": "2025-06-26T08:24:03.003598",
          "exception": false,
          "start_time": "2025-06-26T08:24:02.983426",
          "status": "completed"
        },
        "tags": []
      },
      "source": [
        "#### 9. Create a 3x3 matrix with values ranging from 0 to 8 (\u2605\u2606\u2606)"
      ]
    },
    {
      "cell_type": "code",
      "execution_count": 9,
      "id": "cc29fa2a",
      "metadata": {
        "execution": {
          "iopub.execute_input": "2025-06-26T08:24:03.045805Z",
          "iopub.status.busy": "2025-06-26T08:24:03.045247Z",
          "iopub.status.idle": "2025-06-26T08:24:03.051124Z",
          "shell.execute_reply": "2025-06-26T08:24:03.050326Z"
        },
        "papermill": {
          "duration": 0.028337,
          "end_time": "2025-06-26T08:24:03.052387",
          "exception": false,
          "start_time": "2025-06-26T08:24:03.02405",
          "status": "completed"
        },
        "tags": []
      },
      "outputs": [
        {
          "data": {
            "text/plain": [
              "array([[0, 1, 2],\n",
              "       [3, 4, 5],\n",
              "       [6, 7, 8]])"
            ]
          },
          "execution_count": 9,
          "metadata": {},
          "output_type": "execute_result"
        }
      ],
      "source": [
        "matrix3x3 = np.arange(9).reshape((3, 3))\n",
        "\n",
        "matrix3x3"
      ]
    },
    {
      "cell_type": "markdown",
      "id": "2d7cad02",
      "metadata": {
        "papermill": {
          "duration": 0.020351,
          "end_time": "2025-06-26T08:24:03.093585",
          "exception": false,
          "start_time": "2025-06-26T08:24:03.073234",
          "status": "completed"
        },
        "tags": []
      },
      "source": [
        "#### 10. Find indices of non-zero elements from [1,2,0,0,4,0] (\u2605\u2606\u2606)"
      ]
    },
    {
      "cell_type": "code",
      "execution_count": 10,
      "id": "0cda1b38",
      "metadata": {
        "execution": {
          "iopub.execute_input": "2025-06-26T08:24:03.13591Z",
          "iopub.status.busy": "2025-06-26T08:24:03.135292Z",
          "iopub.status.idle": "2025-06-26T08:24:03.141034Z",
          "shell.execute_reply": "2025-06-26T08:24:03.140179Z"
        },
        "papermill": {
          "duration": 0.0282,
          "end_time": "2025-06-26T08:24:03.142225",
          "exception": false,
          "start_time": "2025-06-26T08:24:03.114025",
          "status": "completed"
        },
        "tags": []
      },
      "outputs": [
        {
          "data": {
            "text/plain": [
              "(array([0, 1, 4]),)"
            ]
          },
          "execution_count": 10,
          "metadata": {},
          "output_type": "execute_result"
        }
      ],
      "source": [
        "rawData = [1, 2, 0, 0, 4, 0]\n",
        "\n",
        "npArr = np.array(rawData)\n",
        "\n",
        "npArr.nonzero()"
      ]
    },
    {
      "cell_type": "markdown",
      "id": "fea29a14",
      "metadata": {
        "papermill": {
          "duration": 0.020794,
          "end_time": "2025-06-26T08:24:03.183797",
          "exception": false,
          "start_time": "2025-06-26T08:24:03.163003",
          "status": "completed"
        },
        "tags": []
      },
      "source": [
        "#### 11. Create a 3x3 identity matrix (\u2605\u2606\u2606)\n",
        "\n",
        "```python\n",
        "[[1., 0., 0.],\n",
        " [0., 1., 0.],\n",
        " [0., 0., 1.]]\n",
        "```"
      ]
    },
    {
      "cell_type": "code",
      "execution_count": 11,
      "id": "f0bd5d76",
      "metadata": {
        "execution": {
          "iopub.execute_input": "2025-06-26T08:24:03.226818Z",
          "iopub.status.busy": "2025-06-26T08:24:03.226244Z",
          "iopub.status.idle": "2025-06-26T08:24:03.231677Z",
          "shell.execute_reply": "2025-06-26T08:24:03.230893Z"
        },
        "papermill": {
          "duration": 0.028094,
          "end_time": "2025-06-26T08:24:03.233017",
          "exception": false,
          "start_time": "2025-06-26T08:24:03.204923",
          "status": "completed"
        },
        "tags": []
      },
      "outputs": [
        {
          "data": {
            "text/plain": [
              "array([[1., 0., 0.],\n",
              "       [0., 1., 0.],\n",
              "       [0., 0., 1.]])"
            ]
          },
          "execution_count": 11,
          "metadata": {},
          "output_type": "execute_result"
        }
      ],
      "source": [
        "idnMatrix = np.eye(3, 3)\n",
        "\n",
        "idnMatrix"
      ]
    },
    {
      "cell_type": "markdown",
      "id": "904d2d9a",
      "metadata": {
        "papermill": {
          "duration": 0.020252,
          "end_time": "2025-06-26T08:24:03.274254",
          "exception": false,
          "start_time": "2025-06-26T08:24:03.254002",
          "status": "completed"
        },
        "tags": []
      },
      "source": [
        "#### 12. Create a 3x3x3 array with random values (\u2605\u2606\u2606)"
      ]
    },
    {
      "cell_type": "code",
      "execution_count": 12,
      "id": "9200188a",
      "metadata": {
        "execution": {
          "iopub.execute_input": "2025-06-26T08:24:03.316931Z",
          "iopub.status.busy": "2025-06-26T08:24:03.316178Z",
          "iopub.status.idle": "2025-06-26T08:24:03.322011Z",
          "shell.execute_reply": "2025-06-26T08:24:03.321208Z"
        },
        "papermill": {
          "duration": 0.028536,
          "end_time": "2025-06-26T08:24:03.323359",
          "exception": false,
          "start_time": "2025-06-26T08:24:03.294823",
          "status": "completed"
        },
        "tags": []
      },
      "outputs": [
        {
          "data": {
            "text/plain": [
              "array([[[0.9470884 , 0.05030352, 0.54549959],\n",
              "        [0.20735274, 0.13248709, 0.38501214],\n",
              "        [0.14191268, 0.58525819, 0.65176701]],\n",
              "\n",
              "       [[0.16710643, 0.97638177, 0.31791252],\n",
              "        [0.31877342, 0.84624145, 0.97381121],\n",
              "        [0.05241899, 0.51304742, 0.25501743]],\n",
              "\n",
              "       [[0.60615664, 0.80334009, 0.03865507],\n",
              "        [0.57875426, 0.8352601 , 0.25134941],\n",
              "        [0.21350405, 0.36261618, 0.23368543]]])"
            ]
          },
          "execution_count": 12,
          "metadata": {},
          "output_type": "execute_result"
        }
      ],
      "source": [
        "rndmArr = np.random.rand(3, 3, 3)\n",
        "\n",
        "rndmArr"
      ]
    },
    {
      "cell_type": "markdown",
      "id": "88ffa46f",
      "metadata": {
        "papermill": {
          "duration": 0.020362,
          "end_time": "2025-06-26T08:24:03.364738",
          "exception": false,
          "start_time": "2025-06-26T08:24:03.344376",
          "status": "completed"
        },
        "tags": []
      },
      "source": [
        "#### 13. Create a 10x10 array with random values and find the minimum and maximum values (\u2605\u2606\u2606)"
      ]
    },
    {
      "cell_type": "code",
      "execution_count": 13,
      "id": "f36750f7",
      "metadata": {
        "execution": {
          "iopub.execute_input": "2025-06-26T08:24:03.407729Z",
          "iopub.status.busy": "2025-06-26T08:24:03.40689Z",
          "iopub.status.idle": "2025-06-26T08:24:03.412048Z",
          "shell.execute_reply": "2025-06-26T08:24:03.411376Z"
        },
        "papermill": {
          "duration": 0.027905,
          "end_time": "2025-06-26T08:24:03.413282",
          "exception": false,
          "start_time": "2025-06-26T08:24:03.385377",
          "status": "completed"
        },
        "tags": []
      },
      "outputs": [
        {
          "name": "stdout",
          "output_type": "stream",
          "text": [
            "Min Val: 0.0004333509967312521\n",
            "Max Val: 0.9987573949695456\n"
          ]
        }
      ],
      "source": [
        "rndmArr = np.random.rand(10, 10)\n",
        "\n",
        "rndmArr\n",
        "\n",
        "print(\"Min Val:\", rndmArr.min())\n",
        "print(\"Max Val:\", rndmArr.max())"
      ]
    },
    {
      "cell_type": "markdown",
      "id": "3b58268a",
      "metadata": {
        "papermill": {
          "duration": 0.020562,
          "end_time": "2025-06-26T08:24:03.454742",
          "exception": false,
          "start_time": "2025-06-26T08:24:03.43418",
          "status": "completed"
        },
        "tags": []
      },
      "source": [
        "#### 14. Create a random vector of size 30 and find the mean value (\u2605\u2606\u2606)"
      ]
    },
    {
      "cell_type": "code",
      "execution_count": 14,
      "id": "f596c2de",
      "metadata": {
        "execution": {
          "iopub.execute_input": "2025-06-26T08:24:03.497877Z",
          "iopub.status.busy": "2025-06-26T08:24:03.497058Z",
          "iopub.status.idle": "2025-06-26T08:24:03.503245Z",
          "shell.execute_reply": "2025-06-26T08:24:03.502367Z"
        },
        "papermill": {
          "duration": 0.029263,
          "end_time": "2025-06-26T08:24:03.50459",
          "exception": false,
          "start_time": "2025-06-26T08:24:03.475327",
          "status": "completed"
        },
        "tags": []
      },
      "outputs": [
        {
          "data": {
            "text/plain": [
              "0.46411963735763406"
            ]
          },
          "execution_count": 14,
          "metadata": {},
          "output_type": "execute_result"
        }
      ],
      "source": [
        "rndmArr = np.random.rand(30)\n",
        "\n",
        "rndmArr.mean()"
      ]
    },
    {
      "cell_type": "markdown",
      "id": "9832918b",
      "metadata": {
        "papermill": {
          "duration": 0.020832,
          "end_time": "2025-06-26T08:24:03.54643",
          "exception": false,
          "start_time": "2025-06-26T08:24:03.525598",
          "status": "completed"
        },
        "tags": []
      },
      "source": [
        "#### 15. Create a 2d array with 1 on the border and 0 inside (\u2605\u2606\u2606)\n",
        "\n",
        "```python\n",
        "[[1., 1., 1., 1., 1.],\n",
        " [1., 0., 0., 0., 1.],\n",
        " [1., 0., 0., 0., 1.],\n",
        " [1., 0., 0., 0., 1.],\n",
        " [1., 1., 1., 1., 1.]]\n",
        "```"
      ]
    },
    {
      "cell_type": "code",
      "execution_count": 15,
      "id": "6671a402",
      "metadata": {
        "execution": {
          "iopub.execute_input": "2025-06-26T08:24:03.590092Z",
          "iopub.status.busy": "2025-06-26T08:24:03.589385Z",
          "iopub.status.idle": "2025-06-26T08:24:03.59553Z",
          "shell.execute_reply": "2025-06-26T08:24:03.594755Z"
        },
        "papermill": {
          "duration": 0.029262,
          "end_time": "2025-06-26T08:24:03.596912",
          "exception": false,
          "start_time": "2025-06-26T08:24:03.56765",
          "status": "completed"
        },
        "tags": []
      },
      "outputs": [
        {
          "data": {
            "text/plain": [
              "array([[1., 1., 1., 1., 1.],\n",
              "       [1., 0., 0., 0., 1.],\n",
              "       [1., 0., 0., 0., 1.],\n",
              "       [1., 0., 0., 0., 1.],\n",
              "       [1., 1., 1., 1., 1.]])"
            ]
          },
          "execution_count": 15,
          "metadata": {},
          "output_type": "execute_result"
        }
      ],
      "source": [
        "npArr = np.ones((5, 5))\n",
        "# npArr[1:-1, 1:-1] = 0\n",
        "\n",
        "npArr[1:-1, 1:-1] = 0\n",
        "\n",
        "npArr"
      ]
    },
    {
      "cell_type": "markdown",
      "id": "390ae7b5",
      "metadata": {
        "papermill": {
          "duration": 0.021088,
          "end_time": "2025-06-26T08:24:03.642063",
          "exception": false,
          "start_time": "2025-06-26T08:24:03.620975",
          "status": "completed"
        },
        "tags": []
      },
      "source": [
        "#### 16. How to add a border (filled with 0's) around an existing array (\u2605\u2606\u2606)\n",
        "\n",
        "```python\n",
        "[[0., 0., 0., 0., 0.],\n",
        " [0., 1., 1., 1., 0.],\n",
        " [0., 1., 1., 1., 0.],\n",
        " [0., 1., 1., 1., 0.],\n",
        " [0., 0., 0., 0., 0.]]\n",
        "```"
      ]
    },
    {
      "cell_type": "code",
      "execution_count": 16,
      "id": "3c66447e",
      "metadata": {
        "execution": {
          "iopub.execute_input": "2025-06-26T08:24:03.6853Z",
          "iopub.status.busy": "2025-06-26T08:24:03.685034Z",
          "iopub.status.idle": "2025-06-26T08:24:03.691418Z",
          "shell.execute_reply": "2025-06-26T08:24:03.690751Z"
        },
        "papermill": {
          "duration": 0.029669,
          "end_time": "2025-06-26T08:24:03.692734",
          "exception": false,
          "start_time": "2025-06-26T08:24:03.663065",
          "status": "completed"
        },
        "tags": []
      },
      "outputs": [
        {
          "data": {
            "text/plain": [
              "array([[0., 0., 0., 0., 0.],\n",
              "       [0., 1., 1., 1., 0.],\n",
              "       [0., 1., 1., 1., 0.],\n",
              "       [0., 1., 1., 1., 0.],\n",
              "       [0., 0., 0., 0., 0.]])"
            ]
          },
          "execution_count": 16,
          "metadata": {},
          "output_type": "execute_result"
        }
      ],
      "source": [
        "npArr = np.ones((5, 5))\n",
        "npArr[:, [0, -1]] = 0\n",
        "npArr[[0, -1], :] = 0\n",
        "npArr\n",
        "\n",
        "# padArr = np.ones((5,5))\n",
        "# padArr = np.pad(padArr, pad_width=1, mode='constant', constant_values=0)\n",
        "# padArr"
      ]
    },
    {
      "cell_type": "markdown",
      "id": "f81e6b6e",
      "metadata": {
        "papermill": {
          "duration": 0.020851,
          "end_time": "2025-06-26T08:24:03.73612",
          "exception": false,
          "start_time": "2025-06-26T08:24:03.715269",
          "status": "completed"
        },
        "tags": []
      },
      "source": [
        "#### 17. What is the result of the following expression (\u2605\u2606\u2606)\n",
        "```python\n",
        "0 * np.nan\n",
        "np.nan == np.nan\n",
        "np.inf > np.nan\n",
        "np.nan - np.nan\n",
        "np.nan in set([np.nan])\n",
        "0.3 == 3 * 0.1\n",
        "```"
      ]
    },
    {
      "cell_type": "code",
      "execution_count": 17,
      "id": "4e5daf2e",
      "metadata": {
        "execution": {
          "iopub.execute_input": "2025-06-26T08:24:03.779493Z",
          "iopub.status.busy": "2025-06-26T08:24:03.779208Z",
          "iopub.status.idle": "2025-06-26T08:24:03.784715Z",
          "shell.execute_reply": "2025-06-26T08:24:03.783893Z"
        },
        "papermill": {
          "duration": 0.028965,
          "end_time": "2025-06-26T08:24:03.786232",
          "exception": false,
          "start_time": "2025-06-26T08:24:03.757267",
          "status": "completed"
        },
        "tags": []
      },
      "outputs": [
        {
          "name": "stdout",
          "output_type": "stream",
          "text": [
            "nan\n",
            "False\n",
            "False\n",
            "nan\n",
            "True\n",
            "False\n",
            "True\n"
          ]
        }
      ],
      "source": [
        "print(0 * np.nan)  # nan\n",
        "print(np.nan == np.nan)  # False\n",
        "print(np.inf > np.nan)  # False\n",
        "print(np.nan - np.nan)  # nan\n",
        "print(np.nan in set([np.nan]))  # True\n",
        "print(0.3 == 3 * 0.1)  # False\n",
        "print(0.3 == round(3 * 0.1, 1))  # True"
      ]
    },
    {
      "cell_type": "markdown",
      "id": "d2e07545",
      "metadata": {
        "papermill": {
          "duration": 0.021823,
          "end_time": "2025-06-26T08:24:03.829686",
          "exception": false,
          "start_time": "2025-06-26T08:24:03.807863",
          "status": "completed"
        },
        "tags": []
      },
      "source": [
        "#### 18. Create a 5x5 matrix with values 1,2,3,4 just below the diagonal (\u2605\u2606\u2606)\n",
        "\n",
        "```python\n",
        "[[0, 0, 0, 0, 0],\n",
        " [1, 0, 0, 0, 0],\n",
        " [0, 2, 0, 0, 0],\n",
        " [0, 0, 3, 0, 0],\n",
        " [0, 0, 0, 4, 0]]\n",
        "```"
      ]
    },
    {
      "cell_type": "code",
      "execution_count": 18,
      "id": "7c217ca0",
      "metadata": {
        "execution": {
          "iopub.execute_input": "2025-06-26T08:24:03.873831Z",
          "iopub.status.busy": "2025-06-26T08:24:03.872981Z",
          "iopub.status.idle": "2025-06-26T08:24:03.880191Z",
          "shell.execute_reply": "2025-06-26T08:24:03.879503Z"
        },
        "papermill": {
          "duration": 0.030774,
          "end_time": "2025-06-26T08:24:03.88165",
          "exception": false,
          "start_time": "2025-06-26T08:24:03.850876",
          "status": "completed"
        },
        "tags": []
      },
      "outputs": [
        {
          "data": {
            "text/plain": [
              "array([[0, 0, 0, 0, 0],\n",
              "       [1, 0, 0, 0, 0],\n",
              "       [0, 2, 0, 0, 0],\n",
              "       [0, 0, 3, 0, 0],\n",
              "       [0, 0, 0, 4, 0]])"
            ]
          },
          "execution_count": 18,
          "metadata": {},
          "output_type": "execute_result"
        }
      ],
      "source": [
        "m_5x5 = np.diag(1 + np.arange(4), k=-1)\n",
        "\n",
        "m_5x5"
      ]
    },
    {
      "cell_type": "markdown",
      "id": "32292d9e",
      "metadata": {
        "papermill": {
          "duration": 0.021046,
          "end_time": "2025-06-26T08:24:03.924253",
          "exception": false,
          "start_time": "2025-06-26T08:24:03.903207",
          "status": "completed"
        },
        "tags": []
      },
      "source": [
        "#### 19. Create a 8x8 matrix and fill it with a checkerboard pattern (\u2605\u2606\u2606)"
      ]
    },
    {
      "cell_type": "code",
      "execution_count": null,
      "id": "ff6451f2",
      "metadata": {
        "papermill": {
          "duration": 0.020955,
          "end_time": "2025-06-26T08:24:03.966828",
          "exception": false,
          "start_time": "2025-06-26T08:24:03.945873",
          "status": "completed"
        },
        "tags": []
      },
      "outputs": [],
      "source": []
    },
    {
      "cell_type": "markdown",
      "id": "3674f71f",
      "metadata": {
        "papermill": {
          "duration": 0.020938,
          "end_time": "2025-06-26T08:24:04.009197",
          "exception": false,
          "start_time": "2025-06-26T08:24:03.988259",
          "status": "completed"
        },
        "tags": []
      },
      "source": [
        "#### 20. Consider a (6,7,8) shape array, what is the index (x,y,z) of the 100th element (\u2605\u2606\u2606)"
      ]
    },
    {
      "cell_type": "code",
      "execution_count": null,
      "id": "5191f6b0",
      "metadata": {
        "papermill": {
          "duration": 0.021043,
          "end_time": "2025-06-26T08:24:04.051546",
          "exception": false,
          "start_time": "2025-06-26T08:24:04.030503",
          "status": "completed"
        },
        "tags": []
      },
      "outputs": [],
      "source": []
    },
    {
      "cell_type": "markdown",
      "id": "3ab7f5a2",
      "metadata": {
        "papermill": {
          "duration": 0.020959,
          "end_time": "2025-06-26T08:24:04.09357",
          "exception": false,
          "start_time": "2025-06-26T08:24:04.072611",
          "status": "completed"
        },
        "tags": []
      },
      "source": [
        "#### 21. Create a checkerboard 8x8 matrix using the tile function (\u2605\u2606\u2606)"
      ]
    },
    {
      "cell_type": "code",
      "execution_count": null,
      "id": "343dae5c",
      "metadata": {
        "papermill": {
          "duration": 0.021008,
          "end_time": "2025-06-26T08:24:04.135642",
          "exception": false,
          "start_time": "2025-06-26T08:24:04.114634",
          "status": "completed"
        },
        "tags": []
      },
      "outputs": [],
      "source": []
    },
    {
      "cell_type": "markdown",
      "id": "570853db",
      "metadata": {
        "papermill": {
          "duration": 0.021049,
          "end_time": "2025-06-26T08:24:04.17804",
          "exception": false,
          "start_time": "2025-06-26T08:24:04.156991",
          "status": "completed"
        },
        "tags": []
      },
      "source": [
        "#### 22. Normalize a 5x5 random matrix (\u2605\u2606\u2606)"
      ]
    },
    {
      "cell_type": "code",
      "execution_count": null,
      "id": "4a22104a",
      "metadata": {
        "papermill": {
          "duration": 0.021805,
          "end_time": "2025-06-26T08:24:04.221201",
          "exception": false,
          "start_time": "2025-06-26T08:24:04.199396",
          "status": "completed"
        },
        "tags": []
      },
      "outputs": [],
      "source": []
    },
    {
      "cell_type": "markdown",
      "id": "8af8b150",
      "metadata": {
        "papermill": {
          "duration": 0.021029,
          "end_time": "2025-06-26T08:24:04.263508",
          "exception": false,
          "start_time": "2025-06-26T08:24:04.242479",
          "status": "completed"
        },
        "tags": []
      },
      "source": [
        "#### 23. Create a custom dtype that describes a color as four unsigned bytes (RGBA) (\u2605\u2606\u2606)"
      ]
    },
    {
      "cell_type": "code",
      "execution_count": null,
      "id": "c38b792e",
      "metadata": {
        "papermill": {
          "duration": 0.020755,
          "end_time": "2025-06-26T08:24:04.306251",
          "exception": false,
          "start_time": "2025-06-26T08:24:04.285496",
          "status": "completed"
        },
        "tags": []
      },
      "outputs": [],
      "source": []
    },
    {
      "cell_type": "markdown",
      "id": "e19a2c7f",
      "metadata": {
        "papermill": {
          "duration": 0.020809,
          "end_time": "2025-06-26T08:24:04.348083",
          "exception": false,
          "start_time": "2025-06-26T08:24:04.327274",
          "status": "completed"
        },
        "tags": []
      },
      "source": [
        "#### 24. Multiply a 5x3 matrix by a 3x2 matrix (real matrix product) (\u2605\u2606\u2606)"
      ]
    },
    {
      "cell_type": "code",
      "execution_count": 19,
      "id": "979d6258",
      "metadata": {
        "execution": {
          "iopub.execute_input": "2025-06-26T08:24:04.392258Z",
          "iopub.status.busy": "2025-06-26T08:24:04.391306Z",
          "iopub.status.idle": "2025-06-26T08:24:04.422031Z",
          "shell.execute_reply": "2025-06-26T08:24:04.421224Z"
        },
        "papermill": {
          "duration": 0.054227,
          "end_time": "2025-06-26T08:24:04.423495",
          "exception": false,
          "start_time": "2025-06-26T08:24:04.369268",
          "status": "completed"
        },
        "tags": []
      },
      "outputs": [
        {
          "data": {
            "text/plain": [
              "array([[0.22634081, 0.84643067],\n",
              "       [0.68959728, 0.30494567],\n",
              "       [0.54065867, 0.59338553],\n",
              "       [0.37259653, 0.76408175],\n",
              "       [0.24009186, 0.49989588]])"
            ]
          },
          "execution_count": 19,
          "metadata": {},
          "output_type": "execute_result"
        }
      ],
      "source": [
        "m1 = np.random.rand(5, 3)\n",
        "m2 = np.random.rand(3, 2)\n",
        "\n",
        "m1.dot(m2)"
      ]
    },
    {
      "cell_type": "markdown",
      "id": "0ee62066",
      "metadata": {
        "papermill": {
          "duration": 0.02109,
          "end_time": "2025-06-26T08:24:04.466245",
          "exception": false,
          "start_time": "2025-06-26T08:24:04.445155",
          "status": "completed"
        },
        "tags": []
      },
      "source": [
        "#### 25. Given a 1D array, negate all elements which are between 3 and 8, in place. (\u2605\u2606\u2606)"
      ]
    },
    {
      "cell_type": "code",
      "execution_count": null,
      "id": "15740654",
      "metadata": {
        "papermill": {
          "duration": 0.020934,
          "end_time": "2025-06-26T08:24:04.508495",
          "exception": false,
          "start_time": "2025-06-26T08:24:04.487561",
          "status": "completed"
        },
        "tags": []
      },
      "outputs": [],
      "source": []
    },
    {
      "cell_type": "markdown",
      "id": "3981e1f8",
      "metadata": {
        "papermill": {
          "duration": 0.021022,
          "end_time": "2025-06-26T08:24:04.552864",
          "exception": false,
          "start_time": "2025-06-26T08:24:04.531842",
          "status": "completed"
        },
        "tags": []
      },
      "source": [
        "#### 26. What is the output of the following script (\u2605\u2606\u2606)\n",
        "```python\n",
        "# Author: Jake VanderPlas\n",
        "\n",
        "print(sum(range(5),-1))\n",
        "from numpy import *\n",
        "print(sum(range(5),-1))\n",
        "```"
      ]
    },
    {
      "cell_type": "code",
      "execution_count": 20,
      "id": "1592cf27",
      "metadata": {
        "execution": {
          "iopub.execute_input": "2025-06-26T08:24:04.59711Z",
          "iopub.status.busy": "2025-06-26T08:24:04.596435Z",
          "iopub.status.idle": "2025-06-26T08:24:04.601347Z",
          "shell.execute_reply": "2025-06-26T08:24:04.600426Z"
        },
        "papermill": {
          "duration": 0.028219,
          "end_time": "2025-06-26T08:24:04.602586",
          "exception": false,
          "start_time": "2025-06-26T08:24:04.574367",
          "status": "completed"
        },
        "tags": []
      },
      "outputs": [
        {
          "name": "stdout",
          "output_type": "stream",
          "text": [
            "9\n",
            "10\n"
          ]
        }
      ],
      "source": [
        "print(sum(range(5), -1))  # 9\n",
        "from numpy import sum  # noqa: E402\n",
        "\n",
        "print(sum(range(5), -1))  # 10 (axis = -1)"
      ]
    },
    {
      "cell_type": "markdown",
      "id": "a0fd0587",
      "metadata": {
        "papermill": {
          "duration": 0.020986,
          "end_time": "2025-06-26T08:24:04.645033",
          "exception": false,
          "start_time": "2025-06-26T08:24:04.624047",
          "status": "completed"
        },
        "tags": []
      },
      "source": [
        "#### 27. Consider an integer vector Z, which of these expressions are legal (\u2605\u2606\u2606)\n",
        "```python\n",
        "Z**Z\n",
        "2 << Z >> 2\n",
        "Z <- Z\n",
        "1j*Z\n",
        "Z/1/1\n",
        "Z<Z>Z\n",
        "```"
      ]
    },
    {
      "cell_type": "code",
      "execution_count": null,
      "id": "3e902bac",
      "metadata": {
        "papermill": {
          "duration": 0.021038,
          "end_time": "2025-06-26T08:24:04.6873",
          "exception": false,
          "start_time": "2025-06-26T08:24:04.666262",
          "status": "completed"
        },
        "tags": []
      },
      "outputs": [],
      "source": []
    },
    {
      "cell_type": "markdown",
      "id": "1a16a3ad",
      "metadata": {
        "papermill": {
          "duration": 0.021112,
          "end_time": "2025-06-26T08:24:04.730854",
          "exception": false,
          "start_time": "2025-06-26T08:24:04.709742",
          "status": "completed"
        },
        "tags": []
      },
      "source": [
        "#### 28. What are the result of the following expressions (\u2605\u2606\u2606)\n",
        "```python\n",
        "np.array(0) / np.array(0)\n",
        "np.array(0) // np.array(0)\n",
        "np.array([np.nan]).astype(int).astype(float)\n",
        "```"
      ]
    },
    {
      "cell_type": "code",
      "execution_count": 21,
      "id": "dd595aba",
      "metadata": {
        "execution": {
          "iopub.execute_input": "2025-06-26T08:24:04.774816Z",
          "iopub.status.busy": "2025-06-26T08:24:04.773893Z",
          "iopub.status.idle": "2025-06-26T08:24:04.77975Z",
          "shell.execute_reply": "2025-06-26T08:24:04.779004Z"
        },
        "papermill": {
          "duration": 0.029095,
          "end_time": "2025-06-26T08:24:04.78109",
          "exception": false,
          "start_time": "2025-06-26T08:24:04.751995",
          "status": "completed"
        },
        "tags": []
      },
      "outputs": [
        {
          "name": "stdout",
          "output_type": "stream",
          "text": [
            "nan\n",
            "0\n",
            "[-9.22337204e+18]\n"
          ]
        },
        {
          "name": "stderr",
          "output_type": "stream",
          "text": [
            "/tmp/ipykernel_20/2670329950.py:1: RuntimeWarning: invalid value encountered in divide\n",
            "  print(np.array(0) / np.array(0))  # nan\n",
            "/tmp/ipykernel_20/2670329950.py:2: RuntimeWarning: divide by zero encountered in floor_divide\n",
            "  print(np.array(0) // np.array(0))  # 0\n",
            "/tmp/ipykernel_20/2670329950.py:3: RuntimeWarning: invalid value encountered in cast\n",
            "  print(np.array([np.nan]).astype(int).astype(float))  # [-9.22337204e+18]\n"
          ]
        }
      ],
      "source": [
        "print(np.array(0) / np.array(0))  # nan\n",
        "print(np.array(0) // np.array(0))  # 0\n",
        "print(np.array([np.nan]).astype(int).astype(float))  # [-9.22337204e+18]"
      ]
    },
    {
      "cell_type": "markdown",
      "id": "3447403f",
      "metadata": {
        "papermill": {
          "duration": 0.021401,
          "end_time": "2025-06-26T08:24:04.824091",
          "exception": false,
          "start_time": "2025-06-26T08:24:04.80269",
          "status": "completed"
        },
        "tags": []
      },
      "source": [
        "#### 29. How to round away from zero a float array  (\u2605\u2606\u2606)"
      ]
    },
    {
      "cell_type": "code",
      "execution_count": null,
      "id": "3379981b",
      "metadata": {
        "papermill": {
          "duration": 0.021295,
          "end_time": "2025-06-26T08:24:04.867186",
          "exception": false,
          "start_time": "2025-06-26T08:24:04.845891",
          "status": "completed"
        },
        "tags": []
      },
      "outputs": [],
      "source": []
    },
    {
      "cell_type": "markdown",
      "id": "05ab668f",
      "metadata": {
        "papermill": {
          "duration": 0.021372,
          "end_time": "2025-06-26T08:24:04.909867",
          "exception": false,
          "start_time": "2025-06-26T08:24:04.888495",
          "status": "completed"
        },
        "tags": []
      },
      "source": [
        "#### 30. How to find common values between two arrays (\u2605\u2606\u2606)"
      ]
    },
    {
      "cell_type": "code",
      "execution_count": null,
      "id": "427385bc",
      "metadata": {
        "papermill": {
          "duration": 0.021014,
          "end_time": "2025-06-26T08:24:04.952057",
          "exception": false,
          "start_time": "2025-06-26T08:24:04.931043",
          "status": "completed"
        },
        "tags": []
      },
      "outputs": [],
      "source": []
    },
    {
      "cell_type": "markdown",
      "id": "5a5b92b1",
      "metadata": {
        "papermill": {
          "duration": 0.021136,
          "end_time": "2025-06-26T08:24:04.994967",
          "exception": false,
          "start_time": "2025-06-26T08:24:04.973831",
          "status": "completed"
        },
        "tags": []
      },
      "source": [
        "#### 31. How to ignore all numpy warnings (not recommended) (\u2605\u2606\u2606)"
      ]
    },
    {
      "cell_type": "code",
      "execution_count": 22,
      "id": "fd61f6f0",
      "metadata": {
        "execution": {
          "iopub.execute_input": "2025-06-26T08:24:05.039032Z",
          "iopub.status.busy": "2025-06-26T08:24:05.038747Z",
          "iopub.status.idle": "2025-06-26T08:24:05.043933Z",
          "shell.execute_reply": "2025-06-26T08:24:05.043134Z"
        },
        "papermill": {
          "duration": 0.02896,
          "end_time": "2025-06-26T08:24:05.045367",
          "exception": false,
          "start_time": "2025-06-26T08:24:05.016407",
          "status": "completed"
        },
        "tags": []
      },
      "outputs": [
        {
          "data": {
            "text/plain": [
              "{'divide': 'warn', 'over': 'warn', 'under': 'ignore', 'invalid': 'warn'}"
            ]
          },
          "execution_count": 22,
          "metadata": {},
          "output_type": "execute_result"
        }
      ],
      "source": [
        "np.seterr(all=\"ignore\")"
      ]
    },
    {
      "cell_type": "markdown",
      "id": "9fe88d5a",
      "metadata": {
        "papermill": {
          "duration": 0.021842,
          "end_time": "2025-06-26T08:24:05.089121",
          "exception": false,
          "start_time": "2025-06-26T08:24:05.067279",
          "status": "completed"
        },
        "tags": []
      },
      "source": [
        "#### 32. Is the following expressions true (\u2605\u2606\u2606)\n",
        "```python\n",
        "np.sqrt(-1) == np.emath.sqrt(-1)\n",
        "```"
      ]
    },
    {
      "cell_type": "code",
      "execution_count": 23,
      "id": "bd8b396b",
      "metadata": {
        "execution": {
          "iopub.execute_input": "2025-06-26T08:24:05.134348Z",
          "iopub.status.busy": "2025-06-26T08:24:05.133535Z",
          "iopub.status.idle": "2025-06-26T08:24:05.140529Z",
          "shell.execute_reply": "2025-06-26T08:24:05.139881Z"
        },
        "papermill": {
          "duration": 0.030719,
          "end_time": "2025-06-26T08:24:05.1418",
          "exception": false,
          "start_time": "2025-06-26T08:24:05.111081",
          "status": "completed"
        },
        "tags": []
      },
      "outputs": [
        {
          "data": {
            "text/plain": [
              "False"
            ]
          },
          "execution_count": 23,
          "metadata": {},
          "output_type": "execute_result"
        }
      ],
      "source": [
        "np.sqrt(-1) == np.emath.sqrt(-1)  # False"
      ]
    },
    {
      "cell_type": "markdown",
      "id": "59b0a0c6",
      "metadata": {
        "papermill": {
          "duration": 0.021571,
          "end_time": "2025-06-26T08:24:05.185561",
          "exception": false,
          "start_time": "2025-06-26T08:24:05.16399",
          "status": "completed"
        },
        "tags": []
      },
      "source": [
        "#### 33. How to get the dates of yesterday, today and tomorrow (\u2605\u2606\u2606)"
      ]
    },
    {
      "cell_type": "code",
      "execution_count": null,
      "id": "efe93035",
      "metadata": {
        "papermill": {
          "duration": 0.022203,
          "end_time": "2025-06-26T08:24:05.229571",
          "exception": false,
          "start_time": "2025-06-26T08:24:05.207368",
          "status": "completed"
        },
        "tags": []
      },
      "outputs": [],
      "source": []
    },
    {
      "cell_type": "markdown",
      "id": "c0fce78b",
      "metadata": {
        "papermill": {
          "duration": 0.021303,
          "end_time": "2025-06-26T08:24:05.272457",
          "exception": false,
          "start_time": "2025-06-26T08:24:05.251154",
          "status": "completed"
        },
        "tags": []
      },
      "source": [
        "#### 34. How to get all the dates corresponding to the month of July 2016 (\u2605\u2605\u2606)"
      ]
    },
    {
      "cell_type": "code",
      "execution_count": null,
      "id": "df09611a",
      "metadata": {
        "papermill": {
          "duration": 0.021212,
          "end_time": "2025-06-26T08:24:05.31518",
          "exception": false,
          "start_time": "2025-06-26T08:24:05.293968",
          "status": "completed"
        },
        "tags": []
      },
      "outputs": [],
      "source": []
    },
    {
      "cell_type": "markdown",
      "id": "c0a9940f",
      "metadata": {
        "papermill": {
          "duration": 0.021473,
          "end_time": "2025-06-26T08:24:05.358282",
          "exception": false,
          "start_time": "2025-06-26T08:24:05.336809",
          "status": "completed"
        },
        "tags": []
      },
      "source": [
        "#### 35. How to compute ((A+B)*(-A/2)) in place (without copy) (\u2605\u2605\u2606)"
      ]
    },
    {
      "cell_type": "code",
      "execution_count": null,
      "id": "bdafcbed",
      "metadata": {
        "papermill": {
          "duration": 0.02134,
          "end_time": "2025-06-26T08:24:05.401239",
          "exception": false,
          "start_time": "2025-06-26T08:24:05.379899",
          "status": "completed"
        },
        "tags": []
      },
      "outputs": [],
      "source": []
    },
    {
      "cell_type": "markdown",
      "id": "9f268eca",
      "metadata": {
        "papermill": {
          "duration": 0.021186,
          "end_time": "2025-06-26T08:24:05.444481",
          "exception": false,
          "start_time": "2025-06-26T08:24:05.423295",
          "status": "completed"
        },
        "tags": []
      },
      "source": [
        "#### 36. Extract the integer part of a random array of positive numbers using 4 different methods (\u2605\u2605\u2606)"
      ]
    },
    {
      "cell_type": "code",
      "execution_count": null,
      "id": "12142327",
      "metadata": {
        "papermill": {
          "duration": 0.021364,
          "end_time": "2025-06-26T08:24:05.487533",
          "exception": false,
          "start_time": "2025-06-26T08:24:05.466169",
          "status": "completed"
        },
        "tags": []
      },
      "outputs": [],
      "source": []
    },
    {
      "cell_type": "markdown",
      "id": "10b9606c",
      "metadata": {
        "papermill": {
          "duration": 0.021293,
          "end_time": "2025-06-26T08:24:05.53058",
          "exception": false,
          "start_time": "2025-06-26T08:24:05.509287",
          "status": "completed"
        },
        "tags": []
      },
      "source": [
        "#### 37. Create a 5x5 matrix with row values ranging from 0 to 4 (\u2605\u2605\u2606)"
      ]
    },
    {
      "cell_type": "code",
      "execution_count": null,
      "id": "6cb71cdf",
      "metadata": {
        "papermill": {
          "duration": 0.021343,
          "end_time": "2025-06-26T08:24:05.573501",
          "exception": false,
          "start_time": "2025-06-26T08:24:05.552158",
          "status": "completed"
        },
        "tags": []
      },
      "outputs": [],
      "source": []
    },
    {
      "cell_type": "markdown",
      "id": "8221407c",
      "metadata": {
        "papermill": {
          "duration": 0.021257,
          "end_time": "2025-06-26T08:24:05.616368",
          "exception": false,
          "start_time": "2025-06-26T08:24:05.595111",
          "status": "completed"
        },
        "tags": []
      },
      "source": [
        "#### 38. Consider a generator function that generates 10 integers and use it to build an array (\u2605\u2606\u2606)"
      ]
    },
    {
      "cell_type": "code",
      "execution_count": null,
      "id": "20669786",
      "metadata": {
        "papermill": {
          "duration": 0.021189,
          "end_time": "2025-06-26T08:24:05.659022",
          "exception": false,
          "start_time": "2025-06-26T08:24:05.637833",
          "status": "completed"
        },
        "tags": []
      },
      "outputs": [],
      "source": []
    },
    {
      "cell_type": "markdown",
      "id": "6a5df877",
      "metadata": {
        "papermill": {
          "duration": 0.021452,
          "end_time": "2025-06-26T08:24:05.702381",
          "exception": false,
          "start_time": "2025-06-26T08:24:05.680929",
          "status": "completed"
        },
        "tags": []
      },
      "source": [
        "#### 39. Create a vector of size 10 with values ranging from 0 to 1, both excluded (\u2605\u2605\u2606)"
      ]
    },
    {
      "cell_type": "code",
      "execution_count": null,
      "id": "94c50622",
      "metadata": {
        "papermill": {
          "duration": 0.02158,
          "end_time": "2025-06-26T08:24:05.747002",
          "exception": false,
          "start_time": "2025-06-26T08:24:05.725422",
          "status": "completed"
        },
        "tags": []
      },
      "outputs": [],
      "source": []
    },
    {
      "cell_type": "markdown",
      "id": "25996a18",
      "metadata": {
        "papermill": {
          "duration": 0.021694,
          "end_time": "2025-06-26T08:24:05.791007",
          "exception": false,
          "start_time": "2025-06-26T08:24:05.769313",
          "status": "completed"
        },
        "tags": []
      },
      "source": [
        "#### 40. Create a random vector of size 10 and sort it (\u2605\u2605\u2606)"
      ]
    },
    {
      "cell_type": "code",
      "execution_count": null,
      "id": "a4f80f33",
      "metadata": {
        "papermill": {
          "duration": 0.022112,
          "end_time": "2025-06-26T08:24:05.835105",
          "exception": false,
          "start_time": "2025-06-26T08:24:05.812993",
          "status": "completed"
        },
        "tags": []
      },
      "outputs": [],
      "source": []
    },
    {
      "cell_type": "markdown",
      "id": "388aeef8",
      "metadata": {
        "papermill": {
          "duration": 0.021732,
          "end_time": "2025-06-26T08:24:05.878791",
          "exception": false,
          "start_time": "2025-06-26T08:24:05.857059",
          "status": "completed"
        },
        "tags": []
      },
      "source": [
        "#### 41. How to sum a small array faster than np.sum (\u2605\u2605\u2606)"
      ]
    },
    {
      "cell_type": "code",
      "execution_count": null,
      "id": "f68a053f",
      "metadata": {
        "papermill": {
          "duration": 0.021762,
          "end_time": "2025-06-26T08:24:05.922664",
          "exception": false,
          "start_time": "2025-06-26T08:24:05.900902",
          "status": "completed"
        },
        "tags": []
      },
      "outputs": [],
      "source": []
    },
    {
      "cell_type": "markdown",
      "id": "96c36cfb",
      "metadata": {
        "papermill": {
          "duration": 0.021725,
          "end_time": "2025-06-26T08:24:05.96649",
          "exception": false,
          "start_time": "2025-06-26T08:24:05.944765",
          "status": "completed"
        },
        "tags": []
      },
      "source": [
        "#### 42. Consider two random arrays A and B, check if they are equal (\u2605\u2605\u2606)"
      ]
    },
    {
      "cell_type": "code",
      "execution_count": null,
      "id": "5fc5700d",
      "metadata": {
        "papermill": {
          "duration": 0.022189,
          "end_time": "2025-06-26T08:24:06.010627",
          "exception": false,
          "start_time": "2025-06-26T08:24:05.988438",
          "status": "completed"
        },
        "tags": []
      },
      "outputs": [],
      "source": []
    },
    {
      "cell_type": "markdown",
      "id": "bd34c82c",
      "metadata": {
        "papermill": {
          "duration": 0.021655,
          "end_time": "2025-06-26T08:24:06.054311",
          "exception": false,
          "start_time": "2025-06-26T08:24:06.032656",
          "status": "completed"
        },
        "tags": []
      },
      "source": [
        "#### 43. Make an array immutable (read-only) (\u2605\u2605\u2606)"
      ]
    },
    {
      "cell_type": "code",
      "execution_count": null,
      "id": "23a4fbcf",
      "metadata": {
        "papermill": {
          "duration": 0.021592,
          "end_time": "2025-06-26T08:24:06.097858",
          "exception": false,
          "start_time": "2025-06-26T08:24:06.076266",
          "status": "completed"
        },
        "tags": []
      },
      "outputs": [],
      "source": []
    },
    {
      "cell_type": "markdown",
      "id": "8ff71f67",
      "metadata": {
        "papermill": {
          "duration": 0.022721,
          "end_time": "2025-06-26T08:24:06.142345",
          "exception": false,
          "start_time": "2025-06-26T08:24:06.119624",
          "status": "completed"
        },
        "tags": []
      },
      "source": [
        "#### 44. Consider a random 10x2 matrix representing cartesian coordinates, convert them to polar coordinates (\u2605\u2605\u2606)"
      ]
    },
    {
      "cell_type": "code",
      "execution_count": null,
      "id": "d88db2d0",
      "metadata": {
        "papermill": {
          "duration": 0.021747,
          "end_time": "2025-06-26T08:24:06.186517",
          "exception": false,
          "start_time": "2025-06-26T08:24:06.16477",
          "status": "completed"
        },
        "tags": []
      },
      "outputs": [],
      "source": []
    },
    {
      "cell_type": "markdown",
      "id": "cbe042dc",
      "metadata": {
        "papermill": {
          "duration": 0.021993,
          "end_time": "2025-06-26T08:24:06.230823",
          "exception": false,
          "start_time": "2025-06-26T08:24:06.20883",
          "status": "completed"
        },
        "tags": []
      },
      "source": [
        "#### 45. Create random vector of size 10 and replace the maximum value by 0 (\u2605\u2605\u2606)"
      ]
    },
    {
      "cell_type": "code",
      "execution_count": null,
      "id": "da9be50a",
      "metadata": {
        "papermill": {
          "duration": 0.021535,
          "end_time": "2025-06-26T08:24:06.274761",
          "exception": false,
          "start_time": "2025-06-26T08:24:06.253226",
          "status": "completed"
        },
        "tags": []
      },
      "outputs": [],
      "source": []
    },
    {
      "cell_type": "markdown",
      "id": "2ac8a667",
      "metadata": {
        "papermill": {
          "duration": 0.022329,
          "end_time": "2025-06-26T08:24:06.319609",
          "exception": false,
          "start_time": "2025-06-26T08:24:06.29728",
          "status": "completed"
        },
        "tags": []
      },
      "source": [
        "#### 46. Create a structured array with `x` and `y` coordinates covering the [0,1]x[0,1] area (\u2605\u2605\u2606)"
      ]
    },
    {
      "cell_type": "code",
      "execution_count": null,
      "id": "8a41760d",
      "metadata": {
        "papermill": {
          "duration": 0.021383,
          "end_time": "2025-06-26T08:24:06.362896",
          "exception": false,
          "start_time": "2025-06-26T08:24:06.341513",
          "status": "completed"
        },
        "tags": []
      },
      "outputs": [],
      "source": []
    },
    {
      "cell_type": "markdown",
      "id": "4843c9b3",
      "metadata": {
        "papermill": {
          "duration": 0.021913,
          "end_time": "2025-06-26T08:24:06.40707",
          "exception": false,
          "start_time": "2025-06-26T08:24:06.385157",
          "status": "completed"
        },
        "tags": []
      },
      "source": [
        "#### 47. Given two arrays, X and Y, construct the Cauchy matrix C (Cij =1/(xi - yj)) (\u2605\u2605\u2606)"
      ]
    },
    {
      "cell_type": "code",
      "execution_count": null,
      "id": "0eb3690e",
      "metadata": {
        "papermill": {
          "duration": 0.021995,
          "end_time": "2025-06-26T08:24:06.451878",
          "exception": false,
          "start_time": "2025-06-26T08:24:06.429883",
          "status": "completed"
        },
        "tags": []
      },
      "outputs": [],
      "source": []
    },
    {
      "cell_type": "markdown",
      "id": "200dbf6b",
      "metadata": {
        "papermill": {
          "duration": 0.021576,
          "end_time": "2025-06-26T08:24:06.495265",
          "exception": false,
          "start_time": "2025-06-26T08:24:06.473689",
          "status": "completed"
        },
        "tags": []
      },
      "source": [
        "#### 48. Print the minimum and maximum representable values for each numpy scalar type (\u2605\u2605\u2606)"
      ]
    },
    {
      "cell_type": "code",
      "execution_count": null,
      "id": "72b92632",
      "metadata": {
        "papermill": {
          "duration": 0.021419,
          "end_time": "2025-06-26T08:24:06.538463",
          "exception": false,
          "start_time": "2025-06-26T08:24:06.517044",
          "status": "completed"
        },
        "tags": []
      },
      "outputs": [],
      "source": []
    },
    {
      "cell_type": "markdown",
      "id": "13355024",
      "metadata": {
        "papermill": {
          "duration": 0.022416,
          "end_time": "2025-06-26T08:24:06.584311",
          "exception": false,
          "start_time": "2025-06-26T08:24:06.561895",
          "status": "completed"
        },
        "tags": []
      },
      "source": [
        "#### 49. How to print all the values of an array (\u2605\u2605\u2606)"
      ]
    },
    {
      "cell_type": "code",
      "execution_count": null,
      "id": "6d8a49c3",
      "metadata": {
        "papermill": {
          "duration": 0.021434,
          "end_time": "2025-06-26T08:24:06.62768",
          "exception": false,
          "start_time": "2025-06-26T08:24:06.606246",
          "status": "completed"
        },
        "tags": []
      },
      "outputs": [],
      "source": []
    },
    {
      "cell_type": "markdown",
      "id": "5105466d",
      "metadata": {
        "papermill": {
          "duration": 0.08137,
          "end_time": "2025-06-26T08:24:06.730676",
          "exception": false,
          "start_time": "2025-06-26T08:24:06.649306",
          "status": "completed"
        },
        "tags": []
      },
      "source": [
        "#### 50. How to find the closest value (to a given scalar) in a vector (\u2605\u2605\u2606)"
      ]
    },
    {
      "cell_type": "code",
      "execution_count": null,
      "id": "19ee26fb",
      "metadata": {
        "papermill": {
          "duration": 0.021111,
          "end_time": "2025-06-26T08:24:06.773552",
          "exception": false,
          "start_time": "2025-06-26T08:24:06.752441",
          "status": "completed"
        },
        "tags": []
      },
      "outputs": [],
      "source": []
    },
    {
      "cell_type": "markdown",
      "id": "39b4f1fc",
      "metadata": {
        "papermill": {
          "duration": 0.02145,
          "end_time": "2025-06-26T08:24:06.816462",
          "exception": false,
          "start_time": "2025-06-26T08:24:06.795012",
          "status": "completed"
        },
        "tags": []
      },
      "source": [
        "#### 51. Create a structured array representing a position (x,y) and a color (r,g,b) (\u2605\u2605\u2606)"
      ]
    },
    {
      "cell_type": "code",
      "execution_count": null,
      "id": "58dc37b5",
      "metadata": {
        "papermill": {
          "duration": 0.02177,
          "end_time": "2025-06-26T08:24:06.860443",
          "exception": false,
          "start_time": "2025-06-26T08:24:06.838673",
          "status": "completed"
        },
        "tags": []
      },
      "outputs": [],
      "source": []
    },
    {
      "cell_type": "markdown",
      "id": "146fc024",
      "metadata": {
        "papermill": {
          "duration": 0.023,
          "end_time": "2025-06-26T08:24:06.905266",
          "exception": false,
          "start_time": "2025-06-26T08:24:06.882266",
          "status": "completed"
        },
        "tags": []
      },
      "source": [
        "#### 52. Consider a random vector with shape (100,2) representing coordinates, find point by point distances (\u2605\u2605\u2606)"
      ]
    },
    {
      "cell_type": "code",
      "execution_count": null,
      "id": "aac36890",
      "metadata": {
        "papermill": {
          "duration": 0.021596,
          "end_time": "2025-06-26T08:24:06.949564",
          "exception": false,
          "start_time": "2025-06-26T08:24:06.927968",
          "status": "completed"
        },
        "tags": []
      },
      "outputs": [],
      "source": []
    },
    {
      "cell_type": "markdown",
      "id": "70fb36ae",
      "metadata": {
        "papermill": {
          "duration": 0.021459,
          "end_time": "2025-06-26T08:24:06.993313",
          "exception": false,
          "start_time": "2025-06-26T08:24:06.971854",
          "status": "completed"
        },
        "tags": []
      },
      "source": [
        "#### 53. How to convert a float (32 bits) array into an integer (32 bits) array in place"
      ]
    },
    {
      "cell_type": "code",
      "execution_count": null,
      "id": "1572ef2a",
      "metadata": {
        "papermill": {
          "duration": 0.021435,
          "end_time": "2025-06-26T08:24:07.036401",
          "exception": false,
          "start_time": "2025-06-26T08:24:07.014966",
          "status": "completed"
        },
        "tags": []
      },
      "outputs": [],
      "source": []
    },
    {
      "cell_type": "markdown",
      "id": "726c1a03",
      "metadata": {
        "papermill": {
          "duration": 0.022111,
          "end_time": "2025-06-26T08:24:07.080896",
          "exception": false,
          "start_time": "2025-06-26T08:24:07.058785",
          "status": "completed"
        },
        "tags": []
      },
      "source": [
        "#### 54. How to read the following file (\u2605\u2605\u2606)\n",
        "```\n",
        "1, 2, 3, 4, 5\n",
        "6,  ,  , 7, 8\n",
        " ,  , 9,10,11\n",
        "```"
      ]
    },
    {
      "cell_type": "code",
      "execution_count": null,
      "id": "ddc7ebaf",
      "metadata": {
        "papermill": {
          "duration": 0.021788,
          "end_time": "2025-06-26T08:24:07.124375",
          "exception": false,
          "start_time": "2025-06-26T08:24:07.102587",
          "status": "completed"
        },
        "tags": []
      },
      "outputs": [],
      "source": []
    },
    {
      "cell_type": "markdown",
      "id": "8529a2ca",
      "metadata": {
        "papermill": {
          "duration": 0.0222,
          "end_time": "2025-06-26T08:24:07.168327",
          "exception": false,
          "start_time": "2025-06-26T08:24:07.146127",
          "status": "completed"
        },
        "tags": []
      },
      "source": [
        "#### 55. What is the equivalent of enumerate for numpy arrays (\u2605\u2605\u2606)"
      ]
    },
    {
      "cell_type": "code",
      "execution_count": null,
      "id": "ce242d85",
      "metadata": {
        "papermill": {
          "duration": 0.021556,
          "end_time": "2025-06-26T08:24:07.212069",
          "exception": false,
          "start_time": "2025-06-26T08:24:07.190513",
          "status": "completed"
        },
        "tags": []
      },
      "outputs": [],
      "source": []
    },
    {
      "cell_type": "markdown",
      "id": "d0707598",
      "metadata": {
        "papermill": {
          "duration": 0.024996,
          "end_time": "2025-06-26T08:24:07.262147",
          "exception": false,
          "start_time": "2025-06-26T08:24:07.237151",
          "status": "completed"
        },
        "tags": []
      },
      "source": [
        "#### 56. Generate a generic 2D Gaussian-like array (\u2605\u2605\u2606)"
      ]
    },
    {
      "cell_type": "code",
      "execution_count": null,
      "id": "da4294bf",
      "metadata": {
        "papermill": {
          "duration": 0.021739,
          "end_time": "2025-06-26T08:24:07.307397",
          "exception": false,
          "start_time": "2025-06-26T08:24:07.285658",
          "status": "completed"
        },
        "tags": []
      },
      "outputs": [],
      "source": []
    },
    {
      "cell_type": "markdown",
      "id": "158a2167",
      "metadata": {
        "papermill": {
          "duration": 0.021375,
          "end_time": "2025-06-26T08:24:07.350739",
          "exception": false,
          "start_time": "2025-06-26T08:24:07.329364",
          "status": "completed"
        },
        "tags": []
      },
      "source": [
        "#### 57. How to randomly place p elements in a 2D array (\u2605\u2605\u2606)"
      ]
    },
    {
      "cell_type": "code",
      "execution_count": null,
      "id": "db3766ce",
      "metadata": {
        "papermill": {
          "duration": 0.021479,
          "end_time": "2025-06-26T08:24:07.393908",
          "exception": false,
          "start_time": "2025-06-26T08:24:07.372429",
          "status": "completed"
        },
        "tags": []
      },
      "outputs": [],
      "source": []
    },
    {
      "cell_type": "markdown",
      "id": "ea8015a4",
      "metadata": {
        "papermill": {
          "duration": 0.021585,
          "end_time": "2025-06-26T08:24:07.437163",
          "exception": false,
          "start_time": "2025-06-26T08:24:07.415578",
          "status": "completed"
        },
        "tags": []
      },
      "source": [
        "#### 58. Subtract the mean of each row of a matrix (\u2605\u2605\u2606)"
      ]
    },
    {
      "cell_type": "code",
      "execution_count": null,
      "id": "56456e48",
      "metadata": {
        "papermill": {
          "duration": 0.021336,
          "end_time": "2025-06-26T08:24:07.480074",
          "exception": false,
          "start_time": "2025-06-26T08:24:07.458738",
          "status": "completed"
        },
        "tags": []
      },
      "outputs": [],
      "source": []
    },
    {
      "cell_type": "markdown",
      "id": "4c91bc07",
      "metadata": {
        "papermill": {
          "duration": 0.02135,
          "end_time": "2025-06-26T08:24:07.522996",
          "exception": false,
          "start_time": "2025-06-26T08:24:07.501646",
          "status": "completed"
        },
        "tags": []
      },
      "source": [
        "#### 59. How to sort an array by the nth column (\u2605\u2605\u2606)"
      ]
    },
    {
      "cell_type": "code",
      "execution_count": null,
      "id": "459952db",
      "metadata": {
        "papermill": {
          "duration": 0.021208,
          "end_time": "2025-06-26T08:24:07.5659",
          "exception": false,
          "start_time": "2025-06-26T08:24:07.544692",
          "status": "completed"
        },
        "tags": []
      },
      "outputs": [],
      "source": []
    },
    {
      "cell_type": "markdown",
      "id": "db91e468",
      "metadata": {
        "papermill": {
          "duration": 0.021392,
          "end_time": "2025-06-26T08:24:07.608868",
          "exception": false,
          "start_time": "2025-06-26T08:24:07.587476",
          "status": "completed"
        },
        "tags": []
      },
      "source": [
        "#### 60. How to tell if a given 2D array has null columns (\u2605\u2605\u2606)"
      ]
    },
    {
      "cell_type": "code",
      "execution_count": null,
      "id": "2b0da2c6",
      "metadata": {
        "papermill": {
          "duration": 0.023,
          "end_time": "2025-06-26T08:24:07.653534",
          "exception": false,
          "start_time": "2025-06-26T08:24:07.630534",
          "status": "completed"
        },
        "tags": []
      },
      "outputs": [],
      "source": []
    },
    {
      "cell_type": "markdown",
      "id": "ee8f98e6",
      "metadata": {
        "papermill": {
          "duration": 0.024687,
          "end_time": "2025-06-26T08:24:07.70701",
          "exception": false,
          "start_time": "2025-06-26T08:24:07.682323",
          "status": "completed"
        },
        "tags": []
      },
      "source": [
        "#### 61. Find the nearest value from a given value in an array (\u2605\u2605\u2606)"
      ]
    },
    {
      "cell_type": "code",
      "execution_count": null,
      "id": "da0ff500",
      "metadata": {
        "papermill": {
          "duration": 0.021408,
          "end_time": "2025-06-26T08:24:07.753584",
          "exception": false,
          "start_time": "2025-06-26T08:24:07.732176",
          "status": "completed"
        },
        "tags": []
      },
      "outputs": [],
      "source": []
    },
    {
      "cell_type": "markdown",
      "id": "3590b0a7",
      "metadata": {
        "papermill": {
          "duration": 0.024988,
          "end_time": "2025-06-26T08:24:07.800826",
          "exception": false,
          "start_time": "2025-06-26T08:24:07.775838",
          "status": "completed"
        },
        "tags": []
      },
      "source": [
        "#### 62. Considering two arrays with shape (1,3) and (3,1), how to compute their sum using an iterator (\u2605\u2605\u2606)"
      ]
    },
    {
      "cell_type": "code",
      "execution_count": null,
      "id": "06551524",
      "metadata": {
        "papermill": {
          "duration": 0.028503,
          "end_time": "2025-06-26T08:24:07.856176",
          "exception": false,
          "start_time": "2025-06-26T08:24:07.827673",
          "status": "completed"
        },
        "tags": []
      },
      "outputs": [],
      "source": []
    },
    {
      "cell_type": "markdown",
      "id": "049418e6",
      "metadata": {
        "papermill": {
          "duration": 0.022023,
          "end_time": "2025-06-26T08:24:07.905767",
          "exception": false,
          "start_time": "2025-06-26T08:24:07.883744",
          "status": "completed"
        },
        "tags": []
      },
      "source": [
        "#### 63. Create an array class that has a name attribute (\u2605\u2605\u2606)"
      ]
    },
    {
      "cell_type": "code",
      "execution_count": null,
      "id": "baa7a1e1",
      "metadata": {
        "papermill": {
          "duration": 0.021345,
          "end_time": "2025-06-26T08:24:07.949028",
          "exception": false,
          "start_time": "2025-06-26T08:24:07.927683",
          "status": "completed"
        },
        "tags": []
      },
      "outputs": [],
      "source": []
    },
    {
      "cell_type": "markdown",
      "id": "bc821cf3",
      "metadata": {
        "papermill": {
          "duration": 0.021745,
          "end_time": "2025-06-26T08:24:07.992212",
          "exception": false,
          "start_time": "2025-06-26T08:24:07.970467",
          "status": "completed"
        },
        "tags": []
      },
      "source": [
        "#### 64. Consider a given vector, how to add 1 to each element indexed by a second vector (be careful with repeated indices) (\u2605\u2605\u2605)"
      ]
    },
    {
      "cell_type": "code",
      "execution_count": null,
      "id": "d63c316e",
      "metadata": {
        "papermill": {
          "duration": 0.021289,
          "end_time": "2025-06-26T08:24:08.035152",
          "exception": false,
          "start_time": "2025-06-26T08:24:08.013863",
          "status": "completed"
        },
        "tags": []
      },
      "outputs": [],
      "source": []
    },
    {
      "cell_type": "markdown",
      "id": "d60e86ad",
      "metadata": {
        "papermill": {
          "duration": 0.021414,
          "end_time": "2025-06-26T08:24:08.078318",
          "exception": false,
          "start_time": "2025-06-26T08:24:08.056904",
          "status": "completed"
        },
        "tags": []
      },
      "source": [
        "#### 65. How to accumulate elements of a vector (X) to an array (F) based on an index list (I) (\u2605\u2605\u2605)"
      ]
    },
    {
      "cell_type": "code",
      "execution_count": null,
      "id": "5062dfd1",
      "metadata": {
        "papermill": {
          "duration": 0.021374,
          "end_time": "2025-06-26T08:24:08.121487",
          "exception": false,
          "start_time": "2025-06-26T08:24:08.100113",
          "status": "completed"
        },
        "tags": []
      },
      "outputs": [],
      "source": []
    },
    {
      "cell_type": "markdown",
      "id": "2a5713fa",
      "metadata": {
        "papermill": {
          "duration": 0.021479,
          "end_time": "2025-06-26T08:24:08.164563",
          "exception": false,
          "start_time": "2025-06-26T08:24:08.143084",
          "status": "completed"
        },
        "tags": []
      },
      "source": [
        "#### 66. Considering a (w,h,3) image of (dtype=ubyte), compute the number of unique colors (\u2605\u2605\u2606)"
      ]
    },
    {
      "cell_type": "code",
      "execution_count": null,
      "id": "34b84c35",
      "metadata": {
        "papermill": {
          "duration": 0.021655,
          "end_time": "2025-06-26T08:24:08.20793",
          "exception": false,
          "start_time": "2025-06-26T08:24:08.186275",
          "status": "completed"
        },
        "tags": []
      },
      "outputs": [],
      "source": []
    },
    {
      "cell_type": "markdown",
      "id": "77cfca45",
      "metadata": {
        "papermill": {
          "duration": 0.021891,
          "end_time": "2025-06-26T08:24:08.251373",
          "exception": false,
          "start_time": "2025-06-26T08:24:08.229482",
          "status": "completed"
        },
        "tags": []
      },
      "source": [
        "#### 67. Considering a four dimensions array, how to get sum over the last two axis at once (\u2605\u2605\u2605)"
      ]
    },
    {
      "cell_type": "code",
      "execution_count": null,
      "id": "a422782b",
      "metadata": {
        "papermill": {
          "duration": 0.021395,
          "end_time": "2025-06-26T08:24:08.294463",
          "exception": false,
          "start_time": "2025-06-26T08:24:08.273068",
          "status": "completed"
        },
        "tags": []
      },
      "outputs": [],
      "source": []
    },
    {
      "cell_type": "markdown",
      "id": "f0783c38",
      "metadata": {
        "papermill": {
          "duration": 0.021464,
          "end_time": "2025-06-26T08:24:08.337564",
          "exception": false,
          "start_time": "2025-06-26T08:24:08.3161",
          "status": "completed"
        },
        "tags": []
      },
      "source": [
        "#### 68. Considering a one-dimensional vector D, how to compute means of subsets of D using a vector S of same size describing subset  indices (\u2605\u2605\u2605)"
      ]
    },
    {
      "cell_type": "code",
      "execution_count": null,
      "id": "ca598489",
      "metadata": {
        "papermill": {
          "duration": 0.021401,
          "end_time": "2025-06-26T08:24:08.380595",
          "exception": false,
          "start_time": "2025-06-26T08:24:08.359194",
          "status": "completed"
        },
        "tags": []
      },
      "outputs": [],
      "source": []
    },
    {
      "cell_type": "markdown",
      "id": "9505c15a",
      "metadata": {
        "papermill": {
          "duration": 0.021798,
          "end_time": "2025-06-26T08:24:08.424146",
          "exception": false,
          "start_time": "2025-06-26T08:24:08.402348",
          "status": "completed"
        },
        "tags": []
      },
      "source": [
        "#### 69. How to get the diagonal of a dot product (\u2605\u2605\u2605)"
      ]
    },
    {
      "cell_type": "code",
      "execution_count": null,
      "id": "e514d9f4",
      "metadata": {
        "papermill": {
          "duration": 0.021278,
          "end_time": "2025-06-26T08:24:08.467078",
          "exception": false,
          "start_time": "2025-06-26T08:24:08.4458",
          "status": "completed"
        },
        "tags": []
      },
      "outputs": [],
      "source": []
    },
    {
      "cell_type": "markdown",
      "id": "a3744d57",
      "metadata": {
        "papermill": {
          "duration": 0.021039,
          "end_time": "2025-06-26T08:24:08.509505",
          "exception": false,
          "start_time": "2025-06-26T08:24:08.488466",
          "status": "completed"
        },
        "tags": []
      },
      "source": [
        "#### 70. Consider the vector [1, 2, 3, 4, 5], how to build a new vector with 3 consecutive zeros interleaved between each value (\u2605\u2605\u2605)"
      ]
    },
    {
      "cell_type": "code",
      "execution_count": null,
      "id": "65f5052c",
      "metadata": {
        "papermill": {
          "duration": 0.021412,
          "end_time": "2025-06-26T08:24:08.552547",
          "exception": false,
          "start_time": "2025-06-26T08:24:08.531135",
          "status": "completed"
        },
        "tags": []
      },
      "outputs": [],
      "source": []
    },
    {
      "cell_type": "markdown",
      "id": "bcc9f038",
      "metadata": {
        "papermill": {
          "duration": 0.021223,
          "end_time": "2025-06-26T08:24:08.59533",
          "exception": false,
          "start_time": "2025-06-26T08:24:08.574107",
          "status": "completed"
        },
        "tags": []
      },
      "source": [
        "#### 71. Consider an array of dimension (5,5,3), how to multiply it by an array with dimensions (5,5) (\u2605\u2605\u2605)"
      ]
    },
    {
      "cell_type": "code",
      "execution_count": null,
      "id": "87a1d06f",
      "metadata": {
        "papermill": {
          "duration": 0.02193,
          "end_time": "2025-06-26T08:24:08.639064",
          "exception": false,
          "start_time": "2025-06-26T08:24:08.617134",
          "status": "completed"
        },
        "tags": []
      },
      "outputs": [],
      "source": []
    },
    {
      "cell_type": "markdown",
      "id": "ebf4b680",
      "metadata": {
        "papermill": {
          "duration": 0.021566,
          "end_time": "2025-06-26T08:24:08.682543",
          "exception": false,
          "start_time": "2025-06-26T08:24:08.660977",
          "status": "completed"
        },
        "tags": []
      },
      "source": [
        "#### 72. How to swap two rows of an array (\u2605\u2605\u2605)"
      ]
    },
    {
      "cell_type": "code",
      "execution_count": null,
      "id": "78c922eb",
      "metadata": {
        "papermill": {
          "duration": 0.02262,
          "end_time": "2025-06-26T08:24:08.726943",
          "exception": false,
          "start_time": "2025-06-26T08:24:08.704323",
          "status": "completed"
        },
        "tags": []
      },
      "outputs": [],
      "source": []
    },
    {
      "cell_type": "markdown",
      "id": "eb86ea93",
      "metadata": {
        "papermill": {
          "duration": 0.021427,
          "end_time": "2025-06-26T08:24:08.770027",
          "exception": false,
          "start_time": "2025-06-26T08:24:08.7486",
          "status": "completed"
        },
        "tags": []
      },
      "source": [
        "#### 73. Consider a set of 10 triplets describing 10 triangles (with shared vertices), find the set of unique line segments composing all the  triangles (\u2605\u2605\u2605)"
      ]
    },
    {
      "cell_type": "code",
      "execution_count": null,
      "id": "e5e72db8",
      "metadata": {
        "papermill": {
          "duration": 0.021585,
          "end_time": "2025-06-26T08:24:08.813251",
          "exception": false,
          "start_time": "2025-06-26T08:24:08.791666",
          "status": "completed"
        },
        "tags": []
      },
      "outputs": [],
      "source": []
    },
    {
      "cell_type": "markdown",
      "id": "44470417",
      "metadata": {
        "papermill": {
          "duration": 0.021314,
          "end_time": "2025-06-26T08:24:08.856464",
          "exception": false,
          "start_time": "2025-06-26T08:24:08.83515",
          "status": "completed"
        },
        "tags": []
      },
      "source": [
        "#### 74. Given a sorted array C that corresponds to a bincount, how to produce an array A such that np.bincount(A) == C (\u2605\u2605\u2605)"
      ]
    },
    {
      "cell_type": "code",
      "execution_count": null,
      "id": "b11b4cc7",
      "metadata": {
        "papermill": {
          "duration": 0.021493,
          "end_time": "2025-06-26T08:24:08.899965",
          "exception": false,
          "start_time": "2025-06-26T08:24:08.878472",
          "status": "completed"
        },
        "tags": []
      },
      "outputs": [],
      "source": []
    },
    {
      "cell_type": "markdown",
      "id": "29952537",
      "metadata": {
        "papermill": {
          "duration": 0.021328,
          "end_time": "2025-06-26T08:24:08.94305",
          "exception": false,
          "start_time": "2025-06-26T08:24:08.921722",
          "status": "completed"
        },
        "tags": []
      },
      "source": [
        "#### 75. How to compute averages using a sliding window over an array (\u2605\u2605\u2605)"
      ]
    },
    {
      "cell_type": "code",
      "execution_count": null,
      "id": "af88a8a3",
      "metadata": {
        "papermill": {
          "duration": 0.021705,
          "end_time": "2025-06-26T08:24:08.986196",
          "exception": false,
          "start_time": "2025-06-26T08:24:08.964491",
          "status": "completed"
        },
        "tags": []
      },
      "outputs": [],
      "source": []
    },
    {
      "cell_type": "markdown",
      "id": "7d755924",
      "metadata": {
        "papermill": {
          "duration": 0.02142,
          "end_time": "2025-06-26T08:24:09.029351",
          "exception": false,
          "start_time": "2025-06-26T08:24:09.007931",
          "status": "completed"
        },
        "tags": []
      },
      "source": [
        "#### 76. Consider a one-dimensional array Z, build a two-dimensional array whose first row is (Z[0],Z[1],Z[2]) and each subsequent row is  shifted by 1 (last row should be (Z[-3],Z[-2],Z[-1]) (\u2605\u2605\u2605)"
      ]
    },
    {
      "cell_type": "code",
      "execution_count": null,
      "id": "6a303306",
      "metadata": {
        "papermill": {
          "duration": 0.021223,
          "end_time": "2025-06-26T08:24:09.072301",
          "exception": false,
          "start_time": "2025-06-26T08:24:09.051078",
          "status": "completed"
        },
        "tags": []
      },
      "outputs": [],
      "source": []
    },
    {
      "cell_type": "markdown",
      "id": "0b670a1f",
      "metadata": {
        "papermill": {
          "duration": 0.021328,
          "end_time": "2025-06-26T08:24:09.11518",
          "exception": false,
          "start_time": "2025-06-26T08:24:09.093852",
          "status": "completed"
        },
        "tags": []
      },
      "source": [
        "#### 77. How to negate a boolean, or to change the sign of a float inplace (\u2605\u2605\u2605)"
      ]
    },
    {
      "cell_type": "code",
      "execution_count": null,
      "id": "7e8e08ee",
      "metadata": {
        "papermill": {
          "duration": 0.022095,
          "end_time": "2025-06-26T08:24:09.160346",
          "exception": false,
          "start_time": "2025-06-26T08:24:09.138251",
          "status": "completed"
        },
        "tags": []
      },
      "outputs": [],
      "source": []
    },
    {
      "cell_type": "markdown",
      "id": "1ca06483",
      "metadata": {
        "papermill": {
          "duration": 0.021516,
          "end_time": "2025-06-26T08:24:09.204114",
          "exception": false,
          "start_time": "2025-06-26T08:24:09.182598",
          "status": "completed"
        },
        "tags": []
      },
      "source": [
        "#### 78. Consider 2 sets of points P0,P1 describing lines (2d) and a point p, how to compute distance from p to each line i (P0[i],P1[i]) (\u2605\u2605\u2605)"
      ]
    },
    {
      "cell_type": "code",
      "execution_count": null,
      "id": "a15c777e",
      "metadata": {
        "papermill": {
          "duration": 0.021796,
          "end_time": "2025-06-26T08:24:09.247598",
          "exception": false,
          "start_time": "2025-06-26T08:24:09.225802",
          "status": "completed"
        },
        "tags": []
      },
      "outputs": [],
      "source": []
    },
    {
      "cell_type": "markdown",
      "id": "ed0d5363",
      "metadata": {
        "papermill": {
          "duration": 0.021486,
          "end_time": "2025-06-26T08:24:09.291689",
          "exception": false,
          "start_time": "2025-06-26T08:24:09.270203",
          "status": "completed"
        },
        "tags": []
      },
      "source": [
        "#### 79. Consider 2 sets of points P0,P1 describing lines (2d) and a set of points P, how to compute distance from each point j (P[j]) to each line i (P0[i],P1[i]) (\u2605\u2605\u2605)"
      ]
    },
    {
      "cell_type": "code",
      "execution_count": null,
      "id": "38733252",
      "metadata": {
        "papermill": {
          "duration": 0.021471,
          "end_time": "2025-06-26T08:24:09.334937",
          "exception": false,
          "start_time": "2025-06-26T08:24:09.313466",
          "status": "completed"
        },
        "tags": []
      },
      "outputs": [],
      "source": []
    },
    {
      "cell_type": "markdown",
      "id": "0847b863",
      "metadata": {
        "papermill": {
          "duration": 0.021232,
          "end_time": "2025-06-26T08:24:09.377679",
          "exception": false,
          "start_time": "2025-06-26T08:24:09.356447",
          "status": "completed"
        },
        "tags": []
      },
      "source": [
        "#### 80. Consider an arbitrary array, write a function that extracts a subpart with a fixed shape and centered on a given element (pad with a `fill` value when necessary) (\u2605\u2605\u2605)"
      ]
    },
    {
      "cell_type": "code",
      "execution_count": null,
      "id": "83377607",
      "metadata": {
        "papermill": {
          "duration": 0.021392,
          "end_time": "2025-06-26T08:24:09.42121",
          "exception": false,
          "start_time": "2025-06-26T08:24:09.399818",
          "status": "completed"
        },
        "tags": []
      },
      "outputs": [],
      "source": []
    },
    {
      "cell_type": "markdown",
      "id": "e9241e38",
      "metadata": {
        "papermill": {
          "duration": 0.0215,
          "end_time": "2025-06-26T08:24:09.464315",
          "exception": false,
          "start_time": "2025-06-26T08:24:09.442815",
          "status": "completed"
        },
        "tags": []
      },
      "source": [
        "#### 81. Consider an array Z = [1,2,3,4,5,6,7,8,9,10,11,12,13,14], how to generate an array R = [[1,2,3,4], [2,3,4,5], [3,4,5,6], ..., [11,12,13,14]] (\u2605\u2605\u2605)"
      ]
    },
    {
      "cell_type": "code",
      "execution_count": null,
      "id": "3c531d2e",
      "metadata": {
        "papermill": {
          "duration": 0.021567,
          "end_time": "2025-06-26T08:24:09.507566",
          "exception": false,
          "start_time": "2025-06-26T08:24:09.485999",
          "status": "completed"
        },
        "tags": []
      },
      "outputs": [],
      "source": []
    },
    {
      "cell_type": "markdown",
      "id": "40383e97",
      "metadata": {
        "papermill": {
          "duration": 0.021403,
          "end_time": "2025-06-26T08:24:09.550793",
          "exception": false,
          "start_time": "2025-06-26T08:24:09.52939",
          "status": "completed"
        },
        "tags": []
      },
      "source": [
        "#### 82. Compute a matrix rank (\u2605\u2605\u2605)"
      ]
    },
    {
      "cell_type": "code",
      "execution_count": null,
      "id": "5eb4a033",
      "metadata": {
        "papermill": {
          "duration": 0.021184,
          "end_time": "2025-06-26T08:24:09.593523",
          "exception": false,
          "start_time": "2025-06-26T08:24:09.572339",
          "status": "completed"
        },
        "tags": []
      },
      "outputs": [],
      "source": []
    },
    {
      "cell_type": "markdown",
      "id": "16e9a5e4",
      "metadata": {
        "papermill": {
          "duration": 0.021575,
          "end_time": "2025-06-26T08:24:09.636557",
          "exception": false,
          "start_time": "2025-06-26T08:24:09.614982",
          "status": "completed"
        },
        "tags": []
      },
      "source": [
        "#### 83. How to find the most frequent value in an array"
      ]
    },
    {
      "cell_type": "code",
      "execution_count": null,
      "id": "d005ef69",
      "metadata": {
        "papermill": {
          "duration": 0.02143,
          "end_time": "2025-06-26T08:24:09.679414",
          "exception": false,
          "start_time": "2025-06-26T08:24:09.657984",
          "status": "completed"
        },
        "tags": []
      },
      "outputs": [],
      "source": []
    },
    {
      "cell_type": "markdown",
      "id": "3538bbe3",
      "metadata": {
        "papermill": {
          "duration": 0.022437,
          "end_time": "2025-06-26T08:24:09.723529",
          "exception": false,
          "start_time": "2025-06-26T08:24:09.701092",
          "status": "completed"
        },
        "tags": []
      },
      "source": [
        "#### 84. Extract all the contiguous 3x3 blocks from a random 10x10 matrix (\u2605\u2605\u2605)"
      ]
    },
    {
      "cell_type": "code",
      "execution_count": null,
      "id": "cb8295ba",
      "metadata": {
        "papermill": {
          "duration": 0.079927,
          "end_time": "2025-06-26T08:24:09.825223",
          "exception": false,
          "start_time": "2025-06-26T08:24:09.745296",
          "status": "completed"
        },
        "tags": []
      },
      "outputs": [],
      "source": []
    },
    {
      "cell_type": "markdown",
      "id": "5dfd2485",
      "metadata": {
        "papermill": {
          "duration": 0.02139,
          "end_time": "2025-06-26T08:24:09.868029",
          "exception": false,
          "start_time": "2025-06-26T08:24:09.846639",
          "status": "completed"
        },
        "tags": []
      },
      "source": [
        "#### 85. Create a 2D array subclass such that Z[i,j] == Z[j,i] (\u2605\u2605\u2605)"
      ]
    },
    {
      "cell_type": "code",
      "execution_count": null,
      "id": "6e4f8632",
      "metadata": {
        "papermill": {
          "duration": 0.021769,
          "end_time": "2025-06-26T08:24:09.91228",
          "exception": false,
          "start_time": "2025-06-26T08:24:09.890511",
          "status": "completed"
        },
        "tags": []
      },
      "outputs": [],
      "source": []
    },
    {
      "cell_type": "markdown",
      "id": "91675a3b",
      "metadata": {
        "papermill": {
          "duration": 0.021524,
          "end_time": "2025-06-26T08:24:09.955387",
          "exception": false,
          "start_time": "2025-06-26T08:24:09.933863",
          "status": "completed"
        },
        "tags": []
      },
      "source": [
        "#### 86. Consider a set of p matrices with shape (n,n) and a set of p vectors with shape (n,1). How to compute the sum of of the p matrix products at once (result has shape (n,1)) (\u2605\u2605\u2605)"
      ]
    },
    {
      "cell_type": "code",
      "execution_count": null,
      "id": "78a4186c",
      "metadata": {
        "papermill": {
          "duration": 0.021857,
          "end_time": "2025-06-26T08:24:09.999938",
          "exception": false,
          "start_time": "2025-06-26T08:24:09.978081",
          "status": "completed"
        },
        "tags": []
      },
      "outputs": [],
      "source": []
    },
    {
      "cell_type": "markdown",
      "id": "3bb8e112",
      "metadata": {
        "papermill": {
          "duration": 0.021637,
          "end_time": "2025-06-26T08:24:10.043565",
          "exception": false,
          "start_time": "2025-06-26T08:24:10.021928",
          "status": "completed"
        },
        "tags": []
      },
      "source": [
        "#### 87. Consider a 16x16 array, how to get the block-sum (block size is 4x4) (\u2605\u2605\u2605)"
      ]
    },
    {
      "cell_type": "code",
      "execution_count": null,
      "id": "ddaa3e52",
      "metadata": {
        "papermill": {
          "duration": 0.021662,
          "end_time": "2025-06-26T08:24:10.087086",
          "exception": false,
          "start_time": "2025-06-26T08:24:10.065424",
          "status": "completed"
        },
        "tags": []
      },
      "outputs": [],
      "source": []
    },
    {
      "cell_type": "markdown",
      "id": "bf5c5b8f",
      "metadata": {
        "papermill": {
          "duration": 0.021748,
          "end_time": "2025-06-26T08:24:10.13064",
          "exception": false,
          "start_time": "2025-06-26T08:24:10.108892",
          "status": "completed"
        },
        "tags": []
      },
      "source": [
        "#### 88. How to implement the Game of Life using numpy arrays (\u2605\u2605\u2605)"
      ]
    },
    {
      "cell_type": "code",
      "execution_count": null,
      "id": "ee2fd871",
      "metadata": {
        "papermill": {
          "duration": 0.021549,
          "end_time": "2025-06-26T08:24:10.174241",
          "exception": false,
          "start_time": "2025-06-26T08:24:10.152692",
          "status": "completed"
        },
        "tags": []
      },
      "outputs": [],
      "source": []
    },
    {
      "cell_type": "markdown",
      "id": "8fa9a754",
      "metadata": {
        "papermill": {
          "duration": 0.021786,
          "end_time": "2025-06-26T08:24:10.217986",
          "exception": false,
          "start_time": "2025-06-26T08:24:10.1962",
          "status": "completed"
        },
        "tags": []
      },
      "source": [
        "#### 89. How to get the n largest values of an array (\u2605\u2605\u2605)"
      ]
    },
    {
      "cell_type": "code",
      "execution_count": null,
      "id": "cb393de7",
      "metadata": {
        "papermill": {
          "duration": 0.021325,
          "end_time": "2025-06-26T08:24:10.261289",
          "exception": false,
          "start_time": "2025-06-26T08:24:10.239964",
          "status": "completed"
        },
        "tags": []
      },
      "outputs": [],
      "source": []
    },
    {
      "cell_type": "markdown",
      "id": "8e81cbc3",
      "metadata": {
        "papermill": {
          "duration": 0.021448,
          "end_time": "2025-06-26T08:24:10.305044",
          "exception": false,
          "start_time": "2025-06-26T08:24:10.283596",
          "status": "completed"
        },
        "tags": []
      },
      "source": [
        "#### 90. Given an arbitrary number of vectors, build the cartesian product (every combination of every item) (\u2605\u2605\u2605)"
      ]
    },
    {
      "cell_type": "code",
      "execution_count": null,
      "id": "9b5430ff",
      "metadata": {
        "papermill": {
          "duration": 0.021397,
          "end_time": "2025-06-26T08:24:10.348068",
          "exception": false,
          "start_time": "2025-06-26T08:24:10.326671",
          "status": "completed"
        },
        "tags": []
      },
      "outputs": [],
      "source": []
    },
    {
      "cell_type": "markdown",
      "id": "5cdaa2af",
      "metadata": {
        "papermill": {
          "duration": 0.021521,
          "end_time": "2025-06-26T08:24:10.391301",
          "exception": false,
          "start_time": "2025-06-26T08:24:10.36978",
          "status": "completed"
        },
        "tags": []
      },
      "source": [
        "#### 91. How to create a record array from a regular array (\u2605\u2605\u2605)"
      ]
    },
    {
      "cell_type": "code",
      "execution_count": null,
      "id": "bf140df0",
      "metadata": {
        "papermill": {
          "duration": 0.021431,
          "end_time": "2025-06-26T08:24:10.434495",
          "exception": false,
          "start_time": "2025-06-26T08:24:10.413064",
          "status": "completed"
        },
        "tags": []
      },
      "outputs": [],
      "source": []
    },
    {
      "cell_type": "markdown",
      "id": "9f64df83",
      "metadata": {
        "papermill": {
          "duration": 0.021373,
          "end_time": "2025-06-26T08:24:10.477506",
          "exception": false,
          "start_time": "2025-06-26T08:24:10.456133",
          "status": "completed"
        },
        "tags": []
      },
      "source": [
        "#### 92. Consider a large vector Z, compute Z to the power of 3 using 3 different methods (\u2605\u2605\u2605)"
      ]
    },
    {
      "cell_type": "code",
      "execution_count": null,
      "id": "dc28c845",
      "metadata": {
        "papermill": {
          "duration": 0.021331,
          "end_time": "2025-06-26T08:24:10.52029",
          "exception": false,
          "start_time": "2025-06-26T08:24:10.498959",
          "status": "completed"
        },
        "tags": []
      },
      "outputs": [],
      "source": []
    },
    {
      "cell_type": "markdown",
      "id": "50dea182",
      "metadata": {
        "papermill": {
          "duration": 0.021204,
          "end_time": "2025-06-26T08:24:10.563283",
          "exception": false,
          "start_time": "2025-06-26T08:24:10.542079",
          "status": "completed"
        },
        "tags": []
      },
      "source": [
        "#### 93. Consider two arrays A and B of shape (8,3) and (2,2). How to find rows of A that contain elements of each row of B regardless of the order of the elements in B (\u2605\u2605\u2605)"
      ]
    },
    {
      "cell_type": "code",
      "execution_count": null,
      "id": "eafdcdef",
      "metadata": {
        "papermill": {
          "duration": 0.021401,
          "end_time": "2025-06-26T08:24:10.606191",
          "exception": false,
          "start_time": "2025-06-26T08:24:10.58479",
          "status": "completed"
        },
        "tags": []
      },
      "outputs": [],
      "source": []
    },
    {
      "cell_type": "markdown",
      "id": "3475fa5b",
      "metadata": {
        "papermill": {
          "duration": 0.021408,
          "end_time": "2025-06-26T08:24:10.649196",
          "exception": false,
          "start_time": "2025-06-26T08:24:10.627788",
          "status": "completed"
        },
        "tags": []
      },
      "source": [
        "#### 94. Considering a 10x3 matrix, extract rows with unequal values (e.g. [2,2,3]) (\u2605\u2605\u2605)"
      ]
    },
    {
      "cell_type": "code",
      "execution_count": null,
      "id": "d71435e4",
      "metadata": {
        "papermill": {
          "duration": 0.02139,
          "end_time": "2025-06-26T08:24:10.692402",
          "exception": false,
          "start_time": "2025-06-26T08:24:10.671012",
          "status": "completed"
        },
        "tags": []
      },
      "outputs": [],
      "source": []
    },
    {
      "cell_type": "markdown",
      "id": "7cdc6448",
      "metadata": {
        "papermill": {
          "duration": 0.022317,
          "end_time": "2025-06-26T08:24:10.736604",
          "exception": false,
          "start_time": "2025-06-26T08:24:10.714287",
          "status": "completed"
        },
        "tags": []
      },
      "source": [
        "#### 95. Convert a vector of ints into a matrix binary representation (\u2605\u2605\u2605)"
      ]
    },
    {
      "cell_type": "code",
      "execution_count": null,
      "id": "088099ec",
      "metadata": {
        "papermill": {
          "duration": 0.020927,
          "end_time": "2025-06-26T08:24:10.778993",
          "exception": false,
          "start_time": "2025-06-26T08:24:10.758066",
          "status": "completed"
        },
        "tags": []
      },
      "outputs": [],
      "source": []
    },
    {
      "cell_type": "markdown",
      "id": "41b8089f",
      "metadata": {
        "papermill": {
          "duration": 0.021455,
          "end_time": "2025-06-26T08:24:10.821811",
          "exception": false,
          "start_time": "2025-06-26T08:24:10.800356",
          "status": "completed"
        },
        "tags": []
      },
      "source": [
        "#### 96. Given a two dimensional array, how to extract unique rows (\u2605\u2605\u2605)"
      ]
    },
    {
      "cell_type": "code",
      "execution_count": null,
      "id": "8dc9162f",
      "metadata": {
        "papermill": {
          "duration": 0.021892,
          "end_time": "2025-06-26T08:24:10.865069",
          "exception": false,
          "start_time": "2025-06-26T08:24:10.843177",
          "status": "completed"
        },
        "tags": []
      },
      "outputs": [],
      "source": []
    },
    {
      "cell_type": "markdown",
      "id": "42fc38b5",
      "metadata": {
        "papermill": {
          "duration": 0.021621,
          "end_time": "2025-06-26T08:24:10.908677",
          "exception": false,
          "start_time": "2025-06-26T08:24:10.887056",
          "status": "completed"
        },
        "tags": []
      },
      "source": [
        "#### 97. Considering 2 vectors A & B, write the einsum equivalent of inner, outer, sum, and mul function (\u2605\u2605\u2605)"
      ]
    },
    {
      "cell_type": "code",
      "execution_count": null,
      "id": "a881df50",
      "metadata": {
        "papermill": {
          "duration": 0.021243,
          "end_time": "2025-06-26T08:24:10.951667",
          "exception": false,
          "start_time": "2025-06-26T08:24:10.930424",
          "status": "completed"
        },
        "tags": []
      },
      "outputs": [],
      "source": []
    },
    {
      "cell_type": "markdown",
      "id": "9cf7e26c",
      "metadata": {
        "papermill": {
          "duration": 0.022157,
          "end_time": "2025-06-26T08:24:10.995452",
          "exception": false,
          "start_time": "2025-06-26T08:24:10.973295",
          "status": "completed"
        },
        "tags": []
      },
      "source": [
        "#### 98. Considering a path described by two vectors (X,Y), how to sample it using equidistant samples (\u2605\u2605\u2605)"
      ]
    },
    {
      "cell_type": "code",
      "execution_count": null,
      "id": "67f43cbb",
      "metadata": {
        "papermill": {
          "duration": 0.021722,
          "end_time": "2025-06-26T08:24:11.039328",
          "exception": false,
          "start_time": "2025-06-26T08:24:11.017606",
          "status": "completed"
        },
        "tags": []
      },
      "outputs": [],
      "source": []
    },
    {
      "cell_type": "markdown",
      "id": "f19e92d4",
      "metadata": {
        "papermill": {
          "duration": 0.02167,
          "end_time": "2025-06-26T08:24:11.083438",
          "exception": false,
          "start_time": "2025-06-26T08:24:11.061768",
          "status": "completed"
        },
        "tags": []
      },
      "source": [
        "#### 99. Given an integer n and a 2D array X, select from X the rows which can be interpreted as draws from a multinomial distribution with n degrees, i.e., the rows which only contain integers and which sum to n. (\u2605\u2605\u2605)"
      ]
    },
    {
      "cell_type": "code",
      "execution_count": null,
      "id": "17630e45",
      "metadata": {
        "papermill": {
          "duration": 0.021785,
          "end_time": "2025-06-26T08:24:11.126987",
          "exception": false,
          "start_time": "2025-06-26T08:24:11.105202",
          "status": "completed"
        },
        "tags": []
      },
      "outputs": [],
      "source": []
    },
    {
      "cell_type": "markdown",
      "id": "9b465df7",
      "metadata": {
        "papermill": {
          "duration": 0.021724,
          "end_time": "2025-06-26T08:24:11.170296",
          "exception": false,
          "start_time": "2025-06-26T08:24:11.148572",
          "status": "completed"
        },
        "tags": []
      },
      "source": [
        "#### 100. Compute bootstrapped 95% confidence intervals for the mean of a 1D array X (i.e., resample the elements of an array with replacement N times, compute the mean of each sample, and then compute percentiles over the means). (\u2605\u2605\u2605)"
      ]
    },
    {
      "cell_type": "code",
      "execution_count": null,
      "id": "fe8f0465",
      "metadata": {
        "papermill": {
          "duration": 0.021386,
          "end_time": "2025-06-26T08:24:11.213767",
          "exception": false,
          "start_time": "2025-06-26T08:24:11.192381",
          "status": "completed"
        },
        "tags": []
      },
      "outputs": [],
      "source": []
    }
  ],
  "metadata": {
    "kaggle": {
      "accelerator": "none",
      "dataSources": [],
      "dockerImageVersionId": 31040,
      "isGpuEnabled": false,
      "isInternetEnabled": false,
      "language": "python",
      "sourceType": "notebook"
    },
    "kernelspec": {
      "display_name": "Python 3",
      "language": "python",
      "name": "python3"
    },
    "language_info": {
      "codemirror_mode": {
        "name": "ipython",
        "version": 3
      },
      "file_extension": ".py",
      "mimetype": "text/x-python",
      "name": "python",
      "nbconvert_exporter": "python",
      "pygments_lexer": "ipython3",
      "version": "3.11.11"
    },
    "papermill": {
      "default_parameters": {},
      "duration": 14.51999,
      "end_time": "2025-06-26T08:24:11.552627",
      "environment_variables": {},
      "exception": null,
      "input_path": "__notebook__.ipynb",
      "output_path": "__notebook__.ipynb",
      "parameters": {},
      "start_time": "2025-06-26T08:23:57.032637",
      "version": "2.6.0"
    }
  },
  "nbformat": 4,
  "nbformat_minor": 5
}
