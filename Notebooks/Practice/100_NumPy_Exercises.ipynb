{
  "cells": [
    {
      "cell_type": "markdown",
      "id": "565730a3",
      "metadata": {
        "papermill": {
          "duration": 0.020918,
          "end_time": "2025-06-26T08:54:22.215800",
          "exception": false,
          "start_time": "2025-06-26T08:54:22.194882",
          "status": "completed"
        },
        "tags": []
      },
      "source": [
        "<a href=\"https://www.kaggle.com/code/gvatsal60/100-numpy-exercises\" target=\"_blank\"><img align=\"left\" alt=\"Kaggle\" title=\"Open in Kaggle\" src=\"https://kaggle.com/static/images/open-in-kaggle.svg\"></a>"
      ]
    },
    {
      "cell_type": "markdown",
      "id": "6b4e6b8e",
      "metadata": {
        "papermill": {
          "duration": 0.018428,
          "end_time": "2025-06-26T08:54:22.252428",
          "exception": false,
          "start_time": "2025-06-26T08:54:22.234000",
          "status": "completed"
        },
        "tags": []
      },
      "source": [
        "# \ud83c\udfaf 100 NumPy Exercises\n",
        "\n",
        "Welcome to **100 NumPy Exercises** \u2014 a curated collection of problems designed to sharpen your skills in NumPy, whether you're a beginner or a seasoned data wrangler.\n",
        "\n",
        "---\n",
        "\n",
        "\ud83d\udccc **About This Collection**\n",
        "\n",
        "This set of exercises has been gathered from:\n",
        "- The **NumPy mailing list**\n",
        "- **Stack Overflow** discussions\n",
        "- The **official NumPy documentation**\n",
        "\n",
        "The primary goal is to serve as:\n",
        "- \ud83d\udcda A quick reference for both new and experienced users  \n",
        "- \ud83c\udf93 A practical toolkit for educators and learners\n",
        "\n",
        "---\n",
        "\n",
        "\ud83d\udcac **Suggestions or Corrections?**\n",
        "\n",
        "If you find an error or have a better solution, feel free to contribute!  \n",
        "\u27a1\ufe0f Open an issue here: [100-Numpy-Exercise](https://github.com/gvatsal60/ds-on-kaggle/issues)\n",
        "\n",
        "---\n",
        "\n",
        "\ud83d\udcc4 **Credits and Licensing**\n",
        "\n",
        "Includes code and ideas derived from work by [Nicolas P. Rougier](https://github.com/rougier), \n",
        "used in accordance with the terms of the original [license](https://github.com/rougier/numpy-100/blob/master/LICENSE.txt).\n",
        "\n",
        "---\n",
        "\n",
        "\ud83e\udde0 **Ready to dive in?**  \n",
        "Let\u2019s explore the power of NumPy \u2014 one exercise at a time!\n"
      ]
    },
    {
      "cell_type": "markdown",
      "id": "0d0090e6",
      "metadata": {
        "papermill": {
          "duration": 0.018335,
          "end_time": "2025-06-26T08:54:22.289128",
          "exception": false,
          "start_time": "2025-06-26T08:54:22.270793",
          "status": "completed"
        },
        "tags": []
      },
      "source": []
    },
    {
      "cell_type": "markdown",
      "id": "8733a9e9",
      "metadata": {
        "papermill": {
          "duration": 0.018322,
          "end_time": "2025-06-26T08:54:22.326050",
          "exception": false,
          "start_time": "2025-06-26T08:54:22.307728",
          "status": "completed"
        },
        "tags": []
      },
      "source": []
    },
    {
      "cell_type": "markdown",
      "id": "064af80f",
      "metadata": {
        "papermill": {
          "duration": 0.01854,
          "end_time": "2025-06-26T08:54:22.415975",
          "exception": false,
          "start_time": "2025-06-26T08:54:22.397435",
          "status": "completed"
        },
        "tags": []
      },
      "source": [
        "#### 1. Import the numpy package under the name `np` (\u2605\u2606\u2606)"
      ]
    },
    {
      "cell_type": "code",
      "execution_count": 1,
      "id": "f3e5ca5f",
      "metadata": {
        "execution": {
          "iopub.execute_input": "2025-06-26T08:54:22.453629Z",
          "iopub.status.busy": "2025-06-26T08:54:22.453334Z",
          "iopub.status.idle": "2025-06-26T08:54:22.460462Z",
          "shell.execute_reply": "2025-06-26T08:54:22.459657Z"
        },
        "papermill": {
          "duration": 0.027506,
          "end_time": "2025-06-26T08:54:22.461766",
          "exception": false,
          "start_time": "2025-06-26T08:54:22.434260",
          "status": "completed"
        },
        "tags": []
      },
      "outputs": [],
      "source": [
        "import numpy as np"
      ]
    },
    {
      "cell_type": "markdown",
      "id": "26b555a5",
      "metadata": {
        "papermill": {
          "duration": 0.018332,
          "end_time": "2025-06-26T08:54:22.498933",
          "exception": false,
          "start_time": "2025-06-26T08:54:22.480601",
          "status": "completed"
        },
        "tags": []
      },
      "source": [
        "#### 2. Print the numpy version and the configuration (\u2605\u2606\u2606)"
      ]
    },
    {
      "cell_type": "code",
      "execution_count": 2,
      "id": "d2d3348c",
      "metadata": {
        "execution": {
          "iopub.execute_input": "2025-06-26T08:54:22.537980Z",
          "iopub.status.busy": "2025-06-26T08:54:22.537572Z",
          "iopub.status.idle": "2025-06-26T08:54:22.543211Z",
          "shell.execute_reply": "2025-06-26T08:54:22.542099Z"
        },
        "papermill": {
          "duration": 0.027167,
          "end_time": "2025-06-26T08:54:22.544624",
          "exception": false,
          "start_time": "2025-06-26T08:54:22.517457",
          "status": "completed"
        },
        "tags": []
      },
      "outputs": [
        {
          "name": "stdout",
          "output_type": "stream",
          "text": [
            "\u2605 NumPy Version: 1.26.4\n",
            "\u2606 NumPy Configuration:\n",
            "blas_armpl_info:\n",
            "  NOT AVAILABLE\n",
            "blas_mkl_info:\n",
            "    libraries = ['mkl_rt', 'pthread']\n",
            "    library_dirs = ['/home/sat_bot/base/conda-bld/numpy_and_dev_1715296241721/_h_env_placehold_placehold_placehold_placehold_placehold_placehold_placehold_placehold_placehold_placehold_placehold_placehold_placehold_placehold_placehold_placehold_placehold_placehold_placehold_p/lib']\n",
            "    define_macros = [('SCIPY_MKL_H', None), ('HAVE_CBLAS', None)]\n",
            "    include_dirs = ['/home/sat_bot/base/conda-bld/numpy_and_dev_1715296241721/_h_env_placehold_placehold_placehold_placehold_placehold_placehold_placehold_placehold_placehold_placehold_placehold_placehold_placehold_placehold_placehold_placehold_placehold_placehold_placehold_p/include']\n",
            "blas_opt_info:\n",
            "    libraries = ['mkl_rt', 'pthread']\n",
            "    library_dirs = ['/home/sat_bot/base/conda-bld/numpy_and_dev_1715296241721/_h_env_placehold_placehold_placehold_placehold_placehold_placehold_placehold_placehold_placehold_placehold_placehold_placehold_placehold_placehold_placehold_placehold_placehold_placehold_placehold_p/lib']\n",
            "    define_macros = [('SCIPY_MKL_H', None), ('HAVE_CBLAS', None)]\n",
            "    include_dirs = ['/home/sat_bot/base/conda-bld/numpy_and_dev_1715296241721/_h_env_placehold_placehold_placehold_placehold_placehold_placehold_placehold_placehold_placehold_placehold_placehold_placehold_placehold_placehold_placehold_placehold_placehold_placehold_placehold_p/include']\n",
            "lapack_armpl_info:\n",
            "  NOT AVAILABLE\n",
            "lapack_mkl_info:\n",
            "    libraries = ['mkl_rt', 'pthread']\n",
            "    library_dirs = ['/home/sat_bot/base/conda-bld/numpy_and_dev_1715296241721/_h_env_placehold_placehold_placehold_placehold_placehold_placehold_placehold_placehold_placehold_placehold_placehold_placehold_placehold_placehold_placehold_placehold_placehold_placehold_placehold_p/lib']\n",
            "    define_macros = [('SCIPY_MKL_H', None), ('HAVE_CBLAS', None)]\n",
            "    include_dirs = ['/home/sat_bot/base/conda-bld/numpy_and_dev_1715296241721/_h_env_placehold_placehold_placehold_placehold_placehold_placehold_placehold_placehold_placehold_placehold_placehold_placehold_placehold_placehold_placehold_placehold_placehold_placehold_placehold_p/include']\n",
            "lapack_opt_info:\n",
            "    libraries = ['mkl_rt', 'pthread']\n",
            "    library_dirs = ['/home/sat_bot/base/conda-bld/numpy_and_dev_1715296241721/_h_env_placehold_placehold_placehold_placehold_placehold_placehold_placehold_placehold_placehold_placehold_placehold_placehold_placehold_placehold_placehold_placehold_placehold_placehold_placehold_p/lib']\n",
            "    define_macros = [('SCIPY_MKL_H', None), ('HAVE_CBLAS', None)]\n",
            "    include_dirs = ['/home/sat_bot/base/conda-bld/numpy_and_dev_1715296241721/_h_env_placehold_placehold_placehold_placehold_placehold_placehold_placehold_placehold_placehold_placehold_placehold_placehold_placehold_placehold_placehold_placehold_placehold_placehold_placehold_p/include']\n",
            "Supported SIMD extensions in this NumPy install:\n",
            "    baseline = SSE,SSE2,SSE3\n",
            "    found = SSSE3,SSE41,POPCNT,SSE42,AVX,F16C,FMA3,AVX2,AVX512F,AVX512CD,AVX512_SKX\n",
            "    not found = AVX512_KNL,AVX512_KNM,AVX512_CLX,AVX512_CNL,AVX512_ICL,AVX512_SPR\n"
          ]
        }
      ],
      "source": [
        "print(\"\u2605 NumPy Version:\", np.__version__)\n",
        "print(\"\u2606 NumPy Configuration:\")\n",
        "np.show_config()"
      ]
    },
    {
      "cell_type": "markdown",
      "id": "1ea3efc3",
      "metadata": {
        "papermill": {
          "duration": 0.018659,
          "end_time": "2025-06-26T08:54:22.582837",
          "exception": false,
          "start_time": "2025-06-26T08:54:22.564178",
          "status": "completed"
        },
        "tags": []
      },
      "source": [
        "#### 3. Create a null vector of size 10 (\u2605\u2606\u2606)"
      ]
    },
    {
      "cell_type": "code",
      "execution_count": 3,
      "id": "8e074bd1",
      "metadata": {
        "execution": {
          "iopub.execute_input": "2025-06-26T08:54:22.620869Z",
          "iopub.status.busy": "2025-06-26T08:54:22.620160Z",
          "iopub.status.idle": "2025-06-26T08:54:22.626202Z",
          "shell.execute_reply": "2025-06-26T08:54:22.625537Z"
        },
        "papermill": {
          "duration": 0.02618,
          "end_time": "2025-06-26T08:54:22.627482",
          "exception": false,
          "start_time": "2025-06-26T08:54:22.601302",
          "status": "completed"
        },
        "tags": []
      },
      "outputs": [
        {
          "data": {
            "text/plain": [
              "array([4.66663933e-315, 0.00000000e+000, 8.25691926e-296, 0.00000000e+000,\n",
              "       6.00816991e-273, 0.00000000e+000, 2.96637014e-320, 9.93111473e-263,\n",
              "       1.44932313e-311, 0.00000000e+000])"
            ]
          },
          "execution_count": 3,
          "metadata": {},
          "output_type": "execute_result"
        }
      ],
      "source": [
        "nullVec = np.empty(10)\n",
        "\n",
        "nullVec"
      ]
    },
    {
      "cell_type": "markdown",
      "id": "96e775cd",
      "metadata": {
        "papermill": {
          "duration": 0.019331,
          "end_time": "2025-06-26T08:54:22.664651",
          "exception": false,
          "start_time": "2025-06-26T08:54:22.645320",
          "status": "completed"
        },
        "tags": []
      },
      "source": [
        "#### 4. How to find the memory size of any array (\u2605\u2606\u2606)"
      ]
    },
    {
      "cell_type": "code",
      "execution_count": 4,
      "id": "e9951d7d",
      "metadata": {
        "execution": {
          "iopub.execute_input": "2025-06-26T08:54:22.702651Z",
          "iopub.status.busy": "2025-06-26T08:54:22.701830Z",
          "iopub.status.idle": "2025-06-26T08:54:22.706624Z",
          "shell.execute_reply": "2025-06-26T08:54:22.705809Z"
        },
        "papermill": {
          "duration": 0.025215,
          "end_time": "2025-06-26T08:54:22.707749",
          "exception": false,
          "start_time": "2025-06-26T08:54:22.682534",
          "status": "completed"
        },
        "tags": []
      },
      "outputs": [
        {
          "name": "stdout",
          "output_type": "stream",
          "text": [
            "Null Vector Size: 10\n",
            "Null Vector ItemSize: 8\n"
          ]
        }
      ],
      "source": [
        "print(\"Null Vector Size:\", nullVec.size)\n",
        "print(\"Null Vector ItemSize:\", nullVec.itemsize)"
      ]
    },
    {
      "cell_type": "markdown",
      "id": "fb7e86c1",
      "metadata": {
        "papermill": {
          "duration": 0.017568,
          "end_time": "2025-06-26T08:54:22.743913",
          "exception": false,
          "start_time": "2025-06-26T08:54:22.726345",
          "status": "completed"
        },
        "tags": []
      },
      "source": [
        "#### 5. How to get the documentation of the numpy add function from the command line (\u2605\u2606\u2606)"
      ]
    },
    {
      "cell_type": "code",
      "execution_count": 5,
      "id": "9ad38a70",
      "metadata": {
        "execution": {
          "iopub.execute_input": "2025-06-26T08:54:22.781547Z",
          "iopub.status.busy": "2025-06-26T08:54:22.780852Z",
          "iopub.status.idle": "2025-06-26T08:54:22.785578Z",
          "shell.execute_reply": "2025-06-26T08:54:22.784562Z"
        },
        "papermill": {
          "duration": 0.025174,
          "end_time": "2025-06-26T08:54:22.786890",
          "exception": false,
          "start_time": "2025-06-26T08:54:22.761716",
          "status": "completed"
        },
        "tags": []
      },
      "outputs": [
        {
          "name": "stdout",
          "output_type": "stream",
          "text": [
            "add(x1, x2, /, out=None, *, where=True, casting='same_kind', order='K', dtype=None, subok=True[, signature, extobj])\n",
            "\n",
            "Add arguments element-wise.\n",
            "\n",
            "Parameters\n",
            "----------\n",
            "x1, x2 : array_like\n",
            "    The arrays to be added.\n",
            "    If ``x1.shape != x2.shape``, they must be broadcastable to a common\n",
            "    shape (which becomes the shape of the output).\n",
            "out : ndarray, None, or tuple of ndarray and None, optional\n",
            "    A location into which the result is stored. If provided, it must have\n",
            "    a shape that the inputs broadcast to. If not provided or None,\n",
            "    a freshly-allocated array is returned. A tuple (possible only as a\n",
            "    keyword argument) must have length equal to the number of outputs.\n",
            "where : array_like, optional\n",
            "    This condition is broadcast over the input. At locations where the\n",
            "    condition is True, the `out` array will be set to the ufunc result.\n",
            "    Elsewhere, the `out` array will retain its original value.\n",
            "    Note that if an uninitialized `out` array is created via the default\n",
            "    ``out=None``, locations within it where the condition is False will\n",
            "    remain uninitialized.\n",
            "**kwargs\n",
            "    For other keyword-only arguments, see the\n",
            "    :ref:`ufunc docs <ufuncs.kwargs>`.\n",
            "\n",
            "Returns\n",
            "-------\n",
            "add : ndarray or scalar\n",
            "    The sum of `x1` and `x2`, element-wise.\n",
            "    This is a scalar if both `x1` and `x2` are scalars.\n",
            "\n",
            "Notes\n",
            "-----\n",
            "Equivalent to `x1` + `x2` in terms of array broadcasting.\n",
            "\n",
            "Examples\n",
            "--------\n",
            ">>> np.add(1.0, 4.0)\n",
            "5.0\n",
            ">>> x1 = np.arange(9.0).reshape((3, 3))\n",
            ">>> x2 = np.arange(3.0)\n",
            ">>> np.add(x1, x2)\n",
            "array([[  0.,   2.,   4.],\n",
            "       [  3.,   5.,   7.],\n",
            "       [  6.,   8.,  10.]])\n",
            "\n",
            "The ``+`` operator can be used as a shorthand for ``np.add`` on ndarrays.\n",
            "\n",
            ">>> x1 = np.arange(9.0).reshape((3, 3))\n",
            ">>> x2 = np.arange(3.0)\n",
            ">>> x1 + x2\n",
            "array([[ 0.,  2.,  4.],\n",
            "       [ 3.,  5.,  7.],\n",
            "       [ 6.,  8., 10.]])\n"
          ]
        }
      ],
      "source": [
        "# np.add?\n",
        "# print(np.info('add'))\n",
        "print(np.add.__doc__)"
      ]
    },
    {
      "cell_type": "markdown",
      "id": "70ba86fc",
      "metadata": {
        "papermill": {
          "duration": 0.017481,
          "end_time": "2025-06-26T08:54:22.821951",
          "exception": false,
          "start_time": "2025-06-26T08:54:22.804470",
          "status": "completed"
        },
        "tags": []
      },
      "source": [
        "#### 6. Create a null vector of size 10 but the fifth value which is 1 (\u2605\u2606\u2606)"
      ]
    },
    {
      "cell_type": "code",
      "execution_count": 6,
      "id": "69f46ff0",
      "metadata": {
        "execution": {
          "iopub.execute_input": "2025-06-26T08:54:22.860297Z",
          "iopub.status.busy": "2025-06-26T08:54:22.859967Z",
          "iopub.status.idle": "2025-06-26T08:54:22.865572Z",
          "shell.execute_reply": "2025-06-26T08:54:22.864914Z"
        },
        "papermill": {
          "duration": 0.026455,
          "end_time": "2025-06-26T08:54:22.866760",
          "exception": false,
          "start_time": "2025-06-26T08:54:22.840305",
          "status": "completed"
        },
        "tags": []
      },
      "outputs": [
        {
          "data": {
            "text/plain": [
              "array([4.66663933e-315, 0.00000000e+000, 8.25691926e-296, 0.00000000e+000,\n",
              "       1.00000000e+000, 0.00000000e+000, 2.96637014e-320, 9.93111473e-263,\n",
              "       1.44932313e-311, 0.00000000e+000])"
            ]
          },
          "execution_count": 6,
          "metadata": {},
          "output_type": "execute_result"
        }
      ],
      "source": [
        "nullVec = np.empty(10)\n",
        "nullVec[4] = 1\n",
        "\n",
        "nullVec"
      ]
    },
    {
      "cell_type": "markdown",
      "id": "be3542af",
      "metadata": {
        "papermill": {
          "duration": 0.018481,
          "end_time": "2025-06-26T08:54:22.904586",
          "exception": false,
          "start_time": "2025-06-26T08:54:22.886105",
          "status": "completed"
        },
        "tags": []
      },
      "source": [
        "#### 7. Create a vector with values ranging from 10 to 49 (\u2605\u2606\u2606)"
      ]
    },
    {
      "cell_type": "code",
      "execution_count": 7,
      "id": "18f17a5e",
      "metadata": {
        "execution": {
          "iopub.execute_input": "2025-06-26T08:54:22.945364Z",
          "iopub.status.busy": "2025-06-26T08:54:22.945107Z",
          "iopub.status.idle": "2025-06-26T08:54:22.951728Z",
          "shell.execute_reply": "2025-06-26T08:54:22.950913Z"
        },
        "papermill": {
          "duration": 0.027814,
          "end_time": "2025-06-26T08:54:22.953104",
          "exception": false,
          "start_time": "2025-06-26T08:54:22.925290",
          "status": "completed"
        },
        "tags": []
      },
      "outputs": [
        {
          "data": {
            "text/plain": [
              "array([10, 11, 12, 13, 14, 15, 16, 17, 18, 19, 20, 21, 22, 23, 24, 25, 26,\n",
              "       27, 28, 29, 30, 31, 32, 33, 34, 35, 36, 37, 38, 39, 40, 41, 42, 43,\n",
              "       44, 45, 46, 47, 48, 49])"
            ]
          },
          "execution_count": 7,
          "metadata": {},
          "output_type": "execute_result"
        }
      ],
      "source": [
        "rangeVec = np.arange(10, 50)\n",
        "\n",
        "rangeVec"
      ]
    },
    {
      "cell_type": "markdown",
      "id": "d4ac867a",
      "metadata": {
        "papermill": {
          "duration": 0.018667,
          "end_time": "2025-06-26T08:54:22.990569",
          "exception": false,
          "start_time": "2025-06-26T08:54:22.971902",
          "status": "completed"
        },
        "tags": []
      },
      "source": [
        "#### 8. Reverse a vector (first element becomes last) (\u2605\u2606\u2606)"
      ]
    },
    {
      "cell_type": "code",
      "execution_count": 8,
      "id": "7e023e97",
      "metadata": {
        "execution": {
          "iopub.execute_input": "2025-06-26T08:54:23.029058Z",
          "iopub.status.busy": "2025-06-26T08:54:23.028766Z",
          "iopub.status.idle": "2025-06-26T08:54:23.034127Z",
          "shell.execute_reply": "2025-06-26T08:54:23.033374Z"
        },
        "papermill": {
          "duration": 0.026108,
          "end_time": "2025-06-26T08:54:23.035460",
          "exception": false,
          "start_time": "2025-06-26T08:54:23.009352",
          "status": "completed"
        },
        "tags": []
      },
      "outputs": [
        {
          "data": {
            "text/plain": [
              "array([49, 48, 47, 46, 45, 44, 43, 42, 41, 40, 39, 38, 37, 36, 35, 34, 33,\n",
              "       32, 31, 30, 29, 28, 27, 26, 25, 24, 23, 22, 21, 20, 19, 18, 17, 16,\n",
              "       15, 14, 13, 12, 11, 10])"
            ]
          },
          "execution_count": 8,
          "metadata": {},
          "output_type": "execute_result"
        }
      ],
      "source": [
        "rangeVec[::-1]"
      ]
    },
    {
      "cell_type": "markdown",
      "id": "7a7c1fa5",
      "metadata": {
        "papermill": {
          "duration": 0.018566,
          "end_time": "2025-06-26T08:54:23.072993",
          "exception": false,
          "start_time": "2025-06-26T08:54:23.054427",
          "status": "completed"
        },
        "tags": []
      },
      "source": [
        "#### 9. Create a 3x3 matrix with values ranging from 0 to 8 (\u2605\u2606\u2606)"
      ]
    },
    {
      "cell_type": "code",
      "execution_count": 9,
      "id": "a0073a8f",
      "metadata": {
        "execution": {
          "iopub.execute_input": "2025-06-26T08:54:23.113939Z",
          "iopub.status.busy": "2025-06-26T08:54:23.113665Z",
          "iopub.status.idle": "2025-06-26T08:54:23.118664Z",
          "shell.execute_reply": "2025-06-26T08:54:23.118063Z"
        },
        "papermill": {
          "duration": 0.027299,
          "end_time": "2025-06-26T08:54:23.119795",
          "exception": false,
          "start_time": "2025-06-26T08:54:23.092496",
          "status": "completed"
        },
        "tags": []
      },
      "outputs": [
        {
          "data": {
            "text/plain": [
              "array([[0, 1, 2],\n",
              "       [3, 4, 5],\n",
              "       [6, 7, 8]])"
            ]
          },
          "execution_count": 9,
          "metadata": {},
          "output_type": "execute_result"
        }
      ],
      "source": [
        "matrix3x3 = np.arange(9).reshape((3, 3))\n",
        "\n",
        "matrix3x3"
      ]
    },
    {
      "cell_type": "markdown",
      "id": "e524d1c9",
      "metadata": {
        "papermill": {
          "duration": 0.019727,
          "end_time": "2025-06-26T08:54:23.159474",
          "exception": false,
          "start_time": "2025-06-26T08:54:23.139747",
          "status": "completed"
        },
        "tags": []
      },
      "source": [
        "#### 10. Find indices of non-zero elements from [1,2,0,0,4,0] (\u2605\u2606\u2606)"
      ]
    },
    {
      "cell_type": "code",
      "execution_count": 10,
      "id": "ec3d08d9",
      "metadata": {
        "execution": {
          "iopub.execute_input": "2025-06-26T08:54:23.198867Z",
          "iopub.status.busy": "2025-06-26T08:54:23.198591Z",
          "iopub.status.idle": "2025-06-26T08:54:23.203637Z",
          "shell.execute_reply": "2025-06-26T08:54:23.203064Z"
        },
        "papermill": {
          "duration": 0.025937,
          "end_time": "2025-06-26T08:54:23.204721",
          "exception": false,
          "start_time": "2025-06-26T08:54:23.178784",
          "status": "completed"
        },
        "tags": []
      },
      "outputs": [
        {
          "data": {
            "text/plain": [
              "(array([0, 1, 4]),)"
            ]
          },
          "execution_count": 10,
          "metadata": {},
          "output_type": "execute_result"
        }
      ],
      "source": [
        "rawData = [1, 2, 0, 0, 4, 0]\n",
        "\n",
        "npArr = np.array(rawData)\n",
        "\n",
        "npArr.nonzero()"
      ]
    },
    {
      "cell_type": "markdown",
      "id": "094ca57e",
      "metadata": {
        "papermill": {
          "duration": 0.018625,
          "end_time": "2025-06-26T08:54:23.242413",
          "exception": false,
          "start_time": "2025-06-26T08:54:23.223788",
          "status": "completed"
        },
        "tags": []
      },
      "source": [
        "#### 11. Create a 3x3 identity matrix (\u2605\u2606\u2606)\n",
        "\n",
        "```python\n",
        "[[1., 0., 0.],\n",
        " [0., 1., 0.],\n",
        " [0., 0., 1.]]\n",
        "```"
      ]
    },
    {
      "cell_type": "code",
      "execution_count": 11,
      "id": "ee8c2e4b",
      "metadata": {
        "execution": {
          "iopub.execute_input": "2025-06-26T08:54:23.280993Z",
          "iopub.status.busy": "2025-06-26T08:54:23.280726Z",
          "iopub.status.idle": "2025-06-26T08:54:23.285756Z",
          "shell.execute_reply": "2025-06-26T08:54:23.285225Z"
        },
        "papermill": {
          "duration": 0.025898,
          "end_time": "2025-06-26T08:54:23.286917",
          "exception": false,
          "start_time": "2025-06-26T08:54:23.261019",
          "status": "completed"
        },
        "tags": []
      },
      "outputs": [
        {
          "data": {
            "text/plain": [
              "array([[1., 0., 0.],\n",
              "       [0., 1., 0.],\n",
              "       [0., 0., 1.]])"
            ]
          },
          "execution_count": 11,
          "metadata": {},
          "output_type": "execute_result"
        }
      ],
      "source": [
        "idnMatrix = np.eye(3, 3)\n",
        "\n",
        "idnMatrix"
      ]
    },
    {
      "cell_type": "markdown",
      "id": "682e5a24",
      "metadata": {
        "papermill": {
          "duration": 0.019615,
          "end_time": "2025-06-26T08:54:23.326323",
          "exception": false,
          "start_time": "2025-06-26T08:54:23.306708",
          "status": "completed"
        },
        "tags": []
      },
      "source": [
        "#### 12. Create a 3x3x3 array with random values (\u2605\u2606\u2606)"
      ]
    },
    {
      "cell_type": "code",
      "execution_count": 12,
      "id": "423b848c",
      "metadata": {
        "execution": {
          "iopub.execute_input": "2025-06-26T08:54:23.366129Z",
          "iopub.status.busy": "2025-06-26T08:54:23.365789Z",
          "iopub.status.idle": "2025-06-26T08:54:23.371126Z",
          "shell.execute_reply": "2025-06-26T08:54:23.370482Z"
        },
        "papermill": {
          "duration": 0.02671,
          "end_time": "2025-06-26T08:54:23.372273",
          "exception": false,
          "start_time": "2025-06-26T08:54:23.345563",
          "status": "completed"
        },
        "tags": []
      },
      "outputs": [
        {
          "data": {
            "text/plain": [
              "array([[[0.05825301, 0.15796502, 0.03604003],\n",
              "        [0.67061737, 0.13261581, 0.79375077],\n",
              "        [0.52952365, 0.79013804, 0.97647938]],\n",
              "\n",
              "       [[0.68085277, 0.98199429, 0.98794726],\n",
              "        [0.59893153, 0.5067827 , 0.13481848],\n",
              "        [0.65349315, 0.44875129, 0.90658084]],\n",
              "\n",
              "       [[0.45437678, 0.77996413, 0.84115892],\n",
              "        [0.81292606, 0.15607399, 0.7546317 ],\n",
              "        [0.75541335, 0.36695948, 0.07258916]]])"
            ]
          },
          "execution_count": 12,
          "metadata": {},
          "output_type": "execute_result"
        }
      ],
      "source": [
        "rndmArr = np.random.rand(3, 3, 3)\n",
        "\n",
        "rndmArr"
      ]
    },
    {
      "cell_type": "markdown",
      "id": "2e335295",
      "metadata": {
        "papermill": {
          "duration": 0.019058,
          "end_time": "2025-06-26T08:54:23.410607",
          "exception": false,
          "start_time": "2025-06-26T08:54:23.391549",
          "status": "completed"
        },
        "tags": []
      },
      "source": [
        "#### 13. Create a 10x10 array with random values and find the minimum and maximum values (\u2605\u2606\u2606)"
      ]
    },
    {
      "cell_type": "code",
      "execution_count": 13,
      "id": "d3da5e73",
      "metadata": {
        "execution": {
          "iopub.execute_input": "2025-06-26T08:54:23.451296Z",
          "iopub.status.busy": "2025-06-26T08:54:23.450640Z",
          "iopub.status.idle": "2025-06-26T08:54:23.455554Z",
          "shell.execute_reply": "2025-06-26T08:54:23.454706Z"
        },
        "papermill": {
          "duration": 0.026471,
          "end_time": "2025-06-26T08:54:23.456785",
          "exception": false,
          "start_time": "2025-06-26T08:54:23.430314",
          "status": "completed"
        },
        "tags": []
      },
      "outputs": [
        {
          "name": "stdout",
          "output_type": "stream",
          "text": [
            "Min Val: 0.002650190158736243\n",
            "Max Val: 0.9982054222584781\n"
          ]
        }
      ],
      "source": [
        "rndmArr = np.random.rand(10, 10)\n",
        "\n",
        "rndmArr\n",
        "\n",
        "print(\"Min Val:\", rndmArr.min())\n",
        "print(\"Max Val:\", rndmArr.max())"
      ]
    },
    {
      "cell_type": "markdown",
      "id": "9f1fd80f",
      "metadata": {
        "papermill": {
          "duration": 0.018829,
          "end_time": "2025-06-26T08:54:23.494962",
          "exception": false,
          "start_time": "2025-06-26T08:54:23.476133",
          "status": "completed"
        },
        "tags": []
      },
      "source": [
        "#### 14. Create a random vector of size 30 and find the mean value (\u2605\u2606\u2606)"
      ]
    },
    {
      "cell_type": "code",
      "execution_count": 14,
      "id": "1d738a96",
      "metadata": {
        "execution": {
          "iopub.execute_input": "2025-06-26T08:54:23.534606Z",
          "iopub.status.busy": "2025-06-26T08:54:23.534329Z",
          "iopub.status.idle": "2025-06-26T08:54:23.539564Z",
          "shell.execute_reply": "2025-06-26T08:54:23.538981Z"
        },
        "papermill": {
          "duration": 0.026925,
          "end_time": "2025-06-26T08:54:23.540827",
          "exception": false,
          "start_time": "2025-06-26T08:54:23.513902",
          "status": "completed"
        },
        "tags": []
      },
      "outputs": [
        {
          "data": {
            "text/plain": [
              "0.43123152815084254"
            ]
          },
          "execution_count": 14,
          "metadata": {},
          "output_type": "execute_result"
        }
      ],
      "source": [
        "rndmArr = np.random.rand(30)\n",
        "\n",
        "rndmArr.mean()"
      ]
    },
    {
      "cell_type": "markdown",
      "id": "01510337",
      "metadata": {
        "papermill": {
          "duration": 0.02003,
          "end_time": "2025-06-26T08:54:23.580980",
          "exception": false,
          "start_time": "2025-06-26T08:54:23.560950",
          "status": "completed"
        },
        "tags": []
      },
      "source": [
        "#### 15. Create a 2d array with 1 on the border and 0 inside (\u2605\u2606\u2606)\n",
        "\n",
        "```python\n",
        "[[1., 1., 1., 1., 1.],\n",
        " [1., 0., 0., 0., 1.],\n",
        " [1., 0., 0., 0., 1.],\n",
        " [1., 0., 0., 0., 1.],\n",
        " [1., 1., 1., 1., 1.]]\n",
        "```"
      ]
    },
    {
      "cell_type": "code",
      "execution_count": 15,
      "id": "84b028a0",
      "metadata": {
        "execution": {
          "iopub.execute_input": "2025-06-26T08:54:23.621562Z",
          "iopub.status.busy": "2025-06-26T08:54:23.620957Z",
          "iopub.status.idle": "2025-06-26T08:54:23.626464Z",
          "shell.execute_reply": "2025-06-26T08:54:23.625816Z"
        },
        "papermill": {
          "duration": 0.027015,
          "end_time": "2025-06-26T08:54:23.627594",
          "exception": false,
          "start_time": "2025-06-26T08:54:23.600579",
          "status": "completed"
        },
        "tags": []
      },
      "outputs": [
        {
          "data": {
            "text/plain": [
              "array([[1., 1., 1., 1., 1.],\n",
              "       [1., 0., 0., 0., 1.],\n",
              "       [1., 0., 0., 0., 1.],\n",
              "       [1., 0., 0., 0., 1.],\n",
              "       [1., 1., 1., 1., 1.]])"
            ]
          },
          "execution_count": 15,
          "metadata": {},
          "output_type": "execute_result"
        }
      ],
      "source": [
        "npArr = np.ones((5, 5))\n",
        "# npArr[1:-1, 1:-1] = 0\n",
        "\n",
        "npArr[1:-1, 1:-1] = 0\n",
        "\n",
        "npArr"
      ]
    },
    {
      "cell_type": "markdown",
      "id": "60693d6d",
      "metadata": {
        "papermill": {
          "duration": 0.018424,
          "end_time": "2025-06-26T08:54:23.664927",
          "exception": false,
          "start_time": "2025-06-26T08:54:23.646503",
          "status": "completed"
        },
        "tags": []
      },
      "source": [
        "#### 16. How to add a border (filled with 0's) around an existing array (\u2605\u2606\u2606)\n",
        "\n",
        "```python\n",
        "[[0., 0., 0., 0., 0.],\n",
        " [0., 1., 1., 1., 0.],\n",
        " [0., 1., 1., 1., 0.],\n",
        " [0., 1., 1., 1., 0.],\n",
        " [0., 0., 0., 0., 0.]]\n",
        "```"
      ]
    },
    {
      "cell_type": "code",
      "execution_count": 16,
      "id": "70ad8a89",
      "metadata": {
        "execution": {
          "iopub.execute_input": "2025-06-26T08:54:23.702684Z",
          "iopub.status.busy": "2025-06-26T08:54:23.702428Z",
          "iopub.status.idle": "2025-06-26T08:54:23.708240Z",
          "shell.execute_reply": "2025-06-26T08:54:23.707655Z"
        },
        "papermill": {
          "duration": 0.025754,
          "end_time": "2025-06-26T08:54:23.709283",
          "exception": false,
          "start_time": "2025-06-26T08:54:23.683529",
          "status": "completed"
        },
        "tags": []
      },
      "outputs": [
        {
          "data": {
            "text/plain": [
              "array([[0., 0., 0., 0., 0.],\n",
              "       [0., 1., 1., 1., 0.],\n",
              "       [0., 1., 1., 1., 0.],\n",
              "       [0., 1., 1., 1., 0.],\n",
              "       [0., 0., 0., 0., 0.]])"
            ]
          },
          "execution_count": 16,
          "metadata": {},
          "output_type": "execute_result"
        }
      ],
      "source": [
        "npArr = np.ones((5, 5))\n",
        "npArr[:, [0, -1]] = 0\n",
        "npArr[[0, -1], :] = 0\n",
        "npArr\n",
        "\n",
        "# padArr = np.ones((5,5))\n",
        "# padArr = np.pad(padArr, pad_width=1, mode='constant', constant_values=0)\n",
        "# padArr"
      ]
    },
    {
      "cell_type": "markdown",
      "id": "4e4c94f7",
      "metadata": {
        "papermill": {
          "duration": 0.019333,
          "end_time": "2025-06-26T08:54:23.747575",
          "exception": false,
          "start_time": "2025-06-26T08:54:23.728242",
          "status": "completed"
        },
        "tags": []
      },
      "source": [
        "#### 17. What is the result of the following expression (\u2605\u2606\u2606)\n",
        "```python\n",
        "0 * np.nan\n",
        "np.nan == np.nan\n",
        "np.inf > np.nan\n",
        "np.nan - np.nan\n",
        "np.nan in set([np.nan])\n",
        "0.3 == 3 * 0.1\n",
        "```"
      ]
    },
    {
      "cell_type": "code",
      "execution_count": 17,
      "id": "74b61c0e",
      "metadata": {
        "execution": {
          "iopub.execute_input": "2025-06-26T08:54:23.786685Z",
          "iopub.status.busy": "2025-06-26T08:54:23.786343Z",
          "iopub.status.idle": "2025-06-26T08:54:23.791602Z",
          "shell.execute_reply": "2025-06-26T08:54:23.790787Z"
        },
        "papermill": {
          "duration": 0.025832,
          "end_time": "2025-06-26T08:54:23.792768",
          "exception": false,
          "start_time": "2025-06-26T08:54:23.766936",
          "status": "completed"
        },
        "tags": []
      },
      "outputs": [
        {
          "name": "stdout",
          "output_type": "stream",
          "text": [
            "nan\n",
            "False\n",
            "False\n",
            "nan\n",
            "True\n",
            "False\n",
            "True\n"
          ]
        }
      ],
      "source": [
        "print(0 * np.nan)  # nan\n",
        "print(np.nan == np.nan)  # False\n",
        "print(np.inf > np.nan)  # False\n",
        "print(np.nan - np.nan)  # nan\n",
        "print(np.nan in set([np.nan]))  # True\n",
        "print(0.3 == 3 * 0.1)  # False\n",
        "print(0.3 == round(3 * 0.1, 1))  # True"
      ]
    },
    {
      "cell_type": "markdown",
      "id": "b809bb6f",
      "metadata": {
        "papermill": {
          "duration": 0.019209,
          "end_time": "2025-06-26T08:54:23.831436",
          "exception": false,
          "start_time": "2025-06-26T08:54:23.812227",
          "status": "completed"
        },
        "tags": []
      },
      "source": [
        "#### 18. Create a 5x5 matrix with values 1,2,3,4 just below the diagonal (\u2605\u2606\u2606)\n",
        "\n",
        "```python\n",
        "[[0, 0, 0, 0, 0],\n",
        " [1, 0, 0, 0, 0],\n",
        " [0, 2, 0, 0, 0],\n",
        " [0, 0, 3, 0, 0],\n",
        " [0, 0, 0, 4, 0]]\n",
        "```"
      ]
    },
    {
      "cell_type": "code",
      "execution_count": 18,
      "id": "a180317b",
      "metadata": {
        "execution": {
          "iopub.execute_input": "2025-06-26T08:54:23.871653Z",
          "iopub.status.busy": "2025-06-26T08:54:23.871138Z",
          "iopub.status.idle": "2025-06-26T08:54:23.878239Z",
          "shell.execute_reply": "2025-06-26T08:54:23.877499Z"
        },
        "papermill": {
          "duration": 0.028618,
          "end_time": "2025-06-26T08:54:23.879716",
          "exception": false,
          "start_time": "2025-06-26T08:54:23.851098",
          "status": "completed"
        },
        "tags": []
      },
      "outputs": [
        {
          "data": {
            "text/plain": [
              "array([[0, 0, 0, 0, 0],\n",
              "       [1, 0, 0, 0, 0],\n",
              "       [0, 2, 0, 0, 0],\n",
              "       [0, 0, 3, 0, 0],\n",
              "       [0, 0, 0, 4, 0]])"
            ]
          },
          "execution_count": 18,
          "metadata": {},
          "output_type": "execute_result"
        }
      ],
      "source": [
        "m_5x5 = np.diag(1 + np.arange(4), k=-1)\n",
        "\n",
        "m_5x5"
      ]
    },
    {
      "cell_type": "markdown",
      "id": "120ea422",
      "metadata": {
        "papermill": {
          "duration": 0.019889,
          "end_time": "2025-06-26T08:54:23.920371",
          "exception": false,
          "start_time": "2025-06-26T08:54:23.900482",
          "status": "completed"
        },
        "tags": []
      },
      "source": [
        "#### 19. Create a 8x8 matrix and fill it with a checkerboard pattern (\u2605\u2606\u2606)"
      ]
    },
    {
      "cell_type": "code",
      "execution_count": 19,
      "id": "3f3922af",
      "metadata": {
        "execution": {
          "iopub.execute_input": "2025-06-26T08:54:23.963902Z",
          "iopub.status.busy": "2025-06-26T08:54:23.963107Z",
          "iopub.status.idle": "2025-06-26T08:54:23.969476Z",
          "shell.execute_reply": "2025-06-26T08:54:23.968659Z"
        },
        "papermill": {
          "duration": 0.028971,
          "end_time": "2025-06-26T08:54:23.970694",
          "exception": false,
          "start_time": "2025-06-26T08:54:23.941723",
          "status": "completed"
        },
        "tags": []
      },
      "outputs": [
        {
          "data": {
            "text/plain": [
              "array([[0., 1., 0., 1., 0., 1., 0., 1.],\n",
              "       [1., 0., 1., 0., 1., 0., 1., 0.],\n",
              "       [0., 1., 0., 1., 0., 1., 0., 1.],\n",
              "       [1., 0., 1., 0., 1., 0., 1., 0.],\n",
              "       [0., 1., 0., 1., 0., 1., 0., 1.],\n",
              "       [1., 0., 1., 0., 1., 0., 1., 0.],\n",
              "       [0., 1., 0., 1., 0., 1., 0., 1.],\n",
              "       [1., 0., 1., 0., 1., 0., 1., 0.]])"
            ]
          },
          "execution_count": 19,
          "metadata": {},
          "output_type": "execute_result"
        }
      ],
      "source": [
        "m_8x8 = np.zeros((8, 8))\n",
        "m_8x8[1::2, ::2] = 1\n",
        "m_8x8[::2, 1::2] = 1\n",
        "\n",
        "m_8x8"
      ]
    },
    {
      "cell_type": "markdown",
      "id": "f7640a69",
      "metadata": {
        "papermill": {
          "duration": 0.028412,
          "end_time": "2025-06-26T08:54:24.019138",
          "exception": false,
          "start_time": "2025-06-26T08:54:23.990726",
          "status": "completed"
        },
        "tags": []
      },
      "source": [
        "#### 20. Consider a (6,7,8) shape array, what is the index (x,y,z) of the 100th element (\u2605\u2606\u2606)"
      ]
    },
    {
      "cell_type": "code",
      "execution_count": null,
      "id": "4aee10ac",
      "metadata": {
        "papermill": {
          "duration": 0.018516,
          "end_time": "2025-06-26T08:54:24.067903",
          "exception": false,
          "start_time": "2025-06-26T08:54:24.049387",
          "status": "completed"
        },
        "tags": []
      },
      "outputs": [],
      "source": []
    },
    {
      "cell_type": "markdown",
      "id": "679da41a",
      "metadata": {
        "papermill": {
          "duration": 0.019321,
          "end_time": "2025-06-26T08:54:24.106205",
          "exception": false,
          "start_time": "2025-06-26T08:54:24.086884",
          "status": "completed"
        },
        "tags": []
      },
      "source": [
        "#### 21. Create a checkerboard 8x8 matrix using the tile function (\u2605\u2606\u2606)"
      ]
    },
    {
      "cell_type": "code",
      "execution_count": null,
      "id": "69100355",
      "metadata": {
        "papermill": {
          "duration": 0.018278,
          "end_time": "2025-06-26T08:54:24.142878",
          "exception": false,
          "start_time": "2025-06-26T08:54:24.124600",
          "status": "completed"
        },
        "tags": []
      },
      "outputs": [],
      "source": []
    },
    {
      "cell_type": "markdown",
      "id": "700aeeba",
      "metadata": {
        "papermill": {
          "duration": 0.017868,
          "end_time": "2025-06-26T08:54:24.179060",
          "exception": false,
          "start_time": "2025-06-26T08:54:24.161192",
          "status": "completed"
        },
        "tags": []
      },
      "source": [
        "#### 22. Normalize a 5x5 random matrix (\u2605\u2606\u2606)"
      ]
    },
    {
      "cell_type": "code",
      "execution_count": null,
      "id": "2b287829",
      "metadata": {
        "papermill": {
          "duration": 0.01826,
          "end_time": "2025-06-26T08:54:24.215786",
          "exception": false,
          "start_time": "2025-06-26T08:54:24.197526",
          "status": "completed"
        },
        "tags": []
      },
      "outputs": [],
      "source": []
    },
    {
      "cell_type": "markdown",
      "id": "96e53d76",
      "metadata": {
        "papermill": {
          "duration": 0.017801,
          "end_time": "2025-06-26T08:54:24.251663",
          "exception": false,
          "start_time": "2025-06-26T08:54:24.233862",
          "status": "completed"
        },
        "tags": []
      },
      "source": [
        "#### 23. Create a custom dtype that describes a color as four unsigned bytes (RGBA) (\u2605\u2606\u2606)"
      ]
    },
    {
      "cell_type": "code",
      "execution_count": null,
      "id": "6907af1a",
      "metadata": {
        "papermill": {
          "duration": 0.017678,
          "end_time": "2025-06-26T08:54:24.287298",
          "exception": false,
          "start_time": "2025-06-26T08:54:24.269620",
          "status": "completed"
        },
        "tags": []
      },
      "outputs": [],
      "source": []
    },
    {
      "cell_type": "markdown",
      "id": "3054c341",
      "metadata": {
        "papermill": {
          "duration": 0.018752,
          "end_time": "2025-06-26T08:54:24.324843",
          "exception": false,
          "start_time": "2025-06-26T08:54:24.306091",
          "status": "completed"
        },
        "tags": []
      },
      "source": [
        "#### 24. Multiply a 5x3 matrix by a 3x2 matrix (real matrix product) (\u2605\u2606\u2606)"
      ]
    },
    {
      "cell_type": "code",
      "execution_count": 20,
      "id": "fc50ce30",
      "metadata": {
        "execution": {
          "iopub.execute_input": "2025-06-26T08:54:24.363798Z",
          "iopub.status.busy": "2025-06-26T08:54:24.363213Z",
          "iopub.status.idle": "2025-06-26T08:54:24.391208Z",
          "shell.execute_reply": "2025-06-26T08:54:24.390606Z"
        },
        "papermill": {
          "duration": 0.048762,
          "end_time": "2025-06-26T08:54:24.392363",
          "exception": false,
          "start_time": "2025-06-26T08:54:24.343601",
          "status": "completed"
        },
        "tags": []
      },
      "outputs": [
        {
          "data": {
            "text/plain": [
              "array([[0.33736959, 0.47971116],\n",
              "       [0.29875513, 0.83172354],\n",
              "       [0.09017791, 0.13974337],\n",
              "       [0.39678667, 1.17972434],\n",
              "       [0.26026292, 0.7776322 ]])"
            ]
          },
          "execution_count": 20,
          "metadata": {},
          "output_type": "execute_result"
        }
      ],
      "source": [
        "m1 = np.random.rand(5, 3)\n",
        "m2 = np.random.rand(3, 2)\n",
        "\n",
        "m1.dot(m2)"
      ]
    },
    {
      "cell_type": "markdown",
      "id": "5b7d67d4",
      "metadata": {
        "papermill": {
          "duration": 0.01907,
          "end_time": "2025-06-26T08:54:24.430574",
          "exception": false,
          "start_time": "2025-06-26T08:54:24.411504",
          "status": "completed"
        },
        "tags": []
      },
      "source": [
        "#### 25. Given a 1D array, negate all elements which are between 3 and 8, in place. (\u2605\u2606\u2606)"
      ]
    },
    {
      "cell_type": "code",
      "execution_count": null,
      "id": "c78aecb9",
      "metadata": {
        "papermill": {
          "duration": 0.019076,
          "end_time": "2025-06-26T08:54:24.468465",
          "exception": false,
          "start_time": "2025-06-26T08:54:24.449389",
          "status": "completed"
        },
        "tags": []
      },
      "outputs": [],
      "source": []
    },
    {
      "cell_type": "markdown",
      "id": "a8a2cc86",
      "metadata": {
        "papermill": {
          "duration": 0.018796,
          "end_time": "2025-06-26T08:54:24.506336",
          "exception": false,
          "start_time": "2025-06-26T08:54:24.487540",
          "status": "completed"
        },
        "tags": []
      },
      "source": [
        "#### 26. What is the output of the following script (\u2605\u2606\u2606)\n",
        "```python\n",
        "# Author: Jake VanderPlas\n",
        "\n",
        "print(sum(range(5),-1))\n",
        "from numpy import *\n",
        "print(sum(range(5),-1))\n",
        "```"
      ]
    },
    {
      "cell_type": "code",
      "execution_count": 21,
      "id": "eefd645c",
      "metadata": {
        "execution": {
          "iopub.execute_input": "2025-06-26T08:54:24.549066Z",
          "iopub.status.busy": "2025-06-26T08:54:24.548546Z",
          "iopub.status.idle": "2025-06-26T08:54:24.553224Z",
          "shell.execute_reply": "2025-06-26T08:54:24.552460Z"
        },
        "papermill": {
          "duration": 0.027697,
          "end_time": "2025-06-26T08:54:24.554486",
          "exception": false,
          "start_time": "2025-06-26T08:54:24.526789",
          "status": "completed"
        },
        "tags": []
      },
      "outputs": [
        {
          "name": "stdout",
          "output_type": "stream",
          "text": [
            "9\n",
            "10\n"
          ]
        }
      ],
      "source": [
        "print(sum(range(5), -1))  # 9\n",
        "from numpy import sum  # noqa: E402\n",
        "\n",
        "print(sum(range(5), -1))  # 10 (axis = -1)"
      ]
    },
    {
      "cell_type": "markdown",
      "id": "52201f94",
      "metadata": {
        "papermill": {
          "duration": 0.018802,
          "end_time": "2025-06-26T08:54:24.593408",
          "exception": false,
          "start_time": "2025-06-26T08:54:24.574606",
          "status": "completed"
        },
        "tags": []
      },
      "source": [
        "#### 27. Consider an integer vector Z, which of these expressions are legal (\u2605\u2606\u2606)\n",
        "```python\n",
        "Z**Z\n",
        "2 << Z >> 2\n",
        "Z <- Z\n",
        "1j*Z\n",
        "Z/1/1\n",
        "Z<Z>Z\n",
        "```"
      ]
    },
    {
      "cell_type": "code",
      "execution_count": null,
      "id": "2c88848a",
      "metadata": {
        "papermill": {
          "duration": 0.018407,
          "end_time": "2025-06-26T08:54:24.631292",
          "exception": false,
          "start_time": "2025-06-26T08:54:24.612885",
          "status": "completed"
        },
        "tags": []
      },
      "outputs": [],
      "source": []
    },
    {
      "cell_type": "markdown",
      "id": "5c19be6a",
      "metadata": {
        "papermill": {
          "duration": 0.018851,
          "end_time": "2025-06-26T08:54:24.669037",
          "exception": false,
          "start_time": "2025-06-26T08:54:24.650186",
          "status": "completed"
        },
        "tags": []
      },
      "source": [
        "#### 28. What are the result of the following expressions (\u2605\u2606\u2606)\n",
        "```python\n",
        "np.array(0) / np.array(0)\n",
        "np.array(0) // np.array(0)\n",
        "np.array([np.nan]).astype(int).astype(float)\n",
        "```"
      ]
    },
    {
      "cell_type": "code",
      "execution_count": 22,
      "id": "03bc0333",
      "metadata": {
        "execution": {
          "iopub.execute_input": "2025-06-26T08:54:24.708015Z",
          "iopub.status.busy": "2025-06-26T08:54:24.707773Z",
          "iopub.status.idle": "2025-06-26T08:54:24.713078Z",
          "shell.execute_reply": "2025-06-26T08:54:24.712225Z"
        },
        "papermill": {
          "duration": 0.026325,
          "end_time": "2025-06-26T08:54:24.714460",
          "exception": false,
          "start_time": "2025-06-26T08:54:24.688135",
          "status": "completed"
        },
        "tags": []
      },
      "outputs": [
        {
          "name": "stdout",
          "output_type": "stream",
          "text": [
            "nan\n",
            "0\n",
            "[-9.22337204e+18]\n"
          ]
        },
        {
          "name": "stderr",
          "output_type": "stream",
          "text": [
            "/tmp/ipykernel_26/2670329950.py:1: RuntimeWarning: invalid value encountered in divide\n",
            "  print(np.array(0) / np.array(0))  # nan\n",
            "/tmp/ipykernel_26/2670329950.py:2: RuntimeWarning: divide by zero encountered in floor_divide\n",
            "  print(np.array(0) // np.array(0))  # 0\n",
            "/tmp/ipykernel_26/2670329950.py:3: RuntimeWarning: invalid value encountered in cast\n",
            "  print(np.array([np.nan]).astype(int).astype(float))  # [-9.22337204e+18]\n"
          ]
        }
      ],
      "source": [
        "print(np.array(0) / np.array(0))  # nan\n",
        "print(np.array(0) // np.array(0))  # 0\n",
        "print(np.array([np.nan]).astype(int).astype(float))  # [-9.22337204e+18]"
      ]
    },
    {
      "cell_type": "markdown",
      "id": "925be807",
      "metadata": {
        "papermill": {
          "duration": 0.017926,
          "end_time": "2025-06-26T08:54:24.751440",
          "exception": false,
          "start_time": "2025-06-26T08:54:24.733514",
          "status": "completed"
        },
        "tags": []
      },
      "source": [
        "#### 29. How to round away from zero a float array  (\u2605\u2606\u2606)"
      ]
    },
    {
      "cell_type": "code",
      "execution_count": null,
      "id": "5589d849",
      "metadata": {
        "papermill": {
          "duration": 0.018407,
          "end_time": "2025-06-26T08:54:24.788403",
          "exception": false,
          "start_time": "2025-06-26T08:54:24.769996",
          "status": "completed"
        },
        "tags": []
      },
      "outputs": [],
      "source": []
    },
    {
      "cell_type": "markdown",
      "id": "09bc64ac",
      "metadata": {
        "papermill": {
          "duration": 0.017936,
          "end_time": "2025-06-26T08:54:24.824182",
          "exception": false,
          "start_time": "2025-06-26T08:54:24.806246",
          "status": "completed"
        },
        "tags": []
      },
      "source": [
        "#### 30. How to find common values between two arrays (\u2605\u2606\u2606)"
      ]
    },
    {
      "cell_type": "code",
      "execution_count": null,
      "id": "4e7e4b37",
      "metadata": {
        "papermill": {
          "duration": 0.019785,
          "end_time": "2025-06-26T08:54:24.864201",
          "exception": false,
          "start_time": "2025-06-26T08:54:24.844416",
          "status": "completed"
        },
        "tags": []
      },
      "outputs": [],
      "source": []
    },
    {
      "cell_type": "markdown",
      "id": "64d9bbeb",
      "metadata": {
        "papermill": {
          "duration": 0.019492,
          "end_time": "2025-06-26T08:54:24.902621",
          "exception": false,
          "start_time": "2025-06-26T08:54:24.883129",
          "status": "completed"
        },
        "tags": []
      },
      "source": [
        "#### 31. How to ignore all numpy warnings (not recommended) (\u2605\u2606\u2606)"
      ]
    },
    {
      "cell_type": "code",
      "execution_count": 23,
      "id": "5c2804c0",
      "metadata": {
        "execution": {
          "iopub.execute_input": "2025-06-26T08:54:24.945126Z",
          "iopub.status.busy": "2025-06-26T08:54:24.944808Z",
          "iopub.status.idle": "2025-06-26T08:54:24.949883Z",
          "shell.execute_reply": "2025-06-26T08:54:24.949149Z"
        },
        "papermill": {
          "duration": 0.028434,
          "end_time": "2025-06-26T08:54:24.951131",
          "exception": false,
          "start_time": "2025-06-26T08:54:24.922697",
          "status": "completed"
        },
        "tags": []
      },
      "outputs": [
        {
          "data": {
            "text/plain": [
              "{'divide': 'warn', 'over': 'warn', 'under': 'ignore', 'invalid': 'warn'}"
            ]
          },
          "execution_count": 23,
          "metadata": {},
          "output_type": "execute_result"
        }
      ],
      "source": [
        "np.seterr(all=\"ignore\")"
      ]
    },
    {
      "cell_type": "markdown",
      "id": "b348066f",
      "metadata": {
        "papermill": {
          "duration": 0.020329,
          "end_time": "2025-06-26T08:54:24.992571",
          "exception": false,
          "start_time": "2025-06-26T08:54:24.972242",
          "status": "completed"
        },
        "tags": []
      },
      "source": [
        "#### 32. Is the following expressions true (\u2605\u2606\u2606)\n",
        "```python\n",
        "np.sqrt(-1) == np.emath.sqrt(-1)\n",
        "```"
      ]
    },
    {
      "cell_type": "code",
      "execution_count": 24,
      "id": "c41f7ba8",
      "metadata": {
        "execution": {
          "iopub.execute_input": "2025-06-26T08:54:25.033493Z",
          "iopub.status.busy": "2025-06-26T08:54:25.033227Z",
          "iopub.status.idle": "2025-06-26T08:54:25.039208Z",
          "shell.execute_reply": "2025-06-26T08:54:25.038642Z"
        },
        "papermill": {
          "duration": 0.027586,
          "end_time": "2025-06-26T08:54:25.040242",
          "exception": false,
          "start_time": "2025-06-26T08:54:25.012656",
          "status": "completed"
        },
        "tags": []
      },
      "outputs": [
        {
          "data": {
            "text/plain": [
              "False"
            ]
          },
          "execution_count": 24,
          "metadata": {},
          "output_type": "execute_result"
        }
      ],
      "source": [
        "np.sqrt(-1) == np.emath.sqrt(-1)  # False"
      ]
    },
    {
      "cell_type": "markdown",
      "id": "cb36d8db",
      "metadata": {
        "papermill": {
          "duration": 0.020734,
          "end_time": "2025-06-26T08:54:25.080842",
          "exception": false,
          "start_time": "2025-06-26T08:54:25.060108",
          "status": "completed"
        },
        "tags": []
      },
      "source": [
        "#### 33. How to get the dates of yesterday, today and tomorrow (\u2605\u2606\u2606)"
      ]
    },
    {
      "cell_type": "code",
      "execution_count": null,
      "id": "9b009eef",
      "metadata": {
        "papermill": {
          "duration": 0.019741,
          "end_time": "2025-06-26T08:54:25.120700",
          "exception": false,
          "start_time": "2025-06-26T08:54:25.100959",
          "status": "completed"
        },
        "tags": []
      },
      "outputs": [],
      "source": []
    },
    {
      "cell_type": "markdown",
      "id": "62ca7f43",
      "metadata": {
        "papermill": {
          "duration": 0.020185,
          "end_time": "2025-06-26T08:54:25.161001",
          "exception": false,
          "start_time": "2025-06-26T08:54:25.140816",
          "status": "completed"
        },
        "tags": []
      },
      "source": [
        "#### 34. How to get all the dates corresponding to the month of July 2016 (\u2605\u2605\u2606)"
      ]
    },
    {
      "cell_type": "code",
      "execution_count": null,
      "id": "a754b113",
      "metadata": {
        "papermill": {
          "duration": 0.019718,
          "end_time": "2025-06-26T08:54:25.200558",
          "exception": false,
          "start_time": "2025-06-26T08:54:25.180840",
          "status": "completed"
        },
        "tags": []
      },
      "outputs": [],
      "source": []
    },
    {
      "cell_type": "markdown",
      "id": "401e0bff",
      "metadata": {
        "papermill": {
          "duration": 0.019239,
          "end_time": "2025-06-26T08:54:25.239177",
          "exception": false,
          "start_time": "2025-06-26T08:54:25.219938",
          "status": "completed"
        },
        "tags": []
      },
      "source": [
        "#### 35. How to compute ((A+B)*(-A/2)) in place (without copy) (\u2605\u2605\u2606)"
      ]
    },
    {
      "cell_type": "code",
      "execution_count": null,
      "id": "33025fe8",
      "metadata": {
        "papermill": {
          "duration": 0.019822,
          "end_time": "2025-06-26T08:54:25.278891",
          "exception": false,
          "start_time": "2025-06-26T08:54:25.259069",
          "status": "completed"
        },
        "tags": []
      },
      "outputs": [],
      "source": []
    },
    {
      "cell_type": "markdown",
      "id": "68c6c27e",
      "metadata": {
        "papermill": {
          "duration": 0.019958,
          "end_time": "2025-06-26T08:54:25.318779",
          "exception": false,
          "start_time": "2025-06-26T08:54:25.298821",
          "status": "completed"
        },
        "tags": []
      },
      "source": [
        "#### 36. Extract the integer part of a random array of positive numbers using 4 different methods (\u2605\u2605\u2606)"
      ]
    },
    {
      "cell_type": "code",
      "execution_count": null,
      "id": "5d836292",
      "metadata": {
        "papermill": {
          "duration": 0.019356,
          "end_time": "2025-06-26T08:54:25.357910",
          "exception": false,
          "start_time": "2025-06-26T08:54:25.338554",
          "status": "completed"
        },
        "tags": []
      },
      "outputs": [],
      "source": []
    },
    {
      "cell_type": "markdown",
      "id": "20c962a2",
      "metadata": {
        "papermill": {
          "duration": 0.018631,
          "end_time": "2025-06-26T08:54:25.395480",
          "exception": false,
          "start_time": "2025-06-26T08:54:25.376849",
          "status": "completed"
        },
        "tags": []
      },
      "source": [
        "#### 37. Create a 5x5 matrix with row values ranging from 0 to 4 (\u2605\u2605\u2606)"
      ]
    },
    {
      "cell_type": "code",
      "execution_count": null,
      "id": "aa9ac194",
      "metadata": {
        "papermill": {
          "duration": 0.018231,
          "end_time": "2025-06-26T08:54:25.433247",
          "exception": false,
          "start_time": "2025-06-26T08:54:25.415016",
          "status": "completed"
        },
        "tags": []
      },
      "outputs": [],
      "source": []
    },
    {
      "cell_type": "markdown",
      "id": "def8d50c",
      "metadata": {
        "papermill": {
          "duration": 0.018804,
          "end_time": "2025-06-26T08:54:25.470774",
          "exception": false,
          "start_time": "2025-06-26T08:54:25.451970",
          "status": "completed"
        },
        "tags": []
      },
      "source": [
        "#### 38. Consider a generator function that generates 10 integers and use it to build an array (\u2605\u2606\u2606)"
      ]
    },
    {
      "cell_type": "code",
      "execution_count": null,
      "id": "796cba52",
      "metadata": {
        "papermill": {
          "duration": 0.018958,
          "end_time": "2025-06-26T08:54:25.508318",
          "exception": false,
          "start_time": "2025-06-26T08:54:25.489360",
          "status": "completed"
        },
        "tags": []
      },
      "outputs": [],
      "source": []
    },
    {
      "cell_type": "markdown",
      "id": "03eb86fc",
      "metadata": {
        "papermill": {
          "duration": 0.019767,
          "end_time": "2025-06-26T08:54:25.547759",
          "exception": false,
          "start_time": "2025-06-26T08:54:25.527992",
          "status": "completed"
        },
        "tags": []
      },
      "source": [
        "#### 39. Create a vector of size 10 with values ranging from 0 to 1, both excluded (\u2605\u2605\u2606)"
      ]
    },
    {
      "cell_type": "code",
      "execution_count": null,
      "id": "5a4f6fe1",
      "metadata": {
        "papermill": {
          "duration": 0.020111,
          "end_time": "2025-06-26T08:54:25.588502",
          "exception": false,
          "start_time": "2025-06-26T08:54:25.568391",
          "status": "completed"
        },
        "tags": []
      },
      "outputs": [],
      "source": []
    },
    {
      "cell_type": "markdown",
      "id": "2c453bac",
      "metadata": {
        "papermill": {
          "duration": 0.019989,
          "end_time": "2025-06-26T08:54:25.629135",
          "exception": false,
          "start_time": "2025-06-26T08:54:25.609146",
          "status": "completed"
        },
        "tags": []
      },
      "source": [
        "#### 40. Create a random vector of size 10 and sort it (\u2605\u2605\u2606)"
      ]
    },
    {
      "cell_type": "code",
      "execution_count": null,
      "id": "374b1361",
      "metadata": {
        "papermill": {
          "duration": 0.020279,
          "end_time": "2025-06-26T08:54:25.669583",
          "exception": false,
          "start_time": "2025-06-26T08:54:25.649304",
          "status": "completed"
        },
        "tags": []
      },
      "outputs": [],
      "source": []
    },
    {
      "cell_type": "markdown",
      "id": "c134d5eb",
      "metadata": {
        "papermill": {
          "duration": 0.020289,
          "end_time": "2025-06-26T08:54:25.709929",
          "exception": false,
          "start_time": "2025-06-26T08:54:25.689640",
          "status": "completed"
        },
        "tags": []
      },
      "source": [
        "#### 41. How to sum a small array faster than np.sum (\u2605\u2605\u2606)"
      ]
    },
    {
      "cell_type": "code",
      "execution_count": null,
      "id": "37243de5",
      "metadata": {
        "papermill": {
          "duration": 0.020005,
          "end_time": "2025-06-26T08:54:25.750573",
          "exception": false,
          "start_time": "2025-06-26T08:54:25.730568",
          "status": "completed"
        },
        "tags": []
      },
      "outputs": [],
      "source": []
    },
    {
      "cell_type": "markdown",
      "id": "45acc763",
      "metadata": {
        "papermill": {
          "duration": 0.01951,
          "end_time": "2025-06-26T08:54:25.789521",
          "exception": false,
          "start_time": "2025-06-26T08:54:25.770011",
          "status": "completed"
        },
        "tags": []
      },
      "source": [
        "#### 42. Consider two random arrays A and B, check if they are equal (\u2605\u2605\u2606)"
      ]
    },
    {
      "cell_type": "code",
      "execution_count": null,
      "id": "f31cb68e",
      "metadata": {
        "papermill": {
          "duration": 0.01938,
          "end_time": "2025-06-26T08:54:25.828623",
          "exception": false,
          "start_time": "2025-06-26T08:54:25.809243",
          "status": "completed"
        },
        "tags": []
      },
      "outputs": [],
      "source": []
    },
    {
      "cell_type": "markdown",
      "id": "d051430c",
      "metadata": {
        "papermill": {
          "duration": 0.018915,
          "end_time": "2025-06-26T08:54:25.866560",
          "exception": false,
          "start_time": "2025-06-26T08:54:25.847645",
          "status": "completed"
        },
        "tags": []
      },
      "source": [
        "#### 43. Make an array immutable (read-only) (\u2605\u2605\u2606)"
      ]
    },
    {
      "cell_type": "code",
      "execution_count": null,
      "id": "9cb125a8",
      "metadata": {
        "papermill": {
          "duration": 0.019825,
          "end_time": "2025-06-26T08:54:25.905632",
          "exception": false,
          "start_time": "2025-06-26T08:54:25.885807",
          "status": "completed"
        },
        "tags": []
      },
      "outputs": [],
      "source": []
    },
    {
      "cell_type": "markdown",
      "id": "a6de2ebb",
      "metadata": {
        "papermill": {
          "duration": 0.022225,
          "end_time": "2025-06-26T08:54:25.949771",
          "exception": false,
          "start_time": "2025-06-26T08:54:25.927546",
          "status": "completed"
        },
        "tags": []
      },
      "source": [
        "#### 44. Consider a random 10x2 matrix representing cartesian coordinates, convert them to polar coordinates (\u2605\u2605\u2606)"
      ]
    },
    {
      "cell_type": "code",
      "execution_count": null,
      "id": "9631b41c",
      "metadata": {
        "papermill": {
          "duration": 0.020599,
          "end_time": "2025-06-26T08:54:25.991253",
          "exception": false,
          "start_time": "2025-06-26T08:54:25.970654",
          "status": "completed"
        },
        "tags": []
      },
      "outputs": [],
      "source": []
    },
    {
      "cell_type": "markdown",
      "id": "b5e4a7b8",
      "metadata": {
        "papermill": {
          "duration": 0.020192,
          "end_time": "2025-06-26T08:54:26.032061",
          "exception": false,
          "start_time": "2025-06-26T08:54:26.011869",
          "status": "completed"
        },
        "tags": []
      },
      "source": [
        "#### 45. Create random vector of size 10 and replace the maximum value by 0 (\u2605\u2605\u2606)"
      ]
    },
    {
      "cell_type": "code",
      "execution_count": null,
      "id": "3a5af1f4",
      "metadata": {
        "papermill": {
          "duration": 0.020166,
          "end_time": "2025-06-26T08:54:26.072618",
          "exception": false,
          "start_time": "2025-06-26T08:54:26.052452",
          "status": "completed"
        },
        "tags": []
      },
      "outputs": [],
      "source": []
    },
    {
      "cell_type": "markdown",
      "id": "e302e3ce",
      "metadata": {
        "papermill": {
          "duration": 0.019605,
          "end_time": "2025-06-26T08:54:26.112930",
          "exception": false,
          "start_time": "2025-06-26T08:54:26.093325",
          "status": "completed"
        },
        "tags": []
      },
      "source": [
        "#### 46. Create a structured array with `x` and `y` coordinates covering the [0,1]x[0,1] area (\u2605\u2605\u2606)"
      ]
    },
    {
      "cell_type": "code",
      "execution_count": null,
      "id": "039ebe97",
      "metadata": {
        "papermill": {
          "duration": 0.019683,
          "end_time": "2025-06-26T08:54:26.151963",
          "exception": false,
          "start_time": "2025-06-26T08:54:26.132280",
          "status": "completed"
        },
        "tags": []
      },
      "outputs": [],
      "source": []
    },
    {
      "cell_type": "markdown",
      "id": "c985dca6",
      "metadata": {
        "papermill": {
          "duration": 0.019205,
          "end_time": "2025-06-26T08:54:26.190951",
          "exception": false,
          "start_time": "2025-06-26T08:54:26.171746",
          "status": "completed"
        },
        "tags": []
      },
      "source": [
        "#### 47. Given two arrays, X and Y, construct the Cauchy matrix C (Cij =1/(xi - yj)) (\u2605\u2605\u2606)"
      ]
    },
    {
      "cell_type": "code",
      "execution_count": null,
      "id": "20b082ea",
      "metadata": {
        "papermill": {
          "duration": 0.019789,
          "end_time": "2025-06-26T08:54:26.230192",
          "exception": false,
          "start_time": "2025-06-26T08:54:26.210403",
          "status": "completed"
        },
        "tags": []
      },
      "outputs": [],
      "source": []
    },
    {
      "cell_type": "markdown",
      "id": "386daf1b",
      "metadata": {
        "papermill": {
          "duration": 0.020067,
          "end_time": "2025-06-26T08:54:26.270348",
          "exception": false,
          "start_time": "2025-06-26T08:54:26.250281",
          "status": "completed"
        },
        "tags": []
      },
      "source": [
        "#### 48. Print the minimum and maximum representable values for each numpy scalar type (\u2605\u2605\u2606)"
      ]
    },
    {
      "cell_type": "code",
      "execution_count": null,
      "id": "7377e52a",
      "metadata": {
        "papermill": {
          "duration": 0.020363,
          "end_time": "2025-06-26T08:54:26.310861",
          "exception": false,
          "start_time": "2025-06-26T08:54:26.290498",
          "status": "completed"
        },
        "tags": []
      },
      "outputs": [],
      "source": []
    },
    {
      "cell_type": "markdown",
      "id": "18630dce",
      "metadata": {
        "papermill": {
          "duration": 0.019895,
          "end_time": "2025-06-26T08:54:26.350898",
          "exception": false,
          "start_time": "2025-06-26T08:54:26.331003",
          "status": "completed"
        },
        "tags": []
      },
      "source": [
        "#### 49. How to print all the values of an array (\u2605\u2605\u2606)"
      ]
    },
    {
      "cell_type": "code",
      "execution_count": null,
      "id": "d31c8a1a",
      "metadata": {
        "papermill": {
          "duration": 0.019736,
          "end_time": "2025-06-26T08:54:26.391073",
          "exception": false,
          "start_time": "2025-06-26T08:54:26.371337",
          "status": "completed"
        },
        "tags": []
      },
      "outputs": [],
      "source": []
    },
    {
      "cell_type": "markdown",
      "id": "98f29e5e",
      "metadata": {
        "papermill": {
          "duration": 0.020055,
          "end_time": "2025-06-26T08:54:26.431586",
          "exception": false,
          "start_time": "2025-06-26T08:54:26.411531",
          "status": "completed"
        },
        "tags": []
      },
      "source": [
        "#### 50. How to find the closest value (to a given scalar) in a vector (\u2605\u2605\u2606)"
      ]
    },
    {
      "cell_type": "code",
      "execution_count": null,
      "id": "8cbae4a2",
      "metadata": {
        "papermill": {
          "duration": 0.019786,
          "end_time": "2025-06-26T08:54:26.471541",
          "exception": false,
          "start_time": "2025-06-26T08:54:26.451755",
          "status": "completed"
        },
        "tags": []
      },
      "outputs": [],
      "source": []
    },
    {
      "cell_type": "markdown",
      "id": "1e49dcb1",
      "metadata": {
        "papermill": {
          "duration": 0.018962,
          "end_time": "2025-06-26T08:54:26.509620",
          "exception": false,
          "start_time": "2025-06-26T08:54:26.490658",
          "status": "completed"
        },
        "tags": []
      },
      "source": [
        "#### 51. Create a structured array representing a position (x,y) and a color (r,g,b) (\u2605\u2605\u2606)"
      ]
    },
    {
      "cell_type": "code",
      "execution_count": null,
      "id": "5938e4ea",
      "metadata": {
        "papermill": {
          "duration": 0.020144,
          "end_time": "2025-06-26T08:54:26.549136",
          "exception": false,
          "start_time": "2025-06-26T08:54:26.528992",
          "status": "completed"
        },
        "tags": []
      },
      "outputs": [],
      "source": []
    },
    {
      "cell_type": "markdown",
      "id": "f3d5b167",
      "metadata": {
        "papermill": {
          "duration": 0.019186,
          "end_time": "2025-06-26T08:54:26.587823",
          "exception": false,
          "start_time": "2025-06-26T08:54:26.568637",
          "status": "completed"
        },
        "tags": []
      },
      "source": [
        "#### 52. Consider a random vector with shape (100,2) representing coordinates, find point by point distances (\u2605\u2605\u2606)"
      ]
    },
    {
      "cell_type": "code",
      "execution_count": null,
      "id": "f753ab97",
      "metadata": {
        "papermill": {
          "duration": 0.018591,
          "end_time": "2025-06-26T08:54:26.625780",
          "exception": false,
          "start_time": "2025-06-26T08:54:26.607189",
          "status": "completed"
        },
        "tags": []
      },
      "outputs": [],
      "source": []
    },
    {
      "cell_type": "markdown",
      "id": "563a44e1",
      "metadata": {
        "papermill": {
          "duration": 0.018709,
          "end_time": "2025-06-26T08:54:26.663214",
          "exception": false,
          "start_time": "2025-06-26T08:54:26.644505",
          "status": "completed"
        },
        "tags": []
      },
      "source": [
        "#### 53. How to convert a float (32 bits) array into an integer (32 bits) array in place"
      ]
    },
    {
      "cell_type": "code",
      "execution_count": null,
      "id": "7738599e",
      "metadata": {
        "papermill": {
          "duration": 0.019964,
          "end_time": "2025-06-26T08:54:26.702550",
          "exception": false,
          "start_time": "2025-06-26T08:54:26.682586",
          "status": "completed"
        },
        "tags": []
      },
      "outputs": [],
      "source": []
    },
    {
      "cell_type": "markdown",
      "id": "d6b1847d",
      "metadata": {
        "papermill": {
          "duration": 0.018843,
          "end_time": "2025-06-26T08:54:26.740515",
          "exception": false,
          "start_time": "2025-06-26T08:54:26.721672",
          "status": "completed"
        },
        "tags": []
      },
      "source": [
        "#### 54. How to read the following file (\u2605\u2605\u2606)\n",
        "```\n",
        "1, 2, 3, 4, 5\n",
        "6,  ,  , 7, 8\n",
        " ,  , 9,10,11\n",
        "```"
      ]
    },
    {
      "cell_type": "code",
      "execution_count": null,
      "id": "a15870b3",
      "metadata": {
        "papermill": {
          "duration": 0.018866,
          "end_time": "2025-06-26T08:54:26.778385",
          "exception": false,
          "start_time": "2025-06-26T08:54:26.759519",
          "status": "completed"
        },
        "tags": []
      },
      "outputs": [],
      "source": []
    },
    {
      "cell_type": "markdown",
      "id": "53b6d80a",
      "metadata": {
        "papermill": {
          "duration": 0.019032,
          "end_time": "2025-06-26T08:54:26.816288",
          "exception": false,
          "start_time": "2025-06-26T08:54:26.797256",
          "status": "completed"
        },
        "tags": []
      },
      "source": [
        "#### 55. What is the equivalent of enumerate for numpy arrays (\u2605\u2605\u2606)"
      ]
    },
    {
      "cell_type": "code",
      "execution_count": null,
      "id": "ba273c25",
      "metadata": {
        "papermill": {
          "duration": 0.019411,
          "end_time": "2025-06-26T08:54:26.855255",
          "exception": false,
          "start_time": "2025-06-26T08:54:26.835844",
          "status": "completed"
        },
        "tags": []
      },
      "outputs": [],
      "source": []
    },
    {
      "cell_type": "markdown",
      "id": "e1d530e1",
      "metadata": {
        "papermill": {
          "duration": 0.018623,
          "end_time": "2025-06-26T08:54:26.893400",
          "exception": false,
          "start_time": "2025-06-26T08:54:26.874777",
          "status": "completed"
        },
        "tags": []
      },
      "source": [
        "#### 56. Generate a generic 2D Gaussian-like array (\u2605\u2605\u2606)"
      ]
    },
    {
      "cell_type": "code",
      "execution_count": null,
      "id": "b74e3a49",
      "metadata": {
        "papermill": {
          "duration": 0.019502,
          "end_time": "2025-06-26T08:54:26.932343",
          "exception": false,
          "start_time": "2025-06-26T08:54:26.912841",
          "status": "completed"
        },
        "tags": []
      },
      "outputs": [],
      "source": []
    },
    {
      "cell_type": "markdown",
      "id": "2652a7ac",
      "metadata": {
        "papermill": {
          "duration": 0.020307,
          "end_time": "2025-06-26T08:54:26.972936",
          "exception": false,
          "start_time": "2025-06-26T08:54:26.952629",
          "status": "completed"
        },
        "tags": []
      },
      "source": [
        "#### 57. How to randomly place p elements in a 2D array (\u2605\u2605\u2606)"
      ]
    },
    {
      "cell_type": "code",
      "execution_count": null,
      "id": "6b40f7c8",
      "metadata": {
        "papermill": {
          "duration": 0.019567,
          "end_time": "2025-06-26T08:54:27.012238",
          "exception": false,
          "start_time": "2025-06-26T08:54:26.992671",
          "status": "completed"
        },
        "tags": []
      },
      "outputs": [],
      "source": []
    },
    {
      "cell_type": "markdown",
      "id": "2e0bb181",
      "metadata": {
        "papermill": {
          "duration": 0.019457,
          "end_time": "2025-06-26T08:54:27.051178",
          "exception": false,
          "start_time": "2025-06-26T08:54:27.031721",
          "status": "completed"
        },
        "tags": []
      },
      "source": [
        "#### 58. Subtract the mean of each row of a matrix (\u2605\u2605\u2606)"
      ]
    },
    {
      "cell_type": "code",
      "execution_count": null,
      "id": "e8fa6ce3",
      "metadata": {
        "papermill": {
          "duration": 0.019378,
          "end_time": "2025-06-26T08:54:27.090619",
          "exception": false,
          "start_time": "2025-06-26T08:54:27.071241",
          "status": "completed"
        },
        "tags": []
      },
      "outputs": [],
      "source": []
    },
    {
      "cell_type": "markdown",
      "id": "83f5be77",
      "metadata": {
        "papermill": {
          "duration": 0.018731,
          "end_time": "2025-06-26T08:54:27.128463",
          "exception": false,
          "start_time": "2025-06-26T08:54:27.109732",
          "status": "completed"
        },
        "tags": []
      },
      "source": [
        "#### 59. How to sort an array by the nth column (\u2605\u2605\u2606)"
      ]
    },
    {
      "cell_type": "code",
      "execution_count": null,
      "id": "500c77a8",
      "metadata": {
        "papermill": {
          "duration": 0.018972,
          "end_time": "2025-06-26T08:54:27.167079",
          "exception": false,
          "start_time": "2025-06-26T08:54:27.148107",
          "status": "completed"
        },
        "tags": []
      },
      "outputs": [],
      "source": []
    },
    {
      "cell_type": "markdown",
      "id": "b01dcf43",
      "metadata": {
        "papermill": {
          "duration": 0.019352,
          "end_time": "2025-06-26T08:54:27.205823",
          "exception": false,
          "start_time": "2025-06-26T08:54:27.186471",
          "status": "completed"
        },
        "tags": []
      },
      "source": [
        "#### 60. How to tell if a given 2D array has null columns (\u2605\u2605\u2606)"
      ]
    },
    {
      "cell_type": "code",
      "execution_count": null,
      "id": "f6d6e19d",
      "metadata": {
        "papermill": {
          "duration": 0.021153,
          "end_time": "2025-06-26T08:54:27.246387",
          "exception": false,
          "start_time": "2025-06-26T08:54:27.225234",
          "status": "completed"
        },
        "tags": []
      },
      "outputs": [],
      "source": []
    },
    {
      "cell_type": "markdown",
      "id": "7554d8f7",
      "metadata": {
        "papermill": {
          "duration": 0.018079,
          "end_time": "2025-06-26T08:54:27.284568",
          "exception": false,
          "start_time": "2025-06-26T08:54:27.266489",
          "status": "completed"
        },
        "tags": []
      },
      "source": [
        "#### 61. Find the nearest value from a given value in an array (\u2605\u2605\u2606)"
      ]
    },
    {
      "cell_type": "code",
      "execution_count": null,
      "id": "75d5f09a",
      "metadata": {
        "papermill": {
          "duration": 0.018522,
          "end_time": "2025-06-26T08:54:27.321656",
          "exception": false,
          "start_time": "2025-06-26T08:54:27.303134",
          "status": "completed"
        },
        "tags": []
      },
      "outputs": [],
      "source": []
    },
    {
      "cell_type": "markdown",
      "id": "b69d3bc3",
      "metadata": {
        "papermill": {
          "duration": 0.019545,
          "end_time": "2025-06-26T08:54:27.361524",
          "exception": false,
          "start_time": "2025-06-26T08:54:27.341979",
          "status": "completed"
        },
        "tags": []
      },
      "source": [
        "#### 62. Considering two arrays with shape (1,3) and (3,1), how to compute their sum using an iterator (\u2605\u2605\u2606)"
      ]
    },
    {
      "cell_type": "code",
      "execution_count": null,
      "id": "9f716358",
      "metadata": {
        "papermill": {
          "duration": 0.019315,
          "end_time": "2025-06-26T08:54:27.400192",
          "exception": false,
          "start_time": "2025-06-26T08:54:27.380877",
          "status": "completed"
        },
        "tags": []
      },
      "outputs": [],
      "source": []
    },
    {
      "cell_type": "markdown",
      "id": "6ec7e395",
      "metadata": {
        "papermill": {
          "duration": 0.019022,
          "end_time": "2025-06-26T08:54:27.438326",
          "exception": false,
          "start_time": "2025-06-26T08:54:27.419304",
          "status": "completed"
        },
        "tags": []
      },
      "source": [
        "#### 63. Create an array class that has a name attribute (\u2605\u2605\u2606)"
      ]
    },
    {
      "cell_type": "code",
      "execution_count": null,
      "id": "5acbfbc7",
      "metadata": {
        "papermill": {
          "duration": 0.018392,
          "end_time": "2025-06-26T08:54:27.475591",
          "exception": false,
          "start_time": "2025-06-26T08:54:27.457199",
          "status": "completed"
        },
        "tags": []
      },
      "outputs": [],
      "source": []
    },
    {
      "cell_type": "markdown",
      "id": "2fe8eeb4",
      "metadata": {
        "papermill": {
          "duration": 0.018617,
          "end_time": "2025-06-26T08:54:27.512824",
          "exception": false,
          "start_time": "2025-06-26T08:54:27.494207",
          "status": "completed"
        },
        "tags": []
      },
      "source": [
        "#### 64. Consider a given vector, how to add 1 to each element indexed by a second vector (be careful with repeated indices) (\u2605\u2605\u2605)"
      ]
    },
    {
      "cell_type": "code",
      "execution_count": null,
      "id": "025fdec0",
      "metadata": {
        "papermill": {
          "duration": 0.019829,
          "end_time": "2025-06-26T08:54:27.552307",
          "exception": false,
          "start_time": "2025-06-26T08:54:27.532478",
          "status": "completed"
        },
        "tags": []
      },
      "outputs": [],
      "source": []
    },
    {
      "cell_type": "markdown",
      "id": "155db450",
      "metadata": {
        "papermill": {
          "duration": 0.019549,
          "end_time": "2025-06-26T08:54:27.591719",
          "exception": false,
          "start_time": "2025-06-26T08:54:27.572170",
          "status": "completed"
        },
        "tags": []
      },
      "source": [
        "#### 65. How to accumulate elements of a vector (X) to an array (F) based on an index list (I) (\u2605\u2605\u2605)"
      ]
    },
    {
      "cell_type": "code",
      "execution_count": null,
      "id": "ce373749",
      "metadata": {
        "papermill": {
          "duration": 0.018727,
          "end_time": "2025-06-26T08:54:27.630154",
          "exception": false,
          "start_time": "2025-06-26T08:54:27.611427",
          "status": "completed"
        },
        "tags": []
      },
      "outputs": [],
      "source": []
    },
    {
      "cell_type": "markdown",
      "id": "d1b8129c",
      "metadata": {
        "papermill": {
          "duration": 0.018758,
          "end_time": "2025-06-26T08:54:27.668188",
          "exception": false,
          "start_time": "2025-06-26T08:54:27.649430",
          "status": "completed"
        },
        "tags": []
      },
      "source": [
        "#### 66. Considering a (w,h,3) image of (dtype=ubyte), compute the number of unique colors (\u2605\u2605\u2606)"
      ]
    },
    {
      "cell_type": "code",
      "execution_count": null,
      "id": "36580638",
      "metadata": {
        "papermill": {
          "duration": 0.018816,
          "end_time": "2025-06-26T08:54:27.705290",
          "exception": false,
          "start_time": "2025-06-26T08:54:27.686474",
          "status": "completed"
        },
        "tags": []
      },
      "outputs": [],
      "source": []
    },
    {
      "cell_type": "markdown",
      "id": "9f10692b",
      "metadata": {
        "papermill": {
          "duration": 0.019023,
          "end_time": "2025-06-26T08:54:27.793536",
          "exception": false,
          "start_time": "2025-06-26T08:54:27.774513",
          "status": "completed"
        },
        "tags": []
      },
      "source": [
        "#### 67. Considering a four dimensions array, how to get sum over the last two axis at once (\u2605\u2605\u2605)"
      ]
    },
    {
      "cell_type": "code",
      "execution_count": null,
      "id": "4866f8a7",
      "metadata": {
        "papermill": {
          "duration": 0.019603,
          "end_time": "2025-06-26T08:54:27.832284",
          "exception": false,
          "start_time": "2025-06-26T08:54:27.812681",
          "status": "completed"
        },
        "tags": []
      },
      "outputs": [],
      "source": []
    },
    {
      "cell_type": "markdown",
      "id": "a912bc1d",
      "metadata": {
        "papermill": {
          "duration": 0.019269,
          "end_time": "2025-06-26T08:54:27.871239",
          "exception": false,
          "start_time": "2025-06-26T08:54:27.851970",
          "status": "completed"
        },
        "tags": []
      },
      "source": [
        "#### 68. Considering a one-dimensional vector D, how to compute means of subsets of D using a vector S of same size describing subset  indices (\u2605\u2605\u2605)"
      ]
    },
    {
      "cell_type": "code",
      "execution_count": null,
      "id": "562ec31a",
      "metadata": {
        "papermill": {
          "duration": 0.018944,
          "end_time": "2025-06-26T08:54:27.909121",
          "exception": false,
          "start_time": "2025-06-26T08:54:27.890177",
          "status": "completed"
        },
        "tags": []
      },
      "outputs": [],
      "source": []
    },
    {
      "cell_type": "markdown",
      "id": "f2b0302c",
      "metadata": {
        "papermill": {
          "duration": 0.020435,
          "end_time": "2025-06-26T08:54:27.948642",
          "exception": false,
          "start_time": "2025-06-26T08:54:27.928207",
          "status": "completed"
        },
        "tags": []
      },
      "source": [
        "#### 69. How to get the diagonal of a dot product (\u2605\u2605\u2605)"
      ]
    },
    {
      "cell_type": "code",
      "execution_count": null,
      "id": "2230c650",
      "metadata": {
        "papermill": {
          "duration": 0.018771,
          "end_time": "2025-06-26T08:54:27.986154",
          "exception": false,
          "start_time": "2025-06-26T08:54:27.967383",
          "status": "completed"
        },
        "tags": []
      },
      "outputs": [],
      "source": []
    },
    {
      "cell_type": "markdown",
      "id": "41ce0c39",
      "metadata": {
        "papermill": {
          "duration": 0.019074,
          "end_time": "2025-06-26T08:54:28.024158",
          "exception": false,
          "start_time": "2025-06-26T08:54:28.005084",
          "status": "completed"
        },
        "tags": []
      },
      "source": [
        "#### 70. Consider the vector [1, 2, 3, 4, 5], how to build a new vector with 3 consecutive zeros interleaved between each value (\u2605\u2605\u2605)"
      ]
    },
    {
      "cell_type": "code",
      "execution_count": null,
      "id": "50284e0b",
      "metadata": {
        "papermill": {
          "duration": 0.019975,
          "end_time": "2025-06-26T08:54:28.063112",
          "exception": false,
          "start_time": "2025-06-26T08:54:28.043137",
          "status": "completed"
        },
        "tags": []
      },
      "outputs": [],
      "source": []
    },
    {
      "cell_type": "markdown",
      "id": "015769c3",
      "metadata": {
        "papermill": {
          "duration": 0.020222,
          "end_time": "2025-06-26T08:54:28.103869",
          "exception": false,
          "start_time": "2025-06-26T08:54:28.083647",
          "status": "completed"
        },
        "tags": []
      },
      "source": [
        "#### 71. Consider an array of dimension (5,5,3), how to multiply it by an array with dimensions (5,5) (\u2605\u2605\u2605)"
      ]
    },
    {
      "cell_type": "code",
      "execution_count": null,
      "id": "03f8adb0",
      "metadata": {
        "papermill": {
          "duration": 0.020464,
          "end_time": "2025-06-26T08:54:28.144254",
          "exception": false,
          "start_time": "2025-06-26T08:54:28.123790",
          "status": "completed"
        },
        "tags": []
      },
      "outputs": [],
      "source": []
    },
    {
      "cell_type": "markdown",
      "id": "a275d23a",
      "metadata": {
        "papermill": {
          "duration": 0.020029,
          "end_time": "2025-06-26T08:54:28.184164",
          "exception": false,
          "start_time": "2025-06-26T08:54:28.164135",
          "status": "completed"
        },
        "tags": []
      },
      "source": [
        "#### 72. How to swap two rows of an array (\u2605\u2605\u2605)"
      ]
    },
    {
      "cell_type": "code",
      "execution_count": null,
      "id": "3d82bef1",
      "metadata": {
        "papermill": {
          "duration": 0.018861,
          "end_time": "2025-06-26T08:54:28.222116",
          "exception": false,
          "start_time": "2025-06-26T08:54:28.203255",
          "status": "completed"
        },
        "tags": []
      },
      "outputs": [],
      "source": []
    },
    {
      "cell_type": "markdown",
      "id": "f7345e02",
      "metadata": {
        "papermill": {
          "duration": 0.019495,
          "end_time": "2025-06-26T08:54:28.260852",
          "exception": false,
          "start_time": "2025-06-26T08:54:28.241357",
          "status": "completed"
        },
        "tags": []
      },
      "source": [
        "#### 73. Consider a set of 10 triplets describing 10 triangles (with shared vertices), find the set of unique line segments composing all the  triangles (\u2605\u2605\u2605)"
      ]
    },
    {
      "cell_type": "code",
      "execution_count": null,
      "id": "f0a83e91",
      "metadata": {
        "papermill": {
          "duration": 0.019426,
          "end_time": "2025-06-26T08:54:28.299354",
          "exception": false,
          "start_time": "2025-06-26T08:54:28.279928",
          "status": "completed"
        },
        "tags": []
      },
      "outputs": [],
      "source": []
    },
    {
      "cell_type": "markdown",
      "id": "e72a9039",
      "metadata": {
        "papermill": {
          "duration": 0.018873,
          "end_time": "2025-06-26T08:54:28.337158",
          "exception": false,
          "start_time": "2025-06-26T08:54:28.318285",
          "status": "completed"
        },
        "tags": []
      },
      "source": [
        "#### 74. Given a sorted array C that corresponds to a bincount, how to produce an array A such that np.bincount(A) == C (\u2605\u2605\u2605)"
      ]
    },
    {
      "cell_type": "code",
      "execution_count": null,
      "id": "58d8c1cd",
      "metadata": {
        "papermill": {
          "duration": 0.019506,
          "end_time": "2025-06-26T08:54:28.376154",
          "exception": false,
          "start_time": "2025-06-26T08:54:28.356648",
          "status": "completed"
        },
        "tags": []
      },
      "outputs": [],
      "source": []
    },
    {
      "cell_type": "markdown",
      "id": "f5e00e31",
      "metadata": {
        "papermill": {
          "duration": 0.019912,
          "end_time": "2025-06-26T08:54:28.415691",
          "exception": false,
          "start_time": "2025-06-26T08:54:28.395779",
          "status": "completed"
        },
        "tags": []
      },
      "source": [
        "#### 75. How to compute averages using a sliding window over an array (\u2605\u2605\u2605)"
      ]
    },
    {
      "cell_type": "code",
      "execution_count": null,
      "id": "ad1d4230",
      "metadata": {
        "papermill": {
          "duration": 0.018378,
          "end_time": "2025-06-26T08:54:28.453016",
          "exception": false,
          "start_time": "2025-06-26T08:54:28.434638",
          "status": "completed"
        },
        "tags": []
      },
      "outputs": [],
      "source": []
    },
    {
      "cell_type": "markdown",
      "id": "2478cf63",
      "metadata": {
        "papermill": {
          "duration": 0.018631,
          "end_time": "2025-06-26T08:54:28.490365",
          "exception": false,
          "start_time": "2025-06-26T08:54:28.471734",
          "status": "completed"
        },
        "tags": []
      },
      "source": [
        "#### 76. Consider a one-dimensional array Z, build a two-dimensional array whose first row is (Z[0],Z[1],Z[2]) and each subsequent row is  shifted by 1 (last row should be (Z[-3],Z[-2],Z[-1]) (\u2605\u2605\u2605)"
      ]
    },
    {
      "cell_type": "code",
      "execution_count": null,
      "id": "fd27ec2b",
      "metadata": {
        "papermill": {
          "duration": 0.018885,
          "end_time": "2025-06-26T08:54:28.527694",
          "exception": false,
          "start_time": "2025-06-26T08:54:28.508809",
          "status": "completed"
        },
        "tags": []
      },
      "outputs": [],
      "source": []
    },
    {
      "cell_type": "markdown",
      "id": "cdcb5d38",
      "metadata": {
        "papermill": {
          "duration": 0.019279,
          "end_time": "2025-06-26T08:54:28.566864",
          "exception": false,
          "start_time": "2025-06-26T08:54:28.547585",
          "status": "completed"
        },
        "tags": []
      },
      "source": [
        "#### 77. How to negate a boolean, or to change the sign of a float inplace (\u2605\u2605\u2605)"
      ]
    },
    {
      "cell_type": "code",
      "execution_count": null,
      "id": "af80bca3",
      "metadata": {
        "papermill": {
          "duration": 0.0199,
          "end_time": "2025-06-26T08:54:28.606113",
          "exception": false,
          "start_time": "2025-06-26T08:54:28.586213",
          "status": "completed"
        },
        "tags": []
      },
      "outputs": [],
      "source": []
    },
    {
      "cell_type": "markdown",
      "id": "92419487",
      "metadata": {
        "papermill": {
          "duration": 0.020828,
          "end_time": "2025-06-26T08:54:28.647567",
          "exception": false,
          "start_time": "2025-06-26T08:54:28.626739",
          "status": "completed"
        },
        "tags": []
      },
      "source": [
        "#### 78. Consider 2 sets of points P0,P1 describing lines (2d) and a point p, how to compute distance from p to each line i (P0[i],P1[i]) (\u2605\u2605\u2605)"
      ]
    },
    {
      "cell_type": "code",
      "execution_count": null,
      "id": "7ff006a5",
      "metadata": {
        "papermill": {
          "duration": 0.019985,
          "end_time": "2025-06-26T08:54:28.687736",
          "exception": false,
          "start_time": "2025-06-26T08:54:28.667751",
          "status": "completed"
        },
        "tags": []
      },
      "outputs": [],
      "source": []
    },
    {
      "cell_type": "markdown",
      "id": "3e01d043",
      "metadata": {
        "papermill": {
          "duration": 0.019356,
          "end_time": "2025-06-26T08:54:28.727077",
          "exception": false,
          "start_time": "2025-06-26T08:54:28.707721",
          "status": "completed"
        },
        "tags": []
      },
      "source": [
        "#### 79. Consider 2 sets of points P0,P1 describing lines (2d) and a set of points P, how to compute distance from each point j (P[j]) to each line i (P0[i],P1[i]) (\u2605\u2605\u2605)"
      ]
    },
    {
      "cell_type": "code",
      "execution_count": null,
      "id": "c9329069",
      "metadata": {
        "papermill": {
          "duration": 0.019278,
          "end_time": "2025-06-26T08:54:28.766182",
          "exception": false,
          "start_time": "2025-06-26T08:54:28.746904",
          "status": "completed"
        },
        "tags": []
      },
      "outputs": [],
      "source": []
    },
    {
      "cell_type": "markdown",
      "id": "376b7dc9",
      "metadata": {
        "papermill": {
          "duration": 0.019627,
          "end_time": "2025-06-26T08:54:28.804179",
          "exception": false,
          "start_time": "2025-06-26T08:54:28.784552",
          "status": "completed"
        },
        "tags": []
      },
      "source": [
        "#### 80. Consider an arbitrary array, write a function that extracts a subpart with a fixed shape and centered on a given element (pad with a `fill` value when necessary) (\u2605\u2605\u2605)"
      ]
    },
    {
      "cell_type": "code",
      "execution_count": null,
      "id": "374dc7ae",
      "metadata": {
        "papermill": {
          "duration": 0.020072,
          "end_time": "2025-06-26T08:54:28.844657",
          "exception": false,
          "start_time": "2025-06-26T08:54:28.824585",
          "status": "completed"
        },
        "tags": []
      },
      "outputs": [],
      "source": []
    },
    {
      "cell_type": "markdown",
      "id": "16fb7e41",
      "metadata": {
        "papermill": {
          "duration": 0.020816,
          "end_time": "2025-06-26T08:54:28.884830",
          "exception": false,
          "start_time": "2025-06-26T08:54:28.864014",
          "status": "completed"
        },
        "tags": []
      },
      "source": [
        "#### 81. Consider an array Z = [1,2,3,4,5,6,7,8,9,10,11,12,13,14], how to generate an array R = [[1,2,3,4], [2,3,4,5], [3,4,5,6], ..., [11,12,13,14]] (\u2605\u2605\u2605)"
      ]
    },
    {
      "cell_type": "code",
      "execution_count": null,
      "id": "6380b8fb",
      "metadata": {
        "papermill": {
          "duration": 0.024871,
          "end_time": "2025-06-26T08:54:28.943141",
          "exception": false,
          "start_time": "2025-06-26T08:54:28.918270",
          "status": "completed"
        },
        "tags": []
      },
      "outputs": [],
      "source": []
    },
    {
      "cell_type": "markdown",
      "id": "32ab7539",
      "metadata": {
        "papermill": {
          "duration": 0.019003,
          "end_time": "2025-06-26T08:54:28.983612",
          "exception": false,
          "start_time": "2025-06-26T08:54:28.964609",
          "status": "completed"
        },
        "tags": []
      },
      "source": [
        "#### 82. Compute a matrix rank (\u2605\u2605\u2605)"
      ]
    },
    {
      "cell_type": "code",
      "execution_count": null,
      "id": "eba240d1",
      "metadata": {
        "papermill": {
          "duration": 0.019371,
          "end_time": "2025-06-26T08:54:29.023023",
          "exception": false,
          "start_time": "2025-06-26T08:54:29.003652",
          "status": "completed"
        },
        "tags": []
      },
      "outputs": [],
      "source": []
    },
    {
      "cell_type": "markdown",
      "id": "d429944d",
      "metadata": {
        "papermill": {
          "duration": 0.029496,
          "end_time": "2025-06-26T08:54:29.080117",
          "exception": false,
          "start_time": "2025-06-26T08:54:29.050621",
          "status": "completed"
        },
        "tags": []
      },
      "source": [
        "#### 83. How to find the most frequent value in an array"
      ]
    },
    {
      "cell_type": "code",
      "execution_count": null,
      "id": "cdacffc8",
      "metadata": {
        "papermill": {
          "duration": 0.019039,
          "end_time": "2025-06-26T08:54:29.125775",
          "exception": false,
          "start_time": "2025-06-26T08:54:29.106736",
          "status": "completed"
        },
        "tags": []
      },
      "outputs": [],
      "source": []
    },
    {
      "cell_type": "markdown",
      "id": "beebee68",
      "metadata": {
        "papermill": {
          "duration": 0.018517,
          "end_time": "2025-06-26T08:54:29.163069",
          "exception": false,
          "start_time": "2025-06-26T08:54:29.144552",
          "status": "completed"
        },
        "tags": []
      },
      "source": [
        "#### 84. Extract all the contiguous 3x3 blocks from a random 10x10 matrix (\u2605\u2605\u2605)"
      ]
    },
    {
      "cell_type": "code",
      "execution_count": null,
      "id": "3124cae0",
      "metadata": {
        "papermill": {
          "duration": 0.018912,
          "end_time": "2025-06-26T08:54:29.201136",
          "exception": false,
          "start_time": "2025-06-26T08:54:29.182224",
          "status": "completed"
        },
        "tags": []
      },
      "outputs": [],
      "source": []
    },
    {
      "cell_type": "markdown",
      "id": "6957ae0e",
      "metadata": {
        "papermill": {
          "duration": 0.018504,
          "end_time": "2025-06-26T08:54:29.238450",
          "exception": false,
          "start_time": "2025-06-26T08:54:29.219946",
          "status": "completed"
        },
        "tags": []
      },
      "source": [
        "#### 85. Create a 2D array subclass such that Z[i,j] == Z[j,i] (\u2605\u2605\u2605)"
      ]
    },
    {
      "cell_type": "code",
      "execution_count": null,
      "id": "944e9808",
      "metadata": {
        "papermill": {
          "duration": 0.019059,
          "end_time": "2025-06-26T08:54:29.276440",
          "exception": false,
          "start_time": "2025-06-26T08:54:29.257381",
          "status": "completed"
        },
        "tags": []
      },
      "outputs": [],
      "source": []
    },
    {
      "cell_type": "markdown",
      "id": "675d890f",
      "metadata": {
        "papermill": {
          "duration": 0.019126,
          "end_time": "2025-06-26T08:54:29.314710",
          "exception": false,
          "start_time": "2025-06-26T08:54:29.295584",
          "status": "completed"
        },
        "tags": []
      },
      "source": [
        "#### 86. Consider a set of p matrices with shape (n,n) and a set of p vectors with shape (n,1). How to compute the sum of of the p matrix products at once (result has shape (n,1)) (\u2605\u2605\u2605)"
      ]
    },
    {
      "cell_type": "code",
      "execution_count": null,
      "id": "6f4bd9c0",
      "metadata": {
        "papermill": {
          "duration": 0.020049,
          "end_time": "2025-06-26T08:54:29.354610",
          "exception": false,
          "start_time": "2025-06-26T08:54:29.334561",
          "status": "completed"
        },
        "tags": []
      },
      "outputs": [],
      "source": []
    },
    {
      "cell_type": "markdown",
      "id": "441f729f",
      "metadata": {
        "papermill": {
          "duration": 0.019304,
          "end_time": "2025-06-26T08:54:29.394495",
          "exception": false,
          "start_time": "2025-06-26T08:54:29.375191",
          "status": "completed"
        },
        "tags": []
      },
      "source": [
        "#### 87. Consider a 16x16 array, how to get the block-sum (block size is 4x4) (\u2605\u2605\u2605)"
      ]
    },
    {
      "cell_type": "code",
      "execution_count": null,
      "id": "fd8e9c8d",
      "metadata": {
        "papermill": {
          "duration": 0.019011,
          "end_time": "2025-06-26T08:54:29.432807",
          "exception": false,
          "start_time": "2025-06-26T08:54:29.413796",
          "status": "completed"
        },
        "tags": []
      },
      "outputs": [],
      "source": []
    },
    {
      "cell_type": "markdown",
      "id": "3bfc77bb",
      "metadata": {
        "papermill": {
          "duration": 0.019062,
          "end_time": "2025-06-26T08:54:29.470973",
          "exception": false,
          "start_time": "2025-06-26T08:54:29.451911",
          "status": "completed"
        },
        "tags": []
      },
      "source": [
        "#### 88. How to implement the Game of Life using numpy arrays (\u2605\u2605\u2605)"
      ]
    },
    {
      "cell_type": "code",
      "execution_count": null,
      "id": "83731b5f",
      "metadata": {
        "papermill": {
          "duration": 0.018694,
          "end_time": "2025-06-26T08:54:29.508415",
          "exception": false,
          "start_time": "2025-06-26T08:54:29.489721",
          "status": "completed"
        },
        "tags": []
      },
      "outputs": [],
      "source": []
    },
    {
      "cell_type": "markdown",
      "id": "f9a5a9ac",
      "metadata": {
        "papermill": {
          "duration": 0.01957,
          "end_time": "2025-06-26T08:54:29.546791",
          "exception": false,
          "start_time": "2025-06-26T08:54:29.527221",
          "status": "completed"
        },
        "tags": []
      },
      "source": [
        "#### 89. How to get the n largest values of an array (\u2605\u2605\u2605)"
      ]
    },
    {
      "cell_type": "code",
      "execution_count": null,
      "id": "75148c4c",
      "metadata": {
        "papermill": {
          "duration": 0.01906,
          "end_time": "2025-06-26T08:54:29.585883",
          "exception": false,
          "start_time": "2025-06-26T08:54:29.566823",
          "status": "completed"
        },
        "tags": []
      },
      "outputs": [],
      "source": []
    },
    {
      "cell_type": "markdown",
      "id": "18d6153a",
      "metadata": {
        "papermill": {
          "duration": 0.018479,
          "end_time": "2025-06-26T08:54:29.623310",
          "exception": false,
          "start_time": "2025-06-26T08:54:29.604831",
          "status": "completed"
        },
        "tags": []
      },
      "source": [
        "#### 90. Given an arbitrary number of vectors, build the cartesian product (every combination of every item) (\u2605\u2605\u2605)"
      ]
    },
    {
      "cell_type": "code",
      "execution_count": null,
      "id": "9e44273b",
      "metadata": {
        "papermill": {
          "duration": 0.019549,
          "end_time": "2025-06-26T08:54:29.662234",
          "exception": false,
          "start_time": "2025-06-26T08:54:29.642685",
          "status": "completed"
        },
        "tags": []
      },
      "outputs": [],
      "source": []
    },
    {
      "cell_type": "markdown",
      "id": "b99c5ce5",
      "metadata": {
        "papermill": {
          "duration": 0.018784,
          "end_time": "2025-06-26T08:54:29.700536",
          "exception": false,
          "start_time": "2025-06-26T08:54:29.681752",
          "status": "completed"
        },
        "tags": []
      },
      "source": [
        "#### 91. How to create a record array from a regular array (\u2605\u2605\u2605)"
      ]
    },
    {
      "cell_type": "code",
      "execution_count": null,
      "id": "71a36c8e",
      "metadata": {
        "papermill": {
          "duration": 0.018922,
          "end_time": "2025-06-26T08:54:29.738652",
          "exception": false,
          "start_time": "2025-06-26T08:54:29.719730",
          "status": "completed"
        },
        "tags": []
      },
      "outputs": [],
      "source": []
    },
    {
      "cell_type": "markdown",
      "id": "b7f2badd",
      "metadata": {
        "papermill": {
          "duration": 0.019832,
          "end_time": "2025-06-26T08:54:29.778142",
          "exception": false,
          "start_time": "2025-06-26T08:54:29.758310",
          "status": "completed"
        },
        "tags": []
      },
      "source": [
        "#### 92. Consider a large vector Z, compute Z to the power of 3 using 3 different methods (\u2605\u2605\u2605)"
      ]
    },
    {
      "cell_type": "code",
      "execution_count": null,
      "id": "06b793ae",
      "metadata": {
        "papermill": {
          "duration": 0.019372,
          "end_time": "2025-06-26T08:54:29.817757",
          "exception": false,
          "start_time": "2025-06-26T08:54:29.798385",
          "status": "completed"
        },
        "tags": []
      },
      "outputs": [],
      "source": []
    },
    {
      "cell_type": "markdown",
      "id": "f0f7e30a",
      "metadata": {
        "papermill": {
          "duration": 0.020241,
          "end_time": "2025-06-26T08:54:29.858289",
          "exception": false,
          "start_time": "2025-06-26T08:54:29.838048",
          "status": "completed"
        },
        "tags": []
      },
      "source": [
        "#### 93. Consider two arrays A and B of shape (8,3) and (2,2). How to find rows of A that contain elements of each row of B regardless of the order of the elements in B (\u2605\u2605\u2605)"
      ]
    },
    {
      "cell_type": "code",
      "execution_count": null,
      "id": "b3f547ea",
      "metadata": {
        "papermill": {
          "duration": 0.021818,
          "end_time": "2025-06-26T08:54:29.901634",
          "exception": false,
          "start_time": "2025-06-26T08:54:29.879816",
          "status": "completed"
        },
        "tags": []
      },
      "outputs": [],
      "source": []
    },
    {
      "cell_type": "markdown",
      "id": "fcb85fe9",
      "metadata": {
        "papermill": {
          "duration": 0.022848,
          "end_time": "2025-06-26T08:54:29.946460",
          "exception": false,
          "start_time": "2025-06-26T08:54:29.923612",
          "status": "completed"
        },
        "tags": []
      },
      "source": [
        "#### 94. Considering a 10x3 matrix, extract rows with unequal values (e.g. [2,2,3]) (\u2605\u2605\u2605)"
      ]
    },
    {
      "cell_type": "code",
      "execution_count": null,
      "id": "e3b4d15e",
      "metadata": {
        "papermill": {
          "duration": 0.021207,
          "end_time": "2025-06-26T08:54:29.988990",
          "exception": false,
          "start_time": "2025-06-26T08:54:29.967783",
          "status": "completed"
        },
        "tags": []
      },
      "outputs": [],
      "source": []
    },
    {
      "cell_type": "markdown",
      "id": "acc0c454",
      "metadata": {
        "papermill": {
          "duration": 0.020949,
          "end_time": "2025-06-26T08:54:30.031649",
          "exception": false,
          "start_time": "2025-06-26T08:54:30.010700",
          "status": "completed"
        },
        "tags": []
      },
      "source": [
        "#### 95. Convert a vector of ints into a matrix binary representation (\u2605\u2605\u2605)"
      ]
    },
    {
      "cell_type": "code",
      "execution_count": null,
      "id": "470b836a",
      "metadata": {
        "papermill": {
          "duration": 0.020393,
          "end_time": "2025-06-26T08:54:30.073105",
          "exception": false,
          "start_time": "2025-06-26T08:54:30.052712",
          "status": "completed"
        },
        "tags": []
      },
      "outputs": [],
      "source": []
    },
    {
      "cell_type": "markdown",
      "id": "793803c7",
      "metadata": {
        "papermill": {
          "duration": 0.020507,
          "end_time": "2025-06-26T08:54:30.113468",
          "exception": false,
          "start_time": "2025-06-26T08:54:30.092961",
          "status": "completed"
        },
        "tags": []
      },
      "source": [
        "#### 96. Given a two dimensional array, how to extract unique rows (\u2605\u2605\u2605)"
      ]
    },
    {
      "cell_type": "code",
      "execution_count": null,
      "id": "6c2b5840",
      "metadata": {
        "papermill": {
          "duration": 0.020574,
          "end_time": "2025-06-26T08:54:30.154378",
          "exception": false,
          "start_time": "2025-06-26T08:54:30.133804",
          "status": "completed"
        },
        "tags": []
      },
      "outputs": [],
      "source": []
    },
    {
      "cell_type": "markdown",
      "id": "34e8f92d",
      "metadata": {
        "papermill": {
          "duration": 0.020986,
          "end_time": "2025-06-26T08:54:30.196540",
          "exception": false,
          "start_time": "2025-06-26T08:54:30.175554",
          "status": "completed"
        },
        "tags": []
      },
      "source": [
        "#### 97. Considering 2 vectors A & B, write the einsum equivalent of inner, outer, sum, and mul function (\u2605\u2605\u2605)"
      ]
    },
    {
      "cell_type": "code",
      "execution_count": null,
      "id": "5226f164",
      "metadata": {
        "papermill": {
          "duration": 0.021101,
          "end_time": "2025-06-26T08:54:30.238644",
          "exception": false,
          "start_time": "2025-06-26T08:54:30.217543",
          "status": "completed"
        },
        "tags": []
      },
      "outputs": [],
      "source": []
    },
    {
      "cell_type": "markdown",
      "id": "60016bd9",
      "metadata": {
        "papermill": {
          "duration": 0.020704,
          "end_time": "2025-06-26T08:54:30.281104",
          "exception": false,
          "start_time": "2025-06-26T08:54:30.260400",
          "status": "completed"
        },
        "tags": []
      },
      "source": [
        "#### 98. Considering a path described by two vectors (X,Y), how to sample it using equidistant samples (\u2605\u2605\u2605)"
      ]
    },
    {
      "cell_type": "code",
      "execution_count": null,
      "id": "4bac03fc",
      "metadata": {
        "papermill": {
          "duration": 0.020612,
          "end_time": "2025-06-26T08:54:30.322679",
          "exception": false,
          "start_time": "2025-06-26T08:54:30.302067",
          "status": "completed"
        },
        "tags": []
      },
      "outputs": [],
      "source": []
    },
    {
      "cell_type": "markdown",
      "id": "65c0f657",
      "metadata": {
        "papermill": {
          "duration": 0.020953,
          "end_time": "2025-06-26T08:54:30.364669",
          "exception": false,
          "start_time": "2025-06-26T08:54:30.343716",
          "status": "completed"
        },
        "tags": []
      },
      "source": [
        "#### 99. Given an integer n and a 2D array X, select from X the rows which can be interpreted as draws from a multinomial distribution with n degrees, i.e., the rows which only contain integers and which sum to n. (\u2605\u2605\u2605)"
      ]
    },
    {
      "cell_type": "code",
      "execution_count": null,
      "id": "778e8664",
      "metadata": {
        "papermill": {
          "duration": 0.02035,
          "end_time": "2025-06-26T08:54:30.405689",
          "exception": false,
          "start_time": "2025-06-26T08:54:30.385339",
          "status": "completed"
        },
        "tags": []
      },
      "outputs": [],
      "source": []
    },
    {
      "cell_type": "markdown",
      "id": "31d438a1",
      "metadata": {
        "papermill": {
          "duration": 0.019558,
          "end_time": "2025-06-26T08:54:30.444569",
          "exception": false,
          "start_time": "2025-06-26T08:54:30.425011",
          "status": "completed"
        },
        "tags": []
      },
      "source": [
        "#### 100. Compute bootstrapped 95% confidence intervals for the mean of a 1D array X (i.e., resample the elements of an array with replacement N times, compute the mean of each sample, and then compute percentiles over the means). (\u2605\u2605\u2605)"
      ]
    },
    {
      "cell_type": "code",
      "execution_count": null,
      "id": "2de3e7e2",
      "metadata": {
        "papermill": {
          "duration": 0.018715,
          "end_time": "2025-06-26T08:54:30.482713",
          "exception": false,
          "start_time": "2025-06-26T08:54:30.463998",
          "status": "completed"
        },
        "tags": []
      },
      "outputs": [],
      "source": []
    }
  ],
  "metadata": {
    "kaggle": {
      "accelerator": "none",
      "dataSources": [],
      "dockerImageVersionId": 31040,
      "isGpuEnabled": false,
      "isInternetEnabled": false,
      "language": "python",
      "sourceType": "notebook"
    },
    "kernelspec": {
      "display_name": "Python 3",
      "language": "python",
      "name": "python3"
    },
    "language_info": {
      "codemirror_mode": {
        "name": "ipython",
        "version": 3
      },
      "file_extension": ".py",
      "mimetype": "text/x-python",
      "name": "python",
      "nbconvert_exporter": "python",
      "pygments_lexer": "ipython3",
      "version": "3.11.11"
    },
    "papermill": {
      "default_parameters": {},
      "duration": 13.187355,
      "end_time": "2025-06-26T08:54:30.819425",
      "environment_variables": {},
      "exception": null,
      "input_path": "__notebook__.ipynb",
      "output_path": "__notebook__.ipynb",
      "parameters": {},
      "start_time": "2025-06-26T08:54:17.632070",
      "version": "2.6.0"
    }
  },
  "nbformat": 4,
  "nbformat_minor": 5
}
