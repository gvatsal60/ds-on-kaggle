{
  "cells": [
    {
      "cell_type": "markdown",
      "id": "34124994",
      "metadata": {
        "papermill": {
          "duration": 0.023651,
          "end_time": "2025-06-26T10:56:55.503918",
          "exception": false,
          "start_time": "2025-06-26T10:56:55.480267",
          "status": "completed"
        },
        "tags": []
      },
      "source": [
        "<a href=\"https://www.kaggle.com/code/gvatsal60/100-numpy-exercises\" target=\"_blank\"><img align=\"left\" alt=\"Kaggle\" title=\"Open in Kaggle\" src=\"https://kaggle.com/static/images/open-in-kaggle.svg\"></a>"
      ]
    },
    {
      "cell_type": "markdown",
      "id": "e140b9f6",
      "metadata": {
        "papermill": {
          "duration": 0.020089,
          "end_time": "2025-06-26T10:56:55.544530",
          "exception": false,
          "start_time": "2025-06-26T10:56:55.524441",
          "status": "completed"
        },
        "tags": []
      },
      "source": [
        "# \ud83c\udfaf 100 NumPy Exercises\n",
        "\n",
        "Welcome to **100 NumPy Exercises** \u2014 a curated collection of problems designed to sharpen your skills in NumPy, whether you're a beginner or a seasoned data wrangler.\n",
        "\n",
        "---\n",
        "\n",
        "\ud83d\udccc **About This Collection**\n",
        "\n",
        "This set of exercises has been gathered from:\n",
        "- The **NumPy mailing list**\n",
        "- **Stack Overflow** discussions\n",
        "- The **official NumPy documentation**\n",
        "\n",
        "The primary goal is to serve as:\n",
        "- \ud83d\udcda A quick reference for both new and experienced users  \n",
        "- \ud83c\udf93 A practical toolkit for educators and learners\n",
        "\n",
        "---\n",
        "\n",
        "\ud83d\udcac **Suggestions or Corrections?**\n",
        "\n",
        "If you find an error or have a better solution, feel free to contribute!  \n",
        "\u27a1\ufe0f Open an issue here: [100-Numpy-Exercise](https://github.com/gvatsal60/ds-on-kaggle/issues)\n",
        "\n",
        "---\n",
        "\n",
        "\ud83d\udcc4 **Credits and Licensing**\n",
        "\n",
        "Includes code and ideas derived from work by [Nicolas P. Rougier](https://github.com/rougier), \n",
        "used in accordance with the terms of the original [license](https://github.com/rougier/numpy-100/blob/master/LICENSE.txt).\n",
        "\n",
        "---\n",
        "\n",
        "\ud83e\udde0 **Ready to dive in?**  \n",
        "Let\u2019s explore the power of NumPy \u2014 one exercise at a time!\n"
      ]
    },
    {
      "cell_type": "markdown",
      "id": "85bd3749",
      "metadata": {
        "papermill": {
          "duration": 0.02028,
          "end_time": "2025-06-26T10:56:55.585630",
          "exception": false,
          "start_time": "2025-06-26T10:56:55.565350",
          "status": "completed"
        },
        "tags": []
      },
      "source": []
    },
    {
      "cell_type": "markdown",
      "id": "60c2fd16",
      "metadata": {
        "papermill": {
          "duration": 0.020371,
          "end_time": "2025-06-26T10:56:55.626607",
          "exception": false,
          "start_time": "2025-06-26T10:56:55.606236",
          "status": "completed"
        },
        "tags": []
      },
      "source": []
    },
    {
      "cell_type": "markdown",
      "id": "624995f7",
      "metadata": {
        "papermill": {
          "duration": 0.020241,
          "end_time": "2025-06-26T10:56:55.729222",
          "exception": false,
          "start_time": "2025-06-26T10:56:55.708981",
          "status": "completed"
        },
        "tags": []
      },
      "source": [
        "#### 1. Import the numpy package under the name `np` (\u2605\u2606\u2606)"
      ]
    },
    {
      "cell_type": "code",
      "execution_count": 1,
      "id": "e1982551",
      "metadata": {
        "execution": {
          "iopub.execute_input": "2025-06-26T10:56:55.771374Z",
          "iopub.status.busy": "2025-06-26T10:56:55.771064Z",
          "iopub.status.idle": "2025-06-26T10:56:55.778134Z",
          "shell.execute_reply": "2025-06-26T10:56:55.777399Z"
        },
        "papermill": {
          "duration": 0.029863,
          "end_time": "2025-06-26T10:56:55.779467",
          "exception": false,
          "start_time": "2025-06-26T10:56:55.749604",
          "status": "completed"
        },
        "tags": []
      },
      "outputs": [],
      "source": [
        "import numpy as np"
      ]
    },
    {
      "cell_type": "markdown",
      "id": "9f31a090",
      "metadata": {
        "papermill": {
          "duration": 0.020446,
          "end_time": "2025-06-26T10:56:55.821226",
          "exception": false,
          "start_time": "2025-06-26T10:56:55.800780",
          "status": "completed"
        },
        "tags": []
      },
      "source": [
        "#### 2. Print the numpy version and the configuration (\u2605\u2606\u2606)"
      ]
    },
    {
      "cell_type": "code",
      "execution_count": 2,
      "id": "380610a0",
      "metadata": {
        "execution": {
          "iopub.execute_input": "2025-06-26T10:56:55.864035Z",
          "iopub.status.busy": "2025-06-26T10:56:55.863223Z",
          "iopub.status.idle": "2025-06-26T10:56:55.869051Z",
          "shell.execute_reply": "2025-06-26T10:56:55.868077Z"
        },
        "papermill": {
          "duration": 0.028757,
          "end_time": "2025-06-26T10:56:55.870437",
          "exception": false,
          "start_time": "2025-06-26T10:56:55.841680",
          "status": "completed"
        },
        "tags": []
      },
      "outputs": [
        {
          "name": "stdout",
          "output_type": "stream",
          "text": [
            "\u2605 NumPy Version: 1.26.4\n",
            "\u2606 NumPy Configuration:\n",
            "blas_armpl_info:\n",
            "  NOT AVAILABLE\n",
            "blas_mkl_info:\n",
            "    libraries = ['mkl_rt', 'pthread']\n",
            "    library_dirs = ['/home/sat_bot/base/conda-bld/numpy_and_dev_1715296241721/_h_env_placehold_placehold_placehold_placehold_placehold_placehold_placehold_placehold_placehold_placehold_placehold_placehold_placehold_placehold_placehold_placehold_placehold_placehold_placehold_p/lib']\n",
            "    define_macros = [('SCIPY_MKL_H', None), ('HAVE_CBLAS', None)]\n",
            "    include_dirs = ['/home/sat_bot/base/conda-bld/numpy_and_dev_1715296241721/_h_env_placehold_placehold_placehold_placehold_placehold_placehold_placehold_placehold_placehold_placehold_placehold_placehold_placehold_placehold_placehold_placehold_placehold_placehold_placehold_p/include']\n",
            "blas_opt_info:\n",
            "    libraries = ['mkl_rt', 'pthread']\n",
            "    library_dirs = ['/home/sat_bot/base/conda-bld/numpy_and_dev_1715296241721/_h_env_placehold_placehold_placehold_placehold_placehold_placehold_placehold_placehold_placehold_placehold_placehold_placehold_placehold_placehold_placehold_placehold_placehold_placehold_placehold_p/lib']\n",
            "    define_macros = [('SCIPY_MKL_H', None), ('HAVE_CBLAS', None)]\n",
            "    include_dirs = ['/home/sat_bot/base/conda-bld/numpy_and_dev_1715296241721/_h_env_placehold_placehold_placehold_placehold_placehold_placehold_placehold_placehold_placehold_placehold_placehold_placehold_placehold_placehold_placehold_placehold_placehold_placehold_placehold_p/include']\n",
            "lapack_armpl_info:\n",
            "  NOT AVAILABLE\n",
            "lapack_mkl_info:\n",
            "    libraries = ['mkl_rt', 'pthread']\n",
            "    library_dirs = ['/home/sat_bot/base/conda-bld/numpy_and_dev_1715296241721/_h_env_placehold_placehold_placehold_placehold_placehold_placehold_placehold_placehold_placehold_placehold_placehold_placehold_placehold_placehold_placehold_placehold_placehold_placehold_placehold_p/lib']\n",
            "    define_macros = [('SCIPY_MKL_H', None), ('HAVE_CBLAS', None)]\n",
            "    include_dirs = ['/home/sat_bot/base/conda-bld/numpy_and_dev_1715296241721/_h_env_placehold_placehold_placehold_placehold_placehold_placehold_placehold_placehold_placehold_placehold_placehold_placehold_placehold_placehold_placehold_placehold_placehold_placehold_placehold_p/include']\n",
            "lapack_opt_info:\n",
            "    libraries = ['mkl_rt', 'pthread']\n",
            "    library_dirs = ['/home/sat_bot/base/conda-bld/numpy_and_dev_1715296241721/_h_env_placehold_placehold_placehold_placehold_placehold_placehold_placehold_placehold_placehold_placehold_placehold_placehold_placehold_placehold_placehold_placehold_placehold_placehold_placehold_p/lib']\n",
            "    define_macros = [('SCIPY_MKL_H', None), ('HAVE_CBLAS', None)]\n",
            "    include_dirs = ['/home/sat_bot/base/conda-bld/numpy_and_dev_1715296241721/_h_env_placehold_placehold_placehold_placehold_placehold_placehold_placehold_placehold_placehold_placehold_placehold_placehold_placehold_placehold_placehold_placehold_placehold_placehold_placehold_p/include']\n",
            "Supported SIMD extensions in this NumPy install:\n",
            "    baseline = SSE,SSE2,SSE3\n",
            "    found = SSSE3,SSE41,POPCNT,SSE42,AVX,F16C,FMA3,AVX2\n",
            "    not found = AVX512F,AVX512CD,AVX512_KNL,AVX512_KNM,AVX512_SKX,AVX512_CLX,AVX512_CNL,AVX512_ICL,AVX512_SPR\n"
          ]
        }
      ],
      "source": [
        "print(\"\u2605 NumPy Version:\", np.__version__)\n",
        "print(\"\u2606 NumPy Configuration:\")\n",
        "np.show_config()"
      ]
    },
    {
      "cell_type": "markdown",
      "id": "1411d6a7",
      "metadata": {
        "papermill": {
          "duration": 0.020567,
          "end_time": "2025-06-26T10:56:55.912237",
          "exception": false,
          "start_time": "2025-06-26T10:56:55.891670",
          "status": "completed"
        },
        "tags": []
      },
      "source": [
        "#### 3. Create a null vector of size 10 (\u2605\u2606\u2606)"
      ]
    },
    {
      "cell_type": "code",
      "execution_count": 3,
      "id": "1c17c5f7",
      "metadata": {
        "execution": {
          "iopub.execute_input": "2025-06-26T10:56:55.955212Z",
          "iopub.status.busy": "2025-06-26T10:56:55.954594Z",
          "iopub.status.idle": "2025-06-26T10:56:55.961971Z",
          "shell.execute_reply": "2025-06-26T10:56:55.961043Z"
        },
        "papermill": {
          "duration": 0.030371,
          "end_time": "2025-06-26T10:56:55.963366",
          "exception": false,
          "start_time": "2025-06-26T10:56:55.932995",
          "status": "completed"
        },
        "tags": []
      },
      "outputs": [
        {
          "data": {
            "text/plain": [
              "array([4.79729243e-315, 0.00000000e+000, 9.03744879e-320, 3.64700215e-258,\n",
              "       2.52527848e-311, 5.90408447e-321, 1.25990589e-300, 0.00000000e+000,\n",
              "       4.23059439e-307, 5.05923221e-321])"
            ]
          },
          "execution_count": 3,
          "metadata": {},
          "output_type": "execute_result"
        }
      ],
      "source": [
        "nullVec = np.empty(10)\n",
        "\n",
        "nullVec"
      ]
    },
    {
      "cell_type": "markdown",
      "id": "4ccb1bf4",
      "metadata": {
        "papermill": {
          "duration": 0.020551,
          "end_time": "2025-06-26T10:56:56.004967",
          "exception": false,
          "start_time": "2025-06-26T10:56:55.984416",
          "status": "completed"
        },
        "tags": []
      },
      "source": [
        "#### 4. How to find the memory size of any array (\u2605\u2606\u2606)"
      ]
    },
    {
      "cell_type": "code",
      "execution_count": 4,
      "id": "de3c02d3",
      "metadata": {
        "execution": {
          "iopub.execute_input": "2025-06-26T10:56:56.049163Z",
          "iopub.status.busy": "2025-06-26T10:56:56.048534Z",
          "iopub.status.idle": "2025-06-26T10:56:56.053634Z",
          "shell.execute_reply": "2025-06-26T10:56:56.052855Z"
        },
        "papermill": {
          "duration": 0.028298,
          "end_time": "2025-06-26T10:56:56.055018",
          "exception": false,
          "start_time": "2025-06-26T10:56:56.026720",
          "status": "completed"
        },
        "tags": []
      },
      "outputs": [
        {
          "name": "stdout",
          "output_type": "stream",
          "text": [
            "Null Vector Size: 10\n",
            "Null Vector ItemSize: 8\n"
          ]
        }
      ],
      "source": [
        "print(\"Null Vector Size:\", nullVec.size)\n",
        "print(\"Null Vector ItemSize:\", nullVec.itemsize)"
      ]
    },
    {
      "cell_type": "markdown",
      "id": "d2c5b77e",
      "metadata": {
        "papermill": {
          "duration": 0.020333,
          "end_time": "2025-06-26T10:56:56.096252",
          "exception": false,
          "start_time": "2025-06-26T10:56:56.075919",
          "status": "completed"
        },
        "tags": []
      },
      "source": [
        "#### 5. How to get the documentation of the numpy add function from the command line (\u2605\u2606\u2606)"
      ]
    },
    {
      "cell_type": "code",
      "execution_count": 5,
      "id": "904b9ce8",
      "metadata": {
        "execution": {
          "iopub.execute_input": "2025-06-26T10:56:56.138563Z",
          "iopub.status.busy": "2025-06-26T10:56:56.138278Z",
          "iopub.status.idle": "2025-06-26T10:56:56.142352Z",
          "shell.execute_reply": "2025-06-26T10:56:56.141546Z"
        },
        "papermill": {
          "duration": 0.02688,
          "end_time": "2025-06-26T10:56:56.143769",
          "exception": false,
          "start_time": "2025-06-26T10:56:56.116889",
          "status": "completed"
        },
        "tags": []
      },
      "outputs": [
        {
          "name": "stdout",
          "output_type": "stream",
          "text": [
            "add(x1, x2, /, out=None, *, where=True, casting='same_kind', order='K', dtype=None, subok=True[, signature, extobj])\n",
            "\n",
            "Add arguments element-wise.\n",
            "\n",
            "Parameters\n",
            "----------\n",
            "x1, x2 : array_like\n",
            "    The arrays to be added.\n",
            "    If ``x1.shape != x2.shape``, they must be broadcastable to a common\n",
            "    shape (which becomes the shape of the output).\n",
            "out : ndarray, None, or tuple of ndarray and None, optional\n",
            "    A location into which the result is stored. If provided, it must have\n",
            "    a shape that the inputs broadcast to. If not provided or None,\n",
            "    a freshly-allocated array is returned. A tuple (possible only as a\n",
            "    keyword argument) must have length equal to the number of outputs.\n",
            "where : array_like, optional\n",
            "    This condition is broadcast over the input. At locations where the\n",
            "    condition is True, the `out` array will be set to the ufunc result.\n",
            "    Elsewhere, the `out` array will retain its original value.\n",
            "    Note that if an uninitialized `out` array is created via the default\n",
            "    ``out=None``, locations within it where the condition is False will\n",
            "    remain uninitialized.\n",
            "**kwargs\n",
            "    For other keyword-only arguments, see the\n",
            "    :ref:`ufunc docs <ufuncs.kwargs>`.\n",
            "\n",
            "Returns\n",
            "-------\n",
            "add : ndarray or scalar\n",
            "    The sum of `x1` and `x2`, element-wise.\n",
            "    This is a scalar if both `x1` and `x2` are scalars.\n",
            "\n",
            "Notes\n",
            "-----\n",
            "Equivalent to `x1` + `x2` in terms of array broadcasting.\n",
            "\n",
            "Examples\n",
            "--------\n",
            ">>> np.add(1.0, 4.0)\n",
            "5.0\n",
            ">>> x1 = np.arange(9.0).reshape((3, 3))\n",
            ">>> x2 = np.arange(3.0)\n",
            ">>> np.add(x1, x2)\n",
            "array([[  0.,   2.,   4.],\n",
            "       [  3.,   5.,   7.],\n",
            "       [  6.,   8.,  10.]])\n",
            "\n",
            "The ``+`` operator can be used as a shorthand for ``np.add`` on ndarrays.\n",
            "\n",
            ">>> x1 = np.arange(9.0).reshape((3, 3))\n",
            ">>> x2 = np.arange(3.0)\n",
            ">>> x1 + x2\n",
            "array([[ 0.,  2.,  4.],\n",
            "       [ 3.,  5.,  7.],\n",
            "       [ 6.,  8., 10.]])\n"
          ]
        }
      ],
      "source": [
        "# np.add?\n",
        "# print(np.info('add'))\n",
        "print(np.add.__doc__)"
      ]
    },
    {
      "cell_type": "markdown",
      "id": "f934ca8d",
      "metadata": {
        "papermill": {
          "duration": 0.021935,
          "end_time": "2025-06-26T10:56:56.187487",
          "exception": false,
          "start_time": "2025-06-26T10:56:56.165552",
          "status": "completed"
        },
        "tags": []
      },
      "source": [
        "#### 6. Create a null vector of size 10 but the fifth value which is 1 (\u2605\u2606\u2606)"
      ]
    },
    {
      "cell_type": "code",
      "execution_count": 6,
      "id": "b8095762",
      "metadata": {
        "execution": {
          "iopub.execute_input": "2025-06-26T10:56:56.232473Z",
          "iopub.status.busy": "2025-06-26T10:56:56.232187Z",
          "iopub.status.idle": "2025-06-26T10:56:56.238172Z",
          "shell.execute_reply": "2025-06-26T10:56:56.237214Z"
        },
        "papermill": {
          "duration": 0.030182,
          "end_time": "2025-06-26T10:56:56.239576",
          "exception": false,
          "start_time": "2025-06-26T10:56:56.209394",
          "status": "completed"
        },
        "tags": []
      },
      "outputs": [
        {
          "data": {
            "text/plain": [
              "array([4.79729243e-315, 0.00000000e+000, 9.03744879e-320, 3.64700215e-258,\n",
              "       1.00000000e+000, 5.90408447e-321, 1.25990589e-300, 0.00000000e+000,\n",
              "       4.23059439e-307, 5.05923221e-321])"
            ]
          },
          "execution_count": 6,
          "metadata": {},
          "output_type": "execute_result"
        }
      ],
      "source": [
        "nullVec = np.empty(10)\n",
        "nullVec[4] = 1\n",
        "\n",
        "nullVec"
      ]
    },
    {
      "cell_type": "markdown",
      "id": "c62e2365",
      "metadata": {
        "papermill": {
          "duration": 0.020863,
          "end_time": "2025-06-26T10:56:56.283137",
          "exception": false,
          "start_time": "2025-06-26T10:56:56.262274",
          "status": "completed"
        },
        "tags": []
      },
      "source": [
        "#### 7. Create a vector with values ranging from 10 to 49 (\u2605\u2606\u2606)"
      ]
    },
    {
      "cell_type": "code",
      "execution_count": 7,
      "id": "2068fe9b",
      "metadata": {
        "execution": {
          "iopub.execute_input": "2025-06-26T10:56:56.326551Z",
          "iopub.status.busy": "2025-06-26T10:56:56.326248Z",
          "iopub.status.idle": "2025-06-26T10:56:56.333176Z",
          "shell.execute_reply": "2025-06-26T10:56:56.332422Z"
        },
        "papermill": {
          "duration": 0.03034,
          "end_time": "2025-06-26T10:56:56.334585",
          "exception": false,
          "start_time": "2025-06-26T10:56:56.304245",
          "status": "completed"
        },
        "tags": []
      },
      "outputs": [
        {
          "data": {
            "text/plain": [
              "array([10, 11, 12, 13, 14, 15, 16, 17, 18, 19, 20, 21, 22, 23, 24, 25, 26,\n",
              "       27, 28, 29, 30, 31, 32, 33, 34, 35, 36, 37, 38, 39, 40, 41, 42, 43,\n",
              "       44, 45, 46, 47, 48, 49])"
            ]
          },
          "execution_count": 7,
          "metadata": {},
          "output_type": "execute_result"
        }
      ],
      "source": [
        "rangeVec = np.arange(10, 50)\n",
        "\n",
        "rangeVec"
      ]
    },
    {
      "cell_type": "markdown",
      "id": "d6394ce7",
      "metadata": {
        "papermill": {
          "duration": 0.021075,
          "end_time": "2025-06-26T10:56:56.377447",
          "exception": false,
          "start_time": "2025-06-26T10:56:56.356372",
          "status": "completed"
        },
        "tags": []
      },
      "source": [
        "#### 8. Reverse a vector (first element becomes last) (\u2605\u2606\u2606)"
      ]
    },
    {
      "cell_type": "code",
      "execution_count": 8,
      "id": "719922de",
      "metadata": {
        "execution": {
          "iopub.execute_input": "2025-06-26T10:56:56.422435Z",
          "iopub.status.busy": "2025-06-26T10:56:56.422111Z",
          "iopub.status.idle": "2025-06-26T10:56:56.427547Z",
          "shell.execute_reply": "2025-06-26T10:56:56.426901Z"
        },
        "papermill": {
          "duration": 0.029914,
          "end_time": "2025-06-26T10:56:56.428802",
          "exception": false,
          "start_time": "2025-06-26T10:56:56.398888",
          "status": "completed"
        },
        "tags": []
      },
      "outputs": [
        {
          "data": {
            "text/plain": [
              "array([49, 48, 47, 46, 45, 44, 43, 42, 41, 40, 39, 38, 37, 36, 35, 34, 33,\n",
              "       32, 31, 30, 29, 28, 27, 26, 25, 24, 23, 22, 21, 20, 19, 18, 17, 16,\n",
              "       15, 14, 13, 12, 11, 10])"
            ]
          },
          "execution_count": 8,
          "metadata": {},
          "output_type": "execute_result"
        }
      ],
      "source": [
        "rangeVec[::-1]"
      ]
    },
    {
      "cell_type": "markdown",
      "id": "f83f8813",
      "metadata": {
        "papermill": {
          "duration": 0.021432,
          "end_time": "2025-06-26T10:56:56.471562",
          "exception": false,
          "start_time": "2025-06-26T10:56:56.450130",
          "status": "completed"
        },
        "tags": []
      },
      "source": [
        "#### 9. Create a 3x3 matrix with values ranging from 0 to 8 (\u2605\u2606\u2606)"
      ]
    },
    {
      "cell_type": "code",
      "execution_count": 9,
      "id": "9ae91338",
      "metadata": {
        "execution": {
          "iopub.execute_input": "2025-06-26T10:56:56.514950Z",
          "iopub.status.busy": "2025-06-26T10:56:56.514615Z",
          "iopub.status.idle": "2025-06-26T10:56:56.520312Z",
          "shell.execute_reply": "2025-06-26T10:56:56.519384Z"
        },
        "papermill": {
          "duration": 0.029205,
          "end_time": "2025-06-26T10:56:56.521819",
          "exception": false,
          "start_time": "2025-06-26T10:56:56.492614",
          "status": "completed"
        },
        "tags": []
      },
      "outputs": [
        {
          "data": {
            "text/plain": [
              "array([[0, 1, 2],\n",
              "       [3, 4, 5],\n",
              "       [6, 7, 8]])"
            ]
          },
          "execution_count": 9,
          "metadata": {},
          "output_type": "execute_result"
        }
      ],
      "source": [
        "matrix3x3 = np.arange(9).reshape((3, 3))\n",
        "\n",
        "matrix3x3"
      ]
    },
    {
      "cell_type": "markdown",
      "id": "c8159ad5",
      "metadata": {
        "papermill": {
          "duration": 0.021378,
          "end_time": "2025-06-26T10:56:56.564858",
          "exception": false,
          "start_time": "2025-06-26T10:56:56.543480",
          "status": "completed"
        },
        "tags": []
      },
      "source": [
        "#### 10. Find indices of non-zero elements from [1,2,0,0,4,0] (\u2605\u2606\u2606)"
      ]
    },
    {
      "cell_type": "code",
      "execution_count": 10,
      "id": "133b6e52",
      "metadata": {
        "execution": {
          "iopub.execute_input": "2025-06-26T10:56:56.608513Z",
          "iopub.status.busy": "2025-06-26T10:56:56.608233Z",
          "iopub.status.idle": "2025-06-26T10:56:56.614078Z",
          "shell.execute_reply": "2025-06-26T10:56:56.613290Z"
        },
        "papermill": {
          "duration": 0.029403,
          "end_time": "2025-06-26T10:56:56.615499",
          "exception": false,
          "start_time": "2025-06-26T10:56:56.586096",
          "status": "completed"
        },
        "tags": []
      },
      "outputs": [
        {
          "data": {
            "text/plain": [
              "(array([0, 1, 4]),)"
            ]
          },
          "execution_count": 10,
          "metadata": {},
          "output_type": "execute_result"
        }
      ],
      "source": [
        "rawData = [1, 2, 0, 0, 4, 0]\n",
        "\n",
        "npArr = np.array(rawData)\n",
        "\n",
        "npArr.nonzero()"
      ]
    },
    {
      "cell_type": "markdown",
      "id": "82ff9439",
      "metadata": {
        "papermill": {
          "duration": 0.021803,
          "end_time": "2025-06-26T10:56:56.659095",
          "exception": false,
          "start_time": "2025-06-26T10:56:56.637292",
          "status": "completed"
        },
        "tags": []
      },
      "source": [
        "#### 11. Create a 3x3 identity matrix (\u2605\u2606\u2606)\n",
        "\n",
        "```python\n",
        "[[1., 0., 0.],\n",
        " [0., 1., 0.],\n",
        " [0., 0., 1.]]\n",
        "```"
      ]
    },
    {
      "cell_type": "code",
      "execution_count": 11,
      "id": "125589e2",
      "metadata": {
        "execution": {
          "iopub.execute_input": "2025-06-26T10:56:56.703211Z",
          "iopub.status.busy": "2025-06-26T10:56:56.702893Z",
          "iopub.status.idle": "2025-06-26T10:56:56.708523Z",
          "shell.execute_reply": "2025-06-26T10:56:56.707851Z"
        },
        "papermill": {
          "duration": 0.029204,
          "end_time": "2025-06-26T10:56:56.709767",
          "exception": false,
          "start_time": "2025-06-26T10:56:56.680563",
          "status": "completed"
        },
        "tags": []
      },
      "outputs": [
        {
          "data": {
            "text/plain": [
              "array([[1., 0., 0.],\n",
              "       [0., 1., 0.],\n",
              "       [0., 0., 1.]])"
            ]
          },
          "execution_count": 11,
          "metadata": {},
          "output_type": "execute_result"
        }
      ],
      "source": [
        "idnMatrix = np.eye(3, 3)\n",
        "\n",
        "idnMatrix"
      ]
    },
    {
      "cell_type": "markdown",
      "id": "9bbd916f",
      "metadata": {
        "papermill": {
          "duration": 0.021565,
          "end_time": "2025-06-26T10:56:56.753025",
          "exception": false,
          "start_time": "2025-06-26T10:56:56.731460",
          "status": "completed"
        },
        "tags": []
      },
      "source": [
        "#### 12. Create a 3x3x3 array with random values (\u2605\u2606\u2606)"
      ]
    },
    {
      "cell_type": "code",
      "execution_count": 12,
      "id": "3c266a67",
      "metadata": {
        "execution": {
          "iopub.execute_input": "2025-06-26T10:56:56.797663Z",
          "iopub.status.busy": "2025-06-26T10:56:56.797381Z",
          "iopub.status.idle": "2025-06-26T10:56:56.803390Z",
          "shell.execute_reply": "2025-06-26T10:56:56.802564Z"
        },
        "papermill": {
          "duration": 0.03006,
          "end_time": "2025-06-26T10:56:56.804588",
          "exception": false,
          "start_time": "2025-06-26T10:56:56.774528",
          "status": "completed"
        },
        "tags": []
      },
      "outputs": [
        {
          "data": {
            "text/plain": [
              "array([[[0.5714776 , 0.33459256, 0.93260527],\n",
              "        [0.95322344, 0.48589627, 0.69764369],\n",
              "        [0.84028664, 0.42567384, 0.62944451]],\n",
              "\n",
              "       [[0.51400807, 0.97262621, 0.63607551],\n",
              "        [0.80955508, 0.63004979, 0.45229944],\n",
              "        [0.77733594, 0.3010284 , 0.74417173]],\n",
              "\n",
              "       [[0.04135196, 0.99172105, 0.52000885],\n",
              "        [0.95567257, 0.75452447, 0.51128709],\n",
              "        [0.81592346, 0.44958023, 0.55933497]]])"
            ]
          },
          "execution_count": 12,
          "metadata": {},
          "output_type": "execute_result"
        }
      ],
      "source": [
        "rndmArr = np.random.rand(3, 3, 3)\n",
        "\n",
        "rndmArr"
      ]
    },
    {
      "cell_type": "markdown",
      "id": "8b65de52",
      "metadata": {
        "papermill": {
          "duration": 0.021153,
          "end_time": "2025-06-26T10:56:56.847472",
          "exception": false,
          "start_time": "2025-06-26T10:56:56.826319",
          "status": "completed"
        },
        "tags": []
      },
      "source": [
        "#### 13. Create a 10x10 array with random values and find the minimum and maximum values (\u2605\u2606\u2606)"
      ]
    },
    {
      "cell_type": "code",
      "execution_count": 13,
      "id": "e483c87d",
      "metadata": {
        "execution": {
          "iopub.execute_input": "2025-06-26T10:56:56.891860Z",
          "iopub.status.busy": "2025-06-26T10:56:56.891480Z",
          "iopub.status.idle": "2025-06-26T10:56:56.896812Z",
          "shell.execute_reply": "2025-06-26T10:56:56.895912Z"
        },
        "papermill": {
          "duration": 0.029051,
          "end_time": "2025-06-26T10:56:56.898278",
          "exception": false,
          "start_time": "2025-06-26T10:56:56.869227",
          "status": "completed"
        },
        "tags": []
      },
      "outputs": [
        {
          "name": "stdout",
          "output_type": "stream",
          "text": [
            "Min Val: 0.00031467251680261654\n",
            "Max Val: 0.9926662539912074\n"
          ]
        }
      ],
      "source": [
        "rndmArr = np.random.rand(10, 10)\n",
        "\n",
        "rndmArr\n",
        "\n",
        "print(\"Min Val:\", rndmArr.min())\n",
        "print(\"Max Val:\", rndmArr.max())"
      ]
    },
    {
      "cell_type": "markdown",
      "id": "1a18ebf4",
      "metadata": {
        "papermill": {
          "duration": 0.021687,
          "end_time": "2025-06-26T10:56:56.942034",
          "exception": false,
          "start_time": "2025-06-26T10:56:56.920347",
          "status": "completed"
        },
        "tags": []
      },
      "source": [
        "#### 14. Create a random vector of size 30 and find the mean value (\u2605\u2606\u2606)"
      ]
    },
    {
      "cell_type": "code",
      "execution_count": 14,
      "id": "311d534a",
      "metadata": {
        "execution": {
          "iopub.execute_input": "2025-06-26T10:56:56.986761Z",
          "iopub.status.busy": "2025-06-26T10:56:56.986462Z",
          "iopub.status.idle": "2025-06-26T10:56:56.991709Z",
          "shell.execute_reply": "2025-06-26T10:56:56.991065Z"
        },
        "papermill": {
          "duration": 0.029229,
          "end_time": "2025-06-26T10:56:56.992980",
          "exception": false,
          "start_time": "2025-06-26T10:56:56.963751",
          "status": "completed"
        },
        "tags": []
      },
      "outputs": [
        {
          "data": {
            "text/plain": [
              "0.508225358179536"
            ]
          },
          "execution_count": 14,
          "metadata": {},
          "output_type": "execute_result"
        }
      ],
      "source": [
        "rndmArr = np.random.rand(30)\n",
        "\n",
        "rndmArr.mean()"
      ]
    },
    {
      "cell_type": "markdown",
      "id": "afda7208",
      "metadata": {
        "papermill": {
          "duration": 0.022556,
          "end_time": "2025-06-26T10:56:57.037352",
          "exception": false,
          "start_time": "2025-06-26T10:56:57.014796",
          "status": "completed"
        },
        "tags": []
      },
      "source": [
        "#### 15. Create a 2d array with 1 on the border and 0 inside (\u2605\u2606\u2606)\n",
        "\n",
        "```python\n",
        "[[1., 1., 1., 1., 1.],\n",
        " [1., 0., 0., 0., 1.],\n",
        " [1., 0., 0., 0., 1.],\n",
        " [1., 0., 0., 0., 1.],\n",
        " [1., 1., 1., 1., 1.]]\n",
        "```"
      ]
    },
    {
      "cell_type": "code",
      "execution_count": 15,
      "id": "2f04ab97",
      "metadata": {
        "execution": {
          "iopub.execute_input": "2025-06-26T10:56:57.081805Z",
          "iopub.status.busy": "2025-06-26T10:56:57.081523Z",
          "iopub.status.idle": "2025-06-26T10:56:57.087341Z",
          "shell.execute_reply": "2025-06-26T10:56:57.086555Z"
        },
        "papermill": {
          "duration": 0.029438,
          "end_time": "2025-06-26T10:56:57.088583",
          "exception": false,
          "start_time": "2025-06-26T10:56:57.059145",
          "status": "completed"
        },
        "tags": []
      },
      "outputs": [
        {
          "data": {
            "text/plain": [
              "array([[1., 1., 1., 1., 1.],\n",
              "       [1., 0., 0., 0., 1.],\n",
              "       [1., 0., 0., 0., 1.],\n",
              "       [1., 0., 0., 0., 1.],\n",
              "       [1., 1., 1., 1., 1.]])"
            ]
          },
          "execution_count": 15,
          "metadata": {},
          "output_type": "execute_result"
        }
      ],
      "source": [
        "npArr = np.ones((5, 5))\n",
        "# npArr[1:-1, 1:-1] = 0\n",
        "\n",
        "npArr[1:-1, 1:-1] = 0\n",
        "\n",
        "npArr"
      ]
    },
    {
      "cell_type": "markdown",
      "id": "62355f18",
      "metadata": {
        "papermill": {
          "duration": 0.021847,
          "end_time": "2025-06-26T10:56:57.132350",
          "exception": false,
          "start_time": "2025-06-26T10:56:57.110503",
          "status": "completed"
        },
        "tags": []
      },
      "source": [
        "#### 16. How to add a border (filled with 0's) around an existing array (\u2605\u2606\u2606)\n",
        "\n",
        "```python\n",
        "[[0., 0., 0., 0., 0.],\n",
        " [0., 1., 1., 1., 0.],\n",
        " [0., 1., 1., 1., 0.],\n",
        " [0., 1., 1., 1., 0.],\n",
        " [0., 0., 0., 0., 0.]]\n",
        "```"
      ]
    },
    {
      "cell_type": "code",
      "execution_count": 16,
      "id": "93e570ad",
      "metadata": {
        "execution": {
          "iopub.execute_input": "2025-06-26T10:56:57.177956Z",
          "iopub.status.busy": "2025-06-26T10:56:57.176710Z",
          "iopub.status.idle": "2025-06-26T10:56:57.183616Z",
          "shell.execute_reply": "2025-06-26T10:56:57.182819Z"
        },
        "papermill": {
          "duration": 0.031011,
          "end_time": "2025-06-26T10:56:57.185093",
          "exception": false,
          "start_time": "2025-06-26T10:56:57.154082",
          "status": "completed"
        },
        "tags": []
      },
      "outputs": [
        {
          "data": {
            "text/plain": [
              "array([[0., 0., 0., 0., 0.],\n",
              "       [0., 1., 1., 1., 0.],\n",
              "       [0., 1., 1., 1., 0.],\n",
              "       [0., 1., 1., 1., 0.],\n",
              "       [0., 0., 0., 0., 0.]])"
            ]
          },
          "execution_count": 16,
          "metadata": {},
          "output_type": "execute_result"
        }
      ],
      "source": [
        "npArr = np.ones((5, 5))\n",
        "npArr[:, [0, -1]] = 0\n",
        "npArr[[0, -1], :] = 0\n",
        "npArr\n",
        "\n",
        "# padArr = np.ones((5,5))\n",
        "# padArr = np.pad(padArr, pad_width=1, mode='constant', constant_values=0)\n",
        "# padArr"
      ]
    },
    {
      "cell_type": "markdown",
      "id": "5651c77d",
      "metadata": {
        "papermill": {
          "duration": 0.021435,
          "end_time": "2025-06-26T10:56:57.228750",
          "exception": false,
          "start_time": "2025-06-26T10:56:57.207315",
          "status": "completed"
        },
        "tags": []
      },
      "source": [
        "#### 17. What is the result of the following expression (\u2605\u2606\u2606)\n",
        "```python\n",
        "0 * np.nan\n",
        "np.nan == np.nan\n",
        "np.inf > np.nan\n",
        "np.nan - np.nan\n",
        "np.nan in set([np.nan])\n",
        "0.3 == 3 * 0.1\n",
        "```"
      ]
    },
    {
      "cell_type": "code",
      "execution_count": 17,
      "id": "a02e8b8b",
      "metadata": {
        "execution": {
          "iopub.execute_input": "2025-06-26T10:56:57.275504Z",
          "iopub.status.busy": "2025-06-26T10:56:57.275192Z",
          "iopub.status.idle": "2025-06-26T10:56:57.281113Z",
          "shell.execute_reply": "2025-06-26T10:56:57.280253Z"
        },
        "papermill": {
          "duration": 0.031042,
          "end_time": "2025-06-26T10:56:57.282441",
          "exception": false,
          "start_time": "2025-06-26T10:56:57.251399",
          "status": "completed"
        },
        "tags": []
      },
      "outputs": [
        {
          "name": "stdout",
          "output_type": "stream",
          "text": [
            "nan\n",
            "False\n",
            "False\n",
            "nan\n",
            "True\n",
            "False\n",
            "True\n"
          ]
        }
      ],
      "source": [
        "print(0 * np.nan)  # nan\n",
        "print(np.nan == np.nan)  # False\n",
        "print(np.inf > np.nan)  # False\n",
        "print(np.nan - np.nan)  # nan\n",
        "print(np.nan in set([np.nan]))  # True\n",
        "print(0.3 == 3 * 0.1)  # False\n",
        "print(0.3 == round(3 * 0.1, 1))  # True"
      ]
    },
    {
      "cell_type": "markdown",
      "id": "05e8a433",
      "metadata": {
        "papermill": {
          "duration": 0.021787,
          "end_time": "2025-06-26T10:56:57.326731",
          "exception": false,
          "start_time": "2025-06-26T10:56:57.304944",
          "status": "completed"
        },
        "tags": []
      },
      "source": [
        "#### 18. Create a 5x5 matrix with values 1,2,3,4 just below the diagonal (\u2605\u2606\u2606)\n",
        "\n",
        "```python\n",
        "[[0, 0, 0, 0, 0],\n",
        " [1, 0, 0, 0, 0],\n",
        " [0, 2, 0, 0, 0],\n",
        " [0, 0, 3, 0, 0],\n",
        " [0, 0, 0, 4, 0]]\n",
        "```"
      ]
    },
    {
      "cell_type": "code",
      "execution_count": 18,
      "id": "0fbc0906",
      "metadata": {
        "execution": {
          "iopub.execute_input": "2025-06-26T10:56:57.372926Z",
          "iopub.status.busy": "2025-06-26T10:56:57.372164Z",
          "iopub.status.idle": "2025-06-26T10:56:57.379324Z",
          "shell.execute_reply": "2025-06-26T10:56:57.378479Z"
        },
        "papermill": {
          "duration": 0.03178,
          "end_time": "2025-06-26T10:56:57.380604",
          "exception": false,
          "start_time": "2025-06-26T10:56:57.348824",
          "status": "completed"
        },
        "tags": []
      },
      "outputs": [
        {
          "data": {
            "text/plain": [
              "array([[0, 0, 0, 0, 0],\n",
              "       [1, 0, 0, 0, 0],\n",
              "       [0, 2, 0, 0, 0],\n",
              "       [0, 0, 3, 0, 0],\n",
              "       [0, 0, 0, 4, 0]])"
            ]
          },
          "execution_count": 18,
          "metadata": {},
          "output_type": "execute_result"
        }
      ],
      "source": [
        "m_5x5 = np.diag(1 + np.arange(4), k=-1)\n",
        "\n",
        "m_5x5"
      ]
    },
    {
      "cell_type": "markdown",
      "id": "318e984d",
      "metadata": {
        "papermill": {
          "duration": 0.021929,
          "end_time": "2025-06-26T10:56:57.425114",
          "exception": false,
          "start_time": "2025-06-26T10:56:57.403185",
          "status": "completed"
        },
        "tags": []
      },
      "source": [
        "#### 19. Create a 8x8 matrix and fill it with a checkerboard pattern (\u2605\u2606\u2606)"
      ]
    },
    {
      "cell_type": "code",
      "execution_count": 19,
      "id": "2116ef3a",
      "metadata": {
        "execution": {
          "iopub.execute_input": "2025-06-26T10:56:57.470684Z",
          "iopub.status.busy": "2025-06-26T10:56:57.470373Z",
          "iopub.status.idle": "2025-06-26T10:56:57.476968Z",
          "shell.execute_reply": "2025-06-26T10:56:57.476049Z"
        },
        "papermill": {
          "duration": 0.031111,
          "end_time": "2025-06-26T10:56:57.478401",
          "exception": false,
          "start_time": "2025-06-26T10:56:57.447290",
          "status": "completed"
        },
        "tags": []
      },
      "outputs": [
        {
          "data": {
            "text/plain": [
              "array([[0., 1., 0., 1., 0., 1., 0., 1.],\n",
              "       [1., 0., 1., 0., 1., 0., 1., 0.],\n",
              "       [0., 1., 0., 1., 0., 1., 0., 1.],\n",
              "       [1., 0., 1., 0., 1., 0., 1., 0.],\n",
              "       [0., 1., 0., 1., 0., 1., 0., 1.],\n",
              "       [1., 0., 1., 0., 1., 0., 1., 0.],\n",
              "       [0., 1., 0., 1., 0., 1., 0., 1.],\n",
              "       [1., 0., 1., 0., 1., 0., 1., 0.]])"
            ]
          },
          "execution_count": 19,
          "metadata": {},
          "output_type": "execute_result"
        }
      ],
      "source": [
        "m_8x8 = np.zeros((8, 8))\n",
        "m_8x8[1::2, ::2] = 1\n",
        "m_8x8[::2, 1::2] = 1\n",
        "\n",
        "m_8x8"
      ]
    },
    {
      "cell_type": "markdown",
      "id": "ea1de247",
      "metadata": {
        "papermill": {
          "duration": 0.021697,
          "end_time": "2025-06-26T10:56:57.522599",
          "exception": false,
          "start_time": "2025-06-26T10:56:57.500902",
          "status": "completed"
        },
        "tags": []
      },
      "source": [
        "#### 20. Consider a (6,7,8) shape array, what is the index (x,y,z) of the 100th element (\u2605\u2606\u2606)"
      ]
    },
    {
      "cell_type": "code",
      "execution_count": 20,
      "id": "7761b260",
      "metadata": {
        "execution": {
          "iopub.execute_input": "2025-06-26T10:56:57.569113Z",
          "iopub.status.busy": "2025-06-26T10:56:57.568354Z",
          "iopub.status.idle": "2025-06-26T10:56:57.573227Z",
          "shell.execute_reply": "2025-06-26T10:56:57.572412Z"
        },
        "papermill": {
          "duration": 0.029936,
          "end_time": "2025-06-26T10:56:57.575037",
          "exception": false,
          "start_time": "2025-06-26T10:56:57.545101",
          "status": "completed"
        },
        "tags": []
      },
      "outputs": [
        {
          "name": "stdout",
          "output_type": "stream",
          "text": [
            "(1, 5, 3)\n"
          ]
        }
      ],
      "source": [
        "print(np.unravel_index(99, (6, 7, 8)))"
      ]
    },
    {
      "cell_type": "code",
      "execution_count": 21,
      "id": "5798414c",
      "metadata": {
        "execution": {
          "iopub.execute_input": "2025-06-26T10:56:57.620674Z",
          "iopub.status.busy": "2025-06-26T10:56:57.620360Z",
          "iopub.status.idle": "2025-06-26T10:56:57.626659Z",
          "shell.execute_reply": "2025-06-26T10:56:57.625920Z"
        },
        "papermill": {
          "duration": 0.030668,
          "end_time": "2025-06-26T10:56:57.628120",
          "exception": false,
          "start_time": "2025-06-26T10:56:57.597452",
          "status": "completed"
        },
        "tags": []
      },
      "outputs": [
        {
          "data": {
            "text/plain": [
              "array([[[  0,   1,   2,   3,   4,   5,   6,   7],\n",
              "        [  8,   9,  10,  11,  12,  13,  14,  15],\n",
              "        [ 16,  17,  18,  19,  20,  21,  22,  23],\n",
              "        [ 24,  25,  26,  27,  28,  29,  30,  31],\n",
              "        [ 32,  33,  34,  35,  36,  37,  38,  39],\n",
              "        [ 40,  41,  42,  43,  44,  45,  46,  47],\n",
              "        [ 48,  49,  50,  51,  52,  53,  54,  55]],\n",
              "\n",
              "       [[ 56,  57,  58,  59,  60,  61,  62,  63],\n",
              "        [ 64,  65,  66,  67,  68,  69,  70,  71],\n",
              "        [ 72,  73,  74,  75,  76,  77,  78,  79],\n",
              "        [ 80,  81,  82,  83,  84,  85,  86,  87],\n",
              "        [ 88,  89,  90,  91,  92,  93,  94,  95],\n",
              "        [ 96,  97,  98,  99, 100, 101, 102, 103],\n",
              "        [104, 105, 106, 107, 108, 109, 110, 111]],\n",
              "\n",
              "       [[112, 113, 114, 115, 116, 117, 118, 119],\n",
              "        [120, 121, 122, 123, 124, 125, 126, 127],\n",
              "        [128, 129, 130, 131, 132, 133, 134, 135],\n",
              "        [136, 137, 138, 139, 140, 141, 142, 143],\n",
              "        [144, 145, 146, 147, 148, 149, 150, 151],\n",
              "        [152, 153, 154, 155, 156, 157, 158, 159],\n",
              "        [160, 161, 162, 163, 164, 165, 166, 167]],\n",
              "\n",
              "       [[168, 169, 170, 171, 172, 173, 174, 175],\n",
              "        [176, 177, 178, 179, 180, 181, 182, 183],\n",
              "        [184, 185, 186, 187, 188, 189, 190, 191],\n",
              "        [192, 193, 194, 195, 196, 197, 198, 199],\n",
              "        [200, 201, 202, 203, 204, 205, 206, 207],\n",
              "        [208, 209, 210, 211, 212, 213, 214, 215],\n",
              "        [216, 217, 218, 219, 220, 221, 222, 223]],\n",
              "\n",
              "       [[224, 225, 226, 227, 228, 229, 230, 231],\n",
              "        [232, 233, 234, 235, 236, 237, 238, 239],\n",
              "        [240, 241, 242, 243, 244, 245, 246, 247],\n",
              "        [248, 249, 250, 251, 252, 253, 254, 255],\n",
              "        [256, 257, 258, 259, 260, 261, 262, 263],\n",
              "        [264, 265, 266, 267, 268, 269, 270, 271],\n",
              "        [272, 273, 274, 275, 276, 277, 278, 279]],\n",
              "\n",
              "       [[280, 281, 282, 283, 284, 285, 286, 287],\n",
              "        [288, 289, 290, 291, 292, 293, 294, 295],\n",
              "        [296, 297, 298, 299, 300, 301, 302, 303],\n",
              "        [304, 305, 306, 307, 308, 309, 310, 311],\n",
              "        [312, 313, 314, 315, 316, 317, 318, 319],\n",
              "        [320, 321, 322, 323, 324, 325, 326, 327],\n",
              "        [328, 329, 330, 331, 332, 333, 334, 335]]])"
            ]
          },
          "execution_count": 21,
          "metadata": {},
          "output_type": "execute_result"
        }
      ],
      "source": [
        "array_3d = np.arange(6 * 7 * 8).reshape((6, 7, 8))\n",
        "array_3d"
      ]
    },
    {
      "cell_type": "markdown",
      "id": "fc9942b1",
      "metadata": {
        "papermill": {
          "duration": 0.022542,
          "end_time": "2025-06-26T10:56:57.673758",
          "exception": false,
          "start_time": "2025-06-26T10:56:57.651216",
          "status": "completed"
        },
        "tags": []
      },
      "source": [
        "#### 21. Create a checkerboard 8x8 matrix using the tile function (\u2605\u2606\u2606)"
      ]
    },
    {
      "cell_type": "code",
      "execution_count": 22,
      "id": "e120a8ac",
      "metadata": {
        "execution": {
          "iopub.execute_input": "2025-06-26T10:56:57.720693Z",
          "iopub.status.busy": "2025-06-26T10:56:57.719819Z",
          "iopub.status.idle": "2025-06-26T10:56:57.725721Z",
          "shell.execute_reply": "2025-06-26T10:56:57.725052Z"
        },
        "papermill": {
          "duration": 0.030577,
          "end_time": "2025-06-26T10:56:57.727082",
          "exception": false,
          "start_time": "2025-06-26T10:56:57.696505",
          "status": "completed"
        },
        "tags": []
      },
      "outputs": [
        {
          "data": {
            "text/plain": [
              "array([[0, 1, 0, 1, 0, 1, 0, 1],\n",
              "       [1, 0, 1, 0, 1, 0, 1, 0],\n",
              "       [0, 1, 0, 1, 0, 1, 0, 1],\n",
              "       [1, 0, 1, 0, 1, 0, 1, 0],\n",
              "       [0, 1, 0, 1, 0, 1, 0, 1],\n",
              "       [1, 0, 1, 0, 1, 0, 1, 0],\n",
              "       [0, 1, 0, 1, 0, 1, 0, 1],\n",
              "       [1, 0, 1, 0, 1, 0, 1, 0]])"
            ]
          },
          "execution_count": 22,
          "metadata": {},
          "output_type": "execute_result"
        }
      ],
      "source": [
        "np.tile(np.array([[0, 1], [1, 0]]), (4, 4))"
      ]
    },
    {
      "cell_type": "markdown",
      "id": "4a4b22a1",
      "metadata": {
        "papermill": {
          "duration": 0.022143,
          "end_time": "2025-06-26T10:56:57.771814",
          "exception": false,
          "start_time": "2025-06-26T10:56:57.749671",
          "status": "completed"
        },
        "tags": []
      },
      "source": [
        "#### 22. Normalize a 5x5 random matrix (\u2605\u2606\u2606)\n",
        "\n",
        "$$\n",
        "\\text{normalized\\_data} = \\frac{\\text{data} - \\mu(\\text{data})}{\\sigma(\\text{data})}\n",
        "$$\n",
        "\n",
        "**Where:**\n",
        "\n",
        "- `data` is the original input array or dataset  \n",
        "- `\u03bc(data)` is the mean (average) of the data  \n",
        "- `\u03c3(data)` is the standard deviation of the data  \n",
        "- `normalized_data` is the standardized output, with mean 0 and standard deviation 1\n"
      ]
    },
    {
      "cell_type": "code",
      "execution_count": 23,
      "id": "9a7535e6",
      "metadata": {
        "execution": {
          "iopub.execute_input": "2025-06-26T10:56:57.817696Z",
          "iopub.status.busy": "2025-06-26T10:56:57.817401Z",
          "iopub.status.idle": "2025-06-26T10:56:57.823648Z",
          "shell.execute_reply": "2025-06-26T10:56:57.823013Z"
        },
        "papermill": {
          "duration": 0.031147,
          "end_time": "2025-06-26T10:56:57.825242",
          "exception": false,
          "start_time": "2025-06-26T10:56:57.794095",
          "status": "completed"
        },
        "tags": []
      },
      "outputs": [
        {
          "data": {
            "text/plain": [
              "array([[-1.65259676, -0.25538397,  1.44891275,  0.776264  , -0.69330722],\n",
              "       [ 1.23355061,  1.30844304, -0.50809521, -1.53733606,  0.12796445],\n",
              "       [-0.16848981, -0.26738149, -0.55610118, -1.65058375,  0.84075176],\n",
              "       [ 0.05145374, -0.07014067,  0.50228655, -1.46219448, -0.10096218],\n",
              "       [ 1.37445607,  1.28538888,  0.27655402,  1.12050032, -1.42395343]])"
            ]
          },
          "execution_count": 23,
          "metadata": {},
          "output_type": "execute_result"
        }
      ],
      "source": [
        "nrml_m = np.random.random((5, 5))\n",
        "nrml_m = (nrml_m - np.mean(nrml_m)) / (np.std(nrml_m))\n",
        "\n",
        "nrml_m"
      ]
    },
    {
      "cell_type": "markdown",
      "id": "08b2e7ef",
      "metadata": {
        "papermill": {
          "duration": 0.02251,
          "end_time": "2025-06-26T10:56:57.870499",
          "exception": false,
          "start_time": "2025-06-26T10:56:57.847989",
          "status": "completed"
        },
        "tags": []
      },
      "source": [
        "#### 23. Create a custom dtype that describes a color as four unsigned bytes (RGBA) (\u2605\u2606\u2606)"
      ]
    },
    {
      "cell_type": "code",
      "execution_count": 24,
      "id": "0e390475",
      "metadata": {
        "execution": {
          "iopub.execute_input": "2025-06-26T10:56:57.917347Z",
          "iopub.status.busy": "2025-06-26T10:56:57.917047Z",
          "iopub.status.idle": "2025-06-26T10:56:57.922545Z",
          "shell.execute_reply": "2025-06-26T10:56:57.921893Z"
        },
        "papermill": {
          "duration": 0.030183,
          "end_time": "2025-06-26T10:56:57.923744",
          "exception": false,
          "start_time": "2025-06-26T10:56:57.893561",
          "status": "completed"
        },
        "tags": []
      },
      "outputs": [
        {
          "data": {
            "text/plain": [
              "dtype([('r', 'u1'), ('g', 'u1'), ('b', 'u1'), ('a', 'u1')])"
            ]
          },
          "execution_count": 24,
          "metadata": {},
          "output_type": "execute_result"
        }
      ],
      "source": [
        "color = np.dtype([(\"r\", np.ubyte), (\"g\", np.ubyte), (\"b\", np.ubyte), (\"a\", np.ubyte)])\n",
        "\n",
        "color"
      ]
    },
    {
      "cell_type": "markdown",
      "id": "657bfdd8",
      "metadata": {
        "papermill": {
          "duration": 0.022829,
          "end_time": "2025-06-26T10:56:57.969436",
          "exception": false,
          "start_time": "2025-06-26T10:56:57.946607",
          "status": "completed"
        },
        "tags": []
      },
      "source": [
        "#### 24. Multiply a 5x3 matrix by a 3x2 matrix (real matrix product) (\u2605\u2606\u2606)"
      ]
    },
    {
      "cell_type": "code",
      "execution_count": 25,
      "id": "e580b744",
      "metadata": {
        "execution": {
          "iopub.execute_input": "2025-06-26T10:56:58.016263Z",
          "iopub.status.busy": "2025-06-26T10:56:58.015951Z",
          "iopub.status.idle": "2025-06-26T10:56:58.032140Z",
          "shell.execute_reply": "2025-06-26T10:56:58.031267Z"
        },
        "papermill": {
          "duration": 0.041435,
          "end_time": "2025-06-26T10:56:58.033750",
          "exception": false,
          "start_time": "2025-06-26T10:56:57.992315",
          "status": "completed"
        },
        "tags": []
      },
      "outputs": [
        {
          "data": {
            "text/plain": [
              "array([[0.74288051, 1.08146369],\n",
              "       [0.51747259, 1.2045005 ],\n",
              "       [0.58692744, 0.76640105],\n",
              "       [0.60949548, 0.98428038],\n",
              "       [0.68381514, 1.05734811]])"
            ]
          },
          "execution_count": 25,
          "metadata": {},
          "output_type": "execute_result"
        }
      ],
      "source": [
        "m1 = np.random.rand(5, 3)\n",
        "m2 = np.random.rand(3, 2)\n",
        "\n",
        "m1.dot(m2)"
      ]
    },
    {
      "cell_type": "markdown",
      "id": "e59612a9",
      "metadata": {
        "papermill": {
          "duration": 0.022438,
          "end_time": "2025-06-26T10:56:58.080449",
          "exception": false,
          "start_time": "2025-06-26T10:56:58.058011",
          "status": "completed"
        },
        "tags": []
      },
      "source": [
        "#### 25. Given a 1D array, negate all elements which are between 3 and 8, in place. (\u2605\u2606\u2606)"
      ]
    },
    {
      "cell_type": "code",
      "execution_count": null,
      "id": "db2b75b2",
      "metadata": {
        "papermill": {
          "duration": 0.022295,
          "end_time": "2025-06-26T10:56:58.125471",
          "exception": false,
          "start_time": "2025-06-26T10:56:58.103176",
          "status": "completed"
        },
        "tags": []
      },
      "outputs": [],
      "source": []
    },
    {
      "cell_type": "markdown",
      "id": "9574a415",
      "metadata": {
        "papermill": {
          "duration": 0.022262,
          "end_time": "2025-06-26T10:56:58.170191",
          "exception": false,
          "start_time": "2025-06-26T10:56:58.147929",
          "status": "completed"
        },
        "tags": []
      },
      "source": [
        "#### 26. What is the output of the following script (\u2605\u2606\u2606)\n",
        "```python\n",
        "# Author: Jake VanderPlas\n",
        "\n",
        "print(sum(range(5),-1))\n",
        "from numpy import *\n",
        "print(sum(range(5),-1))\n",
        "```"
      ]
    },
    {
      "cell_type": "code",
      "execution_count": 26,
      "id": "f2a1dd18",
      "metadata": {
        "execution": {
          "iopub.execute_input": "2025-06-26T10:56:58.216630Z",
          "iopub.status.busy": "2025-06-26T10:56:58.216039Z",
          "iopub.status.idle": "2025-06-26T10:56:58.220743Z",
          "shell.execute_reply": "2025-06-26T10:56:58.219917Z"
        },
        "papermill": {
          "duration": 0.029551,
          "end_time": "2025-06-26T10:56:58.222280",
          "exception": false,
          "start_time": "2025-06-26T10:56:58.192729",
          "status": "completed"
        },
        "tags": []
      },
      "outputs": [
        {
          "name": "stdout",
          "output_type": "stream",
          "text": [
            "9\n",
            "10\n"
          ]
        }
      ],
      "source": [
        "print(sum(range(5), -1))  # 9\n",
        "from numpy import sum  # noqa: E402\n",
        "\n",
        "print(sum(range(5), -1))  # 10 (axis = -1)"
      ]
    },
    {
      "cell_type": "markdown",
      "id": "404aac79",
      "metadata": {
        "papermill": {
          "duration": 0.024171,
          "end_time": "2025-06-26T10:56:58.270663",
          "exception": false,
          "start_time": "2025-06-26T10:56:58.246492",
          "status": "completed"
        },
        "tags": []
      },
      "source": [
        "#### 27. Consider an integer vector Z, which of these expressions are legal (\u2605\u2606\u2606)\n",
        "```python\n",
        "Z**Z\n",
        "2 << Z >> 2\n",
        "Z <- Z\n",
        "1j*Z\n",
        "Z/1/1\n",
        "Z<Z>Z\n",
        "```"
      ]
    },
    {
      "cell_type": "code",
      "execution_count": null,
      "id": "5e66370e",
      "metadata": {
        "papermill": {
          "duration": 0.022257,
          "end_time": "2025-06-26T10:56:58.315461",
          "exception": false,
          "start_time": "2025-06-26T10:56:58.293204",
          "status": "completed"
        },
        "tags": []
      },
      "outputs": [],
      "source": []
    },
    {
      "cell_type": "markdown",
      "id": "c47ed1b2",
      "metadata": {
        "papermill": {
          "duration": 0.022416,
          "end_time": "2025-06-26T10:56:58.360466",
          "exception": false,
          "start_time": "2025-06-26T10:56:58.338050",
          "status": "completed"
        },
        "tags": []
      },
      "source": [
        "#### 28. What are the result of the following expressions (\u2605\u2606\u2606)\n",
        "```python\n",
        "np.array(0) / np.array(0)\n",
        "np.array(0) // np.array(0)\n",
        "np.array([np.nan]).astype(int).astype(float)\n",
        "```"
      ]
    },
    {
      "cell_type": "code",
      "execution_count": 27,
      "id": "38cb21b7",
      "metadata": {
        "execution": {
          "iopub.execute_input": "2025-06-26T10:56:58.408067Z",
          "iopub.status.busy": "2025-06-26T10:56:58.407422Z",
          "iopub.status.idle": "2025-06-26T10:56:58.412980Z",
          "shell.execute_reply": "2025-06-26T10:56:58.412132Z"
        },
        "papermill": {
          "duration": 0.03103,
          "end_time": "2025-06-26T10:56:58.414678",
          "exception": false,
          "start_time": "2025-06-26T10:56:58.383648",
          "status": "completed"
        },
        "tags": []
      },
      "outputs": [
        {
          "name": "stdout",
          "output_type": "stream",
          "text": [
            "nan\n",
            "0\n",
            "[-9.22337204e+18]\n"
          ]
        },
        {
          "name": "stderr",
          "output_type": "stream",
          "text": [
            "/tmp/ipykernel_20/2670329950.py:1: RuntimeWarning: invalid value encountered in divide\n",
            "  print(np.array(0) / np.array(0))  # nan\n",
            "/tmp/ipykernel_20/2670329950.py:2: RuntimeWarning: divide by zero encountered in floor_divide\n",
            "  print(np.array(0) // np.array(0))  # 0\n",
            "/tmp/ipykernel_20/2670329950.py:3: RuntimeWarning: invalid value encountered in cast\n",
            "  print(np.array([np.nan]).astype(int).astype(float))  # [-9.22337204e+18]\n"
          ]
        }
      ],
      "source": [
        "print(np.array(0) / np.array(0))  # nan\n",
        "print(np.array(0) // np.array(0))  # 0\n",
        "print(np.array([np.nan]).astype(int).astype(float))  # [-9.22337204e+18]"
      ]
    },
    {
      "cell_type": "markdown",
      "id": "41f9a533",
      "metadata": {
        "papermill": {
          "duration": 0.022721,
          "end_time": "2025-06-26T10:56:58.460416",
          "exception": false,
          "start_time": "2025-06-26T10:56:58.437695",
          "status": "completed"
        },
        "tags": []
      },
      "source": [
        "#### 29. How to round away from zero a float array  (\u2605\u2606\u2606)"
      ]
    },
    {
      "cell_type": "code",
      "execution_count": null,
      "id": "9e72e2e2",
      "metadata": {
        "papermill": {
          "duration": 0.022468,
          "end_time": "2025-06-26T10:56:58.505725",
          "exception": false,
          "start_time": "2025-06-26T10:56:58.483257",
          "status": "completed"
        },
        "tags": []
      },
      "outputs": [],
      "source": []
    },
    {
      "cell_type": "markdown",
      "id": "a56872be",
      "metadata": {
        "papermill": {
          "duration": 0.023054,
          "end_time": "2025-06-26T10:56:58.551463",
          "exception": false,
          "start_time": "2025-06-26T10:56:58.528409",
          "status": "completed"
        },
        "tags": []
      },
      "source": [
        "#### 30. How to find common values between two arrays (\u2605\u2606\u2606)"
      ]
    },
    {
      "cell_type": "code",
      "execution_count": null,
      "id": "6117fffe",
      "metadata": {
        "papermill": {
          "duration": 0.022392,
          "end_time": "2025-06-26T10:56:58.596644",
          "exception": false,
          "start_time": "2025-06-26T10:56:58.574252",
          "status": "completed"
        },
        "tags": []
      },
      "outputs": [],
      "source": []
    },
    {
      "cell_type": "markdown",
      "id": "e52f6c19",
      "metadata": {
        "papermill": {
          "duration": 0.022788,
          "end_time": "2025-06-26T10:56:58.642300",
          "exception": false,
          "start_time": "2025-06-26T10:56:58.619512",
          "status": "completed"
        },
        "tags": []
      },
      "source": [
        "#### 31. How to ignore all numpy warnings (not recommended) (\u2605\u2606\u2606)"
      ]
    },
    {
      "cell_type": "code",
      "execution_count": 28,
      "id": "c445b20b",
      "metadata": {
        "execution": {
          "iopub.execute_input": "2025-06-26T10:56:58.689134Z",
          "iopub.status.busy": "2025-06-26T10:56:58.688767Z",
          "iopub.status.idle": "2025-06-26T10:56:58.694062Z",
          "shell.execute_reply": "2025-06-26T10:56:58.693266Z"
        },
        "papermill": {
          "duration": 0.030019,
          "end_time": "2025-06-26T10:56:58.695328",
          "exception": false,
          "start_time": "2025-06-26T10:56:58.665309",
          "status": "completed"
        },
        "tags": []
      },
      "outputs": [
        {
          "data": {
            "text/plain": [
              "{'divide': 'warn', 'over': 'warn', 'under': 'ignore', 'invalid': 'warn'}"
            ]
          },
          "execution_count": 28,
          "metadata": {},
          "output_type": "execute_result"
        }
      ],
      "source": [
        "np.seterr(all=\"ignore\")"
      ]
    },
    {
      "cell_type": "markdown",
      "id": "06eec058",
      "metadata": {
        "papermill": {
          "duration": 0.02272,
          "end_time": "2025-06-26T10:56:58.741087",
          "exception": false,
          "start_time": "2025-06-26T10:56:58.718367",
          "status": "completed"
        },
        "tags": []
      },
      "source": [
        "#### 32. Is the following expressions true (\u2605\u2606\u2606)\n",
        "```python\n",
        "np.sqrt(-1) == np.emath.sqrt(-1)\n",
        "```"
      ]
    },
    {
      "cell_type": "code",
      "execution_count": 29,
      "id": "87b32f72",
      "metadata": {
        "execution": {
          "iopub.execute_input": "2025-06-26T10:56:58.787991Z",
          "iopub.status.busy": "2025-06-26T10:56:58.787613Z",
          "iopub.status.idle": "2025-06-26T10:56:58.794745Z",
          "shell.execute_reply": "2025-06-26T10:56:58.794082Z"
        },
        "papermill": {
          "duration": 0.032301,
          "end_time": "2025-06-26T10:56:58.796236",
          "exception": false,
          "start_time": "2025-06-26T10:56:58.763935",
          "status": "completed"
        },
        "tags": []
      },
      "outputs": [
        {
          "data": {
            "text/plain": [
              "False"
            ]
          },
          "execution_count": 29,
          "metadata": {},
          "output_type": "execute_result"
        }
      ],
      "source": [
        "np.sqrt(-1) == np.emath.sqrt(-1)  # False"
      ]
    },
    {
      "cell_type": "markdown",
      "id": "feacac81",
      "metadata": {
        "papermill": {
          "duration": 0.022991,
          "end_time": "2025-06-26T10:56:58.843185",
          "exception": false,
          "start_time": "2025-06-26T10:56:58.820194",
          "status": "completed"
        },
        "tags": []
      },
      "source": [
        "#### 33. How to get the dates of yesterday, today and tomorrow (\u2605\u2606\u2606)"
      ]
    },
    {
      "cell_type": "code",
      "execution_count": null,
      "id": "8c3a7fbc",
      "metadata": {
        "papermill": {
          "duration": 0.022985,
          "end_time": "2025-06-26T10:56:58.890226",
          "exception": false,
          "start_time": "2025-06-26T10:56:58.867241",
          "status": "completed"
        },
        "tags": []
      },
      "outputs": [],
      "source": []
    },
    {
      "cell_type": "markdown",
      "id": "434eff17",
      "metadata": {
        "papermill": {
          "duration": 0.022669,
          "end_time": "2025-06-26T10:56:58.935818",
          "exception": false,
          "start_time": "2025-06-26T10:56:58.913149",
          "status": "completed"
        },
        "tags": []
      },
      "source": [
        "#### 34. How to get all the dates corresponding to the month of July 2016 (\u2605\u2605\u2606)"
      ]
    },
    {
      "cell_type": "code",
      "execution_count": null,
      "id": "ab3c1128",
      "metadata": {
        "papermill": {
          "duration": 0.022401,
          "end_time": "2025-06-26T10:56:58.981033",
          "exception": false,
          "start_time": "2025-06-26T10:56:58.958632",
          "status": "completed"
        },
        "tags": []
      },
      "outputs": [],
      "source": []
    },
    {
      "cell_type": "markdown",
      "id": "81138606",
      "metadata": {
        "papermill": {
          "duration": 0.022424,
          "end_time": "2025-06-26T10:56:59.026414",
          "exception": false,
          "start_time": "2025-06-26T10:56:59.003990",
          "status": "completed"
        },
        "tags": []
      },
      "source": [
        "#### 35. How to compute ((A+B)*(-A/2)) in place (without copy) (\u2605\u2605\u2606)"
      ]
    },
    {
      "cell_type": "code",
      "execution_count": null,
      "id": "8c2bfdb6",
      "metadata": {
        "papermill": {
          "duration": 0.02349,
          "end_time": "2025-06-26T10:56:59.073257",
          "exception": false,
          "start_time": "2025-06-26T10:56:59.049767",
          "status": "completed"
        },
        "tags": []
      },
      "outputs": [],
      "source": []
    },
    {
      "cell_type": "markdown",
      "id": "1a5509fd",
      "metadata": {
        "papermill": {
          "duration": 0.022608,
          "end_time": "2025-06-26T10:56:59.118773",
          "exception": false,
          "start_time": "2025-06-26T10:56:59.096165",
          "status": "completed"
        },
        "tags": []
      },
      "source": [
        "#### 36. Extract the integer part of a random array of positive numbers using 4 different methods (\u2605\u2605\u2606)"
      ]
    },
    {
      "cell_type": "code",
      "execution_count": null,
      "id": "d0169a87",
      "metadata": {
        "papermill": {
          "duration": 0.022512,
          "end_time": "2025-06-26T10:56:59.164262",
          "exception": false,
          "start_time": "2025-06-26T10:56:59.141750",
          "status": "completed"
        },
        "tags": []
      },
      "outputs": [],
      "source": []
    },
    {
      "cell_type": "markdown",
      "id": "89de7f60",
      "metadata": {
        "papermill": {
          "duration": 0.022431,
          "end_time": "2025-06-26T10:56:59.209407",
          "exception": false,
          "start_time": "2025-06-26T10:56:59.186976",
          "status": "completed"
        },
        "tags": []
      },
      "source": [
        "#### 37. Create a 5x5 matrix with row values ranging from 0 to 4 (\u2605\u2605\u2606)"
      ]
    },
    {
      "cell_type": "code",
      "execution_count": null,
      "id": "fcbe1632",
      "metadata": {
        "papermill": {
          "duration": 0.022497,
          "end_time": "2025-06-26T10:56:59.254801",
          "exception": false,
          "start_time": "2025-06-26T10:56:59.232304",
          "status": "completed"
        },
        "tags": []
      },
      "outputs": [],
      "source": []
    },
    {
      "cell_type": "markdown",
      "id": "f3e25b6f",
      "metadata": {
        "papermill": {
          "duration": 0.022681,
          "end_time": "2025-06-26T10:56:59.302190",
          "exception": false,
          "start_time": "2025-06-26T10:56:59.279509",
          "status": "completed"
        },
        "tags": []
      },
      "source": [
        "#### 38. Consider a generator function that generates 10 integers and use it to build an array (\u2605\u2606\u2606)"
      ]
    },
    {
      "cell_type": "code",
      "execution_count": null,
      "id": "24ee1085",
      "metadata": {
        "papermill": {
          "duration": 0.022503,
          "end_time": "2025-06-26T10:56:59.347466",
          "exception": false,
          "start_time": "2025-06-26T10:56:59.324963",
          "status": "completed"
        },
        "tags": []
      },
      "outputs": [],
      "source": []
    },
    {
      "cell_type": "markdown",
      "id": "0be9bef0",
      "metadata": {
        "papermill": {
          "duration": 0.022769,
          "end_time": "2025-06-26T10:56:59.393795",
          "exception": false,
          "start_time": "2025-06-26T10:56:59.371026",
          "status": "completed"
        },
        "tags": []
      },
      "source": [
        "#### 39. Create a vector of size 10 with values ranging from 0 to 1, both excluded (\u2605\u2605\u2606)"
      ]
    },
    {
      "cell_type": "code",
      "execution_count": null,
      "id": "be142a2d",
      "metadata": {
        "papermill": {
          "duration": 0.022739,
          "end_time": "2025-06-26T10:56:59.440714",
          "exception": false,
          "start_time": "2025-06-26T10:56:59.417975",
          "status": "completed"
        },
        "tags": []
      },
      "outputs": [],
      "source": []
    },
    {
      "cell_type": "markdown",
      "id": "3f2c8a2c",
      "metadata": {
        "papermill": {
          "duration": 0.022658,
          "end_time": "2025-06-26T10:56:59.486410",
          "exception": false,
          "start_time": "2025-06-26T10:56:59.463752",
          "status": "completed"
        },
        "tags": []
      },
      "source": [
        "#### 40. Create a random vector of size 10 and sort it (\u2605\u2605\u2606)"
      ]
    },
    {
      "cell_type": "code",
      "execution_count": null,
      "id": "c6d74296",
      "metadata": {
        "papermill": {
          "duration": 0.022996,
          "end_time": "2025-06-26T10:56:59.532487",
          "exception": false,
          "start_time": "2025-06-26T10:56:59.509491",
          "status": "completed"
        },
        "tags": []
      },
      "outputs": [],
      "source": []
    },
    {
      "cell_type": "markdown",
      "id": "b17cf64c",
      "metadata": {
        "papermill": {
          "duration": 0.02261,
          "end_time": "2025-06-26T10:56:59.578002",
          "exception": false,
          "start_time": "2025-06-26T10:56:59.555392",
          "status": "completed"
        },
        "tags": []
      },
      "source": [
        "#### 41. How to sum a small array faster than np.sum (\u2605\u2605\u2606)"
      ]
    },
    {
      "cell_type": "code",
      "execution_count": null,
      "id": "bdf61503",
      "metadata": {
        "papermill": {
          "duration": 0.022639,
          "end_time": "2025-06-26T10:56:59.623695",
          "exception": false,
          "start_time": "2025-06-26T10:56:59.601056",
          "status": "completed"
        },
        "tags": []
      },
      "outputs": [],
      "source": []
    },
    {
      "cell_type": "markdown",
      "id": "53dbf8f9",
      "metadata": {
        "papermill": {
          "duration": 0.022699,
          "end_time": "2025-06-26T10:56:59.669298",
          "exception": false,
          "start_time": "2025-06-26T10:56:59.646599",
          "status": "completed"
        },
        "tags": []
      },
      "source": [
        "#### 42. Consider two random arrays A and B, check if they are equal (\u2605\u2605\u2606)"
      ]
    },
    {
      "cell_type": "code",
      "execution_count": null,
      "id": "610b38f3",
      "metadata": {
        "papermill": {
          "duration": 0.02249,
          "end_time": "2025-06-26T10:56:59.714672",
          "exception": false,
          "start_time": "2025-06-26T10:56:59.692182",
          "status": "completed"
        },
        "tags": []
      },
      "outputs": [],
      "source": []
    },
    {
      "cell_type": "markdown",
      "id": "b8855738",
      "metadata": {
        "papermill": {
          "duration": 0.022558,
          "end_time": "2025-06-26T10:56:59.760163",
          "exception": false,
          "start_time": "2025-06-26T10:56:59.737605",
          "status": "completed"
        },
        "tags": []
      },
      "source": [
        "#### 43. Make an array immutable (read-only) (\u2605\u2605\u2606)"
      ]
    },
    {
      "cell_type": "code",
      "execution_count": null,
      "id": "de1531d7",
      "metadata": {
        "papermill": {
          "duration": 0.022619,
          "end_time": "2025-06-26T10:56:59.805575",
          "exception": false,
          "start_time": "2025-06-26T10:56:59.782956",
          "status": "completed"
        },
        "tags": []
      },
      "outputs": [],
      "source": []
    },
    {
      "cell_type": "markdown",
      "id": "c3da9949",
      "metadata": {
        "papermill": {
          "duration": 0.023182,
          "end_time": "2025-06-26T10:56:59.851674",
          "exception": false,
          "start_time": "2025-06-26T10:56:59.828492",
          "status": "completed"
        },
        "tags": []
      },
      "source": [
        "#### 44. Consider a random 10x2 matrix representing cartesian coordinates, convert them to polar coordinates (\u2605\u2605\u2606)"
      ]
    },
    {
      "cell_type": "code",
      "execution_count": null,
      "id": "e514e82b",
      "metadata": {
        "papermill": {
          "duration": 0.023954,
          "end_time": "2025-06-26T10:56:59.899262",
          "exception": false,
          "start_time": "2025-06-26T10:56:59.875308",
          "status": "completed"
        },
        "tags": []
      },
      "outputs": [],
      "source": []
    },
    {
      "cell_type": "markdown",
      "id": "16651ad1",
      "metadata": {
        "papermill": {
          "duration": 0.022779,
          "end_time": "2025-06-26T10:56:59.945859",
          "exception": false,
          "start_time": "2025-06-26T10:56:59.923080",
          "status": "completed"
        },
        "tags": []
      },
      "source": [
        "#### 45. Create random vector of size 10 and replace the maximum value by 0 (\u2605\u2605\u2606)"
      ]
    },
    {
      "cell_type": "code",
      "execution_count": null,
      "id": "e50bc721",
      "metadata": {
        "papermill": {
          "duration": 0.022482,
          "end_time": "2025-06-26T10:56:59.991086",
          "exception": false,
          "start_time": "2025-06-26T10:56:59.968604",
          "status": "completed"
        },
        "tags": []
      },
      "outputs": [],
      "source": []
    },
    {
      "cell_type": "markdown",
      "id": "eb9467b3",
      "metadata": {
        "papermill": {
          "duration": 0.022603,
          "end_time": "2025-06-26T10:57:00.036683",
          "exception": false,
          "start_time": "2025-06-26T10:57:00.014080",
          "status": "completed"
        },
        "tags": []
      },
      "source": [
        "#### 46. Create a structured array with `x` and `y` coordinates covering the [0,1]x[0,1] area (\u2605\u2605\u2606)"
      ]
    },
    {
      "cell_type": "code",
      "execution_count": null,
      "id": "6aaf6ef3",
      "metadata": {
        "papermill": {
          "duration": 0.023966,
          "end_time": "2025-06-26T10:57:00.083541",
          "exception": false,
          "start_time": "2025-06-26T10:57:00.059575",
          "status": "completed"
        },
        "tags": []
      },
      "outputs": [],
      "source": []
    },
    {
      "cell_type": "markdown",
      "id": "a073136d",
      "metadata": {
        "papermill": {
          "duration": 0.023079,
          "end_time": "2025-06-26T10:57:00.130725",
          "exception": false,
          "start_time": "2025-06-26T10:57:00.107646",
          "status": "completed"
        },
        "tags": []
      },
      "source": [
        "#### 47. Given two arrays, X and Y, construct the Cauchy matrix C (Cij =1/(xi - yj)) (\u2605\u2605\u2606)"
      ]
    },
    {
      "cell_type": "code",
      "execution_count": null,
      "id": "17c6fbbf",
      "metadata": {
        "papermill": {
          "duration": 0.022669,
          "end_time": "2025-06-26T10:57:00.176592",
          "exception": false,
          "start_time": "2025-06-26T10:57:00.153923",
          "status": "completed"
        },
        "tags": []
      },
      "outputs": [],
      "source": []
    },
    {
      "cell_type": "markdown",
      "id": "b4662ac1",
      "metadata": {
        "papermill": {
          "duration": 0.022741,
          "end_time": "2025-06-26T10:57:00.222523",
          "exception": false,
          "start_time": "2025-06-26T10:57:00.199782",
          "status": "completed"
        },
        "tags": []
      },
      "source": [
        "#### 48. Print the minimum and maximum representable values for each numpy scalar type (\u2605\u2605\u2606)"
      ]
    },
    {
      "cell_type": "code",
      "execution_count": null,
      "id": "d3d7d304",
      "metadata": {
        "papermill": {
          "duration": 0.024163,
          "end_time": "2025-06-26T10:57:00.269714",
          "exception": false,
          "start_time": "2025-06-26T10:57:00.245551",
          "status": "completed"
        },
        "tags": []
      },
      "outputs": [],
      "source": []
    },
    {
      "cell_type": "markdown",
      "id": "d3ddd40d",
      "metadata": {
        "papermill": {
          "duration": 0.022799,
          "end_time": "2025-06-26T10:57:00.316144",
          "exception": false,
          "start_time": "2025-06-26T10:57:00.293345",
          "status": "completed"
        },
        "tags": []
      },
      "source": [
        "#### 49. How to print all the values of an array (\u2605\u2605\u2606)"
      ]
    },
    {
      "cell_type": "code",
      "execution_count": null,
      "id": "5956d2c6",
      "metadata": {
        "papermill": {
          "duration": 0.022804,
          "end_time": "2025-06-26T10:57:00.362125",
          "exception": false,
          "start_time": "2025-06-26T10:57:00.339321",
          "status": "completed"
        },
        "tags": []
      },
      "outputs": [],
      "source": []
    },
    {
      "cell_type": "markdown",
      "id": "dac1650e",
      "metadata": {
        "papermill": {
          "duration": 0.022449,
          "end_time": "2025-06-26T10:57:00.407444",
          "exception": false,
          "start_time": "2025-06-26T10:57:00.384995",
          "status": "completed"
        },
        "tags": []
      },
      "source": [
        "#### 50. How to find the closest value (to a given scalar) in a vector (\u2605\u2605\u2606)"
      ]
    },
    {
      "cell_type": "code",
      "execution_count": null,
      "id": "228a81eb",
      "metadata": {
        "papermill": {
          "duration": 0.022585,
          "end_time": "2025-06-26T10:57:00.452912",
          "exception": false,
          "start_time": "2025-06-26T10:57:00.430327",
          "status": "completed"
        },
        "tags": []
      },
      "outputs": [],
      "source": []
    },
    {
      "cell_type": "markdown",
      "id": "6b5ca5e3",
      "metadata": {
        "papermill": {
          "duration": 0.023079,
          "end_time": "2025-06-26T10:57:00.498843",
          "exception": false,
          "start_time": "2025-06-26T10:57:00.475764",
          "status": "completed"
        },
        "tags": []
      },
      "source": [
        "#### 51. Create a structured array representing a position (x,y) and a color (r,g,b) (\u2605\u2605\u2606)"
      ]
    },
    {
      "cell_type": "code",
      "execution_count": null,
      "id": "1c98191c",
      "metadata": {
        "papermill": {
          "duration": 0.023992,
          "end_time": "2025-06-26T10:57:00.545851",
          "exception": false,
          "start_time": "2025-06-26T10:57:00.521859",
          "status": "completed"
        },
        "tags": []
      },
      "outputs": [],
      "source": []
    },
    {
      "cell_type": "markdown",
      "id": "e918e0c7",
      "metadata": {
        "papermill": {
          "duration": 0.024751,
          "end_time": "2025-06-26T10:57:00.595691",
          "exception": false,
          "start_time": "2025-06-26T10:57:00.570940",
          "status": "completed"
        },
        "tags": []
      },
      "source": [
        "#### 52. Consider a random vector with shape (100,2) representing coordinates, find point by point distances (\u2605\u2605\u2606)"
      ]
    },
    {
      "cell_type": "code",
      "execution_count": null,
      "id": "5c7de6b8",
      "metadata": {
        "papermill": {
          "duration": 0.022799,
          "end_time": "2025-06-26T10:57:00.641569",
          "exception": false,
          "start_time": "2025-06-26T10:57:00.618770",
          "status": "completed"
        },
        "tags": []
      },
      "outputs": [],
      "source": []
    },
    {
      "cell_type": "markdown",
      "id": "cc5a3a41",
      "metadata": {
        "papermill": {
          "duration": 0.023309,
          "end_time": "2025-06-26T10:57:00.687862",
          "exception": false,
          "start_time": "2025-06-26T10:57:00.664553",
          "status": "completed"
        },
        "tags": []
      },
      "source": [
        "#### 53. How to convert a float (32 bits) array into an integer (32 bits) array in place"
      ]
    },
    {
      "cell_type": "code",
      "execution_count": null,
      "id": "aa38a162",
      "metadata": {
        "papermill": {
          "duration": 0.023001,
          "end_time": "2025-06-26T10:57:00.734346",
          "exception": false,
          "start_time": "2025-06-26T10:57:00.711345",
          "status": "completed"
        },
        "tags": []
      },
      "outputs": [],
      "source": []
    },
    {
      "cell_type": "markdown",
      "id": "270a75e9",
      "metadata": {
        "papermill": {
          "duration": 0.022912,
          "end_time": "2025-06-26T10:57:00.780596",
          "exception": false,
          "start_time": "2025-06-26T10:57:00.757684",
          "status": "completed"
        },
        "tags": []
      },
      "source": [
        "#### 54. How to read the following file (\u2605\u2605\u2606)\n",
        "```\n",
        "1, 2, 3, 4, 5\n",
        "6,  ,  , 7, 8\n",
        " ,  , 9,10,11\n",
        "```"
      ]
    },
    {
      "cell_type": "code",
      "execution_count": null,
      "id": "62848a14",
      "metadata": {
        "papermill": {
          "duration": 0.022957,
          "end_time": "2025-06-26T10:57:00.826873",
          "exception": false,
          "start_time": "2025-06-26T10:57:00.803916",
          "status": "completed"
        },
        "tags": []
      },
      "outputs": [],
      "source": []
    },
    {
      "cell_type": "markdown",
      "id": "49be0bae",
      "metadata": {
        "papermill": {
          "duration": 0.022813,
          "end_time": "2025-06-26T10:57:00.872720",
          "exception": false,
          "start_time": "2025-06-26T10:57:00.849907",
          "status": "completed"
        },
        "tags": []
      },
      "source": [
        "#### 55. What is the equivalent of enumerate for numpy arrays (\u2605\u2605\u2606)"
      ]
    },
    {
      "cell_type": "code",
      "execution_count": null,
      "id": "a3577f22",
      "metadata": {
        "papermill": {
          "duration": 0.022921,
          "end_time": "2025-06-26T10:57:00.919083",
          "exception": false,
          "start_time": "2025-06-26T10:57:00.896162",
          "status": "completed"
        },
        "tags": []
      },
      "outputs": [],
      "source": []
    },
    {
      "cell_type": "markdown",
      "id": "bd4cf7d2",
      "metadata": {
        "papermill": {
          "duration": 0.022898,
          "end_time": "2025-06-26T10:57:00.965162",
          "exception": false,
          "start_time": "2025-06-26T10:57:00.942264",
          "status": "completed"
        },
        "tags": []
      },
      "source": [
        "#### 56. Generate a generic 2D Gaussian-like array (\u2605\u2605\u2606)"
      ]
    },
    {
      "cell_type": "code",
      "execution_count": null,
      "id": "18b22cd5",
      "metadata": {
        "papermill": {
          "duration": 0.022789,
          "end_time": "2025-06-26T10:57:01.010861",
          "exception": false,
          "start_time": "2025-06-26T10:57:00.988072",
          "status": "completed"
        },
        "tags": []
      },
      "outputs": [],
      "source": []
    },
    {
      "cell_type": "markdown",
      "id": "16db19ac",
      "metadata": {
        "papermill": {
          "duration": 0.023291,
          "end_time": "2025-06-26T10:57:01.057234",
          "exception": false,
          "start_time": "2025-06-26T10:57:01.033943",
          "status": "completed"
        },
        "tags": []
      },
      "source": [
        "#### 57. How to randomly place p elements in a 2D array (\u2605\u2605\u2606)"
      ]
    },
    {
      "cell_type": "code",
      "execution_count": null,
      "id": "70b62e4f",
      "metadata": {
        "papermill": {
          "duration": 0.024875,
          "end_time": "2025-06-26T10:57:01.105858",
          "exception": false,
          "start_time": "2025-06-26T10:57:01.080983",
          "status": "completed"
        },
        "tags": []
      },
      "outputs": [],
      "source": []
    },
    {
      "cell_type": "markdown",
      "id": "0efb824a",
      "metadata": {
        "papermill": {
          "duration": 0.023082,
          "end_time": "2025-06-26T10:57:01.152407",
          "exception": false,
          "start_time": "2025-06-26T10:57:01.129325",
          "status": "completed"
        },
        "tags": []
      },
      "source": [
        "#### 58. Subtract the mean of each row of a matrix (\u2605\u2605\u2606)"
      ]
    },
    {
      "cell_type": "code",
      "execution_count": null,
      "id": "330e31de",
      "metadata": {
        "papermill": {
          "duration": 0.022699,
          "end_time": "2025-06-26T10:57:01.198799",
          "exception": false,
          "start_time": "2025-06-26T10:57:01.176100",
          "status": "completed"
        },
        "tags": []
      },
      "outputs": [],
      "source": []
    },
    {
      "cell_type": "markdown",
      "id": "f08239c2",
      "metadata": {
        "papermill": {
          "duration": 0.022772,
          "end_time": "2025-06-26T10:57:01.244697",
          "exception": false,
          "start_time": "2025-06-26T10:57:01.221925",
          "status": "completed"
        },
        "tags": []
      },
      "source": [
        "#### 59. How to sort an array by the nth column (\u2605\u2605\u2606)"
      ]
    },
    {
      "cell_type": "code",
      "execution_count": null,
      "id": "c5488e1c",
      "metadata": {
        "papermill": {
          "duration": 0.023221,
          "end_time": "2025-06-26T10:57:01.292378",
          "exception": false,
          "start_time": "2025-06-26T10:57:01.269157",
          "status": "completed"
        },
        "tags": []
      },
      "outputs": [],
      "source": []
    },
    {
      "cell_type": "markdown",
      "id": "cd1f98f8",
      "metadata": {
        "papermill": {
          "duration": 0.023007,
          "end_time": "2025-06-26T10:57:01.338562",
          "exception": false,
          "start_time": "2025-06-26T10:57:01.315555",
          "status": "completed"
        },
        "tags": []
      },
      "source": [
        "#### 60. How to tell if a given 2D array has null columns (\u2605\u2605\u2606)"
      ]
    },
    {
      "cell_type": "code",
      "execution_count": null,
      "id": "a8559f52",
      "metadata": {
        "papermill": {
          "duration": 0.023375,
          "end_time": "2025-06-26T10:57:01.386251",
          "exception": false,
          "start_time": "2025-06-26T10:57:01.362876",
          "status": "completed"
        },
        "tags": []
      },
      "outputs": [],
      "source": []
    },
    {
      "cell_type": "markdown",
      "id": "a2003ec0",
      "metadata": {
        "papermill": {
          "duration": 0.02343,
          "end_time": "2025-06-26T10:57:01.432673",
          "exception": false,
          "start_time": "2025-06-26T10:57:01.409243",
          "status": "completed"
        },
        "tags": []
      },
      "source": [
        "#### 61. Find the nearest value from a given value in an array (\u2605\u2605\u2606)"
      ]
    },
    {
      "cell_type": "code",
      "execution_count": null,
      "id": "efa1526b",
      "metadata": {
        "papermill": {
          "duration": 0.022768,
          "end_time": "2025-06-26T10:57:01.478565",
          "exception": false,
          "start_time": "2025-06-26T10:57:01.455797",
          "status": "completed"
        },
        "tags": []
      },
      "outputs": [],
      "source": []
    },
    {
      "cell_type": "markdown",
      "id": "8d25d704",
      "metadata": {
        "papermill": {
          "duration": 0.022681,
          "end_time": "2025-06-26T10:57:01.524183",
          "exception": false,
          "start_time": "2025-06-26T10:57:01.501502",
          "status": "completed"
        },
        "tags": []
      },
      "source": [
        "#### 62. Considering two arrays with shape (1,3) and (3,1), how to compute their sum using an iterator (\u2605\u2605\u2606)"
      ]
    },
    {
      "cell_type": "code",
      "execution_count": null,
      "id": "094bdb21",
      "metadata": {
        "papermill": {
          "duration": 0.022909,
          "end_time": "2025-06-26T10:57:01.569977",
          "exception": false,
          "start_time": "2025-06-26T10:57:01.547068",
          "status": "completed"
        },
        "tags": []
      },
      "outputs": [],
      "source": []
    },
    {
      "cell_type": "markdown",
      "id": "72da3e9a",
      "metadata": {
        "papermill": {
          "duration": 0.022677,
          "end_time": "2025-06-26T10:57:01.616218",
          "exception": false,
          "start_time": "2025-06-26T10:57:01.593541",
          "status": "completed"
        },
        "tags": []
      },
      "source": [
        "#### 63. Create an array class that has a name attribute (\u2605\u2605\u2606)"
      ]
    },
    {
      "cell_type": "code",
      "execution_count": null,
      "id": "e4b0caa5",
      "metadata": {
        "papermill": {
          "duration": 0.023741,
          "end_time": "2025-06-26T10:57:01.663054",
          "exception": false,
          "start_time": "2025-06-26T10:57:01.639313",
          "status": "completed"
        },
        "tags": []
      },
      "outputs": [],
      "source": []
    },
    {
      "cell_type": "markdown",
      "id": "a658527c",
      "metadata": {
        "papermill": {
          "duration": 0.022587,
          "end_time": "2025-06-26T10:57:01.709138",
          "exception": false,
          "start_time": "2025-06-26T10:57:01.686551",
          "status": "completed"
        },
        "tags": []
      },
      "source": [
        "#### 64. Consider a given vector, how to add 1 to each element indexed by a second vector (be careful with repeated indices) (\u2605\u2605\u2605)"
      ]
    },
    {
      "cell_type": "code",
      "execution_count": null,
      "id": "bd3532b6",
      "metadata": {
        "papermill": {
          "duration": 0.022749,
          "end_time": "2025-06-26T10:57:01.755118",
          "exception": false,
          "start_time": "2025-06-26T10:57:01.732369",
          "status": "completed"
        },
        "tags": []
      },
      "outputs": [],
      "source": []
    },
    {
      "cell_type": "markdown",
      "id": "4d784c7f",
      "metadata": {
        "papermill": {
          "duration": 0.085772,
          "end_time": "2025-06-26T10:57:01.864118",
          "exception": false,
          "start_time": "2025-06-26T10:57:01.778346",
          "status": "completed"
        },
        "tags": []
      },
      "source": [
        "#### 65. How to accumulate elements of a vector (X) to an array (F) based on an index list (I) (\u2605\u2605\u2605)"
      ]
    },
    {
      "cell_type": "code",
      "execution_count": null,
      "id": "e6d9c906",
      "metadata": {
        "papermill": {
          "duration": 0.022795,
          "end_time": "2025-06-26T10:57:01.910447",
          "exception": false,
          "start_time": "2025-06-26T10:57:01.887652",
          "status": "completed"
        },
        "tags": []
      },
      "outputs": [],
      "source": []
    },
    {
      "cell_type": "markdown",
      "id": "2a0c0872",
      "metadata": {
        "papermill": {
          "duration": 0.022736,
          "end_time": "2025-06-26T10:57:01.956257",
          "exception": false,
          "start_time": "2025-06-26T10:57:01.933521",
          "status": "completed"
        },
        "tags": []
      },
      "source": [
        "#### 66. Considering a (w,h,3) image of (dtype=ubyte), compute the number of unique colors (\u2605\u2605\u2606)"
      ]
    },
    {
      "cell_type": "code",
      "execution_count": null,
      "id": "0c17d71d",
      "metadata": {
        "papermill": {
          "duration": 0.023036,
          "end_time": "2025-06-26T10:57:02.002560",
          "exception": false,
          "start_time": "2025-06-26T10:57:01.979524",
          "status": "completed"
        },
        "tags": []
      },
      "outputs": [],
      "source": []
    },
    {
      "cell_type": "markdown",
      "id": "e7d3e4e6",
      "metadata": {
        "papermill": {
          "duration": 0.023212,
          "end_time": "2025-06-26T10:57:02.049886",
          "exception": false,
          "start_time": "2025-06-26T10:57:02.026674",
          "status": "completed"
        },
        "tags": []
      },
      "source": [
        "#### 67. Considering a four dimensions array, how to get sum over the last two axis at once (\u2605\u2605\u2605)"
      ]
    },
    {
      "cell_type": "code",
      "execution_count": null,
      "id": "2dbf14ec",
      "metadata": {
        "papermill": {
          "duration": 0.02414,
          "end_time": "2025-06-26T10:57:02.097214",
          "exception": false,
          "start_time": "2025-06-26T10:57:02.073074",
          "status": "completed"
        },
        "tags": []
      },
      "outputs": [],
      "source": []
    },
    {
      "cell_type": "markdown",
      "id": "0c193b05",
      "metadata": {
        "papermill": {
          "duration": 0.022953,
          "end_time": "2025-06-26T10:57:02.143482",
          "exception": false,
          "start_time": "2025-06-26T10:57:02.120529",
          "status": "completed"
        },
        "tags": []
      },
      "source": [
        "#### 68. Considering a one-dimensional vector D, how to compute means of subsets of D using a vector S of same size describing subset  indices (\u2605\u2605\u2605)"
      ]
    },
    {
      "cell_type": "code",
      "execution_count": null,
      "id": "21a9ac1a",
      "metadata": {
        "papermill": {
          "duration": 0.022847,
          "end_time": "2025-06-26T10:57:02.189313",
          "exception": false,
          "start_time": "2025-06-26T10:57:02.166466",
          "status": "completed"
        },
        "tags": []
      },
      "outputs": [],
      "source": []
    },
    {
      "cell_type": "markdown",
      "id": "67f66556",
      "metadata": {
        "papermill": {
          "duration": 0.022688,
          "end_time": "2025-06-26T10:57:02.235181",
          "exception": false,
          "start_time": "2025-06-26T10:57:02.212493",
          "status": "completed"
        },
        "tags": []
      },
      "source": [
        "#### 69. How to get the diagonal of a dot product (\u2605\u2605\u2605)"
      ]
    },
    {
      "cell_type": "code",
      "execution_count": null,
      "id": "dd8a13ce",
      "metadata": {
        "papermill": {
          "duration": 0.023953,
          "end_time": "2025-06-26T10:57:02.282294",
          "exception": false,
          "start_time": "2025-06-26T10:57:02.258341",
          "status": "completed"
        },
        "tags": []
      },
      "outputs": [],
      "source": []
    },
    {
      "cell_type": "markdown",
      "id": "3aecea85",
      "metadata": {
        "papermill": {
          "duration": 0.022749,
          "end_time": "2025-06-26T10:57:02.328348",
          "exception": false,
          "start_time": "2025-06-26T10:57:02.305599",
          "status": "completed"
        },
        "tags": []
      },
      "source": [
        "#### 70. Consider the vector [1, 2, 3, 4, 5], how to build a new vector with 3 consecutive zeros interleaved between each value (\u2605\u2605\u2605)"
      ]
    },
    {
      "cell_type": "code",
      "execution_count": null,
      "id": "e0e414d5",
      "metadata": {
        "papermill": {
          "duration": 0.022942,
          "end_time": "2025-06-26T10:57:02.374281",
          "exception": false,
          "start_time": "2025-06-26T10:57:02.351339",
          "status": "completed"
        },
        "tags": []
      },
      "outputs": [],
      "source": []
    },
    {
      "cell_type": "markdown",
      "id": "32c85b19",
      "metadata": {
        "papermill": {
          "duration": 0.022809,
          "end_time": "2025-06-26T10:57:02.420227",
          "exception": false,
          "start_time": "2025-06-26T10:57:02.397418",
          "status": "completed"
        },
        "tags": []
      },
      "source": [
        "#### 71. Consider an array of dimension (5,5,3), how to multiply it by an array with dimensions (5,5) (\u2605\u2605\u2605)"
      ]
    },
    {
      "cell_type": "code",
      "execution_count": null,
      "id": "b97e83bf",
      "metadata": {
        "papermill": {
          "duration": 0.022771,
          "end_time": "2025-06-26T10:57:02.466004",
          "exception": false,
          "start_time": "2025-06-26T10:57:02.443233",
          "status": "completed"
        },
        "tags": []
      },
      "outputs": [],
      "source": []
    },
    {
      "cell_type": "markdown",
      "id": "391bc28f",
      "metadata": {
        "papermill": {
          "duration": 0.022831,
          "end_time": "2025-06-26T10:57:02.512005",
          "exception": false,
          "start_time": "2025-06-26T10:57:02.489174",
          "status": "completed"
        },
        "tags": []
      },
      "source": [
        "#### 72. How to swap two rows of an array (\u2605\u2605\u2605)"
      ]
    },
    {
      "cell_type": "code",
      "execution_count": null,
      "id": "5cd07e66",
      "metadata": {
        "papermill": {
          "duration": 0.023249,
          "end_time": "2025-06-26T10:57:02.558528",
          "exception": false,
          "start_time": "2025-06-26T10:57:02.535279",
          "status": "completed"
        },
        "tags": []
      },
      "outputs": [],
      "source": []
    },
    {
      "cell_type": "markdown",
      "id": "6b275404",
      "metadata": {
        "papermill": {
          "duration": 0.022967,
          "end_time": "2025-06-26T10:57:02.604734",
          "exception": false,
          "start_time": "2025-06-26T10:57:02.581767",
          "status": "completed"
        },
        "tags": []
      },
      "source": [
        "#### 73. Consider a set of 10 triplets describing 10 triangles (with shared vertices), find the set of unique line segments composing all the  triangles (\u2605\u2605\u2605)"
      ]
    },
    {
      "cell_type": "code",
      "execution_count": null,
      "id": "956c810e",
      "metadata": {
        "papermill": {
          "duration": 0.02271,
          "end_time": "2025-06-26T10:57:02.650598",
          "exception": false,
          "start_time": "2025-06-26T10:57:02.627888",
          "status": "completed"
        },
        "tags": []
      },
      "outputs": [],
      "source": []
    },
    {
      "cell_type": "markdown",
      "id": "43e5404e",
      "metadata": {
        "papermill": {
          "duration": 0.02385,
          "end_time": "2025-06-26T10:57:02.698353",
          "exception": false,
          "start_time": "2025-06-26T10:57:02.674503",
          "status": "completed"
        },
        "tags": []
      },
      "source": [
        "#### 74. Given a sorted array C that corresponds to a bincount, how to produce an array A such that np.bincount(A) == C (\u2605\u2605\u2605)"
      ]
    },
    {
      "cell_type": "code",
      "execution_count": null,
      "id": "8b2f35ef",
      "metadata": {
        "papermill": {
          "duration": 0.02372,
          "end_time": "2025-06-26T10:57:02.746433",
          "exception": false,
          "start_time": "2025-06-26T10:57:02.722713",
          "status": "completed"
        },
        "tags": []
      },
      "outputs": [],
      "source": []
    },
    {
      "cell_type": "markdown",
      "id": "d5b9cd58",
      "metadata": {
        "papermill": {
          "duration": 0.024411,
          "end_time": "2025-06-26T10:57:02.794783",
          "exception": false,
          "start_time": "2025-06-26T10:57:02.770372",
          "status": "completed"
        },
        "tags": []
      },
      "source": [
        "#### 75. How to compute averages using a sliding window over an array (\u2605\u2605\u2605)"
      ]
    },
    {
      "cell_type": "code",
      "execution_count": null,
      "id": "fcf8cb75",
      "metadata": {
        "papermill": {
          "duration": 0.022943,
          "end_time": "2025-06-26T10:57:02.841193",
          "exception": false,
          "start_time": "2025-06-26T10:57:02.818250",
          "status": "completed"
        },
        "tags": []
      },
      "outputs": [],
      "source": []
    },
    {
      "cell_type": "markdown",
      "id": "8611e8d3",
      "metadata": {
        "papermill": {
          "duration": 0.02291,
          "end_time": "2025-06-26T10:57:02.887385",
          "exception": false,
          "start_time": "2025-06-26T10:57:02.864475",
          "status": "completed"
        },
        "tags": []
      },
      "source": [
        "#### 76. Consider a one-dimensional array Z, build a two-dimensional array whose first row is (Z[0],Z[1],Z[2]) and each subsequent row is  shifted by 1 (last row should be (Z[-3],Z[-2],Z[-1]) (\u2605\u2605\u2605)"
      ]
    },
    {
      "cell_type": "code",
      "execution_count": null,
      "id": "c45aafd8",
      "metadata": {
        "papermill": {
          "duration": 0.022647,
          "end_time": "2025-06-26T10:57:02.933180",
          "exception": false,
          "start_time": "2025-06-26T10:57:02.910533",
          "status": "completed"
        },
        "tags": []
      },
      "outputs": [],
      "source": []
    },
    {
      "cell_type": "markdown",
      "id": "1e881b71",
      "metadata": {
        "papermill": {
          "duration": 0.022685,
          "end_time": "2025-06-26T10:57:02.978772",
          "exception": false,
          "start_time": "2025-06-26T10:57:02.956087",
          "status": "completed"
        },
        "tags": []
      },
      "source": [
        "#### 77. How to negate a boolean, or to change the sign of a float inplace (\u2605\u2605\u2605)"
      ]
    },
    {
      "cell_type": "code",
      "execution_count": null,
      "id": "3239c2ad",
      "metadata": {
        "papermill": {
          "duration": 0.022783,
          "end_time": "2025-06-26T10:57:03.026102",
          "exception": false,
          "start_time": "2025-06-26T10:57:03.003319",
          "status": "completed"
        },
        "tags": []
      },
      "outputs": [],
      "source": []
    },
    {
      "cell_type": "markdown",
      "id": "b8027f4c",
      "metadata": {
        "papermill": {
          "duration": 0.022919,
          "end_time": "2025-06-26T10:57:03.072273",
          "exception": false,
          "start_time": "2025-06-26T10:57:03.049354",
          "status": "completed"
        },
        "tags": []
      },
      "source": [
        "#### 78. Consider 2 sets of points P0,P1 describing lines (2d) and a point p, how to compute distance from p to each line i (P0[i],P1[i]) (\u2605\u2605\u2605)"
      ]
    },
    {
      "cell_type": "code",
      "execution_count": null,
      "id": "b5b0e37a",
      "metadata": {
        "papermill": {
          "duration": 0.023889,
          "end_time": "2025-06-26T10:57:03.119217",
          "exception": false,
          "start_time": "2025-06-26T10:57:03.095328",
          "status": "completed"
        },
        "tags": []
      },
      "outputs": [],
      "source": []
    },
    {
      "cell_type": "markdown",
      "id": "820a5d28",
      "metadata": {
        "papermill": {
          "duration": 0.022627,
          "end_time": "2025-06-26T10:57:03.164905",
          "exception": false,
          "start_time": "2025-06-26T10:57:03.142278",
          "status": "completed"
        },
        "tags": []
      },
      "source": [
        "#### 79. Consider 2 sets of points P0,P1 describing lines (2d) and a set of points P, how to compute distance from each point j (P[j]) to each line i (P0[i],P1[i]) (\u2605\u2605\u2605)"
      ]
    },
    {
      "cell_type": "code",
      "execution_count": null,
      "id": "eadcc8ff",
      "metadata": {
        "papermill": {
          "duration": 0.022544,
          "end_time": "2025-06-26T10:57:03.210404",
          "exception": false,
          "start_time": "2025-06-26T10:57:03.187860",
          "status": "completed"
        },
        "tags": []
      },
      "outputs": [],
      "source": []
    },
    {
      "cell_type": "markdown",
      "id": "d50b150d",
      "metadata": {
        "papermill": {
          "duration": 0.022631,
          "end_time": "2025-06-26T10:57:03.256215",
          "exception": false,
          "start_time": "2025-06-26T10:57:03.233584",
          "status": "completed"
        },
        "tags": []
      },
      "source": [
        "#### 80. Consider an arbitrary array, write a function that extracts a subpart with a fixed shape and centered on a given element (pad with a `fill` value when necessary) (\u2605\u2605\u2605)"
      ]
    },
    {
      "cell_type": "code",
      "execution_count": null,
      "id": "34a79c49",
      "metadata": {
        "papermill": {
          "duration": 0.024094,
          "end_time": "2025-06-26T10:57:03.305453",
          "exception": false,
          "start_time": "2025-06-26T10:57:03.281359",
          "status": "completed"
        },
        "tags": []
      },
      "outputs": [],
      "source": []
    },
    {
      "cell_type": "markdown",
      "id": "52759411",
      "metadata": {
        "papermill": {
          "duration": 0.024178,
          "end_time": "2025-06-26T10:57:03.354446",
          "exception": false,
          "start_time": "2025-06-26T10:57:03.330268",
          "status": "completed"
        },
        "tags": []
      },
      "source": [
        "#### 81. Consider an array Z = [1,2,3,4,5,6,7,8,9,10,11,12,13,14], how to generate an array R = [[1,2,3,4], [2,3,4,5], [3,4,5,6], ..., [11,12,13,14]] (\u2605\u2605\u2605)"
      ]
    },
    {
      "cell_type": "code",
      "execution_count": null,
      "id": "491d6e40",
      "metadata": {
        "papermill": {
          "duration": 0.022925,
          "end_time": "2025-06-26T10:57:03.401593",
          "exception": false,
          "start_time": "2025-06-26T10:57:03.378668",
          "status": "completed"
        },
        "tags": []
      },
      "outputs": [],
      "source": []
    },
    {
      "cell_type": "markdown",
      "id": "9c30845a",
      "metadata": {
        "papermill": {
          "duration": 0.022832,
          "end_time": "2025-06-26T10:57:03.447498",
          "exception": false,
          "start_time": "2025-06-26T10:57:03.424666",
          "status": "completed"
        },
        "tags": []
      },
      "source": [
        "#### 82. Compute a matrix rank (\u2605\u2605\u2605)"
      ]
    },
    {
      "cell_type": "code",
      "execution_count": null,
      "id": "d5edef71",
      "metadata": {
        "papermill": {
          "duration": 0.02257,
          "end_time": "2025-06-26T10:57:03.493035",
          "exception": false,
          "start_time": "2025-06-26T10:57:03.470465",
          "status": "completed"
        },
        "tags": []
      },
      "outputs": [],
      "source": []
    },
    {
      "cell_type": "markdown",
      "id": "60948986",
      "metadata": {
        "papermill": {
          "duration": 0.028629,
          "end_time": "2025-06-26T10:57:03.554683",
          "exception": false,
          "start_time": "2025-06-26T10:57:03.526054",
          "status": "completed"
        },
        "tags": []
      },
      "source": [
        "#### 83. How to find the most frequent value in an array"
      ]
    },
    {
      "cell_type": "code",
      "execution_count": null,
      "id": "86d7b2f1",
      "metadata": {
        "papermill": {
          "duration": 0.022816,
          "end_time": "2025-06-26T10:57:03.600696",
          "exception": false,
          "start_time": "2025-06-26T10:57:03.577880",
          "status": "completed"
        },
        "tags": []
      },
      "outputs": [],
      "source": []
    },
    {
      "cell_type": "markdown",
      "id": "3975fe23",
      "metadata": {
        "papermill": {
          "duration": 0.022848,
          "end_time": "2025-06-26T10:57:03.646744",
          "exception": false,
          "start_time": "2025-06-26T10:57:03.623896",
          "status": "completed"
        },
        "tags": []
      },
      "source": [
        "#### 84. Extract all the contiguous 3x3 blocks from a random 10x10 matrix (\u2605\u2605\u2605)"
      ]
    },
    {
      "cell_type": "code",
      "execution_count": null,
      "id": "6dc7f2dc",
      "metadata": {
        "papermill": {
          "duration": 0.022824,
          "end_time": "2025-06-26T10:57:03.692559",
          "exception": false,
          "start_time": "2025-06-26T10:57:03.669735",
          "status": "completed"
        },
        "tags": []
      },
      "outputs": [],
      "source": []
    },
    {
      "cell_type": "markdown",
      "id": "bc2e5adb",
      "metadata": {
        "papermill": {
          "duration": 0.022895,
          "end_time": "2025-06-26T10:57:03.738343",
          "exception": false,
          "start_time": "2025-06-26T10:57:03.715448",
          "status": "completed"
        },
        "tags": []
      },
      "source": [
        "#### 85. Create a 2D array subclass such that Z[i,j] == Z[j,i] (\u2605\u2605\u2605)"
      ]
    },
    {
      "cell_type": "code",
      "execution_count": null,
      "id": "44543a6e",
      "metadata": {
        "papermill": {
          "duration": 0.022991,
          "end_time": "2025-06-26T10:57:03.784344",
          "exception": false,
          "start_time": "2025-06-26T10:57:03.761353",
          "status": "completed"
        },
        "tags": []
      },
      "outputs": [],
      "source": []
    },
    {
      "cell_type": "markdown",
      "id": "514ce357",
      "metadata": {
        "papermill": {
          "duration": 0.022851,
          "end_time": "2025-06-26T10:57:03.830192",
          "exception": false,
          "start_time": "2025-06-26T10:57:03.807341",
          "status": "completed"
        },
        "tags": []
      },
      "source": [
        "#### 86. Consider a set of p matrices with shape (n,n) and a set of p vectors with shape (n,1). How to compute the sum of of the p matrix products at once (result has shape (n,1)) (\u2605\u2605\u2605)"
      ]
    },
    {
      "cell_type": "code",
      "execution_count": null,
      "id": "2f1a2ea3",
      "metadata": {
        "papermill": {
          "duration": 0.02282,
          "end_time": "2025-06-26T10:57:03.876433",
          "exception": false,
          "start_time": "2025-06-26T10:57:03.853613",
          "status": "completed"
        },
        "tags": []
      },
      "outputs": [],
      "source": []
    },
    {
      "cell_type": "markdown",
      "id": "f41bcbed",
      "metadata": {
        "papermill": {
          "duration": 0.022961,
          "end_time": "2025-06-26T10:57:03.922351",
          "exception": false,
          "start_time": "2025-06-26T10:57:03.899390",
          "status": "completed"
        },
        "tags": []
      },
      "source": [
        "#### 87. Consider a 16x16 array, how to get the block-sum (block size is 4x4) (\u2605\u2605\u2605)"
      ]
    },
    {
      "cell_type": "code",
      "execution_count": null,
      "id": "5f583c23",
      "metadata": {
        "papermill": {
          "duration": 0.022762,
          "end_time": "2025-06-26T10:57:03.968068",
          "exception": false,
          "start_time": "2025-06-26T10:57:03.945306",
          "status": "completed"
        },
        "tags": []
      },
      "outputs": [],
      "source": []
    },
    {
      "cell_type": "markdown",
      "id": "b9c0cbb0",
      "metadata": {
        "papermill": {
          "duration": 0.022948,
          "end_time": "2025-06-26T10:57:04.014169",
          "exception": false,
          "start_time": "2025-06-26T10:57:03.991221",
          "status": "completed"
        },
        "tags": []
      },
      "source": [
        "#### 88. How to implement the Game of Life using numpy arrays (\u2605\u2605\u2605)"
      ]
    },
    {
      "cell_type": "code",
      "execution_count": null,
      "id": "f84c2fb9",
      "metadata": {
        "papermill": {
          "duration": 0.022941,
          "end_time": "2025-06-26T10:57:04.060185",
          "exception": false,
          "start_time": "2025-06-26T10:57:04.037244",
          "status": "completed"
        },
        "tags": []
      },
      "outputs": [],
      "source": []
    },
    {
      "cell_type": "markdown",
      "id": "bc54e6d7",
      "metadata": {
        "papermill": {
          "duration": 0.023004,
          "end_time": "2025-06-26T10:57:04.106351",
          "exception": false,
          "start_time": "2025-06-26T10:57:04.083347",
          "status": "completed"
        },
        "tags": []
      },
      "source": [
        "#### 89. How to get the n largest values of an array (\u2605\u2605\u2605)"
      ]
    },
    {
      "cell_type": "code",
      "execution_count": null,
      "id": "f1046c87",
      "metadata": {
        "papermill": {
          "duration": 0.022992,
          "end_time": "2025-06-26T10:57:04.153370",
          "exception": false,
          "start_time": "2025-06-26T10:57:04.130378",
          "status": "completed"
        },
        "tags": []
      },
      "outputs": [],
      "source": []
    },
    {
      "cell_type": "markdown",
      "id": "57798fed",
      "metadata": {
        "papermill": {
          "duration": 0.022938,
          "end_time": "2025-06-26T10:57:04.199521",
          "exception": false,
          "start_time": "2025-06-26T10:57:04.176583",
          "status": "completed"
        },
        "tags": []
      },
      "source": [
        "#### 90. Given an arbitrary number of vectors, build the cartesian product (every combination of every item) (\u2605\u2605\u2605)"
      ]
    },
    {
      "cell_type": "code",
      "execution_count": null,
      "id": "c5d3c527",
      "metadata": {
        "papermill": {
          "duration": 0.023126,
          "end_time": "2025-06-26T10:57:04.250547",
          "exception": false,
          "start_time": "2025-06-26T10:57:04.227421",
          "status": "completed"
        },
        "tags": []
      },
      "outputs": [],
      "source": []
    },
    {
      "cell_type": "markdown",
      "id": "b042de8f",
      "metadata": {
        "papermill": {
          "duration": 0.023291,
          "end_time": "2025-06-26T10:57:04.298532",
          "exception": false,
          "start_time": "2025-06-26T10:57:04.275241",
          "status": "completed"
        },
        "tags": []
      },
      "source": [
        "#### 91. How to create a record array from a regular array (\u2605\u2605\u2605)"
      ]
    },
    {
      "cell_type": "code",
      "execution_count": null,
      "id": "f786a63b",
      "metadata": {
        "papermill": {
          "duration": 0.029732,
          "end_time": "2025-06-26T10:57:04.351513",
          "exception": false,
          "start_time": "2025-06-26T10:57:04.321781",
          "status": "completed"
        },
        "tags": []
      },
      "outputs": [],
      "source": []
    },
    {
      "cell_type": "markdown",
      "id": "3330db4e",
      "metadata": {
        "papermill": {
          "duration": 0.029755,
          "end_time": "2025-06-26T10:57:04.413429",
          "exception": false,
          "start_time": "2025-06-26T10:57:04.383674",
          "status": "completed"
        },
        "tags": []
      },
      "source": [
        "#### 92. Consider a large vector Z, compute Z to the power of 3 using 3 different methods (\u2605\u2605\u2605)"
      ]
    },
    {
      "cell_type": "code",
      "execution_count": null,
      "id": "4774a14f",
      "metadata": {
        "papermill": {
          "duration": 0.02315,
          "end_time": "2025-06-26T10:57:04.460297",
          "exception": false,
          "start_time": "2025-06-26T10:57:04.437147",
          "status": "completed"
        },
        "tags": []
      },
      "outputs": [],
      "source": []
    },
    {
      "cell_type": "markdown",
      "id": "55d58d8e",
      "metadata": {
        "papermill": {
          "duration": 0.022975,
          "end_time": "2025-06-26T10:57:04.506331",
          "exception": false,
          "start_time": "2025-06-26T10:57:04.483356",
          "status": "completed"
        },
        "tags": []
      },
      "source": [
        "#### 93. Consider two arrays A and B of shape (8,3) and (2,2). How to find rows of A that contain elements of each row of B regardless of the order of the elements in B (\u2605\u2605\u2605)"
      ]
    },
    {
      "cell_type": "code",
      "execution_count": null,
      "id": "8429a6ce",
      "metadata": {
        "papermill": {
          "duration": 0.0233,
          "end_time": "2025-06-26T10:57:04.554213",
          "exception": false,
          "start_time": "2025-06-26T10:57:04.530913",
          "status": "completed"
        },
        "tags": []
      },
      "outputs": [],
      "source": []
    },
    {
      "cell_type": "markdown",
      "id": "fa958a68",
      "metadata": {
        "papermill": {
          "duration": 0.022849,
          "end_time": "2025-06-26T10:57:04.600236",
          "exception": false,
          "start_time": "2025-06-26T10:57:04.577387",
          "status": "completed"
        },
        "tags": []
      },
      "source": [
        "#### 94. Considering a 10x3 matrix, extract rows with unequal values (e.g. [2,2,3]) (\u2605\u2605\u2605)"
      ]
    },
    {
      "cell_type": "code",
      "execution_count": null,
      "id": "0d6dbffe",
      "metadata": {
        "papermill": {
          "duration": 0.022955,
          "end_time": "2025-06-26T10:57:04.646213",
          "exception": false,
          "start_time": "2025-06-26T10:57:04.623258",
          "status": "completed"
        },
        "tags": []
      },
      "outputs": [],
      "source": []
    },
    {
      "cell_type": "markdown",
      "id": "d4ad3d14",
      "metadata": {
        "papermill": {
          "duration": 0.022844,
          "end_time": "2025-06-26T10:57:04.692811",
          "exception": false,
          "start_time": "2025-06-26T10:57:04.669967",
          "status": "completed"
        },
        "tags": []
      },
      "source": [
        "#### 95. Convert a vector of ints into a matrix binary representation (\u2605\u2605\u2605)"
      ]
    },
    {
      "cell_type": "code",
      "execution_count": null,
      "id": "83477981",
      "metadata": {
        "papermill": {
          "duration": 0.022877,
          "end_time": "2025-06-26T10:57:04.738821",
          "exception": false,
          "start_time": "2025-06-26T10:57:04.715944",
          "status": "completed"
        },
        "tags": []
      },
      "outputs": [],
      "source": []
    },
    {
      "cell_type": "markdown",
      "id": "2c28836c",
      "metadata": {
        "papermill": {
          "duration": 0.022993,
          "end_time": "2025-06-26T10:57:04.785240",
          "exception": false,
          "start_time": "2025-06-26T10:57:04.762247",
          "status": "completed"
        },
        "tags": []
      },
      "source": [
        "#### 96. Given a two dimensional array, how to extract unique rows (\u2605\u2605\u2605)"
      ]
    },
    {
      "cell_type": "code",
      "execution_count": null,
      "id": "f65d7d89",
      "metadata": {
        "papermill": {
          "duration": 0.024181,
          "end_time": "2025-06-26T10:57:04.832624",
          "exception": false,
          "start_time": "2025-06-26T10:57:04.808443",
          "status": "completed"
        },
        "tags": []
      },
      "outputs": [],
      "source": []
    },
    {
      "cell_type": "markdown",
      "id": "3bc84cf9",
      "metadata": {
        "papermill": {
          "duration": 0.024088,
          "end_time": "2025-06-26T10:57:04.881578",
          "exception": false,
          "start_time": "2025-06-26T10:57:04.857490",
          "status": "completed"
        },
        "tags": []
      },
      "source": [
        "#### 97. Considering 2 vectors A & B, write the einsum equivalent of inner, outer, sum, and mul function (\u2605\u2605\u2605)"
      ]
    },
    {
      "cell_type": "code",
      "execution_count": null,
      "id": "1caa34f0",
      "metadata": {
        "papermill": {
          "duration": 0.024814,
          "end_time": "2025-06-26T10:57:04.930575",
          "exception": false,
          "start_time": "2025-06-26T10:57:04.905761",
          "status": "completed"
        },
        "tags": []
      },
      "outputs": [],
      "source": []
    },
    {
      "cell_type": "markdown",
      "id": "56218efd",
      "metadata": {
        "papermill": {
          "duration": 0.022932,
          "end_time": "2025-06-26T10:57:04.977032",
          "exception": false,
          "start_time": "2025-06-26T10:57:04.954100",
          "status": "completed"
        },
        "tags": []
      },
      "source": [
        "#### 98. Considering a path described by two vectors (X,Y), how to sample it using equidistant samples (\u2605\u2605\u2605)"
      ]
    },
    {
      "cell_type": "code",
      "execution_count": null,
      "id": "8ae2054d",
      "metadata": {
        "papermill": {
          "duration": 0.023079,
          "end_time": "2025-06-26T10:57:05.023331",
          "exception": false,
          "start_time": "2025-06-26T10:57:05.000252",
          "status": "completed"
        },
        "tags": []
      },
      "outputs": [],
      "source": []
    },
    {
      "cell_type": "markdown",
      "id": "9532216f",
      "metadata": {
        "papermill": {
          "duration": 0.022977,
          "end_time": "2025-06-26T10:57:05.072490",
          "exception": false,
          "start_time": "2025-06-26T10:57:05.049513",
          "status": "completed"
        },
        "tags": []
      },
      "source": [
        "#### 99. Given an integer n and a 2D array X, select from X the rows which can be interpreted as draws from a multinomial distribution with n degrees, i.e., the rows which only contain integers and which sum to n. (\u2605\u2605\u2605)"
      ]
    },
    {
      "cell_type": "code",
      "execution_count": null,
      "id": "6093be6a",
      "metadata": {
        "papermill": {
          "duration": 0.022942,
          "end_time": "2025-06-26T10:57:05.118465",
          "exception": false,
          "start_time": "2025-06-26T10:57:05.095523",
          "status": "completed"
        },
        "tags": []
      },
      "outputs": [],
      "source": []
    },
    {
      "cell_type": "markdown",
      "id": "6115e5ae",
      "metadata": {
        "papermill": {
          "duration": 0.023405,
          "end_time": "2025-06-26T10:57:05.165969",
          "exception": false,
          "start_time": "2025-06-26T10:57:05.142564",
          "status": "completed"
        },
        "tags": []
      },
      "source": [
        "#### 100. Compute bootstrapped 95% confidence intervals for the mean of a 1D array X (i.e., resample the elements of an array with replacement N times, compute the mean of each sample, and then compute percentiles over the means). (\u2605\u2605\u2605)"
      ]
    },
    {
      "cell_type": "code",
      "execution_count": null,
      "id": "be0dff84",
      "metadata": {
        "papermill": {
          "duration": 0.023531,
          "end_time": "2025-06-26T10:57:05.213491",
          "exception": false,
          "start_time": "2025-06-26T10:57:05.189960",
          "status": "completed"
        },
        "tags": []
      },
      "outputs": [],
      "source": []
    }
  ],
  "metadata": {
    "kaggle": {
      "accelerator": "none",
      "dataSources": [],
      "dockerImageVersionId": 31040,
      "isGpuEnabled": false,
      "isInternetEnabled": false,
      "language": "python",
      "sourceType": "notebook"
    },
    "kernelspec": {
      "display_name": "Python 3",
      "language": "python",
      "name": "python3"
    },
    "language_info": {
      "codemirror_mode": {
        "name": "ipython",
        "version": 3
      },
      "file_extension": ".py",
      "mimetype": "text/x-python",
      "name": "python",
      "nbconvert_exporter": "python",
      "pygments_lexer": "ipython3",
      "version": "3.11.11"
    },
    "papermill": {
      "default_parameters": {},
      "duration": 14.702581,
      "end_time": "2025-06-26T10:57:05.656403",
      "environment_variables": {},
      "exception": null,
      "input_path": "__notebook__.ipynb",
      "output_path": "__notebook__.ipynb",
      "parameters": {},
      "start_time": "2025-06-26T10:56:50.953822",
      "version": "2.6.0"
    }
  },
  "nbformat": 4,
  "nbformat_minor": 5
}
