{
 "cells": [
  {
   "cell_type": "markdown",
   "id": "dc22e81f",
   "metadata": {
    "papermill": {
     "duration": 0.0197,
     "end_time": "2025-06-26T11:24:38.744771",
     "exception": false,
     "start_time": "2025-06-26T11:24:38.725071",
     "status": "completed"
    },
    "tags": []
   },
   "source": [
    "<a href=\"https://www.kaggle.com/code/gvatsal60/100-numpy-exercises\" target=\"_blank\"><img align=\"left\" alt=\"Kaggle\" title=\"Open in Kaggle\" src=\"https://kaggle.com/static/images/open-in-kaggle.svg\"></a>"
   ]
  },
  {
   "cell_type": "markdown",
   "id": "cea7621e",
   "metadata": {
    "papermill": {
     "duration": 0.016304,
     "end_time": "2025-06-26T11:24:38.777754",
     "exception": false,
     "start_time": "2025-06-26T11:24:38.761450",
     "status": "completed"
    },
    "tags": []
   },
   "source": [
    "# 🎯 100 NumPy Exercises\n",
    "\n",
    "Welcome to **100 NumPy Exercises** — a curated collection of problems designed to sharpen your skills in NumPy, whether you're a beginner or a seasoned data wrangler.\n",
    "\n",
    "---\n",
    "\n",
    "📌 **About This Collection**\n",
    "\n",
    "This set of exercises has been gathered from:\n",
    "- The **NumPy mailing list**\n",
    "- **Stack Overflow** discussions\n",
    "- The **official NumPy documentation**\n",
    "\n",
    "The primary goal is to serve as:\n",
    "- 📚 A quick reference for both new and experienced users  \n",
    "- 🎓 A practical toolkit for educators and learners\n",
    "\n",
    "---\n",
    "\n",
    "💬 **Suggestions or Corrections?**\n",
    "\n",
    "If you find an error or have a better solution, feel free to contribute!  \n",
    "➡️ Open an issue here: [100-Numpy-Exercise](https://github.com/gvatsal60/ds-on-kaggle/issues)\n",
    "\n",
    "---\n",
    "\n",
    "📄 **Credits and Licensing**\n",
    "\n",
    "Includes code and ideas derived from work by [Nicolas P. Rougier](https://github.com/rougier), \n",
    "used in accordance with the terms of the original [license](https://github.com/rougier/numpy-100/blob/master/LICENSE.txt).\n",
    "\n",
    "---\n",
    "\n",
    "🧠 **Ready to dive in?**  \n",
    "Let’s explore the power of NumPy — one exercise at a time!\n"
   ]
  },
  {
   "cell_type": "markdown",
   "id": "e68f4e85",
   "metadata": {
    "papermill": {
     "duration": 0.016382,
     "end_time": "2025-06-26T11:24:38.810486",
     "exception": false,
     "start_time": "2025-06-26T11:24:38.794104",
     "status": "completed"
    },
    "tags": []
   },
   "source": []
  },
  {
   "cell_type": "markdown",
   "id": "5aa2e763",
   "metadata": {
    "papermill": {
     "duration": 0.016088,
     "end_time": "2025-06-26T11:24:38.842855",
     "exception": false,
     "start_time": "2025-06-26T11:24:38.826767",
     "status": "completed"
    },
    "tags": []
   },
   "source": []
  },
  {
   "cell_type": "markdown",
   "id": "5fbe27eb",
   "metadata": {
    "papermill": {
     "duration": 0.016572,
     "end_time": "2025-06-26T11:24:38.921087",
     "exception": false,
     "start_time": "2025-06-26T11:24:38.904515",
     "status": "completed"
    },
    "tags": []
   },
   "source": [
    "#### 1. Import the numpy package under the name `np` (★☆☆)"
   ]
  },
  {
   "cell_type": "code",
   "execution_count": 1,
   "id": "36d2e698",
   "metadata": {
    "execution": {
     "iopub.execute_input": "2025-06-26T11:24:38.955167Z",
     "iopub.status.busy": "2025-06-26T11:24:38.954900Z",
     "iopub.status.idle": "2025-06-26T11:24:38.960956Z",
     "shell.execute_reply": "2025-06-26T11:24:38.960467Z"
    },
    "papermill": {
     "duration": 0.024686,
     "end_time": "2025-06-26T11:24:38.962050",
     "exception": false,
     "start_time": "2025-06-26T11:24:38.937364",
     "status": "completed"
    },
    "tags": []
   },
   "outputs": [],
   "source": [
    "import numpy as np"
   ]
  },
  {
   "cell_type": "markdown",
   "id": "21a7c576",
   "metadata": {
    "papermill": {
     "duration": 0.025047,
     "end_time": "2025-06-26T11:24:39.004024",
     "exception": false,
     "start_time": "2025-06-26T11:24:38.978977",
     "status": "completed"
    },
    "tags": []
   },
   "source": [
    "#### 2. Print the numpy version and the configuration (★☆☆)"
   ]
  },
  {
   "cell_type": "code",
   "execution_count": 2,
   "id": "beacf814",
   "metadata": {
    "execution": {
     "iopub.execute_input": "2025-06-26T11:24:39.042825Z",
     "iopub.status.busy": "2025-06-26T11:24:39.042574Z",
     "iopub.status.idle": "2025-06-26T11:24:39.047302Z",
     "shell.execute_reply": "2025-06-26T11:24:39.046445Z"
    },
    "papermill": {
     "duration": 0.025049,
     "end_time": "2025-06-26T11:24:39.048549",
     "exception": false,
     "start_time": "2025-06-26T11:24:39.023500",
     "status": "completed"
    },
    "tags": []
   },
   "outputs": [
    {
     "name": "stdout",
     "output_type": "stream",
     "text": [
      "★ NumPy Version: 1.26.4\n",
      "☆ NumPy Configuration:\n",
      "blas_armpl_info:\n",
      "  NOT AVAILABLE\n",
      "blas_mkl_info:\n",
      "    libraries = ['mkl_rt', 'pthread']\n",
      "    library_dirs = ['/home/sat_bot/base/conda-bld/numpy_and_dev_1715296241721/_h_env_placehold_placehold_placehold_placehold_placehold_placehold_placehold_placehold_placehold_placehold_placehold_placehold_placehold_placehold_placehold_placehold_placehold_placehold_placehold_p/lib']\n",
      "    define_macros = [('SCIPY_MKL_H', None), ('HAVE_CBLAS', None)]\n",
      "    include_dirs = ['/home/sat_bot/base/conda-bld/numpy_and_dev_1715296241721/_h_env_placehold_placehold_placehold_placehold_placehold_placehold_placehold_placehold_placehold_placehold_placehold_placehold_placehold_placehold_placehold_placehold_placehold_placehold_placehold_p/include']\n",
      "blas_opt_info:\n",
      "    libraries = ['mkl_rt', 'pthread']\n",
      "    library_dirs = ['/home/sat_bot/base/conda-bld/numpy_and_dev_1715296241721/_h_env_placehold_placehold_placehold_placehold_placehold_placehold_placehold_placehold_placehold_placehold_placehold_placehold_placehold_placehold_placehold_placehold_placehold_placehold_placehold_p/lib']\n",
      "    define_macros = [('SCIPY_MKL_H', None), ('HAVE_CBLAS', None)]\n",
      "    include_dirs = ['/home/sat_bot/base/conda-bld/numpy_and_dev_1715296241721/_h_env_placehold_placehold_placehold_placehold_placehold_placehold_placehold_placehold_placehold_placehold_placehold_placehold_placehold_placehold_placehold_placehold_placehold_placehold_placehold_p/include']\n",
      "lapack_armpl_info:\n",
      "  NOT AVAILABLE\n",
      "lapack_mkl_info:\n",
      "    libraries = ['mkl_rt', 'pthread']\n",
      "    library_dirs = ['/home/sat_bot/base/conda-bld/numpy_and_dev_1715296241721/_h_env_placehold_placehold_placehold_placehold_placehold_placehold_placehold_placehold_placehold_placehold_placehold_placehold_placehold_placehold_placehold_placehold_placehold_placehold_placehold_p/lib']\n",
      "    define_macros = [('SCIPY_MKL_H', None), ('HAVE_CBLAS', None)]\n",
      "    include_dirs = ['/home/sat_bot/base/conda-bld/numpy_and_dev_1715296241721/_h_env_placehold_placehold_placehold_placehold_placehold_placehold_placehold_placehold_placehold_placehold_placehold_placehold_placehold_placehold_placehold_placehold_placehold_placehold_placehold_p/include']\n",
      "lapack_opt_info:\n",
      "    libraries = ['mkl_rt', 'pthread']\n",
      "    library_dirs = ['/home/sat_bot/base/conda-bld/numpy_and_dev_1715296241721/_h_env_placehold_placehold_placehold_placehold_placehold_placehold_placehold_placehold_placehold_placehold_placehold_placehold_placehold_placehold_placehold_placehold_placehold_placehold_placehold_p/lib']\n",
      "    define_macros = [('SCIPY_MKL_H', None), ('HAVE_CBLAS', None)]\n",
      "    include_dirs = ['/home/sat_bot/base/conda-bld/numpy_and_dev_1715296241721/_h_env_placehold_placehold_placehold_placehold_placehold_placehold_placehold_placehold_placehold_placehold_placehold_placehold_placehold_placehold_placehold_placehold_placehold_placehold_placehold_p/include']\n",
      "Supported SIMD extensions in this NumPy install:\n",
      "    baseline = SSE,SSE2,SSE3\n",
      "    found = SSSE3,SSE41,POPCNT,SSE42,AVX,F16C,FMA3,AVX2,AVX512F,AVX512CD,AVX512_SKX\n",
      "    not found = AVX512_KNL,AVX512_KNM,AVX512_CLX,AVX512_CNL,AVX512_ICL,AVX512_SPR\n"
     ]
    }
   ],
   "source": [
    "print(\"★ NumPy Version:\", np.__version__)\n",
    "print(\"☆ NumPy Configuration:\")\n",
    "np.show_config()"
   ]
  },
  {
   "cell_type": "markdown",
   "id": "144748e9",
   "metadata": {
    "papermill": {
     "duration": 0.016294,
     "end_time": "2025-06-26T11:24:39.081505",
     "exception": false,
     "start_time": "2025-06-26T11:24:39.065211",
     "status": "completed"
    },
    "tags": []
   },
   "source": [
    "#### 3. Create a null vector of size 10 (★☆☆)"
   ]
  },
  {
   "cell_type": "code",
   "execution_count": 3,
   "id": "c9919a5c",
   "metadata": {
    "execution": {
     "iopub.execute_input": "2025-06-26T11:24:39.115353Z",
     "iopub.status.busy": "2025-06-26T11:24:39.115125Z",
     "iopub.status.idle": "2025-06-26T11:24:39.120424Z",
     "shell.execute_reply": "2025-06-26T11:24:39.119867Z"
    },
    "papermill": {
     "duration": 0.023521,
     "end_time": "2025-06-26T11:24:39.121472",
     "exception": false,
     "start_time": "2025-06-26T11:24:39.097951",
     "status": "completed"
    },
    "tags": []
   },
   "outputs": [
    {
     "data": {
      "text/plain": [
       "array([4.92749458e-315, 0.00000000e+000, 6.01347002e-154, 2.78206663e-309,\n",
       "       5.44506734e+040, 2.42092166e-322, 4.94624098e-315, 6.88307085e-310,\n",
       "       2.76071652e-311, 4.66839074e-313])"
      ]
     },
     "execution_count": 3,
     "metadata": {},
     "output_type": "execute_result"
    }
   ],
   "source": [
    "nullVec = np.empty(10)\n",
    "\n",
    "nullVec"
   ]
  },
  {
   "cell_type": "markdown",
   "id": "43654ff3",
   "metadata": {
    "papermill": {
     "duration": 0.01655,
     "end_time": "2025-06-26T11:24:39.154662",
     "exception": false,
     "start_time": "2025-06-26T11:24:39.138112",
     "status": "completed"
    },
    "tags": []
   },
   "source": [
    "#### 4. How to find the memory size of any array (★☆☆)"
   ]
  },
  {
   "cell_type": "code",
   "execution_count": 4,
   "id": "07b8354f",
   "metadata": {
    "execution": {
     "iopub.execute_input": "2025-06-26T11:24:39.188744Z",
     "iopub.status.busy": "2025-06-26T11:24:39.188520Z",
     "iopub.status.idle": "2025-06-26T11:24:39.192179Z",
     "shell.execute_reply": "2025-06-26T11:24:39.191433Z"
    },
    "papermill": {
     "duration": 0.0219,
     "end_time": "2025-06-26T11:24:39.193193",
     "exception": false,
     "start_time": "2025-06-26T11:24:39.171293",
     "status": "completed"
    },
    "tags": []
   },
   "outputs": [
    {
     "name": "stdout",
     "output_type": "stream",
     "text": [
      "Null Vector Size: 10\n",
      "Null Vector ItemSize: 8\n"
     ]
    }
   ],
   "source": [
    "print(\"Null Vector Size:\", nullVec.size)\n",
    "print(\"Null Vector ItemSize:\", nullVec.itemsize)"
   ]
  },
  {
   "cell_type": "markdown",
   "id": "c4451e01",
   "metadata": {
    "papermill": {
     "duration": 0.016487,
     "end_time": "2025-06-26T11:24:39.226297",
     "exception": false,
     "start_time": "2025-06-26T11:24:39.209810",
     "status": "completed"
    },
    "tags": []
   },
   "source": [
    "#### 5. How to get the documentation of the numpy add function from the command line (★☆☆)"
   ]
  },
  {
   "cell_type": "code",
   "execution_count": 5,
   "id": "86524070",
   "metadata": {
    "execution": {
     "iopub.execute_input": "2025-06-26T11:24:39.260735Z",
     "iopub.status.busy": "2025-06-26T11:24:39.260168Z",
     "iopub.status.idle": "2025-06-26T11:24:39.264320Z",
     "shell.execute_reply": "2025-06-26T11:24:39.263419Z"
    },
    "papermill": {
     "duration": 0.022519,
     "end_time": "2025-06-26T11:24:39.265469",
     "exception": false,
     "start_time": "2025-06-26T11:24:39.242950",
     "status": "completed"
    },
    "tags": []
   },
   "outputs": [
    {
     "name": "stdout",
     "output_type": "stream",
     "text": [
      "add(x1, x2, /, out=None, *, where=True, casting='same_kind', order='K', dtype=None, subok=True[, signature, extobj])\n",
      "\n",
      "Add arguments element-wise.\n",
      "\n",
      "Parameters\n",
      "----------\n",
      "x1, x2 : array_like\n",
      "    The arrays to be added.\n",
      "    If ``x1.shape != x2.shape``, they must be broadcastable to a common\n",
      "    shape (which becomes the shape of the output).\n",
      "out : ndarray, None, or tuple of ndarray and None, optional\n",
      "    A location into which the result is stored. If provided, it must have\n",
      "    a shape that the inputs broadcast to. If not provided or None,\n",
      "    a freshly-allocated array is returned. A tuple (possible only as a\n",
      "    keyword argument) must have length equal to the number of outputs.\n",
      "where : array_like, optional\n",
      "    This condition is broadcast over the input. At locations where the\n",
      "    condition is True, the `out` array will be set to the ufunc result.\n",
      "    Elsewhere, the `out` array will retain its original value.\n",
      "    Note that if an uninitialized `out` array is created via the default\n",
      "    ``out=None``, locations within it where the condition is False will\n",
      "    remain uninitialized.\n",
      "**kwargs\n",
      "    For other keyword-only arguments, see the\n",
      "    :ref:`ufunc docs <ufuncs.kwargs>`.\n",
      "\n",
      "Returns\n",
      "-------\n",
      "add : ndarray or scalar\n",
      "    The sum of `x1` and `x2`, element-wise.\n",
      "    This is a scalar if both `x1` and `x2` are scalars.\n",
      "\n",
      "Notes\n",
      "-----\n",
      "Equivalent to `x1` + `x2` in terms of array broadcasting.\n",
      "\n",
      "Examples\n",
      "--------\n",
      ">>> np.add(1.0, 4.0)\n",
      "5.0\n",
      ">>> x1 = np.arange(9.0).reshape((3, 3))\n",
      ">>> x2 = np.arange(3.0)\n",
      ">>> np.add(x1, x2)\n",
      "array([[  0.,   2.,   4.],\n",
      "       [  3.,   5.,   7.],\n",
      "       [  6.,   8.,  10.]])\n",
      "\n",
      "The ``+`` operator can be used as a shorthand for ``np.add`` on ndarrays.\n",
      "\n",
      ">>> x1 = np.arange(9.0).reshape((3, 3))\n",
      ">>> x2 = np.arange(3.0)\n",
      ">>> x1 + x2\n",
      "array([[ 0.,  2.,  4.],\n",
      "       [ 3.,  5.,  7.],\n",
      "       [ 6.,  8., 10.]])\n"
     ]
    }
   ],
   "source": [
    "# np.add?\n",
    "# print(np.info('add'))\n",
    "print(np.add.__doc__)"
   ]
  },
  {
   "cell_type": "markdown",
   "id": "fa332d66",
   "metadata": {
    "papermill": {
     "duration": 0.016817,
     "end_time": "2025-06-26T11:24:39.298964",
     "exception": false,
     "start_time": "2025-06-26T11:24:39.282147",
     "status": "completed"
    },
    "tags": []
   },
   "source": [
    "#### 6. Create a null vector of size 10 but the fifth value which is 1 (★☆☆)"
   ]
  },
  {
   "cell_type": "code",
   "execution_count": 6,
   "id": "2778258a",
   "metadata": {
    "execution": {
     "iopub.execute_input": "2025-06-26T11:24:39.333220Z",
     "iopub.status.busy": "2025-06-26T11:24:39.333013Z",
     "iopub.status.idle": "2025-06-26T11:24:39.338072Z",
     "shell.execute_reply": "2025-06-26T11:24:39.337578Z"
    },
    "papermill": {
     "duration": 0.02343,
     "end_time": "2025-06-26T11:24:39.339106",
     "exception": false,
     "start_time": "2025-06-26T11:24:39.315676",
     "status": "completed"
    },
    "tags": []
   },
   "outputs": [
    {
     "data": {
      "text/plain": [
       "array([4.92749458e-315, 0.00000000e+000, 6.01347002e-154, 2.78206663e-309,\n",
       "       1.00000000e+000, 2.42092166e-322, 4.94624098e-315, 6.88307085e-310,\n",
       "       2.76071652e-311, 4.66839074e-313])"
      ]
     },
     "execution_count": 6,
     "metadata": {},
     "output_type": "execute_result"
    }
   ],
   "source": [
    "nullVec = np.empty(10)\n",
    "nullVec[4] = 1\n",
    "\n",
    "nullVec"
   ]
  },
  {
   "cell_type": "markdown",
   "id": "2bf6faab",
   "metadata": {
    "papermill": {
     "duration": 0.016676,
     "end_time": "2025-06-26T11:24:39.372852",
     "exception": false,
     "start_time": "2025-06-26T11:24:39.356176",
     "status": "completed"
    },
    "tags": []
   },
   "source": [
    "#### 7. Create a vector with values ranging from 10 to 49 (★☆☆)"
   ]
  },
  {
   "cell_type": "code",
   "execution_count": 7,
   "id": "1f7c2f2d",
   "metadata": {
    "execution": {
     "iopub.execute_input": "2025-06-26T11:24:39.407282Z",
     "iopub.status.busy": "2025-06-26T11:24:39.407034Z",
     "iopub.status.idle": "2025-06-26T11:24:39.412672Z",
     "shell.execute_reply": "2025-06-26T11:24:39.412127Z"
    },
    "papermill": {
     "duration": 0.024034,
     "end_time": "2025-06-26T11:24:39.413670",
     "exception": false,
     "start_time": "2025-06-26T11:24:39.389636",
     "status": "completed"
    },
    "tags": []
   },
   "outputs": [
    {
     "data": {
      "text/plain": [
       "array([10, 11, 12, 13, 14, 15, 16, 17, 18, 19, 20, 21, 22, 23, 24, 25, 26,\n",
       "       27, 28, 29, 30, 31, 32, 33, 34, 35, 36, 37, 38, 39, 40, 41, 42, 43,\n",
       "       44, 45, 46, 47, 48, 49])"
      ]
     },
     "execution_count": 7,
     "metadata": {},
     "output_type": "execute_result"
    }
   ],
   "source": [
    "rangeVec = np.arange(10, 50)\n",
    "\n",
    "rangeVec"
   ]
  },
  {
   "cell_type": "markdown",
   "id": "cb54baf8",
   "metadata": {
    "papermill": {
     "duration": 0.016885,
     "end_time": "2025-06-26T11:24:39.447375",
     "exception": false,
     "start_time": "2025-06-26T11:24:39.430490",
     "status": "completed"
    },
    "tags": []
   },
   "source": [
    "#### 8. Reverse a vector (first element becomes last) (★☆☆)"
   ]
  },
  {
   "cell_type": "code",
   "execution_count": 8,
   "id": "e0e4e438",
   "metadata": {
    "execution": {
     "iopub.execute_input": "2025-06-26T11:24:39.482138Z",
     "iopub.status.busy": "2025-06-26T11:24:39.481904Z",
     "iopub.status.idle": "2025-06-26T11:24:39.486506Z",
     "shell.execute_reply": "2025-06-26T11:24:39.485965Z"
    },
    "papermill": {
     "duration": 0.023384,
     "end_time": "2025-06-26T11:24:39.487632",
     "exception": false,
     "start_time": "2025-06-26T11:24:39.464248",
     "status": "completed"
    },
    "tags": []
   },
   "outputs": [
    {
     "data": {
      "text/plain": [
       "array([49, 48, 47, 46, 45, 44, 43, 42, 41, 40, 39, 38, 37, 36, 35, 34, 33,\n",
       "       32, 31, 30, 29, 28, 27, 26, 25, 24, 23, 22, 21, 20, 19, 18, 17, 16,\n",
       "       15, 14, 13, 12, 11, 10])"
      ]
     },
     "execution_count": 8,
     "metadata": {},
     "output_type": "execute_result"
    }
   ],
   "source": [
    "rangeVec[::-1]"
   ]
  },
  {
   "cell_type": "markdown",
   "id": "ad66db40",
   "metadata": {
    "papermill": {
     "duration": 0.016865,
     "end_time": "2025-06-26T11:24:39.521472",
     "exception": false,
     "start_time": "2025-06-26T11:24:39.504607",
     "status": "completed"
    },
    "tags": []
   },
   "source": [
    "#### 9. Create a 3x3 matrix with values ranging from 0 to 8 (★☆☆)"
   ]
  },
  {
   "cell_type": "code",
   "execution_count": 9,
   "id": "ddb3da57",
   "metadata": {
    "execution": {
     "iopub.execute_input": "2025-06-26T11:24:39.556642Z",
     "iopub.status.busy": "2025-06-26T11:24:39.555936Z",
     "iopub.status.idle": "2025-06-26T11:24:39.560818Z",
     "shell.execute_reply": "2025-06-26T11:24:39.560287Z"
    },
    "papermill": {
     "duration": 0.02342,
     "end_time": "2025-06-26T11:24:39.561847",
     "exception": false,
     "start_time": "2025-06-26T11:24:39.538427",
     "status": "completed"
    },
    "tags": []
   },
   "outputs": [
    {
     "data": {
      "text/plain": [
       "array([[0, 1, 2],\n",
       "       [3, 4, 5],\n",
       "       [6, 7, 8]])"
      ]
     },
     "execution_count": 9,
     "metadata": {},
     "output_type": "execute_result"
    }
   ],
   "source": [
    "matrix3x3 = np.arange(9).reshape((3, 3))\n",
    "\n",
    "matrix3x3"
   ]
  },
  {
   "cell_type": "markdown",
   "id": "5d52dfa6",
   "metadata": {
    "papermill": {
     "duration": 0.016768,
     "end_time": "2025-06-26T11:24:39.595707",
     "exception": false,
     "start_time": "2025-06-26T11:24:39.578939",
     "status": "completed"
    },
    "tags": []
   },
   "source": [
    "#### 10. Find indices of non-zero elements from [1,2,0,0,4,0] (★☆☆)"
   ]
  },
  {
   "cell_type": "code",
   "execution_count": 10,
   "id": "bdc3e92d",
   "metadata": {
    "execution": {
     "iopub.execute_input": "2025-06-26T11:24:39.630458Z",
     "iopub.status.busy": "2025-06-26T11:24:39.630208Z",
     "iopub.status.idle": "2025-06-26T11:24:39.635038Z",
     "shell.execute_reply": "2025-06-26T11:24:39.634386Z"
    },
    "papermill": {
     "duration": 0.023403,
     "end_time": "2025-06-26T11:24:39.636143",
     "exception": false,
     "start_time": "2025-06-26T11:24:39.612740",
     "status": "completed"
    },
    "tags": []
   },
   "outputs": [
    {
     "data": {
      "text/plain": [
       "(array([0, 1, 4]),)"
      ]
     },
     "execution_count": 10,
     "metadata": {},
     "output_type": "execute_result"
    }
   ],
   "source": [
    "rawData = [1, 2, 0, 0, 4, 0]\n",
    "\n",
    "npArr = np.array(rawData)\n",
    "\n",
    "npArr.nonzero()"
   ]
  },
  {
   "cell_type": "markdown",
   "id": "ac7994f7",
   "metadata": {
    "papermill": {
     "duration": 0.016839,
     "end_time": "2025-06-26T11:24:39.670256",
     "exception": false,
     "start_time": "2025-06-26T11:24:39.653417",
     "status": "completed"
    },
    "tags": []
   },
   "source": [
    "#### 11. Create a 3x3 identity matrix (★☆☆)\n",
    "\n",
    "```python\n",
    "[[1., 0., 0.],\n",
    " [0., 1., 0.],\n",
    " [0., 0., 1.]]\n",
    "```"
   ]
  },
  {
   "cell_type": "code",
   "execution_count": 11,
   "id": "3cadf399",
   "metadata": {
    "execution": {
     "iopub.execute_input": "2025-06-26T11:24:39.705381Z",
     "iopub.status.busy": "2025-06-26T11:24:39.704867Z",
     "iopub.status.idle": "2025-06-26T11:24:39.709407Z",
     "shell.execute_reply": "2025-06-26T11:24:39.708892Z"
    },
    "papermill": {
     "duration": 0.023188,
     "end_time": "2025-06-26T11:24:39.710429",
     "exception": false,
     "start_time": "2025-06-26T11:24:39.687241",
     "status": "completed"
    },
    "tags": []
   },
   "outputs": [
    {
     "data": {
      "text/plain": [
       "array([[1., 0., 0.],\n",
       "       [0., 1., 0.],\n",
       "       [0., 0., 1.]])"
      ]
     },
     "execution_count": 11,
     "metadata": {},
     "output_type": "execute_result"
    }
   ],
   "source": [
    "idnMatrix = np.eye(3, 3)\n",
    "\n",
    "idnMatrix"
   ]
  },
  {
   "cell_type": "markdown",
   "id": "e80102d5",
   "metadata": {
    "papermill": {
     "duration": 0.016884,
     "end_time": "2025-06-26T11:24:39.744415",
     "exception": false,
     "start_time": "2025-06-26T11:24:39.727531",
     "status": "completed"
    },
    "tags": []
   },
   "source": [
    "#### 12. Create a 3x3x3 array with random values (★☆☆)"
   ]
  },
  {
   "cell_type": "code",
   "execution_count": 12,
   "id": "8d5a4924",
   "metadata": {
    "execution": {
     "iopub.execute_input": "2025-06-26T11:24:39.779721Z",
     "iopub.status.busy": "2025-06-26T11:24:39.779126Z",
     "iopub.status.idle": "2025-06-26T11:24:39.784107Z",
     "shell.execute_reply": "2025-06-26T11:24:39.783454Z"
    },
    "papermill": {
     "duration": 0.023774,
     "end_time": "2025-06-26T11:24:39.785245",
     "exception": false,
     "start_time": "2025-06-26T11:24:39.761471",
     "status": "completed"
    },
    "tags": []
   },
   "outputs": [
    {
     "data": {
      "text/plain": [
       "array([[[0.90344816, 0.08104429, 0.49863627],\n",
       "        [0.50593416, 0.61095836, 0.76588434],\n",
       "        [0.88147288, 0.83611052, 0.02088791]],\n",
       "\n",
       "       [[0.56056553, 0.79186441, 0.9071882 ],\n",
       "        [0.41209729, 0.43069111, 0.34866588],\n",
       "        [0.50950851, 0.86005404, 0.69328395]],\n",
       "\n",
       "       [[0.95924963, 0.19561633, 0.04381588],\n",
       "        [0.90954066, 0.30587593, 0.85604137],\n",
       "        [0.88983594, 0.54456191, 0.54606543]]])"
      ]
     },
     "execution_count": 12,
     "metadata": {},
     "output_type": "execute_result"
    }
   ],
   "source": [
    "rndmArr = np.random.rand(3, 3, 3)\n",
    "\n",
    "rndmArr"
   ]
  },
  {
   "cell_type": "markdown",
   "id": "5e34d45c",
   "metadata": {
    "papermill": {
     "duration": 0.017066,
     "end_time": "2025-06-26T11:24:39.819555",
     "exception": false,
     "start_time": "2025-06-26T11:24:39.802489",
     "status": "completed"
    },
    "tags": []
   },
   "source": [
    "#### 13. Create a 10x10 array with random values and find the minimum and maximum values (★☆☆)"
   ]
  },
  {
   "cell_type": "code",
   "execution_count": 13,
   "id": "11ac3b57",
   "metadata": {
    "execution": {
     "iopub.execute_input": "2025-06-26T11:24:39.855066Z",
     "iopub.status.busy": "2025-06-26T11:24:39.854645Z",
     "iopub.status.idle": "2025-06-26T11:24:39.859033Z",
     "shell.execute_reply": "2025-06-26T11:24:39.858266Z"
    },
    "papermill": {
     "duration": 0.023554,
     "end_time": "2025-06-26T11:24:39.860167",
     "exception": false,
     "start_time": "2025-06-26T11:24:39.836613",
     "status": "completed"
    },
    "tags": []
   },
   "outputs": [
    {
     "name": "stdout",
     "output_type": "stream",
     "text": [
      "Min Val: 0.018171838631842463\n",
      "Max Val: 0.9759703009953308\n"
     ]
    }
   ],
   "source": [
    "rndmArr = np.random.rand(10, 10)\n",
    "\n",
    "rndmArr\n",
    "\n",
    "print(\"Min Val:\", rndmArr.min())\n",
    "print(\"Max Val:\", rndmArr.max())"
   ]
  },
  {
   "cell_type": "markdown",
   "id": "8aa8d7a5",
   "metadata": {
    "papermill": {
     "duration": 0.018537,
     "end_time": "2025-06-26T11:24:39.896047",
     "exception": false,
     "start_time": "2025-06-26T11:24:39.877510",
     "status": "completed"
    },
    "tags": []
   },
   "source": [
    "#### 14. Create a random vector of size 30 and find the mean value (★☆☆)"
   ]
  },
  {
   "cell_type": "code",
   "execution_count": 14,
   "id": "4f10f7dd",
   "metadata": {
    "execution": {
     "iopub.execute_input": "2025-06-26T11:24:39.931937Z",
     "iopub.status.busy": "2025-06-26T11:24:39.931700Z",
     "iopub.status.idle": "2025-06-26T11:24:39.936367Z",
     "shell.execute_reply": "2025-06-26T11:24:39.935680Z"
    },
    "papermill": {
     "duration": 0.024064,
     "end_time": "2025-06-26T11:24:39.937401",
     "exception": false,
     "start_time": "2025-06-26T11:24:39.913337",
     "status": "completed"
    },
    "tags": []
   },
   "outputs": [
    {
     "data": {
      "text/plain": [
       "0.5001041516196398"
      ]
     },
     "execution_count": 14,
     "metadata": {},
     "output_type": "execute_result"
    }
   ],
   "source": [
    "rndmArr = np.random.rand(30)\n",
    "\n",
    "rndmArr.mean()"
   ]
  },
  {
   "cell_type": "markdown",
   "id": "87990acc",
   "metadata": {
    "papermill": {
     "duration": 0.017158,
     "end_time": "2025-06-26T11:24:39.972117",
     "exception": false,
     "start_time": "2025-06-26T11:24:39.954959",
     "status": "completed"
    },
    "tags": []
   },
   "source": [
    "#### 15. Create a 2d array with 1 on the border and 0 inside (★☆☆)\n",
    "\n",
    "```python\n",
    "[[1., 1., 1., 1., 1.],\n",
    " [1., 0., 0., 0., 1.],\n",
    " [1., 0., 0., 0., 1.],\n",
    " [1., 0., 0., 0., 1.],\n",
    " [1., 1., 1., 1., 1.]]\n",
    "```"
   ]
  },
  {
   "cell_type": "code",
   "execution_count": 15,
   "id": "5dc7dfec",
   "metadata": {
    "execution": {
     "iopub.execute_input": "2025-06-26T11:24:40.007419Z",
     "iopub.status.busy": "2025-06-26T11:24:40.007162Z",
     "iopub.status.idle": "2025-06-26T11:24:40.012063Z",
     "shell.execute_reply": "2025-06-26T11:24:40.011570Z"
    },
    "papermill": {
     "duration": 0.023645,
     "end_time": "2025-06-26T11:24:40.012983",
     "exception": false,
     "start_time": "2025-06-26T11:24:39.989338",
     "status": "completed"
    },
    "tags": []
   },
   "outputs": [
    {
     "data": {
      "text/plain": [
       "array([[1., 1., 1., 1., 1.],\n",
       "       [1., 0., 0., 0., 1.],\n",
       "       [1., 0., 0., 0., 1.],\n",
       "       [1., 0., 0., 0., 1.],\n",
       "       [1., 1., 1., 1., 1.]])"
      ]
     },
     "execution_count": 15,
     "metadata": {},
     "output_type": "execute_result"
    }
   ],
   "source": [
    "npArr = np.ones((5, 5))\n",
    "# npArr[1:-1, 1:-1] = 0\n",
    "\n",
    "npArr[1:-1, 1:-1] = 0\n",
    "\n",
    "npArr"
   ]
  },
  {
   "cell_type": "markdown",
   "id": "e81854b9",
   "metadata": {
    "papermill": {
     "duration": 0.01724,
     "end_time": "2025-06-26T11:24:40.047590",
     "exception": false,
     "start_time": "2025-06-26T11:24:40.030350",
     "status": "completed"
    },
    "tags": []
   },
   "source": [
    "#### 16. How to add a border (filled with 0's) around an existing array (★☆☆)\n",
    "\n",
    "```python\n",
    "[[0., 0., 0., 0., 0.],\n",
    " [0., 1., 1., 1., 0.],\n",
    " [0., 1., 1., 1., 0.],\n",
    " [0., 1., 1., 1., 0.],\n",
    " [0., 0., 0., 0., 0.]]\n",
    "```"
   ]
  },
  {
   "cell_type": "code",
   "execution_count": 16,
   "id": "01cbdf4e",
   "metadata": {
    "execution": {
     "iopub.execute_input": "2025-06-26T11:24:40.083220Z",
     "iopub.status.busy": "2025-06-26T11:24:40.082972Z",
     "iopub.status.idle": "2025-06-26T11:24:40.088411Z",
     "shell.execute_reply": "2025-06-26T11:24:40.087746Z"
    },
    "papermill": {
     "duration": 0.024585,
     "end_time": "2025-06-26T11:24:40.089491",
     "exception": false,
     "start_time": "2025-06-26T11:24:40.064906",
     "status": "completed"
    },
    "tags": []
   },
   "outputs": [
    {
     "data": {
      "text/plain": [
       "array([[0., 0., 0., 0., 0.],\n",
       "       [0., 1., 1., 1., 0.],\n",
       "       [0., 1., 1., 1., 0.],\n",
       "       [0., 1., 1., 1., 0.],\n",
       "       [0., 0., 0., 0., 0.]])"
      ]
     },
     "execution_count": 16,
     "metadata": {},
     "output_type": "execute_result"
    }
   ],
   "source": [
    "npArr = np.ones((5, 5))\n",
    "npArr[:, [0, -1]] = 0\n",
    "npArr[[0, -1], :] = 0\n",
    "npArr\n",
    "\n",
    "# padArr = np.ones((5,5))\n",
    "# padArr = np.pad(padArr, pad_width=1, mode='constant', constant_values=0)\n",
    "# padArr"
   ]
  },
  {
   "cell_type": "markdown",
   "id": "df684e0d",
   "metadata": {
    "papermill": {
     "duration": 0.017256,
     "end_time": "2025-06-26T11:24:40.124565",
     "exception": false,
     "start_time": "2025-06-26T11:24:40.107309",
     "status": "completed"
    },
    "tags": []
   },
   "source": [
    "#### 17. What is the result of the following expression (★☆☆)\n",
    "```python\n",
    "0 * np.nan\n",
    "np.nan == np.nan\n",
    "np.inf > np.nan\n",
    "np.nan - np.nan\n",
    "np.nan in set([np.nan])\n",
    "0.3 == 3 * 0.1\n",
    "```"
   ]
  },
  {
   "cell_type": "code",
   "execution_count": 17,
   "id": "a0737adf",
   "metadata": {
    "execution": {
     "iopub.execute_input": "2025-06-26T11:24:40.160938Z",
     "iopub.status.busy": "2025-06-26T11:24:40.160289Z",
     "iopub.status.idle": "2025-06-26T11:24:40.165135Z",
     "shell.execute_reply": "2025-06-26T11:24:40.164565Z"
    },
    "papermill": {
     "duration": 0.02407,
     "end_time": "2025-06-26T11:24:40.166160",
     "exception": false,
     "start_time": "2025-06-26T11:24:40.142090",
     "status": "completed"
    },
    "tags": []
   },
   "outputs": [
    {
     "name": "stdout",
     "output_type": "stream",
     "text": [
      "nan\n",
      "False\n",
      "False\n",
      "nan\n",
      "True\n",
      "False\n",
      "True\n"
     ]
    }
   ],
   "source": [
    "print(0 * np.nan)  # nan\n",
    "print(np.nan == np.nan)  # False\n",
    "print(np.inf > np.nan)  # False\n",
    "print(np.nan - np.nan)  # nan\n",
    "print(np.nan in set([np.nan]))  # True\n",
    "print(0.3 == 3 * 0.1)  # False\n",
    "print(0.3 == round(3 * 0.1, 1))  # True"
   ]
  },
  {
   "cell_type": "markdown",
   "id": "db9fda3e",
   "metadata": {
    "papermill": {
     "duration": 0.017615,
     "end_time": "2025-06-26T11:24:40.201424",
     "exception": false,
     "start_time": "2025-06-26T11:24:40.183809",
     "status": "completed"
    },
    "tags": []
   },
   "source": [
    "#### 18. Create a 5x5 matrix with values 1,2,3,4 just below the diagonal (★☆☆)\n",
    "\n",
    "```python\n",
    "[[0, 0, 0, 0, 0],\n",
    " [1, 0, 0, 0, 0],\n",
    " [0, 2, 0, 0, 0],\n",
    " [0, 0, 3, 0, 0],\n",
    " [0, 0, 0, 4, 0]]\n",
    "```"
   ]
  },
  {
   "cell_type": "code",
   "execution_count": 18,
   "id": "158f65a4",
   "metadata": {
    "execution": {
     "iopub.execute_input": "2025-06-26T11:24:40.237939Z",
     "iopub.status.busy": "2025-06-26T11:24:40.237215Z",
     "iopub.status.idle": "2025-06-26T11:24:40.243206Z",
     "shell.execute_reply": "2025-06-26T11:24:40.242677Z"
    },
    "papermill": {
     "duration": 0.025317,
     "end_time": "2025-06-26T11:24:40.244217",
     "exception": false,
     "start_time": "2025-06-26T11:24:40.218900",
     "status": "completed"
    },
    "tags": []
   },
   "outputs": [
    {
     "data": {
      "text/plain": [
       "array([[0, 0, 0, 0, 0],\n",
       "       [1, 0, 0, 0, 0],\n",
       "       [0, 2, 0, 0, 0],\n",
       "       [0, 0, 3, 0, 0],\n",
       "       [0, 0, 0, 4, 0]])"
      ]
     },
     "execution_count": 18,
     "metadata": {},
     "output_type": "execute_result"
    }
   ],
   "source": [
    "m_5x5 = np.diag(1 + np.arange(4), k=-1)\n",
    "\n",
    "m_5x5"
   ]
  },
  {
   "cell_type": "markdown",
   "id": "da2e6c8a",
   "metadata": {
    "papermill": {
     "duration": 0.017416,
     "end_time": "2025-06-26T11:24:40.279503",
     "exception": false,
     "start_time": "2025-06-26T11:24:40.262087",
     "status": "completed"
    },
    "tags": []
   },
   "source": [
    "#### 19. Create a 8x8 matrix and fill it with a checkerboard pattern (★☆☆)"
   ]
  },
  {
   "cell_type": "code",
   "execution_count": 19,
   "id": "93d80251",
   "metadata": {
    "execution": {
     "iopub.execute_input": "2025-06-26T11:24:40.315886Z",
     "iopub.status.busy": "2025-06-26T11:24:40.315264Z",
     "iopub.status.idle": "2025-06-26T11:24:40.320495Z",
     "shell.execute_reply": "2025-06-26T11:24:40.319991Z"
    },
    "papermill": {
     "duration": 0.024799,
     "end_time": "2025-06-26T11:24:40.321834",
     "exception": false,
     "start_time": "2025-06-26T11:24:40.297035",
     "status": "completed"
    },
    "tags": []
   },
   "outputs": [
    {
     "data": {
      "text/plain": [
       "array([[0., 1., 0., 1., 0., 1., 0., 1.],\n",
       "       [1., 0., 1., 0., 1., 0., 1., 0.],\n",
       "       [0., 1., 0., 1., 0., 1., 0., 1.],\n",
       "       [1., 0., 1., 0., 1., 0., 1., 0.],\n",
       "       [0., 1., 0., 1., 0., 1., 0., 1.],\n",
       "       [1., 0., 1., 0., 1., 0., 1., 0.],\n",
       "       [0., 1., 0., 1., 0., 1., 0., 1.],\n",
       "       [1., 0., 1., 0., 1., 0., 1., 0.]])"
      ]
     },
     "execution_count": 19,
     "metadata": {},
     "output_type": "execute_result"
    }
   ],
   "source": [
    "m_8x8 = np.zeros((8, 8))\n",
    "m_8x8[1::2, ::2] = 1\n",
    "m_8x8[::2, 1::2] = 1\n",
    "\n",
    "m_8x8"
   ]
  },
  {
   "cell_type": "markdown",
   "id": "7cb88299",
   "metadata": {
    "papermill": {
     "duration": 0.017559,
     "end_time": "2025-06-26T11:24:40.357393",
     "exception": false,
     "start_time": "2025-06-26T11:24:40.339834",
     "status": "completed"
    },
    "tags": []
   },
   "source": [
    "#### 20. Consider a (6,7,8) shape array, what is the index (x,y,z) of the 100th element (★☆☆)"
   ]
  },
  {
   "cell_type": "code",
   "execution_count": 20,
   "id": "eb411861",
   "metadata": {
    "execution": {
     "iopub.execute_input": "2025-06-26T11:24:40.393708Z",
     "iopub.status.busy": "2025-06-26T11:24:40.393467Z",
     "iopub.status.idle": "2025-06-26T11:24:40.397335Z",
     "shell.execute_reply": "2025-06-26T11:24:40.396575Z"
    },
    "papermill": {
     "duration": 0.023506,
     "end_time": "2025-06-26T11:24:40.398484",
     "exception": false,
     "start_time": "2025-06-26T11:24:40.374978",
     "status": "completed"
    },
    "tags": []
   },
   "outputs": [
    {
     "name": "stdout",
     "output_type": "stream",
     "text": [
      "(1, 5, 3)\n"
     ]
    }
   ],
   "source": [
    "print(np.unravel_index(99, (6, 7, 8)))"
   ]
  },
  {
   "cell_type": "code",
   "execution_count": 21,
   "id": "38ed0dee",
   "metadata": {
    "execution": {
     "iopub.execute_input": "2025-06-26T11:24:40.434840Z",
     "iopub.status.busy": "2025-06-26T11:24:40.434631Z",
     "iopub.status.idle": "2025-06-26T11:24:40.440025Z",
     "shell.execute_reply": "2025-06-26T11:24:40.439364Z"
    },
    "papermill": {
     "duration": 0.024867,
     "end_time": "2025-06-26T11:24:40.441148",
     "exception": false,
     "start_time": "2025-06-26T11:24:40.416281",
     "status": "completed"
    },
    "tags": []
   },
   "outputs": [
    {
     "data": {
      "text/plain": [
       "array([[[  0,   1,   2,   3,   4,   5,   6,   7],\n",
       "        [  8,   9,  10,  11,  12,  13,  14,  15],\n",
       "        [ 16,  17,  18,  19,  20,  21,  22,  23],\n",
       "        [ 24,  25,  26,  27,  28,  29,  30,  31],\n",
       "        [ 32,  33,  34,  35,  36,  37,  38,  39],\n",
       "        [ 40,  41,  42,  43,  44,  45,  46,  47],\n",
       "        [ 48,  49,  50,  51,  52,  53,  54,  55]],\n",
       "\n",
       "       [[ 56,  57,  58,  59,  60,  61,  62,  63],\n",
       "        [ 64,  65,  66,  67,  68,  69,  70,  71],\n",
       "        [ 72,  73,  74,  75,  76,  77,  78,  79],\n",
       "        [ 80,  81,  82,  83,  84,  85,  86,  87],\n",
       "        [ 88,  89,  90,  91,  92,  93,  94,  95],\n",
       "        [ 96,  97,  98,  99, 100, 101, 102, 103],\n",
       "        [104, 105, 106, 107, 108, 109, 110, 111]],\n",
       "\n",
       "       [[112, 113, 114, 115, 116, 117, 118, 119],\n",
       "        [120, 121, 122, 123, 124, 125, 126, 127],\n",
       "        [128, 129, 130, 131, 132, 133, 134, 135],\n",
       "        [136, 137, 138, 139, 140, 141, 142, 143],\n",
       "        [144, 145, 146, 147, 148, 149, 150, 151],\n",
       "        [152, 153, 154, 155, 156, 157, 158, 159],\n",
       "        [160, 161, 162, 163, 164, 165, 166, 167]],\n",
       "\n",
       "       [[168, 169, 170, 171, 172, 173, 174, 175],\n",
       "        [176, 177, 178, 179, 180, 181, 182, 183],\n",
       "        [184, 185, 186, 187, 188, 189, 190, 191],\n",
       "        [192, 193, 194, 195, 196, 197, 198, 199],\n",
       "        [200, 201, 202, 203, 204, 205, 206, 207],\n",
       "        [208, 209, 210, 211, 212, 213, 214, 215],\n",
       "        [216, 217, 218, 219, 220, 221, 222, 223]],\n",
       "\n",
       "       [[224, 225, 226, 227, 228, 229, 230, 231],\n",
       "        [232, 233, 234, 235, 236, 237, 238, 239],\n",
       "        [240, 241, 242, 243, 244, 245, 246, 247],\n",
       "        [248, 249, 250, 251, 252, 253, 254, 255],\n",
       "        [256, 257, 258, 259, 260, 261, 262, 263],\n",
       "        [264, 265, 266, 267, 268, 269, 270, 271],\n",
       "        [272, 273, 274, 275, 276, 277, 278, 279]],\n",
       "\n",
       "       [[280, 281, 282, 283, 284, 285, 286, 287],\n",
       "        [288, 289, 290, 291, 292, 293, 294, 295],\n",
       "        [296, 297, 298, 299, 300, 301, 302, 303],\n",
       "        [304, 305, 306, 307, 308, 309, 310, 311],\n",
       "        [312, 313, 314, 315, 316, 317, 318, 319],\n",
       "        [320, 321, 322, 323, 324, 325, 326, 327],\n",
       "        [328, 329, 330, 331, 332, 333, 334, 335]]])"
      ]
     },
     "execution_count": 21,
     "metadata": {},
     "output_type": "execute_result"
    }
   ],
   "source": [
    "array_3d = np.arange(6 * 7 * 8).reshape((6, 7, 8))\n",
    "array_3d"
   ]
  },
  {
   "cell_type": "markdown",
   "id": "5ffd2e2b",
   "metadata": {
    "papermill": {
     "duration": 0.017855,
     "end_time": "2025-06-26T11:24:40.477050",
     "exception": false,
     "start_time": "2025-06-26T11:24:40.459195",
     "status": "completed"
    },
    "tags": []
   },
   "source": [
    "#### 21. Create a checkerboard 8x8 matrix using the tile function (★☆☆)"
   ]
  },
  {
   "cell_type": "code",
   "execution_count": 22,
   "id": "e190e2ea",
   "metadata": {
    "execution": {
     "iopub.execute_input": "2025-06-26T11:24:40.514370Z",
     "iopub.status.busy": "2025-06-26T11:24:40.513751Z",
     "iopub.status.idle": "2025-06-26T11:24:40.519104Z",
     "shell.execute_reply": "2025-06-26T11:24:40.518412Z"
    },
    "papermill": {
     "duration": 0.024951,
     "end_time": "2025-06-26T11:24:40.520198",
     "exception": false,
     "start_time": "2025-06-26T11:24:40.495247",
     "status": "completed"
    },
    "tags": []
   },
   "outputs": [
    {
     "data": {
      "text/plain": [
       "array([[0, 1, 0, 1, 0, 1, 0, 1],\n",
       "       [1, 0, 1, 0, 1, 0, 1, 0],\n",
       "       [0, 1, 0, 1, 0, 1, 0, 1],\n",
       "       [1, 0, 1, 0, 1, 0, 1, 0],\n",
       "       [0, 1, 0, 1, 0, 1, 0, 1],\n",
       "       [1, 0, 1, 0, 1, 0, 1, 0],\n",
       "       [0, 1, 0, 1, 0, 1, 0, 1],\n",
       "       [1, 0, 1, 0, 1, 0, 1, 0]])"
      ]
     },
     "execution_count": 22,
     "metadata": {},
     "output_type": "execute_result"
    }
   ],
   "source": [
    "np.tile(np.array([[0, 1], [1, 0]]), (4, 4))"
   ]
  },
  {
   "cell_type": "markdown",
   "id": "c7488c8e",
   "metadata": {
    "papermill": {
     "duration": 0.017747,
     "end_time": "2025-06-26T11:24:40.555751",
     "exception": false,
     "start_time": "2025-06-26T11:24:40.538004",
     "status": "completed"
    },
    "tags": []
   },
   "source": [
    "#### 22. Normalize a 5x5 random matrix (★☆☆)\n",
    "\n",
    "$$\n",
    "\\text{normalized\\_data} = \\frac{\\text{data} - \\mu(\\text{data})}{\\sigma(\\text{data})}\n",
    "$$\n",
    "\n",
    "**Where:**\n",
    "\n",
    "- `data` is the original input array or dataset  \n",
    "- `μ(data)` is the mean (average) of the data  \n",
    "- `σ(data)` is the standard deviation of the data  \n",
    "- `normalized_data` is the standardized output, with mean 0 and standard deviation 1\n"
   ]
  },
  {
   "cell_type": "code",
   "execution_count": 23,
   "id": "cd8df748",
   "metadata": {
    "execution": {
     "iopub.execute_input": "2025-06-26T11:24:40.592975Z",
     "iopub.status.busy": "2025-06-26T11:24:40.592517Z",
     "iopub.status.idle": "2025-06-26T11:24:40.597793Z",
     "shell.execute_reply": "2025-06-26T11:24:40.597267Z"
    },
    "papermill": {
     "duration": 0.025026,
     "end_time": "2025-06-26T11:24:40.598787",
     "exception": false,
     "start_time": "2025-06-26T11:24:40.573761",
     "status": "completed"
    },
    "tags": []
   },
   "outputs": [
    {
     "data": {
      "text/plain": [
       "array([[-1.15161819, -0.62528234, -0.3929455 , -1.0695093 ,  1.82711059],\n",
       "       [ 1.05148873,  1.00770979, -0.23780861, -0.81212919, -1.4069821 ],\n",
       "       [ 1.29300281, -1.37720463, -1.09210525, -0.00753804,  1.08225787],\n",
       "       [ 0.11273483,  0.43549924,  0.58148598, -0.20113644,  1.73255449],\n",
       "       [ 1.27692676, -1.1556254 ,  0.55799554, -0.62529052, -0.80359112]])"
      ]
     },
     "execution_count": 23,
     "metadata": {},
     "output_type": "execute_result"
    }
   ],
   "source": [
    "nrml_m = np.random.random((5, 5))\n",
    "nrml_m = (nrml_m - np.mean(nrml_m)) / (np.std(nrml_m))\n",
    "\n",
    "nrml_m"
   ]
  },
  {
   "cell_type": "markdown",
   "id": "3975be7f",
   "metadata": {
    "papermill": {
     "duration": 0.017823,
     "end_time": "2025-06-26T11:24:40.634510",
     "exception": false,
     "start_time": "2025-06-26T11:24:40.616687",
     "status": "completed"
    },
    "tags": []
   },
   "source": [
    "#### 23. Create a custom dtype that describes a color as four unsigned bytes (RGBA) (★☆☆)"
   ]
  },
  {
   "cell_type": "code",
   "execution_count": 24,
   "id": "367b6d9a",
   "metadata": {
    "execution": {
     "iopub.execute_input": "2025-06-26T11:24:40.671367Z",
     "iopub.status.busy": "2025-06-26T11:24:40.671046Z",
     "iopub.status.idle": "2025-06-26T11:24:40.675692Z",
     "shell.execute_reply": "2025-06-26T11:24:40.675165Z"
    },
    "papermill": {
     "duration": 0.024374,
     "end_time": "2025-06-26T11:24:40.676669",
     "exception": false,
     "start_time": "2025-06-26T11:24:40.652295",
     "status": "completed"
    },
    "tags": []
   },
   "outputs": [
    {
     "data": {
      "text/plain": [
       "dtype([('r', 'u1'), ('g', 'u1'), ('b', 'u1'), ('a', 'u1')])"
      ]
     },
     "execution_count": 24,
     "metadata": {},
     "output_type": "execute_result"
    }
   ],
   "source": [
    "color = np.dtype([(\"r\", np.ubyte), (\"g\", np.ubyte), (\"b\", np.ubyte), (\"a\", np.ubyte)])\n",
    "\n",
    "color"
   ]
  },
  {
   "cell_type": "markdown",
   "id": "bafe7277",
   "metadata": {
    "papermill": {
     "duration": 0.017813,
     "end_time": "2025-06-26T11:24:40.712453",
     "exception": false,
     "start_time": "2025-06-26T11:24:40.694640",
     "status": "completed"
    },
    "tags": []
   },
   "source": [
    "#### 24. Multiply a 5x3 matrix by a 3x2 matrix (real matrix product) (★☆☆)"
   ]
  },
  {
   "cell_type": "code",
   "execution_count": 25,
   "id": "7d6dd367",
   "metadata": {
    "execution": {
     "iopub.execute_input": "2025-06-26T11:24:40.749886Z",
     "iopub.status.busy": "2025-06-26T11:24:40.749288Z",
     "iopub.status.idle": "2025-06-26T11:24:40.775446Z",
     "shell.execute_reply": "2025-06-26T11:24:40.774835Z"
    },
    "papermill": {
     "duration": 0.04613,
     "end_time": "2025-06-26T11:24:40.776547",
     "exception": false,
     "start_time": "2025-06-26T11:24:40.730417",
     "status": "completed"
    },
    "tags": []
   },
   "outputs": [
    {
     "data": {
      "text/plain": [
       "array([[0.64734488, 0.78398949],\n",
       "       [0.59718066, 0.756449  ],\n",
       "       [0.75496463, 0.97768664],\n",
       "       [1.16990292, 1.43397023],\n",
       "       [0.98833869, 1.25465043]])"
      ]
     },
     "execution_count": 25,
     "metadata": {},
     "output_type": "execute_result"
    }
   ],
   "source": [
    "m1 = np.random.rand(5, 3)\n",
    "m2 = np.random.rand(3, 2)\n",
    "\n",
    "np.matmul(m1, m2)"
   ]
  },
  {
   "cell_type": "markdown",
   "id": "6828a796",
   "metadata": {
    "papermill": {
     "duration": 0.018237,
     "end_time": "2025-06-26T11:24:40.813052",
     "exception": false,
     "start_time": "2025-06-26T11:24:40.794815",
     "status": "completed"
    },
    "tags": []
   },
   "source": [
    "#### 25. Given a 1D array, negate all elements which are between 3 and 8, in place. (★☆☆)"
   ]
  },
  {
   "cell_type": "code",
   "execution_count": 26,
   "id": "1ec855a1",
   "metadata": {
    "execution": {
     "iopub.execute_input": "2025-06-26T11:24:40.850930Z",
     "iopub.status.busy": "2025-06-26T11:24:40.850302Z",
     "iopub.status.idle": "2025-06-26T11:24:40.857083Z",
     "shell.execute_reply": "2025-06-26T11:24:40.856558Z"
    },
    "papermill": {
     "duration": 0.02671,
     "end_time": "2025-06-26T11:24:40.858152",
     "exception": false,
     "start_time": "2025-06-26T11:24:40.831442",
     "status": "completed"
    },
    "tags": []
   },
   "outputs": [
    {
     "data": {
      "text/plain": [
       "array([ 0,  1,  2,  3, -4, -5, -6, -7,  8,  9, 10])"
      ]
     },
     "execution_count": 26,
     "metadata": {},
     "output_type": "execute_result"
    }
   ],
   "source": [
    "m1 = np.arange(11)\n",
    "m1[(3 < m1) & (m1 < 8)] *= -1\n",
    "\n",
    "m1"
   ]
  },
  {
   "cell_type": "markdown",
   "id": "6fba8341",
   "metadata": {
    "papermill": {
     "duration": 0.019846,
     "end_time": "2025-06-26T11:24:40.896257",
     "exception": false,
     "start_time": "2025-06-26T11:24:40.876411",
     "status": "completed"
    },
    "tags": []
   },
   "source": [
    "#### 26. What is the output of the following script (★☆☆)\n",
    "```python\n",
    "# Author: Jake VanderPlas\n",
    "\n",
    "print(sum(range(5),-1))\n",
    "from numpy import *\n",
    "print(sum(range(5),-1))\n",
    "```"
   ]
  },
  {
   "cell_type": "code",
   "execution_count": 27,
   "id": "dbcc5c14",
   "metadata": {
    "execution": {
     "iopub.execute_input": "2025-06-26T11:24:40.934261Z",
     "iopub.status.busy": "2025-06-26T11:24:40.933743Z",
     "iopub.status.idle": "2025-06-26T11:24:40.938268Z",
     "shell.execute_reply": "2025-06-26T11:24:40.937591Z"
    },
    "papermill": {
     "duration": 0.024896,
     "end_time": "2025-06-26T11:24:40.939358",
     "exception": false,
     "start_time": "2025-06-26T11:24:40.914462",
     "status": "completed"
    },
    "tags": []
   },
   "outputs": [
    {
     "name": "stdout",
     "output_type": "stream",
     "text": [
      "9\n",
      "10\n"
     ]
    }
   ],
   "source": [
    "print(sum(range(5), -1))  # 9\n",
    "from numpy import sum  # noqa: E402\n",
    "\n",
    "print(sum(range(5), -1))  # 10 (axis = -1)"
   ]
  },
  {
   "cell_type": "markdown",
   "id": "6e24a1e2",
   "metadata": {
    "papermill": {
     "duration": 0.017981,
     "end_time": "2025-06-26T11:24:40.975943",
     "exception": false,
     "start_time": "2025-06-26T11:24:40.957962",
     "status": "completed"
    },
    "tags": []
   },
   "source": [
    "#### 27. Consider an integer vector Z, which of these expressions are legal (★☆☆)\n",
    "```python\n",
    "Z**Z\n",
    "2 << Z >> 2\n",
    "Z <- Z\n",
    "1j*Z\n",
    "Z/1/1\n",
    "Z<Z>Z  # Error\n",
    "```"
   ]
  },
  {
   "cell_type": "code",
   "execution_count": 28,
   "id": "d3781955",
   "metadata": {
    "execution": {
     "iopub.execute_input": "2025-06-26T11:24:41.013362Z",
     "iopub.status.busy": "2025-06-26T11:24:41.012906Z",
     "iopub.status.idle": "2025-06-26T11:24:41.019364Z",
     "shell.execute_reply": "2025-06-26T11:24:41.018649Z"
    },
    "papermill": {
     "duration": 0.026441,
     "end_time": "2025-06-26T11:24:41.020459",
     "exception": false,
     "start_time": "2025-06-26T11:24:40.994018",
     "status": "completed"
    },
    "tags": []
   },
   "outputs": [
    {
     "name": "stdout",
     "output_type": "stream",
     "text": [
      "[          1           1           4          27         256        3125\n",
      "       46656      823543    16777216   387420489 10000000000]\n",
      "[  0   1   2   4   8  16  32  64 128 256 512]\n",
      "[False False False False False False False False False False False]\n",
      "[0. +0.j 0. +1.j 0. +2.j 0. +3.j 0. +4.j 0. +5.j 0. +6.j 0. +7.j 0. +8.j\n",
      " 0. +9.j 0.+10.j]\n",
      "[ 0.  1.  2.  3.  4.  5.  6.  7.  8.  9. 10.]\n"
     ]
    }
   ],
   "source": [
    "Z = np.arange(11)\n",
    "\n",
    "print(Z**Z)\n",
    "print(2 << Z >> 2)\n",
    "print(Z < -Z)\n",
    "print(1j * Z)\n",
    "print(Z / 1 / 1)\n",
    "# print(Z<Z>Z)"
   ]
  },
  {
   "cell_type": "markdown",
   "id": "a42a080c",
   "metadata": {
    "papermill": {
     "duration": 0.018003,
     "end_time": "2025-06-26T11:24:41.057179",
     "exception": false,
     "start_time": "2025-06-26T11:24:41.039176",
     "status": "completed"
    },
    "tags": []
   },
   "source": [
    "#### 28. What are the result of the following expressions (★☆☆)\n",
    "```python\n",
    "np.array(0) / np.array(0)\n",
    "np.array(0) // np.array(0)\n",
    "np.array([np.nan]).astype(int).astype(float)\n",
    "```"
   ]
  },
  {
   "cell_type": "code",
   "execution_count": 29,
   "id": "0d7463c7",
   "metadata": {
    "execution": {
     "iopub.execute_input": "2025-06-26T11:24:41.094772Z",
     "iopub.status.busy": "2025-06-26T11:24:41.094505Z",
     "iopub.status.idle": "2025-06-26T11:24:41.099105Z",
     "shell.execute_reply": "2025-06-26T11:24:41.098391Z"
    },
    "papermill": {
     "duration": 0.02492,
     "end_time": "2025-06-26T11:24:41.100418",
     "exception": false,
     "start_time": "2025-06-26T11:24:41.075498",
     "status": "completed"
    },
    "tags": []
   },
   "outputs": [
    {
     "name": "stdout",
     "output_type": "stream",
     "text": [
      "nan\n",
      "0\n",
      "[-9.22337204e+18]\n"
     ]
    },
    {
     "name": "stderr",
     "output_type": "stream",
     "text": [
      "/tmp/ipykernel_26/2670329950.py:1: RuntimeWarning: invalid value encountered in divide\n",
      "  print(np.array(0) / np.array(0))  # nan\n",
      "/tmp/ipykernel_26/2670329950.py:2: RuntimeWarning: divide by zero encountered in floor_divide\n",
      "  print(np.array(0) // np.array(0))  # 0\n",
      "/tmp/ipykernel_26/2670329950.py:3: RuntimeWarning: invalid value encountered in cast\n",
      "  print(np.array([np.nan]).astype(int).astype(float))  # [-9.22337204e+18]\n"
     ]
    }
   ],
   "source": [
    "print(np.array(0) / np.array(0))  # nan\n",
    "print(np.array(0) // np.array(0))  # 0\n",
    "print(np.array([np.nan]).astype(int).astype(float))  # [-9.22337204e+18]"
   ]
  },
  {
   "cell_type": "markdown",
   "id": "bdd531ea",
   "metadata": {
    "papermill": {
     "duration": 0.018144,
     "end_time": "2025-06-26T11:24:41.136968",
     "exception": false,
     "start_time": "2025-06-26T11:24:41.118824",
     "status": "completed"
    },
    "tags": []
   },
   "source": [
    "#### 29. How to round away from zero a float array  (★☆☆)"
   ]
  },
  {
   "cell_type": "code",
   "execution_count": 30,
   "id": "dbc0be2f",
   "metadata": {
    "execution": {
     "iopub.execute_input": "2025-06-26T11:24:41.174651Z",
     "iopub.status.busy": "2025-06-26T11:24:41.174051Z",
     "iopub.status.idle": "2025-06-26T11:24:41.181471Z",
     "shell.execute_reply": "2025-06-26T11:24:41.180815Z"
    },
    "papermill": {
     "duration": 0.027265,
     "end_time": "2025-06-26T11:24:41.182467",
     "exception": false,
     "start_time": "2025-06-26T11:24:41.155202",
     "status": "completed"
    },
    "tags": []
   },
   "outputs": [
    {
     "name": "stdout",
     "output_type": "stream",
     "text": [
      "[ 9.02936286 -0.65642845  2.92811265 -0.6425338  -6.39775564  1.31307811\n",
      " -3.38739476 -5.55946268  6.77322791 -5.08805789]\n",
      "[10. -1.  3. -1. -7.  2. -4. -6.  7. -6.]\n"
     ]
    }
   ],
   "source": [
    "Z = np.random.uniform(-10, +10, 10)\n",
    "print(Z)\n",
    "print(np.copysign(np.ceil(np.abs(Z)), Z))\n",
    "\n",
    "# More readable but less efficient\n",
    "# print(np.where(Z>0, np.ceil(Z), np.floor(Z)))"
   ]
  },
  {
   "cell_type": "markdown",
   "id": "c8625452",
   "metadata": {
    "papermill": {
     "duration": 0.018423,
     "end_time": "2025-06-26T11:24:41.219335",
     "exception": false,
     "start_time": "2025-06-26T11:24:41.200912",
     "status": "completed"
    },
    "tags": []
   },
   "source": [
    "#### 30. How to find common values between two arrays (★☆☆)"
   ]
  },
  {
   "cell_type": "code",
   "execution_count": 31,
   "id": "536efc09",
   "metadata": {
    "execution": {
     "iopub.execute_input": "2025-06-26T11:24:41.257151Z",
     "iopub.status.busy": "2025-06-26T11:24:41.256931Z",
     "iopub.status.idle": "2025-06-26T11:24:41.261735Z",
     "shell.execute_reply": "2025-06-26T11:24:41.261137Z"
    },
    "papermill": {
     "duration": 0.024854,
     "end_time": "2025-06-26T11:24:41.262746",
     "exception": false,
     "start_time": "2025-06-26T11:24:41.237892",
     "status": "completed"
    },
    "tags": []
   },
   "outputs": [
    {
     "name": "stdout",
     "output_type": "stream",
     "text": [
      "[0 2 3 6 7 9]\n"
     ]
    }
   ],
   "source": [
    "Z1 = np.random.randint(0, 10, 10)\n",
    "Z2 = np.random.randint(0, 10, 10)\n",
    "\n",
    "print(np.intersect1d(Z1, Z2))"
   ]
  },
  {
   "cell_type": "markdown",
   "id": "10b29768",
   "metadata": {
    "papermill": {
     "duration": 0.018481,
     "end_time": "2025-06-26T11:24:41.299996",
     "exception": false,
     "start_time": "2025-06-26T11:24:41.281515",
     "status": "completed"
    },
    "tags": []
   },
   "source": [
    "#### 31. How to ignore all numpy warnings (not recommended) (★☆☆)"
   ]
  },
  {
   "cell_type": "code",
   "execution_count": 32,
   "id": "37f9fc48",
   "metadata": {
    "execution": {
     "iopub.execute_input": "2025-06-26T11:24:41.337878Z",
     "iopub.status.busy": "2025-06-26T11:24:41.337647Z",
     "iopub.status.idle": "2025-06-26T11:24:41.340463Z",
     "shell.execute_reply": "2025-06-26T11:24:41.339947Z"
    },
    "papermill": {
     "duration": 0.023154,
     "end_time": "2025-06-26T11:24:41.341569",
     "exception": false,
     "start_time": "2025-06-26T11:24:41.318415",
     "status": "completed"
    },
    "tags": []
   },
   "outputs": [],
   "source": [
    "# np.seterr(all=\"ignore\")"
   ]
  },
  {
   "cell_type": "markdown",
   "id": "e6df1bf4",
   "metadata": {
    "papermill": {
     "duration": 0.018528,
     "end_time": "2025-06-26T11:24:41.378728",
     "exception": false,
     "start_time": "2025-06-26T11:24:41.360200",
     "status": "completed"
    },
    "tags": []
   },
   "source": [
    "#### 32. Is the following expressions true (★☆☆)\n",
    "```python\n",
    "np.sqrt(-1) == np.emath.sqrt(-1)\n",
    "```"
   ]
  },
  {
   "cell_type": "code",
   "execution_count": 33,
   "id": "07a653e6",
   "metadata": {
    "execution": {
     "iopub.execute_input": "2025-06-26T11:24:41.416491Z",
     "iopub.status.busy": "2025-06-26T11:24:41.416275Z",
     "iopub.status.idle": "2025-06-26T11:24:41.421161Z",
     "shell.execute_reply": "2025-06-26T11:24:41.420615Z"
    },
    "papermill": {
     "duration": 0.024979,
     "end_time": "2025-06-26T11:24:41.422141",
     "exception": false,
     "start_time": "2025-06-26T11:24:41.397162",
     "status": "completed"
    },
    "tags": []
   },
   "outputs": [
    {
     "name": "stderr",
     "output_type": "stream",
     "text": [
      "/tmp/ipykernel_26/3552829541.py:1: RuntimeWarning: invalid value encountered in sqrt\n",
      "  np.sqrt(-1) == np.emath.sqrt(-1)  # False\n"
     ]
    },
    {
     "data": {
      "text/plain": [
       "False"
      ]
     },
     "execution_count": 33,
     "metadata": {},
     "output_type": "execute_result"
    }
   ],
   "source": [
    "np.sqrt(-1) == np.emath.sqrt(-1)  # False"
   ]
  },
  {
   "cell_type": "markdown",
   "id": "1facd8e2",
   "metadata": {
    "papermill": {
     "duration": 0.018641,
     "end_time": "2025-06-26T11:24:41.460006",
     "exception": false,
     "start_time": "2025-06-26T11:24:41.441365",
     "status": "completed"
    },
    "tags": []
   },
   "source": [
    "#### 33. How to get the dates of yesterday, today and tomorrow (★☆☆)"
   ]
  },
  {
   "cell_type": "code",
   "execution_count": 34,
   "id": "46841b23",
   "metadata": {
    "execution": {
     "iopub.execute_input": "2025-06-26T11:24:41.498667Z",
     "iopub.status.busy": "2025-06-26T11:24:41.498428Z",
     "iopub.status.idle": "2025-06-26T11:24:41.502802Z",
     "shell.execute_reply": "2025-06-26T11:24:41.502243Z"
    },
    "papermill": {
     "duration": 0.024771,
     "end_time": "2025-06-26T11:24:41.503788",
     "exception": false,
     "start_time": "2025-06-26T11:24:41.479017",
     "status": "completed"
    },
    "tags": []
   },
   "outputs": [
    {
     "name": "stdout",
     "output_type": "stream",
     "text": [
      "2025-06-25\n",
      "2025-06-26\n",
      "2025-06-27\n"
     ]
    }
   ],
   "source": [
    "yesterday = np.datetime64(\"today\") - np.timedelta64(1)\n",
    "today = np.datetime64(\"today\")\n",
    "tomorrow = np.datetime64(\"today\") + np.timedelta64(1)\n",
    "\n",
    "print(yesterday)\n",
    "print(today)\n",
    "print(tomorrow)"
   ]
  },
  {
   "cell_type": "markdown",
   "id": "feb103ca",
   "metadata": {
    "papermill": {
     "duration": 0.018464,
     "end_time": "2025-06-26T11:24:41.541052",
     "exception": false,
     "start_time": "2025-06-26T11:24:41.522588",
     "status": "completed"
    },
    "tags": []
   },
   "source": [
    "#### 34. How to get all the dates corresponding to the month of July 2016 (★★☆)"
   ]
  },
  {
   "cell_type": "code",
   "execution_count": null,
   "id": "cd5cf881",
   "metadata": {
    "papermill": {
     "duration": 0.018563,
     "end_time": "2025-06-26T11:24:41.578175",
     "exception": false,
     "start_time": "2025-06-26T11:24:41.559612",
     "status": "completed"
    },
    "tags": []
   },
   "outputs": [],
   "source": []
  },
  {
   "cell_type": "markdown",
   "id": "e024b8d6",
   "metadata": {
    "papermill": {
     "duration": 0.019484,
     "end_time": "2025-06-26T11:24:41.616182",
     "exception": false,
     "start_time": "2025-06-26T11:24:41.596698",
     "status": "completed"
    },
    "tags": []
   },
   "source": [
    "#### 35. How to compute ((A+B)*(-A/2)) in place (without copy) (★★☆)"
   ]
  },
  {
   "cell_type": "code",
   "execution_count": null,
   "id": "0760248a",
   "metadata": {
    "papermill": {
     "duration": 0.018365,
     "end_time": "2025-06-26T11:24:41.653725",
     "exception": false,
     "start_time": "2025-06-26T11:24:41.635360",
     "status": "completed"
    },
    "tags": []
   },
   "outputs": [],
   "source": []
  },
  {
   "cell_type": "markdown",
   "id": "8b1aef16",
   "metadata": {
    "papermill": {
     "duration": 0.018297,
     "end_time": "2025-06-26T11:24:41.690584",
     "exception": false,
     "start_time": "2025-06-26T11:24:41.672287",
     "status": "completed"
    },
    "tags": []
   },
   "source": [
    "#### 36. Extract the integer part of a random array of positive numbers using 4 different methods (★★☆)"
   ]
  },
  {
   "cell_type": "code",
   "execution_count": null,
   "id": "64d77664",
   "metadata": {
    "papermill": {
     "duration": 0.01838,
     "end_time": "2025-06-26T11:24:41.727372",
     "exception": false,
     "start_time": "2025-06-26T11:24:41.708992",
     "status": "completed"
    },
    "tags": []
   },
   "outputs": [],
   "source": []
  },
  {
   "cell_type": "markdown",
   "id": "bd738544",
   "metadata": {
    "papermill": {
     "duration": 0.018505,
     "end_time": "2025-06-26T11:24:41.764348",
     "exception": false,
     "start_time": "2025-06-26T11:24:41.745843",
     "status": "completed"
    },
    "tags": []
   },
   "source": [
    "#### 37. Create a 5x5 matrix with row values ranging from 0 to 4 (★★☆)"
   ]
  },
  {
   "cell_type": "code",
   "execution_count": null,
   "id": "72bdff41",
   "metadata": {
    "papermill": {
     "duration": 0.018361,
     "end_time": "2025-06-26T11:24:41.801300",
     "exception": false,
     "start_time": "2025-06-26T11:24:41.782939",
     "status": "completed"
    },
    "tags": []
   },
   "outputs": [],
   "source": []
  },
  {
   "cell_type": "markdown",
   "id": "902100db",
   "metadata": {
    "papermill": {
     "duration": 0.018486,
     "end_time": "2025-06-26T11:24:41.838450",
     "exception": false,
     "start_time": "2025-06-26T11:24:41.819964",
     "status": "completed"
    },
    "tags": []
   },
   "source": [
    "#### 38. Consider a generator function that generates 10 integers and use it to build an array (★☆☆)"
   ]
  },
  {
   "cell_type": "code",
   "execution_count": null,
   "id": "9aed5b2b",
   "metadata": {
    "papermill": {
     "duration": 0.018415,
     "end_time": "2025-06-26T11:24:41.875320",
     "exception": false,
     "start_time": "2025-06-26T11:24:41.856905",
     "status": "completed"
    },
    "tags": []
   },
   "outputs": [],
   "source": []
  },
  {
   "cell_type": "markdown",
   "id": "810b5b00",
   "metadata": {
    "papermill": {
     "duration": 0.018509,
     "end_time": "2025-06-26T11:24:41.913724",
     "exception": false,
     "start_time": "2025-06-26T11:24:41.895215",
     "status": "completed"
    },
    "tags": []
   },
   "source": [
    "#### 39. Create a vector of size 10 with values ranging from 0 to 1, both excluded (★★☆)"
   ]
  },
  {
   "cell_type": "code",
   "execution_count": null,
   "id": "db161ca4",
   "metadata": {
    "papermill": {
     "duration": 0.019276,
     "end_time": "2025-06-26T11:24:41.951459",
     "exception": false,
     "start_time": "2025-06-26T11:24:41.932183",
     "status": "completed"
    },
    "tags": []
   },
   "outputs": [],
   "source": []
  },
  {
   "cell_type": "markdown",
   "id": "a811400f",
   "metadata": {
    "papermill": {
     "duration": 0.018344,
     "end_time": "2025-06-26T11:24:41.988250",
     "exception": false,
     "start_time": "2025-06-26T11:24:41.969906",
     "status": "completed"
    },
    "tags": []
   },
   "source": [
    "#### 40. Create a random vector of size 10 and sort it (★★☆)"
   ]
  },
  {
   "cell_type": "code",
   "execution_count": null,
   "id": "3a00284a",
   "metadata": {
    "papermill": {
     "duration": 0.018522,
     "end_time": "2025-06-26T11:24:42.025315",
     "exception": false,
     "start_time": "2025-06-26T11:24:42.006793",
     "status": "completed"
    },
    "tags": []
   },
   "outputs": [],
   "source": []
  },
  {
   "cell_type": "markdown",
   "id": "19f3bbbc",
   "metadata": {
    "papermill": {
     "duration": 0.018389,
     "end_time": "2025-06-26T11:24:42.062289",
     "exception": false,
     "start_time": "2025-06-26T11:24:42.043900",
     "status": "completed"
    },
    "tags": []
   },
   "source": [
    "#### 41. How to sum a small array faster than np.sum (★★☆)"
   ]
  },
  {
   "cell_type": "code",
   "execution_count": null,
   "id": "40d4cfb1",
   "metadata": {
    "papermill": {
     "duration": 0.018241,
     "end_time": "2025-06-26T11:24:42.098940",
     "exception": false,
     "start_time": "2025-06-26T11:24:42.080699",
     "status": "completed"
    },
    "tags": []
   },
   "outputs": [],
   "source": []
  },
  {
   "cell_type": "markdown",
   "id": "765d9805",
   "metadata": {
    "papermill": {
     "duration": 0.018222,
     "end_time": "2025-06-26T11:24:42.135812",
     "exception": false,
     "start_time": "2025-06-26T11:24:42.117590",
     "status": "completed"
    },
    "tags": []
   },
   "source": [
    "#### 42. Consider two random arrays A and B, check if they are equal (★★☆)"
   ]
  },
  {
   "cell_type": "code",
   "execution_count": null,
   "id": "addf17ef",
   "metadata": {
    "papermill": {
     "duration": 0.018413,
     "end_time": "2025-06-26T11:24:42.172662",
     "exception": false,
     "start_time": "2025-06-26T11:24:42.154249",
     "status": "completed"
    },
    "tags": []
   },
   "outputs": [],
   "source": []
  },
  {
   "cell_type": "markdown",
   "id": "acf17e2d",
   "metadata": {
    "papermill": {
     "duration": 0.018255,
     "end_time": "2025-06-26T11:24:42.209408",
     "exception": false,
     "start_time": "2025-06-26T11:24:42.191153",
     "status": "completed"
    },
    "tags": []
   },
   "source": [
    "#### 43. Make an array immutable (read-only) (★★☆)"
   ]
  },
  {
   "cell_type": "code",
   "execution_count": null,
   "id": "2d630c26",
   "metadata": {
    "papermill": {
     "duration": 0.01813,
     "end_time": "2025-06-26T11:24:42.245980",
     "exception": false,
     "start_time": "2025-06-26T11:24:42.227850",
     "status": "completed"
    },
    "tags": []
   },
   "outputs": [],
   "source": []
  },
  {
   "cell_type": "markdown",
   "id": "5c5f55f1",
   "metadata": {
    "papermill": {
     "duration": 0.018316,
     "end_time": "2025-06-26T11:24:42.282730",
     "exception": false,
     "start_time": "2025-06-26T11:24:42.264414",
     "status": "completed"
    },
    "tags": []
   },
   "source": [
    "#### 44. Consider a random 10x2 matrix representing cartesian coordinates, convert them to polar coordinates (★★☆)"
   ]
  },
  {
   "cell_type": "code",
   "execution_count": null,
   "id": "489dfb59",
   "metadata": {
    "papermill": {
     "duration": 0.018277,
     "end_time": "2025-06-26T11:24:42.319472",
     "exception": false,
     "start_time": "2025-06-26T11:24:42.301195",
     "status": "completed"
    },
    "tags": []
   },
   "outputs": [],
   "source": []
  },
  {
   "cell_type": "markdown",
   "id": "c45e7ab0",
   "metadata": {
    "papermill": {
     "duration": 0.018465,
     "end_time": "2025-06-26T11:24:42.356365",
     "exception": false,
     "start_time": "2025-06-26T11:24:42.337900",
     "status": "completed"
    },
    "tags": []
   },
   "source": [
    "#### 45. Create random vector of size 10 and replace the maximum value by 0 (★★☆)"
   ]
  },
  {
   "cell_type": "code",
   "execution_count": null,
   "id": "b909b382",
   "metadata": {
    "papermill": {
     "duration": 0.01849,
     "end_time": "2025-06-26T11:24:42.393317",
     "exception": false,
     "start_time": "2025-06-26T11:24:42.374827",
     "status": "completed"
    },
    "tags": []
   },
   "outputs": [],
   "source": []
  },
  {
   "cell_type": "markdown",
   "id": "dd8dda69",
   "metadata": {
    "papermill": {
     "duration": 0.018807,
     "end_time": "2025-06-26T11:24:42.430518",
     "exception": false,
     "start_time": "2025-06-26T11:24:42.411711",
     "status": "completed"
    },
    "tags": []
   },
   "source": [
    "#### 46. Create a structured array with `x` and `y` coordinates covering the [0,1]x[0,1] area (★★☆)"
   ]
  },
  {
   "cell_type": "code",
   "execution_count": null,
   "id": "79e54c6a",
   "metadata": {
    "papermill": {
     "duration": 0.018402,
     "end_time": "2025-06-26T11:24:42.467586",
     "exception": false,
     "start_time": "2025-06-26T11:24:42.449184",
     "status": "completed"
    },
    "tags": []
   },
   "outputs": [],
   "source": []
  },
  {
   "cell_type": "markdown",
   "id": "58772b47",
   "metadata": {
    "papermill": {
     "duration": 0.018315,
     "end_time": "2025-06-26T11:24:42.504522",
     "exception": false,
     "start_time": "2025-06-26T11:24:42.486207",
     "status": "completed"
    },
    "tags": []
   },
   "source": [
    "#### 47. Given two arrays, X and Y, construct the Cauchy matrix C (Cij =1/(xi - yj)) (★★☆)"
   ]
  },
  {
   "cell_type": "code",
   "execution_count": null,
   "id": "517a58a9",
   "metadata": {
    "papermill": {
     "duration": 0.018235,
     "end_time": "2025-06-26T11:24:42.541184",
     "exception": false,
     "start_time": "2025-06-26T11:24:42.522949",
     "status": "completed"
    },
    "tags": []
   },
   "outputs": [],
   "source": []
  },
  {
   "cell_type": "markdown",
   "id": "f8993f9d",
   "metadata": {
    "papermill": {
     "duration": 0.01831,
     "end_time": "2025-06-26T11:24:42.578412",
     "exception": false,
     "start_time": "2025-06-26T11:24:42.560102",
     "status": "completed"
    },
    "tags": []
   },
   "source": [
    "#### 48. Print the minimum and maximum representable values for each numpy scalar type (★★☆)"
   ]
  },
  {
   "cell_type": "code",
   "execution_count": null,
   "id": "c0b2eb70",
   "metadata": {
    "papermill": {
     "duration": 0.018383,
     "end_time": "2025-06-26T11:24:42.615302",
     "exception": false,
     "start_time": "2025-06-26T11:24:42.596919",
     "status": "completed"
    },
    "tags": []
   },
   "outputs": [],
   "source": []
  },
  {
   "cell_type": "markdown",
   "id": "1de6ecc7",
   "metadata": {
    "papermill": {
     "duration": 0.018335,
     "end_time": "2025-06-26T11:24:42.652436",
     "exception": false,
     "start_time": "2025-06-26T11:24:42.634101",
     "status": "completed"
    },
    "tags": []
   },
   "source": [
    "#### 49. How to print all the values of an array (★★☆)"
   ]
  },
  {
   "cell_type": "code",
   "execution_count": null,
   "id": "cd9638e3",
   "metadata": {
    "papermill": {
     "duration": 0.018365,
     "end_time": "2025-06-26T11:24:42.689185",
     "exception": false,
     "start_time": "2025-06-26T11:24:42.670820",
     "status": "completed"
    },
    "tags": []
   },
   "outputs": [],
   "source": []
  },
  {
   "cell_type": "markdown",
   "id": "0f393626",
   "metadata": {
    "papermill": {
     "duration": 0.018342,
     "end_time": "2025-06-26T11:24:42.726029",
     "exception": false,
     "start_time": "2025-06-26T11:24:42.707687",
     "status": "completed"
    },
    "tags": []
   },
   "source": [
    "#### 50. How to find the closest value (to a given scalar) in a vector (★★☆)"
   ]
  },
  {
   "cell_type": "code",
   "execution_count": null,
   "id": "29ef36dd",
   "metadata": {
    "papermill": {
     "duration": 0.018279,
     "end_time": "2025-06-26T11:24:42.762720",
     "exception": false,
     "start_time": "2025-06-26T11:24:42.744441",
     "status": "completed"
    },
    "tags": []
   },
   "outputs": [],
   "source": []
  },
  {
   "cell_type": "markdown",
   "id": "36fa5127",
   "metadata": {
    "papermill": {
     "duration": 0.018592,
     "end_time": "2025-06-26T11:24:42.799735",
     "exception": false,
     "start_time": "2025-06-26T11:24:42.781143",
     "status": "completed"
    },
    "tags": []
   },
   "source": [
    "#### 51. Create a structured array representing a position (x,y) and a color (r,g,b) (★★☆)"
   ]
  },
  {
   "cell_type": "code",
   "execution_count": null,
   "id": "df7f3427",
   "metadata": {
    "papermill": {
     "duration": 0.018378,
     "end_time": "2025-06-26T11:24:42.836586",
     "exception": false,
     "start_time": "2025-06-26T11:24:42.818208",
     "status": "completed"
    },
    "tags": []
   },
   "outputs": [],
   "source": []
  },
  {
   "cell_type": "markdown",
   "id": "70a4763b",
   "metadata": {
    "papermill": {
     "duration": 0.018343,
     "end_time": "2025-06-26T11:24:42.873338",
     "exception": false,
     "start_time": "2025-06-26T11:24:42.854995",
     "status": "completed"
    },
    "tags": []
   },
   "source": [
    "#### 52. Consider a random vector with shape (100,2) representing coordinates, find point by point distances (★★☆)"
   ]
  },
  {
   "cell_type": "code",
   "execution_count": null,
   "id": "a54f3af4",
   "metadata": {
    "papermill": {
     "duration": 0.018501,
     "end_time": "2025-06-26T11:24:42.911477",
     "exception": false,
     "start_time": "2025-06-26T11:24:42.892976",
     "status": "completed"
    },
    "tags": []
   },
   "outputs": [],
   "source": []
  },
  {
   "cell_type": "markdown",
   "id": "b19f451e",
   "metadata": {
    "papermill": {
     "duration": 0.01886,
     "end_time": "2025-06-26T11:24:42.948828",
     "exception": false,
     "start_time": "2025-06-26T11:24:42.929968",
     "status": "completed"
    },
    "tags": []
   },
   "source": [
    "#### 53. How to convert a float (32 bits) array into an integer (32 bits) array in place"
   ]
  },
  {
   "cell_type": "code",
   "execution_count": null,
   "id": "699d7181",
   "metadata": {
    "papermill": {
     "duration": 0.018653,
     "end_time": "2025-06-26T11:24:42.986011",
     "exception": false,
     "start_time": "2025-06-26T11:24:42.967358",
     "status": "completed"
    },
    "tags": []
   },
   "outputs": [],
   "source": []
  },
  {
   "cell_type": "markdown",
   "id": "46437174",
   "metadata": {
    "papermill": {
     "duration": 0.018686,
     "end_time": "2025-06-26T11:24:43.023264",
     "exception": false,
     "start_time": "2025-06-26T11:24:43.004578",
     "status": "completed"
    },
    "tags": []
   },
   "source": [
    "#### 54. How to read the following file (★★☆)\n",
    "```\n",
    "1, 2, 3, 4, 5\n",
    "6,  ,  , 7, 8\n",
    " ,  , 9,10,11\n",
    "```"
   ]
  },
  {
   "cell_type": "code",
   "execution_count": null,
   "id": "ebcac37f",
   "metadata": {
    "papermill": {
     "duration": 0.018631,
     "end_time": "2025-06-26T11:24:43.060639",
     "exception": false,
     "start_time": "2025-06-26T11:24:43.042008",
     "status": "completed"
    },
    "tags": []
   },
   "outputs": [],
   "source": []
  },
  {
   "cell_type": "markdown",
   "id": "fe901060",
   "metadata": {
    "papermill": {
     "duration": 0.018763,
     "end_time": "2025-06-26T11:24:43.098184",
     "exception": false,
     "start_time": "2025-06-26T11:24:43.079421",
     "status": "completed"
    },
    "tags": []
   },
   "source": [
    "#### 55. What is the equivalent of enumerate for numpy arrays (★★☆)"
   ]
  },
  {
   "cell_type": "code",
   "execution_count": null,
   "id": "6c404d27",
   "metadata": {
    "papermill": {
     "duration": 0.018464,
     "end_time": "2025-06-26T11:24:43.135250",
     "exception": false,
     "start_time": "2025-06-26T11:24:43.116786",
     "status": "completed"
    },
    "tags": []
   },
   "outputs": [],
   "source": []
  },
  {
   "cell_type": "markdown",
   "id": "dbe20e09",
   "metadata": {
    "papermill": {
     "duration": 0.018419,
     "end_time": "2025-06-26T11:24:43.172325",
     "exception": false,
     "start_time": "2025-06-26T11:24:43.153906",
     "status": "completed"
    },
    "tags": []
   },
   "source": [
    "#### 56. Generate a generic 2D Gaussian-like array (★★☆)"
   ]
  },
  {
   "cell_type": "code",
   "execution_count": null,
   "id": "5102f2a3",
   "metadata": {
    "papermill": {
     "duration": 0.018753,
     "end_time": "2025-06-26T11:24:43.209682",
     "exception": false,
     "start_time": "2025-06-26T11:24:43.190929",
     "status": "completed"
    },
    "tags": []
   },
   "outputs": [],
   "source": []
  },
  {
   "cell_type": "markdown",
   "id": "7a26ecb3",
   "metadata": {
    "papermill": {
     "duration": 0.018728,
     "end_time": "2025-06-26T11:24:43.246914",
     "exception": false,
     "start_time": "2025-06-26T11:24:43.228186",
     "status": "completed"
    },
    "tags": []
   },
   "source": [
    "#### 57. How to randomly place p elements in a 2D array (★★☆)"
   ]
  },
  {
   "cell_type": "code",
   "execution_count": null,
   "id": "1890b31e",
   "metadata": {
    "papermill": {
     "duration": 0.01873,
     "end_time": "2025-06-26T11:24:43.284488",
     "exception": false,
     "start_time": "2025-06-26T11:24:43.265758",
     "status": "completed"
    },
    "tags": []
   },
   "outputs": [],
   "source": []
  },
  {
   "cell_type": "markdown",
   "id": "b3310816",
   "metadata": {
    "papermill": {
     "duration": 0.01847,
     "end_time": "2025-06-26T11:24:43.321844",
     "exception": false,
     "start_time": "2025-06-26T11:24:43.303374",
     "status": "completed"
    },
    "tags": []
   },
   "source": [
    "#### 58. Subtract the mean of each row of a matrix (★★☆)"
   ]
  },
  {
   "cell_type": "code",
   "execution_count": null,
   "id": "1d5d0bd1",
   "metadata": {
    "papermill": {
     "duration": 0.018512,
     "end_time": "2025-06-26T11:24:43.359000",
     "exception": false,
     "start_time": "2025-06-26T11:24:43.340488",
     "status": "completed"
    },
    "tags": []
   },
   "outputs": [],
   "source": []
  },
  {
   "cell_type": "markdown",
   "id": "bdc6b19a",
   "metadata": {
    "papermill": {
     "duration": 0.018478,
     "end_time": "2025-06-26T11:24:43.395976",
     "exception": false,
     "start_time": "2025-06-26T11:24:43.377498",
     "status": "completed"
    },
    "tags": []
   },
   "source": [
    "#### 59. How to sort an array by the nth column (★★☆)"
   ]
  },
  {
   "cell_type": "code",
   "execution_count": null,
   "id": "6d7e3678",
   "metadata": {
    "papermill": {
     "duration": 0.018851,
     "end_time": "2025-06-26T11:24:43.433387",
     "exception": false,
     "start_time": "2025-06-26T11:24:43.414536",
     "status": "completed"
    },
    "tags": []
   },
   "outputs": [],
   "source": []
  },
  {
   "cell_type": "markdown",
   "id": "788b0229",
   "metadata": {
    "papermill": {
     "duration": 0.018634,
     "end_time": "2025-06-26T11:24:43.470769",
     "exception": false,
     "start_time": "2025-06-26T11:24:43.452135",
     "status": "completed"
    },
    "tags": []
   },
   "source": [
    "#### 60. How to tell if a given 2D array has null columns (★★☆)"
   ]
  },
  {
   "cell_type": "code",
   "execution_count": null,
   "id": "e0093c7d",
   "metadata": {
    "papermill": {
     "duration": 0.018411,
     "end_time": "2025-06-26T11:24:43.507866",
     "exception": false,
     "start_time": "2025-06-26T11:24:43.489455",
     "status": "completed"
    },
    "tags": []
   },
   "outputs": [],
   "source": []
  },
  {
   "cell_type": "markdown",
   "id": "b32c1a10",
   "metadata": {
    "papermill": {
     "duration": 0.018914,
     "end_time": "2025-06-26T11:24:43.545344",
     "exception": false,
     "start_time": "2025-06-26T11:24:43.526430",
     "status": "completed"
    },
    "tags": []
   },
   "source": [
    "#### 61. Find the nearest value from a given value in an array (★★☆)"
   ]
  },
  {
   "cell_type": "code",
   "execution_count": null,
   "id": "83784b0b",
   "metadata": {
    "papermill": {
     "duration": 0.018377,
     "end_time": "2025-06-26T11:24:43.582392",
     "exception": false,
     "start_time": "2025-06-26T11:24:43.564015",
     "status": "completed"
    },
    "tags": []
   },
   "outputs": [],
   "source": []
  },
  {
   "cell_type": "markdown",
   "id": "0636bd0c",
   "metadata": {
    "papermill": {
     "duration": 0.018653,
     "end_time": "2025-06-26T11:24:43.619857",
     "exception": false,
     "start_time": "2025-06-26T11:24:43.601204",
     "status": "completed"
    },
    "tags": []
   },
   "source": [
    "#### 62. Considering two arrays with shape (1,3) and (3,1), how to compute their sum using an iterator (★★☆)"
   ]
  },
  {
   "cell_type": "code",
   "execution_count": null,
   "id": "f96701ec",
   "metadata": {
    "papermill": {
     "duration": 0.018433,
     "end_time": "2025-06-26T11:24:43.656852",
     "exception": false,
     "start_time": "2025-06-26T11:24:43.638419",
     "status": "completed"
    },
    "tags": []
   },
   "outputs": [],
   "source": []
  },
  {
   "cell_type": "markdown",
   "id": "7c36c0ff",
   "metadata": {
    "papermill": {
     "duration": 0.018714,
     "end_time": "2025-06-26T11:24:43.737507",
     "exception": false,
     "start_time": "2025-06-26T11:24:43.718793",
     "status": "completed"
    },
    "tags": []
   },
   "source": [
    "#### 63. Create an array class that has a name attribute (★★☆)"
   ]
  },
  {
   "cell_type": "code",
   "execution_count": null,
   "id": "d9c776e5",
   "metadata": {
    "papermill": {
     "duration": 0.01886,
     "end_time": "2025-06-26T11:24:43.775028",
     "exception": false,
     "start_time": "2025-06-26T11:24:43.756168",
     "status": "completed"
    },
    "tags": []
   },
   "outputs": [],
   "source": []
  },
  {
   "cell_type": "markdown",
   "id": "951fac05",
   "metadata": {
    "papermill": {
     "duration": 0.020598,
     "end_time": "2025-06-26T11:24:43.814396",
     "exception": false,
     "start_time": "2025-06-26T11:24:43.793798",
     "status": "completed"
    },
    "tags": []
   },
   "source": [
    "#### 64. Consider a given vector, how to add 1 to each element indexed by a second vector (be careful with repeated indices) (★★★)"
   ]
  },
  {
   "cell_type": "code",
   "execution_count": null,
   "id": "7b0bbcc2",
   "metadata": {
    "papermill": {
     "duration": 0.01844,
     "end_time": "2025-06-26T11:24:43.852068",
     "exception": false,
     "start_time": "2025-06-26T11:24:43.833628",
     "status": "completed"
    },
    "tags": []
   },
   "outputs": [],
   "source": []
  },
  {
   "cell_type": "markdown",
   "id": "a57ea342",
   "metadata": {
    "papermill": {
     "duration": 0.018753,
     "end_time": "2025-06-26T11:24:43.889463",
     "exception": false,
     "start_time": "2025-06-26T11:24:43.870710",
     "status": "completed"
    },
    "tags": []
   },
   "source": [
    "#### 65. How to accumulate elements of a vector (X) to an array (F) based on an index list (I) (★★★)"
   ]
  },
  {
   "cell_type": "code",
   "execution_count": null,
   "id": "34fb8998",
   "metadata": {
    "papermill": {
     "duration": 0.018617,
     "end_time": "2025-06-26T11:24:43.927305",
     "exception": false,
     "start_time": "2025-06-26T11:24:43.908688",
     "status": "completed"
    },
    "tags": []
   },
   "outputs": [],
   "source": []
  },
  {
   "cell_type": "markdown",
   "id": "4b83dd0d",
   "metadata": {
    "papermill": {
     "duration": 0.019178,
     "end_time": "2025-06-26T11:24:43.965080",
     "exception": false,
     "start_time": "2025-06-26T11:24:43.945902",
     "status": "completed"
    },
    "tags": []
   },
   "source": [
    "#### 66. Considering a (w,h,3) image of (dtype=ubyte), compute the number of unique colors (★★☆)"
   ]
  },
  {
   "cell_type": "code",
   "execution_count": null,
   "id": "981a593f",
   "metadata": {
    "papermill": {
     "duration": 0.018639,
     "end_time": "2025-06-26T11:24:44.002335",
     "exception": false,
     "start_time": "2025-06-26T11:24:43.983696",
     "status": "completed"
    },
    "tags": []
   },
   "outputs": [],
   "source": []
  },
  {
   "cell_type": "markdown",
   "id": "31798a94",
   "metadata": {
    "papermill": {
     "duration": 0.018595,
     "end_time": "2025-06-26T11:24:44.039657",
     "exception": false,
     "start_time": "2025-06-26T11:24:44.021062",
     "status": "completed"
    },
    "tags": []
   },
   "source": [
    "#### 67. Considering a four dimensions array, how to get sum over the last two axis at once (★★★)"
   ]
  },
  {
   "cell_type": "code",
   "execution_count": null,
   "id": "40ef98f1",
   "metadata": {
    "papermill": {
     "duration": 0.018526,
     "end_time": "2025-06-26T11:24:44.076944",
     "exception": false,
     "start_time": "2025-06-26T11:24:44.058418",
     "status": "completed"
    },
    "tags": []
   },
   "outputs": [],
   "source": []
  },
  {
   "cell_type": "markdown",
   "id": "745e58e6",
   "metadata": {
    "papermill": {
     "duration": 0.018414,
     "end_time": "2025-06-26T11:24:44.114104",
     "exception": false,
     "start_time": "2025-06-26T11:24:44.095690",
     "status": "completed"
    },
    "tags": []
   },
   "source": [
    "#### 68. Considering a one-dimensional vector D, how to compute means of subsets of D using a vector S of same size describing subset  indices (★★★)"
   ]
  },
  {
   "cell_type": "code",
   "execution_count": null,
   "id": "ec3b8ace",
   "metadata": {
    "papermill": {
     "duration": 0.019006,
     "end_time": "2025-06-26T11:24:44.152279",
     "exception": false,
     "start_time": "2025-06-26T11:24:44.133273",
     "status": "completed"
    },
    "tags": []
   },
   "outputs": [],
   "source": []
  },
  {
   "cell_type": "markdown",
   "id": "e62dc066",
   "metadata": {
    "papermill": {
     "duration": 0.018504,
     "end_time": "2025-06-26T11:24:44.189443",
     "exception": false,
     "start_time": "2025-06-26T11:24:44.170939",
     "status": "completed"
    },
    "tags": []
   },
   "source": [
    "#### 69. How to get the diagonal of a dot product (★★★)"
   ]
  },
  {
   "cell_type": "code",
   "execution_count": null,
   "id": "9c478c13",
   "metadata": {
    "papermill": {
     "duration": 0.018441,
     "end_time": "2025-06-26T11:24:44.226413",
     "exception": false,
     "start_time": "2025-06-26T11:24:44.207972",
     "status": "completed"
    },
    "tags": []
   },
   "outputs": [],
   "source": []
  },
  {
   "cell_type": "markdown",
   "id": "f8831913",
   "metadata": {
    "papermill": {
     "duration": 0.018582,
     "end_time": "2025-06-26T11:24:44.263485",
     "exception": false,
     "start_time": "2025-06-26T11:24:44.244903",
     "status": "completed"
    },
    "tags": []
   },
   "source": [
    "#### 70. Consider the vector [1, 2, 3, 4, 5], how to build a new vector with 3 consecutive zeros interleaved between each value (★★★)"
   ]
  },
  {
   "cell_type": "code",
   "execution_count": null,
   "id": "74072699",
   "metadata": {
    "papermill": {
     "duration": 0.018599,
     "end_time": "2025-06-26T11:24:44.300945",
     "exception": false,
     "start_time": "2025-06-26T11:24:44.282346",
     "status": "completed"
    },
    "tags": []
   },
   "outputs": [],
   "source": []
  },
  {
   "cell_type": "markdown",
   "id": "455e24e7",
   "metadata": {
    "papermill": {
     "duration": 0.01847,
     "end_time": "2025-06-26T11:24:44.337959",
     "exception": false,
     "start_time": "2025-06-26T11:24:44.319489",
     "status": "completed"
    },
    "tags": []
   },
   "source": [
    "#### 71. Consider an array of dimension (5,5,3), how to multiply it by an array with dimensions (5,5) (★★★)"
   ]
  },
  {
   "cell_type": "code",
   "execution_count": null,
   "id": "0eca4aab",
   "metadata": {
    "papermill": {
     "duration": 0.018468,
     "end_time": "2025-06-26T11:24:44.374953",
     "exception": false,
     "start_time": "2025-06-26T11:24:44.356485",
     "status": "completed"
    },
    "tags": []
   },
   "outputs": [],
   "source": []
  },
  {
   "cell_type": "markdown",
   "id": "7cb233d9",
   "metadata": {
    "papermill": {
     "duration": 0.018368,
     "end_time": "2025-06-26T11:24:44.411885",
     "exception": false,
     "start_time": "2025-06-26T11:24:44.393517",
     "status": "completed"
    },
    "tags": []
   },
   "source": [
    "#### 72. How to swap two rows of an array (★★★)"
   ]
  },
  {
   "cell_type": "code",
   "execution_count": null,
   "id": "885402ee",
   "metadata": {
    "papermill": {
     "duration": 0.018651,
     "end_time": "2025-06-26T11:24:44.449404",
     "exception": false,
     "start_time": "2025-06-26T11:24:44.430753",
     "status": "completed"
    },
    "tags": []
   },
   "outputs": [],
   "source": []
  },
  {
   "cell_type": "markdown",
   "id": "64679a66",
   "metadata": {
    "papermill": {
     "duration": 0.01861,
     "end_time": "2025-06-26T11:24:44.486692",
     "exception": false,
     "start_time": "2025-06-26T11:24:44.468082",
     "status": "completed"
    },
    "tags": []
   },
   "source": [
    "#### 73. Consider a set of 10 triplets describing 10 triangles (with shared vertices), find the set of unique line segments composing all the  triangles (★★★)"
   ]
  },
  {
   "cell_type": "code",
   "execution_count": null,
   "id": "fcef9b93",
   "metadata": {
    "papermill": {
     "duration": 0.018637,
     "end_time": "2025-06-26T11:24:44.523952",
     "exception": false,
     "start_time": "2025-06-26T11:24:44.505315",
     "status": "completed"
    },
    "tags": []
   },
   "outputs": [],
   "source": []
  },
  {
   "cell_type": "markdown",
   "id": "6f71046e",
   "metadata": {
    "papermill": {
     "duration": 0.018571,
     "end_time": "2025-06-26T11:24:44.561048",
     "exception": false,
     "start_time": "2025-06-26T11:24:44.542477",
     "status": "completed"
    },
    "tags": []
   },
   "source": [
    "#### 74. Given a sorted array C that corresponds to a bincount, how to produce an array A such that np.bincount(A) == C (★★★)"
   ]
  },
  {
   "cell_type": "code",
   "execution_count": null,
   "id": "c71471d8",
   "metadata": {
    "papermill": {
     "duration": 0.01847,
     "end_time": "2025-06-26T11:24:44.598040",
     "exception": false,
     "start_time": "2025-06-26T11:24:44.579570",
     "status": "completed"
    },
    "tags": []
   },
   "outputs": [],
   "source": []
  },
  {
   "cell_type": "markdown",
   "id": "f2c9491c",
   "metadata": {
    "papermill": {
     "duration": 0.018459,
     "end_time": "2025-06-26T11:24:44.635023",
     "exception": false,
     "start_time": "2025-06-26T11:24:44.616564",
     "status": "completed"
    },
    "tags": []
   },
   "source": [
    "#### 75. How to compute averages using a sliding window over an array (★★★)"
   ]
  },
  {
   "cell_type": "code",
   "execution_count": null,
   "id": "9a62ff2f",
   "metadata": {
    "papermill": {
     "duration": 0.0189,
     "end_time": "2025-06-26T11:24:44.672732",
     "exception": false,
     "start_time": "2025-06-26T11:24:44.653832",
     "status": "completed"
    },
    "tags": []
   },
   "outputs": [],
   "source": []
  },
  {
   "cell_type": "markdown",
   "id": "6fe32210",
   "metadata": {
    "papermill": {
     "duration": 0.01852,
     "end_time": "2025-06-26T11:24:44.710031",
     "exception": false,
     "start_time": "2025-06-26T11:24:44.691511",
     "status": "completed"
    },
    "tags": []
   },
   "source": [
    "#### 76. Consider a one-dimensional array Z, build a two-dimensional array whose first row is (Z[0],Z[1],Z[2]) and each subsequent row is  shifted by 1 (last row should be (Z[-3],Z[-2],Z[-1]) (★★★)"
   ]
  },
  {
   "cell_type": "code",
   "execution_count": null,
   "id": "fc796835",
   "metadata": {
    "papermill": {
     "duration": 0.01844,
     "end_time": "2025-06-26T11:24:44.747088",
     "exception": false,
     "start_time": "2025-06-26T11:24:44.728648",
     "status": "completed"
    },
    "tags": []
   },
   "outputs": [],
   "source": []
  },
  {
   "cell_type": "markdown",
   "id": "fea08c5c",
   "metadata": {
    "papermill": {
     "duration": 0.018557,
     "end_time": "2025-06-26T11:24:44.784555",
     "exception": false,
     "start_time": "2025-06-26T11:24:44.765998",
     "status": "completed"
    },
    "tags": []
   },
   "source": [
    "#### 77. How to negate a boolean, or to change the sign of a float inplace (★★★)"
   ]
  },
  {
   "cell_type": "code",
   "execution_count": null,
   "id": "625fbc12",
   "metadata": {
    "papermill": {
     "duration": 0.0185,
     "end_time": "2025-06-26T11:24:44.821599",
     "exception": false,
     "start_time": "2025-06-26T11:24:44.803099",
     "status": "completed"
    },
    "tags": []
   },
   "outputs": [],
   "source": []
  },
  {
   "cell_type": "markdown",
   "id": "6f1e2bef",
   "metadata": {
    "papermill": {
     "duration": 0.018576,
     "end_time": "2025-06-26T11:24:44.858728",
     "exception": false,
     "start_time": "2025-06-26T11:24:44.840152",
     "status": "completed"
    },
    "tags": []
   },
   "source": [
    "#### 78. Consider 2 sets of points P0,P1 describing lines (2d) and a point p, how to compute distance from p to each line i (P0[i],P1[i]) (★★★)"
   ]
  },
  {
   "cell_type": "code",
   "execution_count": null,
   "id": "b22c5f5e",
   "metadata": {
    "papermill": {
     "duration": 0.020062,
     "end_time": "2025-06-26T11:24:44.897379",
     "exception": false,
     "start_time": "2025-06-26T11:24:44.877317",
     "status": "completed"
    },
    "tags": []
   },
   "outputs": [],
   "source": []
  },
  {
   "cell_type": "markdown",
   "id": "18f173e4",
   "metadata": {
    "papermill": {
     "duration": 0.018476,
     "end_time": "2025-06-26T11:24:44.934671",
     "exception": false,
     "start_time": "2025-06-26T11:24:44.916195",
     "status": "completed"
    },
    "tags": []
   },
   "source": [
    "#### 79. Consider 2 sets of points P0,P1 describing lines (2d) and a set of points P, how to compute distance from each point j (P[j]) to each line i (P0[i],P1[i]) (★★★)"
   ]
  },
  {
   "cell_type": "code",
   "execution_count": null,
   "id": "f9237e53",
   "metadata": {
    "papermill": {
     "duration": 0.018946,
     "end_time": "2025-06-26T11:24:44.972426",
     "exception": false,
     "start_time": "2025-06-26T11:24:44.953480",
     "status": "completed"
    },
    "tags": []
   },
   "outputs": [],
   "source": []
  },
  {
   "cell_type": "markdown",
   "id": "777d42aa",
   "metadata": {
    "papermill": {
     "duration": 0.01863,
     "end_time": "2025-06-26T11:24:45.009734",
     "exception": false,
     "start_time": "2025-06-26T11:24:44.991104",
     "status": "completed"
    },
    "tags": []
   },
   "source": [
    "#### 80. Consider an arbitrary array, write a function that extracts a subpart with a fixed shape and centered on a given element (pad with a `fill` value when necessary) (★★★)"
   ]
  },
  {
   "cell_type": "code",
   "execution_count": null,
   "id": "c8c0a2aa",
   "metadata": {
    "papermill": {
     "duration": 0.018718,
     "end_time": "2025-06-26T11:24:45.047105",
     "exception": false,
     "start_time": "2025-06-26T11:24:45.028387",
     "status": "completed"
    },
    "tags": []
   },
   "outputs": [],
   "source": []
  },
  {
   "cell_type": "markdown",
   "id": "d0b6edf0",
   "metadata": {
    "papermill": {
     "duration": 0.018786,
     "end_time": "2025-06-26T11:24:45.084464",
     "exception": false,
     "start_time": "2025-06-26T11:24:45.065678",
     "status": "completed"
    },
    "tags": []
   },
   "source": [
    "#### 81. Consider an array Z = [1,2,3,4,5,6,7,8,9,10,11,12,13,14], how to generate an array R = [[1,2,3,4], [2,3,4,5], [3,4,5,6], ..., [11,12,13,14]] (★★★)"
   ]
  },
  {
   "cell_type": "code",
   "execution_count": null,
   "id": "f670da23",
   "metadata": {
    "papermill": {
     "duration": 0.018433,
     "end_time": "2025-06-26T11:24:45.121774",
     "exception": false,
     "start_time": "2025-06-26T11:24:45.103341",
     "status": "completed"
    },
    "tags": []
   },
   "outputs": [],
   "source": []
  },
  {
   "cell_type": "markdown",
   "id": "224f8548",
   "metadata": {
    "papermill": {
     "duration": 0.018475,
     "end_time": "2025-06-26T11:24:45.158843",
     "exception": false,
     "start_time": "2025-06-26T11:24:45.140368",
     "status": "completed"
    },
    "tags": []
   },
   "source": [
    "#### 82. Compute a matrix rank (★★★)"
   ]
  },
  {
   "cell_type": "code",
   "execution_count": null,
   "id": "d6d85318",
   "metadata": {
    "papermill": {
     "duration": 0.018899,
     "end_time": "2025-06-26T11:24:45.196342",
     "exception": false,
     "start_time": "2025-06-26T11:24:45.177443",
     "status": "completed"
    },
    "tags": []
   },
   "outputs": [],
   "source": []
  },
  {
   "cell_type": "markdown",
   "id": "78ec7548",
   "metadata": {
    "papermill": {
     "duration": 0.018606,
     "end_time": "2025-06-26T11:24:45.233635",
     "exception": false,
     "start_time": "2025-06-26T11:24:45.215029",
     "status": "completed"
    },
    "tags": []
   },
   "source": [
    "#### 83. How to find the most frequent value in an array"
   ]
  },
  {
   "cell_type": "code",
   "execution_count": null,
   "id": "199ba48d",
   "metadata": {
    "papermill": {
     "duration": 0.018636,
     "end_time": "2025-06-26T11:24:45.270989",
     "exception": false,
     "start_time": "2025-06-26T11:24:45.252353",
     "status": "completed"
    },
    "tags": []
   },
   "outputs": [],
   "source": []
  },
  {
   "cell_type": "markdown",
   "id": "10228e20",
   "metadata": {
    "papermill": {
     "duration": 0.018516,
     "end_time": "2025-06-26T11:24:45.308130",
     "exception": false,
     "start_time": "2025-06-26T11:24:45.289614",
     "status": "completed"
    },
    "tags": []
   },
   "source": [
    "#### 84. Extract all the contiguous 3x3 blocks from a random 10x10 matrix (★★★)"
   ]
  },
  {
   "cell_type": "code",
   "execution_count": null,
   "id": "af4f8016",
   "metadata": {
    "papermill": {
     "duration": 0.018615,
     "end_time": "2025-06-26T11:24:45.345388",
     "exception": false,
     "start_time": "2025-06-26T11:24:45.326773",
     "status": "completed"
    },
    "tags": []
   },
   "outputs": [],
   "source": []
  },
  {
   "cell_type": "markdown",
   "id": "44451fa7",
   "metadata": {
    "papermill": {
     "duration": 0.01852,
     "end_time": "2025-06-26T11:24:45.382497",
     "exception": false,
     "start_time": "2025-06-26T11:24:45.363977",
     "status": "completed"
    },
    "tags": []
   },
   "source": [
    "#### 85. Create a 2D array subclass such that Z[i,j] == Z[j,i] (★★★)"
   ]
  },
  {
   "cell_type": "code",
   "execution_count": null,
   "id": "6ffa5137",
   "metadata": {
    "papermill": {
     "duration": 0.018564,
     "end_time": "2025-06-26T11:24:45.419749",
     "exception": false,
     "start_time": "2025-06-26T11:24:45.401185",
     "status": "completed"
    },
    "tags": []
   },
   "outputs": [],
   "source": []
  },
  {
   "cell_type": "markdown",
   "id": "4b313bb3",
   "metadata": {
    "papermill": {
     "duration": 0.018799,
     "end_time": "2025-06-26T11:24:45.457197",
     "exception": false,
     "start_time": "2025-06-26T11:24:45.438398",
     "status": "completed"
    },
    "tags": []
   },
   "source": [
    "#### 86. Consider a set of p matrices with shape (n,n) and a set of p vectors with shape (n,1). How to compute the sum of of the p matrix products at once (result has shape (n,1)) (★★★)"
   ]
  },
  {
   "cell_type": "code",
   "execution_count": null,
   "id": "96e611e3",
   "metadata": {
    "papermill": {
     "duration": 0.018652,
     "end_time": "2025-06-26T11:24:45.494719",
     "exception": false,
     "start_time": "2025-06-26T11:24:45.476067",
     "status": "completed"
    },
    "tags": []
   },
   "outputs": [],
   "source": []
  },
  {
   "cell_type": "markdown",
   "id": "4da25e24",
   "metadata": {
    "papermill": {
     "duration": 0.018579,
     "end_time": "2025-06-26T11:24:45.531942",
     "exception": false,
     "start_time": "2025-06-26T11:24:45.513363",
     "status": "completed"
    },
    "tags": []
   },
   "source": [
    "#### 87. Consider a 16x16 array, how to get the block-sum (block size is 4x4) (★★★)"
   ]
  },
  {
   "cell_type": "code",
   "execution_count": null,
   "id": "af1ce251",
   "metadata": {
    "papermill": {
     "duration": 0.018504,
     "end_time": "2025-06-26T11:24:45.569125",
     "exception": false,
     "start_time": "2025-06-26T11:24:45.550621",
     "status": "completed"
    },
    "tags": []
   },
   "outputs": [],
   "source": []
  },
  {
   "cell_type": "markdown",
   "id": "3e1d3632",
   "metadata": {
    "papermill": {
     "duration": 0.018571,
     "end_time": "2025-06-26T11:24:45.606389",
     "exception": false,
     "start_time": "2025-06-26T11:24:45.587818",
     "status": "completed"
    },
    "tags": []
   },
   "source": [
    "#### 88. How to implement the Game of Life using numpy arrays (★★★)"
   ]
  },
  {
   "cell_type": "code",
   "execution_count": null,
   "id": "0137cb2a",
   "metadata": {
    "papermill": {
     "duration": 0.018704,
     "end_time": "2025-06-26T11:24:45.643736",
     "exception": false,
     "start_time": "2025-06-26T11:24:45.625032",
     "status": "completed"
    },
    "tags": []
   },
   "outputs": [],
   "source": []
  },
  {
   "cell_type": "markdown",
   "id": "c95ce5e3",
   "metadata": {
    "papermill": {
     "duration": 0.018616,
     "end_time": "2025-06-26T11:24:45.681004",
     "exception": false,
     "start_time": "2025-06-26T11:24:45.662388",
     "status": "completed"
    },
    "tags": []
   },
   "source": [
    "#### 89. How to get the n largest values of an array (★★★)"
   ]
  },
  {
   "cell_type": "code",
   "execution_count": null,
   "id": "98c27d18",
   "metadata": {
    "papermill": {
     "duration": 0.018583,
     "end_time": "2025-06-26T11:24:45.718199",
     "exception": false,
     "start_time": "2025-06-26T11:24:45.699616",
     "status": "completed"
    },
    "tags": []
   },
   "outputs": [],
   "source": []
  },
  {
   "cell_type": "markdown",
   "id": "dd6ba16d",
   "metadata": {
    "papermill": {
     "duration": 0.018606,
     "end_time": "2025-06-26T11:24:45.755460",
     "exception": false,
     "start_time": "2025-06-26T11:24:45.736854",
     "status": "completed"
    },
    "tags": []
   },
   "source": [
    "#### 90. Given an arbitrary number of vectors, build the cartesian product (every combination of every item) (★★★)"
   ]
  },
  {
   "cell_type": "code",
   "execution_count": null,
   "id": "f8ce361d",
   "metadata": {
    "papermill": {
     "duration": 0.018546,
     "end_time": "2025-06-26T11:24:45.792609",
     "exception": false,
     "start_time": "2025-06-26T11:24:45.774063",
     "status": "completed"
    },
    "tags": []
   },
   "outputs": [],
   "source": []
  },
  {
   "cell_type": "markdown",
   "id": "d4267a09",
   "metadata": {
    "papermill": {
     "duration": 0.018583,
     "end_time": "2025-06-26T11:24:45.829869",
     "exception": false,
     "start_time": "2025-06-26T11:24:45.811286",
     "status": "completed"
    },
    "tags": []
   },
   "source": [
    "#### 91. How to create a record array from a regular array (★★★)"
   ]
  },
  {
   "cell_type": "code",
   "execution_count": null,
   "id": "3c0c01ef",
   "metadata": {
    "papermill": {
     "duration": 0.018555,
     "end_time": "2025-06-26T11:24:45.867075",
     "exception": false,
     "start_time": "2025-06-26T11:24:45.848520",
     "status": "completed"
    },
    "tags": []
   },
   "outputs": [],
   "source": []
  },
  {
   "cell_type": "markdown",
   "id": "b26e5252",
   "metadata": {
    "papermill": {
     "duration": 0.020574,
     "end_time": "2025-06-26T11:24:45.906276",
     "exception": false,
     "start_time": "2025-06-26T11:24:45.885702",
     "status": "completed"
    },
    "tags": []
   },
   "source": [
    "#### 92. Consider a large vector Z, compute Z to the power of 3 using 3 different methods (★★★)"
   ]
  },
  {
   "cell_type": "code",
   "execution_count": null,
   "id": "a65a588d",
   "metadata": {
    "papermill": {
     "duration": 0.018578,
     "end_time": "2025-06-26T11:24:45.943603",
     "exception": false,
     "start_time": "2025-06-26T11:24:45.925025",
     "status": "completed"
    },
    "tags": []
   },
   "outputs": [],
   "source": []
  },
  {
   "cell_type": "markdown",
   "id": "7dce8ce1",
   "metadata": {
    "papermill": {
     "duration": 0.019042,
     "end_time": "2025-06-26T11:24:45.981860",
     "exception": false,
     "start_time": "2025-06-26T11:24:45.962818",
     "status": "completed"
    },
    "tags": []
   },
   "source": [
    "#### 93. Consider two arrays A and B of shape (8,3) and (2,2). How to find rows of A that contain elements of each row of B regardless of the order of the elements in B (★★★)"
   ]
  },
  {
   "cell_type": "code",
   "execution_count": null,
   "id": "8cdb1a06",
   "metadata": {
    "papermill": {
     "duration": 0.018624,
     "end_time": "2025-06-26T11:24:46.019420",
     "exception": false,
     "start_time": "2025-06-26T11:24:46.000796",
     "status": "completed"
    },
    "tags": []
   },
   "outputs": [],
   "source": []
  },
  {
   "cell_type": "markdown",
   "id": "a56a2f24",
   "metadata": {
    "papermill": {
     "duration": 0.018672,
     "end_time": "2025-06-26T11:24:46.056725",
     "exception": false,
     "start_time": "2025-06-26T11:24:46.038053",
     "status": "completed"
    },
    "tags": []
   },
   "source": [
    "#### 94. Considering a 10x3 matrix, extract rows with unequal values (e.g. [2,2,3]) (★★★)"
   ]
  },
  {
   "cell_type": "code",
   "execution_count": null,
   "id": "e548adbb",
   "metadata": {
    "papermill": {
     "duration": 0.01852,
     "end_time": "2025-06-26T11:24:46.093875",
     "exception": false,
     "start_time": "2025-06-26T11:24:46.075355",
     "status": "completed"
    },
    "tags": []
   },
   "outputs": [],
   "source": []
  },
  {
   "cell_type": "markdown",
   "id": "d5d80429",
   "metadata": {
    "papermill": {
     "duration": 0.018654,
     "end_time": "2025-06-26T11:24:46.131199",
     "exception": false,
     "start_time": "2025-06-26T11:24:46.112545",
     "status": "completed"
    },
    "tags": []
   },
   "source": [
    "#### 95. Convert a vector of ints into a matrix binary representation (★★★)"
   ]
  },
  {
   "cell_type": "code",
   "execution_count": null,
   "id": "d3bd6417",
   "metadata": {
    "papermill": {
     "duration": 0.018653,
     "end_time": "2025-06-26T11:24:46.168503",
     "exception": false,
     "start_time": "2025-06-26T11:24:46.149850",
     "status": "completed"
    },
    "tags": []
   },
   "outputs": [],
   "source": []
  },
  {
   "cell_type": "markdown",
   "id": "60db4757",
   "metadata": {
    "papermill": {
     "duration": 0.018572,
     "end_time": "2025-06-26T11:24:46.205736",
     "exception": false,
     "start_time": "2025-06-26T11:24:46.187164",
     "status": "completed"
    },
    "tags": []
   },
   "source": [
    "#### 96. Given a two dimensional array, how to extract unique rows (★★★)"
   ]
  },
  {
   "cell_type": "code",
   "execution_count": null,
   "id": "af597fa0",
   "metadata": {
    "papermill": {
     "duration": 0.018808,
     "end_time": "2025-06-26T11:24:46.243510",
     "exception": false,
     "start_time": "2025-06-26T11:24:46.224702",
     "status": "completed"
    },
    "tags": []
   },
   "outputs": [],
   "source": []
  },
  {
   "cell_type": "markdown",
   "id": "ef807316",
   "metadata": {
    "papermill": {
     "duration": 0.018673,
     "end_time": "2025-06-26T11:24:46.280875",
     "exception": false,
     "start_time": "2025-06-26T11:24:46.262202",
     "status": "completed"
    },
    "tags": []
   },
   "source": [
    "#### 97. Considering 2 vectors A & B, write the einsum equivalent of inner, outer, sum, and mul function (★★★)"
   ]
  },
  {
   "cell_type": "code",
   "execution_count": null,
   "id": "02bcbedb",
   "metadata": {
    "papermill": {
     "duration": 0.018877,
     "end_time": "2025-06-26T11:24:46.318378",
     "exception": false,
     "start_time": "2025-06-26T11:24:46.299501",
     "status": "completed"
    },
    "tags": []
   },
   "outputs": [],
   "source": []
  },
  {
   "cell_type": "markdown",
   "id": "ba6221cc",
   "metadata": {
    "papermill": {
     "duration": 0.018745,
     "end_time": "2025-06-26T11:24:46.355933",
     "exception": false,
     "start_time": "2025-06-26T11:24:46.337188",
     "status": "completed"
    },
    "tags": []
   },
   "source": [
    "#### 98. Considering a path described by two vectors (X,Y), how to sample it using equidistant samples (★★★)"
   ]
  },
  {
   "cell_type": "code",
   "execution_count": null,
   "id": "3e2a2255",
   "metadata": {
    "papermill": {
     "duration": 0.018523,
     "end_time": "2025-06-26T11:24:46.393121",
     "exception": false,
     "start_time": "2025-06-26T11:24:46.374598",
     "status": "completed"
    },
    "tags": []
   },
   "outputs": [],
   "source": []
  },
  {
   "cell_type": "markdown",
   "id": "b90c533a",
   "metadata": {
    "papermill": {
     "duration": 0.018867,
     "end_time": "2025-06-26T11:24:46.430658",
     "exception": false,
     "start_time": "2025-06-26T11:24:46.411791",
     "status": "completed"
    },
    "tags": []
   },
   "source": [
    "#### 99. Given an integer n and a 2D array X, select from X the rows which can be interpreted as draws from a multinomial distribution with n degrees, i.e., the rows which only contain integers and which sum to n. (★★★)"
   ]
  },
  {
   "cell_type": "code",
   "execution_count": null,
   "id": "328a2cc2",
   "metadata": {
    "papermill": {
     "duration": 0.018788,
     "end_time": "2025-06-26T11:24:46.468281",
     "exception": false,
     "start_time": "2025-06-26T11:24:46.449493",
     "status": "completed"
    },
    "tags": []
   },
   "outputs": [],
   "source": []
  },
  {
   "cell_type": "markdown",
   "id": "949a37db",
   "metadata": {
    "papermill": {
     "duration": 0.018568,
     "end_time": "2025-06-26T11:24:46.506217",
     "exception": false,
     "start_time": "2025-06-26T11:24:46.487649",
     "status": "completed"
    },
    "tags": []
   },
   "source": [
    "#### 100. Compute bootstrapped 95% confidence intervals for the mean of a 1D array X (i.e., resample the elements of an array with replacement N times, compute the mean of each sample, and then compute percentiles over the means). (★★★)"
   ]
  },
  {
   "cell_type": "code",
   "execution_count": null,
   "id": "1fb81bb6",
   "metadata": {
    "papermill": {
     "duration": 0.018608,
     "end_time": "2025-06-26T11:24:46.543531",
     "exception": false,
     "start_time": "2025-06-26T11:24:46.524923",
     "status": "completed"
    },
    "tags": []
   },
   "outputs": [],
   "source": []
  }
 ],
 "metadata": {
  "kaggle": {
   "accelerator": "none",
   "dataSources": [],
   "dockerImageVersionId": 31040,
   "isGpuEnabled": false,
   "isInternetEnabled": false,
   "language": "python",
   "sourceType": "notebook"
  },
  "kernelspec": {
   "display_name": "Python 3",
   "language": "python",
   "name": "python3"
  },
  "language_info": {
   "codemirror_mode": {
    "name": "ipython",
    "version": 3
   },
   "file_extension": ".py",
   "mimetype": "text/x-python",
   "name": "python",
   "nbconvert_exporter": "python",
   "pygments_lexer": "ipython3",
   "version": "3.11.11"
  },
  "papermill": {
   "default_parameters": {},
   "duration": 11.978638,
   "end_time": "2025-06-26T11:24:46.779670",
   "environment_variables": {},
   "exception": null,
   "input_path": "__notebook__.ipynb",
   "output_path": "__notebook__.ipynb",
   "parameters": {},
   "start_time": "2025-06-26T11:24:34.801032",
   "version": "2.6.0"
  }
 },
 "nbformat": 4,
 "nbformat_minor": 5
}
