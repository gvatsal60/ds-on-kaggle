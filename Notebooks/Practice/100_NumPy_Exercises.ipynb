{
  "cells": [
    {
      "cell_type": "markdown",
      "id": "c523e18c",
      "metadata": {
        "papermill": {
          "duration": 0.023288,
          "end_time": "2025-06-25T14:25:26.218714",
          "exception": false,
          "start_time": "2025-06-25T14:25:26.195426",
          "status": "completed"
        },
        "tags": []
      },
      "source": [
        "# \ud83c\udfaf 100 NumPy Exercises\n",
        "\n",
        "Welcome to **100 NumPy Exercises** \u2014 a curated collection of problems designed to sharpen your skills in NumPy, whether you're a beginner or a seasoned data wrangler.\n",
        "\n",
        "---\n",
        "\n",
        "\ud83d\udccc **About This Collection**\n",
        "\n",
        "This set of exercises has been gathered from:\n",
        "- The **NumPy mailing list**\n",
        "- **Stack Overflow** discussions\n",
        "- The **official NumPy documentation**\n",
        "\n",
        "The primary goal is to serve as:\n",
        "- \ud83d\udcda A quick reference for both new and experienced users  \n",
        "- \ud83c\udf93 A practical toolkit for educators and learners\n",
        "\n",
        "---\n",
        "\n",
        "\ud83d\udcac **Suggestions or Corrections?**\n",
        "\n",
        "If you find an error or have a better solution, feel free to contribute!  \n",
        "\u27a1\ufe0f Open an issue here: [numpy-100 GitHub Issues](https://github.com/rougier/numpy-100/issues)\n",
        "\n",
        "---\n",
        "\n",
        "\ud83d\udcc4 **Credits and Licensing**\n",
        "\n",
        "Includes code and ideas derived from work by [Nicolas P. Rougier](https://github.com/rougier), \n",
        "used in accordance with the terms of the original [license](https://github.com/rougier/numpy-100/blob/master/LICENSE.txt).\n",
        "\n",
        "---\n",
        "\n",
        "\ud83e\udde0 **Ready to dive in?**  \n",
        "Let\u2019s explore the power of NumPy \u2014 one exercise at a time!\n"
      ]
    },
    {
      "cell_type": "markdown",
      "id": "649f9ba9",
      "metadata": {
        "papermill": {
          "duration": 0.019914,
          "end_time": "2025-06-25T14:25:26.258850",
          "exception": false,
          "start_time": "2025-06-25T14:25:26.238936",
          "status": "completed"
        },
        "tags": []
      },
      "source": [
        "#### 1. Import the numpy package under the name `np` (\u2605\u2606\u2606)"
      ]
    },
    {
      "cell_type": "code",
      "execution_count": 1,
      "id": "0948995e",
      "metadata": {
        "execution": {
          "iopub.execute_input": "2025-06-25T14:25:26.301648Z",
          "iopub.status.busy": "2025-06-25T14:25:26.301215Z",
          "iopub.status.idle": "2025-06-25T14:25:26.309058Z",
          "shell.execute_reply": "2025-06-25T14:25:26.308249Z"
        },
        "papermill": {
          "duration": 0.031005,
          "end_time": "2025-06-25T14:25:26.310620",
          "exception": false,
          "start_time": "2025-06-25T14:25:26.279615",
          "status": "completed"
        },
        "tags": []
      },
      "outputs": [],
      "source": [
        "import numpy as np"
      ]
    },
    {
      "cell_type": "markdown",
      "id": "4ed52d9d",
      "metadata": {
        "papermill": {
          "duration": 0.019082,
          "end_time": "2025-06-25T14:25:26.349783",
          "exception": false,
          "start_time": "2025-06-25T14:25:26.330701",
          "status": "completed"
        },
        "tags": []
      },
      "source": [
        "#### 2. Print the numpy version and the configuration (\u2605\u2606\u2606)"
      ]
    },
    {
      "cell_type": "code",
      "execution_count": 2,
      "id": "f77c5be4",
      "metadata": {
        "execution": {
          "iopub.execute_input": "2025-06-25T14:25:26.457855Z",
          "iopub.status.busy": "2025-06-25T14:25:26.457564Z",
          "iopub.status.idle": "2025-06-25T14:25:26.463525Z",
          "shell.execute_reply": "2025-06-25T14:25:26.462394Z"
        },
        "papermill": {
          "duration": 0.028052,
          "end_time": "2025-06-25T14:25:26.464961",
          "exception": false,
          "start_time": "2025-06-25T14:25:26.436909",
          "status": "completed"
        },
        "tags": []
      },
      "outputs": [
        {
          "name": "stdout",
          "output_type": "stream",
          "text": [
            "\u2605 NumPy Version: 1.26.4\n",
            "\u2606 NumPy Configuration:\n",
            "blas_armpl_info:\n",
            "  NOT AVAILABLE\n",
            "blas_mkl_info:\n",
            "    libraries = ['mkl_rt', 'pthread']\n",
            "    library_dirs = ['/home/sat_bot/base/conda-bld/numpy_and_dev_1715296241721/_h_env_placehold_placehold_placehold_placehold_placehold_placehold_placehold_placehold_placehold_placehold_placehold_placehold_placehold_placehold_placehold_placehold_placehold_placehold_placehold_p/lib']\n",
            "    define_macros = [('SCIPY_MKL_H', None), ('HAVE_CBLAS', None)]\n",
            "    include_dirs = ['/home/sat_bot/base/conda-bld/numpy_and_dev_1715296241721/_h_env_placehold_placehold_placehold_placehold_placehold_placehold_placehold_placehold_placehold_placehold_placehold_placehold_placehold_placehold_placehold_placehold_placehold_placehold_placehold_p/include']\n",
            "blas_opt_info:\n",
            "    libraries = ['mkl_rt', 'pthread']\n",
            "    library_dirs = ['/home/sat_bot/base/conda-bld/numpy_and_dev_1715296241721/_h_env_placehold_placehold_placehold_placehold_placehold_placehold_placehold_placehold_placehold_placehold_placehold_placehold_placehold_placehold_placehold_placehold_placehold_placehold_placehold_p/lib']\n",
            "    define_macros = [('SCIPY_MKL_H', None), ('HAVE_CBLAS', None)]\n",
            "    include_dirs = ['/home/sat_bot/base/conda-bld/numpy_and_dev_1715296241721/_h_env_placehold_placehold_placehold_placehold_placehold_placehold_placehold_placehold_placehold_placehold_placehold_placehold_placehold_placehold_placehold_placehold_placehold_placehold_placehold_p/include']\n",
            "lapack_armpl_info:\n",
            "  NOT AVAILABLE\n",
            "lapack_mkl_info:\n",
            "    libraries = ['mkl_rt', 'pthread']\n",
            "    library_dirs = ['/home/sat_bot/base/conda-bld/numpy_and_dev_1715296241721/_h_env_placehold_placehold_placehold_placehold_placehold_placehold_placehold_placehold_placehold_placehold_placehold_placehold_placehold_placehold_placehold_placehold_placehold_placehold_placehold_p/lib']\n",
            "    define_macros = [('SCIPY_MKL_H', None), ('HAVE_CBLAS', None)]\n",
            "    include_dirs = ['/home/sat_bot/base/conda-bld/numpy_and_dev_1715296241721/_h_env_placehold_placehold_placehold_placehold_placehold_placehold_placehold_placehold_placehold_placehold_placehold_placehold_placehold_placehold_placehold_placehold_placehold_placehold_placehold_p/include']\n",
            "lapack_opt_info:\n",
            "    libraries = ['mkl_rt', 'pthread']\n",
            "    library_dirs = ['/home/sat_bot/base/conda-bld/numpy_and_dev_1715296241721/_h_env_placehold_placehold_placehold_placehold_placehold_placehold_placehold_placehold_placehold_placehold_placehold_placehold_placehold_placehold_placehold_placehold_placehold_placehold_placehold_p/lib']\n",
            "    define_macros = [('SCIPY_MKL_H', None), ('HAVE_CBLAS', None)]\n",
            "    include_dirs = ['/home/sat_bot/base/conda-bld/numpy_and_dev_1715296241721/_h_env_placehold_placehold_placehold_placehold_placehold_placehold_placehold_placehold_placehold_placehold_placehold_placehold_placehold_placehold_placehold_placehold_placehold_placehold_placehold_p/include']\n",
            "Supported SIMD extensions in this NumPy install:\n",
            "    baseline = SSE,SSE2,SSE3\n",
            "    found = SSSE3,SSE41,POPCNT,SSE42,AVX,F16C,FMA3,AVX2\n",
            "    not found = AVX512F,AVX512CD,AVX512_KNL,AVX512_KNM,AVX512_SKX,AVX512_CLX,AVX512_CNL,AVX512_ICL,AVX512_SPR\n"
          ]
        }
      ],
      "source": [
        "print(\"\u2605 NumPy Version:\", np.__version__)\n",
        "print(\"\u2606 NumPy Configuration:\")\n",
        "np.show_config()"
      ]
    },
    {
      "cell_type": "markdown",
      "id": "40361cf8",
      "metadata": {
        "papermill": {
          "duration": 0.019758,
          "end_time": "2025-06-25T14:25:26.504909",
          "exception": false,
          "start_time": "2025-06-25T14:25:26.485151",
          "status": "completed"
        },
        "tags": []
      },
      "source": [
        "#### 3. Create a null vector of size 10 (\u2605\u2606\u2606)"
      ]
    },
    {
      "cell_type": "code",
      "execution_count": 3,
      "id": "92e503df",
      "metadata": {
        "execution": {
          "iopub.execute_input": "2025-06-25T14:25:26.546503Z",
          "iopub.status.busy": "2025-06-25T14:25:26.546165Z",
          "iopub.status.idle": "2025-06-25T14:25:26.552873Z",
          "shell.execute_reply": "2025-06-25T14:25:26.552172Z"
        },
        "papermill": {
          "duration": 0.029572,
          "end_time": "2025-06-25T14:25:26.554232",
          "exception": false,
          "start_time": "2025-06-25T14:25:26.524660",
          "status": "completed"
        },
        "tags": []
      },
      "outputs": [
        {
          "data": {
            "text/plain": [
              "array([2.46649181e-315, 0.00000000e+000, 8.25691926e-296, 0.00000000e+000,\n",
              "       6.00816991e-273, 0.00000000e+000, 2.96637014e-320, 9.93111473e-263,\n",
              "       1.44932313e-311, 0.00000000e+000])"
            ]
          },
          "execution_count": 3,
          "metadata": {},
          "output_type": "execute_result"
        }
      ],
      "source": [
        "nullVec = np.empty(10)\n",
        "\n",
        "nullVec"
      ]
    },
    {
      "cell_type": "markdown",
      "id": "4e03c6d5",
      "metadata": {
        "papermill": {
          "duration": 0.02036,
          "end_time": "2025-06-25T14:25:26.594604",
          "exception": false,
          "start_time": "2025-06-25T14:25:26.574244",
          "status": "completed"
        },
        "tags": []
      },
      "source": [
        "#### 4. How to find the memory size of any array (\u2605\u2606\u2606)"
      ]
    },
    {
      "cell_type": "code",
      "execution_count": 4,
      "id": "92b507c7",
      "metadata": {
        "execution": {
          "iopub.execute_input": "2025-06-25T14:25:26.636225Z",
          "iopub.status.busy": "2025-06-25T14:25:26.635602Z",
          "iopub.status.idle": "2025-06-25T14:25:26.640768Z",
          "shell.execute_reply": "2025-06-25T14:25:26.639814Z"
        },
        "papermill": {
          "duration": 0.027701,
          "end_time": "2025-06-25T14:25:26.642281",
          "exception": false,
          "start_time": "2025-06-25T14:25:26.614580",
          "status": "completed"
        },
        "tags": []
      },
      "outputs": [
        {
          "name": "stdout",
          "output_type": "stream",
          "text": [
            "Null Vector Size: 10\n",
            "Null Vector ItemSize: 8\n"
          ]
        }
      ],
      "source": [
        "print(\"Null Vector Size:\", nullVec.size)\n",
        "print(\"Null Vector ItemSize:\", nullVec.itemsize)"
      ]
    },
    {
      "cell_type": "markdown",
      "id": "ce0a0520",
      "metadata": {
        "papermill": {
          "duration": 0.020387,
          "end_time": "2025-06-25T14:25:26.683317",
          "exception": false,
          "start_time": "2025-06-25T14:25:26.662930",
          "status": "completed"
        },
        "tags": []
      },
      "source": [
        "#### 5. How to get the documentation of the numpy add function from the command line? (\u2605\u2606\u2606)"
      ]
    },
    {
      "cell_type": "code",
      "execution_count": 5,
      "id": "b77d3cb0",
      "metadata": {
        "execution": {
          "iopub.execute_input": "2025-06-25T14:25:26.724859Z",
          "iopub.status.busy": "2025-06-25T14:25:26.724289Z",
          "iopub.status.idle": "2025-06-25T14:25:26.729454Z",
          "shell.execute_reply": "2025-06-25T14:25:26.728292Z"
        },
        "papermill": {
          "duration": 0.027997,
          "end_time": "2025-06-25T14:25:26.731157",
          "exception": false,
          "start_time": "2025-06-25T14:25:26.703160",
          "status": "completed"
        },
        "tags": []
      },
      "outputs": [
        {
          "name": "stdout",
          "output_type": "stream",
          "text": [
            "add(x1, x2, /, out=None, *, where=True, casting='same_kind', order='K', dtype=None, subok=True[, signature, extobj])\n",
            "\n",
            "Add arguments element-wise.\n",
            "\n",
            "Parameters\n",
            "----------\n",
            "x1, x2 : array_like\n",
            "    The arrays to be added.\n",
            "    If ``x1.shape != x2.shape``, they must be broadcastable to a common\n",
            "    shape (which becomes the shape of the output).\n",
            "out : ndarray, None, or tuple of ndarray and None, optional\n",
            "    A location into which the result is stored. If provided, it must have\n",
            "    a shape that the inputs broadcast to. If not provided or None,\n",
            "    a freshly-allocated array is returned. A tuple (possible only as a\n",
            "    keyword argument) must have length equal to the number of outputs.\n",
            "where : array_like, optional\n",
            "    This condition is broadcast over the input. At locations where the\n",
            "    condition is True, the `out` array will be set to the ufunc result.\n",
            "    Elsewhere, the `out` array will retain its original value.\n",
            "    Note that if an uninitialized `out` array is created via the default\n",
            "    ``out=None``, locations within it where the condition is False will\n",
            "    remain uninitialized.\n",
            "**kwargs\n",
            "    For other keyword-only arguments, see the\n",
            "    :ref:`ufunc docs <ufuncs.kwargs>`.\n",
            "\n",
            "Returns\n",
            "-------\n",
            "add : ndarray or scalar\n",
            "    The sum of `x1` and `x2`, element-wise.\n",
            "    This is a scalar if both `x1` and `x2` are scalars.\n",
            "\n",
            "Notes\n",
            "-----\n",
            "Equivalent to `x1` + `x2` in terms of array broadcasting.\n",
            "\n",
            "Examples\n",
            "--------\n",
            ">>> np.add(1.0, 4.0)\n",
            "5.0\n",
            ">>> x1 = np.arange(9.0).reshape((3, 3))\n",
            ">>> x2 = np.arange(3.0)\n",
            ">>> np.add(x1, x2)\n",
            "array([[  0.,   2.,   4.],\n",
            "       [  3.,   5.,   7.],\n",
            "       [  6.,   8.,  10.]])\n",
            "\n",
            "The ``+`` operator can be used as a shorthand for ``np.add`` on ndarrays.\n",
            "\n",
            ">>> x1 = np.arange(9.0).reshape((3, 3))\n",
            ">>> x2 = np.arange(3.0)\n",
            ">>> x1 + x2\n",
            "array([[ 0.,  2.,  4.],\n",
            "       [ 3.,  5.,  7.],\n",
            "       [ 6.,  8., 10.]])\n"
          ]
        }
      ],
      "source": [
        "# np.add?\n",
        "# print(np.info('add'))\n",
        "print(np.add.__doc__)"
      ]
    },
    {
      "cell_type": "markdown",
      "id": "99eb8d7b",
      "metadata": {
        "papermill": {
          "duration": 0.019876,
          "end_time": "2025-06-25T14:25:26.771667",
          "exception": false,
          "start_time": "2025-06-25T14:25:26.751791",
          "status": "completed"
        },
        "tags": []
      },
      "source": [
        "#### 6. Create a null vector of size 10 but the fifth value which is 1 (\u2605\u2606\u2606)"
      ]
    },
    {
      "cell_type": "code",
      "execution_count": 6,
      "id": "756b1c16",
      "metadata": {
        "execution": {
          "iopub.execute_input": "2025-06-25T14:25:26.816482Z",
          "iopub.status.busy": "2025-06-25T14:25:26.815616Z",
          "iopub.status.idle": "2025-06-25T14:25:26.821787Z",
          "shell.execute_reply": "2025-06-25T14:25:26.821068Z"
        },
        "papermill": {
          "duration": 0.031415,
          "end_time": "2025-06-25T14:25:26.823108",
          "exception": false,
          "start_time": "2025-06-25T14:25:26.791693",
          "status": "completed"
        },
        "tags": []
      },
      "outputs": [
        {
          "data": {
            "text/plain": [
              "array([2.46649181e-315, 0.00000000e+000, 8.25691926e-296, 0.00000000e+000,\n",
              "       1.00000000e+000, 0.00000000e+000, 2.96637014e-320, 9.93111473e-263,\n",
              "       1.44932313e-311, 0.00000000e+000])"
            ]
          },
          "execution_count": 6,
          "metadata": {},
          "output_type": "execute_result"
        }
      ],
      "source": [
        "nullVec = np.empty(10)\n",
        "nullVec[4] = 1\n",
        "\n",
        "nullVec"
      ]
    },
    {
      "cell_type": "markdown",
      "id": "c99808a1",
      "metadata": {
        "papermill": {
          "duration": 0.020197,
          "end_time": "2025-06-25T14:25:26.864438",
          "exception": false,
          "start_time": "2025-06-25T14:25:26.844241",
          "status": "completed"
        },
        "tags": []
      },
      "source": [
        "#### 7. Create a vector with values ranging from 10 to 49 (\u2605\u2606\u2606)"
      ]
    },
    {
      "cell_type": "code",
      "execution_count": 7,
      "id": "313a9f6f",
      "metadata": {
        "execution": {
          "iopub.execute_input": "2025-06-25T14:25:26.907490Z",
          "iopub.status.busy": "2025-06-25T14:25:26.906751Z",
          "iopub.status.idle": "2025-06-25T14:25:26.914253Z",
          "shell.execute_reply": "2025-06-25T14:25:26.913456Z"
        },
        "papermill": {
          "duration": 0.030145,
          "end_time": "2025-06-25T14:25:26.915581",
          "exception": false,
          "start_time": "2025-06-25T14:25:26.885436",
          "status": "completed"
        },
        "tags": []
      },
      "outputs": [
        {
          "data": {
            "text/plain": [
              "array([10, 11, 12, 13, 14, 15, 16, 17, 18, 19, 20, 21, 22, 23, 24, 25, 26,\n",
              "       27, 28, 29, 30, 31, 32, 33, 34, 35, 36, 37, 38, 39, 40, 41, 42, 43,\n",
              "       44, 45, 46, 47, 48, 49])"
            ]
          },
          "execution_count": 7,
          "metadata": {},
          "output_type": "execute_result"
        }
      ],
      "source": [
        "rangeVec = np.arange(10, 50)\n",
        "\n",
        "rangeVec"
      ]
    },
    {
      "cell_type": "markdown",
      "id": "aeef5390",
      "metadata": {
        "papermill": {
          "duration": 0.020275,
          "end_time": "2025-06-25T14:25:26.956895",
          "exception": false,
          "start_time": "2025-06-25T14:25:26.936620",
          "status": "completed"
        },
        "tags": []
      },
      "source": [
        "#### 8. Reverse a vector (first element becomes last) (\u2605\u2606\u2606)"
      ]
    },
    {
      "cell_type": "code",
      "execution_count": 8,
      "id": "db810e54",
      "metadata": {
        "execution": {
          "iopub.execute_input": "2025-06-25T14:25:26.999320Z",
          "iopub.status.busy": "2025-06-25T14:25:26.998968Z",
          "iopub.status.idle": "2025-06-25T14:25:27.005924Z",
          "shell.execute_reply": "2025-06-25T14:25:27.004545Z"
        },
        "papermill": {
          "duration": 0.030267,
          "end_time": "2025-06-25T14:25:27.007925",
          "exception": false,
          "start_time": "2025-06-25T14:25:26.977658",
          "status": "completed"
        },
        "tags": []
      },
      "outputs": [
        {
          "data": {
            "text/plain": [
              "array([49, 48, 47, 46, 45, 44, 43, 42, 41, 40, 39, 38, 37, 36, 35, 34, 33,\n",
              "       32, 31, 30, 29, 28, 27, 26, 25, 24, 23, 22, 21, 20, 19, 18, 17, 16,\n",
              "       15, 14, 13, 12, 11, 10])"
            ]
          },
          "execution_count": 8,
          "metadata": {},
          "output_type": "execute_result"
        }
      ],
      "source": [
        "rangeVec[::-1]"
      ]
    },
    {
      "cell_type": "markdown",
      "id": "80611802",
      "metadata": {
        "papermill": {
          "duration": 0.020688,
          "end_time": "2025-06-25T14:25:27.049716",
          "exception": false,
          "start_time": "2025-06-25T14:25:27.029028",
          "status": "completed"
        },
        "tags": []
      },
      "source": [
        "#### 9. Create a 3x3 matrix with values ranging from 0 to 8 (\u2605\u2606\u2606)"
      ]
    },
    {
      "cell_type": "code",
      "execution_count": 9,
      "id": "cbfda7dd",
      "metadata": {
        "execution": {
          "iopub.execute_input": "2025-06-25T14:25:27.093435Z",
          "iopub.status.busy": "2025-06-25T14:25:27.093090Z",
          "iopub.status.idle": "2025-06-25T14:25:27.099589Z",
          "shell.execute_reply": "2025-06-25T14:25:27.098823Z"
        },
        "papermill": {
          "duration": 0.029982,
          "end_time": "2025-06-25T14:25:27.100928",
          "exception": false,
          "start_time": "2025-06-25T14:25:27.070946",
          "status": "completed"
        },
        "tags": []
      },
      "outputs": [
        {
          "data": {
            "text/plain": [
              "array([[0, 1, 2],\n",
              "       [3, 4, 5],\n",
              "       [6, 7, 8]])"
            ]
          },
          "execution_count": 9,
          "metadata": {},
          "output_type": "execute_result"
        }
      ],
      "source": [
        "matrix3x3 = np.arange(9).reshape((3, 3))\n",
        "\n",
        "matrix3x3"
      ]
    },
    {
      "cell_type": "markdown",
      "id": "f24dc03f",
      "metadata": {
        "papermill": {
          "duration": 0.020213,
          "end_time": "2025-06-25T14:25:27.141967",
          "exception": false,
          "start_time": "2025-06-25T14:25:27.121754",
          "status": "completed"
        },
        "tags": []
      },
      "source": [
        "#### 10. Find indices of non-zero elements from [1,2,0,0,4,0] (\u2605\u2606\u2606)"
      ]
    },
    {
      "cell_type": "code",
      "execution_count": 10,
      "id": "16dea312",
      "metadata": {
        "execution": {
          "iopub.execute_input": "2025-06-25T14:25:27.183672Z",
          "iopub.status.busy": "2025-06-25T14:25:27.183357Z",
          "iopub.status.idle": "2025-06-25T14:25:27.189318Z",
          "shell.execute_reply": "2025-06-25T14:25:27.188505Z"
        },
        "papermill": {
          "duration": 0.028431,
          "end_time": "2025-06-25T14:25:27.190576",
          "exception": false,
          "start_time": "2025-06-25T14:25:27.162145",
          "status": "completed"
        },
        "tags": []
      },
      "outputs": [
        {
          "data": {
            "text/plain": [
              "(array([0, 1, 4]),)"
            ]
          },
          "execution_count": 10,
          "metadata": {},
          "output_type": "execute_result"
        }
      ],
      "source": [
        "rawData = [1, 2, 0, 0, 4, 0]\n",
        "\n",
        "npArr = np.array(rawData)\n",
        "\n",
        "npArr.nonzero()"
      ]
    },
    {
      "cell_type": "markdown",
      "id": "7730a415",
      "metadata": {
        "papermill": {
          "duration": 0.020713,
          "end_time": "2025-06-25T14:25:27.231868",
          "exception": false,
          "start_time": "2025-06-25T14:25:27.211155",
          "status": "completed"
        },
        "tags": []
      },
      "source": [
        "#### 11. Create a 3x3 identity matrix (\u2605\u2606\u2606)"
      ]
    },
    {
      "cell_type": "code",
      "execution_count": 11,
      "id": "8440c207",
      "metadata": {
        "execution": {
          "iopub.execute_input": "2025-06-25T14:25:27.274946Z",
          "iopub.status.busy": "2025-06-25T14:25:27.274676Z",
          "iopub.status.idle": "2025-06-25T14:25:27.281089Z",
          "shell.execute_reply": "2025-06-25T14:25:27.280108Z"
        },
        "papermill": {
          "duration": 0.029486,
          "end_time": "2025-06-25T14:25:27.282841",
          "exception": false,
          "start_time": "2025-06-25T14:25:27.253355",
          "status": "completed"
        },
        "tags": []
      },
      "outputs": [
        {
          "data": {
            "text/plain": [
              "array([[1., 0., 0.],\n",
              "       [0., 1., 0.],\n",
              "       [0., 0., 1.]])"
            ]
          },
          "execution_count": 11,
          "metadata": {},
          "output_type": "execute_result"
        }
      ],
      "source": [
        "idnMatrix = np.eye(3, 3)\n",
        "\n",
        "idnMatrix"
      ]
    },
    {
      "cell_type": "markdown",
      "id": "e90dd981",
      "metadata": {
        "papermill": {
          "duration": 0.020597,
          "end_time": "2025-06-25T14:25:27.324398",
          "exception": false,
          "start_time": "2025-06-25T14:25:27.303801",
          "status": "completed"
        },
        "tags": []
      },
      "source": [
        "#### 12. Create a 3x3x3 array with random values (\u2605\u2606\u2606)"
      ]
    },
    {
      "cell_type": "code",
      "execution_count": 12,
      "id": "be9cb32a",
      "metadata": {
        "execution": {
          "iopub.execute_input": "2025-06-25T14:25:27.366904Z",
          "iopub.status.busy": "2025-06-25T14:25:27.366629Z",
          "iopub.status.idle": "2025-06-25T14:25:27.373019Z",
          "shell.execute_reply": "2025-06-25T14:25:27.372115Z"
        },
        "papermill": {
          "duration": 0.029365,
          "end_time": "2025-06-25T14:25:27.374527",
          "exception": false,
          "start_time": "2025-06-25T14:25:27.345162",
          "status": "completed"
        },
        "tags": []
      },
      "outputs": [
        {
          "data": {
            "text/plain": [
              "array([[[0.7172491 , 0.45838712, 0.77910469],\n",
              "        [0.93986747, 0.71679664, 0.9177355 ],\n",
              "        [0.62988214, 0.85369193, 0.17123694]],\n",
              "\n",
              "       [[0.97327711, 0.64988894, 0.43443797],\n",
              "        [0.30554407, 0.93466929, 0.69154671],\n",
              "        [0.16246181, 0.83405938, 0.07822613]],\n",
              "\n",
              "       [[0.88397113, 0.94970098, 0.26578781],\n",
              "        [0.23478738, 0.09543918, 0.69602856],\n",
              "        [0.65874748, 0.11334106, 0.15464637]]])"
            ]
          },
          "execution_count": 12,
          "metadata": {},
          "output_type": "execute_result"
        }
      ],
      "source": [
        "rndmArr = np.random.rand(3, 3, 3)\n",
        "\n",
        "rndmArr"
      ]
    },
    {
      "cell_type": "markdown",
      "id": "68cd5057",
      "metadata": {
        "papermill": {
          "duration": 0.020354,
          "end_time": "2025-06-25T14:25:27.415725",
          "exception": false,
          "start_time": "2025-06-25T14:25:27.395371",
          "status": "completed"
        },
        "tags": []
      },
      "source": [
        "#### 13. Create a 10x10 array with random values and find the minimum and maximum values (\u2605\u2606\u2606)"
      ]
    },
    {
      "cell_type": "code",
      "execution_count": 13,
      "id": "2f998c18",
      "metadata": {
        "execution": {
          "iopub.execute_input": "2025-06-25T14:25:27.458837Z",
          "iopub.status.busy": "2025-06-25T14:25:27.458551Z",
          "iopub.status.idle": "2025-06-25T14:25:27.464324Z",
          "shell.execute_reply": "2025-06-25T14:25:27.463209Z"
        },
        "papermill": {
          "duration": 0.029373,
          "end_time": "2025-06-25T14:25:27.465764",
          "exception": false,
          "start_time": "2025-06-25T14:25:27.436391",
          "status": "completed"
        },
        "tags": []
      },
      "outputs": [
        {
          "name": "stdout",
          "output_type": "stream",
          "text": [
            "Min Val: 0.008310988438719025\n",
            "Max Val: 0.9995111033826775\n"
          ]
        }
      ],
      "source": [
        "rndmArr = np.random.rand(10, 10)\n",
        "\n",
        "rndmArr\n",
        "\n",
        "print(\"Min Val:\", rndmArr.min())\n",
        "print(\"Max Val:\", rndmArr.max())"
      ]
    },
    {
      "cell_type": "markdown",
      "id": "44238694",
      "metadata": {
        "papermill": {
          "duration": 0.02043,
          "end_time": "2025-06-25T14:25:27.506977",
          "exception": false,
          "start_time": "2025-06-25T14:25:27.486547",
          "status": "completed"
        },
        "tags": []
      },
      "source": [
        "#### 14. Create a random vector of size 30 and find the mean value (\u2605\u2606\u2606)"
      ]
    },
    {
      "cell_type": "code",
      "execution_count": 14,
      "id": "48a79916",
      "metadata": {
        "execution": {
          "iopub.execute_input": "2025-06-25T14:25:27.550184Z",
          "iopub.status.busy": "2025-06-25T14:25:27.549799Z",
          "iopub.status.idle": "2025-06-25T14:25:27.556726Z",
          "shell.execute_reply": "2025-06-25T14:25:27.555789Z"
        },
        "papermill": {
          "duration": 0.030922,
          "end_time": "2025-06-25T14:25:27.558372",
          "exception": false,
          "start_time": "2025-06-25T14:25:27.527450",
          "status": "completed"
        },
        "tags": []
      },
      "outputs": [
        {
          "data": {
            "text/plain": [
              "0.47961871009919127"
            ]
          },
          "execution_count": 14,
          "metadata": {},
          "output_type": "execute_result"
        }
      ],
      "source": [
        "rndmArr = np.random.rand(30)\n",
        "\n",
        "rndmArr.mean()"
      ]
    },
    {
      "cell_type": "markdown",
      "id": "56f98bfd",
      "metadata": {
        "papermill": {
          "duration": 0.020897,
          "end_time": "2025-06-25T14:25:27.600578",
          "exception": false,
          "start_time": "2025-06-25T14:25:27.579681",
          "status": "completed"
        },
        "tags": []
      },
      "source": [
        "#### 15. Create a 2d array with 1 on the border and 0 inside (\u2605\u2606\u2606)"
      ]
    },
    {
      "cell_type": "code",
      "execution_count": null,
      "id": "7ea621b5",
      "metadata": {
        "papermill": {
          "duration": 0.020566,
          "end_time": "2025-06-25T14:25:27.642591",
          "exception": false,
          "start_time": "2025-06-25T14:25:27.622025",
          "status": "completed"
        },
        "tags": []
      },
      "outputs": [],
      "source": []
    },
    {
      "cell_type": "markdown",
      "id": "460d5c12",
      "metadata": {
        "papermill": {
          "duration": 0.027707,
          "end_time": "2025-06-25T14:25:27.690903",
          "exception": false,
          "start_time": "2025-06-25T14:25:27.663196",
          "status": "completed"
        },
        "tags": []
      },
      "source": [
        "#### 16. How to add a border (filled with 0's) around an existing array? (\u2605\u2606\u2606)"
      ]
    },
    {
      "cell_type": "code",
      "execution_count": null,
      "id": "6daab5a5",
      "metadata": {
        "papermill": {
          "duration": 0.020505,
          "end_time": "2025-06-25T14:25:27.734860",
          "exception": false,
          "start_time": "2025-06-25T14:25:27.714355",
          "status": "completed"
        },
        "tags": []
      },
      "outputs": [],
      "source": []
    },
    {
      "cell_type": "markdown",
      "id": "44027c26",
      "metadata": {
        "papermill": {
          "duration": 0.020665,
          "end_time": "2025-06-25T14:25:27.776183",
          "exception": false,
          "start_time": "2025-06-25T14:25:27.755518",
          "status": "completed"
        },
        "tags": []
      },
      "source": [
        "#### 17. What is the result of the following expression? (\u2605\u2606\u2606)\n",
        "```python\n",
        "0 * np.nan\n",
        "np.nan == np.nan\n",
        "np.inf > np.nan\n",
        "np.nan - np.nan\n",
        "np.nan in set([np.nan])\n",
        "0.3 == 3 * 0.1\n",
        "```"
      ]
    },
    {
      "cell_type": "code",
      "execution_count": null,
      "id": "ce1937cb",
      "metadata": {
        "papermill": {
          "duration": 0.022879,
          "end_time": "2025-06-25T14:25:27.819672",
          "exception": false,
          "start_time": "2025-06-25T14:25:27.796793",
          "status": "completed"
        },
        "tags": []
      },
      "outputs": [],
      "source": []
    },
    {
      "cell_type": "markdown",
      "id": "2880aa25",
      "metadata": {
        "papermill": {
          "duration": 0.022738,
          "end_time": "2025-06-25T14:25:27.863064",
          "exception": false,
          "start_time": "2025-06-25T14:25:27.840326",
          "status": "completed"
        },
        "tags": []
      },
      "source": [
        "#### 18. Create a 5x5 matrix with values 1,2,3,4 just below the diagonal (\u2605\u2606\u2606)"
      ]
    },
    {
      "cell_type": "code",
      "execution_count": null,
      "id": "428f8e7a",
      "metadata": {
        "papermill": {
          "duration": 0.020389,
          "end_time": "2025-06-25T14:25:27.904644",
          "exception": false,
          "start_time": "2025-06-25T14:25:27.884255",
          "status": "completed"
        },
        "tags": []
      },
      "outputs": [],
      "source": []
    },
    {
      "cell_type": "markdown",
      "id": "a126aadb",
      "metadata": {
        "papermill": {
          "duration": 0.020527,
          "end_time": "2025-06-25T14:25:27.946105",
          "exception": false,
          "start_time": "2025-06-25T14:25:27.925578",
          "status": "completed"
        },
        "tags": []
      },
      "source": [
        "#### 19. Create a 8x8 matrix and fill it with a checkerboard pattern (\u2605\u2606\u2606)"
      ]
    },
    {
      "cell_type": "code",
      "execution_count": null,
      "id": "4760a1ee",
      "metadata": {
        "papermill": {
          "duration": 0.020462,
          "end_time": "2025-06-25T14:25:27.987563",
          "exception": false,
          "start_time": "2025-06-25T14:25:27.967101",
          "status": "completed"
        },
        "tags": []
      },
      "outputs": [],
      "source": []
    },
    {
      "cell_type": "markdown",
      "id": "99208684",
      "metadata": {
        "papermill": {
          "duration": 0.021261,
          "end_time": "2025-06-25T14:25:28.031104",
          "exception": false,
          "start_time": "2025-06-25T14:25:28.009843",
          "status": "completed"
        },
        "tags": []
      },
      "source": [
        "#### 20. Consider a (6,7,8) shape array, what is the index (x,y,z) of the 100th element? (\u2605\u2606\u2606)"
      ]
    },
    {
      "cell_type": "code",
      "execution_count": null,
      "id": "aef39b86",
      "metadata": {
        "papermill": {
          "duration": 0.020312,
          "end_time": "2025-06-25T14:25:28.072110",
          "exception": false,
          "start_time": "2025-06-25T14:25:28.051798",
          "status": "completed"
        },
        "tags": []
      },
      "outputs": [],
      "source": []
    },
    {
      "cell_type": "markdown",
      "id": "2881d4f9",
      "metadata": {
        "papermill": {
          "duration": 0.021003,
          "end_time": "2025-06-25T14:25:28.113805",
          "exception": false,
          "start_time": "2025-06-25T14:25:28.092802",
          "status": "completed"
        },
        "tags": []
      },
      "source": [
        "#### 21. Create a checkerboard 8x8 matrix using the tile function (\u2605\u2606\u2606)"
      ]
    },
    {
      "cell_type": "code",
      "execution_count": null,
      "id": "c8562d5b",
      "metadata": {
        "papermill": {
          "duration": 0.020576,
          "end_time": "2025-06-25T14:25:28.155262",
          "exception": false,
          "start_time": "2025-06-25T14:25:28.134686",
          "status": "completed"
        },
        "tags": []
      },
      "outputs": [],
      "source": []
    },
    {
      "cell_type": "markdown",
      "id": "878505c8",
      "metadata": {
        "papermill": {
          "duration": 0.020389,
          "end_time": "2025-06-25T14:25:28.196034",
          "exception": false,
          "start_time": "2025-06-25T14:25:28.175645",
          "status": "completed"
        },
        "tags": []
      },
      "source": [
        "#### 22. Normalize a 5x5 random matrix (\u2605\u2606\u2606)"
      ]
    },
    {
      "cell_type": "code",
      "execution_count": null,
      "id": "09c0a7a8",
      "metadata": {
        "papermill": {
          "duration": 0.020283,
          "end_time": "2025-06-25T14:25:28.237082",
          "exception": false,
          "start_time": "2025-06-25T14:25:28.216799",
          "status": "completed"
        },
        "tags": []
      },
      "outputs": [],
      "source": []
    },
    {
      "cell_type": "markdown",
      "id": "4b8cf065",
      "metadata": {
        "papermill": {
          "duration": 0.021264,
          "end_time": "2025-06-25T14:25:28.281080",
          "exception": false,
          "start_time": "2025-06-25T14:25:28.259816",
          "status": "completed"
        },
        "tags": []
      },
      "source": [
        "#### 23. Create a custom dtype that describes a color as four unsigned bytes (RGBA) (\u2605\u2606\u2606)"
      ]
    },
    {
      "cell_type": "code",
      "execution_count": null,
      "id": "91ba0b66",
      "metadata": {
        "papermill": {
          "duration": 0.020362,
          "end_time": "2025-06-25T14:25:28.322296",
          "exception": false,
          "start_time": "2025-06-25T14:25:28.301934",
          "status": "completed"
        },
        "tags": []
      },
      "outputs": [],
      "source": []
    },
    {
      "cell_type": "markdown",
      "id": "0c4fdcdb",
      "metadata": {
        "papermill": {
          "duration": 0.020514,
          "end_time": "2025-06-25T14:25:28.363940",
          "exception": false,
          "start_time": "2025-06-25T14:25:28.343426",
          "status": "completed"
        },
        "tags": []
      },
      "source": [
        "#### 24. Multiply a 5x3 matrix by a 3x2 matrix (real matrix product) (\u2605\u2606\u2606)"
      ]
    },
    {
      "cell_type": "code",
      "execution_count": null,
      "id": "e6ad0f92",
      "metadata": {
        "papermill": {
          "duration": 0.021245,
          "end_time": "2025-06-25T14:25:28.406190",
          "exception": false,
          "start_time": "2025-06-25T14:25:28.384945",
          "status": "completed"
        },
        "tags": []
      },
      "outputs": [],
      "source": []
    },
    {
      "cell_type": "markdown",
      "id": "ae9bebde",
      "metadata": {
        "papermill": {
          "duration": 0.020392,
          "end_time": "2025-06-25T14:25:28.447237",
          "exception": false,
          "start_time": "2025-06-25T14:25:28.426845",
          "status": "completed"
        },
        "tags": []
      },
      "source": [
        "#### 25. Given a 1D array, negate all elements which are between 3 and 8, in place. (\u2605\u2606\u2606)"
      ]
    },
    {
      "cell_type": "code",
      "execution_count": null,
      "id": "c9ba9da7",
      "metadata": {
        "papermill": {
          "duration": 0.020401,
          "end_time": "2025-06-25T14:25:28.488314",
          "exception": false,
          "start_time": "2025-06-25T14:25:28.467913",
          "status": "completed"
        },
        "tags": []
      },
      "outputs": [],
      "source": []
    },
    {
      "cell_type": "markdown",
      "id": "09c30e5e",
      "metadata": {
        "papermill": {
          "duration": 0.020274,
          "end_time": "2025-06-25T14:25:28.529097",
          "exception": false,
          "start_time": "2025-06-25T14:25:28.508823",
          "status": "completed"
        },
        "tags": []
      },
      "source": [
        "#### 26. What is the output of the following script? (\u2605\u2606\u2606)\n",
        "```python\n",
        "# Author: Jake VanderPlas\n",
        "\n",
        "print(sum(range(5),-1))\n",
        "from numpy import *\n",
        "print(sum(range(5),-1))\n",
        "```"
      ]
    },
    {
      "cell_type": "code",
      "execution_count": null,
      "id": "6bac6614",
      "metadata": {
        "papermill": {
          "duration": 0.020364,
          "end_time": "2025-06-25T14:25:28.570171",
          "exception": false,
          "start_time": "2025-06-25T14:25:28.549807",
          "status": "completed"
        },
        "tags": []
      },
      "outputs": [],
      "source": []
    },
    {
      "cell_type": "markdown",
      "id": "b73b71b4",
      "metadata": {
        "papermill": {
          "duration": 0.020372,
          "end_time": "2025-06-25T14:25:28.611425",
          "exception": false,
          "start_time": "2025-06-25T14:25:28.591053",
          "status": "completed"
        },
        "tags": []
      },
      "source": [
        "#### 27. Consider an integer vector Z, which of these expressions are legal? (\u2605\u2606\u2606)\n",
        "```python\n",
        "Z**Z\n",
        "2 << Z >> 2\n",
        "Z <- Z\n",
        "1j*Z\n",
        "Z/1/1\n",
        "Z<Z>Z\n",
        "```"
      ]
    },
    {
      "cell_type": "code",
      "execution_count": null,
      "id": "df1291b2",
      "metadata": {
        "papermill": {
          "duration": 0.020287,
          "end_time": "2025-06-25T14:25:28.652936",
          "exception": false,
          "start_time": "2025-06-25T14:25:28.632649",
          "status": "completed"
        },
        "tags": []
      },
      "outputs": [],
      "source": []
    },
    {
      "cell_type": "markdown",
      "id": "521f5b2c",
      "metadata": {
        "papermill": {
          "duration": 0.020292,
          "end_time": "2025-06-25T14:25:28.693662",
          "exception": false,
          "start_time": "2025-06-25T14:25:28.673370",
          "status": "completed"
        },
        "tags": []
      },
      "source": [
        "#### 28. What are the result of the following expressions? (\u2605\u2606\u2606)\n",
        "```python\n",
        "np.array(0) / np.array(0)\n",
        "np.array(0) // np.array(0)\n",
        "np.array([np.nan]).astype(int).astype(float)\n",
        "```"
      ]
    },
    {
      "cell_type": "code",
      "execution_count": null,
      "id": "b30d256e",
      "metadata": {
        "papermill": {
          "duration": 0.02041,
          "end_time": "2025-06-25T14:25:28.734509",
          "exception": false,
          "start_time": "2025-06-25T14:25:28.714099",
          "status": "completed"
        },
        "tags": []
      },
      "outputs": [],
      "source": []
    },
    {
      "cell_type": "markdown",
      "id": "9c01a836",
      "metadata": {
        "papermill": {
          "duration": 0.020504,
          "end_time": "2025-06-25T14:25:28.776288",
          "exception": false,
          "start_time": "2025-06-25T14:25:28.755784",
          "status": "completed"
        },
        "tags": []
      },
      "source": [
        "#### 29. How to round away from zero a float array ? (\u2605\u2606\u2606)"
      ]
    },
    {
      "cell_type": "code",
      "execution_count": null,
      "id": "7332816d",
      "metadata": {
        "papermill": {
          "duration": 0.025884,
          "end_time": "2025-06-25T14:25:28.822861",
          "exception": false,
          "start_time": "2025-06-25T14:25:28.796977",
          "status": "completed"
        },
        "tags": []
      },
      "outputs": [],
      "source": []
    },
    {
      "cell_type": "markdown",
      "id": "65888de6",
      "metadata": {
        "papermill": {
          "duration": 0.020823,
          "end_time": "2025-06-25T14:25:28.865401",
          "exception": false,
          "start_time": "2025-06-25T14:25:28.844578",
          "status": "completed"
        },
        "tags": []
      },
      "source": [
        "#### 30. How to find common values between two arrays? (\u2605\u2606\u2606)"
      ]
    },
    {
      "cell_type": "code",
      "execution_count": null,
      "id": "614646a0",
      "metadata": {
        "papermill": {
          "duration": 0.020324,
          "end_time": "2025-06-25T14:25:28.906501",
          "exception": false,
          "start_time": "2025-06-25T14:25:28.886177",
          "status": "completed"
        },
        "tags": []
      },
      "outputs": [],
      "source": []
    },
    {
      "cell_type": "markdown",
      "id": "ceb4e9b8",
      "metadata": {
        "papermill": {
          "duration": 0.020498,
          "end_time": "2025-06-25T14:25:28.947854",
          "exception": false,
          "start_time": "2025-06-25T14:25:28.927356",
          "status": "completed"
        },
        "tags": []
      },
      "source": [
        "#### 31. How to ignore all numpy warnings (not recommended)? (\u2605\u2606\u2606)"
      ]
    },
    {
      "cell_type": "code",
      "execution_count": null,
      "id": "ea8ec916",
      "metadata": {
        "papermill": {
          "duration": 0.020492,
          "end_time": "2025-06-25T14:25:28.989184",
          "exception": false,
          "start_time": "2025-06-25T14:25:28.968692",
          "status": "completed"
        },
        "tags": []
      },
      "outputs": [],
      "source": []
    },
    {
      "cell_type": "markdown",
      "id": "e53dc60c",
      "metadata": {
        "papermill": {
          "duration": 0.0206,
          "end_time": "2025-06-25T14:25:29.030407",
          "exception": false,
          "start_time": "2025-06-25T14:25:29.009807",
          "status": "completed"
        },
        "tags": []
      },
      "source": [
        "#### 32. Is the following expressions true? (\u2605\u2606\u2606)\n",
        "```python\n",
        "np.sqrt(-1) == np.emath.sqrt(-1)\n",
        "```"
      ]
    },
    {
      "cell_type": "code",
      "execution_count": null,
      "id": "717a2fb6",
      "metadata": {
        "papermill": {
          "duration": 0.020502,
          "end_time": "2025-06-25T14:25:29.072187",
          "exception": false,
          "start_time": "2025-06-25T14:25:29.051685",
          "status": "completed"
        },
        "tags": []
      },
      "outputs": [],
      "source": []
    },
    {
      "cell_type": "markdown",
      "id": "cd82cdb3",
      "metadata": {
        "papermill": {
          "duration": 0.02063,
          "end_time": "2025-06-25T14:25:29.113646",
          "exception": false,
          "start_time": "2025-06-25T14:25:29.093016",
          "status": "completed"
        },
        "tags": []
      },
      "source": [
        "#### 33. How to get the dates of yesterday, today and tomorrow? (\u2605\u2606\u2606)"
      ]
    },
    {
      "cell_type": "code",
      "execution_count": null,
      "id": "d68e6336",
      "metadata": {
        "papermill": {
          "duration": 0.021196,
          "end_time": "2025-06-25T14:25:29.155713",
          "exception": false,
          "start_time": "2025-06-25T14:25:29.134517",
          "status": "completed"
        },
        "tags": []
      },
      "outputs": [],
      "source": []
    },
    {
      "cell_type": "markdown",
      "id": "2514c77a",
      "metadata": {
        "papermill": {
          "duration": 0.020601,
          "end_time": "2025-06-25T14:25:29.197140",
          "exception": false,
          "start_time": "2025-06-25T14:25:29.176539",
          "status": "completed"
        },
        "tags": []
      },
      "source": [
        "#### 34. How to get all the dates corresponding to the month of July 2016? (\u2605\u2605\u2606)"
      ]
    },
    {
      "cell_type": "code",
      "execution_count": null,
      "id": "70f180ae",
      "metadata": {
        "papermill": {
          "duration": 0.021292,
          "end_time": "2025-06-25T14:25:29.239032",
          "exception": false,
          "start_time": "2025-06-25T14:25:29.217740",
          "status": "completed"
        },
        "tags": []
      },
      "outputs": [],
      "source": []
    },
    {
      "cell_type": "markdown",
      "id": "fa2a658e",
      "metadata": {
        "papermill": {
          "duration": 0.022433,
          "end_time": "2025-06-25T14:25:29.282778",
          "exception": false,
          "start_time": "2025-06-25T14:25:29.260345",
          "status": "completed"
        },
        "tags": []
      },
      "source": [
        "#### 35. How to compute ((A+B)*(-A/2)) in place (without copy)? (\u2605\u2605\u2606)"
      ]
    },
    {
      "cell_type": "code",
      "execution_count": null,
      "id": "f1e59f44",
      "metadata": {
        "papermill": {
          "duration": 0.02042,
          "end_time": "2025-06-25T14:25:29.324224",
          "exception": false,
          "start_time": "2025-06-25T14:25:29.303804",
          "status": "completed"
        },
        "tags": []
      },
      "outputs": [],
      "source": []
    },
    {
      "cell_type": "markdown",
      "id": "85fc6e98",
      "metadata": {
        "papermill": {
          "duration": 0.02223,
          "end_time": "2025-06-25T14:25:29.367902",
          "exception": false,
          "start_time": "2025-06-25T14:25:29.345672",
          "status": "completed"
        },
        "tags": []
      },
      "source": [
        "#### 36. Extract the integer part of a random array of positive numbers using 4 different methods (\u2605\u2605\u2606)"
      ]
    },
    {
      "cell_type": "code",
      "execution_count": null,
      "id": "f1ae3fcb",
      "metadata": {
        "papermill": {
          "duration": 0.02107,
          "end_time": "2025-06-25T14:25:29.411678",
          "exception": false,
          "start_time": "2025-06-25T14:25:29.390608",
          "status": "completed"
        },
        "tags": []
      },
      "outputs": [],
      "source": []
    },
    {
      "cell_type": "markdown",
      "id": "782039be",
      "metadata": {
        "papermill": {
          "duration": 0.021355,
          "end_time": "2025-06-25T14:25:29.454579",
          "exception": false,
          "start_time": "2025-06-25T14:25:29.433224",
          "status": "completed"
        },
        "tags": []
      },
      "source": [
        "#### 37. Create a 5x5 matrix with row values ranging from 0 to 4 (\u2605\u2605\u2606)"
      ]
    },
    {
      "cell_type": "code",
      "execution_count": null,
      "id": "aca55111",
      "metadata": {
        "papermill": {
          "duration": 0.020361,
          "end_time": "2025-06-25T14:25:29.496550",
          "exception": false,
          "start_time": "2025-06-25T14:25:29.476189",
          "status": "completed"
        },
        "tags": []
      },
      "outputs": [],
      "source": []
    },
    {
      "cell_type": "markdown",
      "id": "ad4ab19d",
      "metadata": {
        "papermill": {
          "duration": 0.020454,
          "end_time": "2025-06-25T14:25:29.537608",
          "exception": false,
          "start_time": "2025-06-25T14:25:29.517154",
          "status": "completed"
        },
        "tags": []
      },
      "source": [
        "#### 38. Consider a generator function that generates 10 integers and use it to build an array (\u2605\u2606\u2606)"
      ]
    },
    {
      "cell_type": "code",
      "execution_count": null,
      "id": "10bb4e21",
      "metadata": {
        "papermill": {
          "duration": 0.020715,
          "end_time": "2025-06-25T14:25:29.578870",
          "exception": false,
          "start_time": "2025-06-25T14:25:29.558155",
          "status": "completed"
        },
        "tags": []
      },
      "outputs": [],
      "source": []
    },
    {
      "cell_type": "markdown",
      "id": "6461b2d9",
      "metadata": {
        "papermill": {
          "duration": 0.020557,
          "end_time": "2025-06-25T14:25:29.620510",
          "exception": false,
          "start_time": "2025-06-25T14:25:29.599953",
          "status": "completed"
        },
        "tags": []
      },
      "source": [
        "#### 39. Create a vector of size 10 with values ranging from 0 to 1, both excluded (\u2605\u2605\u2606)"
      ]
    },
    {
      "cell_type": "code",
      "execution_count": null,
      "id": "c8ca150e",
      "metadata": {
        "papermill": {
          "duration": 0.020483,
          "end_time": "2025-06-25T14:25:29.661492",
          "exception": false,
          "start_time": "2025-06-25T14:25:29.641009",
          "status": "completed"
        },
        "tags": []
      },
      "outputs": [],
      "source": []
    },
    {
      "cell_type": "markdown",
      "id": "ce275310",
      "metadata": {
        "papermill": {
          "duration": 0.020633,
          "end_time": "2025-06-25T14:25:29.702488",
          "exception": false,
          "start_time": "2025-06-25T14:25:29.681855",
          "status": "completed"
        },
        "tags": []
      },
      "source": [
        "#### 40. Create a random vector of size 10 and sort it (\u2605\u2605\u2606)"
      ]
    },
    {
      "cell_type": "code",
      "execution_count": null,
      "id": "f922a834",
      "metadata": {
        "papermill": {
          "duration": 0.020163,
          "end_time": "2025-06-25T14:25:29.743370",
          "exception": false,
          "start_time": "2025-06-25T14:25:29.723207",
          "status": "completed"
        },
        "tags": []
      },
      "outputs": [],
      "source": []
    },
    {
      "cell_type": "markdown",
      "id": "026b8fcd",
      "metadata": {
        "papermill": {
          "duration": 0.020554,
          "end_time": "2025-06-25T14:25:29.784506",
          "exception": false,
          "start_time": "2025-06-25T14:25:29.763952",
          "status": "completed"
        },
        "tags": []
      },
      "source": [
        "#### 41. How to sum a small array faster than np.sum? (\u2605\u2605\u2606)"
      ]
    },
    {
      "cell_type": "code",
      "execution_count": null,
      "id": "7d853293",
      "metadata": {
        "papermill": {
          "duration": 0.022649,
          "end_time": "2025-06-25T14:25:29.828227",
          "exception": false,
          "start_time": "2025-06-25T14:25:29.805578",
          "status": "completed"
        },
        "tags": []
      },
      "outputs": [],
      "source": []
    },
    {
      "cell_type": "markdown",
      "id": "cb2c0361",
      "metadata": {
        "papermill": {
          "duration": 0.020707,
          "end_time": "2025-06-25T14:25:29.870340",
          "exception": false,
          "start_time": "2025-06-25T14:25:29.849633",
          "status": "completed"
        },
        "tags": []
      },
      "source": [
        "#### 42. Consider two random arrays A and B, check if they are equal (\u2605\u2605\u2606)"
      ]
    },
    {
      "cell_type": "code",
      "execution_count": null,
      "id": "7f834655",
      "metadata": {
        "papermill": {
          "duration": 0.020423,
          "end_time": "2025-06-25T14:25:29.911662",
          "exception": false,
          "start_time": "2025-06-25T14:25:29.891239",
          "status": "completed"
        },
        "tags": []
      },
      "outputs": [],
      "source": []
    },
    {
      "cell_type": "markdown",
      "id": "d65e0de9",
      "metadata": {
        "papermill": {
          "duration": 0.02159,
          "end_time": "2025-06-25T14:25:29.954756",
          "exception": false,
          "start_time": "2025-06-25T14:25:29.933166",
          "status": "completed"
        },
        "tags": []
      },
      "source": [
        "#### 43. Make an array immutable (read-only) (\u2605\u2605\u2606)"
      ]
    },
    {
      "cell_type": "code",
      "execution_count": null,
      "id": "7c8b0524",
      "metadata": {
        "papermill": {
          "duration": 0.020486,
          "end_time": "2025-06-25T14:25:29.996324",
          "exception": false,
          "start_time": "2025-06-25T14:25:29.975838",
          "status": "completed"
        },
        "tags": []
      },
      "outputs": [],
      "source": []
    },
    {
      "cell_type": "markdown",
      "id": "3333e0bb",
      "metadata": {
        "papermill": {
          "duration": 0.020917,
          "end_time": "2025-06-25T14:25:30.038189",
          "exception": false,
          "start_time": "2025-06-25T14:25:30.017272",
          "status": "completed"
        },
        "tags": []
      },
      "source": [
        "#### 44. Consider a random 10x2 matrix representing cartesian coordinates, convert them to polar coordinates (\u2605\u2605\u2606)"
      ]
    },
    {
      "cell_type": "code",
      "execution_count": null,
      "id": "8d554dbf",
      "metadata": {
        "papermill": {
          "duration": 0.020679,
          "end_time": "2025-06-25T14:25:30.079630",
          "exception": false,
          "start_time": "2025-06-25T14:25:30.058951",
          "status": "completed"
        },
        "tags": []
      },
      "outputs": [],
      "source": []
    },
    {
      "cell_type": "markdown",
      "id": "b2552383",
      "metadata": {
        "papermill": {
          "duration": 0.02056,
          "end_time": "2025-06-25T14:25:30.121150",
          "exception": false,
          "start_time": "2025-06-25T14:25:30.100590",
          "status": "completed"
        },
        "tags": []
      },
      "source": [
        "#### 45. Create random vector of size 10 and replace the maximum value by 0 (\u2605\u2605\u2606)"
      ]
    },
    {
      "cell_type": "code",
      "execution_count": null,
      "id": "a2b6efb0",
      "metadata": {
        "papermill": {
          "duration": 0.020753,
          "end_time": "2025-06-25T14:25:30.162595",
          "exception": false,
          "start_time": "2025-06-25T14:25:30.141842",
          "status": "completed"
        },
        "tags": []
      },
      "outputs": [],
      "source": []
    },
    {
      "cell_type": "markdown",
      "id": "caa0701c",
      "metadata": {
        "papermill": {
          "duration": 0.02062,
          "end_time": "2025-06-25T14:25:30.203965",
          "exception": false,
          "start_time": "2025-06-25T14:25:30.183345",
          "status": "completed"
        },
        "tags": []
      },
      "source": [
        "#### 46. Create a structured array with `x` and `y` coordinates covering the [0,1]x[0,1] area (\u2605\u2605\u2606)"
      ]
    },
    {
      "cell_type": "code",
      "execution_count": null,
      "id": "f6a031b1",
      "metadata": {
        "papermill": {
          "duration": 0.020869,
          "end_time": "2025-06-25T14:25:30.310980",
          "exception": false,
          "start_time": "2025-06-25T14:25:30.290111",
          "status": "completed"
        },
        "tags": []
      },
      "outputs": [],
      "source": []
    },
    {
      "cell_type": "markdown",
      "id": "fea8e43d",
      "metadata": {
        "papermill": {
          "duration": 0.020546,
          "end_time": "2025-06-25T14:25:30.352371",
          "exception": false,
          "start_time": "2025-06-25T14:25:30.331825",
          "status": "completed"
        },
        "tags": []
      },
      "source": [
        "#### 47. Given two arrays, X and Y, construct the Cauchy matrix C (Cij =1/(xi - yj)) (\u2605\u2605\u2606)"
      ]
    },
    {
      "cell_type": "code",
      "execution_count": null,
      "id": "a673ac3f",
      "metadata": {
        "papermill": {
          "duration": 0.020689,
          "end_time": "2025-06-25T14:25:30.395429",
          "exception": false,
          "start_time": "2025-06-25T14:25:30.374740",
          "status": "completed"
        },
        "tags": []
      },
      "outputs": [],
      "source": []
    },
    {
      "cell_type": "markdown",
      "id": "47cdb1b5",
      "metadata": {
        "papermill": {
          "duration": 0.021357,
          "end_time": "2025-06-25T14:25:30.437668",
          "exception": false,
          "start_time": "2025-06-25T14:25:30.416311",
          "status": "completed"
        },
        "tags": []
      },
      "source": [
        "#### 48. Print the minimum and maximum representable values for each numpy scalar type (\u2605\u2605\u2606)"
      ]
    },
    {
      "cell_type": "code",
      "execution_count": null,
      "id": "08f184e8",
      "metadata": {
        "papermill": {
          "duration": 0.020794,
          "end_time": "2025-06-25T14:25:30.479576",
          "exception": false,
          "start_time": "2025-06-25T14:25:30.458782",
          "status": "completed"
        },
        "tags": []
      },
      "outputs": [],
      "source": []
    },
    {
      "cell_type": "markdown",
      "id": "ddc969ed",
      "metadata": {
        "papermill": {
          "duration": 0.020624,
          "end_time": "2025-06-25T14:25:30.522206",
          "exception": false,
          "start_time": "2025-06-25T14:25:30.501582",
          "status": "completed"
        },
        "tags": []
      },
      "source": [
        "#### 49. How to print all the values of an array? (\u2605\u2605\u2606)"
      ]
    },
    {
      "cell_type": "code",
      "execution_count": null,
      "id": "7cf2fd4c",
      "metadata": {
        "papermill": {
          "duration": 0.020687,
          "end_time": "2025-06-25T14:25:30.563553",
          "exception": false,
          "start_time": "2025-06-25T14:25:30.542866",
          "status": "completed"
        },
        "tags": []
      },
      "outputs": [],
      "source": []
    },
    {
      "cell_type": "markdown",
      "id": "1de96a1b",
      "metadata": {
        "papermill": {
          "duration": 0.020753,
          "end_time": "2025-06-25T14:25:30.605211",
          "exception": false,
          "start_time": "2025-06-25T14:25:30.584458",
          "status": "completed"
        },
        "tags": []
      },
      "source": [
        "#### 50. How to find the closest value (to a given scalar) in a vector? (\u2605\u2605\u2606)"
      ]
    },
    {
      "cell_type": "code",
      "execution_count": null,
      "id": "ba21f033",
      "metadata": {
        "papermill": {
          "duration": 0.020587,
          "end_time": "2025-06-25T14:25:30.646694",
          "exception": false,
          "start_time": "2025-06-25T14:25:30.626107",
          "status": "completed"
        },
        "tags": []
      },
      "outputs": [],
      "source": []
    },
    {
      "cell_type": "markdown",
      "id": "f78b73b1",
      "metadata": {
        "papermill": {
          "duration": 0.021268,
          "end_time": "2025-06-25T14:25:30.688927",
          "exception": false,
          "start_time": "2025-06-25T14:25:30.667659",
          "status": "completed"
        },
        "tags": []
      },
      "source": [
        "#### 51. Create a structured array representing a position (x,y) and a color (r,g,b) (\u2605\u2605\u2606)"
      ]
    },
    {
      "cell_type": "code",
      "execution_count": null,
      "id": "0f878f06",
      "metadata": {
        "papermill": {
          "duration": 0.020702,
          "end_time": "2025-06-25T14:25:30.731229",
          "exception": false,
          "start_time": "2025-06-25T14:25:30.710527",
          "status": "completed"
        },
        "tags": []
      },
      "outputs": [],
      "source": []
    },
    {
      "cell_type": "markdown",
      "id": "debd9fe8",
      "metadata": {
        "papermill": {
          "duration": 0.020715,
          "end_time": "2025-06-25T14:25:30.773445",
          "exception": false,
          "start_time": "2025-06-25T14:25:30.752730",
          "status": "completed"
        },
        "tags": []
      },
      "source": [
        "#### 52. Consider a random vector with shape (100,2) representing coordinates, find point by point distances (\u2605\u2605\u2606)"
      ]
    },
    {
      "cell_type": "code",
      "execution_count": null,
      "id": "232e82f6",
      "metadata": {
        "papermill": {
          "duration": 0.023291,
          "end_time": "2025-06-25T14:25:30.817738",
          "exception": false,
          "start_time": "2025-06-25T14:25:30.794447",
          "status": "completed"
        },
        "tags": []
      },
      "outputs": [],
      "source": []
    },
    {
      "cell_type": "markdown",
      "id": "d83f517f",
      "metadata": {
        "papermill": {
          "duration": 0.021037,
          "end_time": "2025-06-25T14:25:30.860189",
          "exception": false,
          "start_time": "2025-06-25T14:25:30.839152",
          "status": "completed"
        },
        "tags": []
      },
      "source": [
        "#### 53. How to convert a float (32 bits) array into an integer (32 bits) array in place?"
      ]
    },
    {
      "cell_type": "code",
      "execution_count": null,
      "id": "96d8a6b1",
      "metadata": {
        "papermill": {
          "duration": 0.020659,
          "end_time": "2025-06-25T14:25:30.902019",
          "exception": false,
          "start_time": "2025-06-25T14:25:30.881360",
          "status": "completed"
        },
        "tags": []
      },
      "outputs": [],
      "source": []
    },
    {
      "cell_type": "markdown",
      "id": "10ae5501",
      "metadata": {
        "papermill": {
          "duration": 0.020529,
          "end_time": "2025-06-25T14:25:30.943177",
          "exception": false,
          "start_time": "2025-06-25T14:25:30.922648",
          "status": "completed"
        },
        "tags": []
      },
      "source": [
        "#### 54. How to read the following file? (\u2605\u2605\u2606)\n",
        "```\n",
        "1, 2, 3, 4, 5\n",
        "6,  ,  , 7, 8\n",
        " ,  , 9,10,11\n",
        "```"
      ]
    },
    {
      "cell_type": "code",
      "execution_count": null,
      "id": "34c28694",
      "metadata": {
        "papermill": {
          "duration": 0.020284,
          "end_time": "2025-06-25T14:25:30.984479",
          "exception": false,
          "start_time": "2025-06-25T14:25:30.964195",
          "status": "completed"
        },
        "tags": []
      },
      "outputs": [],
      "source": []
    },
    {
      "cell_type": "markdown",
      "id": "da2ab921",
      "metadata": {
        "papermill": {
          "duration": 0.020335,
          "end_time": "2025-06-25T14:25:31.025525",
          "exception": false,
          "start_time": "2025-06-25T14:25:31.005190",
          "status": "completed"
        },
        "tags": []
      },
      "source": [
        "#### 55. What is the equivalent of enumerate for numpy arrays? (\u2605\u2605\u2606)"
      ]
    },
    {
      "cell_type": "code",
      "execution_count": null,
      "id": "841e482f",
      "metadata": {
        "papermill": {
          "duration": 0.020366,
          "end_time": "2025-06-25T14:25:31.067018",
          "exception": false,
          "start_time": "2025-06-25T14:25:31.046652",
          "status": "completed"
        },
        "tags": []
      },
      "outputs": [],
      "source": []
    },
    {
      "cell_type": "markdown",
      "id": "0a06f958",
      "metadata": {
        "papermill": {
          "duration": 0.020424,
          "end_time": "2025-06-25T14:25:31.108167",
          "exception": false,
          "start_time": "2025-06-25T14:25:31.087743",
          "status": "completed"
        },
        "tags": []
      },
      "source": [
        "#### 56. Generate a generic 2D Gaussian-like array (\u2605\u2605\u2606)"
      ]
    },
    {
      "cell_type": "code",
      "execution_count": null,
      "id": "ba6aefbe",
      "metadata": {
        "papermill": {
          "duration": 0.020668,
          "end_time": "2025-06-25T14:25:31.150492",
          "exception": false,
          "start_time": "2025-06-25T14:25:31.129824",
          "status": "completed"
        },
        "tags": []
      },
      "outputs": [],
      "source": []
    },
    {
      "cell_type": "markdown",
      "id": "cc094a06",
      "metadata": {
        "papermill": {
          "duration": 0.021125,
          "end_time": "2025-06-25T14:25:31.192189",
          "exception": false,
          "start_time": "2025-06-25T14:25:31.171064",
          "status": "completed"
        },
        "tags": []
      },
      "source": [
        "#### 57. How to randomly place p elements in a 2D array? (\u2605\u2605\u2606)"
      ]
    },
    {
      "cell_type": "code",
      "execution_count": null,
      "id": "270a5326",
      "metadata": {
        "papermill": {
          "duration": 0.020146,
          "end_time": "2025-06-25T14:25:31.232865",
          "exception": false,
          "start_time": "2025-06-25T14:25:31.212719",
          "status": "completed"
        },
        "tags": []
      },
      "outputs": [],
      "source": []
    },
    {
      "cell_type": "markdown",
      "id": "0331f950",
      "metadata": {
        "papermill": {
          "duration": 0.023126,
          "end_time": "2025-06-25T14:25:31.279503",
          "exception": false,
          "start_time": "2025-06-25T14:25:31.256377",
          "status": "completed"
        },
        "tags": []
      },
      "source": [
        "#### 58. Subtract the mean of each row of a matrix (\u2605\u2605\u2606)"
      ]
    },
    {
      "cell_type": "code",
      "execution_count": null,
      "id": "a15066ea",
      "metadata": {
        "papermill": {
          "duration": 0.020553,
          "end_time": "2025-06-25T14:25:31.323456",
          "exception": false,
          "start_time": "2025-06-25T14:25:31.302903",
          "status": "completed"
        },
        "tags": []
      },
      "outputs": [],
      "source": []
    },
    {
      "cell_type": "markdown",
      "id": "afc5d7ea",
      "metadata": {
        "papermill": {
          "duration": 0.020684,
          "end_time": "2025-06-25T14:25:31.365035",
          "exception": false,
          "start_time": "2025-06-25T14:25:31.344351",
          "status": "completed"
        },
        "tags": []
      },
      "source": [
        "#### 59. How to sort an array by the nth column? (\u2605\u2605\u2606)"
      ]
    },
    {
      "cell_type": "code",
      "execution_count": null,
      "id": "225fbcb4",
      "metadata": {
        "papermill": {
          "duration": 0.020689,
          "end_time": "2025-06-25T14:25:31.407244",
          "exception": false,
          "start_time": "2025-06-25T14:25:31.386555",
          "status": "completed"
        },
        "tags": []
      },
      "outputs": [],
      "source": []
    },
    {
      "cell_type": "markdown",
      "id": "945d5ba4",
      "metadata": {
        "papermill": {
          "duration": 0.020603,
          "end_time": "2025-06-25T14:25:31.448344",
          "exception": false,
          "start_time": "2025-06-25T14:25:31.427741",
          "status": "completed"
        },
        "tags": []
      },
      "source": [
        "#### 60. How to tell if a given 2D array has null columns? (\u2605\u2605\u2606)"
      ]
    },
    {
      "cell_type": "code",
      "execution_count": null,
      "id": "3924f084",
      "metadata": {
        "papermill": {
          "duration": 0.020301,
          "end_time": "2025-06-25T14:25:31.489120",
          "exception": false,
          "start_time": "2025-06-25T14:25:31.468819",
          "status": "completed"
        },
        "tags": []
      },
      "outputs": [],
      "source": []
    },
    {
      "cell_type": "markdown",
      "id": "1030512e",
      "metadata": {
        "papermill": {
          "duration": 0.020421,
          "end_time": "2025-06-25T14:25:31.530460",
          "exception": false,
          "start_time": "2025-06-25T14:25:31.510039",
          "status": "completed"
        },
        "tags": []
      },
      "source": [
        "#### 61. Find the nearest value from a given value in an array (\u2605\u2605\u2606)"
      ]
    },
    {
      "cell_type": "code",
      "execution_count": null,
      "id": "0c241f1c",
      "metadata": {
        "papermill": {
          "duration": 0.020488,
          "end_time": "2025-06-25T14:25:31.571741",
          "exception": false,
          "start_time": "2025-06-25T14:25:31.551253",
          "status": "completed"
        },
        "tags": []
      },
      "outputs": [],
      "source": []
    },
    {
      "cell_type": "markdown",
      "id": "5aec6b5d",
      "metadata": {
        "papermill": {
          "duration": 0.020346,
          "end_time": "2025-06-25T14:25:31.612661",
          "exception": false,
          "start_time": "2025-06-25T14:25:31.592315",
          "status": "completed"
        },
        "tags": []
      },
      "source": [
        "#### 62. Considering two arrays with shape (1,3) and (3,1), how to compute their sum using an iterator? (\u2605\u2605\u2606)"
      ]
    },
    {
      "cell_type": "code",
      "execution_count": null,
      "id": "b7f063be",
      "metadata": {
        "papermill": {
          "duration": 0.020729,
          "end_time": "2025-06-25T14:25:31.655399",
          "exception": false,
          "start_time": "2025-06-25T14:25:31.634670",
          "status": "completed"
        },
        "tags": []
      },
      "outputs": [],
      "source": []
    },
    {
      "cell_type": "markdown",
      "id": "667454d8",
      "metadata": {
        "papermill": {
          "duration": 0.021603,
          "end_time": "2025-06-25T14:25:31.698294",
          "exception": false,
          "start_time": "2025-06-25T14:25:31.676691",
          "status": "completed"
        },
        "tags": []
      },
      "source": [
        "#### 63. Create an array class that has a name attribute (\u2605\u2605\u2606)"
      ]
    },
    {
      "cell_type": "code",
      "execution_count": null,
      "id": "96e78370",
      "metadata": {
        "papermill": {
          "duration": 0.020676,
          "end_time": "2025-06-25T14:25:31.739584",
          "exception": false,
          "start_time": "2025-06-25T14:25:31.718908",
          "status": "completed"
        },
        "tags": []
      },
      "outputs": [],
      "source": []
    },
    {
      "cell_type": "markdown",
      "id": "13a9f575",
      "metadata": {
        "papermill": {
          "duration": 0.022204,
          "end_time": "2025-06-25T14:25:31.782538",
          "exception": false,
          "start_time": "2025-06-25T14:25:31.760334",
          "status": "completed"
        },
        "tags": []
      },
      "source": [
        "#### 64. Consider a given vector, how to add 1 to each element indexed by a second vector (be careful with repeated indices)? (\u2605\u2605\u2605)"
      ]
    },
    {
      "cell_type": "code",
      "execution_count": null,
      "id": "407cc500",
      "metadata": {
        "papermill": {
          "duration": 0.023233,
          "end_time": "2025-06-25T14:25:31.828029",
          "exception": false,
          "start_time": "2025-06-25T14:25:31.804796",
          "status": "completed"
        },
        "tags": []
      },
      "outputs": [],
      "source": []
    },
    {
      "cell_type": "markdown",
      "id": "4a761fff",
      "metadata": {
        "papermill": {
          "duration": 0.021598,
          "end_time": "2025-06-25T14:25:31.871027",
          "exception": false,
          "start_time": "2025-06-25T14:25:31.849429",
          "status": "completed"
        },
        "tags": []
      },
      "source": [
        "#### 65. How to accumulate elements of a vector (X) to an array (F) based on an index list (I)? (\u2605\u2605\u2605)"
      ]
    },
    {
      "cell_type": "code",
      "execution_count": null,
      "id": "184626fe",
      "metadata": {
        "papermill": {
          "duration": 0.020542,
          "end_time": "2025-06-25T14:25:31.913335",
          "exception": false,
          "start_time": "2025-06-25T14:25:31.892793",
          "status": "completed"
        },
        "tags": []
      },
      "outputs": [],
      "source": []
    },
    {
      "cell_type": "markdown",
      "id": "047f8e30",
      "metadata": {
        "papermill": {
          "duration": 0.020433,
          "end_time": "2025-06-25T14:25:31.954391",
          "exception": false,
          "start_time": "2025-06-25T14:25:31.933958",
          "status": "completed"
        },
        "tags": []
      },
      "source": [
        "#### 66. Considering a (w,h,3) image of (dtype=ubyte), compute the number of unique colors (\u2605\u2605\u2606)"
      ]
    },
    {
      "cell_type": "code",
      "execution_count": null,
      "id": "27d860d9",
      "metadata": {
        "papermill": {
          "duration": 0.020603,
          "end_time": "2025-06-25T14:25:31.995764",
          "exception": false,
          "start_time": "2025-06-25T14:25:31.975161",
          "status": "completed"
        },
        "tags": []
      },
      "outputs": [],
      "source": []
    },
    {
      "cell_type": "markdown",
      "id": "b6996c1b",
      "metadata": {
        "papermill": {
          "duration": 0.020665,
          "end_time": "2025-06-25T14:25:32.037170",
          "exception": false,
          "start_time": "2025-06-25T14:25:32.016505",
          "status": "completed"
        },
        "tags": []
      },
      "source": [
        "#### 67. Considering a four dimensions array, how to get sum over the last two axis at once? (\u2605\u2605\u2605)"
      ]
    },
    {
      "cell_type": "code",
      "execution_count": null,
      "id": "e50a65ad",
      "metadata": {
        "papermill": {
          "duration": 0.020999,
          "end_time": "2025-06-25T14:25:32.079469",
          "exception": false,
          "start_time": "2025-06-25T14:25:32.058470",
          "status": "completed"
        },
        "tags": []
      },
      "outputs": [],
      "source": []
    },
    {
      "cell_type": "markdown",
      "id": "99536b27",
      "metadata": {
        "papermill": {
          "duration": 0.020539,
          "end_time": "2025-06-25T14:25:32.120902",
          "exception": false,
          "start_time": "2025-06-25T14:25:32.100363",
          "status": "completed"
        },
        "tags": []
      },
      "source": [
        "#### 68. Considering a one-dimensional vector D, how to compute means of subsets of D using a vector S of same size describing subset  indices? (\u2605\u2605\u2605)"
      ]
    },
    {
      "cell_type": "code",
      "execution_count": null,
      "id": "e9929b2a",
      "metadata": {
        "papermill": {
          "duration": 0.02056,
          "end_time": "2025-06-25T14:25:32.162194",
          "exception": false,
          "start_time": "2025-06-25T14:25:32.141634",
          "status": "completed"
        },
        "tags": []
      },
      "outputs": [],
      "source": []
    },
    {
      "cell_type": "markdown",
      "id": "b467b8df",
      "metadata": {
        "papermill": {
          "duration": 0.020514,
          "end_time": "2025-06-25T14:25:32.203360",
          "exception": false,
          "start_time": "2025-06-25T14:25:32.182846",
          "status": "completed"
        },
        "tags": []
      },
      "source": [
        "#### 69. How to get the diagonal of a dot product? (\u2605\u2605\u2605)"
      ]
    },
    {
      "cell_type": "code",
      "execution_count": null,
      "id": "d08d9e75",
      "metadata": {
        "papermill": {
          "duration": 0.020497,
          "end_time": "2025-06-25T14:25:32.244555",
          "exception": false,
          "start_time": "2025-06-25T14:25:32.224058",
          "status": "completed"
        },
        "tags": []
      },
      "outputs": [],
      "source": []
    },
    {
      "cell_type": "markdown",
      "id": "a1d80839",
      "metadata": {
        "papermill": {
          "duration": 0.021913,
          "end_time": "2025-06-25T14:25:32.288381",
          "exception": false,
          "start_time": "2025-06-25T14:25:32.266468",
          "status": "completed"
        },
        "tags": []
      },
      "source": [
        "#### 70. Consider the vector [1, 2, 3, 4, 5], how to build a new vector with 3 consecutive zeros interleaved between each value? (\u2605\u2605\u2605)"
      ]
    },
    {
      "cell_type": "code",
      "execution_count": null,
      "id": "1473b9aa",
      "metadata": {
        "papermill": {
          "duration": 0.020516,
          "end_time": "2025-06-25T14:25:32.330334",
          "exception": false,
          "start_time": "2025-06-25T14:25:32.309818",
          "status": "completed"
        },
        "tags": []
      },
      "outputs": [],
      "source": []
    },
    {
      "cell_type": "markdown",
      "id": "5482ce0e",
      "metadata": {
        "papermill": {
          "duration": 0.020591,
          "end_time": "2025-06-25T14:25:32.371635",
          "exception": false,
          "start_time": "2025-06-25T14:25:32.351044",
          "status": "completed"
        },
        "tags": []
      },
      "source": [
        "#### 71. Consider an array of dimension (5,5,3), how to multiply it by an array with dimensions (5,5)? (\u2605\u2605\u2605)"
      ]
    },
    {
      "cell_type": "code",
      "execution_count": null,
      "id": "1e47be8e",
      "metadata": {
        "papermill": {
          "duration": 0.021475,
          "end_time": "2025-06-25T14:25:32.414153",
          "exception": false,
          "start_time": "2025-06-25T14:25:32.392678",
          "status": "completed"
        },
        "tags": []
      },
      "outputs": [],
      "source": []
    },
    {
      "cell_type": "markdown",
      "id": "2e6caea4",
      "metadata": {
        "papermill": {
          "duration": 0.020611,
          "end_time": "2025-06-25T14:25:32.455562",
          "exception": false,
          "start_time": "2025-06-25T14:25:32.434951",
          "status": "completed"
        },
        "tags": []
      },
      "source": [
        "#### 72. How to swap two rows of an array? (\u2605\u2605\u2605)"
      ]
    },
    {
      "cell_type": "code",
      "execution_count": null,
      "id": "6bcc2575",
      "metadata": {
        "papermill": {
          "duration": 0.020303,
          "end_time": "2025-06-25T14:25:32.496643",
          "exception": false,
          "start_time": "2025-06-25T14:25:32.476340",
          "status": "completed"
        },
        "tags": []
      },
      "outputs": [],
      "source": []
    },
    {
      "cell_type": "markdown",
      "id": "2860aa11",
      "metadata": {
        "papermill": {
          "duration": 0.020801,
          "end_time": "2025-06-25T14:25:32.537893",
          "exception": false,
          "start_time": "2025-06-25T14:25:32.517092",
          "status": "completed"
        },
        "tags": []
      },
      "source": [
        "#### 73. Consider a set of 10 triplets describing 10 triangles (with shared vertices), find the set of unique line segments composing all the  triangles (\u2605\u2605\u2605)"
      ]
    },
    {
      "cell_type": "code",
      "execution_count": null,
      "id": "9197d82d",
      "metadata": {
        "papermill": {
          "duration": 0.020402,
          "end_time": "2025-06-25T14:25:32.578908",
          "exception": false,
          "start_time": "2025-06-25T14:25:32.558506",
          "status": "completed"
        },
        "tags": []
      },
      "outputs": [],
      "source": []
    },
    {
      "cell_type": "markdown",
      "id": "dbdde4f3",
      "metadata": {
        "papermill": {
          "duration": 0.020201,
          "end_time": "2025-06-25T14:25:32.619641",
          "exception": false,
          "start_time": "2025-06-25T14:25:32.599440",
          "status": "completed"
        },
        "tags": []
      },
      "source": [
        "#### 74. Given a sorted array C that corresponds to a bincount, how to produce an array A such that np.bincount(A) == C? (\u2605\u2605\u2605)"
      ]
    },
    {
      "cell_type": "code",
      "execution_count": null,
      "id": "8356b727",
      "metadata": {
        "papermill": {
          "duration": 0.020381,
          "end_time": "2025-06-25T14:25:32.660701",
          "exception": false,
          "start_time": "2025-06-25T14:25:32.640320",
          "status": "completed"
        },
        "tags": []
      },
      "outputs": [],
      "source": []
    },
    {
      "cell_type": "markdown",
      "id": "86ec2013",
      "metadata": {
        "papermill": {
          "duration": 0.020286,
          "end_time": "2025-06-25T14:25:32.701394",
          "exception": false,
          "start_time": "2025-06-25T14:25:32.681108",
          "status": "completed"
        },
        "tags": []
      },
      "source": [
        "#### 75. How to compute averages using a sliding window over an array? (\u2605\u2605\u2605)"
      ]
    },
    {
      "cell_type": "code",
      "execution_count": null,
      "id": "f10995e2",
      "metadata": {
        "papermill": {
          "duration": 0.020951,
          "end_time": "2025-06-25T14:25:32.744581",
          "exception": false,
          "start_time": "2025-06-25T14:25:32.723630",
          "status": "completed"
        },
        "tags": []
      },
      "outputs": [],
      "source": []
    },
    {
      "cell_type": "markdown",
      "id": "d3605e6d",
      "metadata": {
        "papermill": {
          "duration": 0.026746,
          "end_time": "2025-06-25T14:25:32.792178",
          "exception": false,
          "start_time": "2025-06-25T14:25:32.765432",
          "status": "completed"
        },
        "tags": []
      },
      "source": [
        "#### 76. Consider a one-dimensional array Z, build a two-dimensional array whose first row is (Z[0],Z[1],Z[2]) and each subsequent row is  shifted by 1 (last row should be (Z[-3],Z[-2],Z[-1]) (\u2605\u2605\u2605)"
      ]
    },
    {
      "cell_type": "code",
      "execution_count": null,
      "id": "22dab2dc",
      "metadata": {
        "papermill": {
          "duration": 0.023007,
          "end_time": "2025-06-25T14:25:32.836745",
          "exception": false,
          "start_time": "2025-06-25T14:25:32.813738",
          "status": "completed"
        },
        "tags": []
      },
      "outputs": [],
      "source": []
    },
    {
      "cell_type": "markdown",
      "id": "a4daba7f",
      "metadata": {
        "papermill": {
          "duration": 0.020357,
          "end_time": "2025-06-25T14:25:32.877805",
          "exception": false,
          "start_time": "2025-06-25T14:25:32.857448",
          "status": "completed"
        },
        "tags": []
      },
      "source": [
        "#### 77. How to negate a boolean, or to change the sign of a float inplace? (\u2605\u2605\u2605)"
      ]
    },
    {
      "cell_type": "code",
      "execution_count": null,
      "id": "7dacc10e",
      "metadata": {
        "papermill": {
          "duration": 0.021114,
          "end_time": "2025-06-25T14:25:32.919601",
          "exception": false,
          "start_time": "2025-06-25T14:25:32.898487",
          "status": "completed"
        },
        "tags": []
      },
      "outputs": [],
      "source": []
    },
    {
      "cell_type": "markdown",
      "id": "4409ca75",
      "metadata": {
        "papermill": {
          "duration": 0.025819,
          "end_time": "2025-06-25T14:25:32.970135",
          "exception": false,
          "start_time": "2025-06-25T14:25:32.944316",
          "status": "completed"
        },
        "tags": []
      },
      "source": [
        "#### 78. Consider 2 sets of points P0,P1 describing lines (2d) and a point p, how to compute distance from p to each line i (P0[i],P1[i])? (\u2605\u2605\u2605)"
      ]
    },
    {
      "cell_type": "code",
      "execution_count": null,
      "id": "1172a610",
      "metadata": {
        "papermill": {
          "duration": 0.030482,
          "end_time": "2025-06-25T14:25:33.031795",
          "exception": false,
          "start_time": "2025-06-25T14:25:33.001313",
          "status": "completed"
        },
        "tags": []
      },
      "outputs": [],
      "source": []
    },
    {
      "cell_type": "markdown",
      "id": "bdda75dc",
      "metadata": {
        "papermill": {
          "duration": 0.020528,
          "end_time": "2025-06-25T14:25:33.073305",
          "exception": false,
          "start_time": "2025-06-25T14:25:33.052777",
          "status": "completed"
        },
        "tags": []
      },
      "source": [
        "#### 79. Consider 2 sets of points P0,P1 describing lines (2d) and a set of points P, how to compute distance from each point j (P[j]) to each line i (P0[i],P1[i])? (\u2605\u2605\u2605)"
      ]
    },
    {
      "cell_type": "code",
      "execution_count": null,
      "id": "2fb390a4",
      "metadata": {
        "papermill": {
          "duration": 0.020619,
          "end_time": "2025-06-25T14:25:33.114511",
          "exception": false,
          "start_time": "2025-06-25T14:25:33.093892",
          "status": "completed"
        },
        "tags": []
      },
      "outputs": [],
      "source": []
    },
    {
      "cell_type": "markdown",
      "id": "69c39870",
      "metadata": {
        "papermill": {
          "duration": 0.020594,
          "end_time": "2025-06-25T14:25:33.156129",
          "exception": false,
          "start_time": "2025-06-25T14:25:33.135535",
          "status": "completed"
        },
        "tags": []
      },
      "source": [
        "#### 80. Consider an arbitrary array, write a function that extracts a subpart with a fixed shape and centered on a given element (pad with a `fill` value when necessary) (\u2605\u2605\u2605)"
      ]
    },
    {
      "cell_type": "code",
      "execution_count": null,
      "id": "386aa43d",
      "metadata": {
        "papermill": {
          "duration": 0.020437,
          "end_time": "2025-06-25T14:25:33.197124",
          "exception": false,
          "start_time": "2025-06-25T14:25:33.176687",
          "status": "completed"
        },
        "tags": []
      },
      "outputs": [],
      "source": []
    },
    {
      "cell_type": "markdown",
      "id": "b17b7b52",
      "metadata": {
        "papermill": {
          "duration": 0.021237,
          "end_time": "2025-06-25T14:25:33.238941",
          "exception": false,
          "start_time": "2025-06-25T14:25:33.217704",
          "status": "completed"
        },
        "tags": []
      },
      "source": [
        "#### 81. Consider an array Z = [1,2,3,4,5,6,7,8,9,10,11,12,13,14], how to generate an array R = [[1,2,3,4], [2,3,4,5], [3,4,5,6], ..., [11,12,13,14]]? (\u2605\u2605\u2605)"
      ]
    },
    {
      "cell_type": "code",
      "execution_count": null,
      "id": "6eaaf849",
      "metadata": {
        "papermill": {
          "duration": 0.021161,
          "end_time": "2025-06-25T14:25:33.281359",
          "exception": false,
          "start_time": "2025-06-25T14:25:33.260198",
          "status": "completed"
        },
        "tags": []
      },
      "outputs": [],
      "source": []
    },
    {
      "cell_type": "markdown",
      "id": "dc91bd6e",
      "metadata": {
        "papermill": {
          "duration": 0.021493,
          "end_time": "2025-06-25T14:25:33.323843",
          "exception": false,
          "start_time": "2025-06-25T14:25:33.302350",
          "status": "completed"
        },
        "tags": []
      },
      "source": [
        "#### 82. Compute a matrix rank (\u2605\u2605\u2605)"
      ]
    },
    {
      "cell_type": "code",
      "execution_count": null,
      "id": "045f8e3a",
      "metadata": {
        "papermill": {
          "duration": 0.020933,
          "end_time": "2025-06-25T14:25:33.365631",
          "exception": false,
          "start_time": "2025-06-25T14:25:33.344698",
          "status": "completed"
        },
        "tags": []
      },
      "outputs": [],
      "source": []
    },
    {
      "cell_type": "markdown",
      "id": "8f7f3a46",
      "metadata": {
        "papermill": {
          "duration": 0.020607,
          "end_time": "2025-06-25T14:25:33.407630",
          "exception": false,
          "start_time": "2025-06-25T14:25:33.387023",
          "status": "completed"
        },
        "tags": []
      },
      "source": [
        "#### 83. How to find the most frequent value in an array?"
      ]
    },
    {
      "cell_type": "code",
      "execution_count": null,
      "id": "32374fa1",
      "metadata": {
        "papermill": {
          "duration": 0.020921,
          "end_time": "2025-06-25T14:25:33.449652",
          "exception": false,
          "start_time": "2025-06-25T14:25:33.428731",
          "status": "completed"
        },
        "tags": []
      },
      "outputs": [],
      "source": []
    },
    {
      "cell_type": "markdown",
      "id": "eca62f49",
      "metadata": {
        "papermill": {
          "duration": 0.020836,
          "end_time": "2025-06-25T14:25:33.491973",
          "exception": false,
          "start_time": "2025-06-25T14:25:33.471137",
          "status": "completed"
        },
        "tags": []
      },
      "source": [
        "#### 84. Extract all the contiguous 3x3 blocks from a random 10x10 matrix (\u2605\u2605\u2605)"
      ]
    },
    {
      "cell_type": "code",
      "execution_count": null,
      "id": "d8338f2a",
      "metadata": {
        "papermill": {
          "duration": 0.02083,
          "end_time": "2025-06-25T14:25:33.534168",
          "exception": false,
          "start_time": "2025-06-25T14:25:33.513338",
          "status": "completed"
        },
        "tags": []
      },
      "outputs": [],
      "source": []
    },
    {
      "cell_type": "markdown",
      "id": "46afbfa8",
      "metadata": {
        "papermill": {
          "duration": 0.020712,
          "end_time": "2025-06-25T14:25:33.575981",
          "exception": false,
          "start_time": "2025-06-25T14:25:33.555269",
          "status": "completed"
        },
        "tags": []
      },
      "source": [
        "#### 85. Create a 2D array subclass such that Z[i,j] == Z[j,i] (\u2605\u2605\u2605)"
      ]
    },
    {
      "cell_type": "code",
      "execution_count": null,
      "id": "7dc1a600",
      "metadata": {
        "papermill": {
          "duration": 0.020752,
          "end_time": "2025-06-25T14:25:33.617648",
          "exception": false,
          "start_time": "2025-06-25T14:25:33.596896",
          "status": "completed"
        },
        "tags": []
      },
      "outputs": [],
      "source": []
    },
    {
      "cell_type": "markdown",
      "id": "9215668a",
      "metadata": {
        "papermill": {
          "duration": 0.020663,
          "end_time": "2025-06-25T14:25:33.659282",
          "exception": false,
          "start_time": "2025-06-25T14:25:33.638619",
          "status": "completed"
        },
        "tags": []
      },
      "source": [
        "#### 86. Consider a set of p matrices with shape (n,n) and a set of p vectors with shape (n,1). How to compute the sum of of the p matrix products at once? (result has shape (n,1)) (\u2605\u2605\u2605)"
      ]
    },
    {
      "cell_type": "code",
      "execution_count": null,
      "id": "0f096190",
      "metadata": {
        "papermill": {
          "duration": 0.020687,
          "end_time": "2025-06-25T14:25:33.700849",
          "exception": false,
          "start_time": "2025-06-25T14:25:33.680162",
          "status": "completed"
        },
        "tags": []
      },
      "outputs": [],
      "source": []
    },
    {
      "cell_type": "markdown",
      "id": "b8b0d7c6",
      "metadata": {
        "papermill": {
          "duration": 0.020712,
          "end_time": "2025-06-25T14:25:33.743653",
          "exception": false,
          "start_time": "2025-06-25T14:25:33.722941",
          "status": "completed"
        },
        "tags": []
      },
      "source": [
        "#### 87. Consider a 16x16 array, how to get the block-sum (block size is 4x4)? (\u2605\u2605\u2605)"
      ]
    },
    {
      "cell_type": "code",
      "execution_count": null,
      "id": "b903494b",
      "metadata": {
        "papermill": {
          "duration": 0.021362,
          "end_time": "2025-06-25T14:25:33.786156",
          "exception": false,
          "start_time": "2025-06-25T14:25:33.764794",
          "status": "completed"
        },
        "tags": []
      },
      "outputs": [],
      "source": []
    },
    {
      "cell_type": "markdown",
      "id": "6dbfd956",
      "metadata": {
        "papermill": {
          "duration": 0.022974,
          "end_time": "2025-06-25T14:25:33.830589",
          "exception": false,
          "start_time": "2025-06-25T14:25:33.807615",
          "status": "completed"
        },
        "tags": []
      },
      "source": [
        "#### 88. How to implement the Game of Life using numpy arrays? (\u2605\u2605\u2605)"
      ]
    },
    {
      "cell_type": "code",
      "execution_count": null,
      "id": "35210a92",
      "metadata": {
        "papermill": {
          "duration": 0.020625,
          "end_time": "2025-06-25T14:25:33.872282",
          "exception": false,
          "start_time": "2025-06-25T14:25:33.851657",
          "status": "completed"
        },
        "tags": []
      },
      "outputs": [],
      "source": []
    },
    {
      "cell_type": "markdown",
      "id": "b3530383",
      "metadata": {
        "papermill": {
          "duration": 0.02048,
          "end_time": "2025-06-25T14:25:33.913557",
          "exception": false,
          "start_time": "2025-06-25T14:25:33.893077",
          "status": "completed"
        },
        "tags": []
      },
      "source": [
        "#### 89. How to get the n largest values of an array (\u2605\u2605\u2605)"
      ]
    },
    {
      "cell_type": "code",
      "execution_count": null,
      "id": "a3de3bb3",
      "metadata": {
        "papermill": {
          "duration": 0.021188,
          "end_time": "2025-06-25T14:25:33.955642",
          "exception": false,
          "start_time": "2025-06-25T14:25:33.934454",
          "status": "completed"
        },
        "tags": []
      },
      "outputs": [],
      "source": []
    },
    {
      "cell_type": "markdown",
      "id": "7e4db417",
      "metadata": {
        "papermill": {
          "duration": 0.020795,
          "end_time": "2025-06-25T14:25:33.997551",
          "exception": false,
          "start_time": "2025-06-25T14:25:33.976756",
          "status": "completed"
        },
        "tags": []
      },
      "source": [
        "#### 90. Given an arbitrary number of vectors, build the cartesian product (every combination of every item) (\u2605\u2605\u2605)"
      ]
    },
    {
      "cell_type": "code",
      "execution_count": null,
      "id": "c4cf16f0",
      "metadata": {
        "papermill": {
          "duration": 0.021009,
          "end_time": "2025-06-25T14:25:34.039405",
          "exception": false,
          "start_time": "2025-06-25T14:25:34.018396",
          "status": "completed"
        },
        "tags": []
      },
      "outputs": [],
      "source": []
    },
    {
      "cell_type": "markdown",
      "id": "e7cfc69d",
      "metadata": {
        "papermill": {
          "duration": 0.020752,
          "end_time": "2025-06-25T14:25:34.081284",
          "exception": false,
          "start_time": "2025-06-25T14:25:34.060532",
          "status": "completed"
        },
        "tags": []
      },
      "source": [
        "#### 91. How to create a record array from a regular array? (\u2605\u2605\u2605)"
      ]
    },
    {
      "cell_type": "code",
      "execution_count": null,
      "id": "25dd9e66",
      "metadata": {
        "papermill": {
          "duration": 0.020505,
          "end_time": "2025-06-25T14:25:34.122654",
          "exception": false,
          "start_time": "2025-06-25T14:25:34.102149",
          "status": "completed"
        },
        "tags": []
      },
      "outputs": [],
      "source": []
    },
    {
      "cell_type": "markdown",
      "id": "97a96747",
      "metadata": {
        "papermill": {
          "duration": 0.020654,
          "end_time": "2025-06-25T14:25:34.164216",
          "exception": false,
          "start_time": "2025-06-25T14:25:34.143562",
          "status": "completed"
        },
        "tags": []
      },
      "source": [
        "#### 92. Consider a large vector Z, compute Z to the power of 3 using 3 different methods (\u2605\u2605\u2605)"
      ]
    },
    {
      "cell_type": "code",
      "execution_count": null,
      "id": "4a5dbe28",
      "metadata": {
        "papermill": {
          "duration": 0.020929,
          "end_time": "2025-06-25T14:25:34.205938",
          "exception": false,
          "start_time": "2025-06-25T14:25:34.185009",
          "status": "completed"
        },
        "tags": []
      },
      "outputs": [],
      "source": []
    },
    {
      "cell_type": "markdown",
      "id": "eb7c8317",
      "metadata": {
        "papermill": {
          "duration": 0.021088,
          "end_time": "2025-06-25T14:25:34.247747",
          "exception": false,
          "start_time": "2025-06-25T14:25:34.226659",
          "status": "completed"
        },
        "tags": []
      },
      "source": [
        "#### 93. Consider two arrays A and B of shape (8,3) and (2,2). How to find rows of A that contain elements of each row of B regardless of the order of the elements in B? (\u2605\u2605\u2605)"
      ]
    },
    {
      "cell_type": "code",
      "execution_count": null,
      "id": "0af3e55a",
      "metadata": {
        "papermill": {
          "duration": 0.02083,
          "end_time": "2025-06-25T14:25:34.290067",
          "exception": false,
          "start_time": "2025-06-25T14:25:34.269237",
          "status": "completed"
        },
        "tags": []
      },
      "outputs": [],
      "source": []
    },
    {
      "cell_type": "markdown",
      "id": "cb90c2da",
      "metadata": {
        "papermill": {
          "duration": 0.021018,
          "end_time": "2025-06-25T14:25:34.332459",
          "exception": false,
          "start_time": "2025-06-25T14:25:34.311441",
          "status": "completed"
        },
        "tags": []
      },
      "source": [
        "#### 94. Considering a 10x3 matrix, extract rows with unequal values (e.g. [2,2,3]) (\u2605\u2605\u2605)"
      ]
    },
    {
      "cell_type": "code",
      "execution_count": null,
      "id": "491b9758",
      "metadata": {
        "papermill": {
          "duration": 0.020753,
          "end_time": "2025-06-25T14:25:34.374018",
          "exception": false,
          "start_time": "2025-06-25T14:25:34.353265",
          "status": "completed"
        },
        "tags": []
      },
      "outputs": [],
      "source": []
    },
    {
      "cell_type": "markdown",
      "id": "5c29210a",
      "metadata": {
        "papermill": {
          "duration": 0.020471,
          "end_time": "2025-06-25T14:25:34.415305",
          "exception": false,
          "start_time": "2025-06-25T14:25:34.394834",
          "status": "completed"
        },
        "tags": []
      },
      "source": [
        "#### 95. Convert a vector of ints into a matrix binary representation (\u2605\u2605\u2605)"
      ]
    },
    {
      "cell_type": "code",
      "execution_count": null,
      "id": "b8b42f08",
      "metadata": {
        "papermill": {
          "duration": 0.02042,
          "end_time": "2025-06-25T14:25:34.456462",
          "exception": false,
          "start_time": "2025-06-25T14:25:34.436042",
          "status": "completed"
        },
        "tags": []
      },
      "outputs": [],
      "source": []
    },
    {
      "cell_type": "markdown",
      "id": "d24875fc",
      "metadata": {
        "papermill": {
          "duration": 0.020704,
          "end_time": "2025-06-25T14:25:34.497962",
          "exception": false,
          "start_time": "2025-06-25T14:25:34.477258",
          "status": "completed"
        },
        "tags": []
      },
      "source": [
        "#### 96. Given a two dimensional array, how to extract unique rows? (\u2605\u2605\u2605)"
      ]
    },
    {
      "cell_type": "code",
      "execution_count": null,
      "id": "4ddd7605",
      "metadata": {
        "papermill": {
          "duration": 0.020565,
          "end_time": "2025-06-25T14:25:34.539774",
          "exception": false,
          "start_time": "2025-06-25T14:25:34.519209",
          "status": "completed"
        },
        "tags": []
      },
      "outputs": [],
      "source": []
    },
    {
      "cell_type": "markdown",
      "id": "6305955b",
      "metadata": {
        "papermill": {
          "duration": 0.020582,
          "end_time": "2025-06-25T14:25:34.581075",
          "exception": false,
          "start_time": "2025-06-25T14:25:34.560493",
          "status": "completed"
        },
        "tags": []
      },
      "source": [
        "#### 97. Considering 2 vectors A & B, write the einsum equivalent of inner, outer, sum, and mul function (\u2605\u2605\u2605)"
      ]
    },
    {
      "cell_type": "code",
      "execution_count": null,
      "id": "6319daad",
      "metadata": {
        "papermill": {
          "duration": 0.020707,
          "end_time": "2025-06-25T14:25:34.622473",
          "exception": false,
          "start_time": "2025-06-25T14:25:34.601766",
          "status": "completed"
        },
        "tags": []
      },
      "outputs": [],
      "source": []
    },
    {
      "cell_type": "markdown",
      "id": "9e83aeea",
      "metadata": {
        "papermill": {
          "duration": 0.02059,
          "end_time": "2025-06-25T14:25:34.663857",
          "exception": false,
          "start_time": "2025-06-25T14:25:34.643267",
          "status": "completed"
        },
        "tags": []
      },
      "source": [
        "#### 98. Considering a path described by two vectors (X,Y), how to sample it using equidistant samples (\u2605\u2605\u2605)?"
      ]
    },
    {
      "cell_type": "code",
      "execution_count": null,
      "id": "7b8327da",
      "metadata": {
        "papermill": {
          "duration": 0.020494,
          "end_time": "2025-06-25T14:25:34.705075",
          "exception": false,
          "start_time": "2025-06-25T14:25:34.684581",
          "status": "completed"
        },
        "tags": []
      },
      "outputs": [],
      "source": []
    },
    {
      "cell_type": "markdown",
      "id": "4d9296ba",
      "metadata": {
        "papermill": {
          "duration": 0.020829,
          "end_time": "2025-06-25T14:25:34.746859",
          "exception": false,
          "start_time": "2025-06-25T14:25:34.726030",
          "status": "completed"
        },
        "tags": []
      },
      "source": [
        "#### 99. Given an integer n and a 2D array X, select from X the rows which can be interpreted as draws from a multinomial distribution with n degrees, i.e., the rows which only contain integers and which sum to n. (\u2605\u2605\u2605)"
      ]
    },
    {
      "cell_type": "code",
      "execution_count": null,
      "id": "88769344",
      "metadata": {
        "papermill": {
          "duration": 0.020568,
          "end_time": "2025-06-25T14:25:34.788337",
          "exception": false,
          "start_time": "2025-06-25T14:25:34.767769",
          "status": "completed"
        },
        "tags": []
      },
      "outputs": [],
      "source": []
    },
    {
      "cell_type": "markdown",
      "id": "47812e70",
      "metadata": {
        "papermill": {
          "duration": 0.021969,
          "end_time": "2025-06-25T14:25:34.831664",
          "exception": false,
          "start_time": "2025-06-25T14:25:34.809695",
          "status": "completed"
        },
        "tags": []
      },
      "source": [
        "#### 100. Compute bootstrapped 95% confidence intervals for the mean of a 1D array X (i.e., resample the elements of an array with replacement N times, compute the mean of each sample, and then compute percentiles over the means). (\u2605\u2605\u2605)"
      ]
    },
    {
      "cell_type": "code",
      "execution_count": null,
      "id": "ad5f81c9",
      "metadata": {
        "papermill": {
          "duration": 0.020511,
          "end_time": "2025-06-25T14:25:34.872940",
          "exception": false,
          "start_time": "2025-06-25T14:25:34.852429",
          "status": "completed"
        },
        "tags": []
      },
      "outputs": [],
      "source": []
    }
  ],
  "metadata": {
    "kaggle": {
      "accelerator": "none",
      "dataSources": [],
      "dockerImageVersionId": 31040,
      "isGpuEnabled": false,
      "isInternetEnabled": true,
      "language": "python",
      "sourceType": "notebook"
    },
    "kernelspec": {
      "display_name": "Python 3",
      "language": "python",
      "name": "python3"
    },
    "language_info": {
      "codemirror_mode": {
        "name": "ipython",
        "version": 3
      },
      "file_extension": ".py",
      "mimetype": "text/x-python",
      "name": "python",
      "nbconvert_exporter": "python",
      "pygments_lexer": "ipython3",
      "version": "3.11.11"
    },
    "papermill": {
      "default_parameters": {},
      "duration": 14.313732,
      "end_time": "2025-06-25T14:25:35.312555",
      "environment_variables": {},
      "exception": null,
      "input_path": "__notebook__.ipynb",
      "output_path": "__notebook__.ipynb",
      "parameters": {},
      "start_time": "2025-06-25T14:25:20.998823",
      "version": "2.6.0"
    }
  },
  "nbformat": 4,
  "nbformat_minor": 5
}
