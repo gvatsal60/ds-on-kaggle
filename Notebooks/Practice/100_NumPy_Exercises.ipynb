{
 "cells": [
  {
   "cell_type": "markdown",
   "id": "7fe8ec2b",
   "metadata": {
    "papermill": {
     "duration": 0.022861,
     "end_time": "2025-06-26T11:32:11.494027",
     "exception": false,
     "start_time": "2025-06-26T11:32:11.471166",
     "status": "completed"
    },
    "tags": []
   },
   "source": [
    "<a href=\"https://www.kaggle.com/code/gvatsal60/100-numpy-exercises\" target=\"_blank\"><img align=\"left\" alt=\"Kaggle\" title=\"Open in Kaggle\" src=\"https://kaggle.com/static/images/open-in-kaggle.svg\"></a>"
   ]
  },
  {
   "cell_type": "markdown",
   "id": "51461311",
   "metadata": {
    "papermill": {
     "duration": 0.019548,
     "end_time": "2025-06-26T11:32:11.533667",
     "exception": false,
     "start_time": "2025-06-26T11:32:11.514119",
     "status": "completed"
    },
    "tags": []
   },
   "source": [
    "# 🎯 100 NumPy Exercises\n",
    "\n",
    "Welcome to **100 NumPy Exercises** — a curated collection of problems designed to sharpen your skills in NumPy, whether you're a beginner or a seasoned data wrangler.\n",
    "\n",
    "---\n",
    "\n",
    "📌 **About This Collection**\n",
    "\n",
    "This set of exercises has been gathered from:\n",
    "- The **NumPy mailing list**\n",
    "- **Stack Overflow** discussions\n",
    "- The **official NumPy documentation**\n",
    "\n",
    "The primary goal is to serve as:\n",
    "- 📚 A quick reference for both new and experienced users  \n",
    "- 🎓 A practical toolkit for educators and learners\n",
    "\n",
    "---\n",
    "\n",
    "💬 **Suggestions or Corrections?**\n",
    "\n",
    "If you find an error or have a better solution, feel free to contribute!  \n",
    "➡️ Open an issue here: [100-Numpy-Exercise](https://github.com/gvatsal60/ds-on-kaggle/issues)\n",
    "\n",
    "---\n",
    "\n",
    "📄 **Credits and Licensing**\n",
    "\n",
    "Includes code and ideas derived from work by [Nicolas P. Rougier](https://github.com/rougier), \n",
    "used in accordance with the terms of the original [license](https://github.com/rougier/numpy-100/blob/master/LICENSE.txt).\n",
    "\n",
    "---\n",
    "\n",
    "🧠 **Ready to dive in?**  \n",
    "Let’s explore the power of NumPy — one exercise at a time!\n",
    "\n",
    "---"
   ]
  },
  {
   "cell_type": "markdown",
   "id": "870aa5a7",
   "metadata": {
    "papermill": {
     "duration": 0.019471,
     "end_time": "2025-06-26T11:32:11.573671",
     "exception": false,
     "start_time": "2025-06-26T11:32:11.554200",
     "status": "completed"
    },
    "tags": []
   },
   "source": [
    "#### 1. Import the numpy package under the name `np` (★☆☆)"
   ]
  },
  {
   "cell_type": "code",
   "execution_count": 1,
   "id": "b53df2d2",
   "metadata": {
    "execution": {
     "iopub.execute_input": "2025-06-26T11:32:11.614806Z",
     "iopub.status.busy": "2025-06-26T11:32:11.614518Z",
     "iopub.status.idle": "2025-06-26T11:32:11.621398Z",
     "shell.execute_reply": "2025-06-26T11:32:11.620589Z"
    },
    "papermill": {
     "duration": 0.029447,
     "end_time": "2025-06-26T11:32:11.622745",
     "exception": false,
     "start_time": "2025-06-26T11:32:11.593298",
     "status": "completed"
    },
    "tags": []
   },
   "outputs": [],
   "source": [
    "import numpy as np"
   ]
  },
  {
   "cell_type": "markdown",
   "id": "215cb1db",
   "metadata": {
    "papermill": {
     "duration": 0.01944,
     "end_time": "2025-06-26T11:32:11.723767",
     "exception": false,
     "start_time": "2025-06-26T11:32:11.704327",
     "status": "completed"
    },
    "tags": []
   },
   "source": [
    "#### 2. Print the numpy version and the configuration (★☆☆)"
   ]
  },
  {
   "cell_type": "code",
   "execution_count": 2,
   "id": "614418a0",
   "metadata": {
    "execution": {
     "iopub.execute_input": "2025-06-26T11:32:11.764990Z",
     "iopub.status.busy": "2025-06-26T11:32:11.764149Z",
     "iopub.status.idle": "2025-06-26T11:32:11.769834Z",
     "shell.execute_reply": "2025-06-26T11:32:11.768902Z"
    },
    "papermill": {
     "duration": 0.027974,
     "end_time": "2025-06-26T11:32:11.771411",
     "exception": false,
     "start_time": "2025-06-26T11:32:11.743437",
     "status": "completed"
    },
    "tags": []
   },
   "outputs": [
    {
     "name": "stdout",
     "output_type": "stream",
     "text": [
      "★ NumPy Version: 1.26.4\n",
      "☆ NumPy Configuration:\n",
      "blas_armpl_info:\n",
      "  NOT AVAILABLE\n",
      "blas_mkl_info:\n",
      "    libraries = ['mkl_rt', 'pthread']\n",
      "    library_dirs = ['/home/sat_bot/base/conda-bld/numpy_and_dev_1715296241721/_h_env_placehold_placehold_placehold_placehold_placehold_placehold_placehold_placehold_placehold_placehold_placehold_placehold_placehold_placehold_placehold_placehold_placehold_placehold_placehold_p/lib']\n",
      "    define_macros = [('SCIPY_MKL_H', None), ('HAVE_CBLAS', None)]\n",
      "    include_dirs = ['/home/sat_bot/base/conda-bld/numpy_and_dev_1715296241721/_h_env_placehold_placehold_placehold_placehold_placehold_placehold_placehold_placehold_placehold_placehold_placehold_placehold_placehold_placehold_placehold_placehold_placehold_placehold_placehold_p/include']\n",
      "blas_opt_info:\n",
      "    libraries = ['mkl_rt', 'pthread']\n",
      "    library_dirs = ['/home/sat_bot/base/conda-bld/numpy_and_dev_1715296241721/_h_env_placehold_placehold_placehold_placehold_placehold_placehold_placehold_placehold_placehold_placehold_placehold_placehold_placehold_placehold_placehold_placehold_placehold_placehold_placehold_p/lib']\n",
      "    define_macros = [('SCIPY_MKL_H', None), ('HAVE_CBLAS', None)]\n",
      "    include_dirs = ['/home/sat_bot/base/conda-bld/numpy_and_dev_1715296241721/_h_env_placehold_placehold_placehold_placehold_placehold_placehold_placehold_placehold_placehold_placehold_placehold_placehold_placehold_placehold_placehold_placehold_placehold_placehold_placehold_p/include']\n",
      "lapack_armpl_info:\n",
      "  NOT AVAILABLE\n",
      "lapack_mkl_info:\n",
      "    libraries = ['mkl_rt', 'pthread']\n",
      "    library_dirs = ['/home/sat_bot/base/conda-bld/numpy_and_dev_1715296241721/_h_env_placehold_placehold_placehold_placehold_placehold_placehold_placehold_placehold_placehold_placehold_placehold_placehold_placehold_placehold_placehold_placehold_placehold_placehold_placehold_p/lib']\n",
      "    define_macros = [('SCIPY_MKL_H', None), ('HAVE_CBLAS', None)]\n",
      "    include_dirs = ['/home/sat_bot/base/conda-bld/numpy_and_dev_1715296241721/_h_env_placehold_placehold_placehold_placehold_placehold_placehold_placehold_placehold_placehold_placehold_placehold_placehold_placehold_placehold_placehold_placehold_placehold_placehold_placehold_p/include']\n",
      "lapack_opt_info:\n",
      "    libraries = ['mkl_rt', 'pthread']\n",
      "    library_dirs = ['/home/sat_bot/base/conda-bld/numpy_and_dev_1715296241721/_h_env_placehold_placehold_placehold_placehold_placehold_placehold_placehold_placehold_placehold_placehold_placehold_placehold_placehold_placehold_placehold_placehold_placehold_placehold_placehold_p/lib']\n",
      "    define_macros = [('SCIPY_MKL_H', None), ('HAVE_CBLAS', None)]\n",
      "    include_dirs = ['/home/sat_bot/base/conda-bld/numpy_and_dev_1715296241721/_h_env_placehold_placehold_placehold_placehold_placehold_placehold_placehold_placehold_placehold_placehold_placehold_placehold_placehold_placehold_placehold_placehold_placehold_placehold_placehold_p/include']\n",
      "Supported SIMD extensions in this NumPy install:\n",
      "    baseline = SSE,SSE2,SSE3\n",
      "    found = SSSE3,SSE41,POPCNT,SSE42,AVX,F16C,FMA3,AVX2\n",
      "    not found = AVX512F,AVX512CD,AVX512_KNL,AVX512_KNM,AVX512_SKX,AVX512_CLX,AVX512_CNL,AVX512_ICL,AVX512_SPR\n"
     ]
    }
   ],
   "source": [
    "print(\"★ NumPy Version:\", np.__version__)\n",
    "print(\"☆ NumPy Configuration:\")\n",
    "np.show_config()"
   ]
  },
  {
   "cell_type": "markdown",
   "id": "2e29f96b",
   "metadata": {
    "papermill": {
     "duration": 0.01967,
     "end_time": "2025-06-26T11:32:11.811326",
     "exception": false,
     "start_time": "2025-06-26T11:32:11.791656",
     "status": "completed"
    },
    "tags": []
   },
   "source": [
    "#### 3. Create a null vector of size 10 (★☆☆)"
   ]
  },
  {
   "cell_type": "code",
   "execution_count": 3,
   "id": "f522538b",
   "metadata": {
    "execution": {
     "iopub.execute_input": "2025-06-26T11:32:11.852934Z",
     "iopub.status.busy": "2025-06-26T11:32:11.852592Z",
     "iopub.status.idle": "2025-06-26T11:32:11.859554Z",
     "shell.execute_reply": "2025-06-26T11:32:11.858675Z"
    },
    "papermill": {
     "duration": 0.029311,
     "end_time": "2025-06-26T11:32:11.860981",
     "exception": false,
     "start_time": "2025-06-26T11:32:11.831670",
     "status": "completed"
    },
    "tags": []
   },
   "outputs": [
    {
     "data": {
      "text/plain": [
       "array([2.79823526e-315, 0.00000000e+000, 4.24399167e-314, 0.00000000e+000,\n",
       "       0.00000000e+000, 9.29434157e-312, 1.31563739e-312, 6.02760088e-322,\n",
       "       0.00000000e+000, 0.00000000e+000])"
      ]
     },
     "execution_count": 3,
     "metadata": {},
     "output_type": "execute_result"
    }
   ],
   "source": [
    "nullVec = np.empty(10)\n",
    "\n",
    "nullVec"
   ]
  },
  {
   "cell_type": "markdown",
   "id": "3485188f",
   "metadata": {
    "papermill": {
     "duration": 0.019806,
     "end_time": "2025-06-26T11:32:11.901683",
     "exception": false,
     "start_time": "2025-06-26T11:32:11.881877",
     "status": "completed"
    },
    "tags": []
   },
   "source": [
    "#### 4. How to find the memory size of any array (★☆☆)"
   ]
  },
  {
   "cell_type": "code",
   "execution_count": 4,
   "id": "e21174db",
   "metadata": {
    "execution": {
     "iopub.execute_input": "2025-06-26T11:32:11.942961Z",
     "iopub.status.busy": "2025-06-26T11:32:11.942633Z",
     "iopub.status.idle": "2025-06-26T11:32:11.947882Z",
     "shell.execute_reply": "2025-06-26T11:32:11.946889Z"
    },
    "papermill": {
     "duration": 0.027559,
     "end_time": "2025-06-26T11:32:11.949270",
     "exception": false,
     "start_time": "2025-06-26T11:32:11.921711",
     "status": "completed"
    },
    "tags": []
   },
   "outputs": [
    {
     "name": "stdout",
     "output_type": "stream",
     "text": [
      "Null Vector Size: 10\n",
      "Null Vector ItemSize: 8\n"
     ]
    }
   ],
   "source": [
    "print(\"Null Vector Size:\", nullVec.size)\n",
    "print(\"Null Vector ItemSize:\", nullVec.itemsize)"
   ]
  },
  {
   "cell_type": "markdown",
   "id": "8012baba",
   "metadata": {
    "papermill": {
     "duration": 0.019801,
     "end_time": "2025-06-26T11:32:11.989572",
     "exception": false,
     "start_time": "2025-06-26T11:32:11.969771",
     "status": "completed"
    },
    "tags": []
   },
   "source": [
    "#### 5. How to get the documentation of the numpy add function from the command line (★☆☆)"
   ]
  },
  {
   "cell_type": "code",
   "execution_count": 5,
   "id": "cd4f4fc3",
   "metadata": {
    "execution": {
     "iopub.execute_input": "2025-06-26T11:32:12.030918Z",
     "iopub.status.busy": "2025-06-26T11:32:12.030618Z",
     "iopub.status.idle": "2025-06-26T11:32:12.035605Z",
     "shell.execute_reply": "2025-06-26T11:32:12.034569Z"
    },
    "papermill": {
     "duration": 0.027609,
     "end_time": "2025-06-26T11:32:12.037146",
     "exception": false,
     "start_time": "2025-06-26T11:32:12.009537",
     "status": "completed"
    },
    "tags": []
   },
   "outputs": [
    {
     "name": "stdout",
     "output_type": "stream",
     "text": [
      "add(x1, x2, /, out=None, *, where=True, casting='same_kind', order='K', dtype=None, subok=True[, signature, extobj])\n",
      "\n",
      "Add arguments element-wise.\n",
      "\n",
      "Parameters\n",
      "----------\n",
      "x1, x2 : array_like\n",
      "    The arrays to be added.\n",
      "    If ``x1.shape != x2.shape``, they must be broadcastable to a common\n",
      "    shape (which becomes the shape of the output).\n",
      "out : ndarray, None, or tuple of ndarray and None, optional\n",
      "    A location into which the result is stored. If provided, it must have\n",
      "    a shape that the inputs broadcast to. If not provided or None,\n",
      "    a freshly-allocated array is returned. A tuple (possible only as a\n",
      "    keyword argument) must have length equal to the number of outputs.\n",
      "where : array_like, optional\n",
      "    This condition is broadcast over the input. At locations where the\n",
      "    condition is True, the `out` array will be set to the ufunc result.\n",
      "    Elsewhere, the `out` array will retain its original value.\n",
      "    Note that if an uninitialized `out` array is created via the default\n",
      "    ``out=None``, locations within it where the condition is False will\n",
      "    remain uninitialized.\n",
      "**kwargs\n",
      "    For other keyword-only arguments, see the\n",
      "    :ref:`ufunc docs <ufuncs.kwargs>`.\n",
      "\n",
      "Returns\n",
      "-------\n",
      "add : ndarray or scalar\n",
      "    The sum of `x1` and `x2`, element-wise.\n",
      "    This is a scalar if both `x1` and `x2` are scalars.\n",
      "\n",
      "Notes\n",
      "-----\n",
      "Equivalent to `x1` + `x2` in terms of array broadcasting.\n",
      "\n",
      "Examples\n",
      "--------\n",
      ">>> np.add(1.0, 4.0)\n",
      "5.0\n",
      ">>> x1 = np.arange(9.0).reshape((3, 3))\n",
      ">>> x2 = np.arange(3.0)\n",
      ">>> np.add(x1, x2)\n",
      "array([[  0.,   2.,   4.],\n",
      "       [  3.,   5.,   7.],\n",
      "       [  6.,   8.,  10.]])\n",
      "\n",
      "The ``+`` operator can be used as a shorthand for ``np.add`` on ndarrays.\n",
      "\n",
      ">>> x1 = np.arange(9.0).reshape((3, 3))\n",
      ">>> x2 = np.arange(3.0)\n",
      ">>> x1 + x2\n",
      "array([[ 0.,  2.,  4.],\n",
      "       [ 3.,  5.,  7.],\n",
      "       [ 6.,  8., 10.]])\n"
     ]
    }
   ],
   "source": [
    "# np.add?\n",
    "# print(np.info('add'))\n",
    "print(np.add.__doc__)"
   ]
  },
  {
   "cell_type": "markdown",
   "id": "edf05c93",
   "metadata": {
    "papermill": {
     "duration": 0.020643,
     "end_time": "2025-06-26T11:32:12.078153",
     "exception": false,
     "start_time": "2025-06-26T11:32:12.057510",
     "status": "completed"
    },
    "tags": []
   },
   "source": [
    "#### 6. Create a null vector of size 10 but the fifth value which is 1 (★☆☆)"
   ]
  },
  {
   "cell_type": "code",
   "execution_count": 6,
   "id": "cdeb4d4d",
   "metadata": {
    "execution": {
     "iopub.execute_input": "2025-06-26T11:32:12.120331Z",
     "iopub.status.busy": "2025-06-26T11:32:12.120026Z",
     "iopub.status.idle": "2025-06-26T11:32:12.126176Z",
     "shell.execute_reply": "2025-06-26T11:32:12.125319Z"
    },
    "papermill": {
     "duration": 0.028924,
     "end_time": "2025-06-26T11:32:12.127562",
     "exception": false,
     "start_time": "2025-06-26T11:32:12.098638",
     "status": "completed"
    },
    "tags": []
   },
   "outputs": [
    {
     "data": {
      "text/plain": [
       "array([2.79823526e-315, 0.00000000e+000, 4.24399167e-314, 0.00000000e+000,\n",
       "       1.00000000e+000, 9.29434157e-312, 1.31563739e-312, 6.02760088e-322,\n",
       "       0.00000000e+000, 0.00000000e+000])"
      ]
     },
     "execution_count": 6,
     "metadata": {},
     "output_type": "execute_result"
    }
   ],
   "source": [
    "nullVec = np.empty(10)\n",
    "nullVec[4] = 1\n",
    "\n",
    "nullVec"
   ]
  },
  {
   "cell_type": "markdown",
   "id": "de7e38ab",
   "metadata": {
    "papermill": {
     "duration": 0.020009,
     "end_time": "2025-06-26T11:32:12.168136",
     "exception": false,
     "start_time": "2025-06-26T11:32:12.148127",
     "status": "completed"
    },
    "tags": []
   },
   "source": [
    "#### 7. Create a vector with values ranging from 10 to 49 (★☆☆)"
   ]
  },
  {
   "cell_type": "code",
   "execution_count": 7,
   "id": "e9916932",
   "metadata": {
    "execution": {
     "iopub.execute_input": "2025-06-26T11:32:12.209761Z",
     "iopub.status.busy": "2025-06-26T11:32:12.209451Z",
     "iopub.status.idle": "2025-06-26T11:32:12.216604Z",
     "shell.execute_reply": "2025-06-26T11:32:12.215819Z"
    },
    "papermill": {
     "duration": 0.029478,
     "end_time": "2025-06-26T11:32:12.217981",
     "exception": false,
     "start_time": "2025-06-26T11:32:12.188503",
     "status": "completed"
    },
    "tags": []
   },
   "outputs": [
    {
     "data": {
      "text/plain": [
       "array([10, 11, 12, 13, 14, 15, 16, 17, 18, 19, 20, 21, 22, 23, 24, 25, 26,\n",
       "       27, 28, 29, 30, 31, 32, 33, 34, 35, 36, 37, 38, 39, 40, 41, 42, 43,\n",
       "       44, 45, 46, 47, 48, 49])"
      ]
     },
     "execution_count": 7,
     "metadata": {},
     "output_type": "execute_result"
    }
   ],
   "source": [
    "rangeVec = np.arange(10, 50)\n",
    "\n",
    "rangeVec"
   ]
  },
  {
   "cell_type": "markdown",
   "id": "0585309d",
   "metadata": {
    "papermill": {
     "duration": 0.021497,
     "end_time": "2025-06-26T11:32:12.260271",
     "exception": false,
     "start_time": "2025-06-26T11:32:12.238774",
     "status": "completed"
    },
    "tags": []
   },
   "source": [
    "#### 8. Reverse a vector (first element becomes last) (★☆☆)"
   ]
  },
  {
   "cell_type": "code",
   "execution_count": 8,
   "id": "c85da952",
   "metadata": {
    "execution": {
     "iopub.execute_input": "2025-06-26T11:32:12.302250Z",
     "iopub.status.busy": "2025-06-26T11:32:12.301911Z",
     "iopub.status.idle": "2025-06-26T11:32:12.308201Z",
     "shell.execute_reply": "2025-06-26T11:32:12.307153Z"
    },
    "papermill": {
     "duration": 0.029187,
     "end_time": "2025-06-26T11:32:12.309901",
     "exception": false,
     "start_time": "2025-06-26T11:32:12.280714",
     "status": "completed"
    },
    "tags": []
   },
   "outputs": [
    {
     "data": {
      "text/plain": [
       "array([49, 48, 47, 46, 45, 44, 43, 42, 41, 40, 39, 38, 37, 36, 35, 34, 33,\n",
       "       32, 31, 30, 29, 28, 27, 26, 25, 24, 23, 22, 21, 20, 19, 18, 17, 16,\n",
       "       15, 14, 13, 12, 11, 10])"
      ]
     },
     "execution_count": 8,
     "metadata": {},
     "output_type": "execute_result"
    }
   ],
   "source": [
    "rangeVec[::-1]"
   ]
  },
  {
   "cell_type": "markdown",
   "id": "ddf6c725",
   "metadata": {
    "papermill": {
     "duration": 0.020217,
     "end_time": "2025-06-26T11:32:12.351468",
     "exception": false,
     "start_time": "2025-06-26T11:32:12.331251",
     "status": "completed"
    },
    "tags": []
   },
   "source": [
    "#### 9. Create a 3x3 matrix with values ranging from 0 to 8 (★☆☆)"
   ]
  },
  {
   "cell_type": "code",
   "execution_count": 9,
   "id": "c7eb52c9",
   "metadata": {
    "execution": {
     "iopub.execute_input": "2025-06-26T11:32:12.394224Z",
     "iopub.status.busy": "2025-06-26T11:32:12.393480Z",
     "iopub.status.idle": "2025-06-26T11:32:12.399005Z",
     "shell.execute_reply": "2025-06-26T11:32:12.398300Z"
    },
    "papermill": {
     "duration": 0.028384,
     "end_time": "2025-06-26T11:32:12.400391",
     "exception": false,
     "start_time": "2025-06-26T11:32:12.372007",
     "status": "completed"
    },
    "tags": []
   },
   "outputs": [
    {
     "data": {
      "text/plain": [
       "array([[0, 1, 2],\n",
       "       [3, 4, 5],\n",
       "       [6, 7, 8]])"
      ]
     },
     "execution_count": 9,
     "metadata": {},
     "output_type": "execute_result"
    }
   ],
   "source": [
    "matrix3x3 = np.arange(9).reshape((3, 3))\n",
    "\n",
    "matrix3x3"
   ]
  },
  {
   "cell_type": "markdown",
   "id": "a672f69c",
   "metadata": {
    "papermill": {
     "duration": 0.020447,
     "end_time": "2025-06-26T11:32:12.441621",
     "exception": false,
     "start_time": "2025-06-26T11:32:12.421174",
     "status": "completed"
    },
    "tags": []
   },
   "source": [
    "#### 10. Find indices of non-zero elements from [1,2,0,0,4,0] (★☆☆)"
   ]
  },
  {
   "cell_type": "code",
   "execution_count": 10,
   "id": "841ca800",
   "metadata": {
    "execution": {
     "iopub.execute_input": "2025-06-26T11:32:12.483710Z",
     "iopub.status.busy": "2025-06-26T11:32:12.483433Z",
     "iopub.status.idle": "2025-06-26T11:32:12.489417Z",
     "shell.execute_reply": "2025-06-26T11:32:12.488569Z"
    },
    "papermill": {
     "duration": 0.028595,
     "end_time": "2025-06-26T11:32:12.490724",
     "exception": false,
     "start_time": "2025-06-26T11:32:12.462129",
     "status": "completed"
    },
    "tags": []
   },
   "outputs": [
    {
     "data": {
      "text/plain": [
       "(array([0, 1, 4]),)"
      ]
     },
     "execution_count": 10,
     "metadata": {},
     "output_type": "execute_result"
    }
   ],
   "source": [
    "rawData = [1, 2, 0, 0, 4, 0]\n",
    "\n",
    "npArr = np.array(rawData)\n",
    "\n",
    "npArr.nonzero()"
   ]
  },
  {
   "cell_type": "markdown",
   "id": "1ff6e80a",
   "metadata": {
    "papermill": {
     "duration": 0.020711,
     "end_time": "2025-06-26T11:32:12.532464",
     "exception": false,
     "start_time": "2025-06-26T11:32:12.511753",
     "status": "completed"
    },
    "tags": []
   },
   "source": [
    "#### 11. Create a 3x3 identity matrix (★☆☆)\n",
    "\n",
    "```python\n",
    "[[1., 0., 0.],\n",
    " [0., 1., 0.],\n",
    " [0., 0., 1.]]\n",
    "```"
   ]
  },
  {
   "cell_type": "code",
   "execution_count": 11,
   "id": "43e881bf",
   "metadata": {
    "execution": {
     "iopub.execute_input": "2025-06-26T11:32:12.575256Z",
     "iopub.status.busy": "2025-06-26T11:32:12.574874Z",
     "iopub.status.idle": "2025-06-26T11:32:12.580752Z",
     "shell.execute_reply": "2025-06-26T11:32:12.579922Z"
    },
    "papermill": {
     "duration": 0.029102,
     "end_time": "2025-06-26T11:32:12.582202",
     "exception": false,
     "start_time": "2025-06-26T11:32:12.553100",
     "status": "completed"
    },
    "tags": []
   },
   "outputs": [
    {
     "data": {
      "text/plain": [
       "array([[1., 0., 0.],\n",
       "       [0., 1., 0.],\n",
       "       [0., 0., 1.]])"
      ]
     },
     "execution_count": 11,
     "metadata": {},
     "output_type": "execute_result"
    }
   ],
   "source": [
    "idnMatrix = np.eye(3, 3)\n",
    "\n",
    "idnMatrix"
   ]
  },
  {
   "cell_type": "markdown",
   "id": "0ff2fbd5",
   "metadata": {
    "papermill": {
     "duration": 0.020825,
     "end_time": "2025-06-26T11:32:12.624082",
     "exception": false,
     "start_time": "2025-06-26T11:32:12.603257",
     "status": "completed"
    },
    "tags": []
   },
   "source": [
    "#### 12. Create a 3x3x3 array with random values (★☆☆)"
   ]
  },
  {
   "cell_type": "code",
   "execution_count": 12,
   "id": "5c7891a1",
   "metadata": {
    "execution": {
     "iopub.execute_input": "2025-06-26T11:32:12.667432Z",
     "iopub.status.busy": "2025-06-26T11:32:12.667129Z",
     "iopub.status.idle": "2025-06-26T11:32:12.673016Z",
     "shell.execute_reply": "2025-06-26T11:32:12.672238Z"
    },
    "papermill": {
     "duration": 0.028956,
     "end_time": "2025-06-26T11:32:12.674360",
     "exception": false,
     "start_time": "2025-06-26T11:32:12.645404",
     "status": "completed"
    },
    "tags": []
   },
   "outputs": [
    {
     "data": {
      "text/plain": [
       "array([[[0.70611672, 0.33910593, 0.12866784],\n",
       "        [0.65121062, 0.42512574, 0.68042937],\n",
       "        [0.44894456, 0.60270412, 0.22053644]],\n",
       "\n",
       "       [[0.25783208, 0.02997356, 0.0296691 ],\n",
       "        [0.57738527, 0.63992143, 0.00297724],\n",
       "        [0.65242852, 0.51265549, 0.17831096]],\n",
       "\n",
       "       [[0.69348628, 0.95465171, 0.86347874],\n",
       "        [0.80702869, 0.28514343, 0.02435073],\n",
       "        [0.76840859, 0.50578608, 0.70109978]]])"
      ]
     },
     "execution_count": 12,
     "metadata": {},
     "output_type": "execute_result"
    }
   ],
   "source": [
    "rndmArr = np.random.rand(3, 3, 3)\n",
    "\n",
    "rndmArr"
   ]
  },
  {
   "cell_type": "markdown",
   "id": "2e98bb72",
   "metadata": {
    "papermill": {
     "duration": 0.020777,
     "end_time": "2025-06-26T11:32:12.716266",
     "exception": false,
     "start_time": "2025-06-26T11:32:12.695489",
     "status": "completed"
    },
    "tags": []
   },
   "source": [
    "#### 13. Create a 10x10 array with random values and find the minimum and maximum values (★☆☆)"
   ]
  },
  {
   "cell_type": "code",
   "execution_count": 13,
   "id": "d9ac8b08",
   "metadata": {
    "execution": {
     "iopub.execute_input": "2025-06-26T11:32:12.760022Z",
     "iopub.status.busy": "2025-06-26T11:32:12.759226Z",
     "iopub.status.idle": "2025-06-26T11:32:12.764781Z",
     "shell.execute_reply": "2025-06-26T11:32:12.763936Z"
    },
    "papermill": {
     "duration": 0.028954,
     "end_time": "2025-06-26T11:32:12.766238",
     "exception": false,
     "start_time": "2025-06-26T11:32:12.737284",
     "status": "completed"
    },
    "tags": []
   },
   "outputs": [
    {
     "name": "stdout",
     "output_type": "stream",
     "text": [
      "Min Val: 0.007814762548701615\n",
      "Max Val: 0.9795543289109092\n"
     ]
    }
   ],
   "source": [
    "rndmArr = np.random.rand(10, 10)\n",
    "\n",
    "rndmArr\n",
    "\n",
    "print(\"Min Val:\", rndmArr.min())\n",
    "print(\"Max Val:\", rndmArr.max())"
   ]
  },
  {
   "cell_type": "markdown",
   "id": "9bce9793",
   "metadata": {
    "papermill": {
     "duration": 0.020888,
     "end_time": "2025-06-26T11:32:12.808345",
     "exception": false,
     "start_time": "2025-06-26T11:32:12.787457",
     "status": "completed"
    },
    "tags": []
   },
   "source": [
    "#### 14. Create a random vector of size 30 and find the mean value (★☆☆)"
   ]
  },
  {
   "cell_type": "code",
   "execution_count": 14,
   "id": "a12452b3",
   "metadata": {
    "execution": {
     "iopub.execute_input": "2025-06-26T11:32:12.851957Z",
     "iopub.status.busy": "2025-06-26T11:32:12.851633Z",
     "iopub.status.idle": "2025-06-26T11:32:12.857163Z",
     "shell.execute_reply": "2025-06-26T11:32:12.856350Z"
    },
    "papermill": {
     "duration": 0.028857,
     "end_time": "2025-06-26T11:32:12.858572",
     "exception": false,
     "start_time": "2025-06-26T11:32:12.829715",
     "status": "completed"
    },
    "tags": []
   },
   "outputs": [
    {
     "data": {
      "text/plain": [
       "0.502299103910435"
      ]
     },
     "execution_count": 14,
     "metadata": {},
     "output_type": "execute_result"
    }
   ],
   "source": [
    "rndmArr = np.random.rand(30)\n",
    "\n",
    "rndmArr.mean()"
   ]
  },
  {
   "cell_type": "markdown",
   "id": "4fa2c984",
   "metadata": {
    "papermill": {
     "duration": 0.021792,
     "end_time": "2025-06-26T11:32:12.901641",
     "exception": false,
     "start_time": "2025-06-26T11:32:12.879849",
     "status": "completed"
    },
    "tags": []
   },
   "source": [
    "#### 15. Create a 2d array with 1 on the border and 0 inside (★☆☆)\n",
    "\n",
    "```python\n",
    "[[1., 1., 1., 1., 1.],\n",
    " [1., 0., 0., 0., 1.],\n",
    " [1., 0., 0., 0., 1.],\n",
    " [1., 0., 0., 0., 1.],\n",
    " [1., 1., 1., 1., 1.]]\n",
    "```"
   ]
  },
  {
   "cell_type": "code",
   "execution_count": 15,
   "id": "e1051d5c",
   "metadata": {
    "execution": {
     "iopub.execute_input": "2025-06-26T11:32:12.944847Z",
     "iopub.status.busy": "2025-06-26T11:32:12.944560Z",
     "iopub.status.idle": "2025-06-26T11:32:12.950588Z",
     "shell.execute_reply": "2025-06-26T11:32:12.949838Z"
    },
    "papermill": {
     "duration": 0.02941,
     "end_time": "2025-06-26T11:32:12.951995",
     "exception": false,
     "start_time": "2025-06-26T11:32:12.922585",
     "status": "completed"
    },
    "tags": []
   },
   "outputs": [
    {
     "data": {
      "text/plain": [
       "array([[1., 1., 1., 1., 1.],\n",
       "       [1., 0., 0., 0., 1.],\n",
       "       [1., 0., 0., 0., 1.],\n",
       "       [1., 0., 0., 0., 1.],\n",
       "       [1., 1., 1., 1., 1.]])"
      ]
     },
     "execution_count": 15,
     "metadata": {},
     "output_type": "execute_result"
    }
   ],
   "source": [
    "npArr = np.ones((5, 5))\n",
    "# npArr[1:-1, 1:-1] = 0\n",
    "\n",
    "npArr[1:-1, 1:-1] = 0\n",
    "\n",
    "npArr"
   ]
  },
  {
   "cell_type": "markdown",
   "id": "31ab7d2a",
   "metadata": {
    "papermill": {
     "duration": 0.020898,
     "end_time": "2025-06-26T11:32:12.994397",
     "exception": false,
     "start_time": "2025-06-26T11:32:12.973499",
     "status": "completed"
    },
    "tags": []
   },
   "source": [
    "#### 16. How to add a border (filled with 0's) around an existing array (★☆☆)\n",
    "\n",
    "```python\n",
    "[[0., 0., 0., 0., 0.],\n",
    " [0., 1., 1., 1., 0.],\n",
    " [0., 1., 1., 1., 0.],\n",
    " [0., 1., 1., 1., 0.],\n",
    " [0., 0., 0., 0., 0.]]\n",
    "```"
   ]
  },
  {
   "cell_type": "code",
   "execution_count": 16,
   "id": "2581187e",
   "metadata": {
    "execution": {
     "iopub.execute_input": "2025-06-26T11:32:13.038513Z",
     "iopub.status.busy": "2025-06-26T11:32:13.038201Z",
     "iopub.status.idle": "2025-06-26T11:32:13.044968Z",
     "shell.execute_reply": "2025-06-26T11:32:13.044177Z"
    },
    "papermill": {
     "duration": 0.030256,
     "end_time": "2025-06-26T11:32:13.046372",
     "exception": false,
     "start_time": "2025-06-26T11:32:13.016116",
     "status": "completed"
    },
    "tags": []
   },
   "outputs": [
    {
     "data": {
      "text/plain": [
       "array([[0., 0., 0., 0., 0.],\n",
       "       [0., 1., 1., 1., 0.],\n",
       "       [0., 1., 1., 1., 0.],\n",
       "       [0., 1., 1., 1., 0.],\n",
       "       [0., 0., 0., 0., 0.]])"
      ]
     },
     "execution_count": 16,
     "metadata": {},
     "output_type": "execute_result"
    }
   ],
   "source": [
    "npArr = np.ones((5, 5))\n",
    "npArr[:, [0, -1]] = 0\n",
    "npArr[[0, -1], :] = 0\n",
    "npArr\n",
    "\n",
    "# padArr = np.ones((5,5))\n",
    "# padArr = np.pad(padArr, pad_width=1, mode='constant', constant_values=0)\n",
    "# padArr"
   ]
  },
  {
   "cell_type": "markdown",
   "id": "f6b6efa2",
   "metadata": {
    "papermill": {
     "duration": 0.021192,
     "end_time": "2025-06-26T11:32:13.089035",
     "exception": false,
     "start_time": "2025-06-26T11:32:13.067843",
     "status": "completed"
    },
    "tags": []
   },
   "source": [
    "#### 17. What is the result of the following expression (★☆☆)\n",
    "```python\n",
    "0 * np.nan\n",
    "np.nan == np.nan\n",
    "np.inf > np.nan\n",
    "np.nan - np.nan\n",
    "np.nan in set([np.nan])\n",
    "0.3 == 3 * 0.1\n",
    "```"
   ]
  },
  {
   "cell_type": "code",
   "execution_count": 17,
   "id": "a6f89b57",
   "metadata": {
    "execution": {
     "iopub.execute_input": "2025-06-26T11:32:13.132486Z",
     "iopub.status.busy": "2025-06-26T11:32:13.132188Z",
     "iopub.status.idle": "2025-06-26T11:32:13.138120Z",
     "shell.execute_reply": "2025-06-26T11:32:13.136947Z"
    },
    "papermill": {
     "duration": 0.029611,
     "end_time": "2025-06-26T11:32:13.139711",
     "exception": false,
     "start_time": "2025-06-26T11:32:13.110100",
     "status": "completed"
    },
    "tags": []
   },
   "outputs": [
    {
     "name": "stdout",
     "output_type": "stream",
     "text": [
      "nan\n",
      "False\n",
      "False\n",
      "nan\n",
      "True\n",
      "False\n",
      "True\n"
     ]
    }
   ],
   "source": [
    "print(0 * np.nan)  # nan\n",
    "print(np.nan == np.nan)  # False\n",
    "print(np.inf > np.nan)  # False\n",
    "print(np.nan - np.nan)  # nan\n",
    "print(np.nan in set([np.nan]))  # True\n",
    "print(0.3 == 3 * 0.1)  # False\n",
    "print(0.3 == round(3 * 0.1, 1))  # True"
   ]
  },
  {
   "cell_type": "markdown",
   "id": "74382e92",
   "metadata": {
    "papermill": {
     "duration": 0.021391,
     "end_time": "2025-06-26T11:32:13.182587",
     "exception": false,
     "start_time": "2025-06-26T11:32:13.161196",
     "status": "completed"
    },
    "tags": []
   },
   "source": [
    "#### 18. Create a 5x5 matrix with values 1,2,3,4 just below the diagonal (★☆☆)\n",
    "\n",
    "```python\n",
    "[[0, 0, 0, 0, 0],\n",
    " [1, 0, 0, 0, 0],\n",
    " [0, 2, 0, 0, 0],\n",
    " [0, 0, 3, 0, 0],\n",
    " [0, 0, 0, 4, 0]]\n",
    "```"
   ]
  },
  {
   "cell_type": "code",
   "execution_count": 18,
   "id": "7118926b",
   "metadata": {
    "execution": {
     "iopub.execute_input": "2025-06-26T11:32:13.227202Z",
     "iopub.status.busy": "2025-06-26T11:32:13.226923Z",
     "iopub.status.idle": "2025-06-26T11:32:13.234477Z",
     "shell.execute_reply": "2025-06-26T11:32:13.233698Z"
    },
    "papermill": {
     "duration": 0.031274,
     "end_time": "2025-06-26T11:32:13.235813",
     "exception": false,
     "start_time": "2025-06-26T11:32:13.204539",
     "status": "completed"
    },
    "tags": []
   },
   "outputs": [
    {
     "data": {
      "text/plain": [
       "array([[0, 0, 0, 0, 0],\n",
       "       [1, 0, 0, 0, 0],\n",
       "       [0, 2, 0, 0, 0],\n",
       "       [0, 0, 3, 0, 0],\n",
       "       [0, 0, 0, 4, 0]])"
      ]
     },
     "execution_count": 18,
     "metadata": {},
     "output_type": "execute_result"
    }
   ],
   "source": [
    "m_5x5 = np.diag(1 + np.arange(4), k=-1)\n",
    "\n",
    "m_5x5"
   ]
  },
  {
   "cell_type": "markdown",
   "id": "cfbea1b1",
   "metadata": {
    "papermill": {
     "duration": 0.021283,
     "end_time": "2025-06-26T11:32:13.280591",
     "exception": false,
     "start_time": "2025-06-26T11:32:13.259308",
     "status": "completed"
    },
    "tags": []
   },
   "source": [
    "#### 19. Create a 8x8 matrix and fill it with a checkerboard pattern (★☆☆)"
   ]
  },
  {
   "cell_type": "code",
   "execution_count": 19,
   "id": "f933d2c2",
   "metadata": {
    "execution": {
     "iopub.execute_input": "2025-06-26T11:32:13.324487Z",
     "iopub.status.busy": "2025-06-26T11:32:13.324218Z",
     "iopub.status.idle": "2025-06-26T11:32:13.330729Z",
     "shell.execute_reply": "2025-06-26T11:32:13.329906Z"
    },
    "papermill": {
     "duration": 0.030147,
     "end_time": "2025-06-26T11:32:13.332116",
     "exception": false,
     "start_time": "2025-06-26T11:32:13.301969",
     "status": "completed"
    },
    "tags": []
   },
   "outputs": [
    {
     "data": {
      "text/plain": [
       "array([[0., 1., 0., 1., 0., 1., 0., 1.],\n",
       "       [1., 0., 1., 0., 1., 0., 1., 0.],\n",
       "       [0., 1., 0., 1., 0., 1., 0., 1.],\n",
       "       [1., 0., 1., 0., 1., 0., 1., 0.],\n",
       "       [0., 1., 0., 1., 0., 1., 0., 1.],\n",
       "       [1., 0., 1., 0., 1., 0., 1., 0.],\n",
       "       [0., 1., 0., 1., 0., 1., 0., 1.],\n",
       "       [1., 0., 1., 0., 1., 0., 1., 0.]])"
      ]
     },
     "execution_count": 19,
     "metadata": {},
     "output_type": "execute_result"
    }
   ],
   "source": [
    "m_8x8 = np.zeros((8, 8))\n",
    "m_8x8[1::2, ::2] = 1\n",
    "m_8x8[::2, 1::2] = 1\n",
    "\n",
    "m_8x8"
   ]
  },
  {
   "cell_type": "markdown",
   "id": "e677bfae",
   "metadata": {
    "papermill": {
     "duration": 0.021334,
     "end_time": "2025-06-26T11:32:13.375270",
     "exception": false,
     "start_time": "2025-06-26T11:32:13.353936",
     "status": "completed"
    },
    "tags": []
   },
   "source": [
    "#### 20. Consider a (6,7,8) shape array, what is the index (x,y,z) of the 100th element (★☆☆)"
   ]
  },
  {
   "cell_type": "code",
   "execution_count": 20,
   "id": "219cbabd",
   "metadata": {
    "execution": {
     "iopub.execute_input": "2025-06-26T11:32:13.419967Z",
     "iopub.status.busy": "2025-06-26T11:32:13.419302Z",
     "iopub.status.idle": "2025-06-26T11:32:13.423810Z",
     "shell.execute_reply": "2025-06-26T11:32:13.422995Z"
    },
    "papermill": {
     "duration": 0.028508,
     "end_time": "2025-06-26T11:32:13.425171",
     "exception": false,
     "start_time": "2025-06-26T11:32:13.396663",
     "status": "completed"
    },
    "tags": []
   },
   "outputs": [
    {
     "name": "stdout",
     "output_type": "stream",
     "text": [
      "(1, 5, 3)\n"
     ]
    }
   ],
   "source": [
    "print(np.unravel_index(99, (6, 7, 8)))"
   ]
  },
  {
   "cell_type": "code",
   "execution_count": 21,
   "id": "8ac131ec",
   "metadata": {
    "execution": {
     "iopub.execute_input": "2025-06-26T11:32:13.469370Z",
     "iopub.status.busy": "2025-06-26T11:32:13.469062Z",
     "iopub.status.idle": "2025-06-26T11:32:13.475420Z",
     "shell.execute_reply": "2025-06-26T11:32:13.474574Z"
    },
    "papermill": {
     "duration": 0.030009,
     "end_time": "2025-06-26T11:32:13.476773",
     "exception": false,
     "start_time": "2025-06-26T11:32:13.446764",
     "status": "completed"
    },
    "tags": []
   },
   "outputs": [
    {
     "data": {
      "text/plain": [
       "array([[[  0,   1,   2,   3,   4,   5,   6,   7],\n",
       "        [  8,   9,  10,  11,  12,  13,  14,  15],\n",
       "        [ 16,  17,  18,  19,  20,  21,  22,  23],\n",
       "        [ 24,  25,  26,  27,  28,  29,  30,  31],\n",
       "        [ 32,  33,  34,  35,  36,  37,  38,  39],\n",
       "        [ 40,  41,  42,  43,  44,  45,  46,  47],\n",
       "        [ 48,  49,  50,  51,  52,  53,  54,  55]],\n",
       "\n",
       "       [[ 56,  57,  58,  59,  60,  61,  62,  63],\n",
       "        [ 64,  65,  66,  67,  68,  69,  70,  71],\n",
       "        [ 72,  73,  74,  75,  76,  77,  78,  79],\n",
       "        [ 80,  81,  82,  83,  84,  85,  86,  87],\n",
       "        [ 88,  89,  90,  91,  92,  93,  94,  95],\n",
       "        [ 96,  97,  98,  99, 100, 101, 102, 103],\n",
       "        [104, 105, 106, 107, 108, 109, 110, 111]],\n",
       "\n",
       "       [[112, 113, 114, 115, 116, 117, 118, 119],\n",
       "        [120, 121, 122, 123, 124, 125, 126, 127],\n",
       "        [128, 129, 130, 131, 132, 133, 134, 135],\n",
       "        [136, 137, 138, 139, 140, 141, 142, 143],\n",
       "        [144, 145, 146, 147, 148, 149, 150, 151],\n",
       "        [152, 153, 154, 155, 156, 157, 158, 159],\n",
       "        [160, 161, 162, 163, 164, 165, 166, 167]],\n",
       "\n",
       "       [[168, 169, 170, 171, 172, 173, 174, 175],\n",
       "        [176, 177, 178, 179, 180, 181, 182, 183],\n",
       "        [184, 185, 186, 187, 188, 189, 190, 191],\n",
       "        [192, 193, 194, 195, 196, 197, 198, 199],\n",
       "        [200, 201, 202, 203, 204, 205, 206, 207],\n",
       "        [208, 209, 210, 211, 212, 213, 214, 215],\n",
       "        [216, 217, 218, 219, 220, 221, 222, 223]],\n",
       "\n",
       "       [[224, 225, 226, 227, 228, 229, 230, 231],\n",
       "        [232, 233, 234, 235, 236, 237, 238, 239],\n",
       "        [240, 241, 242, 243, 244, 245, 246, 247],\n",
       "        [248, 249, 250, 251, 252, 253, 254, 255],\n",
       "        [256, 257, 258, 259, 260, 261, 262, 263],\n",
       "        [264, 265, 266, 267, 268, 269, 270, 271],\n",
       "        [272, 273, 274, 275, 276, 277, 278, 279]],\n",
       "\n",
       "       [[280, 281, 282, 283, 284, 285, 286, 287],\n",
       "        [288, 289, 290, 291, 292, 293, 294, 295],\n",
       "        [296, 297, 298, 299, 300, 301, 302, 303],\n",
       "        [304, 305, 306, 307, 308, 309, 310, 311],\n",
       "        [312, 313, 314, 315, 316, 317, 318, 319],\n",
       "        [320, 321, 322, 323, 324, 325, 326, 327],\n",
       "        [328, 329, 330, 331, 332, 333, 334, 335]]])"
      ]
     },
     "execution_count": 21,
     "metadata": {},
     "output_type": "execute_result"
    }
   ],
   "source": [
    "array_3d = np.arange(6 * 7 * 8).reshape((6, 7, 8))\n",
    "array_3d"
   ]
  },
  {
   "cell_type": "markdown",
   "id": "8b92b39d",
   "metadata": {
    "papermill": {
     "duration": 0.021503,
     "end_time": "2025-06-26T11:32:13.520311",
     "exception": false,
     "start_time": "2025-06-26T11:32:13.498808",
     "status": "completed"
    },
    "tags": []
   },
   "source": [
    "#### 21. Create a checkerboard 8x8 matrix using the tile function (★☆☆)"
   ]
  },
  {
   "cell_type": "code",
   "execution_count": 22,
   "id": "5f81e105",
   "metadata": {
    "execution": {
     "iopub.execute_input": "2025-06-26T11:32:13.564327Z",
     "iopub.status.busy": "2025-06-26T11:32:13.564031Z",
     "iopub.status.idle": "2025-06-26T11:32:13.570022Z",
     "shell.execute_reply": "2025-06-26T11:32:13.569220Z"
    },
    "papermill": {
     "duration": 0.029784,
     "end_time": "2025-06-26T11:32:13.571464",
     "exception": false,
     "start_time": "2025-06-26T11:32:13.541680",
     "status": "completed"
    },
    "tags": []
   },
   "outputs": [
    {
     "data": {
      "text/plain": [
       "array([[0, 1, 0, 1, 0, 1, 0, 1],\n",
       "       [1, 0, 1, 0, 1, 0, 1, 0],\n",
       "       [0, 1, 0, 1, 0, 1, 0, 1],\n",
       "       [1, 0, 1, 0, 1, 0, 1, 0],\n",
       "       [0, 1, 0, 1, 0, 1, 0, 1],\n",
       "       [1, 0, 1, 0, 1, 0, 1, 0],\n",
       "       [0, 1, 0, 1, 0, 1, 0, 1],\n",
       "       [1, 0, 1, 0, 1, 0, 1, 0]])"
      ]
     },
     "execution_count": 22,
     "metadata": {},
     "output_type": "execute_result"
    }
   ],
   "source": [
    "np.tile(np.array([[0, 1], [1, 0]]), (4, 4))"
   ]
  },
  {
   "cell_type": "markdown",
   "id": "2861ba4b",
   "metadata": {
    "papermill": {
     "duration": 0.021366,
     "end_time": "2025-06-26T11:32:13.614766",
     "exception": false,
     "start_time": "2025-06-26T11:32:13.593400",
     "status": "completed"
    },
    "tags": []
   },
   "source": [
    "#### 22. Normalize a 5x5 random matrix (★☆☆)\n",
    "\n",
    "$$\n",
    "\\text{normalized\\_data} = \\frac{\\text{data} - \\mu(\\text{data})}{\\sigma(\\text{data})}\n",
    "$$\n",
    "\n",
    "**Where:**\n",
    "\n",
    "- `data` is the original input array or dataset  \n",
    "- `μ(data)` is the mean (average) of the data  \n",
    "- `σ(data)` is the standard deviation of the data  \n",
    "- `normalized_data` is the standardized output, with mean 0 and standard deviation 1\n"
   ]
  },
  {
   "cell_type": "code",
   "execution_count": 23,
   "id": "f466b6cb",
   "metadata": {
    "execution": {
     "iopub.execute_input": "2025-06-26T11:32:13.659644Z",
     "iopub.status.busy": "2025-06-26T11:32:13.658891Z",
     "iopub.status.idle": "2025-06-26T11:32:13.665229Z",
     "shell.execute_reply": "2025-06-26T11:32:13.664434Z"
    },
    "papermill": {
     "duration": 0.030175,
     "end_time": "2025-06-26T11:32:13.666583",
     "exception": false,
     "start_time": "2025-06-26T11:32:13.636408",
     "status": "completed"
    },
    "tags": []
   },
   "outputs": [
    {
     "data": {
      "text/plain": [
       "array([[-0.58219712,  1.26645364, -1.65681823,  1.26100586,  0.65405676],\n",
       "       [ 0.81037262, -0.78965544,  0.48329303, -0.15576758, -0.99481942],\n",
       "       [-0.30316712,  1.34838776,  0.82050421,  0.77309917, -1.63486716],\n",
       "       [ 0.45885527, -1.65474452,  1.3417721 , -0.93068023, -0.66808432],\n",
       "       [-1.5979226 , -0.0476357 ,  0.96511445,  0.50804395,  0.32540061]])"
      ]
     },
     "execution_count": 23,
     "metadata": {},
     "output_type": "execute_result"
    }
   ],
   "source": [
    "nrml_m = np.random.random((5, 5))\n",
    "nrml_m = (nrml_m - np.mean(nrml_m)) / (np.std(nrml_m))\n",
    "\n",
    "nrml_m"
   ]
  },
  {
   "cell_type": "markdown",
   "id": "8e3d6d59",
   "metadata": {
    "papermill": {
     "duration": 0.021841,
     "end_time": "2025-06-26T11:32:13.710159",
     "exception": false,
     "start_time": "2025-06-26T11:32:13.688318",
     "status": "completed"
    },
    "tags": []
   },
   "source": [
    "#### 23. Create a custom dtype that describes a color as four unsigned bytes (RGBA) (★☆☆)"
   ]
  },
  {
   "cell_type": "code",
   "execution_count": 24,
   "id": "1e629da5",
   "metadata": {
    "execution": {
     "iopub.execute_input": "2025-06-26T11:32:13.755318Z",
     "iopub.status.busy": "2025-06-26T11:32:13.755015Z",
     "iopub.status.idle": "2025-06-26T11:32:13.760917Z",
     "shell.execute_reply": "2025-06-26T11:32:13.760122Z"
    },
    "papermill": {
     "duration": 0.03025,
     "end_time": "2025-06-26T11:32:13.762343",
     "exception": false,
     "start_time": "2025-06-26T11:32:13.732093",
     "status": "completed"
    },
    "tags": []
   },
   "outputs": [
    {
     "data": {
      "text/plain": [
       "dtype([('r', 'u1'), ('g', 'u1'), ('b', 'u1'), ('a', 'u1')])"
      ]
     },
     "execution_count": 24,
     "metadata": {},
     "output_type": "execute_result"
    }
   ],
   "source": [
    "color = np.dtype([(\"r\", np.ubyte), (\"g\", np.ubyte), (\"b\", np.ubyte), (\"a\", np.ubyte)])\n",
    "\n",
    "color"
   ]
  },
  {
   "cell_type": "markdown",
   "id": "8d0c15ac",
   "metadata": {
    "papermill": {
     "duration": 0.021592,
     "end_time": "2025-06-26T11:32:13.806395",
     "exception": false,
     "start_time": "2025-06-26T11:32:13.784803",
     "status": "completed"
    },
    "tags": []
   },
   "source": [
    "#### 24. Multiply a 5x3 matrix by a 3x2 matrix (real matrix product) (★☆☆)"
   ]
  },
  {
   "cell_type": "code",
   "execution_count": 25,
   "id": "a513cfb5",
   "metadata": {
    "execution": {
     "iopub.execute_input": "2025-06-26T11:32:13.852120Z",
     "iopub.status.busy": "2025-06-26T11:32:13.851816Z",
     "iopub.status.idle": "2025-06-26T11:32:13.883300Z",
     "shell.execute_reply": "2025-06-26T11:32:13.882514Z"
    },
    "papermill": {
     "duration": 0.055606,
     "end_time": "2025-06-26T11:32:13.884708",
     "exception": false,
     "start_time": "2025-06-26T11:32:13.829102",
     "status": "completed"
    },
    "tags": []
   },
   "outputs": [
    {
     "data": {
      "text/plain": [
       "array([[0.96829232, 0.53440753],\n",
       "       [0.33230366, 0.39542672],\n",
       "       [0.50772877, 0.45619358],\n",
       "       [0.60426265, 0.34285508],\n",
       "       [0.83472652, 0.38976722]])"
      ]
     },
     "execution_count": 25,
     "metadata": {},
     "output_type": "execute_result"
    }
   ],
   "source": [
    "m1 = np.random.rand(5, 3)\n",
    "m2 = np.random.rand(3, 2)\n",
    "\n",
    "np.matmul(m1, m2)"
   ]
  },
  {
   "cell_type": "markdown",
   "id": "8f393491",
   "metadata": {
    "papermill": {
     "duration": 0.03325,
     "end_time": "2025-06-26T11:32:13.941204",
     "exception": false,
     "start_time": "2025-06-26T11:32:13.907954",
     "status": "completed"
    },
    "tags": []
   },
   "source": [
    "#### 25. Given a 1D array, negate all elements which are between 3 and 8, in place. (★☆☆)"
   ]
  },
  {
   "cell_type": "code",
   "execution_count": 26,
   "id": "9b874041",
   "metadata": {
    "execution": {
     "iopub.execute_input": "2025-06-26T11:32:13.992635Z",
     "iopub.status.busy": "2025-06-26T11:32:13.992358Z",
     "iopub.status.idle": "2025-06-26T11:32:13.999843Z",
     "shell.execute_reply": "2025-06-26T11:32:13.999049Z"
    },
    "papermill": {
     "duration": 0.031963,
     "end_time": "2025-06-26T11:32:14.001239",
     "exception": false,
     "start_time": "2025-06-26T11:32:13.969276",
     "status": "completed"
    },
    "tags": []
   },
   "outputs": [
    {
     "data": {
      "text/plain": [
       "array([ 0,  1,  2,  3, -4, -5, -6, -7,  8,  9, 10])"
      ]
     },
     "execution_count": 26,
     "metadata": {},
     "output_type": "execute_result"
    }
   ],
   "source": [
    "m1 = np.arange(11)\n",
    "m1[(3 < m1) & (m1 < 8)] *= -1\n",
    "\n",
    "m1"
   ]
  },
  {
   "cell_type": "markdown",
   "id": "1c2a6620",
   "metadata": {
    "papermill": {
     "duration": 0.021983,
     "end_time": "2025-06-26T11:32:14.045484",
     "exception": false,
     "start_time": "2025-06-26T11:32:14.023501",
     "status": "completed"
    },
    "tags": []
   },
   "source": [
    "#### 26. What is the output of the following script (★☆☆)\n",
    "```python\n",
    "# Author: Jake VanderPlas\n",
    "\n",
    "print(sum(range(5),-1))\n",
    "from numpy import *\n",
    "print(sum(range(5),-1))\n",
    "```"
   ]
  },
  {
   "cell_type": "code",
   "execution_count": 27,
   "id": "d2f94dc5",
   "metadata": {
    "execution": {
     "iopub.execute_input": "2025-06-26T11:32:14.090823Z",
     "iopub.status.busy": "2025-06-26T11:32:14.090514Z",
     "iopub.status.idle": "2025-06-26T11:32:14.095899Z",
     "shell.execute_reply": "2025-06-26T11:32:14.094980Z"
    },
    "papermill": {
     "duration": 0.029825,
     "end_time": "2025-06-26T11:32:14.097274",
     "exception": false,
     "start_time": "2025-06-26T11:32:14.067449",
     "status": "completed"
    },
    "tags": []
   },
   "outputs": [
    {
     "name": "stdout",
     "output_type": "stream",
     "text": [
      "9\n",
      "10\n"
     ]
    }
   ],
   "source": [
    "print(sum(range(5), -1))  # 9\n",
    "from numpy import sum  # noqa: E402\n",
    "\n",
    "print(sum(range(5), -1))  # 10 (axis = -1)"
   ]
  },
  {
   "cell_type": "markdown",
   "id": "5bbbe21e",
   "metadata": {
    "papermill": {
     "duration": 0.021928,
     "end_time": "2025-06-26T11:32:14.142016",
     "exception": false,
     "start_time": "2025-06-26T11:32:14.120088",
     "status": "completed"
    },
    "tags": []
   },
   "source": [
    "#### 27. Consider an integer vector Z, which of these expressions are legal (★☆☆)\n",
    "```python\n",
    "Z**Z\n",
    "2 << Z >> 2\n",
    "Z <- Z\n",
    "1j*Z\n",
    "Z/1/1\n",
    "Z<Z>Z  # Error\n",
    "```"
   ]
  },
  {
   "cell_type": "code",
   "execution_count": 28,
   "id": "30059e5c",
   "metadata": {
    "execution": {
     "iopub.execute_input": "2025-06-26T11:32:14.187163Z",
     "iopub.status.busy": "2025-06-26T11:32:14.186821Z",
     "iopub.status.idle": "2025-06-26T11:32:14.194865Z",
     "shell.execute_reply": "2025-06-26T11:32:14.193989Z"
    },
    "papermill": {
     "duration": 0.032311,
     "end_time": "2025-06-26T11:32:14.196306",
     "exception": false,
     "start_time": "2025-06-26T11:32:14.163995",
     "status": "completed"
    },
    "tags": []
   },
   "outputs": [
    {
     "name": "stdout",
     "output_type": "stream",
     "text": [
      "[          1           1           4          27         256        3125\n",
      "       46656      823543    16777216   387420489 10000000000]\n",
      "[  0   1   2   4   8  16  32  64 128 256 512]\n",
      "[False False False False False False False False False False False]\n",
      "[0. +0.j 0. +1.j 0. +2.j 0. +3.j 0. +4.j 0. +5.j 0. +6.j 0. +7.j 0. +8.j\n",
      " 0. +9.j 0.+10.j]\n",
      "[ 0.  1.  2.  3.  4.  5.  6.  7.  8.  9. 10.]\n"
     ]
    }
   ],
   "source": [
    "Z = np.arange(11)\n",
    "\n",
    "print(Z**Z)\n",
    "print(2 << Z >> 2)\n",
    "print(Z < -Z)\n",
    "print(1j * Z)\n",
    "print(Z / 1 / 1)\n",
    "# print(Z<Z>Z)"
   ]
  },
  {
   "cell_type": "markdown",
   "id": "e8611291",
   "metadata": {
    "papermill": {
     "duration": 0.022194,
     "end_time": "2025-06-26T11:32:14.240682",
     "exception": false,
     "start_time": "2025-06-26T11:32:14.218488",
     "status": "completed"
    },
    "tags": []
   },
   "source": [
    "#### 28. What are the result of the following expressions (★☆☆)\n",
    "```python\n",
    "np.array(0) / np.array(0)\n",
    "np.array(0) // np.array(0)\n",
    "np.array([np.nan]).astype(int).astype(float)\n",
    "```"
   ]
  },
  {
   "cell_type": "code",
   "execution_count": 29,
   "id": "38eefacd",
   "metadata": {
    "execution": {
     "iopub.execute_input": "2025-06-26T11:32:14.287796Z",
     "iopub.status.busy": "2025-06-26T11:32:14.287498Z",
     "iopub.status.idle": "2025-06-26T11:32:14.293675Z",
     "shell.execute_reply": "2025-06-26T11:32:14.292691Z"
    },
    "papermill": {
     "duration": 0.030634,
     "end_time": "2025-06-26T11:32:14.295119",
     "exception": false,
     "start_time": "2025-06-26T11:32:14.264485",
     "status": "completed"
    },
    "tags": []
   },
   "outputs": [
    {
     "name": "stdout",
     "output_type": "stream",
     "text": [
      "nan\n",
      "0\n",
      "[-9.22337204e+18]\n"
     ]
    },
    {
     "name": "stderr",
     "output_type": "stream",
     "text": [
      "/tmp/ipykernel_20/2670329950.py:1: RuntimeWarning: invalid value encountered in divide\n",
      "  print(np.array(0) / np.array(0))  # nan\n",
      "/tmp/ipykernel_20/2670329950.py:2: RuntimeWarning: divide by zero encountered in floor_divide\n",
      "  print(np.array(0) // np.array(0))  # 0\n",
      "/tmp/ipykernel_20/2670329950.py:3: RuntimeWarning: invalid value encountered in cast\n",
      "  print(np.array([np.nan]).astype(int).astype(float))  # [-9.22337204e+18]\n"
     ]
    }
   ],
   "source": [
    "print(np.array(0) / np.array(0))  # nan\n",
    "print(np.array(0) // np.array(0))  # 0\n",
    "print(np.array([np.nan]).astype(int).astype(float))  # [-9.22337204e+18]"
   ]
  },
  {
   "cell_type": "markdown",
   "id": "56a74e82",
   "metadata": {
    "papermill": {
     "duration": 0.021769,
     "end_time": "2025-06-26T11:32:14.339595",
     "exception": false,
     "start_time": "2025-06-26T11:32:14.317826",
     "status": "completed"
    },
    "tags": []
   },
   "source": [
    "#### 29. How to round away from zero a float array  (★☆☆)"
   ]
  },
  {
   "cell_type": "code",
   "execution_count": 30,
   "id": "54136e6f",
   "metadata": {
    "execution": {
     "iopub.execute_input": "2025-06-26T11:32:14.385326Z",
     "iopub.status.busy": "2025-06-26T11:32:14.384991Z",
     "iopub.status.idle": "2025-06-26T11:32:14.399108Z",
     "shell.execute_reply": "2025-06-26T11:32:14.398113Z"
    },
    "papermill": {
     "duration": 0.038889,
     "end_time": "2025-06-26T11:32:14.400681",
     "exception": false,
     "start_time": "2025-06-26T11:32:14.361792",
     "status": "completed"
    },
    "tags": []
   },
   "outputs": [
    {
     "name": "stdout",
     "output_type": "stream",
     "text": [
      "[ 8.26620656  6.0433249   3.89642899 -3.27883648 -5.85519359 -7.06291585\n",
      " -9.92065983  7.6680495  -4.92199403  5.66326122]\n",
      "[  9.   7.   4.  -4.  -6.  -8. -10.   8.  -5.   6.]\n"
     ]
    }
   ],
   "source": [
    "Z = np.random.uniform(-10, +10, 10)\n",
    "print(Z)\n",
    "print(np.copysign(np.ceil(np.abs(Z)), Z))\n",
    "\n",
    "# More readable but less efficient\n",
    "# print(np.where(Z>0, np.ceil(Z), np.floor(Z)))"
   ]
  },
  {
   "cell_type": "markdown",
   "id": "ffd8215e",
   "metadata": {
    "papermill": {
     "duration": 0.0226,
     "end_time": "2025-06-26T11:32:14.448762",
     "exception": false,
     "start_time": "2025-06-26T11:32:14.426162",
     "status": "completed"
    },
    "tags": []
   },
   "source": [
    "#### 30. How to find common values between two arrays (★☆☆)"
   ]
  },
  {
   "cell_type": "code",
   "execution_count": 31,
   "id": "156d8623",
   "metadata": {
    "execution": {
     "iopub.execute_input": "2025-06-26T11:32:14.496731Z",
     "iopub.status.busy": "2025-06-26T11:32:14.496431Z",
     "iopub.status.idle": "2025-06-26T11:32:14.502482Z",
     "shell.execute_reply": "2025-06-26T11:32:14.501298Z"
    },
    "papermill": {
     "duration": 0.032291,
     "end_time": "2025-06-26T11:32:14.504044",
     "exception": false,
     "start_time": "2025-06-26T11:32:14.471753",
     "status": "completed"
    },
    "tags": []
   },
   "outputs": [
    {
     "name": "stdout",
     "output_type": "stream",
     "text": [
      "[0 2 4 6 9]\n"
     ]
    }
   ],
   "source": [
    "Z1 = np.random.randint(0, 10, 10)\n",
    "Z2 = np.random.randint(0, 10, 10)\n",
    "\n",
    "print(np.intersect1d(Z1, Z2))"
   ]
  },
  {
   "cell_type": "markdown",
   "id": "ff5fd379",
   "metadata": {
    "papermill": {
     "duration": 0.022363,
     "end_time": "2025-06-26T11:32:14.550047",
     "exception": false,
     "start_time": "2025-06-26T11:32:14.527684",
     "status": "completed"
    },
    "tags": []
   },
   "source": [
    "#### 31. How to ignore all numpy warnings (not recommended) (★☆☆)"
   ]
  },
  {
   "cell_type": "code",
   "execution_count": 32,
   "id": "372a6ee5",
   "metadata": {
    "execution": {
     "iopub.execute_input": "2025-06-26T11:32:14.596356Z",
     "iopub.status.busy": "2025-06-26T11:32:14.596074Z",
     "iopub.status.idle": "2025-06-26T11:32:14.600217Z",
     "shell.execute_reply": "2025-06-26T11:32:14.599173Z"
    },
    "papermill": {
     "duration": 0.029108,
     "end_time": "2025-06-26T11:32:14.601830",
     "exception": false,
     "start_time": "2025-06-26T11:32:14.572722",
     "status": "completed"
    },
    "tags": []
   },
   "outputs": [],
   "source": [
    "# np.seterr(all=\"ignore\")"
   ]
  },
  {
   "cell_type": "markdown",
   "id": "ac213f3c",
   "metadata": {
    "papermill": {
     "duration": 0.022418,
     "end_time": "2025-06-26T11:32:14.646968",
     "exception": false,
     "start_time": "2025-06-26T11:32:14.624550",
     "status": "completed"
    },
    "tags": []
   },
   "source": [
    "#### 32. Is the following expressions true (★☆☆)\n",
    "```python\n",
    "np.sqrt(-1) == np.emath.sqrt(-1)\n",
    "```"
   ]
  },
  {
   "cell_type": "code",
   "execution_count": 33,
   "id": "fc6b5d66",
   "metadata": {
    "execution": {
     "iopub.execute_input": "2025-06-26T11:32:14.693419Z",
     "iopub.status.busy": "2025-06-26T11:32:14.693109Z",
     "iopub.status.idle": "2025-06-26T11:32:14.699383Z",
     "shell.execute_reply": "2025-06-26T11:32:14.698437Z"
    },
    "papermill": {
     "duration": 0.031319,
     "end_time": "2025-06-26T11:32:14.700836",
     "exception": false,
     "start_time": "2025-06-26T11:32:14.669517",
     "status": "completed"
    },
    "tags": []
   },
   "outputs": [
    {
     "name": "stderr",
     "output_type": "stream",
     "text": [
      "/tmp/ipykernel_20/3552829541.py:1: RuntimeWarning: invalid value encountered in sqrt\n",
      "  np.sqrt(-1) == np.emath.sqrt(-1)  # False\n"
     ]
    },
    {
     "data": {
      "text/plain": [
       "False"
      ]
     },
     "execution_count": 33,
     "metadata": {},
     "output_type": "execute_result"
    }
   ],
   "source": [
    "np.sqrt(-1) == np.emath.sqrt(-1)  # False"
   ]
  },
  {
   "cell_type": "markdown",
   "id": "0ae17afa",
   "metadata": {
    "papermill": {
     "duration": 0.022939,
     "end_time": "2025-06-26T11:32:14.746846",
     "exception": false,
     "start_time": "2025-06-26T11:32:14.723907",
     "status": "completed"
    },
    "tags": []
   },
   "source": [
    "#### 33. How to get the dates of yesterday, today and tomorrow (★☆☆)"
   ]
  },
  {
   "cell_type": "code",
   "execution_count": 34,
   "id": "44681f11",
   "metadata": {
    "execution": {
     "iopub.execute_input": "2025-06-26T11:32:14.794260Z",
     "iopub.status.busy": "2025-06-26T11:32:14.793955Z",
     "iopub.status.idle": "2025-06-26T11:32:14.799626Z",
     "shell.execute_reply": "2025-06-26T11:32:14.798657Z"
    },
    "papermill": {
     "duration": 0.031125,
     "end_time": "2025-06-26T11:32:14.801013",
     "exception": false,
     "start_time": "2025-06-26T11:32:14.769888",
     "status": "completed"
    },
    "tags": []
   },
   "outputs": [
    {
     "name": "stdout",
     "output_type": "stream",
     "text": [
      "2025-06-25\n",
      "2025-06-26\n",
      "2025-06-27\n"
     ]
    }
   ],
   "source": [
    "yesterday = np.datetime64(\"today\") - np.timedelta64(1)\n",
    "today = np.datetime64(\"today\")\n",
    "tomorrow = np.datetime64(\"today\") + np.timedelta64(1)\n",
    "\n",
    "print(yesterday)\n",
    "print(today)\n",
    "print(tomorrow)"
   ]
  },
  {
   "cell_type": "markdown",
   "id": "c2b77587",
   "metadata": {
    "papermill": {
     "duration": 0.022309,
     "end_time": "2025-06-26T11:32:14.846699",
     "exception": false,
     "start_time": "2025-06-26T11:32:14.824390",
     "status": "completed"
    },
    "tags": []
   },
   "source": [
    "#### 34. How to get all the dates corresponding to the month of July 2016 (★★☆)"
   ]
  },
  {
   "cell_type": "code",
   "execution_count": null,
   "id": "d9257f18",
   "metadata": {
    "papermill": {
     "duration": 0.022291,
     "end_time": "2025-06-26T11:32:14.891590",
     "exception": false,
     "start_time": "2025-06-26T11:32:14.869299",
     "status": "completed"
    },
    "tags": []
   },
   "outputs": [],
   "source": []
  },
  {
   "cell_type": "markdown",
   "id": "d947bdfe",
   "metadata": {
    "papermill": {
     "duration": 0.022582,
     "end_time": "2025-06-26T11:32:14.937625",
     "exception": false,
     "start_time": "2025-06-26T11:32:14.915043",
     "status": "completed"
    },
    "tags": []
   },
   "source": [
    "#### 35. How to compute ((A+B)*(-A/2)) in place (without copy) (★★☆)"
   ]
  },
  {
   "cell_type": "code",
   "execution_count": null,
   "id": "c28cdf0e",
   "metadata": {
    "papermill": {
     "duration": 0.022774,
     "end_time": "2025-06-26T11:32:14.982999",
     "exception": false,
     "start_time": "2025-06-26T11:32:14.960225",
     "status": "completed"
    },
    "tags": []
   },
   "outputs": [],
   "source": []
  },
  {
   "cell_type": "markdown",
   "id": "34e348f6",
   "metadata": {
    "papermill": {
     "duration": 0.022729,
     "end_time": "2025-06-26T11:32:15.028616",
     "exception": false,
     "start_time": "2025-06-26T11:32:15.005887",
     "status": "completed"
    },
    "tags": []
   },
   "source": [
    "#### 36. Extract the integer part of a random array of positive numbers using 4 different methods (★★☆)"
   ]
  },
  {
   "cell_type": "code",
   "execution_count": null,
   "id": "b829fed4",
   "metadata": {
    "papermill": {
     "duration": 0.022327,
     "end_time": "2025-06-26T11:32:15.073686",
     "exception": false,
     "start_time": "2025-06-26T11:32:15.051359",
     "status": "completed"
    },
    "tags": []
   },
   "outputs": [],
   "source": []
  },
  {
   "cell_type": "markdown",
   "id": "1c6d1e22",
   "metadata": {
    "papermill": {
     "duration": 0.022647,
     "end_time": "2025-06-26T11:32:15.120077",
     "exception": false,
     "start_time": "2025-06-26T11:32:15.097430",
     "status": "completed"
    },
    "tags": []
   },
   "source": [
    "#### 37. Create a 5x5 matrix with row values ranging from 0 to 4 (★★☆)"
   ]
  },
  {
   "cell_type": "code",
   "execution_count": null,
   "id": "4dd804fc",
   "metadata": {
    "papermill": {
     "duration": 0.022523,
     "end_time": "2025-06-26T11:32:15.165541",
     "exception": false,
     "start_time": "2025-06-26T11:32:15.143018",
     "status": "completed"
    },
    "tags": []
   },
   "outputs": [],
   "source": []
  },
  {
   "cell_type": "markdown",
   "id": "e75a36b2",
   "metadata": {
    "papermill": {
     "duration": 0.022283,
     "end_time": "2025-06-26T11:32:15.210611",
     "exception": false,
     "start_time": "2025-06-26T11:32:15.188328",
     "status": "completed"
    },
    "tags": []
   },
   "source": [
    "#### 38. Consider a generator function that generates 10 integers and use it to build an array (★☆☆)"
   ]
  },
  {
   "cell_type": "code",
   "execution_count": null,
   "id": "34273a47",
   "metadata": {
    "papermill": {
     "duration": 0.024022,
     "end_time": "2025-06-26T11:32:15.257604",
     "exception": false,
     "start_time": "2025-06-26T11:32:15.233582",
     "status": "completed"
    },
    "tags": []
   },
   "outputs": [],
   "source": []
  },
  {
   "cell_type": "markdown",
   "id": "1547fedd",
   "metadata": {
    "papermill": {
     "duration": 0.022487,
     "end_time": "2025-06-26T11:32:15.302719",
     "exception": false,
     "start_time": "2025-06-26T11:32:15.280232",
     "status": "completed"
    },
    "tags": []
   },
   "source": [
    "#### 39. Create a vector of size 10 with values ranging from 0 to 1, both excluded (★★☆)"
   ]
  },
  {
   "cell_type": "code",
   "execution_count": null,
   "id": "1a0aba10",
   "metadata": {
    "papermill": {
     "duration": 0.022915,
     "end_time": "2025-06-26T11:32:15.348548",
     "exception": false,
     "start_time": "2025-06-26T11:32:15.325633",
     "status": "completed"
    },
    "tags": []
   },
   "outputs": [],
   "source": []
  },
  {
   "cell_type": "markdown",
   "id": "5298aca3",
   "metadata": {
    "papermill": {
     "duration": 0.022329,
     "end_time": "2025-06-26T11:32:15.393644",
     "exception": false,
     "start_time": "2025-06-26T11:32:15.371315",
     "status": "completed"
    },
    "tags": []
   },
   "source": [
    "#### 40. Create a random vector of size 10 and sort it (★★☆)"
   ]
  },
  {
   "cell_type": "code",
   "execution_count": null,
   "id": "89ad980a",
   "metadata": {
    "papermill": {
     "duration": 0.022936,
     "end_time": "2025-06-26T11:32:15.439383",
     "exception": false,
     "start_time": "2025-06-26T11:32:15.416447",
     "status": "completed"
    },
    "tags": []
   },
   "outputs": [],
   "source": []
  },
  {
   "cell_type": "markdown",
   "id": "f7d9a1cd",
   "metadata": {
    "papermill": {
     "duration": 0.023689,
     "end_time": "2025-06-26T11:32:15.487349",
     "exception": false,
     "start_time": "2025-06-26T11:32:15.463660",
     "status": "completed"
    },
    "tags": []
   },
   "source": [
    "#### 41. How to sum a small array faster than np.sum (★★☆)"
   ]
  },
  {
   "cell_type": "code",
   "execution_count": null,
   "id": "88106b2b",
   "metadata": {
    "papermill": {
     "duration": 0.022781,
     "end_time": "2025-06-26T11:32:15.533548",
     "exception": false,
     "start_time": "2025-06-26T11:32:15.510767",
     "status": "completed"
    },
    "tags": []
   },
   "outputs": [],
   "source": []
  },
  {
   "cell_type": "markdown",
   "id": "53f618bc",
   "metadata": {
    "papermill": {
     "duration": 0.022417,
     "end_time": "2025-06-26T11:32:15.578553",
     "exception": false,
     "start_time": "2025-06-26T11:32:15.556136",
     "status": "completed"
    },
    "tags": []
   },
   "source": [
    "#### 42. Consider two random arrays A and B, check if they are equal (★★☆)"
   ]
  },
  {
   "cell_type": "code",
   "execution_count": null,
   "id": "de92ba05",
   "metadata": {
    "papermill": {
     "duration": 0.022192,
     "end_time": "2025-06-26T11:32:15.623211",
     "exception": false,
     "start_time": "2025-06-26T11:32:15.601019",
     "status": "completed"
    },
    "tags": []
   },
   "outputs": [],
   "source": []
  },
  {
   "cell_type": "markdown",
   "id": "8ad96a5e",
   "metadata": {
    "papermill": {
     "duration": 0.022472,
     "end_time": "2025-06-26T11:32:15.668201",
     "exception": false,
     "start_time": "2025-06-26T11:32:15.645729",
     "status": "completed"
    },
    "tags": []
   },
   "source": [
    "#### 43. Make an array immutable (read-only) (★★☆)"
   ]
  },
  {
   "cell_type": "code",
   "execution_count": null,
   "id": "87a40fe4",
   "metadata": {
    "papermill": {
     "duration": 0.022722,
     "end_time": "2025-06-26T11:32:15.713508",
     "exception": false,
     "start_time": "2025-06-26T11:32:15.690786",
     "status": "completed"
    },
    "tags": []
   },
   "outputs": [],
   "source": []
  },
  {
   "cell_type": "markdown",
   "id": "8eac3991",
   "metadata": {
    "papermill": {
     "duration": 0.022524,
     "end_time": "2025-06-26T11:32:15.758616",
     "exception": false,
     "start_time": "2025-06-26T11:32:15.736092",
     "status": "completed"
    },
    "tags": []
   },
   "source": [
    "#### 44. Consider a random 10x2 matrix representing cartesian coordinates, convert them to polar coordinates (★★☆)"
   ]
  },
  {
   "cell_type": "code",
   "execution_count": null,
   "id": "a2f8ca5f",
   "metadata": {
    "papermill": {
     "duration": 0.022189,
     "end_time": "2025-06-26T11:32:15.803335",
     "exception": false,
     "start_time": "2025-06-26T11:32:15.781146",
     "status": "completed"
    },
    "tags": []
   },
   "outputs": [],
   "source": []
  },
  {
   "cell_type": "markdown",
   "id": "dfbcc921",
   "metadata": {
    "papermill": {
     "duration": 0.02225,
     "end_time": "2025-06-26T11:32:15.847928",
     "exception": false,
     "start_time": "2025-06-26T11:32:15.825678",
     "status": "completed"
    },
    "tags": []
   },
   "source": [
    "#### 45. Create random vector of size 10 and replace the maximum value by 0 (★★☆)"
   ]
  },
  {
   "cell_type": "code",
   "execution_count": null,
   "id": "fd826988",
   "metadata": {
    "papermill": {
     "duration": 0.022275,
     "end_time": "2025-06-26T11:32:15.892715",
     "exception": false,
     "start_time": "2025-06-26T11:32:15.870440",
     "status": "completed"
    },
    "tags": []
   },
   "outputs": [],
   "source": []
  },
  {
   "cell_type": "markdown",
   "id": "5083fd5e",
   "metadata": {
    "papermill": {
     "duration": 0.022193,
     "end_time": "2025-06-26T11:32:15.937696",
     "exception": false,
     "start_time": "2025-06-26T11:32:15.915503",
     "status": "completed"
    },
    "tags": []
   },
   "source": [
    "#### 46. Create a structured array with `x` and `y` coordinates covering the [0,1]x[0,1] area (★★☆)"
   ]
  },
  {
   "cell_type": "code",
   "execution_count": null,
   "id": "4f4b7b1e",
   "metadata": {
    "papermill": {
     "duration": 0.022226,
     "end_time": "2025-06-26T11:32:15.982903",
     "exception": false,
     "start_time": "2025-06-26T11:32:15.960677",
     "status": "completed"
    },
    "tags": []
   },
   "outputs": [],
   "source": []
  },
  {
   "cell_type": "markdown",
   "id": "fe8162a3",
   "metadata": {
    "papermill": {
     "duration": 0.022894,
     "end_time": "2025-06-26T11:32:16.028365",
     "exception": false,
     "start_time": "2025-06-26T11:32:16.005471",
     "status": "completed"
    },
    "tags": []
   },
   "source": [
    "#### 47. Given two arrays, X and Y, construct the Cauchy matrix C (Cij =1/(xi - yj)) (★★☆)"
   ]
  },
  {
   "cell_type": "code",
   "execution_count": null,
   "id": "5812d828",
   "metadata": {
    "papermill": {
     "duration": 0.022423,
     "end_time": "2025-06-26T11:32:16.074382",
     "exception": false,
     "start_time": "2025-06-26T11:32:16.051959",
     "status": "completed"
    },
    "tags": []
   },
   "outputs": [],
   "source": []
  },
  {
   "cell_type": "markdown",
   "id": "0e8958e6",
   "metadata": {
    "papermill": {
     "duration": 0.022453,
     "end_time": "2025-06-26T11:32:16.119430",
     "exception": false,
     "start_time": "2025-06-26T11:32:16.096977",
     "status": "completed"
    },
    "tags": []
   },
   "source": [
    "#### 48. Print the minimum and maximum representable values for each numpy scalar type (★★☆)"
   ]
  },
  {
   "cell_type": "code",
   "execution_count": null,
   "id": "44f98aa5",
   "metadata": {
    "papermill": {
     "duration": 0.02328,
     "end_time": "2025-06-26T11:32:16.165530",
     "exception": false,
     "start_time": "2025-06-26T11:32:16.142250",
     "status": "completed"
    },
    "tags": []
   },
   "outputs": [],
   "source": []
  },
  {
   "cell_type": "markdown",
   "id": "5d1bdd21",
   "metadata": {
    "papermill": {
     "duration": 0.02241,
     "end_time": "2025-06-26T11:32:16.210675",
     "exception": false,
     "start_time": "2025-06-26T11:32:16.188265",
     "status": "completed"
    },
    "tags": []
   },
   "source": [
    "#### 49. How to print all the values of an array (★★☆)"
   ]
  },
  {
   "cell_type": "code",
   "execution_count": null,
   "id": "68d337d0",
   "metadata": {
    "papermill": {
     "duration": 0.023779,
     "end_time": "2025-06-26T11:32:16.256963",
     "exception": false,
     "start_time": "2025-06-26T11:32:16.233184",
     "status": "completed"
    },
    "tags": []
   },
   "outputs": [],
   "source": []
  },
  {
   "cell_type": "markdown",
   "id": "937a0fcf",
   "metadata": {
    "papermill": {
     "duration": 0.022284,
     "end_time": "2025-06-26T11:32:16.301997",
     "exception": false,
     "start_time": "2025-06-26T11:32:16.279713",
     "status": "completed"
    },
    "tags": []
   },
   "source": [
    "#### 50. How to find the closest value (to a given scalar) in a vector (★★☆)"
   ]
  },
  {
   "cell_type": "code",
   "execution_count": null,
   "id": "e19b4df4",
   "metadata": {
    "papermill": {
     "duration": 0.022411,
     "end_time": "2025-06-26T11:32:16.346936",
     "exception": false,
     "start_time": "2025-06-26T11:32:16.324525",
     "status": "completed"
    },
    "tags": []
   },
   "outputs": [],
   "source": []
  },
  {
   "cell_type": "markdown",
   "id": "fb8be3ee",
   "metadata": {
    "papermill": {
     "duration": 0.022979,
     "end_time": "2025-06-26T11:32:16.392518",
     "exception": false,
     "start_time": "2025-06-26T11:32:16.369539",
     "status": "completed"
    },
    "tags": []
   },
   "source": [
    "#### 51. Create a structured array representing a position (x,y) and a color (r,g,b) (★★☆)"
   ]
  },
  {
   "cell_type": "code",
   "execution_count": null,
   "id": "8faa7086",
   "metadata": {
    "papermill": {
     "duration": 0.022804,
     "end_time": "2025-06-26T11:32:16.438769",
     "exception": false,
     "start_time": "2025-06-26T11:32:16.415965",
     "status": "completed"
    },
    "tags": []
   },
   "outputs": [],
   "source": []
  },
  {
   "cell_type": "markdown",
   "id": "173d2a65",
   "metadata": {
    "papermill": {
     "duration": 0.022664,
     "end_time": "2025-06-26T11:32:16.484961",
     "exception": false,
     "start_time": "2025-06-26T11:32:16.462297",
     "status": "completed"
    },
    "tags": []
   },
   "source": [
    "#### 52. Consider a random vector with shape (100,2) representing coordinates, find point by point distances (★★☆)"
   ]
  },
  {
   "cell_type": "code",
   "execution_count": null,
   "id": "62615e55",
   "metadata": {
    "papermill": {
     "duration": 0.02398,
     "end_time": "2025-06-26T11:32:16.532613",
     "exception": false,
     "start_time": "2025-06-26T11:32:16.508633",
     "status": "completed"
    },
    "tags": []
   },
   "outputs": [],
   "source": []
  },
  {
   "cell_type": "markdown",
   "id": "48a41a6a",
   "metadata": {
    "papermill": {
     "duration": 0.022394,
     "end_time": "2025-06-26T11:32:16.577579",
     "exception": false,
     "start_time": "2025-06-26T11:32:16.555185",
     "status": "completed"
    },
    "tags": []
   },
   "source": [
    "#### 53. How to convert a float (32 bits) array into an integer (32 bits) array in place"
   ]
  },
  {
   "cell_type": "code",
   "execution_count": null,
   "id": "6ecd6b1d",
   "metadata": {
    "papermill": {
     "duration": 0.022331,
     "end_time": "2025-06-26T11:32:16.622521",
     "exception": false,
     "start_time": "2025-06-26T11:32:16.600190",
     "status": "completed"
    },
    "tags": []
   },
   "outputs": [],
   "source": []
  },
  {
   "cell_type": "markdown",
   "id": "222d5868",
   "metadata": {
    "papermill": {
     "duration": 0.022474,
     "end_time": "2025-06-26T11:32:16.667415",
     "exception": false,
     "start_time": "2025-06-26T11:32:16.644941",
     "status": "completed"
    },
    "tags": []
   },
   "source": [
    "#### 54. How to read the following file (★★☆)\n",
    "```\n",
    "1, 2, 3, 4, 5\n",
    "6,  ,  , 7, 8\n",
    " ,  , 9,10,11\n",
    "```"
   ]
  },
  {
   "cell_type": "code",
   "execution_count": null,
   "id": "4fab8365",
   "metadata": {
    "papermill": {
     "duration": 0.022306,
     "end_time": "2025-06-26T11:32:16.712804",
     "exception": false,
     "start_time": "2025-06-26T11:32:16.690498",
     "status": "completed"
    },
    "tags": []
   },
   "outputs": [],
   "source": []
  },
  {
   "cell_type": "markdown",
   "id": "29c3507a",
   "metadata": {
    "papermill": {
     "duration": 0.022321,
     "end_time": "2025-06-26T11:32:16.757822",
     "exception": false,
     "start_time": "2025-06-26T11:32:16.735501",
     "status": "completed"
    },
    "tags": []
   },
   "source": [
    "#### 55. What is the equivalent of enumerate for numpy arrays (★★☆)"
   ]
  },
  {
   "cell_type": "code",
   "execution_count": null,
   "id": "5eae6e2a",
   "metadata": {
    "papermill": {
     "duration": 0.023011,
     "end_time": "2025-06-26T11:32:16.803546",
     "exception": false,
     "start_time": "2025-06-26T11:32:16.780535",
     "status": "completed"
    },
    "tags": []
   },
   "outputs": [],
   "source": []
  },
  {
   "cell_type": "markdown",
   "id": "5b831e5b",
   "metadata": {
    "papermill": {
     "duration": 0.022813,
     "end_time": "2025-06-26T11:32:16.848878",
     "exception": false,
     "start_time": "2025-06-26T11:32:16.826065",
     "status": "completed"
    },
    "tags": []
   },
   "source": [
    "#### 56. Generate a generic 2D Gaussian-like array (★★☆)"
   ]
  },
  {
   "cell_type": "code",
   "execution_count": null,
   "id": "8fccc4f4",
   "metadata": {
    "papermill": {
     "duration": 0.023279,
     "end_time": "2025-06-26T11:32:16.895508",
     "exception": false,
     "start_time": "2025-06-26T11:32:16.872229",
     "status": "completed"
    },
    "tags": []
   },
   "outputs": [],
   "source": []
  },
  {
   "cell_type": "markdown",
   "id": "af8e66c0",
   "metadata": {
    "papermill": {
     "duration": 0.023108,
     "end_time": "2025-06-26T11:32:16.941674",
     "exception": false,
     "start_time": "2025-06-26T11:32:16.918566",
     "status": "completed"
    },
    "tags": []
   },
   "source": [
    "#### 57. How to randomly place p elements in a 2D array (★★☆)"
   ]
  },
  {
   "cell_type": "code",
   "execution_count": null,
   "id": "a55f6f69",
   "metadata": {
    "papermill": {
     "duration": 0.023131,
     "end_time": "2025-06-26T11:32:16.987527",
     "exception": false,
     "start_time": "2025-06-26T11:32:16.964396",
     "status": "completed"
    },
    "tags": []
   },
   "outputs": [],
   "source": []
  },
  {
   "cell_type": "markdown",
   "id": "1dd579c3",
   "metadata": {
    "papermill": {
     "duration": 0.022343,
     "end_time": "2025-06-26T11:32:17.032693",
     "exception": false,
     "start_time": "2025-06-26T11:32:17.010350",
     "status": "completed"
    },
    "tags": []
   },
   "source": [
    "#### 58. Subtract the mean of each row of a matrix (★★☆)"
   ]
  },
  {
   "cell_type": "code",
   "execution_count": null,
   "id": "90b5b9ec",
   "metadata": {
    "papermill": {
     "duration": 0.02312,
     "end_time": "2025-06-26T11:32:17.078554",
     "exception": false,
     "start_time": "2025-06-26T11:32:17.055434",
     "status": "completed"
    },
    "tags": []
   },
   "outputs": [],
   "source": []
  },
  {
   "cell_type": "markdown",
   "id": "4783a1b7",
   "metadata": {
    "papermill": {
     "duration": 0.022709,
     "end_time": "2025-06-26T11:32:17.124258",
     "exception": false,
     "start_time": "2025-06-26T11:32:17.101549",
     "status": "completed"
    },
    "tags": []
   },
   "source": [
    "#### 59. How to sort an array by the nth column (★★☆)"
   ]
  },
  {
   "cell_type": "code",
   "execution_count": null,
   "id": "2336e2f8",
   "metadata": {
    "papermill": {
     "duration": 0.022423,
     "end_time": "2025-06-26T11:32:17.169377",
     "exception": false,
     "start_time": "2025-06-26T11:32:17.146954",
     "status": "completed"
    },
    "tags": []
   },
   "outputs": [],
   "source": []
  },
  {
   "cell_type": "markdown",
   "id": "9c91bad7",
   "metadata": {
    "papermill": {
     "duration": 0.022616,
     "end_time": "2025-06-26T11:32:17.214837",
     "exception": false,
     "start_time": "2025-06-26T11:32:17.192221",
     "status": "completed"
    },
    "tags": []
   },
   "source": [
    "#### 60. How to tell if a given 2D array has null columns (★★☆)"
   ]
  },
  {
   "cell_type": "code",
   "execution_count": null,
   "id": "f5b669b1",
   "metadata": {
    "papermill": {
     "duration": 0.023692,
     "end_time": "2025-06-26T11:32:17.261184",
     "exception": false,
     "start_time": "2025-06-26T11:32:17.237492",
     "status": "completed"
    },
    "tags": []
   },
   "outputs": [],
   "source": []
  },
  {
   "cell_type": "markdown",
   "id": "9f4d8574",
   "metadata": {
    "papermill": {
     "duration": 0.022711,
     "end_time": "2025-06-26T11:32:17.307040",
     "exception": false,
     "start_time": "2025-06-26T11:32:17.284329",
     "status": "completed"
    },
    "tags": []
   },
   "source": [
    "#### 61. Find the nearest value from a given value in an array (★★☆)"
   ]
  },
  {
   "cell_type": "code",
   "execution_count": null,
   "id": "1111bdf7",
   "metadata": {
    "papermill": {
     "duration": 0.022454,
     "end_time": "2025-06-26T11:32:17.352593",
     "exception": false,
     "start_time": "2025-06-26T11:32:17.330139",
     "status": "completed"
    },
    "tags": []
   },
   "outputs": [],
   "source": []
  },
  {
   "cell_type": "markdown",
   "id": "3736193c",
   "metadata": {
    "papermill": {
     "duration": 0.02219,
     "end_time": "2025-06-26T11:32:17.397559",
     "exception": false,
     "start_time": "2025-06-26T11:32:17.375369",
     "status": "completed"
    },
    "tags": []
   },
   "source": [
    "#### 62. Considering two arrays with shape (1,3) and (3,1), how to compute their sum using an iterator (★★☆)"
   ]
  },
  {
   "cell_type": "code",
   "execution_count": null,
   "id": "38974b11",
   "metadata": {
    "papermill": {
     "duration": 0.022401,
     "end_time": "2025-06-26T11:32:17.442623",
     "exception": false,
     "start_time": "2025-06-26T11:32:17.420222",
     "status": "completed"
    },
    "tags": []
   },
   "outputs": [],
   "source": []
  },
  {
   "cell_type": "markdown",
   "id": "1d80de98",
   "metadata": {
    "papermill": {
     "duration": 0.022308,
     "end_time": "2025-06-26T11:32:17.487366",
     "exception": false,
     "start_time": "2025-06-26T11:32:17.465058",
     "status": "completed"
    },
    "tags": []
   },
   "source": [
    "#### 63. Create an array class that has a name attribute (★★☆)"
   ]
  },
  {
   "cell_type": "code",
   "execution_count": null,
   "id": "146cf0ab",
   "metadata": {
    "papermill": {
     "duration": 0.02248,
     "end_time": "2025-06-26T11:32:17.532503",
     "exception": false,
     "start_time": "2025-06-26T11:32:17.510023",
     "status": "completed"
    },
    "tags": []
   },
   "outputs": [],
   "source": []
  },
  {
   "cell_type": "markdown",
   "id": "394c6388",
   "metadata": {
    "papermill": {
     "duration": 0.022475,
     "end_time": "2025-06-26T11:32:17.577432",
     "exception": false,
     "start_time": "2025-06-26T11:32:17.554957",
     "status": "completed"
    },
    "tags": []
   },
   "source": [
    "#### 64. Consider a given vector, how to add 1 to each element indexed by a second vector (be careful with repeated indices) (★★★)"
   ]
  },
  {
   "cell_type": "code",
   "execution_count": null,
   "id": "2006b0b8",
   "metadata": {
    "papermill": {
     "duration": 0.022795,
     "end_time": "2025-06-26T11:32:17.623041",
     "exception": false,
     "start_time": "2025-06-26T11:32:17.600246",
     "status": "completed"
    },
    "tags": []
   },
   "outputs": [],
   "source": []
  },
  {
   "cell_type": "markdown",
   "id": "e84d5923",
   "metadata": {
    "papermill": {
     "duration": 0.022519,
     "end_time": "2025-06-26T11:32:17.668311",
     "exception": false,
     "start_time": "2025-06-26T11:32:17.645792",
     "status": "completed"
    },
    "tags": []
   },
   "source": [
    "#### 65. How to accumulate elements of a vector (X) to an array (F) based on an index list (I) (★★★)"
   ]
  },
  {
   "cell_type": "code",
   "execution_count": null,
   "id": "90850e06",
   "metadata": {
    "papermill": {
     "duration": 0.023028,
     "end_time": "2025-06-26T11:32:17.714725",
     "exception": false,
     "start_time": "2025-06-26T11:32:17.691697",
     "status": "completed"
    },
    "tags": []
   },
   "outputs": [],
   "source": []
  },
  {
   "cell_type": "markdown",
   "id": "65e1a6b8",
   "metadata": {
    "papermill": {
     "duration": 0.022658,
     "end_time": "2025-06-26T11:32:17.760129",
     "exception": false,
     "start_time": "2025-06-26T11:32:17.737471",
     "status": "completed"
    },
    "tags": []
   },
   "source": [
    "#### 66. Considering a (w,h,3) image of (dtype=ubyte), compute the number of unique colors (★★☆)"
   ]
  },
  {
   "cell_type": "code",
   "execution_count": null,
   "id": "ba1d441d",
   "metadata": {
    "papermill": {
     "duration": 0.022535,
     "end_time": "2025-06-26T11:32:17.805624",
     "exception": false,
     "start_time": "2025-06-26T11:32:17.783089",
     "status": "completed"
    },
    "tags": []
   },
   "outputs": [],
   "source": []
  },
  {
   "cell_type": "markdown",
   "id": "4e8d6486",
   "metadata": {
    "papermill": {
     "duration": 0.023267,
     "end_time": "2025-06-26T11:32:17.851832",
     "exception": false,
     "start_time": "2025-06-26T11:32:17.828565",
     "status": "completed"
    },
    "tags": []
   },
   "source": [
    "#### 67. Considering a four dimensions array, how to get sum over the last two axis at once (★★★)"
   ]
  },
  {
   "cell_type": "code",
   "execution_count": null,
   "id": "b1fc4457",
   "metadata": {
    "papermill": {
     "duration": 0.022758,
     "end_time": "2025-06-26T11:32:17.897179",
     "exception": false,
     "start_time": "2025-06-26T11:32:17.874421",
     "status": "completed"
    },
    "tags": []
   },
   "outputs": [],
   "source": []
  },
  {
   "cell_type": "markdown",
   "id": "b5af8b0f",
   "metadata": {
    "papermill": {
     "duration": 0.022554,
     "end_time": "2025-06-26T11:32:17.942950",
     "exception": false,
     "start_time": "2025-06-26T11:32:17.920396",
     "status": "completed"
    },
    "tags": []
   },
   "source": [
    "#### 68. Considering a one-dimensional vector D, how to compute means of subsets of D using a vector S of same size describing subset  indices (★★★)"
   ]
  },
  {
   "cell_type": "code",
   "execution_count": null,
   "id": "f7cfe88f",
   "metadata": {
    "papermill": {
     "duration": 0.022413,
     "end_time": "2025-06-26T11:32:17.988667",
     "exception": false,
     "start_time": "2025-06-26T11:32:17.966254",
     "status": "completed"
    },
    "tags": []
   },
   "outputs": [],
   "source": []
  },
  {
   "cell_type": "markdown",
   "id": "0ab05593",
   "metadata": {
    "papermill": {
     "duration": 0.022545,
     "end_time": "2025-06-26T11:32:18.034029",
     "exception": false,
     "start_time": "2025-06-26T11:32:18.011484",
     "status": "completed"
    },
    "tags": []
   },
   "source": [
    "#### 69. How to get the diagonal of a dot product (★★★)"
   ]
  },
  {
   "cell_type": "code",
   "execution_count": null,
   "id": "f07f455a",
   "metadata": {
    "papermill": {
     "duration": 0.023153,
     "end_time": "2025-06-26T11:32:18.079904",
     "exception": false,
     "start_time": "2025-06-26T11:32:18.056751",
     "status": "completed"
    },
    "tags": []
   },
   "outputs": [],
   "source": []
  },
  {
   "cell_type": "markdown",
   "id": "742ce405",
   "metadata": {
    "papermill": {
     "duration": 0.022884,
     "end_time": "2025-06-26T11:32:18.125500",
     "exception": false,
     "start_time": "2025-06-26T11:32:18.102616",
     "status": "completed"
    },
    "tags": []
   },
   "source": [
    "#### 70. Consider the vector [1, 2, 3, 4, 5], how to build a new vector with 3 consecutive zeros interleaved between each value (★★★)"
   ]
  },
  {
   "cell_type": "code",
   "execution_count": null,
   "id": "10660e6d",
   "metadata": {
    "papermill": {
     "duration": 0.022849,
     "end_time": "2025-06-26T11:32:18.172396",
     "exception": false,
     "start_time": "2025-06-26T11:32:18.149547",
     "status": "completed"
    },
    "tags": []
   },
   "outputs": [],
   "source": []
  },
  {
   "cell_type": "markdown",
   "id": "437eff56",
   "metadata": {
    "papermill": {
     "duration": 0.022585,
     "end_time": "2025-06-26T11:32:18.217697",
     "exception": false,
     "start_time": "2025-06-26T11:32:18.195112",
     "status": "completed"
    },
    "tags": []
   },
   "source": [
    "#### 71. Consider an array of dimension (5,5,3), how to multiply it by an array with dimensions (5,5) (★★★)"
   ]
  },
  {
   "cell_type": "code",
   "execution_count": null,
   "id": "e51201d0",
   "metadata": {
    "papermill": {
     "duration": 0.024136,
     "end_time": "2025-06-26T11:32:18.264928",
     "exception": false,
     "start_time": "2025-06-26T11:32:18.240792",
     "status": "completed"
    },
    "tags": []
   },
   "outputs": [],
   "source": []
  },
  {
   "cell_type": "markdown",
   "id": "5a378e71",
   "metadata": {
    "papermill": {
     "duration": 0.02288,
     "end_time": "2025-06-26T11:32:18.310994",
     "exception": false,
     "start_time": "2025-06-26T11:32:18.288114",
     "status": "completed"
    },
    "tags": []
   },
   "source": [
    "#### 72. How to swap two rows of an array (★★★)"
   ]
  },
  {
   "cell_type": "code",
   "execution_count": null,
   "id": "a6235108",
   "metadata": {
    "papermill": {
     "duration": 0.022981,
     "end_time": "2025-06-26T11:32:18.357051",
     "exception": false,
     "start_time": "2025-06-26T11:32:18.334070",
     "status": "completed"
    },
    "tags": []
   },
   "outputs": [],
   "source": []
  },
  {
   "cell_type": "markdown",
   "id": "63c79a4b",
   "metadata": {
    "papermill": {
     "duration": 0.023079,
     "end_time": "2025-06-26T11:32:18.403045",
     "exception": false,
     "start_time": "2025-06-26T11:32:18.379966",
     "status": "completed"
    },
    "tags": []
   },
   "source": [
    "#### 73. Consider a set of 10 triplets describing 10 triangles (with shared vertices), find the set of unique line segments composing all the  triangles (★★★)"
   ]
  },
  {
   "cell_type": "code",
   "execution_count": null,
   "id": "d517e94f",
   "metadata": {
    "papermill": {
     "duration": 0.023243,
     "end_time": "2025-06-26T11:32:18.449548",
     "exception": false,
     "start_time": "2025-06-26T11:32:18.426305",
     "status": "completed"
    },
    "tags": []
   },
   "outputs": [],
   "source": []
  },
  {
   "cell_type": "markdown",
   "id": "5343a32b",
   "metadata": {
    "papermill": {
     "duration": 0.022936,
     "end_time": "2025-06-26T11:32:18.495523",
     "exception": false,
     "start_time": "2025-06-26T11:32:18.472587",
     "status": "completed"
    },
    "tags": []
   },
   "source": [
    "#### 74. Given a sorted array C that corresponds to a bincount, how to produce an array A such that np.bincount(A) == C (★★★)"
   ]
  },
  {
   "cell_type": "code",
   "execution_count": null,
   "id": "c35e2816",
   "metadata": {
    "papermill": {
     "duration": 0.022995,
     "end_time": "2025-06-26T11:32:18.541708",
     "exception": false,
     "start_time": "2025-06-26T11:32:18.518713",
     "status": "completed"
    },
    "tags": []
   },
   "outputs": [],
   "source": []
  },
  {
   "cell_type": "markdown",
   "id": "52854359",
   "metadata": {
    "papermill": {
     "duration": 0.023233,
     "end_time": "2025-06-26T11:32:18.588155",
     "exception": false,
     "start_time": "2025-06-26T11:32:18.564922",
     "status": "completed"
    },
    "tags": []
   },
   "source": [
    "#### 75. How to compute averages using a sliding window over an array (★★★)"
   ]
  },
  {
   "cell_type": "code",
   "execution_count": null,
   "id": "9dbf7cab",
   "metadata": {
    "papermill": {
     "duration": 0.023345,
     "end_time": "2025-06-26T11:32:18.634622",
     "exception": false,
     "start_time": "2025-06-26T11:32:18.611277",
     "status": "completed"
    },
    "tags": []
   },
   "outputs": [],
   "source": []
  },
  {
   "cell_type": "markdown",
   "id": "062ad70e",
   "metadata": {
    "papermill": {
     "duration": 0.023492,
     "end_time": "2025-06-26T11:32:18.682296",
     "exception": false,
     "start_time": "2025-06-26T11:32:18.658804",
     "status": "completed"
    },
    "tags": []
   },
   "source": [
    "#### 76. Consider a one-dimensional array Z, build a two-dimensional array whose first row is (Z[0],Z[1],Z[2]) and each subsequent row is  shifted by 1 (last row should be (Z[-3],Z[-2],Z[-1]) (★★★)"
   ]
  },
  {
   "cell_type": "code",
   "execution_count": null,
   "id": "7bc2b3cc",
   "metadata": {
    "papermill": {
     "duration": 0.022996,
     "end_time": "2025-06-26T11:32:18.729197",
     "exception": false,
     "start_time": "2025-06-26T11:32:18.706201",
     "status": "completed"
    },
    "tags": []
   },
   "outputs": [],
   "source": []
  },
  {
   "cell_type": "markdown",
   "id": "067fd8d7",
   "metadata": {
    "papermill": {
     "duration": 0.022641,
     "end_time": "2025-06-26T11:32:18.775065",
     "exception": false,
     "start_time": "2025-06-26T11:32:18.752424",
     "status": "completed"
    },
    "tags": []
   },
   "source": [
    "#### 77. How to negate a boolean, or to change the sign of a float inplace (★★★)"
   ]
  },
  {
   "cell_type": "code",
   "execution_count": null,
   "id": "7ff003d0",
   "metadata": {
    "papermill": {
     "duration": 0.023667,
     "end_time": "2025-06-26T11:32:18.822767",
     "exception": false,
     "start_time": "2025-06-26T11:32:18.799100",
     "status": "completed"
    },
    "tags": []
   },
   "outputs": [],
   "source": []
  },
  {
   "cell_type": "markdown",
   "id": "111b27fa",
   "metadata": {
    "papermill": {
     "duration": 0.027393,
     "end_time": "2025-06-26T11:32:18.874589",
     "exception": false,
     "start_time": "2025-06-26T11:32:18.847196",
     "status": "completed"
    },
    "tags": []
   },
   "source": [
    "#### 78. Consider 2 sets of points P0,P1 describing lines (2d) and a point p, how to compute distance from p to each line i (P0[i],P1[i]) (★★★)"
   ]
  },
  {
   "cell_type": "code",
   "execution_count": null,
   "id": "3be47c98",
   "metadata": {
    "papermill": {
     "duration": 0.02313,
     "end_time": "2025-06-26T11:32:18.921805",
     "exception": false,
     "start_time": "2025-06-26T11:32:18.898675",
     "status": "completed"
    },
    "tags": []
   },
   "outputs": [],
   "source": []
  },
  {
   "cell_type": "markdown",
   "id": "b66ab6cb",
   "metadata": {
    "papermill": {
     "duration": 0.022843,
     "end_time": "2025-06-26T11:32:18.967764",
     "exception": false,
     "start_time": "2025-06-26T11:32:18.944921",
     "status": "completed"
    },
    "tags": []
   },
   "source": [
    "#### 79. Consider 2 sets of points P0,P1 describing lines (2d) and a set of points P, how to compute distance from each point j (P[j]) to each line i (P0[i],P1[i]) (★★★)"
   ]
  },
  {
   "cell_type": "code",
   "execution_count": null,
   "id": "1664897e",
   "metadata": {
    "papermill": {
     "duration": 0.022721,
     "end_time": "2025-06-26T11:32:19.013538",
     "exception": false,
     "start_time": "2025-06-26T11:32:18.990817",
     "status": "completed"
    },
    "tags": []
   },
   "outputs": [],
   "source": []
  },
  {
   "cell_type": "markdown",
   "id": "70ea98c7",
   "metadata": {
    "papermill": {
     "duration": 0.022644,
     "end_time": "2025-06-26T11:32:19.058971",
     "exception": false,
     "start_time": "2025-06-26T11:32:19.036327",
     "status": "completed"
    },
    "tags": []
   },
   "source": [
    "#### 80. Consider an arbitrary array, write a function that extracts a subpart with a fixed shape and centered on a given element (pad with a `fill` value when necessary) (★★★)"
   ]
  },
  {
   "cell_type": "code",
   "execution_count": null,
   "id": "e5d23836",
   "metadata": {
    "papermill": {
     "duration": 0.022649,
     "end_time": "2025-06-26T11:32:19.104230",
     "exception": false,
     "start_time": "2025-06-26T11:32:19.081581",
     "status": "completed"
    },
    "tags": []
   },
   "outputs": [],
   "source": []
  },
  {
   "cell_type": "markdown",
   "id": "a7f1c906",
   "metadata": {
    "papermill": {
     "duration": 0.023506,
     "end_time": "2025-06-26T11:32:19.151017",
     "exception": false,
     "start_time": "2025-06-26T11:32:19.127511",
     "status": "completed"
    },
    "tags": []
   },
   "source": [
    "#### 81. Consider an array Z = [1,2,3,4,5,6,7,8,9,10,11,12,13,14], how to generate an array R = [[1,2,3,4], [2,3,4,5], [3,4,5,6], ..., [11,12,13,14]] (★★★)"
   ]
  },
  {
   "cell_type": "code",
   "execution_count": null,
   "id": "a26e5e34",
   "metadata": {
    "papermill": {
     "duration": 0.022899,
     "end_time": "2025-06-26T11:32:19.197408",
     "exception": false,
     "start_time": "2025-06-26T11:32:19.174509",
     "status": "completed"
    },
    "tags": []
   },
   "outputs": [],
   "source": []
  },
  {
   "cell_type": "markdown",
   "id": "01f85e12",
   "metadata": {
    "papermill": {
     "duration": 0.02304,
     "end_time": "2025-06-26T11:32:19.246960",
     "exception": false,
     "start_time": "2025-06-26T11:32:19.223920",
     "status": "completed"
    },
    "tags": []
   },
   "source": [
    "#### 82. Compute a matrix rank (★★★)"
   ]
  },
  {
   "cell_type": "code",
   "execution_count": null,
   "id": "aa375198",
   "metadata": {
    "papermill": {
     "duration": 0.023644,
     "end_time": "2025-06-26T11:32:19.295363",
     "exception": false,
     "start_time": "2025-06-26T11:32:19.271719",
     "status": "completed"
    },
    "tags": []
   },
   "outputs": [],
   "source": []
  },
  {
   "cell_type": "markdown",
   "id": "027ebc01",
   "metadata": {
    "papermill": {
     "duration": 0.022725,
     "end_time": "2025-06-26T11:32:19.341542",
     "exception": false,
     "start_time": "2025-06-26T11:32:19.318817",
     "status": "completed"
    },
    "tags": []
   },
   "source": [
    "#### 83. How to find the most frequent value in an array"
   ]
  },
  {
   "cell_type": "code",
   "execution_count": null,
   "id": "83627d1d",
   "metadata": {
    "papermill": {
     "duration": 0.026928,
     "end_time": "2025-06-26T11:32:19.391342",
     "exception": false,
     "start_time": "2025-06-26T11:32:19.364414",
     "status": "completed"
    },
    "tags": []
   },
   "outputs": [],
   "source": []
  },
  {
   "cell_type": "markdown",
   "id": "472afe88",
   "metadata": {
    "papermill": {
     "duration": 0.030383,
     "end_time": "2025-06-26T11:32:19.448478",
     "exception": false,
     "start_time": "2025-06-26T11:32:19.418095",
     "status": "completed"
    },
    "tags": []
   },
   "source": [
    "#### 84. Extract all the contiguous 3x3 blocks from a random 10x10 matrix (★★★)"
   ]
  },
  {
   "cell_type": "code",
   "execution_count": null,
   "id": "73d3512b",
   "metadata": {
    "papermill": {
     "duration": 0.022904,
     "end_time": "2025-06-26T11:32:19.500564",
     "exception": false,
     "start_time": "2025-06-26T11:32:19.477660",
     "status": "completed"
    },
    "tags": []
   },
   "outputs": [],
   "source": []
  },
  {
   "cell_type": "markdown",
   "id": "be210f04",
   "metadata": {
    "papermill": {
     "duration": 0.022589,
     "end_time": "2025-06-26T11:32:19.546026",
     "exception": false,
     "start_time": "2025-06-26T11:32:19.523437",
     "status": "completed"
    },
    "tags": []
   },
   "source": [
    "#### 85. Create a 2D array subclass such that Z[i,j] == Z[j,i] (★★★)"
   ]
  },
  {
   "cell_type": "code",
   "execution_count": null,
   "id": "713536c2",
   "metadata": {
    "papermill": {
     "duration": 0.022837,
     "end_time": "2025-06-26T11:32:19.591802",
     "exception": false,
     "start_time": "2025-06-26T11:32:19.568965",
     "status": "completed"
    },
    "tags": []
   },
   "outputs": [],
   "source": []
  },
  {
   "cell_type": "markdown",
   "id": "84266623",
   "metadata": {
    "papermill": {
     "duration": 0.022966,
     "end_time": "2025-06-26T11:32:19.637517",
     "exception": false,
     "start_time": "2025-06-26T11:32:19.614551",
     "status": "completed"
    },
    "tags": []
   },
   "source": [
    "#### 86. Consider a set of p matrices with shape (n,n) and a set of p vectors with shape (n,1). How to compute the sum of of the p matrix products at once (result has shape (n,1)) (★★★)"
   ]
  },
  {
   "cell_type": "code",
   "execution_count": null,
   "id": "ffc3b357",
   "metadata": {
    "papermill": {
     "duration": 0.023178,
     "end_time": "2025-06-26T11:32:19.683410",
     "exception": false,
     "start_time": "2025-06-26T11:32:19.660232",
     "status": "completed"
    },
    "tags": []
   },
   "outputs": [],
   "source": []
  },
  {
   "cell_type": "markdown",
   "id": "5f7e70a2",
   "metadata": {
    "papermill": {
     "duration": 0.022573,
     "end_time": "2025-06-26T11:32:19.729303",
     "exception": false,
     "start_time": "2025-06-26T11:32:19.706730",
     "status": "completed"
    },
    "tags": []
   },
   "source": [
    "#### 87. Consider a 16x16 array, how to get the block-sum (block size is 4x4) (★★★)"
   ]
  },
  {
   "cell_type": "code",
   "execution_count": null,
   "id": "1e4038b5",
   "metadata": {
    "papermill": {
     "duration": 0.02249,
     "end_time": "2025-06-26T11:32:19.774526",
     "exception": false,
     "start_time": "2025-06-26T11:32:19.752036",
     "status": "completed"
    },
    "tags": []
   },
   "outputs": [],
   "source": []
  },
  {
   "cell_type": "markdown",
   "id": "178c4107",
   "metadata": {
    "papermill": {
     "duration": 0.022786,
     "end_time": "2025-06-26T11:32:19.820503",
     "exception": false,
     "start_time": "2025-06-26T11:32:19.797717",
     "status": "completed"
    },
    "tags": []
   },
   "source": [
    "#### 88. How to implement the Game of Life using numpy arrays (★★★)"
   ]
  },
  {
   "cell_type": "code",
   "execution_count": null,
   "id": "1266d991",
   "metadata": {
    "papermill": {
     "duration": 0.02296,
     "end_time": "2025-06-26T11:32:19.867781",
     "exception": false,
     "start_time": "2025-06-26T11:32:19.844821",
     "status": "completed"
    },
    "tags": []
   },
   "outputs": [],
   "source": []
  },
  {
   "cell_type": "markdown",
   "id": "502eb0d7",
   "metadata": {
    "papermill": {
     "duration": 0.022515,
     "end_time": "2025-06-26T11:32:19.913520",
     "exception": false,
     "start_time": "2025-06-26T11:32:19.891005",
     "status": "completed"
    },
    "tags": []
   },
   "source": [
    "#### 89. How to get the n largest values of an array (★★★)"
   ]
  },
  {
   "cell_type": "code",
   "execution_count": null,
   "id": "7644ea5a",
   "metadata": {
    "papermill": {
     "duration": 0.023551,
     "end_time": "2025-06-26T11:32:19.960842",
     "exception": false,
     "start_time": "2025-06-26T11:32:19.937291",
     "status": "completed"
    },
    "tags": []
   },
   "outputs": [],
   "source": []
  },
  {
   "cell_type": "markdown",
   "id": "d9428e56",
   "metadata": {
    "papermill": {
     "duration": 0.0237,
     "end_time": "2025-06-26T11:32:20.007479",
     "exception": false,
     "start_time": "2025-06-26T11:32:19.983779",
     "status": "completed"
    },
    "tags": []
   },
   "source": [
    "#### 90. Given an arbitrary number of vectors, build the cartesian product (every combination of every item) (★★★)"
   ]
  },
  {
   "cell_type": "code",
   "execution_count": null,
   "id": "59f309b9",
   "metadata": {
    "papermill": {
     "duration": 0.023181,
     "end_time": "2025-06-26T11:32:20.053650",
     "exception": false,
     "start_time": "2025-06-26T11:32:20.030469",
     "status": "completed"
    },
    "tags": []
   },
   "outputs": [],
   "source": []
  },
  {
   "cell_type": "markdown",
   "id": "a1f53a23",
   "metadata": {
    "papermill": {
     "duration": 0.02393,
     "end_time": "2025-06-26T11:32:20.100724",
     "exception": false,
     "start_time": "2025-06-26T11:32:20.076794",
     "status": "completed"
    },
    "tags": []
   },
   "source": [
    "#### 91. How to create a record array from a regular array (★★★)"
   ]
  },
  {
   "cell_type": "code",
   "execution_count": null,
   "id": "87873042",
   "metadata": {
    "papermill": {
     "duration": 0.02295,
     "end_time": "2025-06-26T11:32:20.147522",
     "exception": false,
     "start_time": "2025-06-26T11:32:20.124572",
     "status": "completed"
    },
    "tags": []
   },
   "outputs": [],
   "source": []
  },
  {
   "cell_type": "markdown",
   "id": "43c67cbe",
   "metadata": {
    "papermill": {
     "duration": 0.022696,
     "end_time": "2025-06-26T11:32:20.193179",
     "exception": false,
     "start_time": "2025-06-26T11:32:20.170483",
     "status": "completed"
    },
    "tags": []
   },
   "source": [
    "#### 92. Consider a large vector Z, compute Z to the power of 3 using 3 different methods (★★★)"
   ]
  },
  {
   "cell_type": "code",
   "execution_count": null,
   "id": "2b0327c4",
   "metadata": {
    "papermill": {
     "duration": 0.024034,
     "end_time": "2025-06-26T11:32:20.240328",
     "exception": false,
     "start_time": "2025-06-26T11:32:20.216294",
     "status": "completed"
    },
    "tags": []
   },
   "outputs": [],
   "source": []
  },
  {
   "cell_type": "markdown",
   "id": "55fb8da7",
   "metadata": {
    "papermill": {
     "duration": 0.02461,
     "end_time": "2025-06-26T11:32:20.288108",
     "exception": false,
     "start_time": "2025-06-26T11:32:20.263498",
     "status": "completed"
    },
    "tags": []
   },
   "source": [
    "#### 93. Consider two arrays A and B of shape (8,3) and (2,2). How to find rows of A that contain elements of each row of B regardless of the order of the elements in B (★★★)"
   ]
  },
  {
   "cell_type": "code",
   "execution_count": null,
   "id": "5e277f81",
   "metadata": {
    "papermill": {
     "duration": 0.022592,
     "end_time": "2025-06-26T11:32:20.333436",
     "exception": false,
     "start_time": "2025-06-26T11:32:20.310844",
     "status": "completed"
    },
    "tags": []
   },
   "outputs": [],
   "source": []
  },
  {
   "cell_type": "markdown",
   "id": "8d98578c",
   "metadata": {
    "papermill": {
     "duration": 0.02404,
     "end_time": "2025-06-26T11:32:20.381320",
     "exception": false,
     "start_time": "2025-06-26T11:32:20.357280",
     "status": "completed"
    },
    "tags": []
   },
   "source": [
    "#### 94. Considering a 10x3 matrix, extract rows with unequal values (e.g. [2,2,3]) (★★★)"
   ]
  },
  {
   "cell_type": "code",
   "execution_count": null,
   "id": "30e314bd",
   "metadata": {
    "papermill": {
     "duration": 0.023148,
     "end_time": "2025-06-26T11:32:20.427295",
     "exception": false,
     "start_time": "2025-06-26T11:32:20.404147",
     "status": "completed"
    },
    "tags": []
   },
   "outputs": [],
   "source": []
  },
  {
   "cell_type": "markdown",
   "id": "3b395c29",
   "metadata": {
    "papermill": {
     "duration": 0.024071,
     "end_time": "2025-06-26T11:32:20.474266",
     "exception": false,
     "start_time": "2025-06-26T11:32:20.450195",
     "status": "completed"
    },
    "tags": []
   },
   "source": [
    "#### 95. Convert a vector of ints into a matrix binary representation (★★★)"
   ]
  },
  {
   "cell_type": "code",
   "execution_count": null,
   "id": "de7f41ca",
   "metadata": {
    "papermill": {
     "duration": 0.022732,
     "end_time": "2025-06-26T11:32:20.519920",
     "exception": false,
     "start_time": "2025-06-26T11:32:20.497188",
     "status": "completed"
    },
    "tags": []
   },
   "outputs": [],
   "source": []
  },
  {
   "cell_type": "markdown",
   "id": "bc4f4a6c",
   "metadata": {
    "papermill": {
     "duration": 0.022962,
     "end_time": "2025-06-26T11:32:20.565516",
     "exception": false,
     "start_time": "2025-06-26T11:32:20.542554",
     "status": "completed"
    },
    "tags": []
   },
   "source": [
    "#### 96. Given a two dimensional array, how to extract unique rows (★★★)"
   ]
  },
  {
   "cell_type": "code",
   "execution_count": null,
   "id": "010da90a",
   "metadata": {
    "papermill": {
     "duration": 0.02269,
     "end_time": "2025-06-26T11:32:20.611069",
     "exception": false,
     "start_time": "2025-06-26T11:32:20.588379",
     "status": "completed"
    },
    "tags": []
   },
   "outputs": [],
   "source": []
  },
  {
   "cell_type": "markdown",
   "id": "40114805",
   "metadata": {
    "papermill": {
     "duration": 0.022542,
     "end_time": "2025-06-26T11:32:20.658157",
     "exception": false,
     "start_time": "2025-06-26T11:32:20.635615",
     "status": "completed"
    },
    "tags": []
   },
   "source": [
    "#### 97. Considering 2 vectors A & B, write the einsum equivalent of inner, outer, sum, and mul function (★★★)"
   ]
  },
  {
   "cell_type": "code",
   "execution_count": null,
   "id": "9d3b711f",
   "metadata": {
    "papermill": {
     "duration": 0.022738,
     "end_time": "2025-06-26T11:32:20.703472",
     "exception": false,
     "start_time": "2025-06-26T11:32:20.680734",
     "status": "completed"
    },
    "tags": []
   },
   "outputs": [],
   "source": []
  },
  {
   "cell_type": "markdown",
   "id": "54a23d4e",
   "metadata": {
    "papermill": {
     "duration": 0.022531,
     "end_time": "2025-06-26T11:32:20.749406",
     "exception": false,
     "start_time": "2025-06-26T11:32:20.726875",
     "status": "completed"
    },
    "tags": []
   },
   "source": [
    "#### 98. Considering a path described by two vectors (X,Y), how to sample it using equidistant samples (★★★)"
   ]
  },
  {
   "cell_type": "code",
   "execution_count": null,
   "id": "671e9c86",
   "metadata": {
    "papermill": {
     "duration": 0.022557,
     "end_time": "2025-06-26T11:32:20.794948",
     "exception": false,
     "start_time": "2025-06-26T11:32:20.772391",
     "status": "completed"
    },
    "tags": []
   },
   "outputs": [],
   "source": []
  },
  {
   "cell_type": "markdown",
   "id": "1a530aa9",
   "metadata": {
    "papermill": {
     "duration": 0.022387,
     "end_time": "2025-06-26T11:32:20.840407",
     "exception": false,
     "start_time": "2025-06-26T11:32:20.818020",
     "status": "completed"
    },
    "tags": []
   },
   "source": [
    "#### 99. Given an integer n and a 2D array X, select from X the rows which can be interpreted as draws from a multinomial distribution with n degrees, i.e., the rows which only contain integers and which sum to n. (★★★)"
   ]
  },
  {
   "cell_type": "code",
   "execution_count": null,
   "id": "a8f352c4",
   "metadata": {
    "papermill": {
     "duration": 0.022411,
     "end_time": "2025-06-26T11:32:20.885759",
     "exception": false,
     "start_time": "2025-06-26T11:32:20.863348",
     "status": "completed"
    },
    "tags": []
   },
   "outputs": [],
   "source": []
  },
  {
   "cell_type": "markdown",
   "id": "d1f744ba",
   "metadata": {
    "papermill": {
     "duration": 0.02253,
     "end_time": "2025-06-26T11:32:20.931231",
     "exception": false,
     "start_time": "2025-06-26T11:32:20.908701",
     "status": "completed"
    },
    "tags": []
   },
   "source": [
    "#### 100. Compute bootstrapped 95% confidence intervals for the mean of a 1D array X (i.e., resample the elements of an array with replacement N times, compute the mean of each sample, and then compute percentiles over the means). (★★★)"
   ]
  },
  {
   "cell_type": "code",
   "execution_count": null,
   "id": "5cbc5e8b",
   "metadata": {
    "papermill": {
     "duration": 0.022435,
     "end_time": "2025-06-26T11:32:20.977552",
     "exception": false,
     "start_time": "2025-06-26T11:32:20.955117",
     "status": "completed"
    },
    "tags": []
   },
   "outputs": [],
   "source": []
  }
 ],
 "metadata": {
  "kaggle": {
   "accelerator": "none",
   "dataSources": [],
   "dockerImageVersionId": 31040,
   "isGpuEnabled": false,
   "isInternetEnabled": false,
   "language": "python",
   "sourceType": "notebook"
  },
  "kernelspec": {
   "display_name": "Python 3",
   "language": "python",
   "name": "python3"
  },
  "language_info": {
   "codemirror_mode": {
    "name": "ipython",
    "version": 3
   },
   "file_extension": ".py",
   "mimetype": "text/x-python",
   "name": "python",
   "nbconvert_exporter": "python",
   "pygments_lexer": "ipython3",
   "version": "3.11.11"
  },
  "papermill": {
   "default_parameters": {},
   "duration": 14.626449,
   "end_time": "2025-06-26T11:32:21.419111",
   "environment_variables": {},
   "exception": null,
   "input_path": "__notebook__.ipynb",
   "output_path": "__notebook__.ipynb",
   "parameters": {},
   "start_time": "2025-06-26T11:32:06.792662",
   "version": "2.6.0"
  }
 },
 "nbformat": 4,
 "nbformat_minor": 5
}
