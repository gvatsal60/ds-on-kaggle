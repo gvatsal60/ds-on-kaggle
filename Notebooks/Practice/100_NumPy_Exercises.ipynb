{
 "cells": [
  {
   "cell_type": "markdown",
   "id": "693a89ea",
   "metadata": {
    "papermill": {
     "duration": 0.021923,
     "end_time": "2025-06-25T15:00:08.946655",
     "exception": false,
     "start_time": "2025-06-25T15:00:08.924732",
     "status": "completed"
    },
    "tags": []
   },
   "source": [
    "# 🎯 100 NumPy Exercises\n",
    "\n",
    "Welcome to **100 NumPy Exercises** — a curated collection of problems designed to sharpen your skills in NumPy, whether you're a beginner or a seasoned data wrangler.\n",
    "\n",
    "---\n",
    "\n",
    "📌 **About This Collection**\n",
    "\n",
    "This set of exercises has been gathered from:\n",
    "- The **NumPy mailing list**\n",
    "- **Stack Overflow** discussions\n",
    "- The **official NumPy documentation**\n",
    "\n",
    "The primary goal is to serve as:\n",
    "- 📚 A quick reference for both new and experienced users  \n",
    "- 🎓 A practical toolkit for educators and learners\n",
    "\n",
    "---\n",
    "\n",
    "💬 **Suggestions or Corrections?**\n",
    "\n",
    "If you find an error or have a better solution, feel free to contribute!  \n",
    "➡️ Open an issue here: [numpy-100 GitHub Issues](https://github.com/rougier/numpy-100/issues)\n",
    "\n",
    "---\n",
    "\n",
    "📄 **Credits and Licensing**\n",
    "\n",
    "Includes code and ideas derived from work by [Nicolas P. Rougier](https://github.com/rougier), \n",
    "used in accordance with the terms of the original [license](https://github.com/rougier/numpy-100/blob/master/LICENSE.txt).\n",
    "\n",
    "---\n",
    "\n",
    "🧠 **Ready to dive in?**  \n",
    "Let’s explore the power of NumPy — one exercise at a time!\n"
   ]
  },
  {
   "cell_type": "markdown",
   "id": "7f233bef",
   "metadata": {
    "papermill": {
     "duration": 0.018651,
     "end_time": "2025-06-25T15:00:08.984664",
     "exception": false,
     "start_time": "2025-06-25T15:00:08.966013",
     "status": "completed"
    },
    "tags": []
   },
   "source": [
    "#### 1. Import the numpy package under the name `np` (★☆☆)"
   ]
  },
  {
   "cell_type": "code",
   "execution_count": 1,
   "id": "864f68b9",
   "metadata": {
    "execution": {
     "iopub.execute_input": "2025-06-25T15:00:09.023766Z",
     "iopub.status.busy": "2025-06-25T15:00:09.023472Z",
     "iopub.status.idle": "2025-06-25T15:00:09.030430Z",
     "shell.execute_reply": "2025-06-25T15:00:09.029621Z"
    },
    "papermill": {
     "duration": 0.02813,
     "end_time": "2025-06-25T15:00:09.031762",
     "exception": false,
     "start_time": "2025-06-25T15:00:09.003632",
     "status": "completed"
    },
    "tags": []
   },
   "outputs": [],
   "source": [
    "import numpy as np"
   ]
  },
  {
   "cell_type": "markdown",
   "id": "5728998a",
   "metadata": {
    "papermill": {
     "duration": 0.020519,
     "end_time": "2025-06-25T15:00:09.071730",
     "exception": false,
     "start_time": "2025-06-25T15:00:09.051211",
     "status": "completed"
    },
    "tags": []
   },
   "source": [
    "#### 2. Print the numpy version and the configuration (★☆☆)"
   ]
  },
  {
   "cell_type": "code",
   "execution_count": 2,
   "id": "7acf89d5",
   "metadata": {
    "execution": {
     "iopub.execute_input": "2025-06-25T15:00:09.173340Z",
     "iopub.status.busy": "2025-06-25T15:00:09.172975Z",
     "iopub.status.idle": "2025-06-25T15:00:09.178013Z",
     "shell.execute_reply": "2025-06-25T15:00:09.177140Z"
    },
    "papermill": {
     "duration": 0.026915,
     "end_time": "2025-06-25T15:00:09.179485",
     "exception": false,
     "start_time": "2025-06-25T15:00:09.152570",
     "status": "completed"
    },
    "tags": []
   },
   "outputs": [
    {
     "name": "stdout",
     "output_type": "stream",
     "text": [
      "★ NumPy Version: 1.26.4\n",
      "☆ NumPy Configuration:\n",
      "blas_armpl_info:\n",
      "  NOT AVAILABLE\n",
      "blas_mkl_info:\n",
      "    libraries = ['mkl_rt', 'pthread']\n",
      "    library_dirs = ['/home/sat_bot/base/conda-bld/numpy_and_dev_1715296241721/_h_env_placehold_placehold_placehold_placehold_placehold_placehold_placehold_placehold_placehold_placehold_placehold_placehold_placehold_placehold_placehold_placehold_placehold_placehold_placehold_p/lib']\n",
      "    define_macros = [('SCIPY_MKL_H', None), ('HAVE_CBLAS', None)]\n",
      "    include_dirs = ['/home/sat_bot/base/conda-bld/numpy_and_dev_1715296241721/_h_env_placehold_placehold_placehold_placehold_placehold_placehold_placehold_placehold_placehold_placehold_placehold_placehold_placehold_placehold_placehold_placehold_placehold_placehold_placehold_p/include']\n",
      "blas_opt_info:\n",
      "    libraries = ['mkl_rt', 'pthread']\n",
      "    library_dirs = ['/home/sat_bot/base/conda-bld/numpy_and_dev_1715296241721/_h_env_placehold_placehold_placehold_placehold_placehold_placehold_placehold_placehold_placehold_placehold_placehold_placehold_placehold_placehold_placehold_placehold_placehold_placehold_placehold_p/lib']\n",
      "    define_macros = [('SCIPY_MKL_H', None), ('HAVE_CBLAS', None)]\n",
      "    include_dirs = ['/home/sat_bot/base/conda-bld/numpy_and_dev_1715296241721/_h_env_placehold_placehold_placehold_placehold_placehold_placehold_placehold_placehold_placehold_placehold_placehold_placehold_placehold_placehold_placehold_placehold_placehold_placehold_placehold_p/include']\n",
      "lapack_armpl_info:\n",
      "  NOT AVAILABLE\n",
      "lapack_mkl_info:\n",
      "    libraries = ['mkl_rt', 'pthread']\n",
      "    library_dirs = ['/home/sat_bot/base/conda-bld/numpy_and_dev_1715296241721/_h_env_placehold_placehold_placehold_placehold_placehold_placehold_placehold_placehold_placehold_placehold_placehold_placehold_placehold_placehold_placehold_placehold_placehold_placehold_placehold_p/lib']\n",
      "    define_macros = [('SCIPY_MKL_H', None), ('HAVE_CBLAS', None)]\n",
      "    include_dirs = ['/home/sat_bot/base/conda-bld/numpy_and_dev_1715296241721/_h_env_placehold_placehold_placehold_placehold_placehold_placehold_placehold_placehold_placehold_placehold_placehold_placehold_placehold_placehold_placehold_placehold_placehold_placehold_placehold_p/include']\n",
      "lapack_opt_info:\n",
      "    libraries = ['mkl_rt', 'pthread']\n",
      "    library_dirs = ['/home/sat_bot/base/conda-bld/numpy_and_dev_1715296241721/_h_env_placehold_placehold_placehold_placehold_placehold_placehold_placehold_placehold_placehold_placehold_placehold_placehold_placehold_placehold_placehold_placehold_placehold_placehold_placehold_p/lib']\n",
      "    define_macros = [('SCIPY_MKL_H', None), ('HAVE_CBLAS', None)]\n",
      "    include_dirs = ['/home/sat_bot/base/conda-bld/numpy_and_dev_1715296241721/_h_env_placehold_placehold_placehold_placehold_placehold_placehold_placehold_placehold_placehold_placehold_placehold_placehold_placehold_placehold_placehold_placehold_placehold_placehold_placehold_p/include']\n",
      "Supported SIMD extensions in this NumPy install:\n",
      "    baseline = SSE,SSE2,SSE3\n",
      "    found = SSSE3,SSE41,POPCNT,SSE42,AVX,F16C,FMA3,AVX2\n",
      "    not found = AVX512F,AVX512CD,AVX512_KNL,AVX512_KNM,AVX512_SKX,AVX512_CLX,AVX512_CNL,AVX512_ICL,AVX512_SPR\n"
     ]
    }
   ],
   "source": [
    "print(\"★ NumPy Version:\", np.__version__)\n",
    "print(\"☆ NumPy Configuration:\")\n",
    "np.show_config()"
   ]
  },
  {
   "cell_type": "markdown",
   "id": "95d3aef9",
   "metadata": {
    "papermill": {
     "duration": 0.019464,
     "end_time": "2025-06-25T15:00:09.218414",
     "exception": false,
     "start_time": "2025-06-25T15:00:09.198950",
     "status": "completed"
    },
    "tags": []
   },
   "source": [
    "#### 3. Create a null vector of size 10 (★☆☆)"
   ]
  },
  {
   "cell_type": "code",
   "execution_count": 3,
   "id": "1ed0a564",
   "metadata": {
    "execution": {
     "iopub.execute_input": "2025-06-25T15:00:09.258087Z",
     "iopub.status.busy": "2025-06-25T15:00:09.257792Z",
     "iopub.status.idle": "2025-06-25T15:00:09.263947Z",
     "shell.execute_reply": "2025-06-25T15:00:09.263246Z"
    },
    "papermill": {
     "duration": 0.027525,
     "end_time": "2025-06-25T15:00:09.265206",
     "exception": false,
     "start_time": "2025-06-25T15:00:09.237681",
     "status": "completed"
    },
    "tags": []
   },
   "outputs": [
    {
     "data": {
      "text/plain": [
       "array([5.36578979e-315, 0.00000000e+000, 5.57306049e-321, 5.37543763e-315,\n",
       "       8.10267659e-322, 5.37543802e-315, 5.47918801e-321, 5.37543763e-315,\n",
       "       4.45619117e-313, 5.37543818e-315])"
      ]
     },
     "execution_count": 3,
     "metadata": {},
     "output_type": "execute_result"
    }
   ],
   "source": [
    "nullVec = np.empty(10)\n",
    "\n",
    "nullVec"
   ]
  },
  {
   "cell_type": "markdown",
   "id": "aa8f0edb",
   "metadata": {
    "papermill": {
     "duration": 0.019341,
     "end_time": "2025-06-25T15:00:09.304044",
     "exception": false,
     "start_time": "2025-06-25T15:00:09.284703",
     "status": "completed"
    },
    "tags": []
   },
   "source": [
    "#### 4. How to find the memory size of any array (★☆☆)"
   ]
  },
  {
   "cell_type": "code",
   "execution_count": 4,
   "id": "df2e3407",
   "metadata": {
    "execution": {
     "iopub.execute_input": "2025-06-25T15:00:09.344778Z",
     "iopub.status.busy": "2025-06-25T15:00:09.343712Z",
     "iopub.status.idle": "2025-06-25T15:00:09.348920Z",
     "shell.execute_reply": "2025-06-25T15:00:09.348100Z"
    },
    "papermill": {
     "duration": 0.02658,
     "end_time": "2025-06-25T15:00:09.350074",
     "exception": false,
     "start_time": "2025-06-25T15:00:09.323494",
     "status": "completed"
    },
    "tags": []
   },
   "outputs": [
    {
     "name": "stdout",
     "output_type": "stream",
     "text": [
      "Null Vector Size: 10\n",
      "Null Vector ItemSize: 8\n"
     ]
    }
   ],
   "source": [
    "print(\"Null Vector Size:\", nullVec.size)\n",
    "print(\"Null Vector ItemSize:\", nullVec.itemsize)"
   ]
  },
  {
   "cell_type": "markdown",
   "id": "77ddeac1",
   "metadata": {
    "papermill": {
     "duration": 0.01927,
     "end_time": "2025-06-25T15:00:09.389102",
     "exception": false,
     "start_time": "2025-06-25T15:00:09.369832",
     "status": "completed"
    },
    "tags": []
   },
   "source": [
    "#### 5. How to get the documentation of the numpy add function from the command line? (★☆☆)"
   ]
  },
  {
   "cell_type": "code",
   "execution_count": 5,
   "id": "c95f15bf",
   "metadata": {
    "execution": {
     "iopub.execute_input": "2025-06-25T15:00:09.429523Z",
     "iopub.status.busy": "2025-06-25T15:00:09.429195Z",
     "iopub.status.idle": "2025-06-25T15:00:09.433748Z",
     "shell.execute_reply": "2025-06-25T15:00:09.432760Z"
    },
    "papermill": {
     "duration": 0.026562,
     "end_time": "2025-06-25T15:00:09.435112",
     "exception": false,
     "start_time": "2025-06-25T15:00:09.408550",
     "status": "completed"
    },
    "tags": []
   },
   "outputs": [
    {
     "name": "stdout",
     "output_type": "stream",
     "text": [
      "add(x1, x2, /, out=None, *, where=True, casting='same_kind', order='K', dtype=None, subok=True[, signature, extobj])\n",
      "\n",
      "Add arguments element-wise.\n",
      "\n",
      "Parameters\n",
      "----------\n",
      "x1, x2 : array_like\n",
      "    The arrays to be added.\n",
      "    If ``x1.shape != x2.shape``, they must be broadcastable to a common\n",
      "    shape (which becomes the shape of the output).\n",
      "out : ndarray, None, or tuple of ndarray and None, optional\n",
      "    A location into which the result is stored. If provided, it must have\n",
      "    a shape that the inputs broadcast to. If not provided or None,\n",
      "    a freshly-allocated array is returned. A tuple (possible only as a\n",
      "    keyword argument) must have length equal to the number of outputs.\n",
      "where : array_like, optional\n",
      "    This condition is broadcast over the input. At locations where the\n",
      "    condition is True, the `out` array will be set to the ufunc result.\n",
      "    Elsewhere, the `out` array will retain its original value.\n",
      "    Note that if an uninitialized `out` array is created via the default\n",
      "    ``out=None``, locations within it where the condition is False will\n",
      "    remain uninitialized.\n",
      "**kwargs\n",
      "    For other keyword-only arguments, see the\n",
      "    :ref:`ufunc docs <ufuncs.kwargs>`.\n",
      "\n",
      "Returns\n",
      "-------\n",
      "add : ndarray or scalar\n",
      "    The sum of `x1` and `x2`, element-wise.\n",
      "    This is a scalar if both `x1` and `x2` are scalars.\n",
      "\n",
      "Notes\n",
      "-----\n",
      "Equivalent to `x1` + `x2` in terms of array broadcasting.\n",
      "\n",
      "Examples\n",
      "--------\n",
      ">>> np.add(1.0, 4.0)\n",
      "5.0\n",
      ">>> x1 = np.arange(9.0).reshape((3, 3))\n",
      ">>> x2 = np.arange(3.0)\n",
      ">>> np.add(x1, x2)\n",
      "array([[  0.,   2.,   4.],\n",
      "       [  3.,   5.,   7.],\n",
      "       [  6.,   8.,  10.]])\n",
      "\n",
      "The ``+`` operator can be used as a shorthand for ``np.add`` on ndarrays.\n",
      "\n",
      ">>> x1 = np.arange(9.0).reshape((3, 3))\n",
      ">>> x2 = np.arange(3.0)\n",
      ">>> x1 + x2\n",
      "array([[ 0.,  2.,  4.],\n",
      "       [ 3.,  5.,  7.],\n",
      "       [ 6.,  8., 10.]])\n"
     ]
    }
   ],
   "source": [
    "# np.add?\n",
    "# print(np.info('add'))\n",
    "print(np.add.__doc__)"
   ]
  },
  {
   "cell_type": "markdown",
   "id": "b20eaf64",
   "metadata": {
    "papermill": {
     "duration": 0.019512,
     "end_time": "2025-06-25T15:00:09.474348",
     "exception": false,
     "start_time": "2025-06-25T15:00:09.454836",
     "status": "completed"
    },
    "tags": []
   },
   "source": [
    "#### 6. Create a null vector of size 10 but the fifth value which is 1 (★☆☆)"
   ]
  },
  {
   "cell_type": "code",
   "execution_count": 6,
   "id": "01bab64e",
   "metadata": {
    "execution": {
     "iopub.execute_input": "2025-06-25T15:00:09.514788Z",
     "iopub.status.busy": "2025-06-25T15:00:09.514218Z",
     "iopub.status.idle": "2025-06-25T15:00:09.519797Z",
     "shell.execute_reply": "2025-06-25T15:00:09.519139Z"
    },
    "papermill": {
     "duration": 0.027179,
     "end_time": "2025-06-25T15:00:09.520993",
     "exception": false,
     "start_time": "2025-06-25T15:00:09.493814",
     "status": "completed"
    },
    "tags": []
   },
   "outputs": [
    {
     "data": {
      "text/plain": [
       "array([5.36578979e-315, 0.00000000e+000, 5.57306049e-321, 5.37543763e-315,\n",
       "       1.00000000e+000, 5.37543802e-315, 5.47918801e-321, 5.37543763e-315,\n",
       "       4.45619117e-313, 5.37543818e-315])"
      ]
     },
     "execution_count": 6,
     "metadata": {},
     "output_type": "execute_result"
    }
   ],
   "source": [
    "nullVec = np.empty(10)\n",
    "nullVec[4] = 1\n",
    "\n",
    "nullVec"
   ]
  },
  {
   "cell_type": "markdown",
   "id": "717bfb87",
   "metadata": {
    "papermill": {
     "duration": 0.019723,
     "end_time": "2025-06-25T15:00:09.560913",
     "exception": false,
     "start_time": "2025-06-25T15:00:09.541190",
     "status": "completed"
    },
    "tags": []
   },
   "source": [
    "#### 7. Create a vector with values ranging from 10 to 49 (★☆☆)"
   ]
  },
  {
   "cell_type": "code",
   "execution_count": 7,
   "id": "7cc4c5fe",
   "metadata": {
    "execution": {
     "iopub.execute_input": "2025-06-25T15:00:09.602298Z",
     "iopub.status.busy": "2025-06-25T15:00:09.601514Z",
     "iopub.status.idle": "2025-06-25T15:00:09.608462Z",
     "shell.execute_reply": "2025-06-25T15:00:09.607717Z"
    },
    "papermill": {
     "duration": 0.028902,
     "end_time": "2025-06-25T15:00:09.609873",
     "exception": false,
     "start_time": "2025-06-25T15:00:09.580971",
     "status": "completed"
    },
    "tags": []
   },
   "outputs": [
    {
     "data": {
      "text/plain": [
       "array([10, 11, 12, 13, 14, 15, 16, 17, 18, 19, 20, 21, 22, 23, 24, 25, 26,\n",
       "       27, 28, 29, 30, 31, 32, 33, 34, 35, 36, 37, 38, 39, 40, 41, 42, 43,\n",
       "       44, 45, 46, 47, 48, 49])"
      ]
     },
     "execution_count": 7,
     "metadata": {},
     "output_type": "execute_result"
    }
   ],
   "source": [
    "rangeVec = np.arange(10, 50)\n",
    "\n",
    "rangeVec"
   ]
  },
  {
   "cell_type": "markdown",
   "id": "2aa8f760",
   "metadata": {
    "papermill": {
     "duration": 0.019887,
     "end_time": "2025-06-25T15:00:09.649623",
     "exception": false,
     "start_time": "2025-06-25T15:00:09.629736",
     "status": "completed"
    },
    "tags": []
   },
   "source": [
    "#### 8. Reverse a vector (first element becomes last) (★☆☆)"
   ]
  },
  {
   "cell_type": "code",
   "execution_count": 8,
   "id": "830d79d0",
   "metadata": {
    "execution": {
     "iopub.execute_input": "2025-06-25T15:00:09.690740Z",
     "iopub.status.busy": "2025-06-25T15:00:09.690161Z",
     "iopub.status.idle": "2025-06-25T15:00:09.695567Z",
     "shell.execute_reply": "2025-06-25T15:00:09.694868Z"
    },
    "papermill": {
     "duration": 0.02735,
     "end_time": "2025-06-25T15:00:09.696900",
     "exception": false,
     "start_time": "2025-06-25T15:00:09.669550",
     "status": "completed"
    },
    "tags": []
   },
   "outputs": [
    {
     "data": {
      "text/plain": [
       "array([49, 48, 47, 46, 45, 44, 43, 42, 41, 40, 39, 38, 37, 36, 35, 34, 33,\n",
       "       32, 31, 30, 29, 28, 27, 26, 25, 24, 23, 22, 21, 20, 19, 18, 17, 16,\n",
       "       15, 14, 13, 12, 11, 10])"
      ]
     },
     "execution_count": 8,
     "metadata": {},
     "output_type": "execute_result"
    }
   ],
   "source": [
    "rangeVec[::-1]"
   ]
  },
  {
   "cell_type": "markdown",
   "id": "028add24",
   "metadata": {
    "papermill": {
     "duration": 0.01962,
     "end_time": "2025-06-25T15:00:09.736513",
     "exception": false,
     "start_time": "2025-06-25T15:00:09.716893",
     "status": "completed"
    },
    "tags": []
   },
   "source": [
    "#### 9. Create a 3x3 matrix with values ranging from 0 to 8 (★☆☆)"
   ]
  },
  {
   "cell_type": "code",
   "execution_count": 9,
   "id": "f2c0b13e",
   "metadata": {
    "execution": {
     "iopub.execute_input": "2025-06-25T15:00:09.777695Z",
     "iopub.status.busy": "2025-06-25T15:00:09.777017Z",
     "iopub.status.idle": "2025-06-25T15:00:09.782577Z",
     "shell.execute_reply": "2025-06-25T15:00:09.781851Z"
    },
    "papermill": {
     "duration": 0.027672,
     "end_time": "2025-06-25T15:00:09.783999",
     "exception": false,
     "start_time": "2025-06-25T15:00:09.756327",
     "status": "completed"
    },
    "tags": []
   },
   "outputs": [
    {
     "data": {
      "text/plain": [
       "array([[0, 1, 2],\n",
       "       [3, 4, 5],\n",
       "       [6, 7, 8]])"
      ]
     },
     "execution_count": 9,
     "metadata": {},
     "output_type": "execute_result"
    }
   ],
   "source": [
    "matrix3x3 = np.arange(9).reshape((3, 3))\n",
    "\n",
    "matrix3x3"
   ]
  },
  {
   "cell_type": "markdown",
   "id": "3b3ec4d4",
   "metadata": {
    "papermill": {
     "duration": 0.02004,
     "end_time": "2025-06-25T15:00:09.824451",
     "exception": false,
     "start_time": "2025-06-25T15:00:09.804411",
     "status": "completed"
    },
    "tags": []
   },
   "source": [
    "#### 10. Find indices of non-zero elements from [1,2,0,0,4,0] (★☆☆)"
   ]
  },
  {
   "cell_type": "code",
   "execution_count": 10,
   "id": "cec4a460",
   "metadata": {
    "execution": {
     "iopub.execute_input": "2025-06-25T15:00:09.865654Z",
     "iopub.status.busy": "2025-06-25T15:00:09.865346Z",
     "iopub.status.idle": "2025-06-25T15:00:09.871027Z",
     "shell.execute_reply": "2025-06-25T15:00:09.870365Z"
    },
    "papermill": {
     "duration": 0.027851,
     "end_time": "2025-06-25T15:00:09.872313",
     "exception": false,
     "start_time": "2025-06-25T15:00:09.844462",
     "status": "completed"
    },
    "tags": []
   },
   "outputs": [
    {
     "data": {
      "text/plain": [
       "(array([0, 1, 4]),)"
      ]
     },
     "execution_count": 10,
     "metadata": {},
     "output_type": "execute_result"
    }
   ],
   "source": [
    "rawData = [1, 2, 0, 0, 4, 0]\n",
    "\n",
    "npArr = np.array(rawData)\n",
    "\n",
    "npArr.nonzero()"
   ]
  },
  {
   "cell_type": "markdown",
   "id": "abe7aa5c",
   "metadata": {
    "papermill": {
     "duration": 0.019898,
     "end_time": "2025-06-25T15:00:09.912813",
     "exception": false,
     "start_time": "2025-06-25T15:00:09.892915",
     "status": "completed"
    },
    "tags": []
   },
   "source": [
    "#### 11. Create a 3x3 identity matrix (★☆☆)"
   ]
  },
  {
   "cell_type": "code",
   "execution_count": 11,
   "id": "fadbbe6d",
   "metadata": {
    "execution": {
     "iopub.execute_input": "2025-06-25T15:00:09.954325Z",
     "iopub.status.busy": "2025-06-25T15:00:09.953773Z",
     "iopub.status.idle": "2025-06-25T15:00:09.959670Z",
     "shell.execute_reply": "2025-06-25T15:00:09.958726Z"
    },
    "papermill": {
     "duration": 0.028058,
     "end_time": "2025-06-25T15:00:09.960893",
     "exception": false,
     "start_time": "2025-06-25T15:00:09.932835",
     "status": "completed"
    },
    "tags": []
   },
   "outputs": [
    {
     "data": {
      "text/plain": [
       "array([[1., 0., 0.],\n",
       "       [0., 1., 0.],\n",
       "       [0., 0., 1.]])"
      ]
     },
     "execution_count": 11,
     "metadata": {},
     "output_type": "execute_result"
    }
   ],
   "source": [
    "idnMatrix = np.eye(3, 3)\n",
    "\n",
    "idnMatrix"
   ]
  },
  {
   "cell_type": "markdown",
   "id": "b64eaa4f",
   "metadata": {
    "papermill": {
     "duration": 0.020052,
     "end_time": "2025-06-25T15:00:10.001365",
     "exception": false,
     "start_time": "2025-06-25T15:00:09.981313",
     "status": "completed"
    },
    "tags": []
   },
   "source": [
    "#### 12. Create a 3x3x3 array with random values (★☆☆)"
   ]
  },
  {
   "cell_type": "code",
   "execution_count": 12,
   "id": "2d4b7844",
   "metadata": {
    "execution": {
     "iopub.execute_input": "2025-06-25T15:00:10.043111Z",
     "iopub.status.busy": "2025-06-25T15:00:10.042561Z",
     "iopub.status.idle": "2025-06-25T15:00:10.048184Z",
     "shell.execute_reply": "2025-06-25T15:00:10.047428Z"
    },
    "papermill": {
     "duration": 0.027928,
     "end_time": "2025-06-25T15:00:10.049511",
     "exception": false,
     "start_time": "2025-06-25T15:00:10.021583",
     "status": "completed"
    },
    "tags": []
   },
   "outputs": [
    {
     "data": {
      "text/plain": [
       "array([[[0.30238532, 0.75980558, 0.3542159 ],\n",
       "        [0.54861901, 0.80288129, 0.54482503],\n",
       "        [0.06788392, 0.34305423, 0.70476699]],\n",
       "\n",
       "       [[0.41012584, 0.91407814, 0.46248655],\n",
       "        [0.39195078, 0.86499282, 0.00877056],\n",
       "        [0.65207824, 0.94346526, 0.3648836 ]],\n",
       "\n",
       "       [[0.62118262, 0.80091866, 0.97936422],\n",
       "        [0.11540889, 0.14490464, 0.27619226],\n",
       "        [0.2602876 , 0.74011107, 0.44307763]]])"
      ]
     },
     "execution_count": 12,
     "metadata": {},
     "output_type": "execute_result"
    }
   ],
   "source": [
    "rndmArr = np.random.rand(3, 3, 3)\n",
    "\n",
    "rndmArr"
   ]
  },
  {
   "cell_type": "markdown",
   "id": "4e52ef3c",
   "metadata": {
    "papermill": {
     "duration": 0.020248,
     "end_time": "2025-06-25T15:00:10.091364",
     "exception": false,
     "start_time": "2025-06-25T15:00:10.071116",
     "status": "completed"
    },
    "tags": []
   },
   "source": [
    "#### 13. Create a 10x10 array with random values and find the minimum and maximum values (★☆☆)"
   ]
  },
  {
   "cell_type": "code",
   "execution_count": 13,
   "id": "b879d4a5",
   "metadata": {
    "execution": {
     "iopub.execute_input": "2025-06-25T15:00:10.134037Z",
     "iopub.status.busy": "2025-06-25T15:00:10.133523Z",
     "iopub.status.idle": "2025-06-25T15:00:10.138461Z",
     "shell.execute_reply": "2025-06-25T15:00:10.137627Z"
    },
    "papermill": {
     "duration": 0.027979,
     "end_time": "2025-06-25T15:00:10.139795",
     "exception": false,
     "start_time": "2025-06-25T15:00:10.111816",
     "status": "completed"
    },
    "tags": []
   },
   "outputs": [
    {
     "name": "stdout",
     "output_type": "stream",
     "text": [
      "Min Val: 0.00942141596811552\n",
      "Max Val: 0.9899822494296452\n"
     ]
    }
   ],
   "source": [
    "rndmArr = np.random.rand(10, 10)\n",
    "\n",
    "rndmArr\n",
    "\n",
    "print(\"Min Val:\", rndmArr.min())\n",
    "print(\"Max Val:\", rndmArr.max())"
   ]
  },
  {
   "cell_type": "markdown",
   "id": "f92a32e3",
   "metadata": {
    "papermill": {
     "duration": 0.020499,
     "end_time": "2025-06-25T15:00:10.180801",
     "exception": false,
     "start_time": "2025-06-25T15:00:10.160302",
     "status": "completed"
    },
    "tags": []
   },
   "source": [
    "#### 14. Create a random vector of size 30 and find the mean value (★☆☆)"
   ]
  },
  {
   "cell_type": "code",
   "execution_count": 14,
   "id": "b51c9acd",
   "metadata": {
    "execution": {
     "iopub.execute_input": "2025-06-25T15:00:10.222969Z",
     "iopub.status.busy": "2025-06-25T15:00:10.222378Z",
     "iopub.status.idle": "2025-06-25T15:00:10.228091Z",
     "shell.execute_reply": "2025-06-25T15:00:10.227433Z"
    },
    "papermill": {
     "duration": 0.02837,
     "end_time": "2025-06-25T15:00:10.229431",
     "exception": false,
     "start_time": "2025-06-25T15:00:10.201061",
     "status": "completed"
    },
    "tags": []
   },
   "outputs": [
    {
     "data": {
      "text/plain": [
       "0.5338401130197468"
      ]
     },
     "execution_count": 14,
     "metadata": {},
     "output_type": "execute_result"
    }
   ],
   "source": [
    "rndmArr = np.random.rand(30)\n",
    "\n",
    "rndmArr.mean()"
   ]
  },
  {
   "cell_type": "markdown",
   "id": "e8d03238",
   "metadata": {
    "papermill": {
     "duration": 0.020492,
     "end_time": "2025-06-25T15:00:10.270910",
     "exception": false,
     "start_time": "2025-06-25T15:00:10.250418",
     "status": "completed"
    },
    "tags": []
   },
   "source": [
    "#### 15. Create a 2d array with 1 on the border and 0 inside (★☆☆)"
   ]
  },
  {
   "cell_type": "code",
   "execution_count": null,
   "id": "755b1086",
   "metadata": {
    "papermill": {
     "duration": 0.020414,
     "end_time": "2025-06-25T15:00:10.311799",
     "exception": false,
     "start_time": "2025-06-25T15:00:10.291385",
     "status": "completed"
    },
    "tags": []
   },
   "outputs": [],
   "source": []
  },
  {
   "cell_type": "markdown",
   "id": "fd3ef715",
   "metadata": {
    "papermill": {
     "duration": 0.02075,
     "end_time": "2025-06-25T15:00:10.353374",
     "exception": false,
     "start_time": "2025-06-25T15:00:10.332624",
     "status": "completed"
    },
    "tags": []
   },
   "source": [
    "#### 16. How to add a border (filled with 0's) around an existing array? (★☆☆)"
   ]
  },
  {
   "cell_type": "code",
   "execution_count": null,
   "id": "d80659f6",
   "metadata": {
    "papermill": {
     "duration": 0.020406,
     "end_time": "2025-06-25T15:00:10.394827",
     "exception": false,
     "start_time": "2025-06-25T15:00:10.374421",
     "status": "completed"
    },
    "tags": []
   },
   "outputs": [],
   "source": []
  },
  {
   "cell_type": "markdown",
   "id": "750e6517",
   "metadata": {
    "papermill": {
     "duration": 0.021138,
     "end_time": "2025-06-25T15:00:10.436608",
     "exception": false,
     "start_time": "2025-06-25T15:00:10.415470",
     "status": "completed"
    },
    "tags": []
   },
   "source": [
    "#### 17. What is the result of the following expression? (★☆☆)\n",
    "```python\n",
    "0 * np.nan\n",
    "np.nan == np.nan\n",
    "np.inf > np.nan\n",
    "np.nan - np.nan\n",
    "np.nan in set([np.nan])\n",
    "0.3 == 3 * 0.1\n",
    "```"
   ]
  },
  {
   "cell_type": "code",
   "execution_count": 15,
   "id": "02d3865f",
   "metadata": {
    "execution": {
     "iopub.execute_input": "2025-06-25T15:00:10.479769Z",
     "iopub.status.busy": "2025-06-25T15:00:10.479483Z",
     "iopub.status.idle": "2025-06-25T15:00:10.485326Z",
     "shell.execute_reply": "2025-06-25T15:00:10.484290Z"
    },
    "papermill": {
     "duration": 0.028854,
     "end_time": "2025-06-25T15:00:10.486632",
     "exception": false,
     "start_time": "2025-06-25T15:00:10.457778",
     "status": "completed"
    },
    "tags": []
   },
   "outputs": [
    {
     "name": "stdout",
     "output_type": "stream",
     "text": [
      "nan\n",
      "False\n",
      "False\n",
      "nan\n",
      "True\n",
      "False\n",
      "True\n"
     ]
    }
   ],
   "source": [
    "print(0 * np.nan) # nan\n",
    "print(np.nan == np.nan) # False\n",
    "print(np.inf > np.nan) # False\n",
    "print(np.nan - np.nan) # nan\n",
    "print(np.nan in set([np.nan])) # True\n",
    "print(0.3 == 3 * 0.1) # False\n",
    "print(0.3 == round(3 * 0.1, 1)) # True"
   ]
  },
  {
   "cell_type": "markdown",
   "id": "0576127c",
   "metadata": {
    "papermill": {
     "duration": 0.020586,
     "end_time": "2025-06-25T15:00:10.528174",
     "exception": false,
     "start_time": "2025-06-25T15:00:10.507588",
     "status": "completed"
    },
    "tags": []
   },
   "source": [
    "#### 18. Create a 5x5 matrix with values 1,2,3,4 just below the diagonal (★☆☆)"
   ]
  },
  {
   "cell_type": "code",
   "execution_count": null,
   "id": "a8b6182e",
   "metadata": {
    "papermill": {
     "duration": 0.020744,
     "end_time": "2025-06-25T15:00:10.570112",
     "exception": false,
     "start_time": "2025-06-25T15:00:10.549368",
     "status": "completed"
    },
    "tags": []
   },
   "outputs": [],
   "source": []
  },
  {
   "cell_type": "markdown",
   "id": "2970a86a",
   "metadata": {
    "papermill": {
     "duration": 0.020548,
     "end_time": "2025-06-25T15:00:10.611436",
     "exception": false,
     "start_time": "2025-06-25T15:00:10.590888",
     "status": "completed"
    },
    "tags": []
   },
   "source": [
    "#### 19. Create a 8x8 matrix and fill it with a checkerboard pattern (★☆☆)"
   ]
  },
  {
   "cell_type": "code",
   "execution_count": null,
   "id": "967dc845",
   "metadata": {
    "papermill": {
     "duration": 0.020288,
     "end_time": "2025-06-25T15:00:10.653142",
     "exception": false,
     "start_time": "2025-06-25T15:00:10.632854",
     "status": "completed"
    },
    "tags": []
   },
   "outputs": [],
   "source": []
  },
  {
   "cell_type": "markdown",
   "id": "b7b977d1",
   "metadata": {
    "papermill": {
     "duration": 0.020296,
     "end_time": "2025-06-25T15:00:10.694070",
     "exception": false,
     "start_time": "2025-06-25T15:00:10.673774",
     "status": "completed"
    },
    "tags": []
   },
   "source": [
    "#### 20. Consider a (6,7,8) shape array, what is the index (x,y,z) of the 100th element? (★☆☆)"
   ]
  },
  {
   "cell_type": "code",
   "execution_count": null,
   "id": "fd5c6bf4",
   "metadata": {
    "papermill": {
     "duration": 0.020478,
     "end_time": "2025-06-25T15:00:10.735177",
     "exception": false,
     "start_time": "2025-06-25T15:00:10.714699",
     "status": "completed"
    },
    "tags": []
   },
   "outputs": [],
   "source": []
  },
  {
   "cell_type": "markdown",
   "id": "7d9667e4",
   "metadata": {
    "papermill": {
     "duration": 0.020479,
     "end_time": "2025-06-25T15:00:10.776312",
     "exception": false,
     "start_time": "2025-06-25T15:00:10.755833",
     "status": "completed"
    },
    "tags": []
   },
   "source": [
    "#### 21. Create a checkerboard 8x8 matrix using the tile function (★☆☆)"
   ]
  },
  {
   "cell_type": "code",
   "execution_count": null,
   "id": "dd5235f6",
   "metadata": {
    "papermill": {
     "duration": 0.02067,
     "end_time": "2025-06-25T15:00:10.817650",
     "exception": false,
     "start_time": "2025-06-25T15:00:10.796980",
     "status": "completed"
    },
    "tags": []
   },
   "outputs": [],
   "source": []
  },
  {
   "cell_type": "markdown",
   "id": "f8fc92aa",
   "metadata": {
    "papermill": {
     "duration": 0.020503,
     "end_time": "2025-06-25T15:00:10.859043",
     "exception": false,
     "start_time": "2025-06-25T15:00:10.838540",
     "status": "completed"
    },
    "tags": []
   },
   "source": [
    "#### 22. Normalize a 5x5 random matrix (★☆☆)"
   ]
  },
  {
   "cell_type": "code",
   "execution_count": null,
   "id": "46ad7678",
   "metadata": {
    "papermill": {
     "duration": 0.020367,
     "end_time": "2025-06-25T15:00:10.900119",
     "exception": false,
     "start_time": "2025-06-25T15:00:10.879752",
     "status": "completed"
    },
    "tags": []
   },
   "outputs": [],
   "source": []
  },
  {
   "cell_type": "markdown",
   "id": "fbec1530",
   "metadata": {
    "papermill": {
     "duration": 0.020425,
     "end_time": "2025-06-25T15:00:10.941068",
     "exception": false,
     "start_time": "2025-06-25T15:00:10.920643",
     "status": "completed"
    },
    "tags": []
   },
   "source": [
    "#### 23. Create a custom dtype that describes a color as four unsigned bytes (RGBA) (★☆☆)"
   ]
  },
  {
   "cell_type": "code",
   "execution_count": null,
   "id": "f51c6f89",
   "metadata": {
    "papermill": {
     "duration": 0.020509,
     "end_time": "2025-06-25T15:00:10.982170",
     "exception": false,
     "start_time": "2025-06-25T15:00:10.961661",
     "status": "completed"
    },
    "tags": []
   },
   "outputs": [],
   "source": []
  },
  {
   "cell_type": "markdown",
   "id": "fa7bcd73",
   "metadata": {
    "papermill": {
     "duration": 0.021015,
     "end_time": "2025-06-25T15:00:11.023813",
     "exception": false,
     "start_time": "2025-06-25T15:00:11.002798",
     "status": "completed"
    },
    "tags": []
   },
   "source": [
    "#### 24. Multiply a 5x3 matrix by a 3x2 matrix (real matrix product) (★☆☆)"
   ]
  },
  {
   "cell_type": "code",
   "execution_count": 16,
   "id": "267140ae",
   "metadata": {
    "execution": {
     "iopub.execute_input": "2025-06-25T15:00:11.068393Z",
     "iopub.status.busy": "2025-06-25T15:00:11.067974Z",
     "iopub.status.idle": "2025-06-25T15:00:11.084123Z",
     "shell.execute_reply": "2025-06-25T15:00:11.083298Z"
    },
    "papermill": {
     "duration": 0.040741,
     "end_time": "2025-06-25T15:00:11.085533",
     "exception": false,
     "start_time": "2025-06-25T15:00:11.044792",
     "status": "completed"
    },
    "tags": []
   },
   "outputs": [
    {
     "data": {
      "text/plain": [
       "array([[0.88073734, 0.81069032],\n",
       "       [0.48071485, 0.27215384],\n",
       "       [0.47260729, 0.80940647],\n",
       "       [0.90863104, 0.59616261],\n",
       "       [0.72827149, 0.82584698]])"
      ]
     },
     "execution_count": 16,
     "metadata": {},
     "output_type": "execute_result"
    }
   ],
   "source": [
    "m1 = np.random.rand(5, 3)\n",
    "m2 = np.random.rand(3, 2)\n",
    "\n",
    "m1.dot(m2)"
   ]
  },
  {
   "cell_type": "markdown",
   "id": "b87054ad",
   "metadata": {
    "papermill": {
     "duration": 0.020352,
     "end_time": "2025-06-25T15:00:11.126834",
     "exception": false,
     "start_time": "2025-06-25T15:00:11.106482",
     "status": "completed"
    },
    "tags": []
   },
   "source": [
    "#### 25. Given a 1D array, negate all elements which are between 3 and 8, in place. (★☆☆)"
   ]
  },
  {
   "cell_type": "code",
   "execution_count": null,
   "id": "dbe4c98f",
   "metadata": {
    "papermill": {
     "duration": 0.020285,
     "end_time": "2025-06-25T15:00:11.167808",
     "exception": false,
     "start_time": "2025-06-25T15:00:11.147523",
     "status": "completed"
    },
    "tags": []
   },
   "outputs": [],
   "source": []
  },
  {
   "cell_type": "markdown",
   "id": "29e6775c",
   "metadata": {
    "papermill": {
     "duration": 0.02028,
     "end_time": "2025-06-25T15:00:11.208562",
     "exception": false,
     "start_time": "2025-06-25T15:00:11.188282",
     "status": "completed"
    },
    "tags": []
   },
   "source": [
    "#### 26. What is the output of the following script? (★☆☆)\n",
    "```python\n",
    "# Author: Jake VanderPlas\n",
    "\n",
    "print(sum(range(5),-1))\n",
    "from numpy import *\n",
    "print(sum(range(5),-1))\n",
    "```"
   ]
  },
  {
   "cell_type": "code",
   "execution_count": 17,
   "id": "eb3c1fc6",
   "metadata": {
    "execution": {
     "iopub.execute_input": "2025-06-25T15:00:11.251157Z",
     "iopub.status.busy": "2025-06-25T15:00:11.250844Z",
     "iopub.status.idle": "2025-06-25T15:00:11.257184Z",
     "shell.execute_reply": "2025-06-25T15:00:11.256134Z"
    },
    "papermill": {
     "duration": 0.029528,
     "end_time": "2025-06-25T15:00:11.258653",
     "exception": false,
     "start_time": "2025-06-25T15:00:11.229125",
     "status": "completed"
    },
    "tags": []
   },
   "outputs": [
    {
     "name": "stdout",
     "output_type": "stream",
     "text": [
      "9\n",
      "10\n"
     ]
    }
   ],
   "source": [
    "print(sum(range(5),-1)) # 9\n",
    "from numpy import *\n",
    "print(sum(range(5),-1)) # 10"
   ]
  },
  {
   "cell_type": "markdown",
   "id": "4fa7bc35",
   "metadata": {
    "papermill": {
     "duration": 0.020741,
     "end_time": "2025-06-25T15:00:11.300477",
     "exception": false,
     "start_time": "2025-06-25T15:00:11.279736",
     "status": "completed"
    },
    "tags": []
   },
   "source": [
    "#### 27. Consider an integer vector Z, which of these expressions are legal? (★☆☆)\n",
    "```python\n",
    "Z**Z\n",
    "2 << Z >> 2\n",
    "Z <- Z\n",
    "1j*Z\n",
    "Z/1/1\n",
    "Z<Z>Z\n",
    "```"
   ]
  },
  {
   "cell_type": "code",
   "execution_count": null,
   "id": "b68e7be7",
   "metadata": {
    "papermill": {
     "duration": 0.02081,
     "end_time": "2025-06-25T15:00:11.342312",
     "exception": false,
     "start_time": "2025-06-25T15:00:11.321502",
     "status": "completed"
    },
    "tags": []
   },
   "outputs": [],
   "source": []
  },
  {
   "cell_type": "markdown",
   "id": "6340f8e1",
   "metadata": {
    "papermill": {
     "duration": 0.020722,
     "end_time": "2025-06-25T15:00:11.383810",
     "exception": false,
     "start_time": "2025-06-25T15:00:11.363088",
     "status": "completed"
    },
    "tags": []
   },
   "source": [
    "#### 28. What are the result of the following expressions? (★☆☆)\n",
    "```python\n",
    "np.array(0) / np.array(0)\n",
    "np.array(0) // np.array(0)\n",
    "np.array([np.nan]).astype(int).astype(float)\n",
    "```"
   ]
  },
  {
   "cell_type": "code",
   "execution_count": 18,
   "id": "56538b7d",
   "metadata": {
    "execution": {
     "iopub.execute_input": "2025-06-25T15:00:11.426660Z",
     "iopub.status.busy": "2025-06-25T15:00:11.426365Z",
     "iopub.status.idle": "2025-06-25T15:00:11.432150Z",
     "shell.execute_reply": "2025-06-25T15:00:11.431277Z"
    },
    "papermill": {
     "duration": 0.028795,
     "end_time": "2025-06-25T15:00:11.433493",
     "exception": false,
     "start_time": "2025-06-25T15:00:11.404698",
     "status": "completed"
    },
    "tags": []
   },
   "outputs": [
    {
     "name": "stdout",
     "output_type": "stream",
     "text": [
      "nan\n",
      "0\n",
      "[-9.22337204e+18]\n"
     ]
    },
    {
     "name": "stderr",
     "output_type": "stream",
     "text": [
      "/tmp/ipykernel_20/1236953467.py:1: RuntimeWarning: invalid value encountered in divide\n",
      "  print(np.array(0) / np.array(0)) # nan\n",
      "/tmp/ipykernel_20/1236953467.py:2: RuntimeWarning: divide by zero encountered in floor_divide\n",
      "  print(np.array(0) // np.array(0)) # 0\n",
      "/tmp/ipykernel_20/1236953467.py:3: RuntimeWarning: invalid value encountered in cast\n",
      "  print(np.array([np.nan]).astype(int).astype(float)) # [-9.22337204e+18]\n"
     ]
    }
   ],
   "source": [
    "print(np.array(0) / np.array(0)) # nan\n",
    "print(np.array(0) // np.array(0)) # 0\n",
    "print(np.array([np.nan]).astype(int).astype(float)) # [-9.22337204e+18]"
   ]
  },
  {
   "cell_type": "markdown",
   "id": "45bbbfb5",
   "metadata": {
    "papermill": {
     "duration": 0.021037,
     "end_time": "2025-06-25T15:00:11.476517",
     "exception": false,
     "start_time": "2025-06-25T15:00:11.455480",
     "status": "completed"
    },
    "tags": []
   },
   "source": [
    "#### 29. How to round away from zero a float array ? (★☆☆)"
   ]
  },
  {
   "cell_type": "code",
   "execution_count": null,
   "id": "02d57314",
   "metadata": {
    "papermill": {
     "duration": 0.020938,
     "end_time": "2025-06-25T15:00:11.518472",
     "exception": false,
     "start_time": "2025-06-25T15:00:11.497534",
     "status": "completed"
    },
    "tags": []
   },
   "outputs": [],
   "source": []
  },
  {
   "cell_type": "markdown",
   "id": "633b95cc",
   "metadata": {
    "papermill": {
     "duration": 0.021073,
     "end_time": "2025-06-25T15:00:11.562846",
     "exception": false,
     "start_time": "2025-06-25T15:00:11.541773",
     "status": "completed"
    },
    "tags": []
   },
   "source": [
    "#### 30. How to find common values between two arrays? (★☆☆)"
   ]
  },
  {
   "cell_type": "code",
   "execution_count": null,
   "id": "03f67868",
   "metadata": {
    "papermill": {
     "duration": 0.021068,
     "end_time": "2025-06-25T15:00:11.605037",
     "exception": false,
     "start_time": "2025-06-25T15:00:11.583969",
     "status": "completed"
    },
    "tags": []
   },
   "outputs": [],
   "source": []
  },
  {
   "cell_type": "markdown",
   "id": "7e484833",
   "metadata": {
    "papermill": {
     "duration": 0.021264,
     "end_time": "2025-06-25T15:00:11.647444",
     "exception": false,
     "start_time": "2025-06-25T15:00:11.626180",
     "status": "completed"
    },
    "tags": []
   },
   "source": [
    "#### 31. How to ignore all numpy warnings (not recommended)? (★☆☆)"
   ]
  },
  {
   "cell_type": "code",
   "execution_count": 19,
   "id": "57283152",
   "metadata": {
    "execution": {
     "iopub.execute_input": "2025-06-25T15:00:11.691052Z",
     "iopub.status.busy": "2025-06-25T15:00:11.690761Z",
     "iopub.status.idle": "2025-06-25T15:00:11.696047Z",
     "shell.execute_reply": "2025-06-25T15:00:11.695270Z"
    },
    "papermill": {
     "duration": 0.028631,
     "end_time": "2025-06-25T15:00:11.697401",
     "exception": false,
     "start_time": "2025-06-25T15:00:11.668770",
     "status": "completed"
    },
    "tags": []
   },
   "outputs": [
    {
     "data": {
      "text/plain": [
       "{'divide': 'warn', 'over': 'warn', 'under': 'ignore', 'invalid': 'warn'}"
      ]
     },
     "execution_count": 19,
     "metadata": {},
     "output_type": "execute_result"
    }
   ],
   "source": [
    "np.seterr(all='ignore')"
   ]
  },
  {
   "cell_type": "markdown",
   "id": "def749bb",
   "metadata": {
    "papermill": {
     "duration": 0.021336,
     "end_time": "2025-06-25T15:00:11.740670",
     "exception": false,
     "start_time": "2025-06-25T15:00:11.719334",
     "status": "completed"
    },
    "tags": []
   },
   "source": [
    "#### 32. Is the following expressions true? (★☆☆)\n",
    "```python\n",
    "np.sqrt(-1) == np.emath.sqrt(-1)\n",
    "```"
   ]
  },
  {
   "cell_type": "code",
   "execution_count": 20,
   "id": "05cc503e",
   "metadata": {
    "execution": {
     "iopub.execute_input": "2025-06-25T15:00:11.784889Z",
     "iopub.status.busy": "2025-06-25T15:00:11.784607Z",
     "iopub.status.idle": "2025-06-25T15:00:11.791398Z",
     "shell.execute_reply": "2025-06-25T15:00:11.790544Z"
    },
    "papermill": {
     "duration": 0.030172,
     "end_time": "2025-06-25T15:00:11.792694",
     "exception": false,
     "start_time": "2025-06-25T15:00:11.762522",
     "status": "completed"
    },
    "tags": []
   },
   "outputs": [
    {
     "data": {
      "text/plain": [
       "False"
      ]
     },
     "execution_count": 20,
     "metadata": {},
     "output_type": "execute_result"
    }
   ],
   "source": [
    "np.sqrt(-1) == np.emath.sqrt(-1) # False"
   ]
  },
  {
   "cell_type": "markdown",
   "id": "e1958c04",
   "metadata": {
    "papermill": {
     "duration": 0.021297,
     "end_time": "2025-06-25T15:00:11.835682",
     "exception": false,
     "start_time": "2025-06-25T15:00:11.814385",
     "status": "completed"
    },
    "tags": []
   },
   "source": [
    "#### 33. How to get the dates of yesterday, today and tomorrow? (★☆☆)"
   ]
  },
  {
   "cell_type": "code",
   "execution_count": null,
   "id": "9212b4f6",
   "metadata": {
    "papermill": {
     "duration": 0.020789,
     "end_time": "2025-06-25T15:00:11.877868",
     "exception": false,
     "start_time": "2025-06-25T15:00:11.857079",
     "status": "completed"
    },
    "tags": []
   },
   "outputs": [],
   "source": []
  },
  {
   "cell_type": "markdown",
   "id": "7d42f43a",
   "metadata": {
    "papermill": {
     "duration": 0.021143,
     "end_time": "2025-06-25T15:00:11.920118",
     "exception": false,
     "start_time": "2025-06-25T15:00:11.898975",
     "status": "completed"
    },
    "tags": []
   },
   "source": [
    "#### 34. How to get all the dates corresponding to the month of July 2016? (★★☆)"
   ]
  },
  {
   "cell_type": "code",
   "execution_count": null,
   "id": "a1000da0",
   "metadata": {
    "papermill": {
     "duration": 0.020722,
     "end_time": "2025-06-25T15:00:11.961878",
     "exception": false,
     "start_time": "2025-06-25T15:00:11.941156",
     "status": "completed"
    },
    "tags": []
   },
   "outputs": [],
   "source": []
  },
  {
   "cell_type": "markdown",
   "id": "49c5a391",
   "metadata": {
    "papermill": {
     "duration": 0.020975,
     "end_time": "2025-06-25T15:00:12.004388",
     "exception": false,
     "start_time": "2025-06-25T15:00:11.983413",
     "status": "completed"
    },
    "tags": []
   },
   "source": [
    "#### 35. How to compute ((A+B)*(-A/2)) in place (without copy)? (★★☆)"
   ]
  },
  {
   "cell_type": "code",
   "execution_count": null,
   "id": "72d39666",
   "metadata": {
    "papermill": {
     "duration": 0.021019,
     "end_time": "2025-06-25T15:00:12.046714",
     "exception": false,
     "start_time": "2025-06-25T15:00:12.025695",
     "status": "completed"
    },
    "tags": []
   },
   "outputs": [],
   "source": []
  },
  {
   "cell_type": "markdown",
   "id": "6306bfec",
   "metadata": {
    "papermill": {
     "duration": 0.021261,
     "end_time": "2025-06-25T15:00:12.090346",
     "exception": false,
     "start_time": "2025-06-25T15:00:12.069085",
     "status": "completed"
    },
    "tags": []
   },
   "source": [
    "#### 36. Extract the integer part of a random array of positive numbers using 4 different methods (★★☆)"
   ]
  },
  {
   "cell_type": "code",
   "execution_count": null,
   "id": "61843db9",
   "metadata": {
    "papermill": {
     "duration": 0.021221,
     "end_time": "2025-06-25T15:00:12.132813",
     "exception": false,
     "start_time": "2025-06-25T15:00:12.111592",
     "status": "completed"
    },
    "tags": []
   },
   "outputs": [],
   "source": []
  },
  {
   "cell_type": "markdown",
   "id": "69dbf559",
   "metadata": {
    "papermill": {
     "duration": 0.021134,
     "end_time": "2025-06-25T15:00:12.175313",
     "exception": false,
     "start_time": "2025-06-25T15:00:12.154179",
     "status": "completed"
    },
    "tags": []
   },
   "source": [
    "#### 37. Create a 5x5 matrix with row values ranging from 0 to 4 (★★☆)"
   ]
  },
  {
   "cell_type": "code",
   "execution_count": null,
   "id": "070c61a6",
   "metadata": {
    "papermill": {
     "duration": 0.020952,
     "end_time": "2025-06-25T15:00:12.217751",
     "exception": false,
     "start_time": "2025-06-25T15:00:12.196799",
     "status": "completed"
    },
    "tags": []
   },
   "outputs": [],
   "source": []
  },
  {
   "cell_type": "markdown",
   "id": "434b4a06",
   "metadata": {
    "papermill": {
     "duration": 0.021136,
     "end_time": "2025-06-25T15:00:12.260470",
     "exception": false,
     "start_time": "2025-06-25T15:00:12.239334",
     "status": "completed"
    },
    "tags": []
   },
   "source": [
    "#### 38. Consider a generator function that generates 10 integers and use it to build an array (★☆☆)"
   ]
  },
  {
   "cell_type": "code",
   "execution_count": null,
   "id": "382dba97",
   "metadata": {
    "papermill": {
     "duration": 0.021503,
     "end_time": "2025-06-25T15:00:12.303324",
     "exception": false,
     "start_time": "2025-06-25T15:00:12.281821",
     "status": "completed"
    },
    "tags": []
   },
   "outputs": [],
   "source": []
  },
  {
   "cell_type": "markdown",
   "id": "83668870",
   "metadata": {
    "papermill": {
     "duration": 0.021224,
     "end_time": "2025-06-25T15:00:12.346062",
     "exception": false,
     "start_time": "2025-06-25T15:00:12.324838",
     "status": "completed"
    },
    "tags": []
   },
   "source": [
    "#### 39. Create a vector of size 10 with values ranging from 0 to 1, both excluded (★★☆)"
   ]
  },
  {
   "cell_type": "code",
   "execution_count": null,
   "id": "4d4b0dae",
   "metadata": {
    "papermill": {
     "duration": 0.021393,
     "end_time": "2025-06-25T15:00:12.388941",
     "exception": false,
     "start_time": "2025-06-25T15:00:12.367548",
     "status": "completed"
    },
    "tags": []
   },
   "outputs": [],
   "source": []
  },
  {
   "cell_type": "markdown",
   "id": "8c5029dc",
   "metadata": {
    "papermill": {
     "duration": 0.020977,
     "end_time": "2025-06-25T15:00:12.431420",
     "exception": false,
     "start_time": "2025-06-25T15:00:12.410443",
     "status": "completed"
    },
    "tags": []
   },
   "source": [
    "#### 40. Create a random vector of size 10 and sort it (★★☆)"
   ]
  },
  {
   "cell_type": "code",
   "execution_count": null,
   "id": "b66ba6b7",
   "metadata": {
    "papermill": {
     "duration": 0.02163,
     "end_time": "2025-06-25T15:00:12.474800",
     "exception": false,
     "start_time": "2025-06-25T15:00:12.453170",
     "status": "completed"
    },
    "tags": []
   },
   "outputs": [],
   "source": []
  },
  {
   "cell_type": "markdown",
   "id": "ab7c9c48",
   "metadata": {
    "papermill": {
     "duration": 0.022146,
     "end_time": "2025-06-25T15:00:12.519365",
     "exception": false,
     "start_time": "2025-06-25T15:00:12.497219",
     "status": "completed"
    },
    "tags": []
   },
   "source": [
    "#### 41. How to sum a small array faster than np.sum? (★★☆)"
   ]
  },
  {
   "cell_type": "code",
   "execution_count": null,
   "id": "c033bcaa",
   "metadata": {
    "papermill": {
     "duration": 0.022181,
     "end_time": "2025-06-25T15:00:12.564108",
     "exception": false,
     "start_time": "2025-06-25T15:00:12.541927",
     "status": "completed"
    },
    "tags": []
   },
   "outputs": [],
   "source": []
  },
  {
   "cell_type": "markdown",
   "id": "01f1e8df",
   "metadata": {
    "papermill": {
     "duration": 0.02221,
     "end_time": "2025-06-25T15:00:12.608755",
     "exception": false,
     "start_time": "2025-06-25T15:00:12.586545",
     "status": "completed"
    },
    "tags": []
   },
   "source": [
    "#### 42. Consider two random arrays A and B, check if they are equal (★★☆)"
   ]
  },
  {
   "cell_type": "code",
   "execution_count": null,
   "id": "e449dec4",
   "metadata": {
    "papermill": {
     "duration": 0.022004,
     "end_time": "2025-06-25T15:00:12.653187",
     "exception": false,
     "start_time": "2025-06-25T15:00:12.631183",
     "status": "completed"
    },
    "tags": []
   },
   "outputs": [],
   "source": []
  },
  {
   "cell_type": "markdown",
   "id": "796fcf51",
   "metadata": {
    "papermill": {
     "duration": 0.022179,
     "end_time": "2025-06-25T15:00:12.697813",
     "exception": false,
     "start_time": "2025-06-25T15:00:12.675634",
     "status": "completed"
    },
    "tags": []
   },
   "source": [
    "#### 43. Make an array immutable (read-only) (★★☆)"
   ]
  },
  {
   "cell_type": "code",
   "execution_count": null,
   "id": "6c1e456e",
   "metadata": {
    "papermill": {
     "duration": 0.022436,
     "end_time": "2025-06-25T15:00:12.743045",
     "exception": false,
     "start_time": "2025-06-25T15:00:12.720609",
     "status": "completed"
    },
    "tags": []
   },
   "outputs": [],
   "source": []
  },
  {
   "cell_type": "markdown",
   "id": "5db9d9bb",
   "metadata": {
    "papermill": {
     "duration": 0.021281,
     "end_time": "2025-06-25T15:00:12.785701",
     "exception": false,
     "start_time": "2025-06-25T15:00:12.764420",
     "status": "completed"
    },
    "tags": []
   },
   "source": [
    "#### 44. Consider a random 10x2 matrix representing cartesian coordinates, convert them to polar coordinates (★★☆)"
   ]
  },
  {
   "cell_type": "code",
   "execution_count": null,
   "id": "5160b39a",
   "metadata": {
    "papermill": {
     "duration": 0.021729,
     "end_time": "2025-06-25T15:00:12.830251",
     "exception": false,
     "start_time": "2025-06-25T15:00:12.808522",
     "status": "completed"
    },
    "tags": []
   },
   "outputs": [],
   "source": []
  },
  {
   "cell_type": "markdown",
   "id": "f52550d6",
   "metadata": {
    "papermill": {
     "duration": 0.02167,
     "end_time": "2025-06-25T15:00:12.873383",
     "exception": false,
     "start_time": "2025-06-25T15:00:12.851713",
     "status": "completed"
    },
    "tags": []
   },
   "source": [
    "#### 45. Create random vector of size 10 and replace the maximum value by 0 (★★☆)"
   ]
  },
  {
   "cell_type": "code",
   "execution_count": null,
   "id": "51de51f1",
   "metadata": {
    "papermill": {
     "duration": 0.021421,
     "end_time": "2025-06-25T15:00:12.916334",
     "exception": false,
     "start_time": "2025-06-25T15:00:12.894913",
     "status": "completed"
    },
    "tags": []
   },
   "outputs": [],
   "source": []
  },
  {
   "cell_type": "markdown",
   "id": "c29b54c5",
   "metadata": {
    "papermill": {
     "duration": 0.021418,
     "end_time": "2025-06-25T15:00:12.959213",
     "exception": false,
     "start_time": "2025-06-25T15:00:12.937795",
     "status": "completed"
    },
    "tags": []
   },
   "source": [
    "#### 46. Create a structured array with `x` and `y` coordinates covering the [0,1]x[0,1] area (★★☆)"
   ]
  },
  {
   "cell_type": "code",
   "execution_count": null,
   "id": "e2596a76",
   "metadata": {
    "papermill": {
     "duration": 0.021533,
     "end_time": "2025-06-25T15:00:13.063149",
     "exception": false,
     "start_time": "2025-06-25T15:00:13.041616",
     "status": "completed"
    },
    "tags": []
   },
   "outputs": [],
   "source": []
  },
  {
   "cell_type": "markdown",
   "id": "f6fc89f5",
   "metadata": {
    "papermill": {
     "duration": 0.021411,
     "end_time": "2025-06-25T15:00:13.107779",
     "exception": false,
     "start_time": "2025-06-25T15:00:13.086368",
     "status": "completed"
    },
    "tags": []
   },
   "source": [
    "#### 47. Given two arrays, X and Y, construct the Cauchy matrix C (Cij =1/(xi - yj)) (★★☆)"
   ]
  },
  {
   "cell_type": "code",
   "execution_count": null,
   "id": "c108c7f4",
   "metadata": {
    "papermill": {
     "duration": 0.021263,
     "end_time": "2025-06-25T15:00:13.150470",
     "exception": false,
     "start_time": "2025-06-25T15:00:13.129207",
     "status": "completed"
    },
    "tags": []
   },
   "outputs": [],
   "source": []
  },
  {
   "cell_type": "markdown",
   "id": "4195f5b2",
   "metadata": {
    "papermill": {
     "duration": 0.021654,
     "end_time": "2025-06-25T15:00:13.193741",
     "exception": false,
     "start_time": "2025-06-25T15:00:13.172087",
     "status": "completed"
    },
    "tags": []
   },
   "source": [
    "#### 48. Print the minimum and maximum representable values for each numpy scalar type (★★☆)"
   ]
  },
  {
   "cell_type": "code",
   "execution_count": null,
   "id": "70b51c78",
   "metadata": {
    "papermill": {
     "duration": 0.021311,
     "end_time": "2025-06-25T15:00:13.237015",
     "exception": false,
     "start_time": "2025-06-25T15:00:13.215704",
     "status": "completed"
    },
    "tags": []
   },
   "outputs": [],
   "source": []
  },
  {
   "cell_type": "markdown",
   "id": "9b6fc3a2",
   "metadata": {
    "papermill": {
     "duration": 0.021148,
     "end_time": "2025-06-25T15:00:13.279716",
     "exception": false,
     "start_time": "2025-06-25T15:00:13.258568",
     "status": "completed"
    },
    "tags": []
   },
   "source": [
    "#### 49. How to print all the values of an array? (★★☆)"
   ]
  },
  {
   "cell_type": "code",
   "execution_count": null,
   "id": "97a642f5",
   "metadata": {
    "papermill": {
     "duration": 0.022124,
     "end_time": "2025-06-25T15:00:13.323408",
     "exception": false,
     "start_time": "2025-06-25T15:00:13.301284",
     "status": "completed"
    },
    "tags": []
   },
   "outputs": [],
   "source": []
  },
  {
   "cell_type": "markdown",
   "id": "1c4d1ab1",
   "metadata": {
    "papermill": {
     "duration": 0.021171,
     "end_time": "2025-06-25T15:00:13.366167",
     "exception": false,
     "start_time": "2025-06-25T15:00:13.344996",
     "status": "completed"
    },
    "tags": []
   },
   "source": [
    "#### 50. How to find the closest value (to a given scalar) in a vector? (★★☆)"
   ]
  },
  {
   "cell_type": "code",
   "execution_count": null,
   "id": "1475ab78",
   "metadata": {
    "papermill": {
     "duration": 0.021037,
     "end_time": "2025-06-25T15:00:13.408417",
     "exception": false,
     "start_time": "2025-06-25T15:00:13.387380",
     "status": "completed"
    },
    "tags": []
   },
   "outputs": [],
   "source": []
  },
  {
   "cell_type": "markdown",
   "id": "b2ca76ee",
   "metadata": {
    "papermill": {
     "duration": 0.020886,
     "end_time": "2025-06-25T15:00:13.450524",
     "exception": false,
     "start_time": "2025-06-25T15:00:13.429638",
     "status": "completed"
    },
    "tags": []
   },
   "source": [
    "#### 51. Create a structured array representing a position (x,y) and a color (r,g,b) (★★☆)"
   ]
  },
  {
   "cell_type": "code",
   "execution_count": null,
   "id": "5e46ceac",
   "metadata": {
    "papermill": {
     "duration": 0.020968,
     "end_time": "2025-06-25T15:00:13.493644",
     "exception": false,
     "start_time": "2025-06-25T15:00:13.472676",
     "status": "completed"
    },
    "tags": []
   },
   "outputs": [],
   "source": []
  },
  {
   "cell_type": "markdown",
   "id": "1db3e4ba",
   "metadata": {
    "papermill": {
     "duration": 0.021059,
     "end_time": "2025-06-25T15:00:13.535623",
     "exception": false,
     "start_time": "2025-06-25T15:00:13.514564",
     "status": "completed"
    },
    "tags": []
   },
   "source": [
    "#### 52. Consider a random vector with shape (100,2) representing coordinates, find point by point distances (★★☆)"
   ]
  },
  {
   "cell_type": "code",
   "execution_count": null,
   "id": "c3c10ced",
   "metadata": {
    "papermill": {
     "duration": 0.021375,
     "end_time": "2025-06-25T15:00:13.578759",
     "exception": false,
     "start_time": "2025-06-25T15:00:13.557384",
     "status": "completed"
    },
    "tags": []
   },
   "outputs": [],
   "source": []
  },
  {
   "cell_type": "markdown",
   "id": "f4706d3c",
   "metadata": {
    "papermill": {
     "duration": 0.020895,
     "end_time": "2025-06-25T15:00:13.620971",
     "exception": false,
     "start_time": "2025-06-25T15:00:13.600076",
     "status": "completed"
    },
    "tags": []
   },
   "source": [
    "#### 53. How to convert a float (32 bits) array into an integer (32 bits) array in place?"
   ]
  },
  {
   "cell_type": "code",
   "execution_count": null,
   "id": "edbe32b7",
   "metadata": {
    "papermill": {
     "duration": 0.02124,
     "end_time": "2025-06-25T15:00:13.663515",
     "exception": false,
     "start_time": "2025-06-25T15:00:13.642275",
     "status": "completed"
    },
    "tags": []
   },
   "outputs": [],
   "source": []
  },
  {
   "cell_type": "markdown",
   "id": "ce61f561",
   "metadata": {
    "papermill": {
     "duration": 0.021784,
     "end_time": "2025-06-25T15:00:13.707202",
     "exception": false,
     "start_time": "2025-06-25T15:00:13.685418",
     "status": "completed"
    },
    "tags": []
   },
   "source": [
    "#### 54. How to read the following file? (★★☆)\n",
    "```\n",
    "1, 2, 3, 4, 5\n",
    "6,  ,  , 7, 8\n",
    " ,  , 9,10,11\n",
    "```"
   ]
  },
  {
   "cell_type": "code",
   "execution_count": null,
   "id": "20db2a5e",
   "metadata": {
    "papermill": {
     "duration": 0.021386,
     "end_time": "2025-06-25T15:00:13.750875",
     "exception": false,
     "start_time": "2025-06-25T15:00:13.729489",
     "status": "completed"
    },
    "tags": []
   },
   "outputs": [],
   "source": []
  },
  {
   "cell_type": "markdown",
   "id": "6d8b4c80",
   "metadata": {
    "papermill": {
     "duration": 0.021291,
     "end_time": "2025-06-25T15:00:13.793406",
     "exception": false,
     "start_time": "2025-06-25T15:00:13.772115",
     "status": "completed"
    },
    "tags": []
   },
   "source": [
    "#### 55. What is the equivalent of enumerate for numpy arrays? (★★☆)"
   ]
  },
  {
   "cell_type": "code",
   "execution_count": null,
   "id": "ab10f4a3",
   "metadata": {
    "papermill": {
     "duration": 0.021235,
     "end_time": "2025-06-25T15:00:13.836169",
     "exception": false,
     "start_time": "2025-06-25T15:00:13.814934",
     "status": "completed"
    },
    "tags": []
   },
   "outputs": [],
   "source": []
  },
  {
   "cell_type": "markdown",
   "id": "81d5ecc2",
   "metadata": {
    "papermill": {
     "duration": 0.021156,
     "end_time": "2025-06-25T15:00:13.878668",
     "exception": false,
     "start_time": "2025-06-25T15:00:13.857512",
     "status": "completed"
    },
    "tags": []
   },
   "source": [
    "#### 56. Generate a generic 2D Gaussian-like array (★★☆)"
   ]
  },
  {
   "cell_type": "code",
   "execution_count": null,
   "id": "eb33de9e",
   "metadata": {
    "papermill": {
     "duration": 0.021133,
     "end_time": "2025-06-25T15:00:13.921463",
     "exception": false,
     "start_time": "2025-06-25T15:00:13.900330",
     "status": "completed"
    },
    "tags": []
   },
   "outputs": [],
   "source": []
  },
  {
   "cell_type": "markdown",
   "id": "7b7a9f7a",
   "metadata": {
    "papermill": {
     "duration": 0.021213,
     "end_time": "2025-06-25T15:00:13.964199",
     "exception": false,
     "start_time": "2025-06-25T15:00:13.942986",
     "status": "completed"
    },
    "tags": []
   },
   "source": [
    "#### 57. How to randomly place p elements in a 2D array? (★★☆)"
   ]
  },
  {
   "cell_type": "code",
   "execution_count": null,
   "id": "e23fc3b9",
   "metadata": {
    "papermill": {
     "duration": 0.021263,
     "end_time": "2025-06-25T15:00:14.006815",
     "exception": false,
     "start_time": "2025-06-25T15:00:13.985552",
     "status": "completed"
    },
    "tags": []
   },
   "outputs": [],
   "source": []
  },
  {
   "cell_type": "markdown",
   "id": "c8b946fb",
   "metadata": {
    "papermill": {
     "duration": 0.02109,
     "end_time": "2025-06-25T15:00:14.049626",
     "exception": false,
     "start_time": "2025-06-25T15:00:14.028536",
     "status": "completed"
    },
    "tags": []
   },
   "source": [
    "#### 58. Subtract the mean of each row of a matrix (★★☆)"
   ]
  },
  {
   "cell_type": "code",
   "execution_count": null,
   "id": "89bdff7d",
   "metadata": {
    "papermill": {
     "duration": 0.021887,
     "end_time": "2025-06-25T15:00:14.093327",
     "exception": false,
     "start_time": "2025-06-25T15:00:14.071440",
     "status": "completed"
    },
    "tags": []
   },
   "outputs": [],
   "source": []
  },
  {
   "cell_type": "markdown",
   "id": "38d8afac",
   "metadata": {
    "papermill": {
     "duration": 0.020955,
     "end_time": "2025-06-25T15:00:14.135565",
     "exception": false,
     "start_time": "2025-06-25T15:00:14.114610",
     "status": "completed"
    },
    "tags": []
   },
   "source": [
    "#### 59. How to sort an array by the nth column? (★★☆)"
   ]
  },
  {
   "cell_type": "code",
   "execution_count": null,
   "id": "d5cb1e6c",
   "metadata": {
    "papermill": {
     "duration": 0.021094,
     "end_time": "2025-06-25T15:00:14.178118",
     "exception": false,
     "start_time": "2025-06-25T15:00:14.157024",
     "status": "completed"
    },
    "tags": []
   },
   "outputs": [],
   "source": []
  },
  {
   "cell_type": "markdown",
   "id": "65e87ce0",
   "metadata": {
    "papermill": {
     "duration": 0.02118,
     "end_time": "2025-06-25T15:00:14.220632",
     "exception": false,
     "start_time": "2025-06-25T15:00:14.199452",
     "status": "completed"
    },
    "tags": []
   },
   "source": [
    "#### 60. How to tell if a given 2D array has null columns? (★★☆)"
   ]
  },
  {
   "cell_type": "code",
   "execution_count": null,
   "id": "8baeb0c3",
   "metadata": {
    "papermill": {
     "duration": 0.021181,
     "end_time": "2025-06-25T15:00:14.263094",
     "exception": false,
     "start_time": "2025-06-25T15:00:14.241913",
     "status": "completed"
    },
    "tags": []
   },
   "outputs": [],
   "source": []
  },
  {
   "cell_type": "markdown",
   "id": "52496bde",
   "metadata": {
    "papermill": {
     "duration": 0.02116,
     "end_time": "2025-06-25T15:00:14.305615",
     "exception": false,
     "start_time": "2025-06-25T15:00:14.284455",
     "status": "completed"
    },
    "tags": []
   },
   "source": [
    "#### 61. Find the nearest value from a given value in an array (★★☆)"
   ]
  },
  {
   "cell_type": "code",
   "execution_count": null,
   "id": "2e29e92f",
   "metadata": {
    "papermill": {
     "duration": 0.021355,
     "end_time": "2025-06-25T15:00:14.349261",
     "exception": false,
     "start_time": "2025-06-25T15:00:14.327906",
     "status": "completed"
    },
    "tags": []
   },
   "outputs": [],
   "source": []
  },
  {
   "cell_type": "markdown",
   "id": "838dd08f",
   "metadata": {
    "papermill": {
     "duration": 0.021271,
     "end_time": "2025-06-25T15:00:14.392082",
     "exception": false,
     "start_time": "2025-06-25T15:00:14.370811",
     "status": "completed"
    },
    "tags": []
   },
   "source": [
    "#### 62. Considering two arrays with shape (1,3) and (3,1), how to compute their sum using an iterator? (★★☆)"
   ]
  },
  {
   "cell_type": "code",
   "execution_count": null,
   "id": "bcde81ef",
   "metadata": {
    "papermill": {
     "duration": 0.021136,
     "end_time": "2025-06-25T15:00:14.434760",
     "exception": false,
     "start_time": "2025-06-25T15:00:14.413624",
     "status": "completed"
    },
    "tags": []
   },
   "outputs": [],
   "source": []
  },
  {
   "cell_type": "markdown",
   "id": "06f9ab17",
   "metadata": {
    "papermill": {
     "duration": 0.022463,
     "end_time": "2025-06-25T15:00:14.479428",
     "exception": false,
     "start_time": "2025-06-25T15:00:14.456965",
     "status": "completed"
    },
    "tags": []
   },
   "source": [
    "#### 63. Create an array class that has a name attribute (★★☆)"
   ]
  },
  {
   "cell_type": "code",
   "execution_count": null,
   "id": "ab2878f5",
   "metadata": {
    "papermill": {
     "duration": 0.021517,
     "end_time": "2025-06-25T15:00:14.522898",
     "exception": false,
     "start_time": "2025-06-25T15:00:14.501381",
     "status": "completed"
    },
    "tags": []
   },
   "outputs": [],
   "source": []
  },
  {
   "cell_type": "markdown",
   "id": "6f4d19d6",
   "metadata": {
    "papermill": {
     "duration": 0.022363,
     "end_time": "2025-06-25T15:00:14.567204",
     "exception": false,
     "start_time": "2025-06-25T15:00:14.544841",
     "status": "completed"
    },
    "tags": []
   },
   "source": [
    "#### 64. Consider a given vector, how to add 1 to each element indexed by a second vector (be careful with repeated indices)? (★★★)"
   ]
  },
  {
   "cell_type": "code",
   "execution_count": null,
   "id": "e71894f9",
   "metadata": {
    "papermill": {
     "duration": 0.0215,
     "end_time": "2025-06-25T15:00:14.611351",
     "exception": false,
     "start_time": "2025-06-25T15:00:14.589851",
     "status": "completed"
    },
    "tags": []
   },
   "outputs": [],
   "source": []
  },
  {
   "cell_type": "markdown",
   "id": "14f09683",
   "metadata": {
    "papermill": {
     "duration": 0.02165,
     "end_time": "2025-06-25T15:00:14.654451",
     "exception": false,
     "start_time": "2025-06-25T15:00:14.632801",
     "status": "completed"
    },
    "tags": []
   },
   "source": [
    "#### 65. How to accumulate elements of a vector (X) to an array (F) based on an index list (I)? (★★★)"
   ]
  },
  {
   "cell_type": "code",
   "execution_count": null,
   "id": "c689370e",
   "metadata": {
    "papermill": {
     "duration": 0.021781,
     "end_time": "2025-06-25T15:00:14.697740",
     "exception": false,
     "start_time": "2025-06-25T15:00:14.675959",
     "status": "completed"
    },
    "tags": []
   },
   "outputs": [],
   "source": []
  },
  {
   "cell_type": "markdown",
   "id": "348d7a85",
   "metadata": {
    "papermill": {
     "duration": 0.021223,
     "end_time": "2025-06-25T15:00:14.740650",
     "exception": false,
     "start_time": "2025-06-25T15:00:14.719427",
     "status": "completed"
    },
    "tags": []
   },
   "source": [
    "#### 66. Considering a (w,h,3) image of (dtype=ubyte), compute the number of unique colors (★★☆)"
   ]
  },
  {
   "cell_type": "code",
   "execution_count": null,
   "id": "f58b4133",
   "metadata": {
    "papermill": {
     "duration": 0.021499,
     "end_time": "2025-06-25T15:00:14.783473",
     "exception": false,
     "start_time": "2025-06-25T15:00:14.761974",
     "status": "completed"
    },
    "tags": []
   },
   "outputs": [],
   "source": []
  },
  {
   "cell_type": "markdown",
   "id": "cd5f8e84",
   "metadata": {
    "papermill": {
     "duration": 0.022274,
     "end_time": "2025-06-25T15:00:14.829409",
     "exception": false,
     "start_time": "2025-06-25T15:00:14.807135",
     "status": "completed"
    },
    "tags": []
   },
   "source": [
    "#### 67. Considering a four dimensions array, how to get sum over the last two axis at once? (★★★)"
   ]
  },
  {
   "cell_type": "code",
   "execution_count": null,
   "id": "ffd8f97c",
   "metadata": {
    "papermill": {
     "duration": 0.022426,
     "end_time": "2025-06-25T15:00:14.874286",
     "exception": false,
     "start_time": "2025-06-25T15:00:14.851860",
     "status": "completed"
    },
    "tags": []
   },
   "outputs": [],
   "source": []
  },
  {
   "cell_type": "markdown",
   "id": "63cab8aa",
   "metadata": {
    "papermill": {
     "duration": 0.022143,
     "end_time": "2025-06-25T15:00:14.918754",
     "exception": false,
     "start_time": "2025-06-25T15:00:14.896611",
     "status": "completed"
    },
    "tags": []
   },
   "source": [
    "#### 68. Considering a one-dimensional vector D, how to compute means of subsets of D using a vector S of same size describing subset  indices? (★★★)"
   ]
  },
  {
   "cell_type": "code",
   "execution_count": null,
   "id": "9fc4124c",
   "metadata": {
    "papermill": {
     "duration": 0.021995,
     "end_time": "2025-06-25T15:00:14.963071",
     "exception": false,
     "start_time": "2025-06-25T15:00:14.941076",
     "status": "completed"
    },
    "tags": []
   },
   "outputs": [],
   "source": []
  },
  {
   "cell_type": "markdown",
   "id": "a03a809c",
   "metadata": {
    "papermill": {
     "duration": 0.022269,
     "end_time": "2025-06-25T15:00:15.007699",
     "exception": false,
     "start_time": "2025-06-25T15:00:14.985430",
     "status": "completed"
    },
    "tags": []
   },
   "source": [
    "#### 69. How to get the diagonal of a dot product? (★★★)"
   ]
  },
  {
   "cell_type": "code",
   "execution_count": null,
   "id": "211c66d9",
   "metadata": {
    "papermill": {
     "duration": 0.022231,
     "end_time": "2025-06-25T15:00:15.052360",
     "exception": false,
     "start_time": "2025-06-25T15:00:15.030129",
     "status": "completed"
    },
    "tags": []
   },
   "outputs": [],
   "source": []
  },
  {
   "cell_type": "markdown",
   "id": "acf2d551",
   "metadata": {
    "papermill": {
     "duration": 0.02348,
     "end_time": "2025-06-25T15:00:15.098592",
     "exception": false,
     "start_time": "2025-06-25T15:00:15.075112",
     "status": "completed"
    },
    "tags": []
   },
   "source": [
    "#### 70. Consider the vector [1, 2, 3, 4, 5], how to build a new vector with 3 consecutive zeros interleaved between each value? (★★★)"
   ]
  },
  {
   "cell_type": "code",
   "execution_count": null,
   "id": "65da1364",
   "metadata": {
    "papermill": {
     "duration": 0.022056,
     "end_time": "2025-06-25T15:00:15.143025",
     "exception": false,
     "start_time": "2025-06-25T15:00:15.120969",
     "status": "completed"
    },
    "tags": []
   },
   "outputs": [],
   "source": []
  },
  {
   "cell_type": "markdown",
   "id": "42cf25f0",
   "metadata": {
    "papermill": {
     "duration": 0.02225,
     "end_time": "2025-06-25T15:00:15.187832",
     "exception": false,
     "start_time": "2025-06-25T15:00:15.165582",
     "status": "completed"
    },
    "tags": []
   },
   "source": [
    "#### 71. Consider an array of dimension (5,5,3), how to multiply it by an array with dimensions (5,5)? (★★★)"
   ]
  },
  {
   "cell_type": "code",
   "execution_count": null,
   "id": "bdf2f9e3",
   "metadata": {
    "papermill": {
     "duration": 0.022196,
     "end_time": "2025-06-25T15:00:15.232361",
     "exception": false,
     "start_time": "2025-06-25T15:00:15.210165",
     "status": "completed"
    },
    "tags": []
   },
   "outputs": [],
   "source": []
  },
  {
   "cell_type": "markdown",
   "id": "a9126285",
   "metadata": {
    "papermill": {
     "duration": 0.022035,
     "end_time": "2025-06-25T15:00:15.276834",
     "exception": false,
     "start_time": "2025-06-25T15:00:15.254799",
     "status": "completed"
    },
    "tags": []
   },
   "source": [
    "#### 72. How to swap two rows of an array? (★★★)"
   ]
  },
  {
   "cell_type": "code",
   "execution_count": null,
   "id": "4eb8028b",
   "metadata": {
    "papermill": {
     "duration": 0.021726,
     "end_time": "2025-06-25T15:00:15.320736",
     "exception": false,
     "start_time": "2025-06-25T15:00:15.299010",
     "status": "completed"
    },
    "tags": []
   },
   "outputs": [],
   "source": []
  },
  {
   "cell_type": "markdown",
   "id": "aea1de9c",
   "metadata": {
    "papermill": {
     "duration": 0.021137,
     "end_time": "2025-06-25T15:00:15.363889",
     "exception": false,
     "start_time": "2025-06-25T15:00:15.342752",
     "status": "completed"
    },
    "tags": []
   },
   "source": [
    "#### 73. Consider a set of 10 triplets describing 10 triangles (with shared vertices), find the set of unique line segments composing all the  triangles (★★★)"
   ]
  },
  {
   "cell_type": "code",
   "execution_count": null,
   "id": "c870ce91",
   "metadata": {
    "papermill": {
     "duration": 0.021112,
     "end_time": "2025-06-25T15:00:15.406464",
     "exception": false,
     "start_time": "2025-06-25T15:00:15.385352",
     "status": "completed"
    },
    "tags": []
   },
   "outputs": [],
   "source": []
  },
  {
   "cell_type": "markdown",
   "id": "3d478a9a",
   "metadata": {
    "papermill": {
     "duration": 0.022369,
     "end_time": "2025-06-25T15:00:15.450343",
     "exception": false,
     "start_time": "2025-06-25T15:00:15.427974",
     "status": "completed"
    },
    "tags": []
   },
   "source": [
    "#### 74. Given a sorted array C that corresponds to a bincount, how to produce an array A such that np.bincount(A) == C? (★★★)"
   ]
  },
  {
   "cell_type": "code",
   "execution_count": null,
   "id": "8319f16e",
   "metadata": {
    "papermill": {
     "duration": 0.022492,
     "end_time": "2025-06-25T15:00:15.495595",
     "exception": false,
     "start_time": "2025-06-25T15:00:15.473103",
     "status": "completed"
    },
    "tags": []
   },
   "outputs": [],
   "source": []
  },
  {
   "cell_type": "markdown",
   "id": "227dbf49",
   "metadata": {
    "papermill": {
     "duration": 0.021681,
     "end_time": "2025-06-25T15:00:15.539065",
     "exception": false,
     "start_time": "2025-06-25T15:00:15.517384",
     "status": "completed"
    },
    "tags": []
   },
   "source": [
    "#### 75. How to compute averages using a sliding window over an array? (★★★)"
   ]
  },
  {
   "cell_type": "code",
   "execution_count": null,
   "id": "bbdd1288",
   "metadata": {
    "papermill": {
     "duration": 0.021829,
     "end_time": "2025-06-25T15:00:15.583020",
     "exception": false,
     "start_time": "2025-06-25T15:00:15.561191",
     "status": "completed"
    },
    "tags": []
   },
   "outputs": [],
   "source": []
  },
  {
   "cell_type": "markdown",
   "id": "2b167088",
   "metadata": {
    "papermill": {
     "duration": 0.022232,
     "end_time": "2025-06-25T15:00:15.628506",
     "exception": false,
     "start_time": "2025-06-25T15:00:15.606274",
     "status": "completed"
    },
    "tags": []
   },
   "source": [
    "#### 76. Consider a one-dimensional array Z, build a two-dimensional array whose first row is (Z[0],Z[1],Z[2]) and each subsequent row is  shifted by 1 (last row should be (Z[-3],Z[-2],Z[-1]) (★★★)"
   ]
  },
  {
   "cell_type": "code",
   "execution_count": null,
   "id": "9e6af112",
   "metadata": {
    "papermill": {
     "duration": 0.022107,
     "end_time": "2025-06-25T15:00:15.673557",
     "exception": false,
     "start_time": "2025-06-25T15:00:15.651450",
     "status": "completed"
    },
    "tags": []
   },
   "outputs": [],
   "source": []
  },
  {
   "cell_type": "markdown",
   "id": "426416ad",
   "metadata": {
    "papermill": {
     "duration": 0.022266,
     "end_time": "2025-06-25T15:00:15.718085",
     "exception": false,
     "start_time": "2025-06-25T15:00:15.695819",
     "status": "completed"
    },
    "tags": []
   },
   "source": [
    "#### 77. How to negate a boolean, or to change the sign of a float inplace? (★★★)"
   ]
  },
  {
   "cell_type": "code",
   "execution_count": null,
   "id": "0104c056",
   "metadata": {
    "papermill": {
     "duration": 0.021885,
     "end_time": "2025-06-25T15:00:15.762586",
     "exception": false,
     "start_time": "2025-06-25T15:00:15.740701",
     "status": "completed"
    },
    "tags": []
   },
   "outputs": [],
   "source": []
  },
  {
   "cell_type": "markdown",
   "id": "6601bb2a",
   "metadata": {
    "papermill": {
     "duration": 0.021276,
     "end_time": "2025-06-25T15:00:15.805426",
     "exception": false,
     "start_time": "2025-06-25T15:00:15.784150",
     "status": "completed"
    },
    "tags": []
   },
   "source": [
    "#### 78. Consider 2 sets of points P0,P1 describing lines (2d) and a point p, how to compute distance from p to each line i (P0[i],P1[i])? (★★★)"
   ]
  },
  {
   "cell_type": "code",
   "execution_count": null,
   "id": "fe4c2f80",
   "metadata": {
    "papermill": {
     "duration": 0.021854,
     "end_time": "2025-06-25T15:00:15.848886",
     "exception": false,
     "start_time": "2025-06-25T15:00:15.827032",
     "status": "completed"
    },
    "tags": []
   },
   "outputs": [],
   "source": []
  },
  {
   "cell_type": "markdown",
   "id": "c684f7c3",
   "metadata": {
    "papermill": {
     "duration": 0.021538,
     "end_time": "2025-06-25T15:00:15.893586",
     "exception": false,
     "start_time": "2025-06-25T15:00:15.872048",
     "status": "completed"
    },
    "tags": []
   },
   "source": [
    "#### 79. Consider 2 sets of points P0,P1 describing lines (2d) and a set of points P, how to compute distance from each point j (P[j]) to each line i (P0[i],P1[i])? (★★★)"
   ]
  },
  {
   "cell_type": "code",
   "execution_count": null,
   "id": "240597bc",
   "metadata": {
    "papermill": {
     "duration": 0.02105,
     "end_time": "2025-06-25T15:00:15.936171",
     "exception": false,
     "start_time": "2025-06-25T15:00:15.915121",
     "status": "completed"
    },
    "tags": []
   },
   "outputs": [],
   "source": []
  },
  {
   "cell_type": "markdown",
   "id": "33096883",
   "metadata": {
    "papermill": {
     "duration": 0.021799,
     "end_time": "2025-06-25T15:00:15.979514",
     "exception": false,
     "start_time": "2025-06-25T15:00:15.957715",
     "status": "completed"
    },
    "tags": []
   },
   "source": [
    "#### 80. Consider an arbitrary array, write a function that extracts a subpart with a fixed shape and centered on a given element (pad with a `fill` value when necessary) (★★★)"
   ]
  },
  {
   "cell_type": "code",
   "execution_count": null,
   "id": "8ef140b5",
   "metadata": {
    "papermill": {
     "duration": 0.021666,
     "end_time": "2025-06-25T15:00:16.024118",
     "exception": false,
     "start_time": "2025-06-25T15:00:16.002452",
     "status": "completed"
    },
    "tags": []
   },
   "outputs": [],
   "source": []
  },
  {
   "cell_type": "markdown",
   "id": "a58782d3",
   "metadata": {
    "papermill": {
     "duration": 0.021344,
     "end_time": "2025-06-25T15:00:16.067033",
     "exception": false,
     "start_time": "2025-06-25T15:00:16.045689",
     "status": "completed"
    },
    "tags": []
   },
   "source": [
    "#### 81. Consider an array Z = [1,2,3,4,5,6,7,8,9,10,11,12,13,14], how to generate an array R = [[1,2,3,4], [2,3,4,5], [3,4,5,6], ..., [11,12,13,14]]? (★★★)"
   ]
  },
  {
   "cell_type": "code",
   "execution_count": null,
   "id": "b6d377c6",
   "metadata": {
    "papermill": {
     "duration": 0.022115,
     "end_time": "2025-06-25T15:00:16.111962",
     "exception": false,
     "start_time": "2025-06-25T15:00:16.089847",
     "status": "completed"
    },
    "tags": []
   },
   "outputs": [],
   "source": []
  },
  {
   "cell_type": "markdown",
   "id": "88c0865f",
   "metadata": {
    "papermill": {
     "duration": 0.021516,
     "end_time": "2025-06-25T15:00:16.157173",
     "exception": false,
     "start_time": "2025-06-25T15:00:16.135657",
     "status": "completed"
    },
    "tags": []
   },
   "source": [
    "#### 82. Compute a matrix rank (★★★)"
   ]
  },
  {
   "cell_type": "code",
   "execution_count": null,
   "id": "b1108571",
   "metadata": {
    "papermill": {
     "duration": 0.021258,
     "end_time": "2025-06-25T15:00:16.200056",
     "exception": false,
     "start_time": "2025-06-25T15:00:16.178798",
     "status": "completed"
    },
    "tags": []
   },
   "outputs": [],
   "source": []
  },
  {
   "cell_type": "markdown",
   "id": "bcbd46f7",
   "metadata": {
    "papermill": {
     "duration": 0.021312,
     "end_time": "2025-06-25T15:00:16.242687",
     "exception": false,
     "start_time": "2025-06-25T15:00:16.221375",
     "status": "completed"
    },
    "tags": []
   },
   "source": [
    "#### 83. How to find the most frequent value in an array?"
   ]
  },
  {
   "cell_type": "code",
   "execution_count": null,
   "id": "6f5fd3a1",
   "metadata": {
    "papermill": {
     "duration": 0.021365,
     "end_time": "2025-06-25T15:00:16.287085",
     "exception": false,
     "start_time": "2025-06-25T15:00:16.265720",
     "status": "completed"
    },
    "tags": []
   },
   "outputs": [],
   "source": []
  },
  {
   "cell_type": "markdown",
   "id": "e00a21c0",
   "metadata": {
    "papermill": {
     "duration": 0.021581,
     "end_time": "2025-06-25T15:00:16.330251",
     "exception": false,
     "start_time": "2025-06-25T15:00:16.308670",
     "status": "completed"
    },
    "tags": []
   },
   "source": [
    "#### 84. Extract all the contiguous 3x3 blocks from a random 10x10 matrix (★★★)"
   ]
  },
  {
   "cell_type": "code",
   "execution_count": null,
   "id": "a1e60083",
   "metadata": {
    "papermill": {
     "duration": 0.022491,
     "end_time": "2025-06-25T15:00:16.374423",
     "exception": false,
     "start_time": "2025-06-25T15:00:16.351932",
     "status": "completed"
    },
    "tags": []
   },
   "outputs": [],
   "source": []
  },
  {
   "cell_type": "markdown",
   "id": "5cf3533e",
   "metadata": {
    "papermill": {
     "duration": 0.021767,
     "end_time": "2025-06-25T15:00:16.420356",
     "exception": false,
     "start_time": "2025-06-25T15:00:16.398589",
     "status": "completed"
    },
    "tags": []
   },
   "source": [
    "#### 85. Create a 2D array subclass such that Z[i,j] == Z[j,i] (★★★)"
   ]
  },
  {
   "cell_type": "code",
   "execution_count": null,
   "id": "34f8efb1",
   "metadata": {
    "papermill": {
     "duration": 0.021611,
     "end_time": "2025-06-25T15:00:16.463897",
     "exception": false,
     "start_time": "2025-06-25T15:00:16.442286",
     "status": "completed"
    },
    "tags": []
   },
   "outputs": [],
   "source": []
  },
  {
   "cell_type": "markdown",
   "id": "ad80b91b",
   "metadata": {
    "papermill": {
     "duration": 0.022767,
     "end_time": "2025-06-25T15:00:16.508600",
     "exception": false,
     "start_time": "2025-06-25T15:00:16.485833",
     "status": "completed"
    },
    "tags": []
   },
   "source": [
    "#### 86. Consider a set of p matrices with shape (n,n) and a set of p vectors with shape (n,1). How to compute the sum of of the p matrix products at once? (result has shape (n,1)) (★★★)"
   ]
  },
  {
   "cell_type": "code",
   "execution_count": null,
   "id": "82729b7b",
   "metadata": {
    "papermill": {
     "duration": 0.021181,
     "end_time": "2025-06-25T15:00:16.551870",
     "exception": false,
     "start_time": "2025-06-25T15:00:16.530689",
     "status": "completed"
    },
    "tags": []
   },
   "outputs": [],
   "source": []
  },
  {
   "cell_type": "markdown",
   "id": "c7a8680e",
   "metadata": {
    "papermill": {
     "duration": 0.021072,
     "end_time": "2025-06-25T15:00:16.594968",
     "exception": false,
     "start_time": "2025-06-25T15:00:16.573896",
     "status": "completed"
    },
    "tags": []
   },
   "source": [
    "#### 87. Consider a 16x16 array, how to get the block-sum (block size is 4x4)? (★★★)"
   ]
  },
  {
   "cell_type": "code",
   "execution_count": null,
   "id": "472e361d",
   "metadata": {
    "papermill": {
     "duration": 0.021392,
     "end_time": "2025-06-25T15:00:16.637854",
     "exception": false,
     "start_time": "2025-06-25T15:00:16.616462",
     "status": "completed"
    },
    "tags": []
   },
   "outputs": [],
   "source": []
  },
  {
   "cell_type": "markdown",
   "id": "d9f9d896",
   "metadata": {
    "papermill": {
     "duration": 0.021081,
     "end_time": "2025-06-25T15:00:16.680349",
     "exception": false,
     "start_time": "2025-06-25T15:00:16.659268",
     "status": "completed"
    },
    "tags": []
   },
   "source": [
    "#### 88. How to implement the Game of Life using numpy arrays? (★★★)"
   ]
  },
  {
   "cell_type": "code",
   "execution_count": null,
   "id": "0aefb1d9",
   "metadata": {
    "papermill": {
     "duration": 0.021384,
     "end_time": "2025-06-25T15:00:16.723087",
     "exception": false,
     "start_time": "2025-06-25T15:00:16.701703",
     "status": "completed"
    },
    "tags": []
   },
   "outputs": [],
   "source": []
  },
  {
   "cell_type": "markdown",
   "id": "e32aaab0",
   "metadata": {
    "papermill": {
     "duration": 0.022232,
     "end_time": "2025-06-25T15:00:16.766736",
     "exception": false,
     "start_time": "2025-06-25T15:00:16.744504",
     "status": "completed"
    },
    "tags": []
   },
   "source": [
    "#### 89. How to get the n largest values of an array (★★★)"
   ]
  },
  {
   "cell_type": "code",
   "execution_count": null,
   "id": "7d9cd8f5",
   "metadata": {
    "papermill": {
     "duration": 0.02108,
     "end_time": "2025-06-25T15:00:16.809136",
     "exception": false,
     "start_time": "2025-06-25T15:00:16.788056",
     "status": "completed"
    },
    "tags": []
   },
   "outputs": [],
   "source": []
  },
  {
   "cell_type": "markdown",
   "id": "6c601198",
   "metadata": {
    "papermill": {
     "duration": 0.021143,
     "end_time": "2025-06-25T15:00:16.851597",
     "exception": false,
     "start_time": "2025-06-25T15:00:16.830454",
     "status": "completed"
    },
    "tags": []
   },
   "source": [
    "#### 90. Given an arbitrary number of vectors, build the cartesian product (every combination of every item) (★★★)"
   ]
  },
  {
   "cell_type": "code",
   "execution_count": null,
   "id": "aa2bd8d2",
   "metadata": {
    "papermill": {
     "duration": 0.02107,
     "end_time": "2025-06-25T15:00:16.894086",
     "exception": false,
     "start_time": "2025-06-25T15:00:16.873016",
     "status": "completed"
    },
    "tags": []
   },
   "outputs": [],
   "source": []
  },
  {
   "cell_type": "markdown",
   "id": "66f17a8c",
   "metadata": {
    "papermill": {
     "duration": 0.020953,
     "end_time": "2025-06-25T15:00:16.936057",
     "exception": false,
     "start_time": "2025-06-25T15:00:16.915104",
     "status": "completed"
    },
    "tags": []
   },
   "source": [
    "#### 91. How to create a record array from a regular array? (★★★)"
   ]
  },
  {
   "cell_type": "code",
   "execution_count": null,
   "id": "5e4caa1d",
   "metadata": {
    "papermill": {
     "duration": 0.021024,
     "end_time": "2025-06-25T15:00:16.978318",
     "exception": false,
     "start_time": "2025-06-25T15:00:16.957294",
     "status": "completed"
    },
    "tags": []
   },
   "outputs": [],
   "source": []
  },
  {
   "cell_type": "markdown",
   "id": "a3fd41bc",
   "metadata": {
    "papermill": {
     "duration": 0.021252,
     "end_time": "2025-06-25T15:00:17.021002",
     "exception": false,
     "start_time": "2025-06-25T15:00:16.999750",
     "status": "completed"
    },
    "tags": []
   },
   "source": [
    "#### 92. Consider a large vector Z, compute Z to the power of 3 using 3 different methods (★★★)"
   ]
  },
  {
   "cell_type": "code",
   "execution_count": null,
   "id": "06e8e5d2",
   "metadata": {
    "papermill": {
     "duration": 0.021484,
     "end_time": "2025-06-25T15:00:17.063684",
     "exception": false,
     "start_time": "2025-06-25T15:00:17.042200",
     "status": "completed"
    },
    "tags": []
   },
   "outputs": [],
   "source": []
  },
  {
   "cell_type": "markdown",
   "id": "5b80a30d",
   "metadata": {
    "papermill": {
     "duration": 0.021408,
     "end_time": "2025-06-25T15:00:17.107686",
     "exception": false,
     "start_time": "2025-06-25T15:00:17.086278",
     "status": "completed"
    },
    "tags": []
   },
   "source": [
    "#### 93. Consider two arrays A and B of shape (8,3) and (2,2). How to find rows of A that contain elements of each row of B regardless of the order of the elements in B? (★★★)"
   ]
  },
  {
   "cell_type": "code",
   "execution_count": null,
   "id": "c4a1ad08",
   "metadata": {
    "papermill": {
     "duration": 0.021241,
     "end_time": "2025-06-25T15:00:17.150248",
     "exception": false,
     "start_time": "2025-06-25T15:00:17.129007",
     "status": "completed"
    },
    "tags": []
   },
   "outputs": [],
   "source": []
  },
  {
   "cell_type": "markdown",
   "id": "ec21180a",
   "metadata": {
    "papermill": {
     "duration": 0.021103,
     "end_time": "2025-06-25T15:00:17.192856",
     "exception": false,
     "start_time": "2025-06-25T15:00:17.171753",
     "status": "completed"
    },
    "tags": []
   },
   "source": [
    "#### 94. Considering a 10x3 matrix, extract rows with unequal values (e.g. [2,2,3]) (★★★)"
   ]
  },
  {
   "cell_type": "code",
   "execution_count": null,
   "id": "e760cf40",
   "metadata": {
    "papermill": {
     "duration": 0.021291,
     "end_time": "2025-06-25T15:00:17.235463",
     "exception": false,
     "start_time": "2025-06-25T15:00:17.214172",
     "status": "completed"
    },
    "tags": []
   },
   "outputs": [],
   "source": []
  },
  {
   "cell_type": "markdown",
   "id": "196feea5",
   "metadata": {
    "papermill": {
     "duration": 0.022198,
     "end_time": "2025-06-25T15:00:17.279646",
     "exception": false,
     "start_time": "2025-06-25T15:00:17.257448",
     "status": "completed"
    },
    "tags": []
   },
   "source": [
    "#### 95. Convert a vector of ints into a matrix binary representation (★★★)"
   ]
  },
  {
   "cell_type": "code",
   "execution_count": null,
   "id": "d10c5a49",
   "metadata": {
    "papermill": {
     "duration": 0.023654,
     "end_time": "2025-06-25T15:00:17.333365",
     "exception": false,
     "start_time": "2025-06-25T15:00:17.309711",
     "status": "completed"
    },
    "tags": []
   },
   "outputs": [],
   "source": []
  },
  {
   "cell_type": "markdown",
   "id": "79320687",
   "metadata": {
    "papermill": {
     "duration": 0.02144,
     "end_time": "2025-06-25T15:00:17.376293",
     "exception": false,
     "start_time": "2025-06-25T15:00:17.354853",
     "status": "completed"
    },
    "tags": []
   },
   "source": [
    "#### 96. Given a two dimensional array, how to extract unique rows? (★★★)"
   ]
  },
  {
   "cell_type": "code",
   "execution_count": null,
   "id": "548bb091",
   "metadata": {
    "papermill": {
     "duration": 0.021375,
     "end_time": "2025-06-25T15:00:17.419471",
     "exception": false,
     "start_time": "2025-06-25T15:00:17.398096",
     "status": "completed"
    },
    "tags": []
   },
   "outputs": [],
   "source": []
  },
  {
   "cell_type": "markdown",
   "id": "8fc54f55",
   "metadata": {
    "papermill": {
     "duration": 0.021811,
     "end_time": "2025-06-25T15:00:17.462712",
     "exception": false,
     "start_time": "2025-06-25T15:00:17.440901",
     "status": "completed"
    },
    "tags": []
   },
   "source": [
    "#### 97. Considering 2 vectors A & B, write the einsum equivalent of inner, outer, sum, and mul function (★★★)"
   ]
  },
  {
   "cell_type": "code",
   "execution_count": null,
   "id": "cede289e",
   "metadata": {
    "papermill": {
     "duration": 0.02203,
     "end_time": "2025-06-25T15:00:17.507708",
     "exception": false,
     "start_time": "2025-06-25T15:00:17.485678",
     "status": "completed"
    },
    "tags": []
   },
   "outputs": [],
   "source": []
  },
  {
   "cell_type": "markdown",
   "id": "334e233a",
   "metadata": {
    "papermill": {
     "duration": 0.021529,
     "end_time": "2025-06-25T15:00:17.550823",
     "exception": false,
     "start_time": "2025-06-25T15:00:17.529294",
     "status": "completed"
    },
    "tags": []
   },
   "source": [
    "#### 98. Considering a path described by two vectors (X,Y), how to sample it using equidistant samples (★★★)?"
   ]
  },
  {
   "cell_type": "code",
   "execution_count": null,
   "id": "b9f5e3a0",
   "metadata": {
    "papermill": {
     "duration": 0.021421,
     "end_time": "2025-06-25T15:00:17.594007",
     "exception": false,
     "start_time": "2025-06-25T15:00:17.572586",
     "status": "completed"
    },
    "tags": []
   },
   "outputs": [],
   "source": []
  },
  {
   "cell_type": "markdown",
   "id": "da58dcb1",
   "metadata": {
    "papermill": {
     "duration": 0.021215,
     "end_time": "2025-06-25T15:00:17.636696",
     "exception": false,
     "start_time": "2025-06-25T15:00:17.615481",
     "status": "completed"
    },
    "tags": []
   },
   "source": [
    "#### 99. Given an integer n and a 2D array X, select from X the rows which can be interpreted as draws from a multinomial distribution with n degrees, i.e., the rows which only contain integers and which sum to n. (★★★)"
   ]
  },
  {
   "cell_type": "code",
   "execution_count": null,
   "id": "12b2ec95",
   "metadata": {
    "papermill": {
     "duration": 0.021084,
     "end_time": "2025-06-25T15:00:17.679088",
     "exception": false,
     "start_time": "2025-06-25T15:00:17.658004",
     "status": "completed"
    },
    "tags": []
   },
   "outputs": [],
   "source": []
  },
  {
   "cell_type": "markdown",
   "id": "71d378ea",
   "metadata": {
    "papermill": {
     "duration": 0.021244,
     "end_time": "2025-06-25T15:00:17.722170",
     "exception": false,
     "start_time": "2025-06-25T15:00:17.700926",
     "status": "completed"
    },
    "tags": []
   },
   "source": [
    "#### 100. Compute bootstrapped 95% confidence intervals for the mean of a 1D array X (i.e., resample the elements of an array with replacement N times, compute the mean of each sample, and then compute percentiles over the means). (★★★)"
   ]
  },
  {
   "cell_type": "code",
   "execution_count": null,
   "id": "654a9be7",
   "metadata": {
    "papermill": {
     "duration": 0.021266,
     "end_time": "2025-06-25T15:00:17.765413",
     "exception": false,
     "start_time": "2025-06-25T15:00:17.744147",
     "status": "completed"
    },
    "tags": []
   },
   "outputs": [],
   "source": []
  }
 ],
 "metadata": {
  "kaggle": {
   "accelerator": "none",
   "dataSources": [],
   "dockerImageVersionId": 31040,
   "isGpuEnabled": false,
   "isInternetEnabled": true,
   "language": "python",
   "sourceType": "notebook"
  },
  "kernelspec": {
   "display_name": "Python 3",
   "language": "python",
   "name": "python3"
  },
  "language_info": {
   "codemirror_mode": {
    "name": "ipython",
    "version": 3
   },
   "file_extension": ".py",
   "mimetype": "text/x-python",
   "name": "python",
   "nbconvert_exporter": "python",
   "pygments_lexer": "ipython3",
   "version": "3.11.11"
  },
  "papermill": {
   "default_parameters": {},
   "duration": 13.839984,
   "end_time": "2025-06-25T15:00:18.205947",
   "environment_variables": {},
   "exception": null,
   "input_path": "__notebook__.ipynb",
   "output_path": "__notebook__.ipynb",
   "parameters": {},
   "start_time": "2025-06-25T15:00:04.365963",
   "version": "2.6.0"
  }
 },
 "nbformat": 4,
 "nbformat_minor": 5
}
