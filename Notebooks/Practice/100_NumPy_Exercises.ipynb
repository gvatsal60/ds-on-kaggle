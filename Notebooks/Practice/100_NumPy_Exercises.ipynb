{
  "cells": [
    {
      "cell_type": "markdown",
      "metadata": {},
      "source": "<a href=\"https://www.kaggle.com/code/gvatsal60/100-numpy-exercises?scriptVersionId=247341786\" target=\"_blank\"><img align=\"left\" alt=\"Kaggle\" title=\"Open in Kaggle\" src=\"https://kaggle.com/static/images/open-in-kaggle.svg\"></a>"
    },
    {
      "cell_type": "markdown",
      "id": "3fa0c93c",
      "metadata": {
        "papermill": {
          "duration": 0.023087,
          "end_time": "2025-06-25T16:07:39.57339",
          "exception": false,
          "start_time": "2025-06-25T16:07:39.550303",
          "status": "completed"
        },
        "tags": []
      },
      "source": [
        "# \ud83c\udfaf 100 NumPy Exercises\n",
        "\n",
        "Welcome to **100 NumPy Exercises** \u2014 a curated collection of problems designed to sharpen your skills in NumPy, whether you're a beginner or a seasoned data wrangler.\n",
        "\n",
        "---\n",
        "\n",
        "\ud83d\udccc **About This Collection**\n",
        "\n",
        "This set of exercises has been gathered from:\n",
        "- The **NumPy mailing list**\n",
        "- **Stack Overflow** discussions\n",
        "- The **official NumPy documentation**\n",
        "\n",
        "The primary goal is to serve as:\n",
        "- \ud83d\udcda A quick reference for both new and experienced users  \n",
        "- \ud83c\udf93 A practical toolkit for educators and learners\n",
        "\n",
        "---\n",
        "\n",
        "\ud83d\udcac **Suggestions or Corrections?**\n",
        "\n",
        "If you find an error or have a better solution, feel free to contribute!  \n",
        "\u27a1\ufe0f Open an issue here: [numpy-100 GitHub Issues](https://github.com/rougier/numpy-100/issues)\n",
        "\n",
        "---\n",
        "\n",
        "\ud83d\udcc4 **Credits and Licensing**\n",
        "\n",
        "Includes code and ideas derived from work by [Nicolas P. Rougier](https://github.com/rougier), \n",
        "used in accordance with the terms of the original [license](https://github.com/rougier/numpy-100/blob/master/LICENSE.txt).\n",
        "\n",
        "---\n",
        "\n",
        "\ud83e\udde0 **Ready to dive in?**  \n",
        "Let\u2019s explore the power of NumPy \u2014 one exercise at a time!\n"
      ]
    },
    {
      "cell_type": "markdown",
      "id": "007c43fa",
      "metadata": {
        "papermill": {
          "duration": 0.019476,
          "end_time": "2025-06-25T16:07:39.612931",
          "exception": false,
          "start_time": "2025-06-25T16:07:39.593455",
          "status": "completed"
        },
        "tags": []
      },
      "source": [
        "#### 1. Import the numpy package under the name `np` (\u2605\u2606\u2606)"
      ]
    },
    {
      "cell_type": "code",
      "execution_count": 1,
      "id": "f05fabe8",
      "metadata": {
        "execution": {
          "iopub.execute_input": "2025-06-25T16:07:39.653719Z",
          "iopub.status.busy": "2025-06-25T16:07:39.653413Z",
          "iopub.status.idle": "2025-06-25T16:07:39.660846Z",
          "shell.execute_reply": "2025-06-25T16:07:39.660176Z"
        },
        "papermill": {
          "duration": 0.02976,
          "end_time": "2025-06-25T16:07:39.662443",
          "exception": false,
          "start_time": "2025-06-25T16:07:39.632683",
          "status": "completed"
        },
        "tags": []
      },
      "outputs": [],
      "source": [
        "import numpy as np"
      ]
    },
    {
      "cell_type": "markdown",
      "id": "6071dba8",
      "metadata": {
        "papermill": {
          "duration": 0.020665,
          "end_time": "2025-06-25T16:07:39.703384",
          "exception": false,
          "start_time": "2025-06-25T16:07:39.682719",
          "status": "completed"
        },
        "tags": []
      },
      "source": [
        "#### 2. Print the numpy version and the configuration (\u2605\u2606\u2606)"
      ]
    },
    {
      "cell_type": "code",
      "execution_count": 2,
      "id": "76b547b0",
      "metadata": {
        "execution": {
          "iopub.execute_input": "2025-06-25T16:07:39.81022Z",
          "iopub.status.busy": "2025-06-25T16:07:39.809408Z",
          "iopub.status.idle": "2025-06-25T16:07:39.814615Z",
          "shell.execute_reply": "2025-06-25T16:07:39.813788Z"
        },
        "papermill": {
          "duration": 0.028477,
          "end_time": "2025-06-25T16:07:39.816151",
          "exception": false,
          "start_time": "2025-06-25T16:07:39.787674",
          "status": "completed"
        },
        "tags": []
      },
      "outputs": [
        {
          "name": "stdout",
          "output_type": "stream",
          "text": [
            "\u2605 NumPy Version: 1.26.4\n",
            "\u2606 NumPy Configuration:\n",
            "blas_armpl_info:\n",
            "  NOT AVAILABLE\n",
            "blas_mkl_info:\n",
            "    libraries = ['mkl_rt', 'pthread']\n",
            "    library_dirs = ['/home/sat_bot/base/conda-bld/numpy_and_dev_1715296241721/_h_env_placehold_placehold_placehold_placehold_placehold_placehold_placehold_placehold_placehold_placehold_placehold_placehold_placehold_placehold_placehold_placehold_placehold_placehold_placehold_p/lib']\n",
            "    define_macros = [('SCIPY_MKL_H', None), ('HAVE_CBLAS', None)]\n",
            "    include_dirs = ['/home/sat_bot/base/conda-bld/numpy_and_dev_1715296241721/_h_env_placehold_placehold_placehold_placehold_placehold_placehold_placehold_placehold_placehold_placehold_placehold_placehold_placehold_placehold_placehold_placehold_placehold_placehold_placehold_p/include']\n",
            "blas_opt_info:\n",
            "    libraries = ['mkl_rt', 'pthread']\n",
            "    library_dirs = ['/home/sat_bot/base/conda-bld/numpy_and_dev_1715296241721/_h_env_placehold_placehold_placehold_placehold_placehold_placehold_placehold_placehold_placehold_placehold_placehold_placehold_placehold_placehold_placehold_placehold_placehold_placehold_placehold_p/lib']\n",
            "    define_macros = [('SCIPY_MKL_H', None), ('HAVE_CBLAS', None)]\n",
            "    include_dirs = ['/home/sat_bot/base/conda-bld/numpy_and_dev_1715296241721/_h_env_placehold_placehold_placehold_placehold_placehold_placehold_placehold_placehold_placehold_placehold_placehold_placehold_placehold_placehold_placehold_placehold_placehold_placehold_placehold_p/include']\n",
            "lapack_armpl_info:\n",
            "  NOT AVAILABLE\n",
            "lapack_mkl_info:\n",
            "    libraries = ['mkl_rt', 'pthread']\n",
            "    library_dirs = ['/home/sat_bot/base/conda-bld/numpy_and_dev_1715296241721/_h_env_placehold_placehold_placehold_placehold_placehold_placehold_placehold_placehold_placehold_placehold_placehold_placehold_placehold_placehold_placehold_placehold_placehold_placehold_placehold_p/lib']\n",
            "    define_macros = [('SCIPY_MKL_H', None), ('HAVE_CBLAS', None)]\n",
            "    include_dirs = ['/home/sat_bot/base/conda-bld/numpy_and_dev_1715296241721/_h_env_placehold_placehold_placehold_placehold_placehold_placehold_placehold_placehold_placehold_placehold_placehold_placehold_placehold_placehold_placehold_placehold_placehold_placehold_placehold_p/include']\n",
            "lapack_opt_info:\n",
            "    libraries = ['mkl_rt', 'pthread']\n",
            "    library_dirs = ['/home/sat_bot/base/conda-bld/numpy_and_dev_1715296241721/_h_env_placehold_placehold_placehold_placehold_placehold_placehold_placehold_placehold_placehold_placehold_placehold_placehold_placehold_placehold_placehold_placehold_placehold_placehold_placehold_p/lib']\n",
            "    define_macros = [('SCIPY_MKL_H', None), ('HAVE_CBLAS', None)]\n",
            "    include_dirs = ['/home/sat_bot/base/conda-bld/numpy_and_dev_1715296241721/_h_env_placehold_placehold_placehold_placehold_placehold_placehold_placehold_placehold_placehold_placehold_placehold_placehold_placehold_placehold_placehold_placehold_placehold_placehold_placehold_p/include']\n",
            "Supported SIMD extensions in this NumPy install:\n",
            "    baseline = SSE,SSE2,SSE3\n",
            "    found = SSSE3,SSE41,POPCNT,SSE42,AVX,F16C,FMA3,AVX2\n",
            "    not found = AVX512F,AVX512CD,AVX512_KNL,AVX512_KNM,AVX512_SKX,AVX512_CLX,AVX512_CNL,AVX512_ICL,AVX512_SPR\n"
          ]
        }
      ],
      "source": [
        "print(\"\u2605 NumPy Version:\", np.__version__)\n",
        "print(\"\u2606 NumPy Configuration:\")\n",
        "np.show_config()"
      ]
    },
    {
      "cell_type": "markdown",
      "id": "1b72eeb3",
      "metadata": {
        "papermill": {
          "duration": 0.02009,
          "end_time": "2025-06-25T16:07:39.8572",
          "exception": false,
          "start_time": "2025-06-25T16:07:39.83711",
          "status": "completed"
        },
        "tags": []
      },
      "source": [
        "#### 3. Create a null vector of size 10 (\u2605\u2606\u2606)"
      ]
    },
    {
      "cell_type": "code",
      "execution_count": 3,
      "id": "18672401",
      "metadata": {
        "execution": {
          "iopub.execute_input": "2025-06-25T16:07:39.898476Z",
          "iopub.status.busy": "2025-06-25T16:07:39.898167Z",
          "iopub.status.idle": "2025-06-25T16:07:39.90503Z",
          "shell.execute_reply": "2025-06-25T16:07:39.904062Z"
        },
        "papermill": {
          "duration": 0.029202,
          "end_time": "2025-06-25T16:07:39.906488",
          "exception": false,
          "start_time": "2025-06-25T16:07:39.877286",
          "status": "completed"
        },
        "tags": []
      },
      "outputs": [
        {
          "data": {
            "text/plain": [
              "array([7.09284979e-316, 0.00000000e+000, 5.91308188e+016, 0.00000000e+000,\n",
              "       3.52255586e-312, 8.44852254e-322, 3.62018954e-306, 9.54169527e+107,\n",
              "       4.33288046e-306, 1.76858001e-312])"
            ]
          },
          "execution_count": 3,
          "metadata": {},
          "output_type": "execute_result"
        }
      ],
      "source": [
        "nullVec = np.empty(10)\n",
        "\n",
        "nullVec"
      ]
    },
    {
      "cell_type": "markdown",
      "id": "b94ef88f",
      "metadata": {
        "papermill": {
          "duration": 0.021081,
          "end_time": "2025-06-25T16:07:39.948145",
          "exception": false,
          "start_time": "2025-06-25T16:07:39.927064",
          "status": "completed"
        },
        "tags": []
      },
      "source": [
        "#### 4. How to find the memory size of any array (\u2605\u2606\u2606)"
      ]
    },
    {
      "cell_type": "code",
      "execution_count": 4,
      "id": "1efd92c3",
      "metadata": {
        "execution": {
          "iopub.execute_input": "2025-06-25T16:07:39.990047Z",
          "iopub.status.busy": "2025-06-25T16:07:39.989713Z",
          "iopub.status.idle": "2025-06-25T16:07:39.994559Z",
          "shell.execute_reply": "2025-06-25T16:07:39.993658Z"
        },
        "papermill": {
          "duration": 0.027471,
          "end_time": "2025-06-25T16:07:39.995908",
          "exception": false,
          "start_time": "2025-06-25T16:07:39.968437",
          "status": "completed"
        },
        "tags": []
      },
      "outputs": [
        {
          "name": "stdout",
          "output_type": "stream",
          "text": [
            "Null Vector Size: 10\n",
            "Null Vector ItemSize: 8\n"
          ]
        }
      ],
      "source": [
        "print(\"Null Vector Size:\", nullVec.size)\n",
        "print(\"Null Vector ItemSize:\", nullVec.itemsize)"
      ]
    },
    {
      "cell_type": "markdown",
      "id": "15b57689",
      "metadata": {
        "papermill": {
          "duration": 0.01995,
          "end_time": "2025-06-25T16:07:40.036794",
          "exception": false,
          "start_time": "2025-06-25T16:07:40.016844",
          "status": "completed"
        },
        "tags": []
      },
      "source": [
        "#### 5. How to get the documentation of the numpy add function from the command line? (\u2605\u2606\u2606)"
      ]
    },
    {
      "cell_type": "code",
      "execution_count": 5,
      "id": "105580be",
      "metadata": {
        "execution": {
          "iopub.execute_input": "2025-06-25T16:07:40.07803Z",
          "iopub.status.busy": "2025-06-25T16:07:40.077693Z",
          "iopub.status.idle": "2025-06-25T16:07:40.08273Z",
          "shell.execute_reply": "2025-06-25T16:07:40.08159Z"
        },
        "papermill": {
          "duration": 0.027521,
          "end_time": "2025-06-25T16:07:40.084239",
          "exception": false,
          "start_time": "2025-06-25T16:07:40.056718",
          "status": "completed"
        },
        "tags": []
      },
      "outputs": [
        {
          "name": "stdout",
          "output_type": "stream",
          "text": [
            "add(x1, x2, /, out=None, *, where=True, casting='same_kind', order='K', dtype=None, subok=True[, signature, extobj])\n",
            "\n",
            "Add arguments element-wise.\n",
            "\n",
            "Parameters\n",
            "----------\n",
            "x1, x2 : array_like\n",
            "    The arrays to be added.\n",
            "    If ``x1.shape != x2.shape``, they must be broadcastable to a common\n",
            "    shape (which becomes the shape of the output).\n",
            "out : ndarray, None, or tuple of ndarray and None, optional\n",
            "    A location into which the result is stored. If provided, it must have\n",
            "    a shape that the inputs broadcast to. If not provided or None,\n",
            "    a freshly-allocated array is returned. A tuple (possible only as a\n",
            "    keyword argument) must have length equal to the number of outputs.\n",
            "where : array_like, optional\n",
            "    This condition is broadcast over the input. At locations where the\n",
            "    condition is True, the `out` array will be set to the ufunc result.\n",
            "    Elsewhere, the `out` array will retain its original value.\n",
            "    Note that if an uninitialized `out` array is created via the default\n",
            "    ``out=None``, locations within it where the condition is False will\n",
            "    remain uninitialized.\n",
            "**kwargs\n",
            "    For other keyword-only arguments, see the\n",
            "    :ref:`ufunc docs <ufuncs.kwargs>`.\n",
            "\n",
            "Returns\n",
            "-------\n",
            "add : ndarray or scalar\n",
            "    The sum of `x1` and `x2`, element-wise.\n",
            "    This is a scalar if both `x1` and `x2` are scalars.\n",
            "\n",
            "Notes\n",
            "-----\n",
            "Equivalent to `x1` + `x2` in terms of array broadcasting.\n",
            "\n",
            "Examples\n",
            "--------\n",
            ">>> np.add(1.0, 4.0)\n",
            "5.0\n",
            ">>> x1 = np.arange(9.0).reshape((3, 3))\n",
            ">>> x2 = np.arange(3.0)\n",
            ">>> np.add(x1, x2)\n",
            "array([[  0.,   2.,   4.],\n",
            "       [  3.,   5.,   7.],\n",
            "       [  6.,   8.,  10.]])\n",
            "\n",
            "The ``+`` operator can be used as a shorthand for ``np.add`` on ndarrays.\n",
            "\n",
            ">>> x1 = np.arange(9.0).reshape((3, 3))\n",
            ">>> x2 = np.arange(3.0)\n",
            ">>> x1 + x2\n",
            "array([[ 0.,  2.,  4.],\n",
            "       [ 3.,  5.,  7.],\n",
            "       [ 6.,  8., 10.]])\n"
          ]
        }
      ],
      "source": [
        "# np.add?\n",
        "# print(np.info('add'))\n",
        "print(np.add.__doc__)"
      ]
    },
    {
      "cell_type": "markdown",
      "id": "a2329025",
      "metadata": {
        "papermill": {
          "duration": 0.019838,
          "end_time": "2025-06-25T16:07:40.124494",
          "exception": false,
          "start_time": "2025-06-25T16:07:40.104656",
          "status": "completed"
        },
        "tags": []
      },
      "source": [
        "#### 6. Create a null vector of size 10 but the fifth value which is 1 (\u2605\u2606\u2606)"
      ]
    },
    {
      "cell_type": "code",
      "execution_count": 6,
      "id": "8d5cb3ad",
      "metadata": {
        "execution": {
          "iopub.execute_input": "2025-06-25T16:07:40.16605Z",
          "iopub.status.busy": "2025-06-25T16:07:40.16571Z",
          "iopub.status.idle": "2025-06-25T16:07:40.17178Z",
          "shell.execute_reply": "2025-06-25T16:07:40.171017Z"
        },
        "papermill": {
          "duration": 0.028485,
          "end_time": "2025-06-25T16:07:40.173254",
          "exception": false,
          "start_time": "2025-06-25T16:07:40.144769",
          "status": "completed"
        },
        "tags": []
      },
      "outputs": [
        {
          "data": {
            "text/plain": [
              "array([7.09284979e-316, 0.00000000e+000, 5.91308188e+016, 0.00000000e+000,\n",
              "       1.00000000e+000, 8.44852254e-322, 3.62018954e-306, 9.54169527e+107,\n",
              "       4.33288046e-306, 1.76858001e-312])"
            ]
          },
          "execution_count": 6,
          "metadata": {},
          "output_type": "execute_result"
        }
      ],
      "source": [
        "nullVec = np.empty(10)\n",
        "nullVec[4] = 1\n",
        "\n",
        "nullVec"
      ]
    },
    {
      "cell_type": "markdown",
      "id": "d980e679",
      "metadata": {
        "papermill": {
          "duration": 0.020432,
          "end_time": "2025-06-25T16:07:40.2156",
          "exception": false,
          "start_time": "2025-06-25T16:07:40.195168",
          "status": "completed"
        },
        "tags": []
      },
      "source": [
        "#### 7. Create a vector with values ranging from 10 to 49 (\u2605\u2606\u2606)"
      ]
    },
    {
      "cell_type": "code",
      "execution_count": 7,
      "id": "9f33718d",
      "metadata": {
        "execution": {
          "iopub.execute_input": "2025-06-25T16:07:40.257262Z",
          "iopub.status.busy": "2025-06-25T16:07:40.256934Z",
          "iopub.status.idle": "2025-06-25T16:07:40.263647Z",
          "shell.execute_reply": "2025-06-25T16:07:40.263007Z"
        },
        "papermill": {
          "duration": 0.028986,
          "end_time": "2025-06-25T16:07:40.265021",
          "exception": false,
          "start_time": "2025-06-25T16:07:40.236035",
          "status": "completed"
        },
        "tags": []
      },
      "outputs": [
        {
          "data": {
            "text/plain": [
              "array([10, 11, 12, 13, 14, 15, 16, 17, 18, 19, 20, 21, 22, 23, 24, 25, 26,\n",
              "       27, 28, 29, 30, 31, 32, 33, 34, 35, 36, 37, 38, 39, 40, 41, 42, 43,\n",
              "       44, 45, 46, 47, 48, 49])"
            ]
          },
          "execution_count": 7,
          "metadata": {},
          "output_type": "execute_result"
        }
      ],
      "source": [
        "rangeVec = np.arange(10, 50)\n",
        "\n",
        "rangeVec"
      ]
    },
    {
      "cell_type": "markdown",
      "id": "ebf13823",
      "metadata": {
        "papermill": {
          "duration": 0.020475,
          "end_time": "2025-06-25T16:07:40.306792",
          "exception": false,
          "start_time": "2025-06-25T16:07:40.286317",
          "status": "completed"
        },
        "tags": []
      },
      "source": [
        "#### 8. Reverse a vector (first element becomes last) (\u2605\u2606\u2606)"
      ]
    },
    {
      "cell_type": "code",
      "execution_count": 8,
      "id": "55696b4b",
      "metadata": {
        "execution": {
          "iopub.execute_input": "2025-06-25T16:07:40.349133Z",
          "iopub.status.busy": "2025-06-25T16:07:40.348751Z",
          "iopub.status.idle": "2025-06-25T16:07:40.354684Z",
          "shell.execute_reply": "2025-06-25T16:07:40.353883Z"
        },
        "papermill": {
          "duration": 0.028983,
          "end_time": "2025-06-25T16:07:40.356233",
          "exception": false,
          "start_time": "2025-06-25T16:07:40.32725",
          "status": "completed"
        },
        "tags": []
      },
      "outputs": [
        {
          "data": {
            "text/plain": [
              "array([49, 48, 47, 46, 45, 44, 43, 42, 41, 40, 39, 38, 37, 36, 35, 34, 33,\n",
              "       32, 31, 30, 29, 28, 27, 26, 25, 24, 23, 22, 21, 20, 19, 18, 17, 16,\n",
              "       15, 14, 13, 12, 11, 10])"
            ]
          },
          "execution_count": 8,
          "metadata": {},
          "output_type": "execute_result"
        }
      ],
      "source": [
        "rangeVec[::-1]"
      ]
    },
    {
      "cell_type": "markdown",
      "id": "b9df85cb",
      "metadata": {
        "papermill": {
          "duration": 0.020817,
          "end_time": "2025-06-25T16:07:40.398008",
          "exception": false,
          "start_time": "2025-06-25T16:07:40.377191",
          "status": "completed"
        },
        "tags": []
      },
      "source": [
        "#### 9. Create a 3x3 matrix with values ranging from 0 to 8 (\u2605\u2606\u2606)"
      ]
    },
    {
      "cell_type": "code",
      "execution_count": 9,
      "id": "ec41abfb",
      "metadata": {
        "execution": {
          "iopub.execute_input": "2025-06-25T16:07:40.441583Z",
          "iopub.status.busy": "2025-06-25T16:07:40.440674Z",
          "iopub.status.idle": "2025-06-25T16:07:40.447169Z",
          "shell.execute_reply": "2025-06-25T16:07:40.446189Z"
        },
        "papermill": {
          "duration": 0.029681,
          "end_time": "2025-06-25T16:07:40.448632",
          "exception": false,
          "start_time": "2025-06-25T16:07:40.418951",
          "status": "completed"
        },
        "tags": []
      },
      "outputs": [
        {
          "data": {
            "text/plain": [
              "array([[0, 1, 2],\n",
              "       [3, 4, 5],\n",
              "       [6, 7, 8]])"
            ]
          },
          "execution_count": 9,
          "metadata": {},
          "output_type": "execute_result"
        }
      ],
      "source": [
        "matrix3x3 = np.arange(9).reshape((3, 3))\n",
        "\n",
        "matrix3x3"
      ]
    },
    {
      "cell_type": "markdown",
      "id": "0966d55c",
      "metadata": {
        "papermill": {
          "duration": 0.020936,
          "end_time": "2025-06-25T16:07:40.491661",
          "exception": false,
          "start_time": "2025-06-25T16:07:40.470725",
          "status": "completed"
        },
        "tags": []
      },
      "source": [
        "#### 10. Find indices of non-zero elements from [1,2,0,0,4,0] (\u2605\u2606\u2606)"
      ]
    },
    {
      "cell_type": "code",
      "execution_count": 10,
      "id": "23fcb993",
      "metadata": {
        "execution": {
          "iopub.execute_input": "2025-06-25T16:07:40.534397Z",
          "iopub.status.busy": "2025-06-25T16:07:40.534102Z",
          "iopub.status.idle": "2025-06-25T16:07:40.540386Z",
          "shell.execute_reply": "2025-06-25T16:07:40.539525Z"
        },
        "papermill": {
          "duration": 0.029389,
          "end_time": "2025-06-25T16:07:40.541768",
          "exception": false,
          "start_time": "2025-06-25T16:07:40.512379",
          "status": "completed"
        },
        "tags": []
      },
      "outputs": [
        {
          "data": {
            "text/plain": [
              "(array([0, 1, 4]),)"
            ]
          },
          "execution_count": 10,
          "metadata": {},
          "output_type": "execute_result"
        }
      ],
      "source": [
        "rawData = [1, 2, 0, 0, 4, 0]\n",
        "\n",
        "npArr = np.array(rawData)\n",
        "\n",
        "npArr.nonzero()"
      ]
    },
    {
      "cell_type": "markdown",
      "id": "606bba87",
      "metadata": {
        "papermill": {
          "duration": 0.020813,
          "end_time": "2025-06-25T16:07:40.583611",
          "exception": false,
          "start_time": "2025-06-25T16:07:40.562798",
          "status": "completed"
        },
        "tags": []
      },
      "source": [
        "#### 11. Create a 3x3 identity matrix (\u2605\u2606\u2606)"
      ]
    },
    {
      "cell_type": "code",
      "execution_count": 11,
      "id": "d22091c4",
      "metadata": {
        "execution": {
          "iopub.execute_input": "2025-06-25T16:07:40.626797Z",
          "iopub.status.busy": "2025-06-25T16:07:40.625908Z",
          "iopub.status.idle": "2025-06-25T16:07:40.632156Z",
          "shell.execute_reply": "2025-06-25T16:07:40.63129Z"
        },
        "papermill": {
          "duration": 0.029327,
          "end_time": "2025-06-25T16:07:40.633602",
          "exception": false,
          "start_time": "2025-06-25T16:07:40.604275",
          "status": "completed"
        },
        "tags": []
      },
      "outputs": [
        {
          "data": {
            "text/plain": [
              "array([[1., 0., 0.],\n",
              "       [0., 1., 0.],\n",
              "       [0., 0., 1.]])"
            ]
          },
          "execution_count": 11,
          "metadata": {},
          "output_type": "execute_result"
        }
      ],
      "source": [
        "idnMatrix = np.eye(3, 3)\n",
        "\n",
        "idnMatrix"
      ]
    },
    {
      "cell_type": "markdown",
      "id": "a020e152",
      "metadata": {
        "papermill": {
          "duration": 0.021429,
          "end_time": "2025-06-25T16:07:40.676104",
          "exception": false,
          "start_time": "2025-06-25T16:07:40.654675",
          "status": "completed"
        },
        "tags": []
      },
      "source": [
        "#### 12. Create a 3x3x3 array with random values (\u2605\u2606\u2606)"
      ]
    },
    {
      "cell_type": "code",
      "execution_count": 12,
      "id": "f2e32dcf",
      "metadata": {
        "execution": {
          "iopub.execute_input": "2025-06-25T16:07:40.721433Z",
          "iopub.status.busy": "2025-06-25T16:07:40.720595Z",
          "iopub.status.idle": "2025-06-25T16:07:40.727034Z",
          "shell.execute_reply": "2025-06-25T16:07:40.726216Z"
        },
        "papermill": {
          "duration": 0.030709,
          "end_time": "2025-06-25T16:07:40.728476",
          "exception": false,
          "start_time": "2025-06-25T16:07:40.697767",
          "status": "completed"
        },
        "tags": []
      },
      "outputs": [
        {
          "data": {
            "text/plain": [
              "array([[[0.32623102, 0.53267275, 0.8002305 ],\n",
              "        [0.91336489, 0.47315164, 0.70684095],\n",
              "        [0.88689905, 0.0065096 , 0.53273208]],\n",
              "\n",
              "       [[0.33175328, 0.1404149 , 0.2513632 ],\n",
              "        [0.44161733, 0.84806396, 0.89242779],\n",
              "        [0.42222414, 0.26670891, 0.75302847]],\n",
              "\n",
              "       [[0.33159915, 0.93272513, 0.01571707],\n",
              "        [0.62162873, 0.42586045, 0.23907434],\n",
              "        [0.14550543, 0.25978927, 0.967323  ]]])"
            ]
          },
          "execution_count": 12,
          "metadata": {},
          "output_type": "execute_result"
        }
      ],
      "source": [
        "rndmArr = np.random.rand(3, 3, 3)\n",
        "\n",
        "rndmArr"
      ]
    },
    {
      "cell_type": "markdown",
      "id": "cdbdcd73",
      "metadata": {
        "papermill": {
          "duration": 0.020883,
          "end_time": "2025-06-25T16:07:40.770571",
          "exception": false,
          "start_time": "2025-06-25T16:07:40.749688",
          "status": "completed"
        },
        "tags": []
      },
      "source": [
        "#### 13. Create a 10x10 array with random values and find the minimum and maximum values (\u2605\u2606\u2606)"
      ]
    },
    {
      "cell_type": "code",
      "execution_count": 13,
      "id": "53790488",
      "metadata": {
        "execution": {
          "iopub.execute_input": "2025-06-25T16:07:40.814431Z",
          "iopub.status.busy": "2025-06-25T16:07:40.813751Z",
          "iopub.status.idle": "2025-06-25T16:07:40.818803Z",
          "shell.execute_reply": "2025-06-25T16:07:40.817987Z"
        },
        "papermill": {
          "duration": 0.02811,
          "end_time": "2025-06-25T16:07:40.820117",
          "exception": false,
          "start_time": "2025-06-25T16:07:40.792007",
          "status": "completed"
        },
        "tags": []
      },
      "outputs": [
        {
          "name": "stdout",
          "output_type": "stream",
          "text": [
            "Min Val: 0.029285749373174297\n",
            "Max Val: 0.9674811328804762\n"
          ]
        }
      ],
      "source": [
        "rndmArr = np.random.rand(10, 10)\n",
        "\n",
        "rndmArr\n",
        "\n",
        "print(\"Min Val:\", rndmArr.min())\n",
        "print(\"Max Val:\", rndmArr.max())"
      ]
    },
    {
      "cell_type": "markdown",
      "id": "f5fbf25f",
      "metadata": {
        "papermill": {
          "duration": 0.020909,
          "end_time": "2025-06-25T16:07:40.862174",
          "exception": false,
          "start_time": "2025-06-25T16:07:40.841265",
          "status": "completed"
        },
        "tags": []
      },
      "source": [
        "#### 14. Create a random vector of size 30 and find the mean value (\u2605\u2606\u2606)"
      ]
    },
    {
      "cell_type": "code",
      "execution_count": 14,
      "id": "9d53d85c",
      "metadata": {
        "execution": {
          "iopub.execute_input": "2025-06-25T16:07:40.905198Z",
          "iopub.status.busy": "2025-06-25T16:07:40.904543Z",
          "iopub.status.idle": "2025-06-25T16:07:40.91012Z",
          "shell.execute_reply": "2025-06-25T16:07:40.90936Z"
        },
        "papermill": {
          "duration": 0.028472,
          "end_time": "2025-06-25T16:07:40.911531",
          "exception": false,
          "start_time": "2025-06-25T16:07:40.883059",
          "status": "completed"
        },
        "tags": []
      },
      "outputs": [
        {
          "data": {
            "text/plain": [
              "0.5067597763807625"
            ]
          },
          "execution_count": 14,
          "metadata": {},
          "output_type": "execute_result"
        }
      ],
      "source": [
        "rndmArr = np.random.rand(30)\n",
        "\n",
        "rndmArr.mean()"
      ]
    },
    {
      "cell_type": "markdown",
      "id": "2cecee9d",
      "metadata": {
        "papermill": {
          "duration": 0.021712,
          "end_time": "2025-06-25T16:07:40.955038",
          "exception": false,
          "start_time": "2025-06-25T16:07:40.933326",
          "status": "completed"
        },
        "tags": []
      },
      "source": [
        "#### 15. Create a 2d array with 1 on the border and 0 inside (\u2605\u2606\u2606)"
      ]
    },
    {
      "cell_type": "code",
      "execution_count": null,
      "id": "8a53b5bf",
      "metadata": {
        "papermill": {
          "duration": 0.020783,
          "end_time": "2025-06-25T16:07:40.997271",
          "exception": false,
          "start_time": "2025-06-25T16:07:40.976488",
          "status": "completed"
        },
        "tags": []
      },
      "outputs": [],
      "source": []
    },
    {
      "cell_type": "markdown",
      "id": "fcf24ac1",
      "metadata": {
        "papermill": {
          "duration": 0.021274,
          "end_time": "2025-06-25T16:07:41.039559",
          "exception": false,
          "start_time": "2025-06-25T16:07:41.018285",
          "status": "completed"
        },
        "tags": []
      },
      "source": [
        "#### 16. How to add a border (filled with 0's) around an existing array? (\u2605\u2606\u2606)"
      ]
    },
    {
      "cell_type": "code",
      "execution_count": null,
      "id": "5c56ddde",
      "metadata": {
        "papermill": {
          "duration": 0.02095,
          "end_time": "2025-06-25T16:07:41.081994",
          "exception": false,
          "start_time": "2025-06-25T16:07:41.061044",
          "status": "completed"
        },
        "tags": []
      },
      "outputs": [],
      "source": []
    },
    {
      "cell_type": "markdown",
      "id": "0ad2a461",
      "metadata": {
        "papermill": {
          "duration": 0.021112,
          "end_time": "2025-06-25T16:07:41.124589",
          "exception": false,
          "start_time": "2025-06-25T16:07:41.103477",
          "status": "completed"
        },
        "tags": []
      },
      "source": [
        "#### 17. What is the result of the following expression? (\u2605\u2606\u2606)\n",
        "```python\n",
        "0 * np.nan\n",
        "np.nan == np.nan\n",
        "np.inf > np.nan\n",
        "np.nan - np.nan\n",
        "np.nan in set([np.nan])\n",
        "0.3 == 3 * 0.1\n",
        "```"
      ]
    },
    {
      "cell_type": "code",
      "execution_count": 15,
      "id": "6d221341",
      "metadata": {
        "execution": {
          "iopub.execute_input": "2025-06-25T16:07:41.168593Z",
          "iopub.status.busy": "2025-06-25T16:07:41.168271Z",
          "iopub.status.idle": "2025-06-25T16:07:41.173989Z",
          "shell.execute_reply": "2025-06-25T16:07:41.173045Z"
        },
        "papermill": {
          "duration": 0.029625,
          "end_time": "2025-06-25T16:07:41.175464",
          "exception": false,
          "start_time": "2025-06-25T16:07:41.145839",
          "status": "completed"
        },
        "tags": []
      },
      "outputs": [
        {
          "name": "stdout",
          "output_type": "stream",
          "text": [
            "nan\n",
            "False\n",
            "False\n",
            "nan\n",
            "True\n",
            "False\n",
            "True\n"
          ]
        }
      ],
      "source": [
        "print(0 * np.nan)  # nan\n",
        "print(np.nan == np.nan)  # False\n",
        "print(np.inf > np.nan)  # False\n",
        "print(np.nan - np.nan)  # nan\n",
        "print(np.nan in set([np.nan]))  # True\n",
        "print(0.3 == 3 * 0.1)  # False\n",
        "print(0.3 == round(3 * 0.1, 1))  # True"
      ]
    },
    {
      "cell_type": "markdown",
      "id": "73a198ce",
      "metadata": {
        "papermill": {
          "duration": 0.021144,
          "end_time": "2025-06-25T16:07:41.219944",
          "exception": false,
          "start_time": "2025-06-25T16:07:41.1988",
          "status": "completed"
        },
        "tags": []
      },
      "source": [
        "#### 18. Create a 5x5 matrix with values 1,2,3,4 just below the diagonal (\u2605\u2606\u2606)"
      ]
    },
    {
      "cell_type": "code",
      "execution_count": null,
      "id": "b0421d3c",
      "metadata": {
        "papermill": {
          "duration": 0.02088,
          "end_time": "2025-06-25T16:07:41.262021",
          "exception": false,
          "start_time": "2025-06-25T16:07:41.241141",
          "status": "completed"
        },
        "tags": []
      },
      "outputs": [],
      "source": []
    },
    {
      "cell_type": "markdown",
      "id": "aa77f1fd",
      "metadata": {
        "papermill": {
          "duration": 0.021147,
          "end_time": "2025-06-25T16:07:41.304412",
          "exception": false,
          "start_time": "2025-06-25T16:07:41.283265",
          "status": "completed"
        },
        "tags": []
      },
      "source": [
        "#### 19. Create a 8x8 matrix and fill it with a checkerboard pattern (\u2605\u2606\u2606)"
      ]
    },
    {
      "cell_type": "code",
      "execution_count": null,
      "id": "77d2ad90",
      "metadata": {
        "papermill": {
          "duration": 0.020971,
          "end_time": "2025-06-25T16:07:41.346503",
          "exception": false,
          "start_time": "2025-06-25T16:07:41.325532",
          "status": "completed"
        },
        "tags": []
      },
      "outputs": [],
      "source": []
    },
    {
      "cell_type": "markdown",
      "id": "90aec63a",
      "metadata": {
        "papermill": {
          "duration": 0.021064,
          "end_time": "2025-06-25T16:07:41.388743",
          "exception": false,
          "start_time": "2025-06-25T16:07:41.367679",
          "status": "completed"
        },
        "tags": []
      },
      "source": [
        "#### 20. Consider a (6,7,8) shape array, what is the index (x,y,z) of the 100th element? (\u2605\u2606\u2606)"
      ]
    },
    {
      "cell_type": "code",
      "execution_count": null,
      "id": "de3101bf",
      "metadata": {
        "papermill": {
          "duration": 0.021133,
          "end_time": "2025-06-25T16:07:41.431015",
          "exception": false,
          "start_time": "2025-06-25T16:07:41.409882",
          "status": "completed"
        },
        "tags": []
      },
      "outputs": [],
      "source": []
    },
    {
      "cell_type": "markdown",
      "id": "98a63bb8",
      "metadata": {
        "papermill": {
          "duration": 0.021041,
          "end_time": "2025-06-25T16:07:41.473264",
          "exception": false,
          "start_time": "2025-06-25T16:07:41.452223",
          "status": "completed"
        },
        "tags": []
      },
      "source": [
        "#### 21. Create a checkerboard 8x8 matrix using the tile function (\u2605\u2606\u2606)"
      ]
    },
    {
      "cell_type": "code",
      "execution_count": null,
      "id": "1585b76f",
      "metadata": {
        "papermill": {
          "duration": 0.021226,
          "end_time": "2025-06-25T16:07:41.516147",
          "exception": false,
          "start_time": "2025-06-25T16:07:41.494921",
          "status": "completed"
        },
        "tags": []
      },
      "outputs": [],
      "source": []
    },
    {
      "cell_type": "markdown",
      "id": "a4085461",
      "metadata": {
        "papermill": {
          "duration": 0.021531,
          "end_time": "2025-06-25T16:07:41.559258",
          "exception": false,
          "start_time": "2025-06-25T16:07:41.537727",
          "status": "completed"
        },
        "tags": []
      },
      "source": [
        "#### 22. Normalize a 5x5 random matrix (\u2605\u2606\u2606)"
      ]
    },
    {
      "cell_type": "code",
      "execution_count": null,
      "id": "b307c0ae",
      "metadata": {
        "papermill": {
          "duration": 0.020971,
          "end_time": "2025-06-25T16:07:41.60159",
          "exception": false,
          "start_time": "2025-06-25T16:07:41.580619",
          "status": "completed"
        },
        "tags": []
      },
      "outputs": [],
      "source": []
    },
    {
      "cell_type": "markdown",
      "id": "f3b86fb7",
      "metadata": {
        "papermill": {
          "duration": 0.021009,
          "end_time": "2025-06-25T16:07:41.643749",
          "exception": false,
          "start_time": "2025-06-25T16:07:41.62274",
          "status": "completed"
        },
        "tags": []
      },
      "source": [
        "#### 23. Create a custom dtype that describes a color as four unsigned bytes (RGBA) (\u2605\u2606\u2606)"
      ]
    },
    {
      "cell_type": "code",
      "execution_count": null,
      "id": "30519d09",
      "metadata": {
        "papermill": {
          "duration": 0.020995,
          "end_time": "2025-06-25T16:07:41.686287",
          "exception": false,
          "start_time": "2025-06-25T16:07:41.665292",
          "status": "completed"
        },
        "tags": []
      },
      "outputs": [],
      "source": []
    },
    {
      "cell_type": "markdown",
      "id": "125fb58b",
      "metadata": {
        "papermill": {
          "duration": 0.021733,
          "end_time": "2025-06-25T16:07:41.729303",
          "exception": false,
          "start_time": "2025-06-25T16:07:41.70757",
          "status": "completed"
        },
        "tags": []
      },
      "source": [
        "#### 24. Multiply a 5x3 matrix by a 3x2 matrix (real matrix product) (\u2605\u2606\u2606)"
      ]
    },
    {
      "cell_type": "code",
      "execution_count": 16,
      "id": "1701027c",
      "metadata": {
        "execution": {
          "iopub.execute_input": "2025-06-25T16:07:41.77333Z",
          "iopub.status.busy": "2025-06-25T16:07:41.773016Z",
          "iopub.status.idle": "2025-06-25T16:07:41.789072Z",
          "shell.execute_reply": "2025-06-25T16:07:41.788218Z"
        },
        "papermill": {
          "duration": 0.039909,
          "end_time": "2025-06-25T16:07:41.790541",
          "exception": false,
          "start_time": "2025-06-25T16:07:41.750632",
          "status": "completed"
        },
        "tags": []
      },
      "outputs": [
        {
          "data": {
            "text/plain": [
              "array([[0.30570594, 0.97085072],\n",
              "       [0.49561742, 0.95372245],\n",
              "       [0.36381753, 0.99333913],\n",
              "       [0.52061896, 0.60252221],\n",
              "       [0.93855538, 1.65009816]])"
            ]
          },
          "execution_count": 16,
          "metadata": {},
          "output_type": "execute_result"
        }
      ],
      "source": [
        "m1 = np.random.rand(5, 3)\n",
        "m2 = np.random.rand(3, 2)\n",
        "\n",
        "m1.dot(m2)"
      ]
    },
    {
      "cell_type": "markdown",
      "id": "d51ea8a6",
      "metadata": {
        "papermill": {
          "duration": 0.02121,
          "end_time": "2025-06-25T16:07:41.833805",
          "exception": false,
          "start_time": "2025-06-25T16:07:41.812595",
          "status": "completed"
        },
        "tags": []
      },
      "source": [
        "#### 25. Given a 1D array, negate all elements which are between 3 and 8, in place. (\u2605\u2606\u2606)"
      ]
    },
    {
      "cell_type": "code",
      "execution_count": null,
      "id": "26151fc1",
      "metadata": {
        "papermill": {
          "duration": 0.021267,
          "end_time": "2025-06-25T16:07:41.876517",
          "exception": false,
          "start_time": "2025-06-25T16:07:41.85525",
          "status": "completed"
        },
        "tags": []
      },
      "outputs": [],
      "source": []
    },
    {
      "cell_type": "markdown",
      "id": "5d09d5f7",
      "metadata": {
        "papermill": {
          "duration": 0.021446,
          "end_time": "2025-06-25T16:07:41.920065",
          "exception": false,
          "start_time": "2025-06-25T16:07:41.898619",
          "status": "completed"
        },
        "tags": []
      },
      "source": [
        "#### 26. What is the output of the following script? (\u2605\u2606\u2606)\n",
        "```python\n",
        "# Author: Jake VanderPlas\n",
        "\n",
        "print(sum(range(5),-1))\n",
        "from numpy import *\n",
        "print(sum(range(5),-1))\n",
        "```"
      ]
    },
    {
      "cell_type": "code",
      "execution_count": 17,
      "id": "d7ddbf21",
      "metadata": {
        "execution": {
          "iopub.execute_input": "2025-06-25T16:07:41.964905Z",
          "iopub.status.busy": "2025-06-25T16:07:41.963964Z",
          "iopub.status.idle": "2025-06-25T16:07:41.970581Z",
          "shell.execute_reply": "2025-06-25T16:07:41.969697Z"
        },
        "papermill": {
          "duration": 0.03083,
          "end_time": "2025-06-25T16:07:41.972036",
          "exception": false,
          "start_time": "2025-06-25T16:07:41.941206",
          "status": "completed"
        },
        "tags": []
      },
      "outputs": [
        {
          "name": "stdout",
          "output_type": "stream",
          "text": [
            "9\n",
            "10\n"
          ]
        }
      ],
      "source": [
        "print(sum(range(5), -1))  # 9\n",
        "from numpy import sum\n",
        "\n",
        "print(sum(range(5), -1))  # 10 (axis = -1)"
      ]
    },
    {
      "cell_type": "markdown",
      "id": "12000559",
      "metadata": {
        "papermill": {
          "duration": 0.021253,
          "end_time": "2025-06-25T16:07:42.014845",
          "exception": false,
          "start_time": "2025-06-25T16:07:41.993592",
          "status": "completed"
        },
        "tags": []
      },
      "source": [
        "#### 27. Consider an integer vector Z, which of these expressions are legal? (\u2605\u2606\u2606)\n",
        "```python\n",
        "Z**Z\n",
        "2 << Z >> 2\n",
        "Z <- Z\n",
        "1j*Z\n",
        "Z/1/1\n",
        "Z<Z>Z\n",
        "```"
      ]
    },
    {
      "cell_type": "code",
      "execution_count": null,
      "id": "50eb66f2",
      "metadata": {
        "papermill": {
          "duration": 0.020733,
          "end_time": "2025-06-25T16:07:42.056793",
          "exception": false,
          "start_time": "2025-06-25T16:07:42.03606",
          "status": "completed"
        },
        "tags": []
      },
      "outputs": [],
      "source": []
    },
    {
      "cell_type": "markdown",
      "id": "9e36eb9a",
      "metadata": {
        "papermill": {
          "duration": 0.021951,
          "end_time": "2025-06-25T16:07:42.100052",
          "exception": false,
          "start_time": "2025-06-25T16:07:42.078101",
          "status": "completed"
        },
        "tags": []
      },
      "source": [
        "#### 28. What are the result of the following expressions? (\u2605\u2606\u2606)\n",
        "```python\n",
        "np.array(0) / np.array(0)\n",
        "np.array(0) // np.array(0)\n",
        "np.array([np.nan]).astype(int).astype(float)\n",
        "```"
      ]
    },
    {
      "cell_type": "code",
      "execution_count": 18,
      "id": "18e3ce3b",
      "metadata": {
        "execution": {
          "iopub.execute_input": "2025-06-25T16:07:42.144171Z",
          "iopub.status.busy": "2025-06-25T16:07:42.143835Z",
          "iopub.status.idle": "2025-06-25T16:07:42.149661Z",
          "shell.execute_reply": "2025-06-25T16:07:42.148759Z"
        },
        "papermill": {
          "duration": 0.029496,
          "end_time": "2025-06-25T16:07:42.151161",
          "exception": false,
          "start_time": "2025-06-25T16:07:42.121665",
          "status": "completed"
        },
        "tags": []
      },
      "outputs": [
        {
          "name": "stdout",
          "output_type": "stream",
          "text": [
            "nan\n",
            "0\n",
            "[-9.22337204e+18]\n"
          ]
        },
        {
          "name": "stderr",
          "output_type": "stream",
          "text": [
            "/tmp/ipykernel_20/2670329950.py:1: RuntimeWarning: invalid value encountered in divide\n",
            "  print(np.array(0) / np.array(0))  # nan\n",
            "/tmp/ipykernel_20/2670329950.py:2: RuntimeWarning: divide by zero encountered in floor_divide\n",
            "  print(np.array(0) // np.array(0))  # 0\n",
            "/tmp/ipykernel_20/2670329950.py:3: RuntimeWarning: invalid value encountered in cast\n",
            "  print(np.array([np.nan]).astype(int).astype(float))  # [-9.22337204e+18]\n"
          ]
        }
      ],
      "source": [
        "print(np.array(0) / np.array(0))  # nan\n",
        "print(np.array(0) // np.array(0))  # 0\n",
        "print(np.array([np.nan]).astype(int).astype(float))  # [-9.22337204e+18]"
      ]
    },
    {
      "cell_type": "markdown",
      "id": "756069db",
      "metadata": {
        "papermill": {
          "duration": 0.023436,
          "end_time": "2025-06-25T16:07:42.197475",
          "exception": false,
          "start_time": "2025-06-25T16:07:42.174039",
          "status": "completed"
        },
        "tags": []
      },
      "source": [
        "#### 29. How to round away from zero a float array ? (\u2605\u2606\u2606)"
      ]
    },
    {
      "cell_type": "code",
      "execution_count": null,
      "id": "856213d5",
      "metadata": {
        "papermill": {
          "duration": 0.022008,
          "end_time": "2025-06-25T16:07:42.242087",
          "exception": false,
          "start_time": "2025-06-25T16:07:42.220079",
          "status": "completed"
        },
        "tags": []
      },
      "outputs": [],
      "source": []
    },
    {
      "cell_type": "markdown",
      "id": "78b5362f",
      "metadata": {
        "papermill": {
          "duration": 0.022341,
          "end_time": "2025-06-25T16:07:42.286594",
          "exception": false,
          "start_time": "2025-06-25T16:07:42.264253",
          "status": "completed"
        },
        "tags": []
      },
      "source": [
        "#### 30. How to find common values between two arrays? (\u2605\u2606\u2606)"
      ]
    },
    {
      "cell_type": "code",
      "execution_count": null,
      "id": "772fdb6a",
      "metadata": {
        "papermill": {
          "duration": 0.021833,
          "end_time": "2025-06-25T16:07:42.331053",
          "exception": false,
          "start_time": "2025-06-25T16:07:42.30922",
          "status": "completed"
        },
        "tags": []
      },
      "outputs": [],
      "source": []
    },
    {
      "cell_type": "markdown",
      "id": "7c79ef31",
      "metadata": {
        "papermill": {
          "duration": 0.021452,
          "end_time": "2025-06-25T16:07:42.374269",
          "exception": false,
          "start_time": "2025-06-25T16:07:42.352817",
          "status": "completed"
        },
        "tags": []
      },
      "source": [
        "#### 31. How to ignore all numpy warnings (not recommended)? (\u2605\u2606\u2606)"
      ]
    },
    {
      "cell_type": "code",
      "execution_count": 19,
      "id": "d3e3cf4b",
      "metadata": {
        "execution": {
          "iopub.execute_input": "2025-06-25T16:07:42.41979Z",
          "iopub.status.busy": "2025-06-25T16:07:42.419015Z",
          "iopub.status.idle": "2025-06-25T16:07:42.424801Z",
          "shell.execute_reply": "2025-06-25T16:07:42.423819Z"
        },
        "papermill": {
          "duration": 0.029837,
          "end_time": "2025-06-25T16:07:42.426213",
          "exception": false,
          "start_time": "2025-06-25T16:07:42.396376",
          "status": "completed"
        },
        "tags": []
      },
      "outputs": [
        {
          "data": {
            "text/plain": [
              "{'divide': 'warn', 'over': 'warn', 'under': 'ignore', 'invalid': 'warn'}"
            ]
          },
          "execution_count": 19,
          "metadata": {},
          "output_type": "execute_result"
        }
      ],
      "source": [
        "np.seterr(all=\"ignore\")"
      ]
    },
    {
      "cell_type": "markdown",
      "id": "134469d4",
      "metadata": {
        "papermill": {
          "duration": 0.023029,
          "end_time": "2025-06-25T16:07:42.471608",
          "exception": false,
          "start_time": "2025-06-25T16:07:42.448579",
          "status": "completed"
        },
        "tags": []
      },
      "source": [
        "#### 32. Is the following expressions true? (\u2605\u2606\u2606)\n",
        "```python\n",
        "np.sqrt(-1) == np.emath.sqrt(-1)\n",
        "```"
      ]
    },
    {
      "cell_type": "code",
      "execution_count": 20,
      "id": "52550daf",
      "metadata": {
        "execution": {
          "iopub.execute_input": "2025-06-25T16:07:42.517927Z",
          "iopub.status.busy": "2025-06-25T16:07:42.517641Z",
          "iopub.status.idle": "2025-06-25T16:07:42.525091Z",
          "shell.execute_reply": "2025-06-25T16:07:42.524342Z"
        },
        "papermill": {
          "duration": 0.032238,
          "end_time": "2025-06-25T16:07:42.526538",
          "exception": false,
          "start_time": "2025-06-25T16:07:42.4943",
          "status": "completed"
        },
        "tags": []
      },
      "outputs": [
        {
          "data": {
            "text/plain": [
              "False"
            ]
          },
          "execution_count": 20,
          "metadata": {},
          "output_type": "execute_result"
        }
      ],
      "source": [
        "np.sqrt(-1) == np.emath.sqrt(-1)  # False"
      ]
    },
    {
      "cell_type": "markdown",
      "id": "8b27ca96",
      "metadata": {
        "papermill": {
          "duration": 0.021775,
          "end_time": "2025-06-25T16:07:42.570572",
          "exception": false,
          "start_time": "2025-06-25T16:07:42.548797",
          "status": "completed"
        },
        "tags": []
      },
      "source": [
        "#### 33. How to get the dates of yesterday, today and tomorrow? (\u2605\u2606\u2606)"
      ]
    },
    {
      "cell_type": "code",
      "execution_count": null,
      "id": "9553e629",
      "metadata": {
        "papermill": {
          "duration": 0.021341,
          "end_time": "2025-06-25T16:07:42.613869",
          "exception": false,
          "start_time": "2025-06-25T16:07:42.592528",
          "status": "completed"
        },
        "tags": []
      },
      "outputs": [],
      "source": []
    },
    {
      "cell_type": "markdown",
      "id": "ee009014",
      "metadata": {
        "papermill": {
          "duration": 0.021798,
          "end_time": "2025-06-25T16:07:42.65748",
          "exception": false,
          "start_time": "2025-06-25T16:07:42.635682",
          "status": "completed"
        },
        "tags": []
      },
      "source": [
        "#### 34. How to get all the dates corresponding to the month of July 2016? (\u2605\u2605\u2606)"
      ]
    },
    {
      "cell_type": "code",
      "execution_count": null,
      "id": "c9120351",
      "metadata": {
        "papermill": {
          "duration": 0.021838,
          "end_time": "2025-06-25T16:07:42.701392",
          "exception": false,
          "start_time": "2025-06-25T16:07:42.679554",
          "status": "completed"
        },
        "tags": []
      },
      "outputs": [],
      "source": []
    },
    {
      "cell_type": "markdown",
      "id": "b7f46db2",
      "metadata": {
        "papermill": {
          "duration": 0.021348,
          "end_time": "2025-06-25T16:07:42.744659",
          "exception": false,
          "start_time": "2025-06-25T16:07:42.723311",
          "status": "completed"
        },
        "tags": []
      },
      "source": [
        "#### 35. How to compute ((A+B)*(-A/2)) in place (without copy)? (\u2605\u2605\u2606)"
      ]
    },
    {
      "cell_type": "code",
      "execution_count": null,
      "id": "9962e36f",
      "metadata": {
        "papermill": {
          "duration": 0.021334,
          "end_time": "2025-06-25T16:07:42.787496",
          "exception": false,
          "start_time": "2025-06-25T16:07:42.766162",
          "status": "completed"
        },
        "tags": []
      },
      "outputs": [],
      "source": []
    },
    {
      "cell_type": "markdown",
      "id": "a84df403",
      "metadata": {
        "papermill": {
          "duration": 0.022958,
          "end_time": "2025-06-25T16:07:42.832196",
          "exception": false,
          "start_time": "2025-06-25T16:07:42.809238",
          "status": "completed"
        },
        "tags": []
      },
      "source": [
        "#### 36. Extract the integer part of a random array of positive numbers using 4 different methods (\u2605\u2605\u2606)"
      ]
    },
    {
      "cell_type": "code",
      "execution_count": null,
      "id": "315a5922",
      "metadata": {
        "papermill": {
          "duration": 0.021392,
          "end_time": "2025-06-25T16:07:42.875292",
          "exception": false,
          "start_time": "2025-06-25T16:07:42.8539",
          "status": "completed"
        },
        "tags": []
      },
      "outputs": [],
      "source": []
    },
    {
      "cell_type": "markdown",
      "id": "7c73a50e",
      "metadata": {
        "papermill": {
          "duration": 0.021893,
          "end_time": "2025-06-25T16:07:42.919132",
          "exception": false,
          "start_time": "2025-06-25T16:07:42.897239",
          "status": "completed"
        },
        "tags": []
      },
      "source": [
        "#### 37. Create a 5x5 matrix with row values ranging from 0 to 4 (\u2605\u2605\u2606)"
      ]
    },
    {
      "cell_type": "code",
      "execution_count": null,
      "id": "37aff311",
      "metadata": {
        "papermill": {
          "duration": 0.021676,
          "end_time": "2025-06-25T16:07:42.963028",
          "exception": false,
          "start_time": "2025-06-25T16:07:42.941352",
          "status": "completed"
        },
        "tags": []
      },
      "outputs": [],
      "source": []
    },
    {
      "cell_type": "markdown",
      "id": "b149e131",
      "metadata": {
        "papermill": {
          "duration": 0.021839,
          "end_time": "2025-06-25T16:07:43.007169",
          "exception": false,
          "start_time": "2025-06-25T16:07:42.98533",
          "status": "completed"
        },
        "tags": []
      },
      "source": [
        "#### 38. Consider a generator function that generates 10 integers and use it to build an array (\u2605\u2606\u2606)"
      ]
    },
    {
      "cell_type": "code",
      "execution_count": null,
      "id": "2b707006",
      "metadata": {
        "papermill": {
          "duration": 0.02142,
          "end_time": "2025-06-25T16:07:43.05045",
          "exception": false,
          "start_time": "2025-06-25T16:07:43.02903",
          "status": "completed"
        },
        "tags": []
      },
      "outputs": [],
      "source": []
    },
    {
      "cell_type": "markdown",
      "id": "67833437",
      "metadata": {
        "papermill": {
          "duration": 0.021492,
          "end_time": "2025-06-25T16:07:43.093675",
          "exception": false,
          "start_time": "2025-06-25T16:07:43.072183",
          "status": "completed"
        },
        "tags": []
      },
      "source": [
        "#### 39. Create a vector of size 10 with values ranging from 0 to 1, both excluded (\u2605\u2605\u2606)"
      ]
    },
    {
      "cell_type": "code",
      "execution_count": null,
      "id": "878b134e",
      "metadata": {
        "papermill": {
          "duration": 0.021706,
          "end_time": "2025-06-25T16:07:43.137119",
          "exception": false,
          "start_time": "2025-06-25T16:07:43.115413",
          "status": "completed"
        },
        "tags": []
      },
      "outputs": [],
      "source": []
    },
    {
      "cell_type": "markdown",
      "id": "14547e9b",
      "metadata": {
        "papermill": {
          "duration": 0.021522,
          "end_time": "2025-06-25T16:07:43.180433",
          "exception": false,
          "start_time": "2025-06-25T16:07:43.158911",
          "status": "completed"
        },
        "tags": []
      },
      "source": [
        "#### 40. Create a random vector of size 10 and sort it (\u2605\u2605\u2606)"
      ]
    },
    {
      "cell_type": "code",
      "execution_count": null,
      "id": "84d23b8b",
      "metadata": {
        "papermill": {
          "duration": 0.021243,
          "end_time": "2025-06-25T16:07:43.224955",
          "exception": false,
          "start_time": "2025-06-25T16:07:43.203712",
          "status": "completed"
        },
        "tags": []
      },
      "outputs": [],
      "source": []
    },
    {
      "cell_type": "markdown",
      "id": "517d3faa",
      "metadata": {
        "papermill": {
          "duration": 0.021451,
          "end_time": "2025-06-25T16:07:43.268246",
          "exception": false,
          "start_time": "2025-06-25T16:07:43.246795",
          "status": "completed"
        },
        "tags": []
      },
      "source": [
        "#### 41. How to sum a small array faster than np.sum? (\u2605\u2605\u2606)"
      ]
    },
    {
      "cell_type": "code",
      "execution_count": null,
      "id": "bbf8b7a0",
      "metadata": {
        "papermill": {
          "duration": 0.021455,
          "end_time": "2025-06-25T16:07:43.311575",
          "exception": false,
          "start_time": "2025-06-25T16:07:43.29012",
          "status": "completed"
        },
        "tags": []
      },
      "outputs": [],
      "source": []
    },
    {
      "cell_type": "markdown",
      "id": "d8f52874",
      "metadata": {
        "papermill": {
          "duration": 0.021451,
          "end_time": "2025-06-25T16:07:43.354727",
          "exception": false,
          "start_time": "2025-06-25T16:07:43.333276",
          "status": "completed"
        },
        "tags": []
      },
      "source": [
        "#### 42. Consider two random arrays A and B, check if they are equal (\u2605\u2605\u2606)"
      ]
    },
    {
      "cell_type": "code",
      "execution_count": null,
      "id": "3c799e45",
      "metadata": {
        "papermill": {
          "duration": 0.021311,
          "end_time": "2025-06-25T16:07:43.3979",
          "exception": false,
          "start_time": "2025-06-25T16:07:43.376589",
          "status": "completed"
        },
        "tags": []
      },
      "outputs": [],
      "source": []
    },
    {
      "cell_type": "markdown",
      "id": "2ce525b1",
      "metadata": {
        "papermill": {
          "duration": 0.021581,
          "end_time": "2025-06-25T16:07:43.441225",
          "exception": false,
          "start_time": "2025-06-25T16:07:43.419644",
          "status": "completed"
        },
        "tags": []
      },
      "source": [
        "#### 43. Make an array immutable (read-only) (\u2605\u2605\u2606)"
      ]
    },
    {
      "cell_type": "code",
      "execution_count": null,
      "id": "1bab8360",
      "metadata": {
        "papermill": {
          "duration": 0.02172,
          "end_time": "2025-06-25T16:07:43.484623",
          "exception": false,
          "start_time": "2025-06-25T16:07:43.462903",
          "status": "completed"
        },
        "tags": []
      },
      "outputs": [],
      "source": []
    },
    {
      "cell_type": "markdown",
      "id": "48052992",
      "metadata": {
        "papermill": {
          "duration": 0.021625,
          "end_time": "2025-06-25T16:07:43.528031",
          "exception": false,
          "start_time": "2025-06-25T16:07:43.506406",
          "status": "completed"
        },
        "tags": []
      },
      "source": [
        "#### 44. Consider a random 10x2 matrix representing cartesian coordinates, convert them to polar coordinates (\u2605\u2605\u2606)"
      ]
    },
    {
      "cell_type": "code",
      "execution_count": null,
      "id": "90f30d51",
      "metadata": {
        "papermill": {
          "duration": 0.021484,
          "end_time": "2025-06-25T16:07:43.572108",
          "exception": false,
          "start_time": "2025-06-25T16:07:43.550624",
          "status": "completed"
        },
        "tags": []
      },
      "outputs": [],
      "source": []
    },
    {
      "cell_type": "markdown",
      "id": "640307ac",
      "metadata": {
        "papermill": {
          "duration": 0.021434,
          "end_time": "2025-06-25T16:07:43.615099",
          "exception": false,
          "start_time": "2025-06-25T16:07:43.593665",
          "status": "completed"
        },
        "tags": []
      },
      "source": [
        "#### 45. Create random vector of size 10 and replace the maximum value by 0 (\u2605\u2605\u2606)"
      ]
    },
    {
      "cell_type": "code",
      "execution_count": null,
      "id": "1fd38f2c",
      "metadata": {
        "papermill": {
          "duration": 0.021679,
          "end_time": "2025-06-25T16:07:43.658736",
          "exception": false,
          "start_time": "2025-06-25T16:07:43.637057",
          "status": "completed"
        },
        "tags": []
      },
      "outputs": [],
      "source": []
    },
    {
      "cell_type": "markdown",
      "id": "cf1ccedd",
      "metadata": {
        "papermill": {
          "duration": 0.021352,
          "end_time": "2025-06-25T16:07:43.701734",
          "exception": false,
          "start_time": "2025-06-25T16:07:43.680382",
          "status": "completed"
        },
        "tags": []
      },
      "source": [
        "#### 46. Create a structured array with `x` and `y` coordinates covering the [0,1]x[0,1] area (\u2605\u2605\u2606)"
      ]
    },
    {
      "cell_type": "code",
      "execution_count": null,
      "id": "319162e6",
      "metadata": {
        "papermill": {
          "duration": 0.022648,
          "end_time": "2025-06-25T16:07:43.807136",
          "exception": false,
          "start_time": "2025-06-25T16:07:43.784488",
          "status": "completed"
        },
        "tags": []
      },
      "outputs": [],
      "source": []
    },
    {
      "cell_type": "markdown",
      "id": "b089cab5",
      "metadata": {
        "papermill": {
          "duration": 0.021501,
          "end_time": "2025-06-25T16:07:43.850276",
          "exception": false,
          "start_time": "2025-06-25T16:07:43.828775",
          "status": "completed"
        },
        "tags": []
      },
      "source": [
        "#### 47. Given two arrays, X and Y, construct the Cauchy matrix C (Cij =1/(xi - yj)) (\u2605\u2605\u2606)"
      ]
    },
    {
      "cell_type": "code",
      "execution_count": null,
      "id": "a729f3f1",
      "metadata": {
        "papermill": {
          "duration": 0.021359,
          "end_time": "2025-06-25T16:07:43.893616",
          "exception": false,
          "start_time": "2025-06-25T16:07:43.872257",
          "status": "completed"
        },
        "tags": []
      },
      "outputs": [],
      "source": []
    },
    {
      "cell_type": "markdown",
      "id": "7baa9145",
      "metadata": {
        "papermill": {
          "duration": 0.021271,
          "end_time": "2025-06-25T16:07:43.93679",
          "exception": false,
          "start_time": "2025-06-25T16:07:43.915519",
          "status": "completed"
        },
        "tags": []
      },
      "source": [
        "#### 48. Print the minimum and maximum representable values for each numpy scalar type (\u2605\u2605\u2606)"
      ]
    },
    {
      "cell_type": "code",
      "execution_count": null,
      "id": "4f715607",
      "metadata": {
        "papermill": {
          "duration": 0.021987,
          "end_time": "2025-06-25T16:07:43.980411",
          "exception": false,
          "start_time": "2025-06-25T16:07:43.958424",
          "status": "completed"
        },
        "tags": []
      },
      "outputs": [],
      "source": []
    },
    {
      "cell_type": "markdown",
      "id": "159289e8",
      "metadata": {
        "papermill": {
          "duration": 0.02129,
          "end_time": "2025-06-25T16:07:44.023303",
          "exception": false,
          "start_time": "2025-06-25T16:07:44.002013",
          "status": "completed"
        },
        "tags": []
      },
      "source": [
        "#### 49. How to print all the values of an array? (\u2605\u2605\u2606)"
      ]
    },
    {
      "cell_type": "code",
      "execution_count": null,
      "id": "206aa712",
      "metadata": {
        "papermill": {
          "duration": 0.021263,
          "end_time": "2025-06-25T16:07:44.066016",
          "exception": false,
          "start_time": "2025-06-25T16:07:44.044753",
          "status": "completed"
        },
        "tags": []
      },
      "outputs": [],
      "source": []
    },
    {
      "cell_type": "markdown",
      "id": "c16e0f72",
      "metadata": {
        "papermill": {
          "duration": 0.021467,
          "end_time": "2025-06-25T16:07:44.109268",
          "exception": false,
          "start_time": "2025-06-25T16:07:44.087801",
          "status": "completed"
        },
        "tags": []
      },
      "source": [
        "#### 50. How to find the closest value (to a given scalar) in a vector? (\u2605\u2605\u2606)"
      ]
    },
    {
      "cell_type": "code",
      "execution_count": null,
      "id": "4844c690",
      "metadata": {
        "papermill": {
          "duration": 0.021311,
          "end_time": "2025-06-25T16:07:44.152418",
          "exception": false,
          "start_time": "2025-06-25T16:07:44.131107",
          "status": "completed"
        },
        "tags": []
      },
      "outputs": [],
      "source": []
    },
    {
      "cell_type": "markdown",
      "id": "ba609de9",
      "metadata": {
        "papermill": {
          "duration": 0.022397,
          "end_time": "2025-06-25T16:07:44.196535",
          "exception": false,
          "start_time": "2025-06-25T16:07:44.174138",
          "status": "completed"
        },
        "tags": []
      },
      "source": [
        "#### 51. Create a structured array representing a position (x,y) and a color (r,g,b) (\u2605\u2605\u2606)"
      ]
    },
    {
      "cell_type": "code",
      "execution_count": null,
      "id": "63e458ae",
      "metadata": {
        "papermill": {
          "duration": 0.021414,
          "end_time": "2025-06-25T16:07:44.239998",
          "exception": false,
          "start_time": "2025-06-25T16:07:44.218584",
          "status": "completed"
        },
        "tags": []
      },
      "outputs": [],
      "source": []
    },
    {
      "cell_type": "markdown",
      "id": "cfbef2a1",
      "metadata": {
        "papermill": {
          "duration": 0.021451,
          "end_time": "2025-06-25T16:07:44.283114",
          "exception": false,
          "start_time": "2025-06-25T16:07:44.261663",
          "status": "completed"
        },
        "tags": []
      },
      "source": [
        "#### 52. Consider a random vector with shape (100,2) representing coordinates, find point by point distances (\u2605\u2605\u2606)"
      ]
    },
    {
      "cell_type": "code",
      "execution_count": null,
      "id": "07fb33c6",
      "metadata": {
        "papermill": {
          "duration": 0.02138,
          "end_time": "2025-06-25T16:07:44.326343",
          "exception": false,
          "start_time": "2025-06-25T16:07:44.304963",
          "status": "completed"
        },
        "tags": []
      },
      "outputs": [],
      "source": []
    },
    {
      "cell_type": "markdown",
      "id": "90fd35c5",
      "metadata": {
        "papermill": {
          "duration": 0.021393,
          "end_time": "2025-06-25T16:07:44.36963",
          "exception": false,
          "start_time": "2025-06-25T16:07:44.348237",
          "status": "completed"
        },
        "tags": []
      },
      "source": [
        "#### 53. How to convert a float (32 bits) array into an integer (32 bits) array in place?"
      ]
    },
    {
      "cell_type": "code",
      "execution_count": null,
      "id": "ce12007a",
      "metadata": {
        "papermill": {
          "duration": 0.021634,
          "end_time": "2025-06-25T16:07:44.412876",
          "exception": false,
          "start_time": "2025-06-25T16:07:44.391242",
          "status": "completed"
        },
        "tags": []
      },
      "outputs": [],
      "source": []
    },
    {
      "cell_type": "markdown",
      "id": "00a5b413",
      "metadata": {
        "papermill": {
          "duration": 0.021383,
          "end_time": "2025-06-25T16:07:44.456017",
          "exception": false,
          "start_time": "2025-06-25T16:07:44.434634",
          "status": "completed"
        },
        "tags": []
      },
      "source": [
        "#### 54. How to read the following file? (\u2605\u2605\u2606)\n",
        "```\n",
        "1, 2, 3, 4, 5\n",
        "6,  ,  , 7, 8\n",
        " ,  , 9,10,11\n",
        "```"
      ]
    },
    {
      "cell_type": "code",
      "execution_count": null,
      "id": "6b08b792",
      "metadata": {
        "papermill": {
          "duration": 0.021371,
          "end_time": "2025-06-25T16:07:44.49921",
          "exception": false,
          "start_time": "2025-06-25T16:07:44.477839",
          "status": "completed"
        },
        "tags": []
      },
      "outputs": [],
      "source": []
    },
    {
      "cell_type": "markdown",
      "id": "98a1201f",
      "metadata": {
        "papermill": {
          "duration": 0.021625,
          "end_time": "2025-06-25T16:07:44.542494",
          "exception": false,
          "start_time": "2025-06-25T16:07:44.520869",
          "status": "completed"
        },
        "tags": []
      },
      "source": [
        "#### 55. What is the equivalent of enumerate for numpy arrays? (\u2605\u2605\u2606)"
      ]
    },
    {
      "cell_type": "code",
      "execution_count": null,
      "id": "6326e52d",
      "metadata": {
        "papermill": {
          "duration": 0.021372,
          "end_time": "2025-06-25T16:07:44.586063",
          "exception": false,
          "start_time": "2025-06-25T16:07:44.564691",
          "status": "completed"
        },
        "tags": []
      },
      "outputs": [],
      "source": []
    },
    {
      "cell_type": "markdown",
      "id": "a27caef1",
      "metadata": {
        "papermill": {
          "duration": 0.02143,
          "end_time": "2025-06-25T16:07:44.629315",
          "exception": false,
          "start_time": "2025-06-25T16:07:44.607885",
          "status": "completed"
        },
        "tags": []
      },
      "source": [
        "#### 56. Generate a generic 2D Gaussian-like array (\u2605\u2605\u2606)"
      ]
    },
    {
      "cell_type": "code",
      "execution_count": null,
      "id": "6e694043",
      "metadata": {
        "papermill": {
          "duration": 0.021619,
          "end_time": "2025-06-25T16:07:44.673108",
          "exception": false,
          "start_time": "2025-06-25T16:07:44.651489",
          "status": "completed"
        },
        "tags": []
      },
      "outputs": [],
      "source": []
    },
    {
      "cell_type": "markdown",
      "id": "8ce38769",
      "metadata": {
        "papermill": {
          "duration": 0.021728,
          "end_time": "2025-06-25T16:07:44.718094",
          "exception": false,
          "start_time": "2025-06-25T16:07:44.696366",
          "status": "completed"
        },
        "tags": []
      },
      "source": [
        "#### 57. How to randomly place p elements in a 2D array? (\u2605\u2605\u2606)"
      ]
    },
    {
      "cell_type": "code",
      "execution_count": null,
      "id": "d552126f",
      "metadata": {
        "papermill": {
          "duration": 0.021928,
          "end_time": "2025-06-25T16:07:44.762565",
          "exception": false,
          "start_time": "2025-06-25T16:07:44.740637",
          "status": "completed"
        },
        "tags": []
      },
      "outputs": [],
      "source": []
    },
    {
      "cell_type": "markdown",
      "id": "19aa1495",
      "metadata": {
        "papermill": {
          "duration": 0.021623,
          "end_time": "2025-06-25T16:07:44.805953",
          "exception": false,
          "start_time": "2025-06-25T16:07:44.78433",
          "status": "completed"
        },
        "tags": []
      },
      "source": [
        "#### 58. Subtract the mean of each row of a matrix (\u2605\u2605\u2606)"
      ]
    },
    {
      "cell_type": "code",
      "execution_count": null,
      "id": "1dc7426b",
      "metadata": {
        "papermill": {
          "duration": 0.021795,
          "end_time": "2025-06-25T16:07:44.849574",
          "exception": false,
          "start_time": "2025-06-25T16:07:44.827779",
          "status": "completed"
        },
        "tags": []
      },
      "outputs": [],
      "source": []
    },
    {
      "cell_type": "markdown",
      "id": "e3e68232",
      "metadata": {
        "papermill": {
          "duration": 0.021645,
          "end_time": "2025-06-25T16:07:44.89312",
          "exception": false,
          "start_time": "2025-06-25T16:07:44.871475",
          "status": "completed"
        },
        "tags": []
      },
      "source": [
        "#### 59. How to sort an array by the nth column? (\u2605\u2605\u2606)"
      ]
    },
    {
      "cell_type": "code",
      "execution_count": null,
      "id": "a1005847",
      "metadata": {
        "papermill": {
          "duration": 0.021476,
          "end_time": "2025-06-25T16:07:44.936241",
          "exception": false,
          "start_time": "2025-06-25T16:07:44.914765",
          "status": "completed"
        },
        "tags": []
      },
      "outputs": [],
      "source": []
    },
    {
      "cell_type": "markdown",
      "id": "fd7c4c72",
      "metadata": {
        "papermill": {
          "duration": 0.022047,
          "end_time": "2025-06-25T16:07:44.980354",
          "exception": false,
          "start_time": "2025-06-25T16:07:44.958307",
          "status": "completed"
        },
        "tags": []
      },
      "source": [
        "#### 60. How to tell if a given 2D array has null columns? (\u2605\u2605\u2606)"
      ]
    },
    {
      "cell_type": "code",
      "execution_count": null,
      "id": "3e012644",
      "metadata": {
        "papermill": {
          "duration": 0.0217,
          "end_time": "2025-06-25T16:07:45.024539",
          "exception": false,
          "start_time": "2025-06-25T16:07:45.002839",
          "status": "completed"
        },
        "tags": []
      },
      "outputs": [],
      "source": []
    },
    {
      "cell_type": "markdown",
      "id": "bf2c2767",
      "metadata": {
        "papermill": {
          "duration": 0.021578,
          "end_time": "2025-06-25T16:07:45.067937",
          "exception": false,
          "start_time": "2025-06-25T16:07:45.046359",
          "status": "completed"
        },
        "tags": []
      },
      "source": [
        "#### 61. Find the nearest value from a given value in an array (\u2605\u2605\u2606)"
      ]
    },
    {
      "cell_type": "code",
      "execution_count": null,
      "id": "6bb8f976",
      "metadata": {
        "papermill": {
          "duration": 0.022177,
          "end_time": "2025-06-25T16:07:45.112223",
          "exception": false,
          "start_time": "2025-06-25T16:07:45.090046",
          "status": "completed"
        },
        "tags": []
      },
      "outputs": [],
      "source": []
    },
    {
      "cell_type": "markdown",
      "id": "0a9c1491",
      "metadata": {
        "papermill": {
          "duration": 0.021627,
          "end_time": "2025-06-25T16:07:45.155804",
          "exception": false,
          "start_time": "2025-06-25T16:07:45.134177",
          "status": "completed"
        },
        "tags": []
      },
      "source": [
        "#### 62. Considering two arrays with shape (1,3) and (3,1), how to compute their sum using an iterator? (\u2605\u2605\u2606)"
      ]
    },
    {
      "cell_type": "code",
      "execution_count": null,
      "id": "e26901cc",
      "metadata": {
        "papermill": {
          "duration": 0.022997,
          "end_time": "2025-06-25T16:07:45.200522",
          "exception": false,
          "start_time": "2025-06-25T16:07:45.177525",
          "status": "completed"
        },
        "tags": []
      },
      "outputs": [],
      "source": []
    },
    {
      "cell_type": "markdown",
      "id": "4abdc339",
      "metadata": {
        "papermill": {
          "duration": 0.021479,
          "end_time": "2025-06-25T16:07:45.244427",
          "exception": false,
          "start_time": "2025-06-25T16:07:45.222948",
          "status": "completed"
        },
        "tags": []
      },
      "source": [
        "#### 63. Create an array class that has a name attribute (\u2605\u2605\u2606)"
      ]
    },
    {
      "cell_type": "code",
      "execution_count": null,
      "id": "d0b79edf",
      "metadata": {
        "papermill": {
          "duration": 0.021866,
          "end_time": "2025-06-25T16:07:45.28812",
          "exception": false,
          "start_time": "2025-06-25T16:07:45.266254",
          "status": "completed"
        },
        "tags": []
      },
      "outputs": [],
      "source": []
    },
    {
      "cell_type": "markdown",
      "id": "6ba97c2c",
      "metadata": {
        "papermill": {
          "duration": 0.02162,
          "end_time": "2025-06-25T16:07:45.331479",
          "exception": false,
          "start_time": "2025-06-25T16:07:45.309859",
          "status": "completed"
        },
        "tags": []
      },
      "source": [
        "#### 64. Consider a given vector, how to add 1 to each element indexed by a second vector (be careful with repeated indices)? (\u2605\u2605\u2605)"
      ]
    },
    {
      "cell_type": "code",
      "execution_count": null,
      "id": "47d62d45",
      "metadata": {
        "papermill": {
          "duration": 0.021519,
          "end_time": "2025-06-25T16:07:45.375051",
          "exception": false,
          "start_time": "2025-06-25T16:07:45.353532",
          "status": "completed"
        },
        "tags": []
      },
      "outputs": [],
      "source": []
    },
    {
      "cell_type": "markdown",
      "id": "9c63d061",
      "metadata": {
        "papermill": {
          "duration": 0.021658,
          "end_time": "2025-06-25T16:07:45.418801",
          "exception": false,
          "start_time": "2025-06-25T16:07:45.397143",
          "status": "completed"
        },
        "tags": []
      },
      "source": [
        "#### 65. How to accumulate elements of a vector (X) to an array (F) based on an index list (I)? (\u2605\u2605\u2605)"
      ]
    },
    {
      "cell_type": "code",
      "execution_count": null,
      "id": "d5e1979f",
      "metadata": {
        "papermill": {
          "duration": 0.021461,
          "end_time": "2025-06-25T16:07:45.462098",
          "exception": false,
          "start_time": "2025-06-25T16:07:45.440637",
          "status": "completed"
        },
        "tags": []
      },
      "outputs": [],
      "source": []
    },
    {
      "cell_type": "markdown",
      "id": "412a44fc",
      "metadata": {
        "papermill": {
          "duration": 0.021627,
          "end_time": "2025-06-25T16:07:45.505476",
          "exception": false,
          "start_time": "2025-06-25T16:07:45.483849",
          "status": "completed"
        },
        "tags": []
      },
      "source": [
        "#### 66. Considering a (w,h,3) image of (dtype=ubyte), compute the number of unique colors (\u2605\u2605\u2606)"
      ]
    },
    {
      "cell_type": "code",
      "execution_count": null,
      "id": "db5cc62a",
      "metadata": {
        "papermill": {
          "duration": 0.02187,
          "end_time": "2025-06-25T16:07:45.549426",
          "exception": false,
          "start_time": "2025-06-25T16:07:45.527556",
          "status": "completed"
        },
        "tags": []
      },
      "outputs": [],
      "source": []
    },
    {
      "cell_type": "markdown",
      "id": "403ae40a",
      "metadata": {
        "papermill": {
          "duration": 0.022189,
          "end_time": "2025-06-25T16:07:45.59375",
          "exception": false,
          "start_time": "2025-06-25T16:07:45.571561",
          "status": "completed"
        },
        "tags": []
      },
      "source": [
        "#### 67. Considering a four dimensions array, how to get sum over the last two axis at once? (\u2605\u2605\u2605)"
      ]
    },
    {
      "cell_type": "code",
      "execution_count": null,
      "id": "66d49b27",
      "metadata": {
        "papermill": {
          "duration": 0.022035,
          "end_time": "2025-06-25T16:07:45.637636",
          "exception": false,
          "start_time": "2025-06-25T16:07:45.615601",
          "status": "completed"
        },
        "tags": []
      },
      "outputs": [],
      "source": []
    },
    {
      "cell_type": "markdown",
      "id": "2526e2be",
      "metadata": {
        "papermill": {
          "duration": 0.021504,
          "end_time": "2025-06-25T16:07:45.681532",
          "exception": false,
          "start_time": "2025-06-25T16:07:45.660028",
          "status": "completed"
        },
        "tags": []
      },
      "source": [
        "#### 68. Considering a one-dimensional vector D, how to compute means of subsets of D using a vector S of same size describing subset  indices? (\u2605\u2605\u2605)"
      ]
    },
    {
      "cell_type": "code",
      "execution_count": null,
      "id": "72bc4e29",
      "metadata": {
        "papermill": {
          "duration": 0.021448,
          "end_time": "2025-06-25T16:07:45.724722",
          "exception": false,
          "start_time": "2025-06-25T16:07:45.703274",
          "status": "completed"
        },
        "tags": []
      },
      "outputs": [],
      "source": []
    },
    {
      "cell_type": "markdown",
      "id": "95360b01",
      "metadata": {
        "papermill": {
          "duration": 0.021652,
          "end_time": "2025-06-25T16:07:45.768171",
          "exception": false,
          "start_time": "2025-06-25T16:07:45.746519",
          "status": "completed"
        },
        "tags": []
      },
      "source": [
        "#### 69. How to get the diagonal of a dot product? (\u2605\u2605\u2605)"
      ]
    },
    {
      "cell_type": "code",
      "execution_count": null,
      "id": "4a46c9d3",
      "metadata": {
        "papermill": {
          "duration": 0.021691,
          "end_time": "2025-06-25T16:07:45.811574",
          "exception": false,
          "start_time": "2025-06-25T16:07:45.789883",
          "status": "completed"
        },
        "tags": []
      },
      "outputs": [],
      "source": []
    },
    {
      "cell_type": "markdown",
      "id": "1ecdb840",
      "metadata": {
        "papermill": {
          "duration": 0.021535,
          "end_time": "2025-06-25T16:07:45.855402",
          "exception": false,
          "start_time": "2025-06-25T16:07:45.833867",
          "status": "completed"
        },
        "tags": []
      },
      "source": [
        "#### 70. Consider the vector [1, 2, 3, 4, 5], how to build a new vector with 3 consecutive zeros interleaved between each value? (\u2605\u2605\u2605)"
      ]
    },
    {
      "cell_type": "code",
      "execution_count": null,
      "id": "94b78265",
      "metadata": {
        "papermill": {
          "duration": 0.021507,
          "end_time": "2025-06-25T16:07:45.898697",
          "exception": false,
          "start_time": "2025-06-25T16:07:45.87719",
          "status": "completed"
        },
        "tags": []
      },
      "outputs": [],
      "source": []
    },
    {
      "cell_type": "markdown",
      "id": "c70dcf46",
      "metadata": {
        "papermill": {
          "duration": 0.021626,
          "end_time": "2025-06-25T16:07:45.942333",
          "exception": false,
          "start_time": "2025-06-25T16:07:45.920707",
          "status": "completed"
        },
        "tags": []
      },
      "source": [
        "#### 71. Consider an array of dimension (5,5,3), how to multiply it by an array with dimensions (5,5)? (\u2605\u2605\u2605)"
      ]
    },
    {
      "cell_type": "code",
      "execution_count": null,
      "id": "b2c09e54",
      "metadata": {
        "papermill": {
          "duration": 0.021891,
          "end_time": "2025-06-25T16:07:45.986165",
          "exception": false,
          "start_time": "2025-06-25T16:07:45.964274",
          "status": "completed"
        },
        "tags": []
      },
      "outputs": [],
      "source": []
    },
    {
      "cell_type": "markdown",
      "id": "d6d85801",
      "metadata": {
        "papermill": {
          "duration": 0.021518,
          "end_time": "2025-06-25T16:07:46.029531",
          "exception": false,
          "start_time": "2025-06-25T16:07:46.008013",
          "status": "completed"
        },
        "tags": []
      },
      "source": [
        "#### 72. How to swap two rows of an array? (\u2605\u2605\u2605)"
      ]
    },
    {
      "cell_type": "code",
      "execution_count": null,
      "id": "18c85803",
      "metadata": {
        "papermill": {
          "duration": 0.021016,
          "end_time": "2025-06-25T16:07:46.072134",
          "exception": false,
          "start_time": "2025-06-25T16:07:46.051118",
          "status": "completed"
        },
        "tags": []
      },
      "outputs": [],
      "source": []
    },
    {
      "cell_type": "markdown",
      "id": "f9b626c6",
      "metadata": {
        "papermill": {
          "duration": 0.021591,
          "end_time": "2025-06-25T16:07:46.115553",
          "exception": false,
          "start_time": "2025-06-25T16:07:46.093962",
          "status": "completed"
        },
        "tags": []
      },
      "source": [
        "#### 73. Consider a set of 10 triplets describing 10 triangles (with shared vertices), find the set of unique line segments composing all the  triangles (\u2605\u2605\u2605)"
      ]
    },
    {
      "cell_type": "code",
      "execution_count": null,
      "id": "fc145f7c",
      "metadata": {
        "papermill": {
          "duration": 0.021136,
          "end_time": "2025-06-25T16:07:46.158303",
          "exception": false,
          "start_time": "2025-06-25T16:07:46.137167",
          "status": "completed"
        },
        "tags": []
      },
      "outputs": [],
      "source": []
    },
    {
      "cell_type": "markdown",
      "id": "cc29d9f3",
      "metadata": {
        "papermill": {
          "duration": 0.02252,
          "end_time": "2025-06-25T16:07:46.202549",
          "exception": false,
          "start_time": "2025-06-25T16:07:46.180029",
          "status": "completed"
        },
        "tags": []
      },
      "source": [
        "#### 74. Given a sorted array C that corresponds to a bincount, how to produce an array A such that np.bincount(A) == C? (\u2605\u2605\u2605)"
      ]
    },
    {
      "cell_type": "code",
      "execution_count": null,
      "id": "07ee3fba",
      "metadata": {
        "papermill": {
          "duration": 0.021343,
          "end_time": "2025-06-25T16:07:46.245833",
          "exception": false,
          "start_time": "2025-06-25T16:07:46.22449",
          "status": "completed"
        },
        "tags": []
      },
      "outputs": [],
      "source": []
    },
    {
      "cell_type": "markdown",
      "id": "d8cb873e",
      "metadata": {
        "papermill": {
          "duration": 0.021328,
          "end_time": "2025-06-25T16:07:46.288741",
          "exception": false,
          "start_time": "2025-06-25T16:07:46.267413",
          "status": "completed"
        },
        "tags": []
      },
      "source": [
        "#### 75. How to compute averages using a sliding window over an array? (\u2605\u2605\u2605)"
      ]
    },
    {
      "cell_type": "code",
      "execution_count": null,
      "id": "51c8d1aa",
      "metadata": {
        "papermill": {
          "duration": 0.021605,
          "end_time": "2025-06-25T16:07:46.332254",
          "exception": false,
          "start_time": "2025-06-25T16:07:46.310649",
          "status": "completed"
        },
        "tags": []
      },
      "outputs": [],
      "source": []
    },
    {
      "cell_type": "markdown",
      "id": "c44ab53b",
      "metadata": {
        "papermill": {
          "duration": 0.021667,
          "end_time": "2025-06-25T16:07:46.375714",
          "exception": false,
          "start_time": "2025-06-25T16:07:46.354047",
          "status": "completed"
        },
        "tags": []
      },
      "source": [
        "#### 76. Consider a one-dimensional array Z, build a two-dimensional array whose first row is (Z[0],Z[1],Z[2]) and each subsequent row is  shifted by 1 (last row should be (Z[-3],Z[-2],Z[-1]) (\u2605\u2605\u2605)"
      ]
    },
    {
      "cell_type": "code",
      "execution_count": null,
      "id": "890260ab",
      "metadata": {
        "papermill": {
          "duration": 0.021336,
          "end_time": "2025-06-25T16:07:46.41906",
          "exception": false,
          "start_time": "2025-06-25T16:07:46.397724",
          "status": "completed"
        },
        "tags": []
      },
      "outputs": [],
      "source": []
    },
    {
      "cell_type": "markdown",
      "id": "a864faa6",
      "metadata": {
        "papermill": {
          "duration": 0.021374,
          "end_time": "2025-06-25T16:07:46.462127",
          "exception": false,
          "start_time": "2025-06-25T16:07:46.440753",
          "status": "completed"
        },
        "tags": []
      },
      "source": [
        "#### 77. How to negate a boolean, or to change the sign of a float inplace? (\u2605\u2605\u2605)"
      ]
    },
    {
      "cell_type": "code",
      "execution_count": null,
      "id": "db57d036",
      "metadata": {
        "papermill": {
          "duration": 0.021469,
          "end_time": "2025-06-25T16:07:46.505496",
          "exception": false,
          "start_time": "2025-06-25T16:07:46.484027",
          "status": "completed"
        },
        "tags": []
      },
      "outputs": [],
      "source": []
    },
    {
      "cell_type": "markdown",
      "id": "4c828c1a",
      "metadata": {
        "papermill": {
          "duration": 0.022458,
          "end_time": "2025-06-25T16:07:46.549547",
          "exception": false,
          "start_time": "2025-06-25T16:07:46.527089",
          "status": "completed"
        },
        "tags": []
      },
      "source": [
        "#### 78. Consider 2 sets of points P0,P1 describing lines (2d) and a point p, how to compute distance from p to each line i (P0[i],P1[i])? (\u2605\u2605\u2605)"
      ]
    },
    {
      "cell_type": "code",
      "execution_count": null,
      "id": "56106599",
      "metadata": {
        "papermill": {
          "duration": 0.021689,
          "end_time": "2025-06-25T16:07:46.594035",
          "exception": false,
          "start_time": "2025-06-25T16:07:46.572346",
          "status": "completed"
        },
        "tags": []
      },
      "outputs": [],
      "source": []
    },
    {
      "cell_type": "markdown",
      "id": "af01783b",
      "metadata": {
        "papermill": {
          "duration": 0.021531,
          "end_time": "2025-06-25T16:07:46.637307",
          "exception": false,
          "start_time": "2025-06-25T16:07:46.615776",
          "status": "completed"
        },
        "tags": []
      },
      "source": [
        "#### 79. Consider 2 sets of points P0,P1 describing lines (2d) and a set of points P, how to compute distance from each point j (P[j]) to each line i (P0[i],P1[i])? (\u2605\u2605\u2605)"
      ]
    },
    {
      "cell_type": "code",
      "execution_count": null,
      "id": "13f73ced",
      "metadata": {
        "papermill": {
          "duration": 0.021836,
          "end_time": "2025-06-25T16:07:46.680909",
          "exception": false,
          "start_time": "2025-06-25T16:07:46.659073",
          "status": "completed"
        },
        "tags": []
      },
      "outputs": [],
      "source": []
    },
    {
      "cell_type": "markdown",
      "id": "9f8db73c",
      "metadata": {
        "papermill": {
          "duration": 0.02152,
          "end_time": "2025-06-25T16:07:46.724096",
          "exception": false,
          "start_time": "2025-06-25T16:07:46.702576",
          "status": "completed"
        },
        "tags": []
      },
      "source": [
        "#### 80. Consider an arbitrary array, write a function that extracts a subpart with a fixed shape and centered on a given element (pad with a `fill` value when necessary) (\u2605\u2605\u2605)"
      ]
    },
    {
      "cell_type": "code",
      "execution_count": null,
      "id": "56af6363",
      "metadata": {
        "papermill": {
          "duration": 0.021327,
          "end_time": "2025-06-25T16:07:46.767694",
          "exception": false,
          "start_time": "2025-06-25T16:07:46.746367",
          "status": "completed"
        },
        "tags": []
      },
      "outputs": [],
      "source": []
    },
    {
      "cell_type": "markdown",
      "id": "06f2b759",
      "metadata": {
        "papermill": {
          "duration": 0.022047,
          "end_time": "2025-06-25T16:07:46.811694",
          "exception": false,
          "start_time": "2025-06-25T16:07:46.789647",
          "status": "completed"
        },
        "tags": []
      },
      "source": [
        "#### 81. Consider an array Z = [1,2,3,4,5,6,7,8,9,10,11,12,13,14], how to generate an array R = [[1,2,3,4], [2,3,4,5], [3,4,5,6], ..., [11,12,13,14]]? (\u2605\u2605\u2605)"
      ]
    },
    {
      "cell_type": "code",
      "execution_count": null,
      "id": "2eda3ad2",
      "metadata": {
        "papermill": {
          "duration": 0.021748,
          "end_time": "2025-06-25T16:07:46.855292",
          "exception": false,
          "start_time": "2025-06-25T16:07:46.833544",
          "status": "completed"
        },
        "tags": []
      },
      "outputs": [],
      "source": []
    },
    {
      "cell_type": "markdown",
      "id": "b53e89b7",
      "metadata": {
        "papermill": {
          "duration": 0.021591,
          "end_time": "2025-06-25T16:07:46.89872",
          "exception": false,
          "start_time": "2025-06-25T16:07:46.877129",
          "status": "completed"
        },
        "tags": []
      },
      "source": [
        "#### 82. Compute a matrix rank (\u2605\u2605\u2605)"
      ]
    },
    {
      "cell_type": "code",
      "execution_count": null,
      "id": "f4f583c7",
      "metadata": {
        "papermill": {
          "duration": 0.021497,
          "end_time": "2025-06-25T16:07:46.942679",
          "exception": false,
          "start_time": "2025-06-25T16:07:46.921182",
          "status": "completed"
        },
        "tags": []
      },
      "outputs": [],
      "source": []
    },
    {
      "cell_type": "markdown",
      "id": "e810a7fc",
      "metadata": {
        "papermill": {
          "duration": 0.022122,
          "end_time": "2025-06-25T16:07:46.986866",
          "exception": false,
          "start_time": "2025-06-25T16:07:46.964744",
          "status": "completed"
        },
        "tags": []
      },
      "source": [
        "#### 83. How to find the most frequent value in an array?"
      ]
    },
    {
      "cell_type": "code",
      "execution_count": null,
      "id": "1f4ba8df",
      "metadata": {
        "papermill": {
          "duration": 0.021598,
          "end_time": "2025-06-25T16:07:47.03041",
          "exception": false,
          "start_time": "2025-06-25T16:07:47.008812",
          "status": "completed"
        },
        "tags": []
      },
      "outputs": [],
      "source": []
    },
    {
      "cell_type": "markdown",
      "id": "ce3845b7",
      "metadata": {
        "papermill": {
          "duration": 0.022079,
          "end_time": "2025-06-25T16:07:47.074861",
          "exception": false,
          "start_time": "2025-06-25T16:07:47.052782",
          "status": "completed"
        },
        "tags": []
      },
      "source": [
        "#### 84. Extract all the contiguous 3x3 blocks from a random 10x10 matrix (\u2605\u2605\u2605)"
      ]
    },
    {
      "cell_type": "code",
      "execution_count": null,
      "id": "266a0d84",
      "metadata": {
        "papermill": {
          "duration": 0.021943,
          "end_time": "2025-06-25T16:07:47.11967",
          "exception": false,
          "start_time": "2025-06-25T16:07:47.097727",
          "status": "completed"
        },
        "tags": []
      },
      "outputs": [],
      "source": []
    },
    {
      "cell_type": "markdown",
      "id": "2626a5fb",
      "metadata": {
        "papermill": {
          "duration": 0.021516,
          "end_time": "2025-06-25T16:07:47.163059",
          "exception": false,
          "start_time": "2025-06-25T16:07:47.141543",
          "status": "completed"
        },
        "tags": []
      },
      "source": [
        "#### 85. Create a 2D array subclass such that Z[i,j] == Z[j,i] (\u2605\u2605\u2605)"
      ]
    },
    {
      "cell_type": "code",
      "execution_count": null,
      "id": "0752c4a0",
      "metadata": {
        "papermill": {
          "duration": 0.022814,
          "end_time": "2025-06-25T16:07:47.207946",
          "exception": false,
          "start_time": "2025-06-25T16:07:47.185132",
          "status": "completed"
        },
        "tags": []
      },
      "outputs": [],
      "source": []
    },
    {
      "cell_type": "markdown",
      "id": "58cfafce",
      "metadata": {
        "papermill": {
          "duration": 0.021653,
          "end_time": "2025-06-25T16:07:47.251413",
          "exception": false,
          "start_time": "2025-06-25T16:07:47.22976",
          "status": "completed"
        },
        "tags": []
      },
      "source": [
        "#### 86. Consider a set of p matrices with shape (n,n) and a set of p vectors with shape (n,1). How to compute the sum of of the p matrix products at once? (result has shape (n,1)) (\u2605\u2605\u2605)"
      ]
    },
    {
      "cell_type": "code",
      "execution_count": null,
      "id": "1205939d",
      "metadata": {
        "papermill": {
          "duration": 0.022222,
          "end_time": "2025-06-25T16:07:47.295438",
          "exception": false,
          "start_time": "2025-06-25T16:07:47.273216",
          "status": "completed"
        },
        "tags": []
      },
      "outputs": [],
      "source": []
    },
    {
      "cell_type": "markdown",
      "id": "82fa63a8",
      "metadata": {
        "papermill": {
          "duration": 0.021617,
          "end_time": "2025-06-25T16:07:47.33949",
          "exception": false,
          "start_time": "2025-06-25T16:07:47.317873",
          "status": "completed"
        },
        "tags": []
      },
      "source": [
        "#### 87. Consider a 16x16 array, how to get the block-sum (block size is 4x4)? (\u2605\u2605\u2605)"
      ]
    },
    {
      "cell_type": "code",
      "execution_count": null,
      "id": "19dc68dd",
      "metadata": {
        "papermill": {
          "duration": 0.021587,
          "end_time": "2025-06-25T16:07:47.382651",
          "exception": false,
          "start_time": "2025-06-25T16:07:47.361064",
          "status": "completed"
        },
        "tags": []
      },
      "outputs": [],
      "source": []
    },
    {
      "cell_type": "markdown",
      "id": "37f374a7",
      "metadata": {
        "papermill": {
          "duration": 0.021733,
          "end_time": "2025-06-25T16:07:47.426201",
          "exception": false,
          "start_time": "2025-06-25T16:07:47.404468",
          "status": "completed"
        },
        "tags": []
      },
      "source": [
        "#### 88. How to implement the Game of Life using numpy arrays? (\u2605\u2605\u2605)"
      ]
    },
    {
      "cell_type": "code",
      "execution_count": null,
      "id": "f81b9fe0",
      "metadata": {
        "papermill": {
          "duration": 0.021722,
          "end_time": "2025-06-25T16:07:47.469952",
          "exception": false,
          "start_time": "2025-06-25T16:07:47.44823",
          "status": "completed"
        },
        "tags": []
      },
      "outputs": [],
      "source": []
    },
    {
      "cell_type": "markdown",
      "id": "5b66d78e",
      "metadata": {
        "papermill": {
          "duration": 0.021463,
          "end_time": "2025-06-25T16:07:47.513414",
          "exception": false,
          "start_time": "2025-06-25T16:07:47.491951",
          "status": "completed"
        },
        "tags": []
      },
      "source": [
        "#### 89. How to get the n largest values of an array (\u2605\u2605\u2605)"
      ]
    },
    {
      "cell_type": "code",
      "execution_count": null,
      "id": "391cda9f",
      "metadata": {
        "papermill": {
          "duration": 0.021752,
          "end_time": "2025-06-25T16:07:47.557134",
          "exception": false,
          "start_time": "2025-06-25T16:07:47.535382",
          "status": "completed"
        },
        "tags": []
      },
      "outputs": [],
      "source": []
    },
    {
      "cell_type": "markdown",
      "id": "fc131c71",
      "metadata": {
        "papermill": {
          "duration": 0.021712,
          "end_time": "2025-06-25T16:07:47.601154",
          "exception": false,
          "start_time": "2025-06-25T16:07:47.579442",
          "status": "completed"
        },
        "tags": []
      },
      "source": [
        "#### 90. Given an arbitrary number of vectors, build the cartesian product (every combination of every item) (\u2605\u2605\u2605)"
      ]
    },
    {
      "cell_type": "code",
      "execution_count": null,
      "id": "8568ea55",
      "metadata": {
        "papermill": {
          "duration": 0.021445,
          "end_time": "2025-06-25T16:07:47.644458",
          "exception": false,
          "start_time": "2025-06-25T16:07:47.623013",
          "status": "completed"
        },
        "tags": []
      },
      "outputs": [],
      "source": []
    },
    {
      "cell_type": "markdown",
      "id": "32b28bff",
      "metadata": {
        "papermill": {
          "duration": 0.021464,
          "end_time": "2025-06-25T16:07:47.687756",
          "exception": false,
          "start_time": "2025-06-25T16:07:47.666292",
          "status": "completed"
        },
        "tags": []
      },
      "source": [
        "#### 91. How to create a record array from a regular array? (\u2605\u2605\u2605)"
      ]
    },
    {
      "cell_type": "code",
      "execution_count": null,
      "id": "4ede2299",
      "metadata": {
        "papermill": {
          "duration": 0.021626,
          "end_time": "2025-06-25T16:07:47.731924",
          "exception": false,
          "start_time": "2025-06-25T16:07:47.710298",
          "status": "completed"
        },
        "tags": []
      },
      "outputs": [],
      "source": []
    },
    {
      "cell_type": "markdown",
      "id": "1e6e855b",
      "metadata": {
        "papermill": {
          "duration": 0.031659,
          "end_time": "2025-06-25T16:07:47.789418",
          "exception": false,
          "start_time": "2025-06-25T16:07:47.757759",
          "status": "completed"
        },
        "tags": []
      },
      "source": [
        "#### 92. Consider a large vector Z, compute Z to the power of 3 using 3 different methods (\u2605\u2605\u2605)"
      ]
    },
    {
      "cell_type": "code",
      "execution_count": null,
      "id": "22795df6",
      "metadata": {
        "papermill": {
          "duration": 0.022263,
          "end_time": "2025-06-25T16:07:47.834877",
          "exception": false,
          "start_time": "2025-06-25T16:07:47.812614",
          "status": "completed"
        },
        "tags": []
      },
      "outputs": [],
      "source": []
    },
    {
      "cell_type": "markdown",
      "id": "6c5ddbfc",
      "metadata": {
        "papermill": {
          "duration": 0.021673,
          "end_time": "2025-06-25T16:07:47.878633",
          "exception": false,
          "start_time": "2025-06-25T16:07:47.85696",
          "status": "completed"
        },
        "tags": []
      },
      "source": [
        "#### 93. Consider two arrays A and B of shape (8,3) and (2,2). How to find rows of A that contain elements of each row of B regardless of the order of the elements in B? (\u2605\u2605\u2605)"
      ]
    },
    {
      "cell_type": "code",
      "execution_count": null,
      "id": "b00db3de",
      "metadata": {
        "papermill": {
          "duration": 0.022017,
          "end_time": "2025-06-25T16:07:47.922687",
          "exception": false,
          "start_time": "2025-06-25T16:07:47.90067",
          "status": "completed"
        },
        "tags": []
      },
      "outputs": [],
      "source": []
    },
    {
      "cell_type": "markdown",
      "id": "7e4dddb2",
      "metadata": {
        "papermill": {
          "duration": 0.021749,
          "end_time": "2025-06-25T16:07:47.966647",
          "exception": false,
          "start_time": "2025-06-25T16:07:47.944898",
          "status": "completed"
        },
        "tags": []
      },
      "source": [
        "#### 94. Considering a 10x3 matrix, extract rows with unequal values (e.g. [2,2,3]) (\u2605\u2605\u2605)"
      ]
    },
    {
      "cell_type": "code",
      "execution_count": null,
      "id": "ad71a999",
      "metadata": {
        "papermill": {
          "duration": 0.021771,
          "end_time": "2025-06-25T16:07:48.010825",
          "exception": false,
          "start_time": "2025-06-25T16:07:47.989054",
          "status": "completed"
        },
        "tags": []
      },
      "outputs": [],
      "source": []
    },
    {
      "cell_type": "markdown",
      "id": "750a5aa6",
      "metadata": {
        "papermill": {
          "duration": 0.022151,
          "end_time": "2025-06-25T16:07:48.055786",
          "exception": false,
          "start_time": "2025-06-25T16:07:48.033635",
          "status": "completed"
        },
        "tags": []
      },
      "source": [
        "#### 95. Convert a vector of ints into a matrix binary representation (\u2605\u2605\u2605)"
      ]
    },
    {
      "cell_type": "code",
      "execution_count": null,
      "id": "5e58eb2e",
      "metadata": {
        "papermill": {
          "duration": 0.021706,
          "end_time": "2025-06-25T16:07:48.099497",
          "exception": false,
          "start_time": "2025-06-25T16:07:48.077791",
          "status": "completed"
        },
        "tags": []
      },
      "outputs": [],
      "source": []
    },
    {
      "cell_type": "markdown",
      "id": "e1d616cc",
      "metadata": {
        "papermill": {
          "duration": 0.02212,
          "end_time": "2025-06-25T16:07:48.143571",
          "exception": false,
          "start_time": "2025-06-25T16:07:48.121451",
          "status": "completed"
        },
        "tags": []
      },
      "source": [
        "#### 96. Given a two dimensional array, how to extract unique rows? (\u2605\u2605\u2605)"
      ]
    },
    {
      "cell_type": "code",
      "execution_count": null,
      "id": "b902f30a",
      "metadata": {
        "papermill": {
          "duration": 0.021816,
          "end_time": "2025-06-25T16:07:48.192012",
          "exception": false,
          "start_time": "2025-06-25T16:07:48.170196",
          "status": "completed"
        },
        "tags": []
      },
      "outputs": [],
      "source": []
    },
    {
      "cell_type": "markdown",
      "id": "706ad4f1",
      "metadata": {
        "papermill": {
          "duration": 0.02162,
          "end_time": "2025-06-25T16:07:48.237098",
          "exception": false,
          "start_time": "2025-06-25T16:07:48.215478",
          "status": "completed"
        },
        "tags": []
      },
      "source": [
        "#### 97. Considering 2 vectors A & B, write the einsum equivalent of inner, outer, sum, and mul function (\u2605\u2605\u2605)"
      ]
    },
    {
      "cell_type": "code",
      "execution_count": null,
      "id": "f6902bc0",
      "metadata": {
        "papermill": {
          "duration": 0.031111,
          "end_time": "2025-06-25T16:07:48.290374",
          "exception": false,
          "start_time": "2025-06-25T16:07:48.259263",
          "status": "completed"
        },
        "tags": []
      },
      "outputs": [],
      "source": []
    },
    {
      "cell_type": "markdown",
      "id": "640d4535",
      "metadata": {
        "papermill": {
          "duration": 0.030268,
          "end_time": "2025-06-25T16:07:48.353762",
          "exception": false,
          "start_time": "2025-06-25T16:07:48.323494",
          "status": "completed"
        },
        "tags": []
      },
      "source": [
        "#### 98. Considering a path described by two vectors (X,Y), how to sample it using equidistant samples (\u2605\u2605\u2605)?"
      ]
    },
    {
      "cell_type": "code",
      "execution_count": null,
      "id": "002b4614",
      "metadata": {
        "papermill": {
          "duration": 0.021573,
          "end_time": "2025-06-25T16:07:48.397726",
          "exception": false,
          "start_time": "2025-06-25T16:07:48.376153",
          "status": "completed"
        },
        "tags": []
      },
      "outputs": [],
      "source": []
    },
    {
      "cell_type": "markdown",
      "id": "f9fe891d",
      "metadata": {
        "papermill": {
          "duration": 0.021731,
          "end_time": "2025-06-25T16:07:48.441478",
          "exception": false,
          "start_time": "2025-06-25T16:07:48.419747",
          "status": "completed"
        },
        "tags": []
      },
      "source": [
        "#### 99. Given an integer n and a 2D array X, select from X the rows which can be interpreted as draws from a multinomial distribution with n degrees, i.e., the rows which only contain integers and which sum to n. (\u2605\u2605\u2605)"
      ]
    },
    {
      "cell_type": "code",
      "execution_count": null,
      "id": "f1cd1e8c",
      "metadata": {
        "papermill": {
          "duration": 0.021769,
          "end_time": "2025-06-25T16:07:48.485332",
          "exception": false,
          "start_time": "2025-06-25T16:07:48.463563",
          "status": "completed"
        },
        "tags": []
      },
      "outputs": [],
      "source": []
    },
    {
      "cell_type": "markdown",
      "id": "e1ed0ff6",
      "metadata": {
        "papermill": {
          "duration": 0.021939,
          "end_time": "2025-06-25T16:07:48.529173",
          "exception": false,
          "start_time": "2025-06-25T16:07:48.507234",
          "status": "completed"
        },
        "tags": []
      },
      "source": [
        "#### 100. Compute bootstrapped 95% confidence intervals for the mean of a 1D array X (i.e., resample the elements of an array with replacement N times, compute the mean of each sample, and then compute percentiles over the means). (\u2605\u2605\u2605)"
      ]
    },
    {
      "cell_type": "code",
      "execution_count": null,
      "id": "597316f4",
      "metadata": {
        "papermill": {
          "duration": 0.021875,
          "end_time": "2025-06-25T16:07:48.574033",
          "exception": false,
          "start_time": "2025-06-25T16:07:48.552158",
          "status": "completed"
        },
        "tags": []
      },
      "outputs": [],
      "source": []
    }
  ],
  "metadata": {
    "kaggle": {
      "accelerator": "none",
      "dataSources": [],
      "dockerImageVersionId": 31040,
      "isGpuEnabled": false,
      "isInternetEnabled": true,
      "language": "python",
      "sourceType": "notebook"
    },
    "kernelspec": {
      "display_name": "Python 3",
      "language": "python",
      "name": "python3"
    },
    "language_info": {
      "codemirror_mode": {
        "name": "ipython",
        "version": 3
      },
      "file_extension": ".py",
      "mimetype": "text/x-python",
      "name": "python",
      "nbconvert_exporter": "python",
      "pygments_lexer": "ipython3",
      "version": "3.11.11"
    },
    "papermill": {
      "default_parameters": {},
      "duration": 14.145308,
      "end_time": "2025-06-25T16:07:49.014763",
      "environment_variables": {},
      "exception": null,
      "input_path": "__notebook__.ipynb",
      "output_path": "__notebook__.ipynb",
      "parameters": {},
      "start_time": "2025-06-25T16:07:34.869455",
      "version": "2.6.0"
    }
  },
  "nbformat": 4,
  "nbformat_minor": 5
}
