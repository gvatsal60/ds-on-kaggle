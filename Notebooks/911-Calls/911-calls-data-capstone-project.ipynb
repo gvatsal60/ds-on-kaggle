{
  "cells" : [
    {
      "cell_type" : "markdown",
      "metadata" : {},
      "source" :
          "<a "
          "href=\"https://www.kaggle.com/code/gvatsal60/"
          "911-calls-data-capstone-project?scriptVersionId=244244926\" "
          "target=\"_blank\"><img align=\"left\" alt=\"Kaggle\" title=\"Open "
          "in Kaggle\" "
          "src=\"https://kaggle.com/static/images/open-in-kaggle.svg\"></a>"
    },
    {
      "cell_type" : "markdown",
      "id" : "1ecaff33",
      "metadata" : {
        "papermill" : {
          "duration" : 0.013318,
          "end_time" : "2025-06-07T15:35:13.518733",
          "exception" : false,
          "start_time" : "2025-06-07T15:35:13.505415",
          "status" : "completed"
        },
        "tags" : []
      },
      "source" : [
        "# 911 Calls\n", "[![Kaggle](https://kaggle.com/static/images/"
                         "open-in-kaggle.svg)](https://www.kaggle.com/code/"
                         "gvatsal60/911-calls-data-capstone-project)"
      ]
    },
    {
      "cell_type" : "markdown",
      "id" : "8e138840",
      "metadata" : {
        "papermill" : {
          "duration" : 0.008102,
          "end_time" : "2025-06-07T15:35:13.538307",
          "exception" : false,
          "start_time" : "2025-06-07T15:35:13.530205",
          "status" : "completed"
        },
        "tags" : []
      },
      "source" : [
        "For this capstone project we will be analyzing some 911 call data "
        "from [Kaggle](https://www.kaggle.com/mchirico/montcoalert). The data "
        "contains the following fields:\n",
        "\n", "* lat : String variable, Latitude\n",
        "* lng: String variable, Longitude\n",
        "* desc: String variable, Description of the Emergency Call\n",
        "* zip: String variable, Zipcode\n",
        "* title: String variable, Title\n",
        "* timeStamp: String variable, YYYY-MM-DD HH:MM:SS\n",
        "* twp: String variable, Township\n",
        "* addr: String variable, Address\n",
        "* e: String variable, Dummy variable (always 1)\n", "\n",
        "Just go along with this notebook and try to complete the instructions "
        "or answer the questions in bold using your Python and Data Science "
        "skills!"
      ]
    },
    {
      "cell_type" : "markdown",
      "id" : "281d6dfa",
      "metadata" : {
        "papermill" : {
          "duration" : 0.007744,
          "end_time" : "2025-06-07T15:35:13.554147",
          "exception" : false,
          "start_time" : "2025-06-07T15:35:13.546403",
          "status" : "completed"
        },
        "tags" : []
      },
      "source" : ["## Data and Setup"]
    },
    {
      "cell_type" : "markdown",
      "id" : "a8e9659c",
      "metadata" : {
        "papermill" : {
          "duration" : 0.007653,
          "end_time" : "2025-06-07T15:35:13.5697",
          "exception" : false,
          "start_time" : "2025-06-07T15:35:13.562047",
          "status" : "completed"
        },
        "tags" : []
      },
      "source" : ["** Import numpy and pandas **"]
    },
    {
      "cell_type" : "code",
      "execution_count" : 1,
      "id" : "a3adbaab",
      "metadata" : {
        "execution" : {
          "iopub.execute_input" : "2025-06-07T15:35:13.587466Z",
          "iopub.status.busy" : "2025-06-07T15:35:13.587062Z",
          "iopub.status.idle" : "2025-06-07T15:35:15.415079Z",
          "shell.execute_reply" : "2025-06-07T15:35:15.414105Z"
        },
        "papermill" : {
          "duration" : 1.838838,
          "end_time" : "2025-06-07T15:35:15.416903",
          "exception" : false,
          "start_time" : "2025-06-07T15:35:13.578065",
          "status" : "completed"
        },
        "tags" : []
      },
      "outputs" : [],
      "source" : [ "import numpy as np\n", "import pandas as pd" ]
    },
    {
      "cell_type" : "markdown",
      "id" : "3f7fbc66",
      "metadata" : {
        "papermill" : {
          "duration" : 0.007742,
          "end_time" : "2025-06-07T15:35:15.432973",
          "exception" : false,
          "start_time" : "2025-06-07T15:35:15.425231",
          "status" : "completed"
        },
        "tags" : []
      },
      "source" :
          ["** Import visualization libraries and set %matplotlib inline. **"]
    },
    {
      "cell_type" : "code",
      "execution_count" : 2,
      "id" : "cc541c5b",
      "metadata" : {
        "collapsed" : false,
        "execution" : {
          "iopub.execute_input" : "2025-06-07T15:35:15.450139Z",
          "iopub.status.busy" : "2025-06-07T15:35:15.449639Z",
          "iopub.status.idle" : "2025-06-07T15:35:17.209469Z",
          "shell.execute_reply" : "2025-06-07T15:35:17.208724Z"
        },
        "jupyter" : {"outputs_hidden" : false},
        "papermill" : {
          "duration" : 1.770321,
          "end_time" : "2025-06-07T15:35:17.21114",
          "exception" : false,
          "start_time" : "2025-06-07T15:35:15.440819",
          "status" : "completed"
        },
        "tags" : []
      },
      "outputs" : [],
      "source" : [
        "import matplotlib.pyplot as plt\n", "import seaborn as sns\n",
        "sns.set_style('whitegrid')\n", "%matplotlib inline"
      ]
    },
    {
      "cell_type" : "markdown",
      "id" : "1fd14c54",
      "metadata" : {
        "papermill" : {
          "duration" : 0.007766,
          "end_time" : "2025-06-07T15:35:17.227341",
          "exception" : false,
          "start_time" : "2025-06-07T15:35:17.219575",
          "status" : "completed"
        },
        "tags" : []
      },
      "source" : ["** Read in the csv file as a dataframe called df **"]
    },
    {
      "cell_type" : "code",
      "execution_count" : 3,
      "id" : "312e47ea",
      "metadata" : {
        "execution" : {
          "iopub.execute_input" : "2025-06-07T15:35:17.249069Z",
          "iopub.status.busy" : "2025-06-07T15:35:17.248126Z",
          "iopub.status.idle" : "2025-06-07T15:35:17.914341Z",
          "shell.execute_reply" : "2025-06-07T15:35:17.913277Z"
        },
        "papermill" : {
          "duration" : 0.68083,
          "end_time" : "2025-06-07T15:35:17.916014",
          "exception" : false,
          "start_time" : "2025-06-07T15:35:17.235184",
          "status" : "completed"
        },
        "tags" : []
      },
      "outputs" : [],
      "source" : [
        "csv_path='/kaggle/input/911-calls-data/911.csv'\n",
        "df = pd.read_csv(csv_path)"
      ]
    },
    {
      "cell_type" : "markdown",
      "id" : "97c607e5",
      "metadata" : {
        "papermill" : {
          "duration" : 0.007707,
          "end_time" : "2025-06-07T15:35:17.932017",
          "exception" : false,
          "start_time" : "2025-06-07T15:35:17.92431",
          "status" : "completed"
        },
        "tags" : []
      },
      "source" : ["** Check the info() of the df **"]
    },
    {
      "cell_type" : "code",
      "execution_count" : 4,
      "id" : "4db7d9cf",
      "metadata" : {
        "collapsed" : false,
        "execution" : {
          "iopub.execute_input" : "2025-06-07T15:35:17.949082Z",
          "iopub.status.busy" : "2025-06-07T15:35:17.948651Z",
          "iopub.status.idle" : "2025-06-07T15:35:18.00259Z",
          "shell.execute_reply" : "2025-06-07T15:35:18.001521Z"
        },
        "jupyter" : {"outputs_hidden" : false},
        "papermill" : {
          "duration" : 0.064278,
          "end_time" : "2025-06-07T15:35:18.004147",
          "exception" : false,
          "start_time" : "2025-06-07T15:35:17.939869",
          "status" : "completed"
        },
        "tags" : []
      },
      "outputs" : [ {
        "name" : "stdout",
        "output_type" : "stream",
        "text" : [
          "<class 'pandas.core.frame.DataFrame'>\n",
          "RangeIndex: 99492 entries, 0 to 99491\n",
          "Data columns (total 9 columns):\n",
          " #   Column     Non-Null Count  Dtype  \n",
          "---  ------     --------------  -----  \n",
          " 0   lat        99492 non-null  float64\n",
          " 1   lng        99492 non-null  float64\n",
          " 2   desc       99492 non-null  object \n",
          " 3   zip        86637 non-null  float64\n",
          " 4   title      99492 non-null  object \n",
          " 5   timeStamp  99492 non-null  object \n",
          " 6   twp        99449 non-null  object \n",
          " 7   addr       98973 non-null  object \n",
          " 8   e          99492 non-null  int64  \n",
          "dtypes: float64(3), int64(1), object(5)\n", "memory usage: 6.8+ MB\n"
        ]
      } ],
      "source" : ["df.info()"]
    },
    {
      "cell_type" : "markdown",
      "id" : "3f584b92",
      "metadata" : {
        "collapsed" : false,
        "jupyter" : {"outputs_hidden" : false},
        "papermill" : {
          "duration" : 0.00766,
          "end_time" : "2025-06-07T15:35:18.019957",
          "exception" : false,
          "start_time" : "2025-06-07T15:35:18.012297",
          "status" : "completed"
        },
        "tags" : []
      },
      "source" : ["** Check the head of df **"]
    },
    {
      "cell_type" : "code",
      "execution_count" : 5,
      "id" : "3bc636fb",
      "metadata" : {
        "collapsed" : false,
        "execution" : {
          "iopub.execute_input" : "2025-06-07T15:35:18.036851Z",
          "iopub.status.busy" : "2025-06-07T15:35:18.036551Z",
          "iopub.status.idle" : "2025-06-07T15:35:18.061073Z",
          "shell.execute_reply" : "2025-06-07T15:35:18.060148Z"
        },
        "jupyter" : {"outputs_hidden" : false},
        "papermill" : {
          "duration" : 0.034945,
          "end_time" : "2025-06-07T15:35:18.062691",
          "exception" : false,
          "start_time" : "2025-06-07T15:35:18.027746",
          "status" : "completed"
        },
        "tags" : []
      },
      "outputs" : [ {
        "data" : {
          "text/html" : [
            "<div>\n",
            "<style scoped>\n",
            "    .dataframe tbody tr th:only-of-type {\n",
            "        vertical-align: middle;\n",
            "    }\n",
            "\n",
            "    .dataframe tbody tr th {\n",
            "        vertical-align: top;\n",
            "    }\n",
            "\n",
            "    .dataframe thead th {\n",
            "        text-align: right;\n",
            "    }\n",
            "</style>\n",
            "<table border=\"1\" class=\"dataframe\">\n",
            "  <thead>\n",
            "    <tr style=\"text-align: right;\">\n",
            "      <th></th>\n",
            "      <th>lat</th>\n",
            "      <th>lng</th>\n",
            "      <th>desc</th>\n",
            "      <th>zip</th>\n",
            "      <th>title</th>\n",
            "      <th>timeStamp</th>\n",
            "      <th>twp</th>\n",
            "      <th>addr</th>\n",
            "      <th>e</th>\n",
            "    </tr>\n",
            "  </thead>\n",
            "  <tbody>\n",
            "    <tr>\n",
            "      <th>0</th>\n",
            "      <td>40.297876</td>\n",
            "      <td>-75.581294</td>\n",
            "      <td>REINDEER CT &amp; DEAD END;  NEW HANOVER; Station "
            "...</td>\n",
            "      <td>19525.0</td>\n",
            "      <td>EMS: BACK PAINS/INJURY</td>\n",
            "      <td>2015-12-10 17:40:00</td>\n",
            "      <td>NEW HANOVER</td>\n",
            "      <td>REINDEER CT &amp; DEAD END</td>\n",
            "      <td>1</td>\n",
            "    </tr>\n",
            "    <tr>\n",
            "      <th>1</th>\n",
            "      <td>40.258061</td>\n",
            "      <td>-75.264680</td>\n",
            "      <td>BRIAR PATH &amp; WHITEMARSH LN;  HATFIELD "
            "TOWNSHIP...</td>\n",
            "      <td>19446.0</td>\n",
            "      <td>EMS: DIABETIC EMERGENCY</td>\n",
            "      <td>2015-12-10 17:40:00</td>\n",
            "      <td>HATFIELD TOWNSHIP</td>\n",
            "      <td>BRIAR PATH &amp; WHITEMARSH LN</td>\n",
            "      <td>1</td>\n",
            "    </tr>\n",
            "    <tr>\n",
            "      <th>2</th>\n",
            "      <td>40.121182</td>\n",
            "      <td>-75.351975</td>\n",
            "      <td>HAWS AVE; NORRISTOWN; 2015-12-10 @ "
            "14:39:21-St...</td>\n",
            "      <td>19401.0</td>\n",
            "      <td>Fire: GAS-ODOR/LEAK</td>\n",
            "      <td>2015-12-10 17:40:00</td>\n",
            "      <td>NORRISTOWN</td>\n",
            "      <td>HAWS AVE</td>\n",
            "      <td>1</td>\n",
            "    </tr>\n",
            "  </tbody>\n",
            "</table>\n",
            "</div>"
          ],
          "text/plain" : [
            "         lat        lng                                           "
            "    desc  \\\n",
            "0  40.297876 -75.581294  REINDEER CT & DEAD END;  NEW HANOVER; "
            "Station ...   \n",
            "1  40.258061 -75.264680  BRIAR PATH & WHITEMARSH LN;  HATFIELD "
            "TOWNSHIP...   \n",
            "2  40.121182 -75.351975  HAWS AVE; NORRISTOWN; 2015-12-10 @ "
            "14:39:21-St...   \n",
            "\n",
            "       zip                    title            timeStamp          "
            "      twp  \\\n",
            "0  19525.0   EMS: BACK PAINS/INJURY  2015-12-10 17:40:00        "
            "NEW HANOVER   \n",
            "1  19446.0  EMS: DIABETIC EMERGENCY  2015-12-10 17:40:00  "
            "HATFIELD TOWNSHIP   \n",
            "2  19401.0      Fire: GAS-ODOR/LEAK  2015-12-10 17:40:00         "
            "NORRISTOWN   \n",
            "\n", "                         addr  e  \n",
            "0      REINDEER CT & DEAD END  1  \n",
            "1  BRIAR PATH & WHITEMARSH LN  1  \n",
            "2                    HAWS AVE  1  "
          ]
        },
        "execution_count" : 5,
        "metadata" : {},
        "output_type" : "execute_result"
      } ],
      "source" : ["df.head(3)"]
    },
    {
      "cell_type" : "markdown",
      "id" : "3105e9d4",
      "metadata" : {
        "papermill" : {
          "duration" : 0.008334,
          "end_time" : "2025-06-07T15:35:18.079601",
          "exception" : false,
          "start_time" : "2025-06-07T15:35:18.071267",
          "status" : "completed"
        },
        "tags" : []
      },
      "source" : ["## Basic Questions"]
    },
    {
      "cell_type" : "markdown",
      "id" : "aded5850",
      "metadata" : {
        "papermill" : {
          "duration" : 0.008131,
          "end_time" : "2025-06-07T15:35:18.095995",
          "exception" : false,
          "start_time" : "2025-06-07T15:35:18.087864",
          "status" : "completed"
        },
        "tags" : []
      },
      "source" : ["** What are the top 5 zipcodes for 911 calls? **"]
    },
    {
      "cell_type" : "code",
      "execution_count" : 6,
      "id" : "ef5dafac",
      "metadata" : {
        "collapsed" : false,
        "execution" : {
          "iopub.execute_input" : "2025-06-07T15:35:18.114083Z",
          "iopub.status.busy" : "2025-06-07T15:35:18.113731Z",
          "iopub.status.idle" : "2025-06-07T15:35:18.124286Z",
          "shell.execute_reply" : "2025-06-07T15:35:18.123416Z"
        },
        "jupyter" : {"outputs_hidden" : false},
        "papermill" : {
          "duration" : 0.021357,
          "end_time" : "2025-06-07T15:35:18.125753",
          "exception" : false,
          "start_time" : "2025-06-07T15:35:18.104396",
          "status" : "completed"
        },
        "tags" : []
      },
      "outputs" : [ {
        "data" : {
          "text/plain" : [
            "zip\n", "19401.0    6979\n", "19464.0    6643\n",
            "19403.0    4854\n", "19446.0    4748\n", "19406.0    3174\n",
            "Name: count, dtype: int64"
          ]
        },
        "execution_count" : 6,
        "metadata" : {},
        "output_type" : "execute_result"
      } ],
      "source" : ["df['zip'].value_counts().head(5)"]
    },
    {
      "cell_type" : "markdown",
      "id" : "6c1ec544",
      "metadata" : {
        "papermill" : {
          "duration" : 0.07214,
          "end_time" : "2025-06-07T15:35:18.206388",
          "exception" : false,
          "start_time" : "2025-06-07T15:35:18.134248",
          "status" : "completed"
        },
        "tags" : []
      },
      "source" : ["** What are the top 5 townships (twp) for 911 calls? **"]
    },
    {
      "cell_type" : "code",
      "execution_count" : 7,
      "id" : "4d9f78f5",
      "metadata" : {
        "collapsed" : false,
        "execution" : {
          "iopub.execute_input" : "2025-06-07T15:35:18.2241Z",
          "iopub.status.busy" : "2025-06-07T15:35:18.223745Z",
          "iopub.status.idle" : "2025-06-07T15:35:18.236902Z",
          "shell.execute_reply" : "2025-06-07T15:35:18.236199Z"
        },
        "jupyter" : {"outputs_hidden" : false},
        "papermill" : {
          "duration" : 0.023657,
          "end_time" : "2025-06-07T15:35:18.238314",
          "exception" : false,
          "start_time" : "2025-06-07T15:35:18.214657",
          "status" : "completed"
        },
        "tags" : []
      },
      "outputs" : [ {
        "data" : {
          "text/plain" : [
            "twp\n", "LOWER MERION    8443\n", "ABINGTON        5977\n",
            "NORRISTOWN      5890\n", "UPPER MERION    5227\n",
            "CHELTENHAM      4575\n", "Name: count, dtype: int64"
          ]
        },
        "execution_count" : 7,
        "metadata" : {},
        "output_type" : "execute_result"
      } ],
      "source" : ["df['twp'].value_counts().head(5)"]
    },
    {
      "cell_type" : "markdown",
      "id" : "d5248ebb",
      "metadata" : {
        "papermill" : {
          "duration" : 0.008231,
          "end_time" : "2025-06-07T15:35:18.254935",
          "exception" : false,
          "start_time" : "2025-06-07T15:35:18.246704",
          "status" : "completed"
        },
        "tags" : []
      },
      "source" : ["** Take a look at the 'title' column, how many unique title "
                  "codes are there? **"]
    },
    {
      "cell_type" : "code",
      "execution_count" : 8,
      "id" : "b1610b97",
      "metadata" : {
        "collapsed" : false,
        "execution" : {
          "iopub.execute_input" : "2025-06-07T15:35:18.273498Z",
          "iopub.status.busy" : "2025-06-07T15:35:18.272774Z",
          "iopub.status.idle" : "2025-06-07T15:35:18.285168Z",
          "shell.execute_reply" : "2025-06-07T15:35:18.284368Z"
        },
        "jupyter" : {"outputs_hidden" : false},
        "papermill" : {
          "duration" : 0.023264,
          "end_time" : "2025-06-07T15:35:18.286624",
          "exception" : false,
          "start_time" : "2025-06-07T15:35:18.26336",
          "status" : "completed"
        },
        "tags" : []
      },
      "outputs" : [ {
        "data" : {"text/plain" : ["110"]},
        "execution_count" : 8,
        "metadata" : {},
        "output_type" : "execute_result"
      } ],
      "source" : ["df['title'].nunique()"]
    },
    {
      "cell_type" : "markdown",
      "id" : "ea07084b",
      "metadata" : {
        "papermill" : {
          "duration" : 0.008228,
          "end_time" : "2025-06-07T15:35:18.303485",
          "exception" : false,
          "start_time" : "2025-06-07T15:35:18.295257",
          "status" : "completed"
        },
        "tags" : []
      },
      "source" : ["## Creating new features"]
    },
    {
      "cell_type" : "markdown",
      "id" : "87393239",
      "metadata" : {
        "papermill" : {
          "duration" : 0.008087,
          "end_time" : "2025-06-07T15:35:18.32",
          "exception" : false,
          "start_time" : "2025-06-07T15:35:18.311913",
          "status" : "completed"
        },
        "tags" : []
      },
      "source" : [
        "** In the titles column there are \"Reasons/Departments\" specified "
        "before the title code. These are EMS, Fire, and Traffic. Use .apply() "
        "with a custom lambda expression to create a new column called "
        "\"Reason\" that contains this string value.** \n",
        "\n",
        "**For example, if the title column value is EMS: BACK PAINS/INJURY , "
        "the Reason column value would be EMS. **"
      ]
    },
    {
      "cell_type" : "code",
      "execution_count" : 9,
      "id" : "8a1c8ed7",
      "metadata" : {
        "execution" : {
          "iopub.execute_input" : "2025-06-07T15:35:18.338723Z",
          "iopub.status.busy" : "2025-06-07T15:35:18.337732Z",
          "iopub.status.idle" : "2025-06-07T15:35:18.374638Z",
          "shell.execute_reply" : "2025-06-07T15:35:18.37359Z"
        },
        "papermill" : {
          "duration" : 0.047748,
          "end_time" : "2025-06-07T15:35:18.376111",
          "exception" : false,
          "start_time" : "2025-06-07T15:35:18.328363",
          "status" : "completed"
        },
        "tags" : []
      },
      "outputs" : [ {
        "name" : "stdout",
        "output_type" : "stream",
        "text" : [
          "<class 'pandas.core.frame.DataFrame'>\n",
          "RangeIndex: 99492 entries, 0 to 99491\n",
          "Data columns (total 9 columns):\n",
          " #   Column     Non-Null Count  Dtype  \n",
          "---  ------     --------------  -----  \n",
          " 0   lat        99492 non-null  float64\n",
          " 1   lng        99492 non-null  float64\n",
          " 2   desc       99492 non-null  object \n",
          " 3   zip        86637 non-null  float64\n",
          " 4   title      99492 non-null  object \n",
          " 5   timeStamp  99492 non-null  object \n",
          " 6   twp        99449 non-null  object \n",
          " 7   addr       98973 non-null  object \n",
          " 8   e          99492 non-null  int64  \n",
          "dtypes: float64(3), int64(1), object(5)\n", "memory usage: 6.8+ MB\n"
        ]
      } ],
      "source" : [ "df.head(1)\n", "df.info()\n", "# new_df = df.apply()" ]
    },
    {
      "cell_type" : "markdown",
      "id" : "badc4c50",
      "metadata" : {
        "papermill" : {
          "duration" : 0.008304,
          "end_time" : "2025-06-07T15:35:18.393106",
          "exception" : false,
          "start_time" : "2025-06-07T15:35:18.384802",
          "status" : "completed"
        },
        "tags" : []
      },
      "source" : ["** What is the most common Reason for a 911 call based off "
                  "of this new column? **"]
    },
    {
      "cell_type" : "code",
      "execution_count" : null,
      "id" : "3ea1f2db",
      "metadata" : {
        "collapsed" : false,
        "jupyter" : {"outputs_hidden" : false},
        "papermill" : {
          "duration" : 0.008364,
          "end_time" : "2025-06-07T15:35:18.410065",
          "exception" : false,
          "start_time" : "2025-06-07T15:35:18.401701",
          "status" : "completed"
        },
        "tags" : []
      },
      "outputs" : [],
      "source" : []
    },
    {
      "cell_type" : "markdown",
      "id" : "13a029f4",
      "metadata" : {
        "papermill" : {
          "duration" : 0.00829,
          "end_time" : "2025-06-07T15:35:18.427002",
          "exception" : false,
          "start_time" : "2025-06-07T15:35:18.418712",
          "status" : "completed"
        },
        "tags" : []
      },
      "source" : ["** Now use seaborn to create a countplot of 911 calls by "
                  "Reason. **"]
    },
    {
      "cell_type" : "code",
      "execution_count" : null,
      "id" : "1f04e28d",
      "metadata" : {
        "collapsed" : false,
        "jupyter" : {"outputs_hidden" : false},
        "papermill" : {
          "duration" : 0.008093,
          "end_time" : "2025-06-07T15:35:18.443529",
          "exception" : false,
          "start_time" : "2025-06-07T15:35:18.435436",
          "status" : "completed"
        },
        "tags" : []
      },
      "outputs" : [],
      "source" : []
    },
    {
      "cell_type" : "markdown",
      "id" : "379bf569",
      "metadata" : {
        "papermill" : {
          "duration" : 0.008196,
          "end_time" : "2025-06-07T15:35:18.460476",
          "exception" : false,
          "start_time" : "2025-06-07T15:35:18.45228",
          "status" : "completed"
        },
        "tags" : []
      },
      "source" : [
        "___\n", "** Now let us begin to focus on time information. What is "
                 "the data type of the objects in the timeStamp column? **"
      ]
    },
    {
      "cell_type" : "code",
      "execution_count" : null,
      "id" : "01c00ae0",
      "metadata" : {
        "collapsed" : false,
        "jupyter" : {"outputs_hidden" : false},
        "papermill" : {
          "duration" : 0.008322,
          "end_time" : "2025-06-07T15:35:18.4773",
          "exception" : false,
          "start_time" : "2025-06-07T15:35:18.468978",
          "status" : "completed"
        },
        "tags" : []
      },
      "outputs" : [],
      "source" : []
    },
    {
      "cell_type" : "markdown",
      "id" : "19ed7fa6",
      "metadata" : {
        "papermill" : {
          "duration" : 0.008627,
          "end_time" : "2025-06-07T15:35:18.494371",
          "exception" : false,
          "start_time" : "2025-06-07T15:35:18.485744",
          "status" : "completed"
        },
        "tags" : []
      },
      "source" : ["** You should have seen that these timestamps are still "
                  "strings. Use "
                  "[pd.to_datetime](http://pandas.pydata.org/pandas-docs/"
                  "stable/generated/pandas.to_datetime.html) to convert the "
                  "column from strings to DateTime objects. **"]
    },
    {
      "cell_type" : "code",
      "execution_count" : null,
      "id" : "a03958ac",
      "metadata" : {
        "collapsed" : true,
        "jupyter" : {"outputs_hidden" : true},
        "papermill" : {
          "duration" : 0.008316,
          "end_time" : "2025-06-07T15:35:18.511224",
          "exception" : false,
          "start_time" : "2025-06-07T15:35:18.502908",
          "status" : "completed"
        },
        "tags" : []
      },
      "outputs" : [],
      "source" : []
    },
    {
      "cell_type" : "markdown",
      "id" : "a91b8ca9",
      "metadata" : {
        "papermill" : {
          "duration" : 0.00883,
          "end_time" : "2025-06-07T15:35:18.528656",
          "exception" : false,
          "start_time" : "2025-06-07T15:35:18.519826",
          "status" : "completed"
        },
        "tags" : []
      },
      "source" : [
        "** You can now grab specific attributes from a Datetime object by "
        "calling them. For example:**\n",
        "\n", "    time = df['timeStamp'].iloc[0]\n", "    time.hour\n", "\n",
        "**You can use Jupyter's tab method to explore the various attributes "
        "you can call. Now that the timestamp column are actually DateTime "
        "objects, use .apply() to create 3 new columns called Hour, Month, and "
        "Day of Week. You will create these columns based off of the timeStamp "
        "column, reference the solutions if you get stuck on this step.**"
      ]
    },
    {
      "cell_type" : "code",
      "execution_count" : null,
      "id" : "52a1ff1a",
      "metadata" : {
        "collapsed" : false,
        "jupyter" : {"outputs_hidden" : false},
        "papermill" : {
          "duration" : 0.008308,
          "end_time" : "2025-06-07T15:35:18.54555",
          "exception" : false,
          "start_time" : "2025-06-07T15:35:18.537242",
          "status" : "completed"
        },
        "tags" : []
      },
      "outputs" : [],
      "source" : []
    },
    {
      "cell_type" : "markdown",
      "id" : "2e24f935",
      "metadata" : {
        "collapsed" : false,
        "jupyter" : {"outputs_hidden" : false},
        "papermill" : {
          "duration" : 0.00826,
          "end_time" : "2025-06-07T15:35:18.562518",
          "exception" : false,
          "start_time" : "2025-06-07T15:35:18.554258",
          "status" : "completed"
        },
        "tags" : []
      },
      "source" : [
        "** Notice how the Day of Week is an integer 0-6. Use the .map() with "
        "this dictionary to map the actual string names to the day of the "
        "week: **\n",
        "\n",
        "    dmap = {0:'Mon',1:'Tue',2:'Wed',3:'Thu',4:'Fri',5:'Sat',6:'Sun'}"
      ]
    },
    {
      "cell_type" : "code",
      "execution_count" : null,
      "id" : "59b95923",
      "metadata" : {
        "collapsed" : false,
        "jupyter" : {"outputs_hidden" : false},
        "papermill" : {
          "duration" : 0.008378,
          "end_time" : "2025-06-07T15:35:18.579383",
          "exception" : false,
          "start_time" : "2025-06-07T15:35:18.571005",
          "status" : "completed"
        },
        "tags" : []
      },
      "outputs" : [],
      "source" : []
    },
    {
      "cell_type" : "code",
      "execution_count" : null,
      "id" : "58be64c9",
      "metadata" : {
        "collapsed" : false,
        "jupyter" : {"outputs_hidden" : false},
        "papermill" : {
          "duration" : 0.00837,
          "end_time" : "2025-06-07T15:35:18.59634",
          "exception" : false,
          "start_time" : "2025-06-07T15:35:18.58797",
          "status" : "completed"
        },
        "tags" : []
      },
      "outputs" : [],
      "source" : []
    },
    {
      "cell_type" : "markdown",
      "id" : "0f0da794",
      "metadata" : {
        "collapsed" : false,
        "jupyter" : {"outputs_hidden" : false},
        "papermill" : {
          "duration" : 0.008419,
          "end_time" : "2025-06-07T15:35:18.613227",
          "exception" : false,
          "start_time" : "2025-06-07T15:35:18.604808",
          "status" : "completed"
        },
        "tags" : []
      },
      "source" : ["** Now use seaborn to create a countplot of the Day of Week "
                  "column with the hue based off of the Reason column. **"]
    },
    {
      "cell_type" : "code",
      "execution_count" : null,
      "id" : "a5d2d6f1",
      "metadata" : {
        "collapsed" : false,
        "jupyter" : {"outputs_hidden" : false},
        "papermill" : {
          "duration" : 0.008149,
          "end_time" : "2025-06-07T15:35:18.629902",
          "exception" : false,
          "start_time" : "2025-06-07T15:35:18.621753",
          "status" : "completed"
        },
        "tags" : []
      },
      "outputs" : [],
      "source" : []
    },
    {
      "cell_type" : "markdown",
      "id" : "db8235c1",
      "metadata" : {
        "papermill" : {
          "duration" : 0.008299,
          "end_time" : "2025-06-07T15:35:18.6467",
          "exception" : false,
          "start_time" : "2025-06-07T15:35:18.638401",
          "status" : "completed"
        },
        "tags" : []
      },
      "source" : ["**Now do the same for Month:**"]
    },
    {
      "cell_type" : "code",
      "execution_count" : null,
      "id" : "3d221352",
      "metadata" : {
        "collapsed" : false,
        "jupyter" : {"outputs_hidden" : false},
        "papermill" : {
          "duration" : 0.008208,
          "end_time" : "2025-06-07T15:35:18.66335",
          "exception" : false,
          "start_time" : "2025-06-07T15:35:18.655142",
          "status" : "completed"
        },
        "tags" : []
      },
      "outputs" : [],
      "source" : []
    },
    {
      "cell_type" : "markdown",
      "id" : "3a3ec20d",
      "metadata" : {
        "papermill" : {
          "duration" : 0.008411,
          "end_time" : "2025-06-07T15:35:18.680372",
          "exception" : false,
          "start_time" : "2025-06-07T15:35:18.671961",
          "status" : "completed"
        },
        "tags" : []
      },
      "source" : [
        "**Did you notice something strange about the Plot?**\n", "\n",
        "_____\n", "\n",
        "** You should have noticed it was missing some Months, let's see if "
        "we can maybe fill in this information by plotting the information in "
        "another way, possibly a simple line plot that fills in the missing "
        "months, in order to do this, we'll need to do some work with "
        "pandas... **"
      ]
    },
    {
      "cell_type" : "markdown",
      "id" : "6330db73",
      "metadata" : {
        "papermill" : {
          "duration" : 0.008473,
          "end_time" : "2025-06-07T15:35:18.697363",
          "exception" : false,
          "start_time" : "2025-06-07T15:35:18.68889",
          "status" : "completed"
        },
        "tags" : []
      },
      "source" : ["** Now create a gropuby object called byMonth, where you "
                  "group the DataFrame by the month column and use the count() "
                  "method for aggregation. Use the head() method on this "
                  "returned DataFrame. **"]
    },
    {
      "cell_type" : "code",
      "execution_count" : null,
      "id" : "08dd9469",
      "metadata" : {
        "collapsed" : false,
        "jupyter" : {"outputs_hidden" : false},
        "papermill" : {
          "duration" : 0.008275,
          "end_time" : "2025-06-07T15:35:18.714193",
          "exception" : false,
          "start_time" : "2025-06-07T15:35:18.705918",
          "status" : "completed"
        },
        "tags" : []
      },
      "outputs" : [],
      "source" : []
    },
    {
      "cell_type" : "markdown",
      "id" : "7907cfb4",
      "metadata" : {
        "papermill" : {
          "duration" : 0.008903,
          "end_time" : "2025-06-07T15:35:18.731857",
          "exception" : false,
          "start_time" : "2025-06-07T15:35:18.722954",
          "status" : "completed"
        },
        "tags" : []
      },
      "source" : ["** Now create a simple plot off of the dataframe indicating "
                  "the count of calls per month. **"]
    },
    {
      "cell_type" : "code",
      "execution_count" : null,
      "id" : "223e109d",
      "metadata" : {
        "collapsed" : false,
        "jupyter" : {"outputs_hidden" : false},
        "papermill" : {
          "duration" : 0.00865,
          "end_time" : "2025-06-07T15:35:18.749408",
          "exception" : false,
          "start_time" : "2025-06-07T15:35:18.740758",
          "status" : "completed"
        },
        "tags" : []
      },
      "outputs" : [],
      "source" : []
    },
    {
      "cell_type" : "markdown",
      "id" : "e3a5673c",
      "metadata" : {
        "papermill" : {
          "duration" : 0.008874,
          "end_time" : "2025-06-07T15:35:18.767151",
          "exception" : false,
          "start_time" : "2025-06-07T15:35:18.758277",
          "status" : "completed"
        },
        "tags" : []
      },
      "source" : ["** Now see if you can use seaborn's lmplot() to create a "
                  "linear fit on the number of calls per month. Keep in mind "
                  "you may need to reset the index to a column. **"]
    },
    {
      "cell_type" : "code",
      "execution_count" : null,
      "id" : "2a7dff41",
      "metadata" : {
        "collapsed" : false,
        "jupyter" : {"outputs_hidden" : false},
        "papermill" : {
          "duration" : 0.008414,
          "end_time" : "2025-06-07T15:35:18.784135",
          "exception" : false,
          "start_time" : "2025-06-07T15:35:18.775721",
          "status" : "completed"
        },
        "tags" : []
      },
      "outputs" : [],
      "source" : []
    },
    {
      "cell_type" : "markdown",
      "id" : "d200c0ff",
      "metadata" : {
        "papermill" : {
          "duration" : 0.008463,
          "end_time" : "2025-06-07T15:35:18.801365",
          "exception" : false,
          "start_time" : "2025-06-07T15:35:18.792902",
          "status" : "completed"
        },
        "tags" : []
      },
      "source" : ["**Create a new column called 'Date' that contains the date "
                  "from the timeStamp column. You'll need to use apply along "
                  "with the .date() method. ** "]
    },
    {
      "cell_type" : "code",
      "execution_count" : null,
      "id" : "db05f632",
      "metadata" : {
        "collapsed" : true,
        "jupyter" : {"outputs_hidden" : true},
        "papermill" : {
          "duration" : 0.00843,
          "end_time" : "2025-06-07T15:35:18.818176",
          "exception" : false,
          "start_time" : "2025-06-07T15:35:18.809746",
          "status" : "completed"
        },
        "tags" : []
      },
      "outputs" : [],
      "source" : []
    },
    {
      "cell_type" : "markdown",
      "id" : "ff63425c",
      "metadata" : {
        "papermill" : {
          "duration" : 0.008147,
          "end_time" : "2025-06-07T15:35:18.834769",
          "exception" : false,
          "start_time" : "2025-06-07T15:35:18.826622",
          "status" : "completed"
        },
        "tags" : []
      },
      "source" : ["** Now groupby this Date column with the count() aggregate "
                  "and create a plot of counts of 911 calls.**"]
    },
    {
      "cell_type" : "code",
      "execution_count" : null,
      "id" : "f7640e76",
      "metadata" : {
        "collapsed" : false,
        "jupyter" : {"outputs_hidden" : false},
        "papermill" : {
          "duration" : 0.008181,
          "end_time" : "2025-06-07T15:35:18.851388",
          "exception" : false,
          "start_time" : "2025-06-07T15:35:18.843207",
          "status" : "completed"
        },
        "tags" : []
      },
      "outputs" : [],
      "source" : []
    },
    {
      "cell_type" : "markdown",
      "id" : "ad11e2e6",
      "metadata" : {
        "papermill" : {
          "duration" : 0.0083,
          "end_time" : "2025-06-07T15:35:18.868208",
          "exception" : false,
          "start_time" : "2025-06-07T15:35:18.859908",
          "status" : "completed"
        },
        "tags" : []
      },
      "source" : ["** Now recreate this plot but create 3 separate plots with "
                  "each plot representing a Reason for the 911 call**"]
    },
    {
      "cell_type" : "code",
      "execution_count" : null,
      "id" : "3dc7545a",
      "metadata" : {
        "collapsed" : false,
        "jupyter" : {"outputs_hidden" : false},
        "papermill" : {
          "duration" : 0.008337,
          "end_time" : "2025-06-07T15:35:18.88496",
          "exception" : false,
          "start_time" : "2025-06-07T15:35:18.876623",
          "status" : "completed"
        },
        "tags" : []
      },
      "outputs" : [],
      "source" : []
    },
    {
      "cell_type" : "code",
      "execution_count" : null,
      "id" : "648f40a2",
      "metadata" : {
        "collapsed" : false,
        "jupyter" : {"outputs_hidden" : false},
        "papermill" : {
          "duration" : 0.008337,
          "end_time" : "2025-06-07T15:35:18.901849",
          "exception" : false,
          "start_time" : "2025-06-07T15:35:18.893512",
          "status" : "completed"
        },
        "tags" : []
      },
      "outputs" : [],
      "source" : []
    },
    {
      "cell_type" : "code",
      "execution_count" : null,
      "id" : "1e1748b2",
      "metadata" : {
        "collapsed" : false,
        "jupyter" : {"outputs_hidden" : false},
        "papermill" : {
          "duration" : 0.008356,
          "end_time" : "2025-06-07T15:35:18.918706",
          "exception" : false,
          "start_time" : "2025-06-07T15:35:18.91035",
          "status" : "completed"
        },
        "tags" : []
      },
      "outputs" : [],
      "source" : []
    },
    {
      "cell_type" : "markdown",
      "id" : "48ef4c91",
      "metadata" : {
        "collapsed" : false,
        "jupyter" : {"outputs_hidden" : false},
        "papermill" : {
          "duration" : 0.008373,
          "end_time" : "2025-06-07T15:35:18.935652",
          "exception" : false,
          "start_time" : "2025-06-07T15:35:18.927279",
          "status" : "completed"
        },
        "tags" : []
      },
      "source" : [
        "____\n", "** Now let's move on to creating  heatmaps with seaborn and "
                  "our data. We'll first need to restructure the dataframe so "
                  "that the columns become the Hours and the Index becomes the "
                  "Day of the Week. There are lots of ways to do this, but I "
                  "would recommend trying to combine groupby with an "
                  "[unstack](http://pandas.pydata.org/pandas-docs/stable/"
                  "generated/pandas.DataFrame.unstack.html) method. Reference "
                  "the solutions if you get stuck on this!**"
      ]
    },
    {
      "cell_type" : "code",
      "execution_count" : null,
      "id" : "6088f0fd",
      "metadata" : {
        "collapsed" : false,
        "jupyter" : {"outputs_hidden" : false},
        "papermill" : {
          "duration" : 0.008259,
          "end_time" : "2025-06-07T15:35:18.952583",
          "exception" : false,
          "start_time" : "2025-06-07T15:35:18.944324",
          "status" : "completed"
        },
        "tags" : []
      },
      "outputs" : [],
      "source" : []
    },
    {
      "cell_type" : "markdown",
      "id" : "dd78ab51",
      "metadata" : {
        "collapsed" : false,
        "jupyter" : {"outputs_hidden" : false},
        "papermill" : {
          "duration" : 0.008286,
          "end_time" : "2025-06-07T15:35:18.969272",
          "exception" : false,
          "start_time" : "2025-06-07T15:35:18.960986",
          "status" : "completed"
        },
        "tags" : []
      },
      "source" : ["** Now create a HeatMap using this new DataFrame. **"]
    },
    {
      "cell_type" : "code",
      "execution_count" : null,
      "id" : "973c8170",
      "metadata" : {
        "collapsed" : false,
        "jupyter" : {"outputs_hidden" : false},
        "papermill" : {
          "duration" : 0.008271,
          "end_time" : "2025-06-07T15:35:18.986495",
          "exception" : false,
          "start_time" : "2025-06-07T15:35:18.978224",
          "status" : "completed"
        },
        "tags" : []
      },
      "outputs" : [],
      "source" : []
    },
    {
      "cell_type" : "markdown",
      "id" : "5897bdd4",
      "metadata" : {
        "collapsed" : false,
        "jupyter" : {"outputs_hidden" : false},
        "papermill" : {
          "duration" : 0.008119,
          "end_time" : "2025-06-07T15:35:19.002994",
          "exception" : false,
          "start_time" : "2025-06-07T15:35:18.994875",
          "status" : "completed"
        },
        "tags" : []
      },
      "source" : ["** Now create a clustermap using this DataFrame. **"]
    },
    {
      "cell_type" : "code",
      "execution_count" : null,
      "id" : "0b84fcee",
      "metadata" : {
        "collapsed" : false,
        "jupyter" : {"outputs_hidden" : false},
        "papermill" : {
          "duration" : 0.008199,
          "end_time" : "2025-06-07T15:35:19.019641",
          "exception" : false,
          "start_time" : "2025-06-07T15:35:19.011442",
          "status" : "completed"
        },
        "tags" : []
      },
      "outputs" : [],
      "source" : []
    },
    {
      "cell_type" : "markdown",
      "id" : "d73561c6",
      "metadata" : {
        "papermill" : {
          "duration" : 0.008189,
          "end_time" : "2025-06-07T15:35:19.036205",
          "exception" : false,
          "start_time" : "2025-06-07T15:35:19.028016",
          "status" : "completed"
        },
        "tags" : []
      },
      "source" : ["** Now repeat these same plots and operations, for a "
                  "DataFrame that shows the Month as the column. **"]
    },
    {
      "cell_type" : "code",
      "execution_count" : null,
      "id" : "561ad115",
      "metadata" : {
        "collapsed" : false,
        "jupyter" : {"outputs_hidden" : false},
        "papermill" : {
          "duration" : 0.008204,
          "end_time" : "2025-06-07T15:35:19.052717",
          "exception" : false,
          "start_time" : "2025-06-07T15:35:19.044513",
          "status" : "completed"
        },
        "tags" : []
      },
      "outputs" : [],
      "source" : []
    },
    {
      "cell_type" : "code",
      "execution_count" : null,
      "id" : "6bdc8691",
      "metadata" : {
        "collapsed" : false,
        "jupyter" : {"outputs_hidden" : false},
        "papermill" : {
          "duration" : 0.008256,
          "end_time" : "2025-06-07T15:35:19.0694",
          "exception" : false,
          "start_time" : "2025-06-07T15:35:19.061144",
          "status" : "completed"
        },
        "tags" : []
      },
      "outputs" : [],
      "source" : []
    },
    {
      "cell_type" : "code",
      "execution_count" : null,
      "id" : "0de62c21",
      "metadata" : {
        "collapsed" : false,
        "jupyter" : {"outputs_hidden" : false},
        "papermill" : {
          "duration" : 0.008185,
          "end_time" : "2025-06-07T15:35:19.085968",
          "exception" : false,
          "start_time" : "2025-06-07T15:35:19.077783",
          "status" : "completed"
        },
        "tags" : []
      },
      "outputs" : [],
      "source" : []
    },
    {
      "cell_type" : "markdown",
      "id" : "c711d693",
      "metadata" : {
        "collapsed" : true,
        "jupyter" : {"outputs_hidden" : true},
        "papermill" : {
          "duration" : 0.008315,
          "end_time" : "2025-06-07T15:35:19.102714",
          "exception" : false,
          "start_time" : "2025-06-07T15:35:19.094399",
          "status" : "completed"
        },
        "tags" : []
      },
      "source" : [
        "**Continue exploring the Data however you see fit!**\n", "# Great Job!"
      ]
    }
  ],
  "metadata" : {
    "kaggle" : {
      "accelerator" : "none",
      "dataSources" : [
        {
          "datasetId" : 7609225,
          "sourceId" : 12089784,
          "sourceType" : "datasetVersion"
        },
        {"sourceId" : 244232943, "sourceType" : "kernelVersion"}
      ],
      "dockerImageVersionId" : 31040,
      "isGpuEnabled" : false,
      "isInternetEnabled" : true,
      "language" : "python",
      "sourceType" : "notebook"
    },
    "kernelspec" : {
      "display_name" : "Python 3",
      "language" : "python",
      "name" : "python3"
    },
    "language_info" : {
      "codemirror_mode" : {"name" : "ipython", "version" : 3},
      "file_extension" : ".py",
      "mimetype" : "text/x-python",
      "name" : "python",
      "nbconvert_exporter" : "python",
      "pygments_lexer" : "ipython3",
      "version" : "3.11.11"
    },
    "papermill" : {
      "default_parameters" : {},
      "duration" : 10.869469,
      "end_time" : "2025-06-07T15:35:19.731097",
      "environment_variables" : {},
      "exception" : null,
      "input_path" : "__notebook__.ipynb",
      "output_path" : "__notebook__.ipynb",
      "parameters" : {},
      "start_time" : "2025-06-07T15:35:08.861628",
      "version" : "2.6.0"
    }
  },
  "nbformat" : 4,
  "nbformat_minor" : 5
}
