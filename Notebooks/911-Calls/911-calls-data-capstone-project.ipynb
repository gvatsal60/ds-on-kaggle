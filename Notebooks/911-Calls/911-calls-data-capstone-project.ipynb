{
  "cells": [
    {
      "cell_type": "markdown",
      "id": "7fb27b941602401d91542211134fc71a",
      "metadata": {},
      "source": "<a href=\"https://www.kaggle.com/code/gvatsal60/911-calls-data-capstone-project?scriptVersionId=245964699\" target=\"_blank\"><img align=\"left\" alt=\"Kaggle\" title=\"Open in Kaggle\" src=\"https://kaggle.com/static/images/open-in-kaggle.svg\"></a>"
    },
    {
      "cell_type": "markdown",
      "id": "bae00f4d",
      "metadata": {
        "papermill": {
          "duration": 0.009408,
          "end_time": "2025-06-17T16:07:49.630345",
          "exception": false,
          "start_time": "2025-06-17T16:07:49.620937",
          "status": "completed"
        },
        "tags": []
      },
      "source": [
        "# 911 Calls"
      ]
    },
    {
      "cell_type": "markdown",
      "id": "28a47dcc",
      "metadata": {
        "papermill": {
          "duration": 0.008958,
          "end_time": "2025-06-17T16:07:49.648743",
          "exception": false,
          "start_time": "2025-06-17T16:07:49.639785",
          "status": "completed"
        },
        "tags": []
      },
      "source": [
        "For this capstone project we will be analyzing some 911 call data from [Kaggle](https://www.kaggle.com/mchirico/montcoalert). The data contains the following fields:\n",
        "\n",
        "* lat : String variable, Latitude\n",
        "* lng: String variable, Longitude\n",
        "* desc: String variable, Description of the Emergency Call\n",
        "* zip: String variable, Zipcode\n",
        "* title: String variable, Title\n",
        "* timeStamp: String variable, YYYY-MM-DD HH:MM:SS\n",
        "* twp: String variable, Township\n",
        "* addr: String variable, Address\n",
        "* e: String variable, Dummy variable (always 1)\n",
        "\n",
        "Just go along with this notebook and try to complete the instructions or answer the questions in bold using your Python and Data Science skills!"
      ]
    },
    {
      "cell_type": "markdown",
      "id": "2df72317",
      "metadata": {
        "papermill": {
          "duration": 0.00847,
          "end_time": "2025-06-17T16:07:49.665093",
          "exception": false,
          "start_time": "2025-06-17T16:07:49.656623",
          "status": "completed"
        },
        "tags": []
      },
      "source": [
        "## Data and Setup"
      ]
    },
    {
      "cell_type": "markdown",
      "id": "26efaf5e",
      "metadata": {
        "papermill": {
          "duration": 0.008359,
          "end_time": "2025-06-17T16:07:49.682921",
          "exception": false,
          "start_time": "2025-06-17T16:07:49.674562",
          "status": "completed"
        },
        "tags": []
      },
      "source": [
        "** Import numpy and pandas **"
      ]
    },
    {
      "cell_type": "code",
      "execution_count": 1,
      "id": "dce0fe36",
      "metadata": {
        "execution": {
          "iopub.execute_input": "2025-06-17T16:07:49.701258Z",
          "iopub.status.busy": "2025-06-17T16:07:49.700851Z",
          "iopub.status.idle": "2025-06-17T16:07:51.907837Z",
          "shell.execute_reply": "2025-06-17T16:07:51.906887Z"
        },
        "papermill": {
          "duration": 2.218364,
          "end_time": "2025-06-17T16:07:51.909882",
          "exception": false,
          "start_time": "2025-06-17T16:07:49.691518",
          "status": "completed"
        },
        "tags": []
      },
      "outputs": [],
      "source": [
        "import pandas as pd"
      ]
    },
    {
      "cell_type": "markdown",
      "id": "8bf646a3",
      "metadata": {
        "papermill": {
          "duration": 0.008363,
          "end_time": "2025-06-17T16:07:51.932264",
          "exception": false,
          "start_time": "2025-06-17T16:07:51.923901",
          "status": "completed"
        },
        "tags": []
      },
      "source": [
        "** Import visualization libraries and set %matplotlib inline. **"
      ]
    },
    {
      "cell_type": "code",
      "execution_count": 2,
      "id": "9ec4d46a",
      "metadata": {
        "collapsed": false,
        "execution": {
          "iopub.execute_input": "2025-06-17T16:07:51.950506Z",
          "iopub.status.busy": "2025-06-17T16:07:51.949546Z",
          "iopub.status.idle": "2025-06-17T16:07:54.174085Z",
          "shell.execute_reply": "2025-06-17T16:07:54.17305Z"
        },
        "jupyter": {
          "outputs_hidden": false
        },
        "papermill": {
          "duration": 2.23572,
          "end_time": "2025-06-17T16:07:54.175865",
          "exception": false,
          "start_time": "2025-06-17T16:07:51.940145",
          "status": "completed"
        },
        "tags": []
      },
      "outputs": [],
      "source": [
        "import seaborn as sns\n",
        "\n",
        "sns.set_style(\"whitegrid\")\n",
        "%matplotlib inline"
      ]
    },
    {
      "cell_type": "markdown",
      "id": "a8047f01",
      "metadata": {
        "papermill": {
          "duration": 0.007562,
          "end_time": "2025-06-17T16:07:54.191805",
          "exception": false,
          "start_time": "2025-06-17T16:07:54.184243",
          "status": "completed"
        },
        "tags": []
      },
      "source": [
        "** Read in the csv file as a dataframe called df **"
      ]
    },
    {
      "cell_type": "code",
      "execution_count": 3,
      "id": "795587a5",
      "metadata": {
        "execution": {
          "iopub.execute_input": "2025-06-17T16:07:54.20968Z",
          "iopub.status.busy": "2025-06-17T16:07:54.209229Z",
          "iopub.status.idle": "2025-06-17T16:07:54.857938Z",
          "shell.execute_reply": "2025-06-17T16:07:54.857021Z"
        },
        "papermill": {
          "duration": 0.65974,
          "end_time": "2025-06-17T16:07:54.859652",
          "exception": false,
          "start_time": "2025-06-17T16:07:54.199912",
          "status": "completed"
        },
        "tags": []
      },
      "outputs": [],
      "source": [
        "csv_path = \"/kaggle/input/911-calls-data/911.csv\"\n",
        "df = pd.read_csv(csv_path)"
      ]
    },
    {
      "cell_type": "markdown",
      "id": "d28f39a5",
      "metadata": {
        "papermill": {
          "duration": 0.008826,
          "end_time": "2025-06-17T16:07:54.876858",
          "exception": false,
          "start_time": "2025-06-17T16:07:54.868032",
          "status": "completed"
        },
        "tags": []
      },
      "source": [
        "** Check the info() of the df **"
      ]
    },
    {
      "cell_type": "code",
      "execution_count": 4,
      "id": "b34a64ed",
      "metadata": {
        "collapsed": false,
        "execution": {
          "iopub.execute_input": "2025-06-17T16:07:54.894223Z",
          "iopub.status.busy": "2025-06-17T16:07:54.893882Z",
          "iopub.status.idle": "2025-06-17T16:07:54.950341Z",
          "shell.execute_reply": "2025-06-17T16:07:54.949271Z"
        },
        "jupyter": {
          "outputs_hidden": false
        },
        "papermill": {
          "duration": 0.067177,
          "end_time": "2025-06-17T16:07:54.951982",
          "exception": false,
          "start_time": "2025-06-17T16:07:54.884805",
          "status": "completed"
        },
        "tags": []
      },
      "outputs": [
        {
          "name": "stdout",
          "output_type": "stream",
          "text": [
            "<class 'pandas.core.frame.DataFrame'>\n",
            "RangeIndex: 99492 entries, 0 to 99491\n",
            "Data columns (total 9 columns):\n",
            " #   Column     Non-Null Count  Dtype  \n",
            "---  ------     --------------  -----  \n",
            " 0   lat        99492 non-null  float64\n",
            " 1   lng        99492 non-null  float64\n",
            " 2   desc       99492 non-null  object \n",
            " 3   zip        86637 non-null  float64\n",
            " 4   title      99492 non-null  object \n",
            " 5   timeStamp  99492 non-null  object \n",
            " 6   twp        99449 non-null  object \n",
            " 7   addr       98973 non-null  object \n",
            " 8   e          99492 non-null  int64  \n",
            "dtypes: float64(3), int64(1), object(5)\n",
            "memory usage: 6.8+ MB\n"
          ]
        }
      ],
      "source": [
        "df.info()"
      ]
    },
    {
      "cell_type": "markdown",
      "id": "c9a84b2f",
      "metadata": {
        "collapsed": false,
        "jupyter": {
          "outputs_hidden": false
        },
        "papermill": {
          "duration": 0.007739,
          "end_time": "2025-06-17T16:07:54.967789",
          "exception": false,
          "start_time": "2025-06-17T16:07:54.96005",
          "status": "completed"
        },
        "tags": []
      },
      "source": [
        "** Check the head of df **"
      ]
    },
    {
      "cell_type": "code",
      "execution_count": 5,
      "id": "3dc8645c",
      "metadata": {
        "collapsed": false,
        "execution": {
          "iopub.execute_input": "2025-06-17T16:07:54.985043Z",
          "iopub.status.busy": "2025-06-17T16:07:54.98474Z",
          "iopub.status.idle": "2025-06-17T16:07:55.010171Z",
          "shell.execute_reply": "2025-06-17T16:07:55.009247Z"
        },
        "jupyter": {
          "outputs_hidden": false
        },
        "papermill": {
          "duration": 0.036229,
          "end_time": "2025-06-17T16:07:55.012065",
          "exception": false,
          "start_time": "2025-06-17T16:07:54.975836",
          "status": "completed"
        },
        "tags": []
      },
      "outputs": [
        {
          "data": {
            "text/html": [
              "<div>\n",
              "<style scoped>\n",
              "    .dataframe tbody tr th:only-of-type {\n",
              "        vertical-align: middle;\n",
              "    }\n",
              "\n",
              "    .dataframe tbody tr th {\n",
              "        vertical-align: top;\n",
              "    }\n",
              "\n",
              "    .dataframe thead th {\n",
              "        text-align: right;\n",
              "    }\n",
              "</style>\n",
              "<table border=\"1\" class=\"dataframe\">\n",
              "  <thead>\n",
              "    <tr style=\"text-align: right;\">\n",
              "      <th></th>\n",
              "      <th>lat</th>\n",
              "      <th>lng</th>\n",
              "      <th>desc</th>\n",
              "      <th>zip</th>\n",
              "      <th>title</th>\n",
              "      <th>timeStamp</th>\n",
              "      <th>twp</th>\n",
              "      <th>addr</th>\n",
              "      <th>e</th>\n",
              "    </tr>\n",
              "  </thead>\n",
              "  <tbody>\n",
              "    <tr>\n",
              "      <th>0</th>\n",
              "      <td>40.297876</td>\n",
              "      <td>-75.581294</td>\n",
              "      <td>REINDEER CT &amp; DEAD END;  NEW HANOVER; Station ...</td>\n",
              "      <td>19525.0</td>\n",
              "      <td>EMS: BACK PAINS/INJURY</td>\n",
              "      <td>2015-12-10 17:40:00</td>\n",
              "      <td>NEW HANOVER</td>\n",
              "      <td>REINDEER CT &amp; DEAD END</td>\n",
              "      <td>1</td>\n",
              "    </tr>\n",
              "    <tr>\n",
              "      <th>1</th>\n",
              "      <td>40.258061</td>\n",
              "      <td>-75.264680</td>\n",
              "      <td>BRIAR PATH &amp; WHITEMARSH LN;  HATFIELD TOWNSHIP...</td>\n",
              "      <td>19446.0</td>\n",
              "      <td>EMS: DIABETIC EMERGENCY</td>\n",
              "      <td>2015-12-10 17:40:00</td>\n",
              "      <td>HATFIELD TOWNSHIP</td>\n",
              "      <td>BRIAR PATH &amp; WHITEMARSH LN</td>\n",
              "      <td>1</td>\n",
              "    </tr>\n",
              "    <tr>\n",
              "      <th>2</th>\n",
              "      <td>40.121182</td>\n",
              "      <td>-75.351975</td>\n",
              "      <td>HAWS AVE; NORRISTOWN; 2015-12-10 @ 14:39:21-St...</td>\n",
              "      <td>19401.0</td>\n",
              "      <td>Fire: GAS-ODOR/LEAK</td>\n",
              "      <td>2015-12-10 17:40:00</td>\n",
              "      <td>NORRISTOWN</td>\n",
              "      <td>HAWS AVE</td>\n",
              "      <td>1</td>\n",
              "    </tr>\n",
              "  </tbody>\n",
              "</table>\n",
              "</div>"
            ],
            "text/plain": [
              "         lat        lng                                               desc  \\\n",
              "0  40.297876 -75.581294  REINDEER CT & DEAD END;  NEW HANOVER; Station ...   \n",
              "1  40.258061 -75.264680  BRIAR PATH & WHITEMARSH LN;  HATFIELD TOWNSHIP...   \n",
              "2  40.121182 -75.351975  HAWS AVE; NORRISTOWN; 2015-12-10 @ 14:39:21-St...   \n",
              "\n",
              "       zip                    title            timeStamp                twp  \\\n",
              "0  19525.0   EMS: BACK PAINS/INJURY  2015-12-10 17:40:00        NEW HANOVER   \n",
              "1  19446.0  EMS: DIABETIC EMERGENCY  2015-12-10 17:40:00  HATFIELD TOWNSHIP   \n",
              "2  19401.0      Fire: GAS-ODOR/LEAK  2015-12-10 17:40:00         NORRISTOWN   \n",
              "\n",
              "                         addr  e  \n",
              "0      REINDEER CT & DEAD END  1  \n",
              "1  BRIAR PATH & WHITEMARSH LN  1  \n",
              "2                    HAWS AVE  1  "
            ]
          },
          "execution_count": 5,
          "metadata": {},
          "output_type": "execute_result"
        }
      ],
      "source": [
        "df.head(3)"
      ]
    },
    {
      "cell_type": "markdown",
      "id": "8bcfe50a",
      "metadata": {
        "papermill": {
          "duration": 0.008128,
          "end_time": "2025-06-17T16:07:55.028847",
          "exception": false,
          "start_time": "2025-06-17T16:07:55.020719",
          "status": "completed"
        },
        "tags": []
      },
      "source": [
        "## Basic Questions"
      ]
    },
    {
      "cell_type": "markdown",
      "id": "481e0bb7",
      "metadata": {
        "papermill": {
          "duration": 0.007971,
          "end_time": "2025-06-17T16:07:55.044795",
          "exception": false,
          "start_time": "2025-06-17T16:07:55.036824",
          "status": "completed"
        },
        "tags": []
      },
      "source": [
        "** What are the top 5 zipcodes for 911 calls? **"
      ]
    },
    {
      "cell_type": "code",
      "execution_count": 6,
      "id": "690886f6",
      "metadata": {
        "collapsed": false,
        "execution": {
          "iopub.execute_input": "2025-06-17T16:07:55.062151Z",
          "iopub.status.busy": "2025-06-17T16:07:55.06183Z",
          "iopub.status.idle": "2025-06-17T16:07:55.07301Z",
          "shell.execute_reply": "2025-06-17T16:07:55.072249Z"
        },
        "jupyter": {
          "outputs_hidden": false
        },
        "papermill": {
          "duration": 0.021711,
          "end_time": "2025-06-17T16:07:55.074561",
          "exception": false,
          "start_time": "2025-06-17T16:07:55.05285",
          "status": "completed"
        },
        "tags": []
      },
      "outputs": [
        {
          "data": {
            "text/plain": [
              "zip\n",
              "19401.0    6979\n",
              "19464.0    6643\n",
              "19403.0    4854\n",
              "19446.0    4748\n",
              "19406.0    3174\n",
              "Name: count, dtype: int64"
            ]
          },
          "execution_count": 6,
          "metadata": {},
          "output_type": "execute_result"
        }
      ],
      "source": [
        "df[\"zip\"].value_counts().head(5)"
      ]
    },
    {
      "cell_type": "markdown",
      "id": "714937f1",
      "metadata": {
        "papermill": {
          "duration": 0.07088,
          "end_time": "2025-06-17T16:07:55.154381",
          "exception": false,
          "start_time": "2025-06-17T16:07:55.083501",
          "status": "completed"
        },
        "tags": []
      },
      "source": [
        "** What are the top 5 townships (twp) for 911 calls? **"
      ]
    },
    {
      "cell_type": "code",
      "execution_count": 7,
      "id": "8ff107c1",
      "metadata": {
        "collapsed": false,
        "execution": {
          "iopub.execute_input": "2025-06-17T16:07:55.174912Z",
          "iopub.status.busy": "2025-06-17T16:07:55.174606Z",
          "iopub.status.idle": "2025-06-17T16:07:55.18977Z",
          "shell.execute_reply": "2025-06-17T16:07:55.188706Z"
        },
        "jupyter": {
          "outputs_hidden": false
        },
        "papermill": {
          "duration": 0.026618,
          "end_time": "2025-06-17T16:07:55.191465",
          "exception": false,
          "start_time": "2025-06-17T16:07:55.164847",
          "status": "completed"
        },
        "tags": []
      },
      "outputs": [
        {
          "data": {
            "text/plain": [
              "twp\n",
              "LOWER MERION    8443\n",
              "ABINGTON        5977\n",
              "NORRISTOWN      5890\n",
              "UPPER MERION    5227\n",
              "CHELTENHAM      4575\n",
              "Name: count, dtype: int64"
            ]
          },
          "execution_count": 7,
          "metadata": {},
          "output_type": "execute_result"
        }
      ],
      "source": [
        "df[\"twp\"].value_counts().head(5)"
      ]
    },
    {
      "cell_type": "markdown",
      "id": "154f7cbd",
      "metadata": {
        "papermill": {
          "duration": 0.008628,
          "end_time": "2025-06-17T16:07:55.209103",
          "exception": false,
          "start_time": "2025-06-17T16:07:55.200475",
          "status": "completed"
        },
        "tags": []
      },
      "source": [
        "** Take a look at the 'title' column, how many unique title codes are there? **"
      ]
    },
    {
      "cell_type": "code",
      "execution_count": 8,
      "id": "5f7e984c",
      "metadata": {
        "collapsed": false,
        "execution": {
          "iopub.execute_input": "2025-06-17T16:07:55.229697Z",
          "iopub.status.busy": "2025-06-17T16:07:55.229386Z",
          "iopub.status.idle": "2025-06-17T16:07:55.243204Z",
          "shell.execute_reply": "2025-06-17T16:07:55.242391Z"
        },
        "jupyter": {
          "outputs_hidden": false
        },
        "papermill": {
          "duration": 0.027355,
          "end_time": "2025-06-17T16:07:55.244876",
          "exception": false,
          "start_time": "2025-06-17T16:07:55.217521",
          "status": "completed"
        },
        "tags": []
      },
      "outputs": [
        {
          "data": {
            "text/plain": [
              "110"
            ]
          },
          "execution_count": 8,
          "metadata": {},
          "output_type": "execute_result"
        }
      ],
      "source": [
        "df[\"title\"].nunique()"
      ]
    },
    {
      "cell_type": "markdown",
      "id": "c188cf0e",
      "metadata": {
        "papermill": {
          "duration": 0.00943,
          "end_time": "2025-06-17T16:07:55.263654",
          "exception": false,
          "start_time": "2025-06-17T16:07:55.254224",
          "status": "completed"
        },
        "tags": []
      },
      "source": [
        "## Creating new features"
      ]
    },
    {
      "cell_type": "markdown",
      "id": "9685b3dc",
      "metadata": {
        "papermill": {
          "duration": 0.008333,
          "end_time": "2025-06-17T16:07:55.281609",
          "exception": false,
          "start_time": "2025-06-17T16:07:55.273276",
          "status": "completed"
        },
        "tags": []
      },
      "source": [
        "** In the titles column there are \"Reasons/Departments\" specified before the title code. These are EMS, Fire, and Traffic. Use .apply() with a custom lambda expression to create a new column called \"Reason\" that contains this string value.** \n",
        "\n",
        "**For example, if the title column value is EMS: BACK PAINS/INJURY , the Reason column value would be EMS. **"
      ]
    },
    {
      "cell_type": "code",
      "execution_count": 9,
      "id": "f097addf",
      "metadata": {
        "execution": {
          "iopub.execute_input": "2025-06-17T16:07:55.301262Z",
          "iopub.status.busy": "2025-06-17T16:07:55.300925Z",
          "iopub.status.idle": "2025-06-17T16:07:55.337486Z",
          "shell.execute_reply": "2025-06-17T16:07:55.336372Z"
        },
        "papermill": {
          "duration": 0.048518,
          "end_time": "2025-06-17T16:07:55.339397",
          "exception": false,
          "start_time": "2025-06-17T16:07:55.290879",
          "status": "completed"
        },
        "tags": []
      },
      "outputs": [
        {
          "name": "stdout",
          "output_type": "stream",
          "text": [
            "<class 'pandas.core.frame.DataFrame'>\n",
            "RangeIndex: 99492 entries, 0 to 99491\n",
            "Data columns (total 9 columns):\n",
            " #   Column     Non-Null Count  Dtype  \n",
            "---  ------     --------------  -----  \n",
            " 0   lat        99492 non-null  float64\n",
            " 1   lng        99492 non-null  float64\n",
            " 2   desc       99492 non-null  object \n",
            " 3   zip        86637 non-null  float64\n",
            " 4   title      99492 non-null  object \n",
            " 5   timeStamp  99492 non-null  object \n",
            " 6   twp        99449 non-null  object \n",
            " 7   addr       98973 non-null  object \n",
            " 8   e          99492 non-null  int64  \n",
            "dtypes: float64(3), int64(1), object(5)\n",
            "memory usage: 6.8+ MB\n"
          ]
        }
      ],
      "source": [
        "df.head(1)\n",
        "df.info()"
      ]
    },
    {
      "cell_type": "markdown",
      "id": "16e47306",
      "metadata": {
        "papermill": {
          "duration": 0.008313,
          "end_time": "2025-06-17T16:07:55.356442",
          "exception": false,
          "start_time": "2025-06-17T16:07:55.348129",
          "status": "completed"
        },
        "tags": []
      },
      "source": [
        "** What is the most common Reason for a 911 call based off of this new column? **"
      ]
    },
    {
      "cell_type": "code",
      "execution_count": null,
      "id": "adaeca6d",
      "metadata": {
        "collapsed": false,
        "jupyter": {
          "outputs_hidden": false
        },
        "papermill": {
          "duration": 0.008946,
          "end_time": "2025-06-17T16:07:55.374313",
          "exception": false,
          "start_time": "2025-06-17T16:07:55.365367",
          "status": "completed"
        },
        "tags": []
      },
      "outputs": [],
      "source": []
    },
    {
      "cell_type": "markdown",
      "id": "c28f6a89",
      "metadata": {
        "papermill": {
          "duration": 0.008402,
          "end_time": "2025-06-17T16:07:55.391872",
          "exception": false,
          "start_time": "2025-06-17T16:07:55.38347",
          "status": "completed"
        },
        "tags": []
      },
      "source": [
        "** Now use seaborn to create a countplot of 911 calls by Reason. **"
      ]
    },
    {
      "cell_type": "code",
      "execution_count": null,
      "id": "b9c64968",
      "metadata": {
        "collapsed": false,
        "jupyter": {
          "outputs_hidden": false
        },
        "papermill": {
          "duration": 0.008386,
          "end_time": "2025-06-17T16:07:55.408716",
          "exception": false,
          "start_time": "2025-06-17T16:07:55.40033",
          "status": "completed"
        },
        "tags": []
      },
      "outputs": [],
      "source": []
    },
    {
      "cell_type": "markdown",
      "id": "7dcca05a",
      "metadata": {
        "papermill": {
          "duration": 0.008305,
          "end_time": "2025-06-17T16:07:55.425581",
          "exception": false,
          "start_time": "2025-06-17T16:07:55.417276",
          "status": "completed"
        },
        "tags": []
      },
      "source": [
        "___\n",
        "** Now let us begin to focus on time information. What is the data type of the objects in the timeStamp column? **"
      ]
    },
    {
      "cell_type": "code",
      "execution_count": null,
      "id": "7b988dbb",
      "metadata": {
        "collapsed": false,
        "jupyter": {
          "outputs_hidden": false
        },
        "papermill": {
          "duration": 0.008356,
          "end_time": "2025-06-17T16:07:55.442362",
          "exception": false,
          "start_time": "2025-06-17T16:07:55.434006",
          "status": "completed"
        },
        "tags": []
      },
      "outputs": [],
      "source": []
    },
    {
      "cell_type": "markdown",
      "id": "61823a88",
      "metadata": {
        "papermill": {
          "duration": 0.00823,
          "end_time": "2025-06-17T16:07:55.460349",
          "exception": false,
          "start_time": "2025-06-17T16:07:55.452119",
          "status": "completed"
        },
        "tags": []
      },
      "source": [
        "** You should have seen that these timestamps are still strings. Use [pd.to_datetime](http://pandas.pydata.org/pandas-docs/stable/generated/pandas.to_datetime.html) to convert the column from strings to DateTime objects. **"
      ]
    },
    {
      "cell_type": "code",
      "execution_count": null,
      "id": "4a1aa742",
      "metadata": {
        "papermill": {
          "duration": 0.008149,
          "end_time": "2025-06-17T16:07:55.477005",
          "exception": false,
          "start_time": "2025-06-17T16:07:55.468856",
          "status": "completed"
        },
        "tags": []
      },
      "outputs": [],
      "source": []
    },
    {
      "cell_type": "markdown",
      "id": "2b58a380",
      "metadata": {
        "papermill": {
          "duration": 0.008258,
          "end_time": "2025-06-17T16:07:55.493966",
          "exception": false,
          "start_time": "2025-06-17T16:07:55.485708",
          "status": "completed"
        },
        "tags": []
      },
      "source": [
        "** You can now grab specific attributes from a Datetime object by calling them. For example:**\n",
        "\n",
        "    time = df['timeStamp'].iloc[0]\n",
        "    time.hour\n",
        "\n",
        "**You can use Jupyter's tab method to explore the various attributes you can call. Now that the timestamp column are actually DateTime objects, use .apply() to create 3 new columns called Hour, Month, and Day of Week. You will create these columns based off of the timeStamp column, reference the solutions if you get stuck on this step.**"
      ]
    },
    {
      "cell_type": "code",
      "execution_count": null,
      "id": "b1381446",
      "metadata": {
        "collapsed": false,
        "jupyter": {
          "outputs_hidden": false
        },
        "papermill": {
          "duration": 0.009043,
          "end_time": "2025-06-17T16:07:55.511517",
          "exception": false,
          "start_time": "2025-06-17T16:07:55.502474",
          "status": "completed"
        },
        "tags": []
      },
      "outputs": [],
      "source": []
    },
    {
      "cell_type": "markdown",
      "id": "6797eb19",
      "metadata": {
        "collapsed": false,
        "jupyter": {
          "outputs_hidden": false
        },
        "papermill": {
          "duration": 0.008917,
          "end_time": "2025-06-17T16:07:55.529092",
          "exception": false,
          "start_time": "2025-06-17T16:07:55.520175",
          "status": "completed"
        },
        "tags": []
      },
      "source": [
        "** Notice how the Day of Week is an integer 0-6. Use the .map() with this dictionary to map the actual string names to the day of the week: **\n",
        "\n",
        "    dmap = {0:'Mon',1:'Tue',2:'Wed',3:'Thu',4:'Fri',5:'Sat',6:'Sun'}"
      ]
    },
    {
      "cell_type": "code",
      "execution_count": null,
      "id": "b03d4a18",
      "metadata": {
        "collapsed": false,
        "jupyter": {
          "outputs_hidden": false
        },
        "papermill": {
          "duration": 0.008244,
          "end_time": "2025-06-17T16:07:55.546",
          "exception": false,
          "start_time": "2025-06-17T16:07:55.537756",
          "status": "completed"
        },
        "tags": []
      },
      "outputs": [],
      "source": []
    },
    {
      "cell_type": "code",
      "execution_count": null,
      "id": "be9bef73",
      "metadata": {
        "collapsed": false,
        "jupyter": {
          "outputs_hidden": false
        },
        "papermill": {
          "duration": 0.00832,
          "end_time": "2025-06-17T16:07:55.562765",
          "exception": false,
          "start_time": "2025-06-17T16:07:55.554445",
          "status": "completed"
        },
        "tags": []
      },
      "outputs": [],
      "source": []
    },
    {
      "cell_type": "markdown",
      "id": "8930b61d",
      "metadata": {
        "collapsed": false,
        "jupyter": {
          "outputs_hidden": false
        },
        "papermill": {
          "duration": 0.010346,
          "end_time": "2025-06-17T16:07:55.581701",
          "exception": false,
          "start_time": "2025-06-17T16:07:55.571355",
          "status": "completed"
        },
        "tags": []
      },
      "source": [
        "** Now use seaborn to create a countplot of the Day of Week column with the hue based off of the Reason column. **"
      ]
    },
    {
      "cell_type": "code",
      "execution_count": null,
      "id": "c1e4ee95",
      "metadata": {
        "collapsed": false,
        "jupyter": {
          "outputs_hidden": false
        },
        "papermill": {
          "duration": 0.00892,
          "end_time": "2025-06-17T16:07:55.599963",
          "exception": false,
          "start_time": "2025-06-17T16:07:55.591043",
          "status": "completed"
        },
        "tags": []
      },
      "outputs": [],
      "source": []
    },
    {
      "cell_type": "markdown",
      "id": "cbc71026",
      "metadata": {
        "papermill": {
          "duration": 0.00818,
          "end_time": "2025-06-17T16:07:55.616868",
          "exception": false,
          "start_time": "2025-06-17T16:07:55.608688",
          "status": "completed"
        },
        "tags": []
      },
      "source": [
        "**Now do the same for Month:**"
      ]
    },
    {
      "cell_type": "code",
      "execution_count": null,
      "id": "591a6e27",
      "metadata": {
        "collapsed": false,
        "jupyter": {
          "outputs_hidden": false
        },
        "papermill": {
          "duration": 0.008178,
          "end_time": "2025-06-17T16:07:55.633545",
          "exception": false,
          "start_time": "2025-06-17T16:07:55.625367",
          "status": "completed"
        },
        "tags": []
      },
      "outputs": [],
      "source": []
    },
    {
      "cell_type": "markdown",
      "id": "57858754",
      "metadata": {
        "papermill": {
          "duration": 0.008339,
          "end_time": "2025-06-17T16:07:55.650564",
          "exception": false,
          "start_time": "2025-06-17T16:07:55.642225",
          "status": "completed"
        },
        "tags": []
      },
      "source": [
        "**Did you notice something strange about the Plot?**\n",
        "\n",
        "_____\n",
        "\n",
        "** You should have noticed it was missing some Months, let's see if we can maybe fill in this information by plotting the information in another way, possibly a simple line plot that fills in the missing months, in order to do this, we'll need to do some work with pandas... **"
      ]
    },
    {
      "cell_type": "markdown",
      "id": "b64ad5e5",
      "metadata": {
        "papermill": {
          "duration": 0.008343,
          "end_time": "2025-06-17T16:07:55.667551",
          "exception": false,
          "start_time": "2025-06-17T16:07:55.659208",
          "status": "completed"
        },
        "tags": []
      },
      "source": [
        "** Now create a gropuby object called byMonth, where you group the DataFrame by the month column and use the count() method for aggregation. Use the head() method on this returned DataFrame. **"
      ]
    },
    {
      "cell_type": "code",
      "execution_count": null,
      "id": "f6c463ba",
      "metadata": {
        "collapsed": false,
        "jupyter": {
          "outputs_hidden": false
        },
        "papermill": {
          "duration": 0.00869,
          "end_time": "2025-06-17T16:07:55.685337",
          "exception": false,
          "start_time": "2025-06-17T16:07:55.676647",
          "status": "completed"
        },
        "tags": []
      },
      "outputs": [],
      "source": []
    },
    {
      "cell_type": "markdown",
      "id": "4b8bc783",
      "metadata": {
        "papermill": {
          "duration": 0.008808,
          "end_time": "2025-06-17T16:07:55.704175",
          "exception": false,
          "start_time": "2025-06-17T16:07:55.695367",
          "status": "completed"
        },
        "tags": []
      },
      "source": [
        "** Now create a simple plot off of the dataframe indicating the count of calls per month. **"
      ]
    },
    {
      "cell_type": "code",
      "execution_count": null,
      "id": "60a6f724",
      "metadata": {
        "collapsed": false,
        "jupyter": {
          "outputs_hidden": false
        },
        "papermill": {
          "duration": 0.008506,
          "end_time": "2025-06-17T16:07:55.72124",
          "exception": false,
          "start_time": "2025-06-17T16:07:55.712734",
          "status": "completed"
        },
        "tags": []
      },
      "outputs": [],
      "source": []
    },
    {
      "cell_type": "markdown",
      "id": "1899604c",
      "metadata": {
        "papermill": {
          "duration": 0.008952,
          "end_time": "2025-06-17T16:07:55.740267",
          "exception": false,
          "start_time": "2025-06-17T16:07:55.731315",
          "status": "completed"
        },
        "tags": []
      },
      "source": [
        "** Now see if you can use seaborn's lmplot() to create a linear fit on the number of calls per month. Keep in mind you may need to reset the index to a column. **"
      ]
    },
    {
      "cell_type": "code",
      "execution_count": null,
      "id": "8824be96",
      "metadata": {
        "collapsed": false,
        "jupyter": {
          "outputs_hidden": false
        },
        "papermill": {
          "duration": 0.008551,
          "end_time": "2025-06-17T16:07:55.757338",
          "exception": false,
          "start_time": "2025-06-17T16:07:55.748787",
          "status": "completed"
        },
        "tags": []
      },
      "outputs": [],
      "source": []
    },
    {
      "cell_type": "markdown",
      "id": "688dde6a",
      "metadata": {
        "papermill": {
          "duration": 0.009483,
          "end_time": "2025-06-17T16:07:55.776285",
          "exception": false,
          "start_time": "2025-06-17T16:07:55.766802",
          "status": "completed"
        },
        "tags": []
      },
      "source": [
        "**Create a new column called 'Date' that contains the date from the timeStamp column. You'll need to use apply along with the .date() method. ** "
      ]
    },
    {
      "cell_type": "code",
      "execution_count": null,
      "id": "4f6d0ddc",
      "metadata": {
        "papermill": {
          "duration": 0.008409,
          "end_time": "2025-06-17T16:07:55.794754",
          "exception": false,
          "start_time": "2025-06-17T16:07:55.786345",
          "status": "completed"
        },
        "tags": []
      },
      "outputs": [],
      "source": []
    },
    {
      "cell_type": "markdown",
      "id": "f39cd2c8",
      "metadata": {
        "papermill": {
          "duration": 0.00848,
          "end_time": "2025-06-17T16:07:55.812319",
          "exception": false,
          "start_time": "2025-06-17T16:07:55.803839",
          "status": "completed"
        },
        "tags": []
      },
      "source": [
        "** Now groupby this Date column with the count() aggregate and create a plot of counts of 911 calls.**"
      ]
    },
    {
      "cell_type": "code",
      "execution_count": null,
      "id": "5344bc40",
      "metadata": {
        "collapsed": false,
        "jupyter": {
          "outputs_hidden": false
        },
        "papermill": {
          "duration": 0.008526,
          "end_time": "2025-06-17T16:07:55.829525",
          "exception": false,
          "start_time": "2025-06-17T16:07:55.820999",
          "status": "completed"
        },
        "tags": []
      },
      "outputs": [],
      "source": []
    },
    {
      "cell_type": "markdown",
      "id": "5da5ae8b",
      "metadata": {
        "papermill": {
          "duration": 0.00847,
          "end_time": "2025-06-17T16:07:55.846619",
          "exception": false,
          "start_time": "2025-06-17T16:07:55.838149",
          "status": "completed"
        },
        "tags": []
      },
      "source": [
        "** Now recreate this plot but create 3 separate plots with each plot representing a Reason for the 911 call**"
      ]
    },
    {
      "cell_type": "code",
      "execution_count": null,
      "id": "a516c4f7",
      "metadata": {
        "collapsed": false,
        "jupyter": {
          "outputs_hidden": false
        },
        "papermill": {
          "duration": 0.00837,
          "end_time": "2025-06-17T16:07:55.863573",
          "exception": false,
          "start_time": "2025-06-17T16:07:55.855203",
          "status": "completed"
        },
        "tags": []
      },
      "outputs": [],
      "source": []
    },
    {
      "cell_type": "code",
      "execution_count": null,
      "id": "17b39760",
      "metadata": {
        "collapsed": false,
        "jupyter": {
          "outputs_hidden": false
        },
        "papermill": {
          "duration": 0.008356,
          "end_time": "2025-06-17T16:07:55.880497",
          "exception": false,
          "start_time": "2025-06-17T16:07:55.872141",
          "status": "completed"
        },
        "tags": []
      },
      "outputs": [],
      "source": []
    },
    {
      "cell_type": "code",
      "execution_count": null,
      "id": "edb37cc3",
      "metadata": {
        "collapsed": false,
        "jupyter": {
          "outputs_hidden": false
        },
        "papermill": {
          "duration": 0.009372,
          "end_time": "2025-06-17T16:07:55.898459",
          "exception": false,
          "start_time": "2025-06-17T16:07:55.889087",
          "status": "completed"
        },
        "tags": []
      },
      "outputs": [],
      "source": []
    },
    {
      "cell_type": "markdown",
      "id": "b8350d1c",
      "metadata": {
        "collapsed": false,
        "jupyter": {
          "outputs_hidden": false
        },
        "papermill": {
          "duration": 0.008364,
          "end_time": "2025-06-17T16:07:55.915721",
          "exception": false,
          "start_time": "2025-06-17T16:07:55.907357",
          "status": "completed"
        },
        "tags": []
      },
      "source": [
        "____\n",
        "** Now let's move on to creating  heatmaps with seaborn and our data. We'll first need to restructure the dataframe so that the columns become the Hours and the Index becomes the Day of the Week. There are lots of ways to do this, but I would recommend trying to combine groupby with an [unstack](http://pandas.pydata.org/pandas-docs/stable/generated/pandas.DataFrame.unstack.html) method. Reference the solutions if you get stuck on this!**"
      ]
    },
    {
      "cell_type": "code",
      "execution_count": null,
      "id": "02fb2f3b",
      "metadata": {
        "collapsed": false,
        "jupyter": {
          "outputs_hidden": false
        },
        "papermill": {
          "duration": 0.0087,
          "end_time": "2025-06-17T16:07:55.933051",
          "exception": false,
          "start_time": "2025-06-17T16:07:55.924351",
          "status": "completed"
        },
        "tags": []
      },
      "outputs": [],
      "source": []
    },
    {
      "cell_type": "markdown",
      "id": "8bc06a0b",
      "metadata": {
        "collapsed": false,
        "jupyter": {
          "outputs_hidden": false
        },
        "papermill": {
          "duration": 0.008817,
          "end_time": "2025-06-17T16:07:55.950954",
          "exception": false,
          "start_time": "2025-06-17T16:07:55.942137",
          "status": "completed"
        },
        "tags": []
      },
      "source": [
        "** Now create a HeatMap using this new DataFrame. **"
      ]
    },
    {
      "cell_type": "code",
      "execution_count": null,
      "id": "ce31d105",
      "metadata": {
        "collapsed": false,
        "jupyter": {
          "outputs_hidden": false
        },
        "papermill": {
          "duration": 0.008496,
          "end_time": "2025-06-17T16:07:55.96864",
          "exception": false,
          "start_time": "2025-06-17T16:07:55.960144",
          "status": "completed"
        },
        "tags": []
      },
      "outputs": [],
      "source": []
    },
    {
      "cell_type": "markdown",
      "id": "c559f247",
      "metadata": {
        "collapsed": false,
        "jupyter": {
          "outputs_hidden": false
        },
        "papermill": {
          "duration": 0.008995,
          "end_time": "2025-06-17T16:07:55.986574",
          "exception": false,
          "start_time": "2025-06-17T16:07:55.977579",
          "status": "completed"
        },
        "tags": []
      },
      "source": [
        "** Now create a clustermap using this DataFrame. **"
      ]
    },
    {
      "cell_type": "code",
      "execution_count": null,
      "id": "2d2b1052",
      "metadata": {
        "collapsed": false,
        "jupyter": {
          "outputs_hidden": false
        },
        "papermill": {
          "duration": 0.009655,
          "end_time": "2025-06-17T16:07:56.00631",
          "exception": false,
          "start_time": "2025-06-17T16:07:55.996655",
          "status": "completed"
        },
        "tags": []
      },
      "outputs": [],
      "source": []
    },
    {
      "cell_type": "markdown",
      "id": "98ede47f",
      "metadata": {
        "papermill": {
          "duration": 0.009603,
          "end_time": "2025-06-17T16:07:56.026571",
          "exception": false,
          "start_time": "2025-06-17T16:07:56.016968",
          "status": "completed"
        },
        "tags": []
      },
      "source": [
        "** Now repeat these same plots and operations, for a DataFrame that shows the Month as the column. **"
      ]
    },
    {
      "cell_type": "code",
      "execution_count": null,
      "id": "6af71bb9",
      "metadata": {
        "collapsed": false,
        "jupyter": {
          "outputs_hidden": false
        },
        "papermill": {
          "duration": 0.008676,
          "end_time": "2025-06-17T16:07:56.044924",
          "exception": false,
          "start_time": "2025-06-17T16:07:56.036248",
          "status": "completed"
        },
        "tags": []
      },
      "outputs": [],
      "source": []
    },
    {
      "cell_type": "code",
      "execution_count": null,
      "id": "572c4bda",
      "metadata": {
        "collapsed": false,
        "jupyter": {
          "outputs_hidden": false
        },
        "papermill": {
          "duration": 0.009059,
          "end_time": "2025-06-17T16:07:56.063306",
          "exception": false,
          "start_time": "2025-06-17T16:07:56.054247",
          "status": "completed"
        },
        "tags": []
      },
      "outputs": [],
      "source": []
    },
    {
      "cell_type": "code",
      "execution_count": null,
      "id": "9a01698e",
      "metadata": {
        "collapsed": false,
        "jupyter": {
          "outputs_hidden": false
        },
        "papermill": {
          "duration": 0.0085,
          "end_time": "2025-06-17T16:07:56.080499",
          "exception": false,
          "start_time": "2025-06-17T16:07:56.071999",
          "status": "completed"
        },
        "tags": []
      },
      "outputs": [],
      "source": []
    },
    {
      "cell_type": "markdown",
      "id": "ab7f8009",
      "metadata": {
        "collapsed": true,
        "jupyter": {
          "outputs_hidden": true
        },
        "papermill": {
          "duration": 0.009456,
          "end_time": "2025-06-17T16:07:56.100015",
          "exception": false,
          "start_time": "2025-06-17T16:07:56.090559",
          "status": "completed"
        },
        "tags": []
      },
      "source": [
        "**Continue exploring the Data however you see fit!**\n",
        "# Great Job!"
      ]
    }
  ],
  "metadata": {
    "kaggle": {
      "accelerator": "none",
      "dataSources": [
        {
          "databundleVersionId": 12617473,
          "datasetId": 7609225,
          "sourceId": 12089784,
          "sourceType": "datasetVersion"
        },
        {
          "sourceId": 244244926,
          "sourceType": "kernelVersion"
        }
      ],
      "dockerImageVersionId": 31040,
      "isGpuEnabled": false,
      "isInternetEnabled": true,
      "language": "python",
      "sourceType": "notebook"
    },
    "kernelspec": {
      "display_name": "Python 3",
      "language": "python",
      "name": "python3"
    },
    "language_info": {
      "codemirror_mode": {
        "name": "ipython",
        "version": 3
      },
      "file_extension": ".py",
      "mimetype": "text/x-python",
      "name": "python",
      "nbconvert_exporter": "python",
      "pygments_lexer": "ipython3",
      "version": "3.11.11"
    },
    "papermill": {
      "default_parameters": {},
      "duration": 12.413912,
      "end_time": "2025-06-17T16:07:56.833414",
      "environment_variables": {},
      "exception": null,
      "input_path": "__notebook__.ipynb",
      "output_path": "__notebook__.ipynb",
      "parameters": {},
      "start_time": "2025-06-17T16:07:44.419502",
      "version": "2.6.0"
    }
  },
  "nbformat": 4,
  "nbformat_minor": 5
}
