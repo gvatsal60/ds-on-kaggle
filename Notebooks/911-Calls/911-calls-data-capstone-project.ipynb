{
  "cells": [
    {
      "cell_type": "markdown",
      "id": "7fb27b941602401d91542211134fc71a",
      "metadata": {},
      "source": [
        "<a href=\"https://www.kaggle.com/code/gvatsal60/911-calls-data-capstone-project?scriptVersionId=246504800\" target=\"_blank\"><img align=\"left\" alt=\"Kaggle\" title=\"Open in Kaggle\" src=\"https://kaggle.com/static/images/open-in-kaggle.svg\"></a>"
      ]
    },
    {
      "cell_type": "markdown",
      "id": "46ae9f07",
      "metadata": {
        "papermill": {
          "duration": 0.009653,
          "end_time": "2025-06-20T11:29:27.454632",
          "exception": false,
          "start_time": "2025-06-20T11:29:27.444979",
          "status": "completed"
        },
        "tags": []
      },
      "source": [
        "# 911 Calls"
      ]
    },
    {
      "cell_type": "markdown",
      "id": "be42ae1b",
      "metadata": {
        "papermill": {
          "duration": 0.008329,
          "end_time": "2025-06-20T11:29:27.472293",
          "exception": false,
          "start_time": "2025-06-20T11:29:27.463964",
          "status": "completed"
        },
        "tags": []
      },
      "source": [
        "For this capstone project we will be analyzing some 911 call data from [Kaggle](https://www.kaggle.com/mchirico/montcoalert). The data contains the following fields:\n",
        "\n",
        "* lat : String variable, Latitude\n",
        "* lng: String variable, Longitude\n",
        "* desc: String variable, Description of the Emergency Call\n",
        "* zip: String variable, Zipcode\n",
        "* title: String variable, Title\n",
        "* timeStamp: String variable, YYYY-MM-DD HH:MM:SS\n",
        "* twp: String variable, Township\n",
        "* addr: String variable, Address\n",
        "* e: String variable, Dummy variable (always 1)\n",
        "\n",
        "Just go along with this notebook and try to complete the instructions or answer the questions in bold using your Python and Data Science skills!"
      ]
    },
    {
      "cell_type": "markdown",
      "id": "747bbee6",
      "metadata": {
        "papermill": {
          "duration": 0.007857,
          "end_time": "2025-06-20T11:29:27.488586",
          "exception": false,
          "start_time": "2025-06-20T11:29:27.480729",
          "status": "completed"
        },
        "tags": []
      },
      "source": [
        "## Data and Setup"
      ]
    },
    {
      "cell_type": "markdown",
      "id": "f1786cf8",
      "metadata": {
        "papermill": {
          "duration": 0.008964,
          "end_time": "2025-06-20T11:29:27.50574",
          "exception": false,
          "start_time": "2025-06-20T11:29:27.496776",
          "status": "completed"
        },
        "tags": []
      },
      "source": [
        "** Import numpy and pandas **"
      ]
    },
    {
      "cell_type": "code",
      "execution_count": null,
      "id": "181844b1",
      "metadata": {
        "execution": {
          "iopub.execute_input": "2025-06-20T11:29:27.525208Z",
          "iopub.status.busy": "2025-06-20T11:29:27.524776Z",
          "iopub.status.idle": "2025-06-20T11:29:29.476958Z",
          "shell.execute_reply": "2025-06-20T11:29:29.476037Z"
        },
        "papermill": {
          "duration": 1.964104,
          "end_time": "2025-06-20T11:29:29.478801",
          "exception": false,
          "start_time": "2025-06-20T11:29:27.514697",
          "status": "completed"
        },
        "tags": []
      },
      "outputs": [],
      "source": [
        "import pandas as pd"
      ]
    },
    {
      "cell_type": "markdown",
      "id": "8d4f39aa",
      "metadata": {
        "papermill": {
          "duration": 0.00794,
          "end_time": "2025-06-20T11:29:29.495165",
          "exception": false,
          "start_time": "2025-06-20T11:29:29.487225",
          "status": "completed"
        },
        "tags": []
      },
      "source": [
        "** Import visualization libraries and set %matplotlib inline. **"
      ]
    },
    {
      "cell_type": "code",
      "execution_count": null,
      "id": "cb19905f",
      "metadata": {
        "collapsed": false,
        "execution": {
          "iopub.execute_input": "2025-06-20T11:29:29.513088Z",
          "iopub.status.busy": "2025-06-20T11:29:29.512607Z",
          "iopub.status.idle": "2025-06-20T11:29:31.626173Z",
          "shell.execute_reply": "2025-06-20T11:29:31.625041Z"
        },
        "jupyter": {
          "outputs_hidden": false
        },
        "papermill": {
          "duration": 2.124813,
          "end_time": "2025-06-20T11:29:31.628085",
          "exception": false,
          "start_time": "2025-06-20T11:29:29.503272",
          "status": "completed"
        },
        "tags": []
      },
      "outputs": [],
      "source": [
        "import matplotlib.pyplot as plt\n",
        "import seaborn as sns\n",
        "\n",
        "sns.set_style(\"whitegrid\")\n",
        "%matplotlib inline"
      ]
    },
    {
      "cell_type": "markdown",
      "id": "6e38d6ed",
      "metadata": {
        "papermill": {
          "duration": 0.007934,
          "end_time": "2025-06-20T11:29:31.644817",
          "exception": false,
          "start_time": "2025-06-20T11:29:31.636883",
          "status": "completed"
        },
        "tags": []
      },
      "source": [
        "** Read in the csv file as a dataframe called df **"
      ]
    },
    {
      "cell_type": "code",
      "execution_count": null,
      "id": "cc3ebadc",
      "metadata": {
        "execution": {
          "iopub.execute_input": "2025-06-20T11:29:31.663102Z",
          "iopub.status.busy": "2025-06-20T11:29:31.662593Z",
          "iopub.status.idle": "2025-06-20T11:29:32.225291Z",
          "shell.execute_reply": "2025-06-20T11:29:32.224407Z"
        },
        "papermill": {
          "duration": 0.573992,
          "end_time": "2025-06-20T11:29:32.226959",
          "exception": false,
          "start_time": "2025-06-20T11:29:31.652967",
          "status": "completed"
        },
        "tags": []
      },
      "outputs": [],
      "source": [
        "csv_path = \"/kaggle/input/911-calls-data/911.csv\"\n",
        "df = pd.read_csv(csv_path)"
      ]
    },
    {
      "cell_type": "markdown",
      "id": "5b1b5d6a",
      "metadata": {
        "papermill": {
          "duration": 0.008712,
          "end_time": "2025-06-20T11:29:32.2444",
          "exception": false,
          "start_time": "2025-06-20T11:29:32.235688",
          "status": "completed"
        },
        "tags": []
      },
      "source": [
        "** Check the info() of the df **"
      ]
    },
    {
      "cell_type": "code",
      "execution_count": null,
      "id": "fa207bb2",
      "metadata": {
        "collapsed": false,
        "execution": {
          "iopub.execute_input": "2025-06-20T11:29:32.263061Z",
          "iopub.status.busy": "2025-06-20T11:29:32.262747Z",
          "iopub.status.idle": "2025-06-20T11:29:32.322172Z",
          "shell.execute_reply": "2025-06-20T11:29:32.32095Z"
        },
        "jupyter": {
          "outputs_hidden": false
        },
        "papermill": {
          "duration": 0.070751,
          "end_time": "2025-06-20T11:29:32.323813",
          "exception": false,
          "start_time": "2025-06-20T11:29:32.253062",
          "status": "completed"
        },
        "tags": []
      },
      "outputs": [],
      "source": [
        "df.info()"
      ]
    },
    {
      "cell_type": "markdown",
      "id": "ea13d801",
      "metadata": {
        "collapsed": false,
        "jupyter": {
          "outputs_hidden": false
        },
        "papermill": {
          "duration": 0.009801,
          "end_time": "2025-06-20T11:29:32.342607",
          "exception": false,
          "start_time": "2025-06-20T11:29:32.332806",
          "status": "completed"
        },
        "tags": []
      },
      "source": [
        "** Check the head of df **"
      ]
    },
    {
      "cell_type": "code",
      "execution_count": null,
      "id": "bacec469",
      "metadata": {
        "collapsed": false,
        "execution": {
          "iopub.execute_input": "2025-06-20T11:29:32.363164Z",
          "iopub.status.busy": "2025-06-20T11:29:32.362445Z",
          "iopub.status.idle": "2025-06-20T11:29:32.388156Z",
          "shell.execute_reply": "2025-06-20T11:29:32.387122Z"
        },
        "jupyter": {
          "outputs_hidden": false
        },
        "papermill": {
          "duration": 0.037449,
          "end_time": "2025-06-20T11:29:32.389725",
          "exception": false,
          "start_time": "2025-06-20T11:29:32.352276",
          "status": "completed"
        },
        "tags": []
      },
      "outputs": [],
      "source": [
        "df.head(3)"
      ]
    },
    {
      "cell_type": "markdown",
      "id": "196403d1",
      "metadata": {
        "papermill": {
          "duration": 0.008705,
          "end_time": "2025-06-20T11:29:32.407678",
          "exception": false,
          "start_time": "2025-06-20T11:29:32.398973",
          "status": "completed"
        },
        "tags": []
      },
      "source": [
        "## Basic Questions"
      ]
    },
    {
      "cell_type": "markdown",
      "id": "c2968b15",
      "metadata": {
        "papermill": {
          "duration": 0.00834,
          "end_time": "2025-06-20T11:29:32.424757",
          "exception": false,
          "start_time": "2025-06-20T11:29:32.416417",
          "status": "completed"
        },
        "tags": []
      },
      "source": [
        "** What are the top 5 zipcodes for 911 calls? **"
      ]
    },
    {
      "cell_type": "code",
      "execution_count": null,
      "id": "25406cb0",
      "metadata": {
        "collapsed": false,
        "execution": {
          "iopub.execute_input": "2025-06-20T11:29:32.44431Z",
          "iopub.status.busy": "2025-06-20T11:29:32.444036Z",
          "iopub.status.idle": "2025-06-20T11:29:32.45595Z",
          "shell.execute_reply": "2025-06-20T11:29:32.454985Z"
        },
        "jupyter": {
          "outputs_hidden": false
        },
        "papermill": {
          "duration": 0.024181,
          "end_time": "2025-06-20T11:29:32.457738",
          "exception": false,
          "start_time": "2025-06-20T11:29:32.433557",
          "status": "completed"
        },
        "tags": []
      },
      "outputs": [],
      "source": [
        "df[\"zip\"].value_counts().head(5)"
      ]
    },
    {
      "cell_type": "markdown",
      "id": "b7083f63",
      "metadata": {
        "papermill": {
          "duration": 0.073614,
          "end_time": "2025-06-20T11:29:32.540587",
          "exception": false,
          "start_time": "2025-06-20T11:29:32.466973",
          "status": "completed"
        },
        "tags": []
      },
      "source": [
        "** What are the top 5 townships (twp) for 911 calls? **"
      ]
    },
    {
      "cell_type": "code",
      "execution_count": null,
      "id": "2e72e799",
      "metadata": {
        "collapsed": false,
        "execution": {
          "iopub.execute_input": "2025-06-20T11:29:32.55883Z",
          "iopub.status.busy": "2025-06-20T11:29:32.558555Z",
          "iopub.status.idle": "2025-06-20T11:29:32.571942Z",
          "shell.execute_reply": "2025-06-20T11:29:32.571086Z"
        },
        "jupyter": {
          "outputs_hidden": false
        },
        "papermill": {
          "duration": 0.02418,
          "end_time": "2025-06-20T11:29:32.573374",
          "exception": false,
          "start_time": "2025-06-20T11:29:32.549194",
          "status": "completed"
        },
        "tags": []
      },
      "outputs": [],
      "source": [
        "df[\"twp\"].value_counts().head(5)"
      ]
    },
    {
      "cell_type": "markdown",
      "id": "1c5c55a3",
      "metadata": {
        "papermill": {
          "duration": 0.008223,
          "end_time": "2025-06-20T11:29:32.590268",
          "exception": false,
          "start_time": "2025-06-20T11:29:32.582045",
          "status": "completed"
        },
        "tags": []
      },
      "source": [
        "** Take a look at the 'title' column, how many unique title codes are there? **"
      ]
    },
    {
      "cell_type": "code",
      "execution_count": null,
      "id": "d251ffeb",
      "metadata": {
        "collapsed": false,
        "execution": {
          "iopub.execute_input": "2025-06-20T11:29:32.609707Z",
          "iopub.status.busy": "2025-06-20T11:29:32.60941Z",
          "iopub.status.idle": "2025-06-20T11:29:32.622343Z",
          "shell.execute_reply": "2025-06-20T11:29:32.62123Z"
        },
        "jupyter": {
          "outputs_hidden": false
        },
        "papermill": {
          "duration": 0.024649,
          "end_time": "2025-06-20T11:29:32.623906",
          "exception": false,
          "start_time": "2025-06-20T11:29:32.599257",
          "status": "completed"
        },
        "tags": []
      },
      "outputs": [],
      "source": [
        "df[\"title\"].nunique()"
      ]
    },
    {
      "cell_type": "markdown",
      "id": "0f90cf2f",
      "metadata": {
        "papermill": {
          "duration": 0.008393,
          "end_time": "2025-06-20T11:29:32.641388",
          "exception": false,
          "start_time": "2025-06-20T11:29:32.632995",
          "status": "completed"
        },
        "tags": []
      },
      "source": [
        "## Creating new features"
      ]
    },
    {
      "cell_type": "markdown",
      "id": "0a7e18f5",
      "metadata": {
        "papermill": {
          "duration": 0.008938,
          "end_time": "2025-06-20T11:29:32.659593",
          "exception": false,
          "start_time": "2025-06-20T11:29:32.650655",
          "status": "completed"
        },
        "tags": []
      },
      "source": [
        "** In the titles column there are \"Reasons/Departments\" specified before the title code. These are EMS, Fire, and Traffic. Use .apply() with a custom lambda expression to create a new column called \"Reason\" that contains this string value.** \n",
        "\n",
        "**For example, if the title column value is EMS: BACK PAINS/INJURY , the Reason column value would be EMS. **"
      ]
    },
    {
      "cell_type": "code",
      "execution_count": null,
      "id": "9ec90bba",
      "metadata": {
        "execution": {
          "iopub.execute_input": "2025-06-20T11:29:32.681334Z",
          "iopub.status.busy": "2025-06-20T11:29:32.68035Z",
          "iopub.status.idle": "2025-06-20T11:29:32.723607Z",
          "shell.execute_reply": "2025-06-20T11:29:32.722582Z"
        },
        "papermill": {
          "duration": 0.055851,
          "end_time": "2025-06-20T11:29:32.725373",
          "exception": false,
          "start_time": "2025-06-20T11:29:32.669522",
          "status": "completed"
        },
        "tags": []
      },
      "outputs": [],
      "source": [
        "def extract(x):\n",
        "    return x.split(\":\")[0]\n",
        "\n",
        "\n",
        "# df = df.assign(Reason = df['title'].apply(extract))\n",
        "df[\"Reason\"] = df[\"title\"].apply(extract)"
      ]
    },
    {
      "cell_type": "markdown",
      "id": "75e04a02",
      "metadata": {
        "papermill": {
          "duration": 0.009339,
          "end_time": "2025-06-20T11:29:32.743811",
          "exception": false,
          "start_time": "2025-06-20T11:29:32.734472",
          "status": "completed"
        },
        "tags": []
      },
      "source": [
        "** What is the most common Reason for a 911 call based off of this new column? **"
      ]
    },
    {
      "cell_type": "code",
      "execution_count": null,
      "id": "5c442948",
      "metadata": {
        "collapsed": false,
        "execution": {
          "iopub.execute_input": "2025-06-20T11:29:32.763794Z",
          "iopub.status.busy": "2025-06-20T11:29:32.763507Z",
          "iopub.status.idle": "2025-06-20T11:29:32.780553Z",
          "shell.execute_reply": "2025-06-20T11:29:32.779635Z"
        },
        "jupyter": {
          "outputs_hidden": false
        },
        "papermill": {
          "duration": 0.029339,
          "end_time": "2025-06-20T11:29:32.782086",
          "exception": false,
          "start_time": "2025-06-20T11:29:32.752747",
          "status": "completed"
        },
        "tags": []
      },
      "outputs": [],
      "source": [
        "df[\"Reason\"].value_counts()"
      ]
    },
    {
      "cell_type": "markdown",
      "id": "fd78d335",
      "metadata": {
        "papermill": {
          "duration": 0.008757,
          "end_time": "2025-06-20T11:29:32.800117",
          "exception": false,
          "start_time": "2025-06-20T11:29:32.79136",
          "status": "completed"
        },
        "tags": []
      },
      "source": [
        "** Now use seaborn to create a countplot of 911 calls by Reason. **"
      ]
    },
    {
      "cell_type": "code",
      "execution_count": null,
      "id": "79193a15",
      "metadata": {
        "collapsed": false,
        "execution": {
          "iopub.execute_input": "2025-06-20T11:29:32.81964Z",
          "iopub.status.busy": "2025-06-20T11:29:32.819378Z",
          "iopub.status.idle": "2025-06-20T11:29:33.183611Z",
          "shell.execute_reply": "2025-06-20T11:29:33.182588Z"
        },
        "jupyter": {
          "outputs_hidden": false
        },
        "papermill": {
          "duration": 0.376132,
          "end_time": "2025-06-20T11:29:33.185243",
          "exception": false,
          "start_time": "2025-06-20T11:29:32.809111",
          "status": "completed"
        },
        "tags": []
      },
      "outputs": [],
      "source": [
        "sns.countplot(x=\"Reason\", data=df, palette=\"viridis\")"
      ]
    },
    {
      "cell_type": "markdown",
      "id": "a14fc29a",
      "metadata": {
        "papermill": {
          "duration": 0.009561,
          "end_time": "2025-06-20T11:29:33.204491",
          "exception": false,
          "start_time": "2025-06-20T11:29:33.19493",
          "status": "completed"
        },
        "tags": []
      },
      "source": [
        "___\n",
        "** Now let us begin to focus on time information. What is the data type of the objects in the timeStamp column? **"
      ]
    },
    {
      "cell_type": "code",
      "execution_count": null,
      "id": "d3759f83",
      "metadata": {
        "collapsed": false,
        "execution": {
          "iopub.execute_input": "2025-06-20T11:29:33.224253Z",
          "iopub.status.busy": "2025-06-20T11:29:33.223969Z",
          "iopub.status.idle": "2025-06-20T11:29:33.230046Z",
          "shell.execute_reply": "2025-06-20T11:29:33.228897Z"
        },
        "jupyter": {
          "outputs_hidden": false
        },
        "papermill": {
          "duration": 0.017941,
          "end_time": "2025-06-20T11:29:33.231737",
          "exception": false,
          "start_time": "2025-06-20T11:29:33.213796",
          "status": "completed"
        },
        "tags": []
      },
      "outputs": [],
      "source": [
        "print(type(df[\"timeStamp\"].iloc[0]))"
      ]
    },
    {
      "cell_type": "markdown",
      "id": "2166b748",
      "metadata": {
        "papermill": {
          "duration": 0.009696,
          "end_time": "2025-06-20T11:29:33.251473",
          "exception": false,
          "start_time": "2025-06-20T11:29:33.241777",
          "status": "completed"
        },
        "tags": []
      },
      "source": [
        "** You should have seen that these timestamps are still strings. Use [pd.to_datetime](http://pandas.pydata.org/pandas-docs/stable/generated/pandas.to_datetime.html) to convert the column from strings to DateTime objects. **"
      ]
    },
    {
      "cell_type": "code",
      "execution_count": null,
      "id": "2765129a",
      "metadata": {
        "execution": {
          "iopub.execute_input": "2025-06-20T11:29:33.271971Z",
          "iopub.status.busy": "2025-06-20T11:29:33.271649Z",
          "iopub.status.idle": "2025-06-20T11:29:33.308172Z",
          "shell.execute_reply": "2025-06-20T11:29:33.306985Z"
        },
        "papermill": {
          "duration": 0.04826,
          "end_time": "2025-06-20T11:29:33.30973",
          "exception": false,
          "start_time": "2025-06-20T11:29:33.26147",
          "status": "completed"
        },
        "tags": []
      },
      "outputs": [],
      "source": [
        "df[\"timeStamp\"] = pd.to_datetime(df[\"timeStamp\"], format=\"%Y-%m-%d %H:%M:%S\")\n",
        "print(type(df[\"timeStamp\"].iloc[0]))"
      ]
    },
    {
      "cell_type": "markdown",
      "id": "df326f49",
      "metadata": {
        "papermill": {
          "duration": 0.009848,
          "end_time": "2025-06-20T11:29:33.329776",
          "exception": false,
          "start_time": "2025-06-20T11:29:33.319928",
          "status": "completed"
        },
        "tags": []
      },
      "source": [
        "** You can now grab specific attributes from a Datetime object by calling them. For example:**\n",
        "\n",
        "    time = df['timeStamp'].iloc[0]\n",
        "    time.hour\n",
        "\n",
        "**You can use Jupyter's tab method to explore the various attributes you can call. Now that the timestamp column are actually DateTime objects, use .apply() to create 3 new columns called Hour, Month, and Day of Week. You will create these columns based off of the timeStamp column, reference the solutions if you get stuck on this step.**"
      ]
    },
    {
      "cell_type": "code",
      "execution_count": null,
      "id": "1d57b2be",
      "metadata": {
        "collapsed": false,
        "execution": {
          "iopub.execute_input": "2025-06-20T11:29:33.350339Z",
          "iopub.status.busy": "2025-06-20T11:29:33.350027Z",
          "iopub.status.idle": "2025-06-20T11:29:34.028365Z",
          "shell.execute_reply": "2025-06-20T11:29:34.02751Z"
        },
        "jupyter": {
          "outputs_hidden": false
        },
        "papermill": {
          "duration": 0.690439,
          "end_time": "2025-06-20T11:29:34.030031",
          "exception": false,
          "start_time": "2025-06-20T11:29:33.339592",
          "status": "completed"
        },
        "tags": []
      },
      "outputs": [],
      "source": [
        "df[\"Hour\"] = df[\"timeStamp\"].apply(lambda x: x.hour)\n",
        "df[\"Month\"] = df[\"timeStamp\"].apply(lambda x: x.month)\n",
        "df[\"Day of Week\"] = df[\"timeStamp\"].apply(lambda x: x.dayofweek)\n",
        "\n",
        "df.head(3)"
      ]
    },
    {
      "cell_type": "markdown",
      "id": "265c3173",
      "metadata": {
        "_kg_hide-output": false,
        "collapsed": false,
        "jupyter": {
          "outputs_hidden": false
        },
        "papermill": {
          "duration": 0.00932,
          "end_time": "2025-06-20T11:29:34.049158",
          "exception": false,
          "start_time": "2025-06-20T11:29:34.039838",
          "status": "completed"
        },
        "tags": []
      },
      "source": [
        "** Notice how the Day of Week is an integer 0-6. Use the .map() with this dictionary to map the actual string names to the day of the week: **\n",
        "\n",
        "    dmap = {0:'Mon',1:'Tue',2:'Wed',3:'Thu',4:'Fri',5:'Sat',6:'Sun'}"
      ]
    },
    {
      "cell_type": "code",
      "execution_count": null,
      "id": "1e83325e",
      "metadata": {
        "collapsed": false,
        "execution": {
          "iopub.execute_input": "2025-06-20T11:29:34.070783Z",
          "iopub.status.busy": "2025-06-20T11:29:34.070172Z",
          "iopub.status.idle": "2025-06-20T11:29:34.10123Z",
          "shell.execute_reply": "2025-06-20T11:29:34.100141Z"
        },
        "jupyter": {
          "outputs_hidden": false
        },
        "papermill": {
          "duration": 0.043155,
          "end_time": "2025-06-20T11:29:34.10275",
          "exception": false,
          "start_time": "2025-06-20T11:29:34.059595",
          "status": "completed"
        },
        "tags": []
      },
      "outputs": [],
      "source": [
        "dmap = {0: \"Mon\", 1: \"Tue\", 2: \"Wed\", 3: \"Thu\", 4: \"Fri\", 5: \"Sat\", 6: \"Sun\"}\n",
        "\n",
        "df[\"Day of Week\"] = df[\"Day of Week\"].apply(lambda x: dmap[x])\n",
        "\n",
        "df.head(3)"
      ]
    },
    {
      "cell_type": "markdown",
      "id": "156a87e1",
      "metadata": {
        "collapsed": false,
        "jupyter": {
          "outputs_hidden": false
        },
        "papermill": {
          "duration": 0.009459,
          "end_time": "2025-06-20T11:29:34.121991",
          "exception": false,
          "start_time": "2025-06-20T11:29:34.112532",
          "status": "completed"
        },
        "tags": []
      },
      "source": [
        "** Now use seaborn to create a countplot of the Day of Week column with the hue based off of the Reason column. **"
      ]
    },
    {
      "cell_type": "code",
      "execution_count": null,
      "id": "1a17c494",
      "metadata": {
        "collapsed": false,
        "execution": {
          "iopub.execute_input": "2025-06-20T11:29:34.143517Z",
          "iopub.status.busy": "2025-06-20T11:29:34.143215Z",
          "iopub.status.idle": "2025-06-20T11:29:34.547255Z",
          "shell.execute_reply": "2025-06-20T11:29:34.546265Z"
        },
        "jupyter": {
          "outputs_hidden": false
        },
        "papermill": {
          "duration": 0.417423,
          "end_time": "2025-06-20T11:29:34.548994",
          "exception": false,
          "start_time": "2025-06-20T11:29:34.131571",
          "status": "completed"
        },
        "tags": []
      },
      "outputs": [],
      "source": [
        "sns.countplot(x=\"Day of Week\", data=df, palette=\"viridis\", hue=\"Reason\")\n",
        "\n",
        "plt.legend(bbox_to_anchor=(1.05, 1), loc=2, borderaxespad=0.0)"
      ]
    },
    {
      "cell_type": "markdown",
      "id": "e2d6676b",
      "metadata": {
        "papermill": {
          "duration": 0.009962,
          "end_time": "2025-06-20T11:29:34.569333",
          "exception": false,
          "start_time": "2025-06-20T11:29:34.559371",
          "status": "completed"
        },
        "tags": []
      },
      "source": [
        "**Now do the same for Month:**"
      ]
    },
    {
      "cell_type": "code",
      "execution_count": null,
      "id": "6ba82831",
      "metadata": {
        "collapsed": false,
        "execution": {
          "iopub.execute_input": "2025-06-20T11:29:34.591952Z",
          "iopub.status.busy": "2025-06-20T11:29:34.591616Z",
          "iopub.status.idle": "2025-06-20T11:29:34.969889Z",
          "shell.execute_reply": "2025-06-20T11:29:34.968927Z"
        },
        "jupyter": {
          "outputs_hidden": false
        },
        "papermill": {
          "duration": 0.391745,
          "end_time": "2025-06-20T11:29:34.971559",
          "exception": false,
          "start_time": "2025-06-20T11:29:34.579814",
          "status": "completed"
        },
        "tags": []
      },
      "outputs": [],
      "source": [
        "sns.countplot(x=\"Month\", data=df, palette=\"viridis\", hue=\"Reason\")\n",
        "\n",
        "plt.legend(bbox_to_anchor=(1.05, 1), loc=2, borderaxespad=0.0)"
      ]
    },
    {
      "cell_type": "markdown",
      "id": "d33efb72",
      "metadata": {
        "papermill": {
          "duration": 0.010323,
          "end_time": "2025-06-20T11:29:34.993425",
          "exception": false,
          "start_time": "2025-06-20T11:29:34.983102",
          "status": "completed"
        },
        "tags": []
      },
      "source": [
        "**Did you notice something strange about the Plot?**\n",
        "\n",
        "_____\n",
        "\n",
        "** You should have noticed it was missing some Months, let's see if we can maybe fill in this information by plotting the information in another way, possibly a simple line plot that fills in the missing months, in order to do this, we'll need to do some work with pandas... **"
      ]
    },
    {
      "cell_type": "markdown",
      "id": "d23075f9",
      "metadata": {
        "papermill": {
          "duration": 0.010967,
          "end_time": "2025-06-20T11:29:35.015946",
          "exception": false,
          "start_time": "2025-06-20T11:29:35.004979",
          "status": "completed"
        },
        "tags": []
      },
      "source": [
        "** Now create a gropuby object called by Month, where you group the DataFrame by the month column and use the count() method for aggregation. Use the head() method on this returned DataFrame. **"
      ]
    },
    {
      "cell_type": "code",
      "execution_count": null,
      "id": "e74196cb",
      "metadata": {
        "collapsed": false,
        "jupyter": {
          "outputs_hidden": false
        },
        "papermill": {
          "duration": 0.010853,
          "end_time": "2025-06-20T11:29:35.03939",
          "exception": false,
          "start_time": "2025-06-20T11:29:35.028537",
          "status": "completed"
        },
        "tags": []
      },
      "outputs": [],
      "source": []
    },
    {
      "cell_type": "markdown",
      "id": "4d53dabf",
      "metadata": {
        "papermill": {
          "duration": 0.011413,
          "end_time": "2025-06-20T11:29:35.062152",
          "exception": false,
          "start_time": "2025-06-20T11:29:35.050739",
          "status": "completed"
        },
        "tags": []
      },
      "source": [
        "** Now create a simple plot off of the dataframe indicating the count of calls per month. **"
      ]
    },
    {
      "cell_type": "code",
      "execution_count": null,
      "id": "39739835",
      "metadata": {
        "collapsed": false,
        "jupyter": {
          "outputs_hidden": false
        },
        "papermill": {
          "duration": 0.010629,
          "end_time": "2025-06-20T11:29:35.083785",
          "exception": false,
          "start_time": "2025-06-20T11:29:35.073156",
          "status": "completed"
        },
        "tags": []
      },
      "outputs": [],
      "source": []
    },
    {
      "cell_type": "markdown",
      "id": "0b4be0bc",
      "metadata": {
        "papermill": {
          "duration": 0.011284,
          "end_time": "2025-06-20T11:29:35.10559",
          "exception": false,
          "start_time": "2025-06-20T11:29:35.094306",
          "status": "completed"
        },
        "tags": []
      },
      "source": [
        "** Now see if you can use seaborn's lmplot() to create a linear fit on the number of calls per month. Keep in mind you may need to reset the index to a column. **"
      ]
    },
    {
      "cell_type": "code",
      "execution_count": null,
      "id": "cdf9c813",
      "metadata": {
        "collapsed": false,
        "jupyter": {
          "outputs_hidden": false
        },
        "papermill": {
          "duration": 0.010514,
          "end_time": "2025-06-20T11:29:35.127011",
          "exception": false,
          "start_time": "2025-06-20T11:29:35.116497",
          "status": "completed"
        },
        "tags": []
      },
      "outputs": [],
      "source": []
    },
    {
      "cell_type": "markdown",
      "id": "33083f9c",
      "metadata": {
        "papermill": {
          "duration": 0.010794,
          "end_time": "2025-06-20T11:29:35.148367",
          "exception": false,
          "start_time": "2025-06-20T11:29:35.137573",
          "status": "completed"
        },
        "tags": []
      },
      "source": [
        "**Create a new column called 'Date' that contains the date from the timeStamp column. You'll need to use apply along with the .date() method. ** "
      ]
    },
    {
      "cell_type": "code",
      "execution_count": null,
      "id": "7cfe8856",
      "metadata": {
        "papermill": {
          "duration": 0.010567,
          "end_time": "2025-06-20T11:29:35.169965",
          "exception": false,
          "start_time": "2025-06-20T11:29:35.159398",
          "status": "completed"
        },
        "tags": []
      },
      "outputs": [],
      "source": []
    },
    {
      "cell_type": "markdown",
      "id": "82cb5014",
      "metadata": {
        "papermill": {
          "duration": 0.01021,
          "end_time": "2025-06-20T11:29:35.190819",
          "exception": false,
          "start_time": "2025-06-20T11:29:35.180609",
          "status": "completed"
        },
        "tags": []
      },
      "source": [
        "** Now groupby this Date column with the count() aggregate and create a plot of counts of 911 calls.**"
      ]
    },
    {
      "cell_type": "code",
      "execution_count": null,
      "id": "51397571",
      "metadata": {
        "collapsed": false,
        "jupyter": {
          "outputs_hidden": false
        },
        "papermill": {
          "duration": 0.011951,
          "end_time": "2025-06-20T11:29:35.213958",
          "exception": false,
          "start_time": "2025-06-20T11:29:35.202007",
          "status": "completed"
        },
        "tags": []
      },
      "outputs": [],
      "source": []
    },
    {
      "cell_type": "markdown",
      "id": "25f61e8f",
      "metadata": {
        "papermill": {
          "duration": 0.011919,
          "end_time": "2025-06-20T11:29:35.236477",
          "exception": false,
          "start_time": "2025-06-20T11:29:35.224558",
          "status": "completed"
        },
        "tags": []
      },
      "source": [
        "** Now recreate this plot but create 3 separate plots with each plot representing a Reason for the 911 call**"
      ]
    },
    {
      "cell_type": "code",
      "execution_count": null,
      "id": "f887fb16",
      "metadata": {
        "collapsed": false,
        "jupyter": {
          "outputs_hidden": false
        },
        "papermill": {
          "duration": 0.011191,
          "end_time": "2025-06-20T11:29:35.259194",
          "exception": false,
          "start_time": "2025-06-20T11:29:35.248003",
          "status": "completed"
        },
        "tags": []
      },
      "outputs": [],
      "source": []
    },
    {
      "cell_type": "code",
      "execution_count": null,
      "id": "c7f3e1df",
      "metadata": {
        "collapsed": false,
        "jupyter": {
          "outputs_hidden": false
        },
        "papermill": {
          "duration": 0.012123,
          "end_time": "2025-06-20T11:29:35.282219",
          "exception": false,
          "start_time": "2025-06-20T11:29:35.270096",
          "status": "completed"
        },
        "tags": []
      },
      "outputs": [],
      "source": []
    },
    {
      "cell_type": "code",
      "execution_count": null,
      "id": "0ddfff9c",
      "metadata": {
        "collapsed": false,
        "jupyter": {
          "outputs_hidden": false
        },
        "papermill": {
          "duration": 0.010508,
          "end_time": "2025-06-20T11:29:35.303721",
          "exception": false,
          "start_time": "2025-06-20T11:29:35.293213",
          "status": "completed"
        },
        "tags": []
      },
      "outputs": [],
      "source": []
    },
    {
      "cell_type": "markdown",
      "id": "a9e7c1ef",
      "metadata": {
        "collapsed": false,
        "jupyter": {
          "outputs_hidden": false
        },
        "papermill": {
          "duration": 0.011314,
          "end_time": "2025-06-20T11:29:35.325593",
          "exception": false,
          "start_time": "2025-06-20T11:29:35.314279",
          "status": "completed"
        },
        "tags": []
      },
      "source": [
        "____\n",
        "** Now let's move on to creating  heatmaps with seaborn and our data. We'll first need to restructure the dataframe so that the columns become the Hours and the Index becomes the Day of the Week. There are lots of ways to do this, but I would recommend trying to combine groupby with an [unstack](http://pandas.pydata.org/pandas-docs/stable/generated/pandas.DataFrame.unstack.html) method. Reference the solutions if you get stuck on this!**"
      ]
    },
    {
      "cell_type": "code",
      "execution_count": null,
      "id": "364a5027",
      "metadata": {
        "collapsed": false,
        "jupyter": {
          "outputs_hidden": false
        },
        "papermill": {
          "duration": 0.011097,
          "end_time": "2025-06-20T11:29:35.348269",
          "exception": false,
          "start_time": "2025-06-20T11:29:35.337172",
          "status": "completed"
        },
        "tags": []
      },
      "outputs": [],
      "source": []
    },
    {
      "cell_type": "markdown",
      "id": "59267015",
      "metadata": {
        "collapsed": false,
        "jupyter": {
          "outputs_hidden": false
        },
        "papermill": {
          "duration": 0.01065,
          "end_time": "2025-06-20T11:29:35.370093",
          "exception": false,
          "start_time": "2025-06-20T11:29:35.359443",
          "status": "completed"
        },
        "tags": []
      },
      "source": [
        "** Now create a HeatMap using this new DataFrame. **"
      ]
    },
    {
      "cell_type": "code",
      "execution_count": null,
      "id": "a7a3029d",
      "metadata": {
        "collapsed": false,
        "jupyter": {
          "outputs_hidden": false
        },
        "papermill": {
          "duration": 0.010344,
          "end_time": "2025-06-20T11:29:35.391437",
          "exception": false,
          "start_time": "2025-06-20T11:29:35.381093",
          "status": "completed"
        },
        "tags": []
      },
      "outputs": [],
      "source": []
    },
    {
      "cell_type": "markdown",
      "id": "a5819fca",
      "metadata": {
        "collapsed": false,
        "jupyter": {
          "outputs_hidden": false
        },
        "papermill": {
          "duration": 0.010221,
          "end_time": "2025-06-20T11:29:35.412381",
          "exception": false,
          "start_time": "2025-06-20T11:29:35.40216",
          "status": "completed"
        },
        "tags": []
      },
      "source": [
        "** Now create a clustermap using this DataFrame. **"
      ]
    },
    {
      "cell_type": "code",
      "execution_count": null,
      "id": "34973159",
      "metadata": {
        "collapsed": false,
        "jupyter": {
          "outputs_hidden": false
        },
        "papermill": {
          "duration": 0.010363,
          "end_time": "2025-06-20T11:29:35.433286",
          "exception": false,
          "start_time": "2025-06-20T11:29:35.422923",
          "status": "completed"
        },
        "tags": []
      },
      "outputs": [],
      "source": []
    },
    {
      "cell_type": "markdown",
      "id": "2616905b",
      "metadata": {
        "papermill": {
          "duration": 0.01065,
          "end_time": "2025-06-20T11:29:35.454584",
          "exception": false,
          "start_time": "2025-06-20T11:29:35.443934",
          "status": "completed"
        },
        "tags": []
      },
      "source": [
        "** Now repeat these same plots and operations, for a DataFrame that shows the Month as the column. **"
      ]
    },
    {
      "cell_type": "code",
      "execution_count": null,
      "id": "aa6cf3cb",
      "metadata": {
        "collapsed": false,
        "jupyter": {
          "outputs_hidden": false
        },
        "papermill": {
          "duration": 0.010316,
          "end_time": "2025-06-20T11:29:35.475529",
          "exception": false,
          "start_time": "2025-06-20T11:29:35.465213",
          "status": "completed"
        },
        "tags": []
      },
      "outputs": [],
      "source": []
    },
    {
      "cell_type": "code",
      "execution_count": null,
      "id": "a32fa7f0",
      "metadata": {
        "collapsed": false,
        "jupyter": {
          "outputs_hidden": false
        },
        "papermill": {
          "duration": 0.010169,
          "end_time": "2025-06-20T11:29:35.496294",
          "exception": false,
          "start_time": "2025-06-20T11:29:35.486125",
          "status": "completed"
        },
        "tags": []
      },
      "outputs": [],
      "source": []
    },
    {
      "cell_type": "code",
      "execution_count": null,
      "id": "5a874700",
      "metadata": {
        "collapsed": false,
        "jupyter": {
          "outputs_hidden": false
        },
        "papermill": {
          "duration": 0.01033,
          "end_time": "2025-06-20T11:29:35.517147",
          "exception": false,
          "start_time": "2025-06-20T11:29:35.506817",
          "status": "completed"
        },
        "tags": []
      },
      "outputs": [],
      "source": []
    },
    {
      "cell_type": "markdown",
      "id": "e5917044",
      "metadata": {
        "collapsed": true,
        "jupyter": {
          "outputs_hidden": true
        },
        "papermill": {
          "duration": 0.010273,
          "end_time": "2025-06-20T11:29:35.537974",
          "exception": false,
          "start_time": "2025-06-20T11:29:35.527701",
          "status": "completed"
        },
        "tags": []
      },
      "source": [
        "**Continue exploring the Data however you see fit!**\n",
        "# Great Job!"
      ]
    }
  ],
  "metadata": {
    "kaggle": {
      "accelerator": "none",
      "dataSources": [
        {
          "databundleVersionId": 12617473,
          "datasetId": 7609225,
          "sourceId": 12089784,
          "sourceType": "datasetVersion"
        },
        {
          "sourceId": 245964699,
          "sourceType": "kernelVersion"
        }
      ],
      "dockerImageVersionId": 31040,
      "isGpuEnabled": false,
      "isInternetEnabled": true,
      "language": "python",
      "sourceType": "notebook"
    },
    "kernelspec": {
      "display_name": "Python 3",
      "language": "python",
      "name": "python3"
    },
    "language_info": {
      "codemirror_mode": {
        "name": "ipython",
        "version": 3
      },
      "file_extension": ".py",
      "mimetype": "text/x-python",
      "name": "python",
      "nbconvert_exporter": "python",
      "pygments_lexer": "ipython3",
      "version": "3.11.11"
    },
    "papermill": {
      "default_parameters": {},
      "duration": 13.797748,
      "end_time": "2025-06-20T11:29:36.269355",
      "environment_variables": {},
      "exception": null,
      "input_path": "__notebook__.ipynb",
      "output_path": "__notebook__.ipynb",
      "parameters": {},
      "start_time": "2025-06-20T11:29:22.471607",
      "version": "2.6.0"
    }
  },
  "nbformat": 4,
  "nbformat_minor": 5
}
